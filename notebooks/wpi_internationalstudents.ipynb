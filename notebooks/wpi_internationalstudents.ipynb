{
 "cells": [
  {
   "cell_type": "markdown",
   "metadata": {},
   "source": [
    "## WPI International Students Exhibit 2022: Interactive Maps\n",
    "\n",
    "WPI Archives and Special Collections presents the digital map companion to WPI International Students Exhibit 2022. \n",
    "\n",
    "This Jupyter Notebook shares data manipulation work using biographical information from WPI's archives to present mapping visualizations. Exhibit maps include:\n",
    "\n",
    "1. [Map 1](#001): Home City and Country of WPI International Students (1876-1943)\n",
    "2. [Map 2](#002): Number of WPI International Students from Each Country (1876-1943)\n",
    "3. [Map 3](#003): Number of WPI International Students from Each Country by Year (1876-1943)\n",
    "\n",
    "*For more information, please contact Emily Ping O'Brien at epobrien@wpi.edu or archives@wpi.edu.*"
   ]
  },
  {
   "cell_type": "code",
   "execution_count": 1,
   "metadata": {},
   "outputs": [
    {
     "data": {
      "text/html": [
       "        <script type=\"text/javascript\">\n",
       "        window.PlotlyConfig = {MathJaxConfig: 'local'};\n",
       "        if (window.MathJax) {MathJax.Hub.Config({SVG: {font: \"STIX-Web\"}});}\n",
       "        if (typeof require !== 'undefined') {\n",
       "        require.undef(\"plotly\");\n",
       "        requirejs.config({\n",
       "            paths: {\n",
       "                'plotly': ['https://cdn.plot.ly/plotly-2.4.2.min']\n",
       "            }\n",
       "        });\n",
       "        require(['plotly'], function(Plotly) {\n",
       "            window._Plotly = Plotly;\n",
       "        });\n",
       "        }\n",
       "        </script>\n",
       "        "
      ]
     },
     "metadata": {},
     "output_type": "display_data"
    }
   ],
   "source": [
    "#import pandas for data analysis and manipulation\n",
    "#import python mapping libraries: plotly, plotly express, folium\n",
    "\n",
    "import plotly\n",
    "import plotly.express as px\n",
    "import pandas as pd\n",
    "from plotly.offline import init_notebook_mode\n",
    "import folium\n",
    "\n",
    "init_notebook_mode(connected = True)"
   ]
  },
  {
   "cell_type": "code",
   "execution_count": 2,
   "metadata": {},
   "outputs": [
    {
     "name": "stdout",
     "output_type": "stream",
     "text": [
      "['Huang, Chen S.' 'China' 'China' 'nan' 'nan' 'China' 35.8617 104.1954\n",
      " 1910.0]\n",
      "                      sname                      home1     country1  \\\n",
      "0    Abadjieff, Ivan Varban     T. Pazordjik, Bulgaria     Bulgaria   \n",
      "1         Aguirre, Frank M.           Cienfuegos, Cuba         Cuba   \n",
      "2        Ajemian, Shahin A.                    Armenia      Armenia   \n",
      "3         Alfonso, Fernando                   Colombia     Colombia   \n",
      "4            Allen, Kenneth      Yarmouth, Nova Scotia       Canada   \n",
      "..                      ...                        ...          ...   \n",
      "183      Yrigoyen, Juan I.   Guatemala City, Guatemala    Guatemala   \n",
      "184  Yuan, Harold Hsiang-Ho   Tang Shan, Chihli, China        China   \n",
      "185       Yuan, Tsong-Kyien            Hangchow, China        China   \n",
      "186              Yuan, Tung              Peking, China        China   \n",
      "187     Zaragoza, Jose Luis        Manila, Philippines  Philippines   \n",
      "\n",
      "          clat        clong           home2       hlat       hlong  classof  \n",
      "0    42.733883     25.48583      Pazardzhik  42.200000   24.333000   1928.0  \n",
      "1    21.521757   -77.781167      Cienfuegos  22.144448  -80.440294   1909.0  \n",
      "2    40.069099    45.038189         Armenia  40.069100   45.038200   1917.0  \n",
      "3     4.570868   -74.297333        Colombia   4.570900  -74.297300   1941.0  \n",
      "4    56.130366  -106.346771        Yarmouth  43.836111  -66.117500   1911.0  \n",
      "..         ...          ...             ...        ...         ...      ...  \n",
      "183  15.783471   -90.230759  Guatemala City  14.613333  -90.535278   1900.0  \n",
      "184   35.86166   104.195397        Tangshan  39.600000  118.176111      NaN  \n",
      "185   35.86166   104.195397        Hangzhou  30.250000  120.166667   1914.0  \n",
      "186   35.86166   104.195397         Beijing  53.456200   -7.493400   1924.0  \n",
      "187  12.879721   121.774017          Manila  14.582259  120.974804   1943.0  \n",
      "\n",
      "[188 rows x 9 columns]\n"
     ]
    }
   ],
   "source": [
    "#read file containing information on WPI International students from 1876-1943\n",
    "#isdf = pd.read_excel('../data/wpiintlstudentsmap2.xlsx')\n",
    "isdf = pd.read_excel('wpiintlstudentsmap2.xlsx')\n",
    "\n",
    "#convert country latitude & longitude, name values as strings\n",
    "isdf['clat'] = isdf['clat'].astype(str)\n",
    "isdf['clong'] = isdf['clong'].astype(str)\n",
    "isdf['country1'] = isdf['country1'].astype(str)\n",
    "\n",
    "#rename class column to classof because class is already a term python uses\n",
    "isdf = isdf.rename(columns={'class':'classof'})\n",
    "\n",
    "print(isdf.values[69])\n",
    "print(isdf)"
   ]
  },
  {
   "cell_type": "markdown",
   "metadata": {},
   "source": [
    "<a id=\"001\"></a>"
   ]
  },
  {
   "cell_type": "code",
   "execution_count": 12,
   "metadata": {},
   "outputs": [
    {
     "data": {
      "application/vnd.plotly.v1+json": {
       "config": {
        "plotlyServerURL": "https://plot.ly"
       },
       "data": [
        {
         "customdata": [
          [
           "T. Pazordjik, Bulgaria",
           "1928"
          ],
          [
           "River John, Nova Scotia",
           "1928"
          ],
          [
           "Russia",
           "1928"
          ]
         ],
         "geo": "geo",
         "hovertemplate": "<b>%{hovertext}</b><br><br>Class of=%{customdata[1]}<br>Latitude=%{lat}<br>Longitude=%{lon}<br>Country=%{customdata[0]}<extra></extra>",
         "hovertext": [
          "Abadjieff, Ivan Varban",
          "MacNabb, James Austin",
          "Samoylenko, Gregory John"
         ],
         "lat": [
          42.2,
          45.751548,
          61.524
         ],
         "legendgroup": "1928",
         "lon": [
          24.333,
          -63.0589655,
          105.3188
         ],
         "marker": {
          "color": "#636efa",
          "symbol": "circle"
         },
         "mode": "markers",
         "name": "1928",
         "showlegend": true,
         "type": "scattergeo"
        },
        {
         "customdata": [
          [
           "Cienfuegos, Cuba",
           "1909"
          ],
          [
           "Castledown, Ireland",
           "1909"
          ],
          [
           "Winnipeg, Manitoba",
           "1909"
          ],
          [
           "Comitan, Mexico",
           "1909"
          ],
          [
           "Hanstsport, Nova Scotia",
           "1909"
          ],
          [
           "Owari, Japan",
           "1909"
          ]
         ],
         "geo": "geo",
         "hovertemplate": "<b>%{hovertext}</b><br><br>Class of=%{customdata[1]}<br>Latitude=%{lat}<br>Longitude=%{lon}<br>Country=%{customdata[0]}<extra></extra>",
         "hovertext": [
          "Aguirre, Frank M.",
          "Murphy, Patrick J.",
          "Riley, Harold",
          "Rovelo, Jose",
          "Walley, Percy B.",
          "Yamada, Yoshiho"
         ],
         "lat": [
          22.1444481,
          53.4562,
          49.899444,
          16.252461,
          45.066667,
          35.1802
         ],
         "legendgroup": "1909",
         "lon": [
          -80.4402944,
          -7.4934,
          -97.139167,
          -92.135835,
          -64.183333,
          136.9066
         ],
         "marker": {
          "color": "#EF553B",
          "symbol": "circle"
         },
         "mode": "markers",
         "name": "1909",
         "showlegend": true,
         "type": "scattergeo"
        },
        {
         "customdata": [
          [
           "Armenia",
           "1917"
          ],
          [
           "Canton, China",
           "1917"
          ],
          [
           "San Jose, Costa Rica",
           "1917"
          ],
          [
           "Rangoon, Burma",
           "1917"
          ],
          [
           "Hong Kong, China",
           "1917"
          ],
          [
           "Harpoot, Turkey",
           "1917"
          ]
         ],
         "geo": "geo",
         "hovertemplate": "<b>%{hovertext}</b><br><br>Class of=%{customdata[1]}<br>Latitude=%{lat}<br>Longitude=%{lon}<br>Country=%{customdata[0]}<extra></extra>",
         "hovertext": [
          "Ajemian, Shahin A.",
          "Fung, Wai",
          "Hanckel, Robert C.",
          "Huie, Yuen K.",
          "Mok, Kai Yan",
          "Tenekejian, Zaven N."
         ],
         "lat": [
          40.0691,
          23.1290798,
          9.909576,
          16.8,
          22.3964,
          38.666667
         ],
         "legendgroup": "1917",
         "lon": [
          45.0382,
          113.2643585,
          -84.05406,
          96.15,
          114.1095,
          39.216667
         ],
         "marker": {
          "color": "#00cc96",
          "symbol": "circle"
         },
         "mode": "markers",
         "name": "1917",
         "showlegend": true,
         "type": "scattergeo"
        },
        {
         "customdata": [
          [
           "Colombia",
           "1941"
          ],
          [
           "Mahr, Ostrau, Czechoslavakia",
           "1941"
          ],
          [
           "Fort Clayton, Canal Zone",
           "1941"
          ],
          [
           "San Juan, Puerto Rico",
           "1941"
          ]
         ],
         "geo": "geo",
         "hovertemplate": "<b>%{hovertext}</b><br><br>Class of=%{customdata[1]}<br>Latitude=%{lat}<br>Longitude=%{lon}<br>Country=%{customdata[0]}<extra></extra>",
         "hovertext": [
          "Alfonso, Fernando",
          "Coontz, Gustaf",
          "McMurray, Clarence McCain, Jr.",
          "Totti, Etienne, Jr."
         ],
         "lat": [
          4.5709,
          49.840794,
          8.538,
          18.451522
         ],
         "legendgroup": "1941",
         "lon": [
          -74.2973,
          18.2908836,
          -80.7821,
          -66.069481
         ],
         "marker": {
          "color": "#ab63fa",
          "symbol": "circle"
         },
         "mode": "markers",
         "name": "1941",
         "showlegend": true,
         "type": "scattergeo"
        },
        {
         "customdata": [
          [
           "Yarmouth, Nova Scotia",
           "1911"
          ],
          [
           "Anhin, China",
           "1911"
          ],
          [
           "Sivas, Turkey",
           "1911"
          ],
          [
           "Yauco, Puerto Rico",
           "1911"
          ],
          [
           "Yauco, Puerto Rico",
           "1911"
          ]
         ],
         "geo": "geo",
         "hovertemplate": "<b>%{hovertext}</b><br><br>Class of=%{customdata[1]}<br>Latitude=%{lat}<br>Longitude=%{lon}<br>Country=%{customdata[0]}<extra></extra>",
         "hovertext": [
          "Allen, Kenneth",
          "Chin, Yu-shu",
          "Paelian, Garabed H.",
          "Totti, Etienne",
          "Totti, Noel"
         ],
         "lat": [
          43.836111,
          35.8617,
          39.75,
          18.036944,
          18.036944
         ],
         "legendgroup": "1911",
         "lon": [
          -66.1175,
          104.1954,
          37.016667,
          -66.850278,
          -66.850278
         ],
         "marker": {
          "color": "#FFA15A",
          "symbol": "circle"
         },
         "mode": "markers",
         "name": "1911",
         "showlegend": true,
         "type": "scattergeo"
        },
        {
         "customdata": [
          [
           "Yarmouth, Nova Scotia",
           "1894"
          ],
          [
           "Rio Janeiro, Brazil",
           "1894"
          ],
          [
           "St. Johns, New Foundland",
           "1894"
          ],
          [
           "Yarmouth, Nova Scotia",
           "1894"
          ],
          [
           "Yarmouth, Nova Scotia",
           "1894"
          ]
         ],
         "geo": "geo",
         "hovertemplate": "<b>%{hovertext}</b><br><br>Class of=%{customdata[1]}<br>Latitude=%{lat}<br>Longitude=%{lon}<br>Country=%{customdata[0]}<extra></extra>",
         "hovertext": [
          "Allen, M. Clifford",
          "Da Cruz, Henrique B.",
          "Howland, Lewis A.",
          "Killam, Frank E.",
          "Killam, Leslie"
         ],
         "lat": [
          43.836111,
          -22.9014475,
          47.5675,
          43.836111,
          43.836111
         ],
         "legendgroup": "1894",
         "lon": [
          -66.1175,
          -43.1789159,
          -52.707222,
          -66.1175,
          -66.1175
         ],
         "marker": {
          "color": "#19d3f3",
          "symbol": "circle"
         },
         "mode": "markers",
         "name": "1894",
         "showlegend": true,
         "type": "scattergeo"
        },
        {
         "customdata": [
          [
           "Stockholm, Sweden",
           "1921"
          ],
          [
           "Chili",
           "1921"
          ],
          [
           "Chili, China",
           "1921"
          ],
          [
           "Berlin, Germany",
           "1921"
          ],
          [
           "Curytiba, Parana, Brazil",
           "1921"
          ],
          [
           "Truro, Nova Scotia",
           "1921"
          ],
          [
           "Autofagasta, Chile",
           "1921"
          ],
          [
           "Nogent sur Marne, France",
           "1921"
          ]
         ],
         "geo": "geo",
         "hovertemplate": "<b>%{hovertext}</b><br><br>Class of=%{customdata[1]}<br>Latitude=%{lat}<br>Longitude=%{lon}<br>Country=%{customdata[0]}<extra></extra>",
         "hovertext": [
          "Anderson, Hans Enar",
          "Besa, Hernan",
          "Chang, Lan Ko",
          "Fisher, Edward John",
          "Pereira, Ricardo Gonsalves",
          "Russell, Alan Woodworth",
          "Stevenson, William Orick Jr.",
          "Will, Irving Martin"
         ],
         "lat": [
          59.329444,
          35.6751,
          38.0371,
          52.5243,
          -25.4283563,
          45.364722,
          -23.6266015,
          48.8375
         ],
         "legendgroup": "1921",
         "lon": [
          18.068611,
          -71.543,
          114.4687,
          13.4063,
          -49.2732515,
          -63.28,
          -70.390128,
          2.4833
         ],
         "marker": {
          "color": "#FF6692",
          "symbol": "circle"
         },
         "mode": "markers",
         "name": "1921",
         "showlegend": true,
         "type": "scattergeo"
        },
        {
         "customdata": [
          [
           "Cavalla, Greece",
           "1918"
          ],
          [
           "Canal Zone, Panama",
           "1918"
          ],
          [
           "Havana, Cuba",
           "1918"
          ],
          [
           "Hong Kong, China",
           "1918"
          ],
          [
           "Fungtien, China",
           "1918"
          ],
          [
           "Shantung, China",
           "1918"
          ]
         ],
         "geo": "geo",
         "hovertemplate": "<b>%{hovertext}</b><br><br>Class of=%{customdata[1]}<br>Latitude=%{lat}<br>Longitude=%{lon}<br>Country=%{customdata[0]}<extra></extra>",
         "hovertext": [
          "Apostolou, James",
          "Barber, Frederick Gordon",
          "Garcia, Jose Manuel",
          "Kwong, Eugene Faimont",
          "Lu, Ching Kui",
          "Ma, Shan-pao"
         ],
         "lat": [
          40.936499,
          8.538,
          23.0541,
          22.3964,
          41.8354,
          36.6686
         ],
         "legendgroup": "1918",
         "lon": [
          24.409477,
          -80.7821,
          -82.3452,
          114.1095,
          123.4294,
          117.0204
         ],
         "marker": {
          "color": "#B6E880",
          "symbol": "circle"
         },
         "mode": "markers",
         "name": "1918",
         "showlegend": true,
         "type": "scattergeo"
        },
        {
         "customdata": [
          [
           "Tel Aviv, Palestine",
           "1932"
          ],
          [
           "Rhodes Island, Greece",
           "1932"
          ],
          [
           "Guatemala City, Guatemala",
           "1932"
          ],
          [
           "Canton, China",
           "1932"
          ],
          [
           "Macedonia",
           "1932"
          ],
          [
           " Winnipeg, Canada",
           "1932"
          ],
          [
           "England",
           "1932"
          ],
          [
           "Krasnodar, Russia",
           "1932"
          ],
          [
           "Grand Mere, Quebec",
           "1932"
          ]
         ],
         "geo": "geo",
         "hovertemplate": "<b>%{hovertext}</b><br><br>Class of=%{customdata[1]}<br>Latitude=%{lat}<br>Longitude=%{lon}<br>Country=%{customdata[0]}<extra></extra>",
         "hovertext": [
          "Aronov, Eliezer",
          "Athanasiades, Emanuel Stylianos",
          "Herrarte, Benjamin Lopez",
          "Lee, Chock H.",
          "Nizanoff, John",
          "Perry, Edmund Alexander",
          "Porteus, John Horton",
          "Skuropat, Leon Deomidovitch",
          "Wardle, Harry Marsden"
         ],
         "lat": [
          32.136871,
          36.167,
          14.613333,
          23.1290798,
          41.608635,
          49.899444,
          55.378051,
          45.033333,
          46.612837
         ],
         "legendgroup": "1932",
         "lon": [
          34.796277,
          28,
          -90.535278,
          113.2643585,
          21.745275,
          -97.139167,
          -3.435973,
          38.966667,
          -72.694855
         ],
         "marker": {
          "color": "#FF97FF",
          "symbol": "circle"
         },
         "mode": "markers",
         "name": "1932",
         "showlegend": true,
         "type": "scattergeo"
        },
        {
         "customdata": [
          [
           "Largs Bay, Australia",
           "1907"
          ],
          [
           "Melbourne, Australia",
           "1907"
          ],
          [
           "Cardenas, Cuba",
           "1907"
          ],
          [
           "Progreso, Mexico",
           "1907"
          ]
         ],
         "geo": "geo",
         "hovertemplate": "<b>%{hovertext}</b><br><br>Class of=%{customdata[1]}<br>Latitude=%{lat}<br>Longitude=%{lon}<br>Country=%{customdata[0]}<extra></extra>",
         "hovertext": [
          "Bagot, Christopher G.S.",
          "Clapp, Leroy P.",
          "Labrit, Alberto",
          "Rosado, Felix Alonso"
         ],
         "lat": [
          -34.8259784,
          -37.8136,
          23.0387663,
          21.2820788
         ],
         "legendgroup": "1907",
         "lon": [
          138.4878944,
          144.9631,
          -81.205828,
          -89.6633118
         ],
         "marker": {
          "color": "#FECB52",
          "symbol": "circle"
         },
         "mode": "markers",
         "name": "1907",
         "showlegend": true,
         "type": "scattergeo"
        },
        {
         "customdata": [
          [
           "Balboa Heights, Canal Zone",
           "1938"
          ]
         ],
         "geo": "geo",
         "hovertemplate": "<b>%{hovertext}</b><br><br>Class of=%{customdata[1]}<br>Latitude=%{lat}<br>Longitude=%{lon}<br>Country=%{customdata[0]}<extra></extra>",
         "hovertext": [
          "Banan Frederick B. Jr. "
         ],
         "lat": [
          8.95
         ],
         "legendgroup": "1938",
         "lon": [
          -79.55
         ],
         "marker": {
          "color": "#636efa",
          "symbol": "circle"
         },
         "mode": "markers",
         "name": "1938",
         "showlegend": true,
         "type": "scattergeo"
        },
        {
         "customdata": [
          [
           "Petrograd, Russia",
           "1927"
          ],
          [
           "Hong Kong, China",
           "1927"
          ],
          [
           "River John, Nova Scotia",
           "1927"
          ]
         ],
         "geo": "geo",
         "hovertemplate": "<b>%{hovertext}</b><br><br>Class of=%{customdata[1]}<br>Latitude=%{lat}<br>Longitude=%{lon}<br>Country=%{customdata[0]}<extra></extra>",
         "hovertext": [
          "Boubnoff, Nicholas A.",
          "Chow, Yat Wo",
          "MacLennan, Charles"
         ],
         "lat": [
          59.9311,
          22.3964,
          45.751548
         ],
         "legendgroup": "1927",
         "lon": [
          30.3609,
          114.1095,
          -63.0589655
         ],
         "marker": {
          "color": "#EF553B",
          "symbol": "circle"
         },
         "mode": "markers",
         "name": "1927",
         "showlegend": true,
         "type": "scattergeo"
        },
        {
         "customdata": [
          [
           "Paris, France",
           "1926"
          ],
          [
           "Haifa, Palestine",
           "1926"
          ],
          [
           "Coruna, Spain",
           "1926"
          ]
         ],
         "geo": "geo",
         "hovertemplate": "<b>%{hovertext}</b><br><br>Class of=%{customdata[1]}<br>Latitude=%{lat}<br>Longitude=%{lon}<br>Country=%{customdata[0]}<extra></extra>",
         "hovertext": [
          "Brown, Francis Lestrade",
          "Kurkjian, Vahan Boghos",
          "Rey, Pedro"
         ],
         "lat": [
          48.856895,
          32.817285,
          43.365
         ],
         "legendgroup": "1926",
         "lon": [
          2.3508487,
          34.988765,
          -8.41
         ],
         "marker": {
          "color": "#00cc96",
          "symbol": "circle"
         },
         "mode": "markers",
         "name": "1926",
         "showlegend": true,
         "type": "scattergeo"
        },
        {
         "customdata": [
          [
           "Montivideo, Uruguay",
           "1924"
          ],
          [
           "Soerabaya, Java",
           "1924"
          ],
          [
           "Peking, China",
           "1924"
          ],
          [
           "Sweden",
           "1924"
          ],
          [
           "Montivideo, Uruguay",
           "1924"
          ],
          [
           "Peking, China",
           "1924"
          ]
         ],
         "geo": "geo",
         "hovertemplate": "<b>%{hovertext}</b><br><br>Class of=%{customdata[1]}<br>Latitude=%{lat}<br>Longitude=%{lon}<br>Country=%{customdata[0]}<extra></extra>",
         "hovertext": [
          "Camps, Antonio Bernardo",
          "Han, Soen Lok",
          "Sah, Peter Pen Otieh",
          "Sundvall, Frithiof Ludvig",
          "Vera, Angel",
          "Yuan, Tung"
         ],
         "lat": [
          -34.883611,
          -7.243256,
          39.904,
          60.1282,
          -34.883611,
          53.4562
         ],
         "legendgroup": "1924",
         "lon": [
          -56.181944,
          112.741376,
          116.4075,
          18.6435,
          -56.181944,
          -7.4934
         ],
         "marker": {
          "color": "#ab63fa",
          "symbol": "circle"
         },
         "mode": "markers",
         "name": "1924",
         "showlegend": true,
         "type": "scattergeo"
        },
        {
         "customdata": [
          [
           "La Rioja, Argentina",
           "1912"
          ],
          [
           "Mayaguez, Puerto Rico",
           "1912"
          ]
         ],
         "geo": "geo",
         "hovertemplate": "<b>%{hovertext}</b><br><br>Class of=%{customdata[1]}<br>Latitude=%{lat}<br>Longitude=%{lon}<br>Country=%{customdata[0]}<extra></extra>",
         "hovertext": [
          "Capdevila, Pedro M.",
          "Velez, Raphael V. "
         ],
         "lat": [
          -29.4101933,
          18.201111
         ],
         "legendgroup": "1912",
         "lon": [
          -66.829414,
          -67.139722
         ],
         "marker": {
          "color": "#FFA15A",
          "symbol": "circle"
         },
         "mode": "markers",
         "name": "1912",
         "showlegend": true,
         "type": "scattergeo"
        },
        {
         "customdata": [
          [
           "Christiania, Norway",
           "1925"
          ],
          [
           "Peking, China",
           "1925"
          ],
          [
           "Frost Village, Quebec",
           "1925"
          ],
          [
           "Russia",
           "1925"
          ],
          [
           "Kroken, Sweden",
           "1925"
          ],
          [
           "Kroken, Sweden",
           "1925"
          ],
          [
           "Tokyo, Japan",
           "1925"
          ],
          [
           "Russia",
           "1925"
          ],
          [
           "Vienna, Austria",
           "1925"
          ],
          [
           "New Glasgow, Nova Scotia",
           "1925"
          ],
          [
           "Landskiona, Sweden",
           "1925"
          ]
         ],
         "geo": "geo",
         "hovertemplate": "<b>%{hovertext}</b><br><br>Class of=%{customdata[1]}<br>Latitude=%{lat}<br>Longitude=%{lon}<br>Country=%{customdata[0]}<extra></extra>",
         "hovertext": [
          "Carlstom, Carl Fredrik",
          "Chou, Tzu-hsu",
          "Eastman, Harold Lewis",
          "Friedman, Hyman Julius",
          "Hansen, Harold",
          "Hansen, Odd Arnold",
          "Matsuo, Kenzo",
          "Rosenbloom, Abraham",
          "Stich, Otto Albert",
          "Underwood, Louis Ivan",
          "Winckler, Gunnar Frederick"
         ],
         "lat": [
          59.9139,
          39.9042,
          52.9399,
          61.524,
          69.6869335,
          69.6869335,
          35.6895,
          61.524,
          48.2082,
          45.5892169,
          55.866667
         ],
         "legendgroup": "1925",
         "lon": [
          10.7522,
          116.4074,
          -73.5491,
          105.3188,
          19.076945,
          19.076945,
          139.6917,
          105.3188,
          16.3738,
          -62.6437054,
          12.833333
         ],
         "marker": {
          "color": "#19d3f3",
          "symbol": "circle"
         },
         "mode": "markers",
         "name": "1925",
         "showlegend": true,
         "type": "scattergeo"
        },
        {
         "customdata": [
          [
           "Melbourne, Australia",
           "1906"
          ],
          [
           "Vesteras, Sweden",
           "1906"
          ],
          [
           "Puerto Principe, Cuba",
           "1906"
          ],
          [
           "San Juan, Puerto Rico",
           "1906"
          ],
          [
           "Killarney, Ireland",
           "1906"
          ],
          [
           "Victoria, Australia",
           "1906"
          ]
         ],
         "geo": "geo",
         "hovertemplate": "<b>%{hovertext}</b><br><br>Class of=%{customdata[1]}<br>Latitude=%{lat}<br>Longitude=%{lon}<br>Country=%{customdata[0]}<extra></extra>",
         "hovertext": [
          "Cave, Jordayne D.",
          "Forsstedt, Ralph S.",
          "Rodriguez, Benito A.",
          "Romen, Rafael M. ",
          "Sheehan, Michael J.",
          "Staughton, Lance W."
         ],
         "lat": [
          -37.813611,
          59.6164759,
          21.383889,
          18.451522,
          52.0588,
          -36.5588
         ],
         "legendgroup": "1906",
         "lon": [
          144.963056,
          16.5513616,
          -77.9075,
          -66.069481,
          -9.5072,
          145.469
         ],
         "marker": {
          "color": "#FF6692",
          "symbol": "circle"
         },
         "mode": "markers",
         "name": "1906",
         "showlegend": true,
         "type": "scattergeo"
        },
        {
         "customdata": [
          [
           "Calcutta, India",
           "1931"
          ],
          [
           "Calcutta, India",
           "1931"
          ],
          [
           "Granby, Quebec",
           "1931"
          ],
          [
           "Bangkok, Siam",
           "1931"
          ]
         ],
         "geo": "geo",
         "hovertemplate": "<b>%{hovertext}</b><br><br>Class of=%{customdata[1]}<br>Latitude=%{lat}<br>Longitude=%{lon}<br>Country=%{customdata[0]}<extra></extra>",
         "hovertext": [
          "Chakrabarthy, Monmatha Nath",
          "Chakravarti, Sudhir Kumar",
          "Dunn, Leonard Gill",
          "Leibovitch, Abram"
         ],
         "lat": [
          22.5655734,
          22.5655734,
          45.398468,
          13.7563
         ],
         "legendgroup": "1931",
         "lon": [
          88.3702152,
          88.3702152,
          -72.723111,
          100.5018
         ],
         "marker": {
          "color": "#B6E880",
          "symbol": "circle"
         },
         "mode": "markers",
         "name": "1931",
         "showlegend": true,
         "type": "scattergeo"
        },
        {
         "customdata": [
          [
           "Shanghai, China",
           "1916"
          ],
          [
           "Brazil",
           "1916"
          ],
          [
           "Oriente, Cuba",
           "1916"
          ],
          [
           "Canton, China",
           "1916"
          ]
         ],
         "geo": "geo",
         "hovertemplate": "<b>%{hovertext}</b><br><br>Class of=%{customdata[1]}<br>Latitude=%{lat}<br>Longitude=%{lon}<br>Country=%{customdata[0]}<extra></extra>",
         "hovertext": [
          "Chan, Ernest Bing",
          "Junqueira, Joaquim d.k.",
          "Sanchez, Federico Guillermo",
          "Wong, Dick"
         ],
         "lat": [
          31.2304,
          -14.235,
          21.5218,
          23.1290798
         ],
         "legendgroup": "1916",
         "lon": [
          121.4737,
          -51.9253,
          -77.7812,
          113.2643585
         ],
         "marker": {
          "color": "#FF97FF",
          "symbol": "circle"
         },
         "mode": "markers",
         "name": "1916",
         "showlegend": true,
         "type": "scattergeo"
        },
        {
         "customdata": [
          [
           "Soochow, China",
           "1923"
          ],
          [
           "Larino, Province of Campobasso, Italy",
           "1923"
          ],
          [
           "Russia",
           "1923"
          ],
          [
           "Indramajoe, Java",
           "1923"
          ],
          [
           "Peking, China",
           "1923"
          ]
         ],
         "geo": "geo",
         "hovertemplate": "<b>%{hovertext}</b><br><br>Class of=%{customdata[1]}<br>Latitude=%{lat}<br>Longitude=%{lon}<br>Country=%{customdata[0]}<extra></extra>",
         "hovertext": [
          "Chen Sarcey San-Tsai",
          "Greco, Aldo Pardo",
          "Hurowitz, Max",
          "See, Woon-how",
          "Tsui, John Hsuch Han"
         ],
         "lat": [
          31.3,
          41.8071274,
          61.524,
          -6.3776,
          53.4562
         ],
         "legendgroup": "1923",
         "lon": [
          120.6,
          14.9192394,
          105.3188,
          108.3865,
          -7.4934
         ],
         "marker": {
          "color": "#FECB52",
          "symbol": "circle"
         },
         "mode": "markers",
         "name": "1923",
         "showlegend": true,
         "type": "scattergeo"
        },
        {
         "customdata": [
          [
           "Fong Chow, China",
           "1922"
          ],
          [
           "Songdo, Korea",
           "1922"
          ],
          [
           "Bogata, Columbia",
           "1922"
          ],
          [
           "Syndey, Nova Scotia",
           "1922"
          ]
         ],
         "geo": "geo",
         "hovertemplate": "<b>%{hovertext}</b><br><br>Class of=%{customdata[1]}<br>Latitude=%{lat}<br>Longitude=%{lon}<br>Country=%{customdata[0]}<extra></extra>",
         "hovertext": [
          "Chen, Li",
          "Ko, Chaong Myung",
          "Reyes, Joaquin",
          "Rice, Milton Jerome"
         ],
         "lat": [
          35.8617,
          37.388889,
          4.5981,
          46.1380869
         ],
         "legendgroup": "1922",
         "lon": [
          104.1954,
          126.652222,
          -74.07583,
          -60.1946735
         ],
         "marker": {
          "color": "#636efa",
          "symbol": "circle"
         },
         "mode": "markers",
         "name": "1922",
         "showlegend": true,
         "type": "scattergeo"
        },
        {
         "customdata": [
          [
           "Canton, China",
           "1920"
          ],
          [
           "Damascus, Syria",
           "1920"
          ],
          [
           "Fuchow, China",
           "1920"
          ],
          [
           "Kwangtung, China",
           "1920"
          ],
          [
           "Shanghai, China",
           "1920"
          ],
          [
           "Kashing, Chekiang, China",
           "1920"
          ]
         ],
         "geo": "geo",
         "hovertemplate": "<b>%{hovertext}</b><br><br>Class of=%{customdata[1]}<br>Latitude=%{lat}<br>Longitude=%{lon}<br>Country=%{customdata[0]}<extra></extra>",
         "hovertext": [
          "Ching, Yao-Chuo",
          "Gammal, Charles Abraham",
          "Lu, Wen Siang",
          "Tan, Shao-fan",
          "Tsen, Yeo Kung",
          "Tsu, Feng Chang"
         ],
         "lat": [
          23.1290798,
          33.5019799,
          26.076111,
          23.1322,
          31.2304,
          30.766667
         ],
         "legendgroup": "1920",
         "lon": [
          113.2643585,
          36.29805,
          119.306389,
          113.2665,
          121.4737,
          120.75
         ],
         "marker": {
          "color": "#EF553B",
          "symbol": "circle"
         },
         "mode": "markers",
         "name": "1920",
         "showlegend": true,
         "type": "scattergeo"
        },
        {
         "customdata": [
          [
           "Shanghai, China",
           "1942"
          ],
          [
           "Ponce, Puerto Rico",
           "1942"
          ]
         ],
         "geo": "geo",
         "hovertemplate": "<b>%{hovertext}</b><br><br>Class of=%{customdata[1]}<br>Latitude=%{lat}<br>Longitude=%{lon}<br>Country=%{customdata[0]}<extra></extra>",
         "hovertext": [
          "Chu, Morris Chun-Chia",
          "Totti, Noel, Jr. "
         ],
         "lat": [
          31.2304,
          18.0126282
         ],
         "legendgroup": "1942",
         "lon": [
          121.4737,
          -66.6260381
         ],
         "marker": {
          "color": "#00cc96",
          "symbol": "circle"
         },
         "mode": "markers",
         "name": "1942",
         "showlegend": true,
         "type": "scattergeo"
        },
        {
         "customdata": [
          [
           "Victoria, Australia",
           "1905"
          ],
          [
           "Merida, Mexico",
           "1905"
          ],
          [
           "St. John, New Brunswick",
           "1905"
          ]
         ],
         "geo": "geo",
         "hovertemplate": "<b>%{hovertext}</b><br><br>Class of=%{customdata[1]}<br>Latitude=%{lat}<br>Longitude=%{lon}<br>Country=%{customdata[0]}<extra></extra>",
         "hovertext": [
          "Clapp, F. Boardman Jr.",
          "Rosado, Manuel G.",
          "Stone, J. Waldo"
         ],
         "lat": [
          -36.5588,
          20.9677756,
          45.2796
         ],
         "legendgroup": "1905",
         "lon": [
          145.469,
          -89.6242631,
          -66.0628
         ],
         "marker": {
          "color": "#ab63fa",
          "symbol": "circle"
         },
         "mode": "markers",
         "name": "1905",
         "showlegend": true,
         "type": "scattergeo"
        },
        {
         "customdata": [
          [
           "Danville, Quebec",
           "1884"
          ],
          [
           "Hong Kong, China",
           "1884"
          ]
         ],
         "geo": "geo",
         "hovertemplate": "<b>%{hovertext}</b><br><br>Class of=%{customdata[1]}<br>Latitude=%{lat}<br>Longitude=%{lon}<br>Country=%{customdata[0]}<extra></extra>",
         "hovertext": [
          "Cleveland, Richard C.",
          "Wan, Bing Chung"
         ],
         "lat": [
          45.785197,
          22.3964
         ],
         "legendgroup": "1884",
         "lon": [
          -72.014245,
          114.1095
         ],
         "marker": {
          "color": "#FFA15A",
          "symbol": "circle"
         },
         "mode": "markers",
         "name": "1884",
         "showlegend": true,
         "type": "scattergeo"
        },
        {
         "customdata": [
          [
           "Pymble, Australia",
           "1908"
          ]
         ],
         "geo": "geo",
         "hovertemplate": "<b>%{hovertext}</b><br><br>Class of=%{customdata[1]}<br>Latitude=%{lat}<br>Longitude=%{lon}<br>Country=%{customdata[0]}<extra></extra>",
         "hovertext": [
          "Cobb, Victor"
         ],
         "lat": [
          -33.76313
         ],
         "legendgroup": "1908",
         "lon": [
          151.13481
         ],
         "marker": {
          "color": "#19d3f3",
          "symbol": "circle"
         },
         "mode": "markers",
         "name": "1908",
         "showlegend": true,
         "type": "scattergeo"
        },
        {
         "customdata": [
          [
           "Woodstock, New Brunswick",
           "1878"
          ],
          [
           "Rio Janeiro, Brazil",
           "1878"
          ],
          [
           "Rio Janeiro, Brazil",
           "1878"
          ]
         ],
         "geo": "geo",
         "hovertemplate": "<b>%{hovertext}</b><br><br>Class of=%{customdata[1]}<br>Latitude=%{lat}<br>Longitude=%{lon}<br>Country=%{customdata[0]}<extra></extra>",
         "hovertext": [
          "Connell, Jeremiah M.",
          "Da Silveira, J. L. M. ",
          "Vierra, Joaquim J."
         ],
         "lat": [
          46.152222,
          -22.9014475,
          -22.9014475
         ],
         "legendgroup": "1878",
         "lon": [
          -67.598333,
          -43.1789159,
          -43.1789159
         ],
         "marker": {
          "color": "#FF6692",
          "symbol": "circle"
         },
         "mode": "markers",
         "name": "1878",
         "showlegend": true,
         "type": "scattergeo"
        },
        {
         "customdata": [
          [
           "Panni, Italy",
           "1913"
          ],
          [
           "River Hebert, Nova Scotia",
           "1913"
          ]
         ],
         "geo": "geo",
         "hovertemplate": "<b>%{hovertext}</b><br><br>Class of=%{customdata[1]}<br>Latitude=%{lat}<br>Longitude=%{lon}<br>Country=%{customdata[0]}<extra></extra>",
         "hovertext": [
          "Croce, Michele F.",
          "Rockwell, Reginald"
         ],
         "lat": [
          41.2231481,
          45.690284
         ],
         "legendgroup": "1913",
         "lon": [
          15.2756481,
          -64.378028
         ],
         "marker": {
          "color": "#B6E880",
          "symbol": "circle"
         },
         "mode": "markers",
         "name": "1913",
         "showlegend": true,
         "type": "scattergeo"
        },
        {
         "customdata": [
          [
           "Fajardo, Puerto Rico",
           "1915"
          ],
          [
           "Fort William, Ontario",
           "1915"
          ]
         ],
         "geo": "geo",
         "hovertemplate": "<b>%{hovertext}</b><br><br>Class of=%{customdata[1]}<br>Latitude=%{lat}<br>Longitude=%{lon}<br>Country=%{customdata[0]}<extra></extra>",
         "hovertext": [
          "Diaz, Vincent",
          "Pennimam, Raymond B."
         ],
         "lat": [
          18.3303791,
          51.2538
         ],
         "legendgroup": "1915",
         "lon": [
          -65.6606059,
          -85.3232
         ],
         "marker": {
          "color": "#FF97FF",
          "symbol": "circle"
         },
         "mode": "markers",
         "name": "1915",
         "showlegend": true,
         "type": "scattergeo"
        },
        {
         "customdata": [
          [
           "Sherbrooke, Quebec",
           "1904"
          ]
         ],
         "geo": "geo",
         "hovertemplate": "<b>%{hovertext}</b><br><br>Class of=%{customdata[1]}<br>Latitude=%{lat}<br>Longitude=%{lon}<br>Country=%{customdata[0]}<extra></extra>",
         "hovertext": [
          "Dougherty, John J."
         ],
         "lat": [
          45.4
         ],
         "legendgroup": "1904",
         "lon": [
          -71.9
         ],
         "marker": {
          "color": "#FECB52",
          "symbol": "circle"
         },
         "mode": "markers",
         "name": "1904",
         "showlegend": true,
         "type": "scattergeo"
        },
        {
         "customdata": [
          [
           "London, England",
           "1910"
          ],
          [
           "China",
           "1910"
          ],
          [
           "Rio de Janeiro, Brazil",
           "1910"
          ]
         ],
         "geo": "geo",
         "hovertemplate": "<b>%{hovertext}</b><br><br>Class of=%{customdata[1]}<br>Latitude=%{lat}<br>Longitude=%{lon}<br>Country=%{customdata[0]}<extra></extra>",
         "hovertext": [
          "Downe, Edward",
          "Huang, Chen S.",
          "Vianna, John J.B."
         ],
         "lat": [
          51.5001524,
          35.8617,
          -22.9014475
         ],
         "legendgroup": "1910",
         "lon": [
          -0.1262362,
          104.1954,
          -43.1789159
         ],
         "marker": {
          "color": "#636efa",
          "symbol": "circle"
         },
         "mode": "markers",
         "name": "1910",
         "showlegend": true,
         "type": "scattergeo"
        },
        {
         "customdata": [
          [
           "Sweden",
           "1930"
          ],
          [
           "Hyogoken, Japan",
           "1930"
          ],
          [
           "Hoganas, Sweden",
           "1930"
          ],
          [
           "Mayaguez, Puerto Rico",
           "1930"
          ],
          [
           "Vieques, Puerto Rico",
           "1930"
          ],
          [
           "London, England",
           "1930"
          ]
         ],
         "geo": "geo",
         "hovertemplate": "<b>%{hovertext}</b><br><br>Class of=%{customdata[1]}<br>Latitude=%{lat}<br>Longitude=%{lon}<br>Country=%{customdata[0]}<extra></extra>",
         "hovertext": [
          "Ericson, Alvan Otto",
          "Kuwada, Suenori",
          "Larson, Carl Gustav",
          "Ramirez, Efrain",
          "Serrano, Carlos Felipe",
          "Shreeve, Herbert Prescott"
         ],
         "lat": [
          60.1282,
          34.6913,
          56.2,
          18.201111,
          18.116667,
          51.5001524
         ],
         "legendgroup": "1930",
         "lon": [
          18.6435,
          135.1831,
          12.566667,
          -67.139722,
          -65.416667,
          -0.1262362
         ],
         "marker": {
          "color": "#EF553B",
          "symbol": "circle"
         },
         "mode": "markers",
         "name": "1930",
         "showlegend": true,
         "type": "scattergeo"
        },
        {
         "customdata": [
          [
           "Montreal, Quebec",
           "1888"
          ],
          [
           "Rezende, Brazil",
           "1888"
          ],
          [
           "Montreal, Quebec",
           "1888"
          ],
          [
           "Osaka, Japan",
           "1888"
          ],
          [
           "Antwerp, Belgium",
           "1888"
          ]
         ],
         "geo": "geo",
         "hovertemplate": "<b>%{hovertext}</b><br><br>Class of=%{customdata[1]}<br>Latitude=%{lat}<br>Longitude=%{lon}<br>Country=%{customdata[0]}<extra></extra>",
         "hovertext": [
          "Fairman, F.L. Wilson",
          "Franklin, Alfredo A.",
          "Gilman, Ernest",
          "Shimomura, Kotaro M. ",
          "Von Wrede, Guido Franz Hubert"
         ],
         "lat": [
          45.509062,
          -22.466726,
          45.509062,
          34.693889,
          51.217
         ],
         "legendgroup": "1888",
         "lon": [
          -73.553363,
          -44.453738,
          -73.553363,
          135.502222,
          4.4
         ],
         "marker": {
          "color": "#00cc96",
          "symbol": "circle"
         },
         "mode": "markers",
         "name": "1888",
         "showlegend": true,
         "type": "scattergeo"
        },
        {
         "customdata": [
          [
           "Tatuky City, Brazil",
           "1879"
          ],
          [
           "Barra Mansa, Rio de Janerio",
           "1879"
          ]
         ],
         "geo": "geo",
         "hovertemplate": "<b>%{hovertext}</b><br><br>Class of=%{customdata[1]}<br>Latitude=%{lat}<br>Longitude=%{lon}<br>Country=%{customdata[0]}<extra></extra>",
         "hovertext": [
          "Falcao, E. A.",
          "Silva, Joaquim Mariano"
         ],
         "lat": [
          -14.235,
          -22.543889
         ],
         "legendgroup": "1879",
         "lon": [
          -51.9253,
          -44.170833
         ],
         "marker": {
          "color": "#ab63fa",
          "symbol": "circle"
         },
         "mode": "markers",
         "name": "1879",
         "showlegend": true,
         "type": "scattergeo"
        },
        {
         "customdata": [
          [
           "Beyrouth, Syria",
           "1914"
          ],
          [
           "Tientsin, China",
           "1914"
          ],
          [
           "Mayaguez, Puerto Rico",
           "1914"
          ],
          [
           "Peking, China",
           "1914"
          ],
          [
           "Shanghai, China",
           "1914"
          ],
          [
           "Hangchow, China",
           "1914"
          ]
         ],
         "geo": "geo",
         "hovertemplate": "<b>%{hovertext}</b><br><br>Class of=%{customdata[1]}<br>Latitude=%{lat}<br>Longitude=%{lon}<br>Country=%{customdata[0]}<extra></extra>",
         "hovertext": [
          "Farah, Hanna K.",
          "Mei, Yi Chi",
          "Vidal, Raphael",
          "Wong, John",
          "Yang, Sih-zung",
          "Yuan, Tsong-Kyien"
         ],
         "lat": [
          33.886944,
          39.0851,
          18.201111,
          53.4562,
          31.2304,
          30.25
         ],
         "legendgroup": "1914",
         "lon": [
          35.513056,
          117.1994,
          -67.139722,
          -7.4934,
          121.4737,
          120.166667
         ],
         "marker": {
          "color": "#FFA15A",
          "symbol": "circle"
         },
         "mode": "markers",
         "name": "1914",
         "showlegend": true,
         "type": "scattergeo"
        },
        {
         "customdata": [
          [
           " St. Stephen, New Brunswick",
           "1900"
          ],
          [
           "London, England",
           "1900"
          ],
          [
           "Harpoot, Armenia",
           "1900"
          ],
          [
           "Guatemala City, Guatemala",
           "1900"
          ]
         ],
         "geo": "geo",
         "hovertemplate": "<b>%{hovertext}</b><br><br>Class of=%{customdata[1]}<br>Latitude=%{lat}<br>Longitude=%{lon}<br>Country=%{customdata[0]}<extra></extra>",
         "hovertext": [
          "Ganong, Walter K.",
          "Mathews, William J. ",
          "Shaghalian, Sarkis",
          "Yrigoyen, Juan I. "
         ],
         "lat": [
          45.194163,
          51.5001524,
          38.666667,
          14.613333
         ],
         "legendgroup": "1900",
         "lon": [
          -67.275443,
          -0.1262362,
          39.216667,
          -90.535278
         ],
         "marker": {
          "color": "#19d3f3",
          "symbol": "circle"
         },
         "mode": "markers",
         "name": "1900",
         "showlegend": true,
         "type": "scattergeo"
        },
        {
         "customdata": [
          [
           "Hamilton, Ontario",
           "1943"
          ],
          [
           "Istanbul, Turkey",
           "1943"
          ],
          [
           "India",
           "1943"
          ],
          [
           "Manila, Philippines",
           "1943"
          ]
         ],
         "geo": "geo",
         "hovertemplate": "<b>%{hovertext}</b><br><br>Class of=%{customdata[1]}<br>Latitude=%{lat}<br>Longitude=%{lon}<br>Country=%{customdata[0]}<extra></extra>",
         "hovertext": [
          "Goddard, Richard Cook ",
          "Kerven, Danyal Nahit",
          "Pattani, Shashikant Batuk",
          "Zaragoza, Jose Luis"
         ],
         "lat": [
          43.25,
          41.013,
          20.5937,
          14.5822592
         ],
         "legendgroup": "1943",
         "lon": [
          -79.866667,
          28.9638,
          78.9629,
          120.9748038
         ],
         "marker": {
          "color": "#FF6692",
          "symbol": "circle"
         },
         "mode": "markers",
         "name": "1943",
         "showlegend": true,
         "type": "scattergeo"
        },
        {
         "customdata": [
          [
           "Rio Janeiro, Brazil",
           "1889"
          ]
         ],
         "geo": "geo",
         "hovertemplate": "<b>%{hovertext}</b><br><br>Class of=%{customdata[1]}<br>Latitude=%{lat}<br>Longitude=%{lon}<br>Country=%{customdata[0]}<extra></extra>",
         "hovertext": [
          "Gomes, Alfredo"
         ],
         "lat": [
          -22.9014475
         ],
         "legendgroup": "1889",
         "lon": [
          -43.1789159
         ],
         "marker": {
          "color": "#B6E880",
          "symbol": "circle"
         },
         "mode": "markers",
         "name": "1889",
         "showlegend": true,
         "type": "scattergeo"
        },
        {
         "customdata": [
          [
           "Rio Janeiro, Brazil",
           "1882"
          ]
         ],
         "geo": "geo",
         "hovertemplate": "<b>%{hovertext}</b><br><br>Class of=%{customdata[1]}<br>Latitude=%{lat}<br>Longitude=%{lon}<br>Country=%{customdata[0]}<extra></extra>",
         "hovertext": [
          "Gray, Robert"
         ],
         "lat": [
          -22.9014475
         ],
         "legendgroup": "1882",
         "lon": [
          -43.1789159
         ],
         "marker": {
          "color": "#FF97FF",
          "symbol": "circle"
         },
         "mode": "markers",
         "name": "1882",
         "showlegend": true,
         "type": "scattergeo"
        },
        {
         "customdata": [
          [
           "Antofagasta, Chili",
           "1883"
          ]
         ],
         "geo": "geo",
         "hovertemplate": "<b>%{hovertext}</b><br><br>Class of=%{customdata[1]}<br>Latitude=%{lat}<br>Longitude=%{lon}<br>Country=%{customdata[0]}<extra></extra>",
         "hovertext": [
          "Greene, Richard W."
         ],
         "lat": [
          -23.6266015
         ],
         "legendgroup": "1883",
         "lon": [
          -70.390128
         ],
         "marker": {
          "color": "#FECB52",
          "symbol": "circle"
         },
         "mode": "markers",
         "name": "1883",
         "showlegend": true,
         "type": "scattergeo"
        },
        {
         "customdata": [
          [
           "Armenia",
           "1935"
          ]
         ],
         "geo": "geo",
         "hovertemplate": "<b>%{hovertext}</b><br><br>Class of=%{customdata[1]}<br>Latitude=%{lat}<br>Longitude=%{lon}<br>Country=%{customdata[0]}<extra></extra>",
         "hovertext": [
          "Ivanzian, Aghasi Ivy"
         ],
         "lat": [
          40.0691
         ],
         "legendgroup": "1935",
         "lon": [
          45.0382
         ],
         "marker": {
          "color": "#636efa",
          "symbol": "circle"
         },
         "mode": "markers",
         "name": "1935",
         "showlegend": true,
         "type": "scattergeo"
        },
        {
         "customdata": [
          [
           "Calcutta, India",
           "1936"
          ]
         ],
         "geo": "geo",
         "hovertemplate": "<b>%{hovertext}</b><br><br>Class of=%{customdata[1]}<br>Latitude=%{lat}<br>Longitude=%{lon}<br>Country=%{customdata[0]}<extra></extra>",
         "hovertext": [
          "Kaplanko, Alexander"
         ],
         "lat": [
          22.5655734
         ],
         "legendgroup": "1936",
         "lon": [
          88.3702152
         ],
         "marker": {
          "color": "#EF553B",
          "symbol": "circle"
         },
         "mode": "markers",
         "name": "1936",
         "showlegend": true,
         "type": "scattergeo"
        },
        {
         "customdata": [
          [
           "Yarmouth, Nova Scotia",
           "1897"
          ]
         ],
         "geo": "geo",
         "hovertemplate": "<b>%{hovertext}</b><br><br>Class of=%{customdata[1]}<br>Latitude=%{lat}<br>Longitude=%{lon}<br>Country=%{customdata[0]}<extra></extra>",
         "hovertext": [
          "Killam, W. Stanley"
         ],
         "lat": [
          43.836111
         ],
         "legendgroup": "1897",
         "lon": [
          -66.1175
         ],
         "marker": {
          "color": "#00cc96",
          "symbol": "circle"
         },
         "mode": "markers",
         "name": "1897",
         "showlegend": true,
         "type": "scattergeo"
        },
        {
         "customdata": [
          [
           "Dist Satara, India",
           "1939"
          ],
          [
           "Dist Satara, India",
           "1939"
          ],
          [
           "Balboa Heights, Canal Zone",
           "1939"
          ]
         ],
         "geo": "geo",
         "hovertemplate": "<b>%{hovertext}</b><br><br>Class of=%{customdata[1]}<br>Latitude=%{lat}<br>Longitude=%{lon}<br>Country=%{customdata[0]}<extra></extra>",
         "hovertext": [
          "Kirloskar, Ravindra",
          "Korolyshun, Russell Theodore",
          "Piper, Raymond Burton"
         ],
         "lat": [
          17.69139,
          17.69139,
          8.95
         ],
         "legendgroup": "1939",
         "lon": [
          74.00092,
          74.00092,
          -79.55
         ],
         "marker": {
          "color": "#ab63fa",
          "symbol": "circle"
         },
         "mode": "markers",
         "name": "1939",
         "showlegend": true,
         "type": "scattergeo"
        },
        {
         "customdata": [
          [
           "Halsmühlen, Germany",
           "1880"
          ]
         ],
         "geo": "geo",
         "hovertemplate": "<b>%{hovertext}</b><br><br>Class of=%{customdata[1]}<br>Latitude=%{lat}<br>Longitude=%{lon}<br>Country=%{customdata[0]}<extra></extra>",
         "hovertext": [
          "Köpke, Ernst"
         ],
         "lat": [
          52.6367
         ],
         "legendgroup": "1880",
         "lon": [
          9.8451
         ],
         "marker": {
          "color": "#FFA15A",
          "symbol": "circle"
         },
         "mode": "markers",
         "name": "1880",
         "showlegend": true,
         "type": "scattergeo"
        },
        {
         "customdata": [
          [
           "Tokio, Japan",
           "1893"
          ]
         ],
         "geo": "geo",
         "hovertemplate": "<b>%{hovertext}</b><br><br>Class of=%{customdata[1]}<br>Latitude=%{lat}<br>Longitude=%{lon}<br>Country=%{customdata[0]}<extra></extra>",
         "hovertext": [
          "Kuwada, Gompei"
         ],
         "lat": [
          35.6895
         ],
         "legendgroup": "1893",
         "lon": [
          139.6917
         ],
         "marker": {
          "color": "#19d3f3",
          "symbol": "circle"
         },
         "mode": "markers",
         "name": "1893",
         "showlegend": true,
         "type": "scattergeo"
        },
        {
         "customdata": [
          [
           "Heong San, China",
           "1887"
          ],
          [
           "Guatemala",
           "1887"
          ]
         ],
         "geo": "geo",
         "hovertemplate": "<b>%{hovertext}</b><br><br>Class of=%{customdata[1]}<br>Latitude=%{lat}<br>Longitude=%{lon}<br>Country=%{customdata[0]}<extra></extra>",
         "hovertext": [
          "Landsing, Jang",
          "Quevedo, Narciso F."
         ],
         "lat": [
          22.533333,
          15.783471
         ],
         "legendgroup": "1887",
         "lon": [
          113.35,
          -90.230759
         ],
         "marker": {
          "color": "#FF6692",
          "symbol": "circle"
         },
         "mode": "markers",
         "name": "1887",
         "showlegend": true,
         "type": "scattergeo"
        },
        {
         "customdata": [
          [
           "Yokohama, Japan",
           "1901"
          ]
         ],
         "geo": "geo",
         "hovertemplate": "<b>%{hovertext}</b><br><br>Class of=%{customdata[1]}<br>Latitude=%{lat}<br>Longitude=%{lon}<br>Country=%{customdata[0]}<extra></extra>",
         "hovertext": [
          "Loomis, Evarts J."
         ],
         "lat": [
          35.3200263
         ],
         "legendgroup": "1901",
         "lon": [
          139.5800484
         ],
         "marker": {
          "color": "#B6E880",
          "symbol": "circle"
         },
         "mode": "markers",
         "name": "1901",
         "showlegend": true,
         "type": "scattergeo"
        },
        {
         "customdata": [
          [
           "Tokie, Japan",
           "1877"
          ],
          [
           "St. Stephen, New Brunswick",
           "1877"
          ]
         ],
         "geo": "geo",
         "hovertemplate": "<b>%{hovertext}</b><br><br>Class of=%{customdata[1]}<br>Latitude=%{lat}<br>Longitude=%{lon}<br>Country=%{customdata[0]}<extra></extra>",
         "hovertext": [
          "Matsdaira, Tada-aty M.",
          "Todd, Howard C."
         ],
         "lat": [
          35.6895,
          45.194163
         ],
         "legendgroup": "1877",
         "lon": [
          139.6917,
          -67.275443
         ],
         "marker": {
          "color": "#FF97FF",
          "symbol": "circle"
         },
         "mode": "markers",
         "name": "1877",
         "showlegend": true,
         "type": "scattergeo"
        },
        {
         "customdata": [
          [
           "St. John, New Brunswick",
           "1933"
          ]
         ],
         "geo": "geo",
         "hovertemplate": "<b>%{hovertext}</b><br><br>Class of=%{customdata[1]}<br>Latitude=%{lat}<br>Longitude=%{lon}<br>Country=%{customdata[0]}<extra></extra>",
         "hovertext": [
          "McFarlane, Weldon Murray"
         ],
         "lat": [
          45.2796
         ],
         "legendgroup": "1933",
         "lon": [
          -66.0628
         ],
         "marker": {
          "color": "#FECB52",
          "symbol": "circle"
         },
         "mode": "markers",
         "name": "1933",
         "showlegend": true,
         "type": "scattergeo"
        },
        {
         "customdata": [
          [
           "Montreal, Quebec",
           "1929"
          ]
         ],
         "geo": "geo",
         "hovertemplate": "<b>%{hovertext}</b><br><br>Class of=%{customdata[1]}<br>Latitude=%{lat}<br>Longitude=%{lon}<br>Country=%{customdata[0]}<extra></extra>",
         "hovertext": [
          "Minnick, John Hamilton"
         ],
         "lat": [
          45.509062
         ],
         "legendgroup": "1929",
         "lon": [
          -73.553363
         ],
         "marker": {
          "color": "#636efa",
          "symbol": "circle"
         },
         "mode": "markers",
         "name": "1929",
         "showlegend": true,
         "type": "scattergeo"
        },
        {
         "customdata": [
          [
           "Tokie, Japan",
           "1876"
          ],
          [
           "Saga, Japan",
           "1876"
          ]
         ],
         "geo": "geo",
         "hovertemplate": "<b>%{hovertext}</b><br><br>Class of=%{customdata[1]}<br>Latitude=%{lat}<br>Longitude=%{lon}<br>Country=%{customdata[0]}<extra></extra>",
         "hovertext": [
          "Mori, Haryosh",
          "Takee, Kenechiro"
         ],
         "lat": [
          35.6895,
          33.2935
         ],
         "legendgroup": "1876",
         "lon": [
          139.6917,
          130.0887
         ],
         "marker": {
          "color": "#EF553B",
          "symbol": "circle"
         },
         "mode": "markers",
         "name": "1876",
         "showlegend": true,
         "type": "scattergeo"
        },
        {
         "customdata": [
          [
           "Mexico City, Mexico",
           "1896"
          ],
          [
           "Winnipeg, Manitoba",
           "1896"
          ],
          [
           "Guantanamo, Cuba",
           "1896"
          ]
         ],
         "geo": "geo",
         "hovertemplate": "<b>%{hovertext}</b><br><br>Class of=%{customdata[1]}<br>Latitude=%{lat}<br>Longitude=%{lon}<br>Country=%{customdata[0]}<extra></extra>",
         "hovertext": [
          "Ramirez, Francisco J. ",
          "Riley, R. Sanford",
          "Ros, Antonio M."
         ],
         "lat": [
          53.4562,
          49.899444,
          20.136667
         ],
         "legendgroup": "1896",
         "lon": [
          -7.4934,
          -97.139167,
          -75.213889
         ],
         "marker": {
          "color": "#00cc96",
          "symbol": "circle"
         },
         "mode": "markers",
         "name": "1896",
         "showlegend": true,
         "type": "scattergeo"
        },
        {
         "customdata": [
          [
           "Rio Janeiro, Brazil",
           "1885"
          ]
         ],
         "geo": "geo",
         "hovertemplate": "<b>%{hovertext}</b><br><br>Class of=%{customdata[1]}<br>Latitude=%{lat}<br>Longitude=%{lon}<br>Country=%{customdata[0]}<extra></extra>",
         "hovertext": [
          "Ramos, Ajax A."
         ],
         "lat": [
          -22.9014475
         ],
         "legendgroup": "1885",
         "lon": [
          -43.1789159
         ],
         "marker": {
          "color": "#ab63fa",
          "symbol": "circle"
         },
         "mode": "markers",
         "name": "1885",
         "showlegend": true,
         "type": "scattergeo"
        },
        {
         "customdata": [
          [
           "Winnipeg, Manitoba",
           "1891"
          ]
         ],
         "geo": "geo",
         "hovertemplate": "<b>%{hovertext}</b><br><br>Class of=%{customdata[1]}<br>Latitude=%{lat}<br>Longitude=%{lon}<br>Country=%{customdata[0]}<extra></extra>",
         "hovertext": [
          "Somerset, Herbert J."
         ],
         "lat": [
          49.899444
         ],
         "legendgroup": "1891",
         "lon": [
          -97.139167
         ],
         "marker": {
          "color": "#FFA15A",
          "symbol": "circle"
         },
         "mode": "markers",
         "name": "1891",
         "showlegend": true,
         "type": "scattergeo"
        },
        {
         "customdata": [
          [
           "St. John, New Brunswick",
           "1895"
          ]
         ],
         "geo": "geo",
         "hovertemplate": "<b>%{hovertext}</b><br><br>Class of=%{customdata[1]}<br>Latitude=%{lat}<br>Longitude=%{lon}<br>Country=%{customdata[0]}<extra></extra>",
         "hovertext": [
          "Stone, Fred L."
         ],
         "lat": [
          45.2796
         ],
         "legendgroup": "1895",
         "lon": [
          -66.0628
         ],
         "marker": {
          "color": "#19d3f3",
          "symbol": "circle"
         },
         "mode": "markers",
         "name": "1895",
         "showlegend": true,
         "type": "scattergeo"
        },
        {
         "customdata": [
          [
           "Bangkok, Thailand",
           "1940"
          ]
         ],
         "geo": "geo",
         "hovertemplate": "<b>%{hovertext}</b><br><br>Class of=%{customdata[1]}<br>Latitude=%{lat}<br>Longitude=%{lon}<br>Country=%{customdata[0]}<extra></extra>",
         "hovertext": [
          "Tishyanandana, Chamroon"
         ],
         "lat": [
          13.7522
         ],
         "legendgroup": "1940",
         "lon": [
          100.4939
         ],
         "marker": {
          "color": "#FF6692",
          "symbol": "circle"
         },
         "mode": "markers",
         "name": "1940",
         "showlegend": true,
         "type": "scattergeo"
        },
        {
         "customdata": [
          [
           "Ponce, Puerto Rico",
           "1899"
          ]
         ],
         "geo": "geo",
         "hovertemplate": "<b>%{hovertext}</b><br><br>Class of=%{customdata[1]}<br>Latitude=%{lat}<br>Longitude=%{lon}<br>Country=%{customdata[0]}<extra></extra>",
         "hovertext": [
          "Valdivieso, Enrique P."
         ],
         "lat": [
          18.0126282
         ],
         "legendgroup": "1899",
         "lon": [
          -66.6260381
         ],
         "marker": {
          "color": "#B6E880",
          "symbol": "circle"
         },
         "mode": "markers",
         "name": "1899",
         "showlegend": true,
         "type": "scattergeo"
        },
        {
         "customdata": [
          [
           "Leopoldina, Brazil",
           "1903"
          ]
         ],
         "geo": "geo",
         "hovertemplate": "<b>%{hovertext}</b><br><br>Class of=%{customdata[1]}<br>Latitude=%{lat}<br>Longitude=%{lon}<br>Country=%{customdata[0]}<extra></extra>",
         "hovertext": [
          "Werneck, Elpidio DeL."
         ],
         "lat": [
          -21.5201054
         ],
         "legendgroup": "1903",
         "lon": [
          -42.6446473
         ],
         "marker": {
          "color": "#FF97FF",
          "symbol": "circle"
         },
         "mode": "markers",
         "name": "1903",
         "showlegend": true,
         "type": "scattergeo"
        },
        {
         "customdata": [
          [
           "Canton, China",
           "1919"
          ]
         ],
         "geo": "geo",
         "hovertemplate": "<b>%{hovertext}</b><br><br>Class of=%{customdata[1]}<br>Latitude=%{lat}<br>Longitude=%{lon}<br>Country=%{customdata[0]}<extra></extra>",
         "hovertext": [
          "Yen, King Lau"
         ],
         "lat": [
          23.1290798
         ],
         "legendgroup": "1919",
         "lon": [
          113.2643585
         ],
         "marker": {
          "color": "#FECB52",
          "symbol": "circle"
         },
         "mode": "markers",
         "name": "1919",
         "showlegend": true,
         "type": "scattergeo"
        },
        {
         "customdata": [
          [
           "Tang Shan, Chihli, China",
           "nan"
          ]
         ],
         "geo": "geo",
         "hovertemplate": "<b>%{hovertext}</b><br><br>Class of=%{customdata[1]}<br>Latitude=%{lat}<br>Longitude=%{lon}<br>Country=%{customdata[0]}<extra></extra>",
         "hovertext": [
          "Yuan, Harold Hsiang-Ho"
         ],
         "lat": [
          39.6
         ],
         "legendgroup": "nan",
         "lon": [
          118.176111
         ],
         "marker": {
          "color": "#636efa",
          "symbol": "circle"
         },
         "mode": "markers",
         "name": "nan",
         "showlegend": true,
         "type": "scattergeo"
        }
       ],
       "layout": {
        "geo": {
         "center": {},
         "domain": {
          "x": [
           0,
           1
          ],
          "y": [
           0,
           1
          ]
         },
         "projection": {
          "type": "winkel tripel"
         }
        },
        "legend": {
         "title": {
          "text": "Class of"
         },
         "tracegroupgap": 0
        },
        "template": {
         "data": {
          "bar": [
           {
            "error_x": {
             "color": "#2a3f5f"
            },
            "error_y": {
             "color": "#2a3f5f"
            },
            "marker": {
             "line": {
              "color": "#E5ECF6",
              "width": 0.5
             },
             "pattern": {
              "fillmode": "overlay",
              "size": 10,
              "solidity": 0.2
             }
            },
            "type": "bar"
           }
          ],
          "barpolar": [
           {
            "marker": {
             "line": {
              "color": "#E5ECF6",
              "width": 0.5
             },
             "pattern": {
              "fillmode": "overlay",
              "size": 10,
              "solidity": 0.2
             }
            },
            "type": "barpolar"
           }
          ],
          "carpet": [
           {
            "aaxis": {
             "endlinecolor": "#2a3f5f",
             "gridcolor": "white",
             "linecolor": "white",
             "minorgridcolor": "white",
             "startlinecolor": "#2a3f5f"
            },
            "baxis": {
             "endlinecolor": "#2a3f5f",
             "gridcolor": "white",
             "linecolor": "white",
             "minorgridcolor": "white",
             "startlinecolor": "#2a3f5f"
            },
            "type": "carpet"
           }
          ],
          "choropleth": [
           {
            "colorbar": {
             "outlinewidth": 0,
             "ticks": ""
            },
            "type": "choropleth"
           }
          ],
          "contour": [
           {
            "colorbar": {
             "outlinewidth": 0,
             "ticks": ""
            },
            "colorscale": [
             [
              0,
              "#0d0887"
             ],
             [
              0.1111111111111111,
              "#46039f"
             ],
             [
              0.2222222222222222,
              "#7201a8"
             ],
             [
              0.3333333333333333,
              "#9c179e"
             ],
             [
              0.4444444444444444,
              "#bd3786"
             ],
             [
              0.5555555555555556,
              "#d8576b"
             ],
             [
              0.6666666666666666,
              "#ed7953"
             ],
             [
              0.7777777777777778,
              "#fb9f3a"
             ],
             [
              0.8888888888888888,
              "#fdca26"
             ],
             [
              1,
              "#f0f921"
             ]
            ],
            "type": "contour"
           }
          ],
          "contourcarpet": [
           {
            "colorbar": {
             "outlinewidth": 0,
             "ticks": ""
            },
            "type": "contourcarpet"
           }
          ],
          "heatmap": [
           {
            "colorbar": {
             "outlinewidth": 0,
             "ticks": ""
            },
            "colorscale": [
             [
              0,
              "#0d0887"
             ],
             [
              0.1111111111111111,
              "#46039f"
             ],
             [
              0.2222222222222222,
              "#7201a8"
             ],
             [
              0.3333333333333333,
              "#9c179e"
             ],
             [
              0.4444444444444444,
              "#bd3786"
             ],
             [
              0.5555555555555556,
              "#d8576b"
             ],
             [
              0.6666666666666666,
              "#ed7953"
             ],
             [
              0.7777777777777778,
              "#fb9f3a"
             ],
             [
              0.8888888888888888,
              "#fdca26"
             ],
             [
              1,
              "#f0f921"
             ]
            ],
            "type": "heatmap"
           }
          ],
          "heatmapgl": [
           {
            "colorbar": {
             "outlinewidth": 0,
             "ticks": ""
            },
            "colorscale": [
             [
              0,
              "#0d0887"
             ],
             [
              0.1111111111111111,
              "#46039f"
             ],
             [
              0.2222222222222222,
              "#7201a8"
             ],
             [
              0.3333333333333333,
              "#9c179e"
             ],
             [
              0.4444444444444444,
              "#bd3786"
             ],
             [
              0.5555555555555556,
              "#d8576b"
             ],
             [
              0.6666666666666666,
              "#ed7953"
             ],
             [
              0.7777777777777778,
              "#fb9f3a"
             ],
             [
              0.8888888888888888,
              "#fdca26"
             ],
             [
              1,
              "#f0f921"
             ]
            ],
            "type": "heatmapgl"
           }
          ],
          "histogram": [
           {
            "marker": {
             "pattern": {
              "fillmode": "overlay",
              "size": 10,
              "solidity": 0.2
             }
            },
            "type": "histogram"
           }
          ],
          "histogram2d": [
           {
            "colorbar": {
             "outlinewidth": 0,
             "ticks": ""
            },
            "colorscale": [
             [
              0,
              "#0d0887"
             ],
             [
              0.1111111111111111,
              "#46039f"
             ],
             [
              0.2222222222222222,
              "#7201a8"
             ],
             [
              0.3333333333333333,
              "#9c179e"
             ],
             [
              0.4444444444444444,
              "#bd3786"
             ],
             [
              0.5555555555555556,
              "#d8576b"
             ],
             [
              0.6666666666666666,
              "#ed7953"
             ],
             [
              0.7777777777777778,
              "#fb9f3a"
             ],
             [
              0.8888888888888888,
              "#fdca26"
             ],
             [
              1,
              "#f0f921"
             ]
            ],
            "type": "histogram2d"
           }
          ],
          "histogram2dcontour": [
           {
            "colorbar": {
             "outlinewidth": 0,
             "ticks": ""
            },
            "colorscale": [
             [
              0,
              "#0d0887"
             ],
             [
              0.1111111111111111,
              "#46039f"
             ],
             [
              0.2222222222222222,
              "#7201a8"
             ],
             [
              0.3333333333333333,
              "#9c179e"
             ],
             [
              0.4444444444444444,
              "#bd3786"
             ],
             [
              0.5555555555555556,
              "#d8576b"
             ],
             [
              0.6666666666666666,
              "#ed7953"
             ],
             [
              0.7777777777777778,
              "#fb9f3a"
             ],
             [
              0.8888888888888888,
              "#fdca26"
             ],
             [
              1,
              "#f0f921"
             ]
            ],
            "type": "histogram2dcontour"
           }
          ],
          "mesh3d": [
           {
            "colorbar": {
             "outlinewidth": 0,
             "ticks": ""
            },
            "type": "mesh3d"
           }
          ],
          "parcoords": [
           {
            "line": {
             "colorbar": {
              "outlinewidth": 0,
              "ticks": ""
             }
            },
            "type": "parcoords"
           }
          ],
          "pie": [
           {
            "automargin": true,
            "type": "pie"
           }
          ],
          "scatter": [
           {
            "marker": {
             "colorbar": {
              "outlinewidth": 0,
              "ticks": ""
             }
            },
            "type": "scatter"
           }
          ],
          "scatter3d": [
           {
            "line": {
             "colorbar": {
              "outlinewidth": 0,
              "ticks": ""
             }
            },
            "marker": {
             "colorbar": {
              "outlinewidth": 0,
              "ticks": ""
             }
            },
            "type": "scatter3d"
           }
          ],
          "scattercarpet": [
           {
            "marker": {
             "colorbar": {
              "outlinewidth": 0,
              "ticks": ""
             }
            },
            "type": "scattercarpet"
           }
          ],
          "scattergeo": [
           {
            "marker": {
             "colorbar": {
              "outlinewidth": 0,
              "ticks": ""
             }
            },
            "type": "scattergeo"
           }
          ],
          "scattergl": [
           {
            "marker": {
             "colorbar": {
              "outlinewidth": 0,
              "ticks": ""
             }
            },
            "type": "scattergl"
           }
          ],
          "scattermapbox": [
           {
            "marker": {
             "colorbar": {
              "outlinewidth": 0,
              "ticks": ""
             }
            },
            "type": "scattermapbox"
           }
          ],
          "scatterpolar": [
           {
            "marker": {
             "colorbar": {
              "outlinewidth": 0,
              "ticks": ""
             }
            },
            "type": "scatterpolar"
           }
          ],
          "scatterpolargl": [
           {
            "marker": {
             "colorbar": {
              "outlinewidth": 0,
              "ticks": ""
             }
            },
            "type": "scatterpolargl"
           }
          ],
          "scatterternary": [
           {
            "marker": {
             "colorbar": {
              "outlinewidth": 0,
              "ticks": ""
             }
            },
            "type": "scatterternary"
           }
          ],
          "surface": [
           {
            "colorbar": {
             "outlinewidth": 0,
             "ticks": ""
            },
            "colorscale": [
             [
              0,
              "#0d0887"
             ],
             [
              0.1111111111111111,
              "#46039f"
             ],
             [
              0.2222222222222222,
              "#7201a8"
             ],
             [
              0.3333333333333333,
              "#9c179e"
             ],
             [
              0.4444444444444444,
              "#bd3786"
             ],
             [
              0.5555555555555556,
              "#d8576b"
             ],
             [
              0.6666666666666666,
              "#ed7953"
             ],
             [
              0.7777777777777778,
              "#fb9f3a"
             ],
             [
              0.8888888888888888,
              "#fdca26"
             ],
             [
              1,
              "#f0f921"
             ]
            ],
            "type": "surface"
           }
          ],
          "table": [
           {
            "cells": {
             "fill": {
              "color": "#EBF0F8"
             },
             "line": {
              "color": "white"
             }
            },
            "header": {
             "fill": {
              "color": "#C8D4E3"
             },
             "line": {
              "color": "white"
             }
            },
            "type": "table"
           }
          ]
         },
         "layout": {
          "annotationdefaults": {
           "arrowcolor": "#2a3f5f",
           "arrowhead": 0,
           "arrowwidth": 1
          },
          "autotypenumbers": "strict",
          "coloraxis": {
           "colorbar": {
            "outlinewidth": 0,
            "ticks": ""
           }
          },
          "colorscale": {
           "diverging": [
            [
             0,
             "#8e0152"
            ],
            [
             0.1,
             "#c51b7d"
            ],
            [
             0.2,
             "#de77ae"
            ],
            [
             0.3,
             "#f1b6da"
            ],
            [
             0.4,
             "#fde0ef"
            ],
            [
             0.5,
             "#f7f7f7"
            ],
            [
             0.6,
             "#e6f5d0"
            ],
            [
             0.7,
             "#b8e186"
            ],
            [
             0.8,
             "#7fbc41"
            ],
            [
             0.9,
             "#4d9221"
            ],
            [
             1,
             "#276419"
            ]
           ],
           "sequential": [
            [
             0,
             "#0d0887"
            ],
            [
             0.1111111111111111,
             "#46039f"
            ],
            [
             0.2222222222222222,
             "#7201a8"
            ],
            [
             0.3333333333333333,
             "#9c179e"
            ],
            [
             0.4444444444444444,
             "#bd3786"
            ],
            [
             0.5555555555555556,
             "#d8576b"
            ],
            [
             0.6666666666666666,
             "#ed7953"
            ],
            [
             0.7777777777777778,
             "#fb9f3a"
            ],
            [
             0.8888888888888888,
             "#fdca26"
            ],
            [
             1,
             "#f0f921"
            ]
           ],
           "sequentialminus": [
            [
             0,
             "#0d0887"
            ],
            [
             0.1111111111111111,
             "#46039f"
            ],
            [
             0.2222222222222222,
             "#7201a8"
            ],
            [
             0.3333333333333333,
             "#9c179e"
            ],
            [
             0.4444444444444444,
             "#bd3786"
            ],
            [
             0.5555555555555556,
             "#d8576b"
            ],
            [
             0.6666666666666666,
             "#ed7953"
            ],
            [
             0.7777777777777778,
             "#fb9f3a"
            ],
            [
             0.8888888888888888,
             "#fdca26"
            ],
            [
             1,
             "#f0f921"
            ]
           ]
          },
          "colorway": [
           "#636efa",
           "#EF553B",
           "#00cc96",
           "#ab63fa",
           "#FFA15A",
           "#19d3f3",
           "#FF6692",
           "#B6E880",
           "#FF97FF",
           "#FECB52"
          ],
          "font": {
           "color": "#2a3f5f"
          },
          "geo": {
           "bgcolor": "white",
           "lakecolor": "white",
           "landcolor": "#E5ECF6",
           "showlakes": true,
           "showland": true,
           "subunitcolor": "white"
          },
          "hoverlabel": {
           "align": "left"
          },
          "hovermode": "closest",
          "mapbox": {
           "style": "light"
          },
          "paper_bgcolor": "white",
          "plot_bgcolor": "#E5ECF6",
          "polar": {
           "angularaxis": {
            "gridcolor": "white",
            "linecolor": "white",
            "ticks": ""
           },
           "bgcolor": "#E5ECF6",
           "radialaxis": {
            "gridcolor": "white",
            "linecolor": "white",
            "ticks": ""
           }
          },
          "scene": {
           "xaxis": {
            "backgroundcolor": "#E5ECF6",
            "gridcolor": "white",
            "gridwidth": 2,
            "linecolor": "white",
            "showbackground": true,
            "ticks": "",
            "zerolinecolor": "white"
           },
           "yaxis": {
            "backgroundcolor": "#E5ECF6",
            "gridcolor": "white",
            "gridwidth": 2,
            "linecolor": "white",
            "showbackground": true,
            "ticks": "",
            "zerolinecolor": "white"
           },
           "zaxis": {
            "backgroundcolor": "#E5ECF6",
            "gridcolor": "white",
            "gridwidth": 2,
            "linecolor": "white",
            "showbackground": true,
            "ticks": "",
            "zerolinecolor": "white"
           }
          },
          "shapedefaults": {
           "line": {
            "color": "#2a3f5f"
           }
          },
          "ternary": {
           "aaxis": {
            "gridcolor": "white",
            "linecolor": "white",
            "ticks": ""
           },
           "baxis": {
            "gridcolor": "white",
            "linecolor": "white",
            "ticks": ""
           },
           "bgcolor": "#E5ECF6",
           "caxis": {
            "gridcolor": "white",
            "linecolor": "white",
            "ticks": ""
           }
          },
          "title": {
           "x": 0.05
          },
          "xaxis": {
           "automargin": true,
           "gridcolor": "white",
           "linecolor": "white",
           "ticks": "",
           "title": {
            "standoff": 15
           },
           "zerolinecolor": "white",
           "zerolinewidth": 2
          },
          "yaxis": {
           "automargin": true,
           "gridcolor": "white",
           "linecolor": "white",
           "ticks": "",
           "title": {
            "standoff": 15
           },
           "zerolinecolor": "white",
           "zerolinewidth": 2
          }
         }
        },
        "title": {
         "text": "Map 1. Home City and Country of WPI International Students (1876-1943)"
        }
       }
      },
      "text/html": [
       "<div>                            <div id=\"9d140d43-6cab-4d6f-8aef-ca34f9671b7b\" class=\"plotly-graph-div\" style=\"height:525px; width:100%;\"></div>            <script type=\"text/javascript\">                require([\"plotly\"], function(Plotly) {                    window.PLOTLYENV=window.PLOTLYENV || {};                                    if (document.getElementById(\"9d140d43-6cab-4d6f-8aef-ca34f9671b7b\")) {                    Plotly.newPlot(                        \"9d140d43-6cab-4d6f-8aef-ca34f9671b7b\",                        [{\"customdata\":[[\"T. Pazordjik, Bulgaria\",\"1928\"],[\"River John, Nova Scotia\",\"1928\"],[\"Russia\",\"1928\"]],\"geo\":\"geo\",\"hovertemplate\":\"<b>%{hovertext}</b><br><br>Class of=%{customdata[1]}<br>Latitude=%{lat}<br>Longitude=%{lon}<br>Country=%{customdata[0]}<extra></extra>\",\"hovertext\":[\"Abadjieff, Ivan Varban\",\"MacNabb, James Austin\",\"Samoylenko, Gregory John\"],\"lat\":[42.2,45.751548,61.524],\"legendgroup\":\"1928\",\"lon\":[24.333,-63.0589655,105.3188],\"marker\":{\"color\":\"#636efa\",\"symbol\":\"circle\"},\"mode\":\"markers\",\"name\":\"1928\",\"showlegend\":true,\"type\":\"scattergeo\"},{\"customdata\":[[\"Cienfuegos, Cuba\",\"1909\"],[\"Castledown, Ireland\",\"1909\"],[\"Winnipeg, Manitoba\",\"1909\"],[\"Comitan, Mexico\",\"1909\"],[\"Hanstsport, Nova Scotia\",\"1909\"],[\"Owari, Japan\",\"1909\"]],\"geo\":\"geo\",\"hovertemplate\":\"<b>%{hovertext}</b><br><br>Class of=%{customdata[1]}<br>Latitude=%{lat}<br>Longitude=%{lon}<br>Country=%{customdata[0]}<extra></extra>\",\"hovertext\":[\"Aguirre, Frank M.\",\"Murphy, Patrick J.\",\"Riley, Harold\",\"Rovelo, Jose\",\"Walley, Percy B.\",\"Yamada, Yoshiho\"],\"lat\":[22.1444481,53.4562,49.899444,16.252461,45.066667,35.1802],\"legendgroup\":\"1909\",\"lon\":[-80.4402944,-7.4934,-97.139167,-92.135835,-64.183333,136.9066],\"marker\":{\"color\":\"#EF553B\",\"symbol\":\"circle\"},\"mode\":\"markers\",\"name\":\"1909\",\"showlegend\":true,\"type\":\"scattergeo\"},{\"customdata\":[[\"Armenia\",\"1917\"],[\"Canton, China\",\"1917\"],[\"San Jose, Costa Rica\",\"1917\"],[\"Rangoon, Burma\",\"1917\"],[\"Hong Kong, China\",\"1917\"],[\"Harpoot, Turkey\",\"1917\"]],\"geo\":\"geo\",\"hovertemplate\":\"<b>%{hovertext}</b><br><br>Class of=%{customdata[1]}<br>Latitude=%{lat}<br>Longitude=%{lon}<br>Country=%{customdata[0]}<extra></extra>\",\"hovertext\":[\"Ajemian, Shahin A.\",\"Fung, Wai\",\"Hanckel, Robert C.\",\"Huie, Yuen K.\",\"Mok, Kai Yan\",\"Tenekejian, Zaven N.\"],\"lat\":[40.0691,23.1290798,9.909576,16.8,22.3964,38.666667],\"legendgroup\":\"1917\",\"lon\":[45.0382,113.2643585,-84.05406,96.15,114.1095,39.216667],\"marker\":{\"color\":\"#00cc96\",\"symbol\":\"circle\"},\"mode\":\"markers\",\"name\":\"1917\",\"showlegend\":true,\"type\":\"scattergeo\"},{\"customdata\":[[\"Colombia\",\"1941\"],[\"Mahr, Ostrau, Czechoslavakia\",\"1941\"],[\"Fort Clayton, Canal Zone\",\"1941\"],[\"San Juan, Puerto Rico\",\"1941\"]],\"geo\":\"geo\",\"hovertemplate\":\"<b>%{hovertext}</b><br><br>Class of=%{customdata[1]}<br>Latitude=%{lat}<br>Longitude=%{lon}<br>Country=%{customdata[0]}<extra></extra>\",\"hovertext\":[\"Alfonso, Fernando\",\"Coontz, Gustaf\",\"McMurray, Clarence McCain, Jr.\",\"Totti, Etienne, Jr.\"],\"lat\":[4.5709,49.840794,8.538,18.451522],\"legendgroup\":\"1941\",\"lon\":[-74.2973,18.2908836,-80.7821,-66.069481],\"marker\":{\"color\":\"#ab63fa\",\"symbol\":\"circle\"},\"mode\":\"markers\",\"name\":\"1941\",\"showlegend\":true,\"type\":\"scattergeo\"},{\"customdata\":[[\"Yarmouth, Nova Scotia\",\"1911\"],[\"Anhin, China\",\"1911\"],[\"Sivas, Turkey\",\"1911\"],[\"Yauco, Puerto Rico\",\"1911\"],[\"Yauco, Puerto Rico\",\"1911\"]],\"geo\":\"geo\",\"hovertemplate\":\"<b>%{hovertext}</b><br><br>Class of=%{customdata[1]}<br>Latitude=%{lat}<br>Longitude=%{lon}<br>Country=%{customdata[0]}<extra></extra>\",\"hovertext\":[\"Allen, Kenneth\",\"Chin, Yu-shu\",\"Paelian, Garabed H.\",\"Totti, Etienne\",\"Totti, Noel\"],\"lat\":[43.836111,35.8617,39.75,18.036944,18.036944],\"legendgroup\":\"1911\",\"lon\":[-66.1175,104.1954,37.016667,-66.850278,-66.850278],\"marker\":{\"color\":\"#FFA15A\",\"symbol\":\"circle\"},\"mode\":\"markers\",\"name\":\"1911\",\"showlegend\":true,\"type\":\"scattergeo\"},{\"customdata\":[[\"Yarmouth, Nova Scotia\",\"1894\"],[\"Rio Janeiro, Brazil\",\"1894\"],[\"St. Johns, New Foundland\",\"1894\"],[\"Yarmouth, Nova Scotia\",\"1894\"],[\"Yarmouth, Nova Scotia\",\"1894\"]],\"geo\":\"geo\",\"hovertemplate\":\"<b>%{hovertext}</b><br><br>Class of=%{customdata[1]}<br>Latitude=%{lat}<br>Longitude=%{lon}<br>Country=%{customdata[0]}<extra></extra>\",\"hovertext\":[\"Allen, M. Clifford\",\"Da Cruz, Henrique B.\",\"Howland, Lewis A.\",\"Killam, Frank E.\",\"Killam, Leslie\"],\"lat\":[43.836111,-22.9014475,47.5675,43.836111,43.836111],\"legendgroup\":\"1894\",\"lon\":[-66.1175,-43.1789159,-52.707222,-66.1175,-66.1175],\"marker\":{\"color\":\"#19d3f3\",\"symbol\":\"circle\"},\"mode\":\"markers\",\"name\":\"1894\",\"showlegend\":true,\"type\":\"scattergeo\"},{\"customdata\":[[\"Stockholm, Sweden\",\"1921\"],[\"Chili\",\"1921\"],[\"Chili, China\",\"1921\"],[\"Berlin, Germany\",\"1921\"],[\"Curytiba, Parana, Brazil\",\"1921\"],[\"Truro, Nova Scotia\",\"1921\"],[\"Autofagasta, Chile\",\"1921\"],[\"Nogent sur Marne, France\",\"1921\"]],\"geo\":\"geo\",\"hovertemplate\":\"<b>%{hovertext}</b><br><br>Class of=%{customdata[1]}<br>Latitude=%{lat}<br>Longitude=%{lon}<br>Country=%{customdata[0]}<extra></extra>\",\"hovertext\":[\"Anderson, Hans Enar\",\"Besa, Hernan\",\"Chang, Lan Ko\",\"Fisher, Edward John\",\"Pereira, Ricardo Gonsalves\",\"Russell, Alan Woodworth\",\"Stevenson, William Orick Jr.\",\"Will, Irving Martin\"],\"lat\":[59.329444,35.6751,38.0371,52.5243,-25.4283563,45.364722,-23.6266015,48.8375],\"legendgroup\":\"1921\",\"lon\":[18.068611,-71.543,114.4687,13.4063,-49.2732515,-63.28,-70.390128,2.4833],\"marker\":{\"color\":\"#FF6692\",\"symbol\":\"circle\"},\"mode\":\"markers\",\"name\":\"1921\",\"showlegend\":true,\"type\":\"scattergeo\"},{\"customdata\":[[\"Cavalla, Greece\",\"1918\"],[\"Canal Zone, Panama\",\"1918\"],[\"Havana, Cuba\",\"1918\"],[\"Hong Kong, China\",\"1918\"],[\"Fungtien, China\",\"1918\"],[\"Shantung, China\",\"1918\"]],\"geo\":\"geo\",\"hovertemplate\":\"<b>%{hovertext}</b><br><br>Class of=%{customdata[1]}<br>Latitude=%{lat}<br>Longitude=%{lon}<br>Country=%{customdata[0]}<extra></extra>\",\"hovertext\":[\"Apostolou, James\",\"Barber, Frederick Gordon\",\"Garcia, Jose Manuel\",\"Kwong, Eugene Faimont\",\"Lu, Ching Kui\",\"Ma, Shan-pao\"],\"lat\":[40.936499,8.538,23.0541,22.3964,41.8354,36.6686],\"legendgroup\":\"1918\",\"lon\":[24.409477,-80.7821,-82.3452,114.1095,123.4294,117.0204],\"marker\":{\"color\":\"#B6E880\",\"symbol\":\"circle\"},\"mode\":\"markers\",\"name\":\"1918\",\"showlegend\":true,\"type\":\"scattergeo\"},{\"customdata\":[[\"Tel Aviv, Palestine\",\"1932\"],[\"Rhodes Island, Greece\",\"1932\"],[\"Guatemala City, Guatemala\",\"1932\"],[\"Canton, China\",\"1932\"],[\"Macedonia\",\"1932\"],[\" Winnipeg, Canada\",\"1932\"],[\"England\",\"1932\"],[\"Krasnodar, Russia\",\"1932\"],[\"Grand Mere, Quebec\",\"1932\"]],\"geo\":\"geo\",\"hovertemplate\":\"<b>%{hovertext}</b><br><br>Class of=%{customdata[1]}<br>Latitude=%{lat}<br>Longitude=%{lon}<br>Country=%{customdata[0]}<extra></extra>\",\"hovertext\":[\"Aronov, Eliezer\",\"Athanasiades, Emanuel Stylianos\",\"Herrarte, Benjamin Lopez\",\"Lee, Chock H.\",\"Nizanoff, John\",\"Perry, Edmund Alexander\",\"Porteus, John Horton\",\"Skuropat, Leon Deomidovitch\",\"Wardle, Harry Marsden\"],\"lat\":[32.136871,36.167,14.613333,23.1290798,41.608635,49.899444,55.378051,45.033333,46.612837],\"legendgroup\":\"1932\",\"lon\":[34.796277,28.0,-90.535278,113.2643585,21.745275,-97.139167,-3.435973,38.966667,-72.694855],\"marker\":{\"color\":\"#FF97FF\",\"symbol\":\"circle\"},\"mode\":\"markers\",\"name\":\"1932\",\"showlegend\":true,\"type\":\"scattergeo\"},{\"customdata\":[[\"Largs Bay, Australia\",\"1907\"],[\"Melbourne, Australia\",\"1907\"],[\"Cardenas, Cuba\",\"1907\"],[\"Progreso, Mexico\",\"1907\"]],\"geo\":\"geo\",\"hovertemplate\":\"<b>%{hovertext}</b><br><br>Class of=%{customdata[1]}<br>Latitude=%{lat}<br>Longitude=%{lon}<br>Country=%{customdata[0]}<extra></extra>\",\"hovertext\":[\"Bagot, Christopher G.S.\",\"Clapp, Leroy P.\",\"Labrit, Alberto\",\"Rosado, Felix Alonso\"],\"lat\":[-34.8259784,-37.8136,23.0387663,21.2820788],\"legendgroup\":\"1907\",\"lon\":[138.4878944,144.9631,-81.205828,-89.6633118],\"marker\":{\"color\":\"#FECB52\",\"symbol\":\"circle\"},\"mode\":\"markers\",\"name\":\"1907\",\"showlegend\":true,\"type\":\"scattergeo\"},{\"customdata\":[[\"Balboa Heights, Canal Zone\",\"1938\"]],\"geo\":\"geo\",\"hovertemplate\":\"<b>%{hovertext}</b><br><br>Class of=%{customdata[1]}<br>Latitude=%{lat}<br>Longitude=%{lon}<br>Country=%{customdata[0]}<extra></extra>\",\"hovertext\":[\"Banan Frederick B. Jr. \"],\"lat\":[8.95],\"legendgroup\":\"1938\",\"lon\":[-79.55],\"marker\":{\"color\":\"#636efa\",\"symbol\":\"circle\"},\"mode\":\"markers\",\"name\":\"1938\",\"showlegend\":true,\"type\":\"scattergeo\"},{\"customdata\":[[\"Petrograd, Russia\",\"1927\"],[\"Hong Kong, China\",\"1927\"],[\"River John, Nova Scotia\",\"1927\"]],\"geo\":\"geo\",\"hovertemplate\":\"<b>%{hovertext}</b><br><br>Class of=%{customdata[1]}<br>Latitude=%{lat}<br>Longitude=%{lon}<br>Country=%{customdata[0]}<extra></extra>\",\"hovertext\":[\"Boubnoff, Nicholas A.\",\"Chow, Yat Wo\",\"MacLennan, Charles\"],\"lat\":[59.9311,22.3964,45.751548],\"legendgroup\":\"1927\",\"lon\":[30.3609,114.1095,-63.0589655],\"marker\":{\"color\":\"#EF553B\",\"symbol\":\"circle\"},\"mode\":\"markers\",\"name\":\"1927\",\"showlegend\":true,\"type\":\"scattergeo\"},{\"customdata\":[[\"Paris, France\",\"1926\"],[\"Haifa, Palestine\",\"1926\"],[\"Coruna, Spain\",\"1926\"]],\"geo\":\"geo\",\"hovertemplate\":\"<b>%{hovertext}</b><br><br>Class of=%{customdata[1]}<br>Latitude=%{lat}<br>Longitude=%{lon}<br>Country=%{customdata[0]}<extra></extra>\",\"hovertext\":[\"Brown, Francis Lestrade\",\"Kurkjian, Vahan Boghos\",\"Rey, Pedro\"],\"lat\":[48.856895,32.817285,43.365],\"legendgroup\":\"1926\",\"lon\":[2.3508487,34.988765,-8.41],\"marker\":{\"color\":\"#00cc96\",\"symbol\":\"circle\"},\"mode\":\"markers\",\"name\":\"1926\",\"showlegend\":true,\"type\":\"scattergeo\"},{\"customdata\":[[\"Montivideo, Uruguay\",\"1924\"],[\"Soerabaya, Java\",\"1924\"],[\"Peking, China\",\"1924\"],[\"Sweden\",\"1924\"],[\"Montivideo, Uruguay\",\"1924\"],[\"Peking, China\",\"1924\"]],\"geo\":\"geo\",\"hovertemplate\":\"<b>%{hovertext}</b><br><br>Class of=%{customdata[1]}<br>Latitude=%{lat}<br>Longitude=%{lon}<br>Country=%{customdata[0]}<extra></extra>\",\"hovertext\":[\"Camps, Antonio Bernardo\",\"Han, Soen Lok\",\"Sah, Peter Pen Otieh\",\"Sundvall, Frithiof Ludvig\",\"Vera, Angel\",\"Yuan, Tung\"],\"lat\":[-34.883611,-7.243256,39.904,60.1282,-34.883611,53.4562],\"legendgroup\":\"1924\",\"lon\":[-56.181944,112.741376,116.4075,18.6435,-56.181944,-7.4934],\"marker\":{\"color\":\"#ab63fa\",\"symbol\":\"circle\"},\"mode\":\"markers\",\"name\":\"1924\",\"showlegend\":true,\"type\":\"scattergeo\"},{\"customdata\":[[\"La Rioja, Argentina\",\"1912\"],[\"Mayaguez, Puerto Rico\",\"1912\"]],\"geo\":\"geo\",\"hovertemplate\":\"<b>%{hovertext}</b><br><br>Class of=%{customdata[1]}<br>Latitude=%{lat}<br>Longitude=%{lon}<br>Country=%{customdata[0]}<extra></extra>\",\"hovertext\":[\"Capdevila, Pedro M.\",\"Velez, Raphael V. \"],\"lat\":[-29.4101933,18.201111],\"legendgroup\":\"1912\",\"lon\":[-66.829414,-67.139722],\"marker\":{\"color\":\"#FFA15A\",\"symbol\":\"circle\"},\"mode\":\"markers\",\"name\":\"1912\",\"showlegend\":true,\"type\":\"scattergeo\"},{\"customdata\":[[\"Christiania, Norway\",\"1925\"],[\"Peking, China\",\"1925\"],[\"Frost Village, Quebec\",\"1925\"],[\"Russia\",\"1925\"],[\"Kroken, Sweden\",\"1925\"],[\"Kroken, Sweden\",\"1925\"],[\"Tokyo, Japan\",\"1925\"],[\"Russia\",\"1925\"],[\"Vienna, Austria\",\"1925\"],[\"New Glasgow, Nova Scotia\",\"1925\"],[\"Landskiona, Sweden\",\"1925\"]],\"geo\":\"geo\",\"hovertemplate\":\"<b>%{hovertext}</b><br><br>Class of=%{customdata[1]}<br>Latitude=%{lat}<br>Longitude=%{lon}<br>Country=%{customdata[0]}<extra></extra>\",\"hovertext\":[\"Carlstom, Carl Fredrik\",\"Chou, Tzu-hsu\",\"Eastman, Harold Lewis\",\"Friedman, Hyman Julius\",\"Hansen, Harold\",\"Hansen, Odd Arnold\",\"Matsuo, Kenzo\",\"Rosenbloom, Abraham\",\"Stich, Otto Albert\",\"Underwood, Louis Ivan\",\"Winckler, Gunnar Frederick\"],\"lat\":[59.9139,39.9042,52.9399,61.524,69.6869335,69.6869335,35.6895,61.524,48.2082,45.5892169,55.866667],\"legendgroup\":\"1925\",\"lon\":[10.7522,116.4074,-73.5491,105.3188,19.076945,19.076945,139.6917,105.3188,16.3738,-62.6437054,12.833333],\"marker\":{\"color\":\"#19d3f3\",\"symbol\":\"circle\"},\"mode\":\"markers\",\"name\":\"1925\",\"showlegend\":true,\"type\":\"scattergeo\"},{\"customdata\":[[\"Melbourne, Australia\",\"1906\"],[\"Vesteras, Sweden\",\"1906\"],[\"Puerto Principe, Cuba\",\"1906\"],[\"San Juan, Puerto Rico\",\"1906\"],[\"Killarney, Ireland\",\"1906\"],[\"Victoria, Australia\",\"1906\"]],\"geo\":\"geo\",\"hovertemplate\":\"<b>%{hovertext}</b><br><br>Class of=%{customdata[1]}<br>Latitude=%{lat}<br>Longitude=%{lon}<br>Country=%{customdata[0]}<extra></extra>\",\"hovertext\":[\"Cave, Jordayne D.\",\"Forsstedt, Ralph S.\",\"Rodriguez, Benito A.\",\"Romen, Rafael M. \",\"Sheehan, Michael J.\",\"Staughton, Lance W.\"],\"lat\":[-37.813611,59.6164759,21.383889,18.451522,52.0588,-36.5588],\"legendgroup\":\"1906\",\"lon\":[144.963056,16.5513616,-77.9075,-66.069481,-9.5072,145.469],\"marker\":{\"color\":\"#FF6692\",\"symbol\":\"circle\"},\"mode\":\"markers\",\"name\":\"1906\",\"showlegend\":true,\"type\":\"scattergeo\"},{\"customdata\":[[\"Calcutta, India\",\"1931\"],[\"Calcutta, India\",\"1931\"],[\"Granby, Quebec\",\"1931\"],[\"Bangkok, Siam\",\"1931\"]],\"geo\":\"geo\",\"hovertemplate\":\"<b>%{hovertext}</b><br><br>Class of=%{customdata[1]}<br>Latitude=%{lat}<br>Longitude=%{lon}<br>Country=%{customdata[0]}<extra></extra>\",\"hovertext\":[\"Chakrabarthy, Monmatha Nath\",\"Chakravarti, Sudhir Kumar\",\"Dunn, Leonard Gill\",\"Leibovitch, Abram\"],\"lat\":[22.5655734,22.5655734,45.398468,13.7563],\"legendgroup\":\"1931\",\"lon\":[88.3702152,88.3702152,-72.723111,100.5018],\"marker\":{\"color\":\"#B6E880\",\"symbol\":\"circle\"},\"mode\":\"markers\",\"name\":\"1931\",\"showlegend\":true,\"type\":\"scattergeo\"},{\"customdata\":[[\"Shanghai, China\",\"1916\"],[\"Brazil\",\"1916\"],[\"Oriente, Cuba\",\"1916\"],[\"Canton, China\",\"1916\"]],\"geo\":\"geo\",\"hovertemplate\":\"<b>%{hovertext}</b><br><br>Class of=%{customdata[1]}<br>Latitude=%{lat}<br>Longitude=%{lon}<br>Country=%{customdata[0]}<extra></extra>\",\"hovertext\":[\"Chan, Ernest Bing\",\"Junqueira, Joaquim d.k.\",\"Sanchez, Federico Guillermo\",\"Wong, Dick\"],\"lat\":[31.2304,-14.235,21.5218,23.1290798],\"legendgroup\":\"1916\",\"lon\":[121.4737,-51.9253,-77.7812,113.2643585],\"marker\":{\"color\":\"#FF97FF\",\"symbol\":\"circle\"},\"mode\":\"markers\",\"name\":\"1916\",\"showlegend\":true,\"type\":\"scattergeo\"},{\"customdata\":[[\"Soochow, China\",\"1923\"],[\"Larino, Province of Campobasso, Italy\",\"1923\"],[\"Russia\",\"1923\"],[\"Indramajoe, Java\",\"1923\"],[\"Peking, China\",\"1923\"]],\"geo\":\"geo\",\"hovertemplate\":\"<b>%{hovertext}</b><br><br>Class of=%{customdata[1]}<br>Latitude=%{lat}<br>Longitude=%{lon}<br>Country=%{customdata[0]}<extra></extra>\",\"hovertext\":[\"Chen Sarcey San-Tsai\",\"Greco, Aldo Pardo\",\"Hurowitz, Max\",\"See, Woon-how\",\"Tsui, John Hsuch Han\"],\"lat\":[31.3,41.8071274,61.524,-6.3776,53.4562],\"legendgroup\":\"1923\",\"lon\":[120.6,14.9192394,105.3188,108.3865,-7.4934],\"marker\":{\"color\":\"#FECB52\",\"symbol\":\"circle\"},\"mode\":\"markers\",\"name\":\"1923\",\"showlegend\":true,\"type\":\"scattergeo\"},{\"customdata\":[[\"Fong Chow, China\",\"1922\"],[\"Songdo, Korea\",\"1922\"],[\"Bogata, Columbia\",\"1922\"],[\"Syndey, Nova Scotia\",\"1922\"]],\"geo\":\"geo\",\"hovertemplate\":\"<b>%{hovertext}</b><br><br>Class of=%{customdata[1]}<br>Latitude=%{lat}<br>Longitude=%{lon}<br>Country=%{customdata[0]}<extra></extra>\",\"hovertext\":[\"Chen, Li\",\"Ko, Chaong Myung\",\"Reyes, Joaquin\",\"Rice, Milton Jerome\"],\"lat\":[35.8617,37.388889,4.5981,46.1380869],\"legendgroup\":\"1922\",\"lon\":[104.1954,126.652222,-74.07583,-60.1946735],\"marker\":{\"color\":\"#636efa\",\"symbol\":\"circle\"},\"mode\":\"markers\",\"name\":\"1922\",\"showlegend\":true,\"type\":\"scattergeo\"},{\"customdata\":[[\"Canton, China\",\"1920\"],[\"Damascus, Syria\",\"1920\"],[\"Fuchow, China\",\"1920\"],[\"Kwangtung, China\",\"1920\"],[\"Shanghai, China\",\"1920\"],[\"Kashing, Chekiang, China\",\"1920\"]],\"geo\":\"geo\",\"hovertemplate\":\"<b>%{hovertext}</b><br><br>Class of=%{customdata[1]}<br>Latitude=%{lat}<br>Longitude=%{lon}<br>Country=%{customdata[0]}<extra></extra>\",\"hovertext\":[\"Ching, Yao-Chuo\",\"Gammal, Charles Abraham\",\"Lu, Wen Siang\",\"Tan, Shao-fan\",\"Tsen, Yeo Kung\",\"Tsu, Feng Chang\"],\"lat\":[23.1290798,33.5019799,26.076111,23.1322,31.2304,30.766667],\"legendgroup\":\"1920\",\"lon\":[113.2643585,36.29805,119.306389,113.2665,121.4737,120.75],\"marker\":{\"color\":\"#EF553B\",\"symbol\":\"circle\"},\"mode\":\"markers\",\"name\":\"1920\",\"showlegend\":true,\"type\":\"scattergeo\"},{\"customdata\":[[\"Shanghai, China\",\"1942\"],[\"Ponce, Puerto Rico\",\"1942\"]],\"geo\":\"geo\",\"hovertemplate\":\"<b>%{hovertext}</b><br><br>Class of=%{customdata[1]}<br>Latitude=%{lat}<br>Longitude=%{lon}<br>Country=%{customdata[0]}<extra></extra>\",\"hovertext\":[\"Chu, Morris Chun-Chia\",\"Totti, Noel, Jr. \"],\"lat\":[31.2304,18.0126282],\"legendgroup\":\"1942\",\"lon\":[121.4737,-66.6260381],\"marker\":{\"color\":\"#00cc96\",\"symbol\":\"circle\"},\"mode\":\"markers\",\"name\":\"1942\",\"showlegend\":true,\"type\":\"scattergeo\"},{\"customdata\":[[\"Victoria, Australia\",\"1905\"],[\"Merida, Mexico\",\"1905\"],[\"St. John, New Brunswick\",\"1905\"]],\"geo\":\"geo\",\"hovertemplate\":\"<b>%{hovertext}</b><br><br>Class of=%{customdata[1]}<br>Latitude=%{lat}<br>Longitude=%{lon}<br>Country=%{customdata[0]}<extra></extra>\",\"hovertext\":[\"Clapp, F. Boardman Jr.\",\"Rosado, Manuel G.\",\"Stone, J. Waldo\"],\"lat\":[-36.5588,20.9677756,45.2796],\"legendgroup\":\"1905\",\"lon\":[145.469,-89.6242631,-66.0628],\"marker\":{\"color\":\"#ab63fa\",\"symbol\":\"circle\"},\"mode\":\"markers\",\"name\":\"1905\",\"showlegend\":true,\"type\":\"scattergeo\"},{\"customdata\":[[\"Danville, Quebec\",\"1884\"],[\"Hong Kong, China\",\"1884\"]],\"geo\":\"geo\",\"hovertemplate\":\"<b>%{hovertext}</b><br><br>Class of=%{customdata[1]}<br>Latitude=%{lat}<br>Longitude=%{lon}<br>Country=%{customdata[0]}<extra></extra>\",\"hovertext\":[\"Cleveland, Richard C.\",\"Wan, Bing Chung\"],\"lat\":[45.785197,22.3964],\"legendgroup\":\"1884\",\"lon\":[-72.014245,114.1095],\"marker\":{\"color\":\"#FFA15A\",\"symbol\":\"circle\"},\"mode\":\"markers\",\"name\":\"1884\",\"showlegend\":true,\"type\":\"scattergeo\"},{\"customdata\":[[\"Pymble, Australia\",\"1908\"]],\"geo\":\"geo\",\"hovertemplate\":\"<b>%{hovertext}</b><br><br>Class of=%{customdata[1]}<br>Latitude=%{lat}<br>Longitude=%{lon}<br>Country=%{customdata[0]}<extra></extra>\",\"hovertext\":[\"Cobb, Victor\"],\"lat\":[-33.76313],\"legendgroup\":\"1908\",\"lon\":[151.13481],\"marker\":{\"color\":\"#19d3f3\",\"symbol\":\"circle\"},\"mode\":\"markers\",\"name\":\"1908\",\"showlegend\":true,\"type\":\"scattergeo\"},{\"customdata\":[[\"Woodstock, New Brunswick\",\"1878\"],[\"Rio Janeiro, Brazil\",\"1878\"],[\"Rio Janeiro, Brazil\",\"1878\"]],\"geo\":\"geo\",\"hovertemplate\":\"<b>%{hovertext}</b><br><br>Class of=%{customdata[1]}<br>Latitude=%{lat}<br>Longitude=%{lon}<br>Country=%{customdata[0]}<extra></extra>\",\"hovertext\":[\"Connell, Jeremiah M.\",\"Da Silveira, J. L. M. \",\"Vierra, Joaquim J.\"],\"lat\":[46.152222,-22.9014475,-22.9014475],\"legendgroup\":\"1878\",\"lon\":[-67.598333,-43.1789159,-43.1789159],\"marker\":{\"color\":\"#FF6692\",\"symbol\":\"circle\"},\"mode\":\"markers\",\"name\":\"1878\",\"showlegend\":true,\"type\":\"scattergeo\"},{\"customdata\":[[\"Panni, Italy\",\"1913\"],[\"River Hebert, Nova Scotia\",\"1913\"]],\"geo\":\"geo\",\"hovertemplate\":\"<b>%{hovertext}</b><br><br>Class of=%{customdata[1]}<br>Latitude=%{lat}<br>Longitude=%{lon}<br>Country=%{customdata[0]}<extra></extra>\",\"hovertext\":[\"Croce, Michele F.\",\"Rockwell, Reginald\"],\"lat\":[41.2231481,45.690284],\"legendgroup\":\"1913\",\"lon\":[15.2756481,-64.378028],\"marker\":{\"color\":\"#B6E880\",\"symbol\":\"circle\"},\"mode\":\"markers\",\"name\":\"1913\",\"showlegend\":true,\"type\":\"scattergeo\"},{\"customdata\":[[\"Fajardo, Puerto Rico\",\"1915\"],[\"Fort William, Ontario\",\"1915\"]],\"geo\":\"geo\",\"hovertemplate\":\"<b>%{hovertext}</b><br><br>Class of=%{customdata[1]}<br>Latitude=%{lat}<br>Longitude=%{lon}<br>Country=%{customdata[0]}<extra></extra>\",\"hovertext\":[\"Diaz, Vincent\",\"Pennimam, Raymond B.\"],\"lat\":[18.3303791,51.2538],\"legendgroup\":\"1915\",\"lon\":[-65.6606059,-85.3232],\"marker\":{\"color\":\"#FF97FF\",\"symbol\":\"circle\"},\"mode\":\"markers\",\"name\":\"1915\",\"showlegend\":true,\"type\":\"scattergeo\"},{\"customdata\":[[\"Sherbrooke, Quebec\",\"1904\"]],\"geo\":\"geo\",\"hovertemplate\":\"<b>%{hovertext}</b><br><br>Class of=%{customdata[1]}<br>Latitude=%{lat}<br>Longitude=%{lon}<br>Country=%{customdata[0]}<extra></extra>\",\"hovertext\":[\"Dougherty, John J.\"],\"lat\":[45.4],\"legendgroup\":\"1904\",\"lon\":[-71.9],\"marker\":{\"color\":\"#FECB52\",\"symbol\":\"circle\"},\"mode\":\"markers\",\"name\":\"1904\",\"showlegend\":true,\"type\":\"scattergeo\"},{\"customdata\":[[\"London, England\",\"1910\"],[\"China\",\"1910\"],[\"Rio de Janeiro, Brazil\",\"1910\"]],\"geo\":\"geo\",\"hovertemplate\":\"<b>%{hovertext}</b><br><br>Class of=%{customdata[1]}<br>Latitude=%{lat}<br>Longitude=%{lon}<br>Country=%{customdata[0]}<extra></extra>\",\"hovertext\":[\"Downe, Edward\",\"Huang, Chen S.\",\"Vianna, John J.B.\"],\"lat\":[51.5001524,35.8617,-22.9014475],\"legendgroup\":\"1910\",\"lon\":[-0.1262362,104.1954,-43.1789159],\"marker\":{\"color\":\"#636efa\",\"symbol\":\"circle\"},\"mode\":\"markers\",\"name\":\"1910\",\"showlegend\":true,\"type\":\"scattergeo\"},{\"customdata\":[[\"Sweden\",\"1930\"],[\"Hyogoken, Japan\",\"1930\"],[\"Hoganas, Sweden\",\"1930\"],[\"Mayaguez, Puerto Rico\",\"1930\"],[\"Vieques, Puerto Rico\",\"1930\"],[\"London, England\",\"1930\"]],\"geo\":\"geo\",\"hovertemplate\":\"<b>%{hovertext}</b><br><br>Class of=%{customdata[1]}<br>Latitude=%{lat}<br>Longitude=%{lon}<br>Country=%{customdata[0]}<extra></extra>\",\"hovertext\":[\"Ericson, Alvan Otto\",\"Kuwada, Suenori\",\"Larson, Carl Gustav\",\"Ramirez, Efrain\",\"Serrano, Carlos Felipe\",\"Shreeve, Herbert Prescott\"],\"lat\":[60.1282,34.6913,56.2,18.201111,18.116667,51.5001524],\"legendgroup\":\"1930\",\"lon\":[18.6435,135.1831,12.566667,-67.139722,-65.416667,-0.1262362],\"marker\":{\"color\":\"#EF553B\",\"symbol\":\"circle\"},\"mode\":\"markers\",\"name\":\"1930\",\"showlegend\":true,\"type\":\"scattergeo\"},{\"customdata\":[[\"Montreal, Quebec\",\"1888\"],[\"Rezende, Brazil\",\"1888\"],[\"Montreal, Quebec\",\"1888\"],[\"Osaka, Japan\",\"1888\"],[\"Antwerp, Belgium\",\"1888\"]],\"geo\":\"geo\",\"hovertemplate\":\"<b>%{hovertext}</b><br><br>Class of=%{customdata[1]}<br>Latitude=%{lat}<br>Longitude=%{lon}<br>Country=%{customdata[0]}<extra></extra>\",\"hovertext\":[\"Fairman, F.L. Wilson\",\"Franklin, Alfredo A.\",\"Gilman, Ernest\",\"Shimomura, Kotaro M. \",\"Von Wrede, Guido Franz Hubert\"],\"lat\":[45.509062,-22.466726,45.509062,34.693889,51.217],\"legendgroup\":\"1888\",\"lon\":[-73.553363,-44.453738,-73.553363,135.502222,4.4],\"marker\":{\"color\":\"#00cc96\",\"symbol\":\"circle\"},\"mode\":\"markers\",\"name\":\"1888\",\"showlegend\":true,\"type\":\"scattergeo\"},{\"customdata\":[[\"Tatuky City, Brazil\",\"1879\"],[\"Barra Mansa, Rio de Janerio\",\"1879\"]],\"geo\":\"geo\",\"hovertemplate\":\"<b>%{hovertext}</b><br><br>Class of=%{customdata[1]}<br>Latitude=%{lat}<br>Longitude=%{lon}<br>Country=%{customdata[0]}<extra></extra>\",\"hovertext\":[\"Falcao, E. A.\",\"Silva, Joaquim Mariano\"],\"lat\":[-14.235,-22.543889],\"legendgroup\":\"1879\",\"lon\":[-51.9253,-44.170833],\"marker\":{\"color\":\"#ab63fa\",\"symbol\":\"circle\"},\"mode\":\"markers\",\"name\":\"1879\",\"showlegend\":true,\"type\":\"scattergeo\"},{\"customdata\":[[\"Beyrouth, Syria\",\"1914\"],[\"Tientsin, China\",\"1914\"],[\"Mayaguez, Puerto Rico\",\"1914\"],[\"Peking, China\",\"1914\"],[\"Shanghai, China\",\"1914\"],[\"Hangchow, China\",\"1914\"]],\"geo\":\"geo\",\"hovertemplate\":\"<b>%{hovertext}</b><br><br>Class of=%{customdata[1]}<br>Latitude=%{lat}<br>Longitude=%{lon}<br>Country=%{customdata[0]}<extra></extra>\",\"hovertext\":[\"Farah, Hanna K.\",\"Mei, Yi Chi\",\"Vidal, Raphael\",\"Wong, John\",\"Yang, Sih-zung\",\"Yuan, Tsong-Kyien\"],\"lat\":[33.886944,39.0851,18.201111,53.4562,31.2304,30.25],\"legendgroup\":\"1914\",\"lon\":[35.513056,117.1994,-67.139722,-7.4934,121.4737,120.166667],\"marker\":{\"color\":\"#FFA15A\",\"symbol\":\"circle\"},\"mode\":\"markers\",\"name\":\"1914\",\"showlegend\":true,\"type\":\"scattergeo\"},{\"customdata\":[[\" St. Stephen, New Brunswick\",\"1900\"],[\"London, England\",\"1900\"],[\"Harpoot, Armenia\",\"1900\"],[\"Guatemala City, Guatemala\",\"1900\"]],\"geo\":\"geo\",\"hovertemplate\":\"<b>%{hovertext}</b><br><br>Class of=%{customdata[1]}<br>Latitude=%{lat}<br>Longitude=%{lon}<br>Country=%{customdata[0]}<extra></extra>\",\"hovertext\":[\"Ganong, Walter K.\",\"Mathews, William J. \",\"Shaghalian, Sarkis\",\"Yrigoyen, Juan I. \"],\"lat\":[45.194163,51.5001524,38.666667,14.613333],\"legendgroup\":\"1900\",\"lon\":[-67.275443,-0.1262362,39.216667,-90.535278],\"marker\":{\"color\":\"#19d3f3\",\"symbol\":\"circle\"},\"mode\":\"markers\",\"name\":\"1900\",\"showlegend\":true,\"type\":\"scattergeo\"},{\"customdata\":[[\"Hamilton, Ontario\",\"1943\"],[\"Istanbul, Turkey\",\"1943\"],[\"India\",\"1943\"],[\"Manila, Philippines\",\"1943\"]],\"geo\":\"geo\",\"hovertemplate\":\"<b>%{hovertext}</b><br><br>Class of=%{customdata[1]}<br>Latitude=%{lat}<br>Longitude=%{lon}<br>Country=%{customdata[0]}<extra></extra>\",\"hovertext\":[\"Goddard, Richard Cook \",\"Kerven, Danyal Nahit\",\"Pattani, Shashikant Batuk\",\"Zaragoza, Jose Luis\"],\"lat\":[43.25,41.013,20.5937,14.5822592],\"legendgroup\":\"1943\",\"lon\":[-79.866667,28.9638,78.9629,120.9748038],\"marker\":{\"color\":\"#FF6692\",\"symbol\":\"circle\"},\"mode\":\"markers\",\"name\":\"1943\",\"showlegend\":true,\"type\":\"scattergeo\"},{\"customdata\":[[\"Rio Janeiro, Brazil\",\"1889\"]],\"geo\":\"geo\",\"hovertemplate\":\"<b>%{hovertext}</b><br><br>Class of=%{customdata[1]}<br>Latitude=%{lat}<br>Longitude=%{lon}<br>Country=%{customdata[0]}<extra></extra>\",\"hovertext\":[\"Gomes, Alfredo\"],\"lat\":[-22.9014475],\"legendgroup\":\"1889\",\"lon\":[-43.1789159],\"marker\":{\"color\":\"#B6E880\",\"symbol\":\"circle\"},\"mode\":\"markers\",\"name\":\"1889\",\"showlegend\":true,\"type\":\"scattergeo\"},{\"customdata\":[[\"Rio Janeiro, Brazil\",\"1882\"]],\"geo\":\"geo\",\"hovertemplate\":\"<b>%{hovertext}</b><br><br>Class of=%{customdata[1]}<br>Latitude=%{lat}<br>Longitude=%{lon}<br>Country=%{customdata[0]}<extra></extra>\",\"hovertext\":[\"Gray, Robert\"],\"lat\":[-22.9014475],\"legendgroup\":\"1882\",\"lon\":[-43.1789159],\"marker\":{\"color\":\"#FF97FF\",\"symbol\":\"circle\"},\"mode\":\"markers\",\"name\":\"1882\",\"showlegend\":true,\"type\":\"scattergeo\"},{\"customdata\":[[\"Antofagasta, Chili\",\"1883\"]],\"geo\":\"geo\",\"hovertemplate\":\"<b>%{hovertext}</b><br><br>Class of=%{customdata[1]}<br>Latitude=%{lat}<br>Longitude=%{lon}<br>Country=%{customdata[0]}<extra></extra>\",\"hovertext\":[\"Greene, Richard W.\"],\"lat\":[-23.6266015],\"legendgroup\":\"1883\",\"lon\":[-70.390128],\"marker\":{\"color\":\"#FECB52\",\"symbol\":\"circle\"},\"mode\":\"markers\",\"name\":\"1883\",\"showlegend\":true,\"type\":\"scattergeo\"},{\"customdata\":[[\"Armenia\",\"1935\"]],\"geo\":\"geo\",\"hovertemplate\":\"<b>%{hovertext}</b><br><br>Class of=%{customdata[1]}<br>Latitude=%{lat}<br>Longitude=%{lon}<br>Country=%{customdata[0]}<extra></extra>\",\"hovertext\":[\"Ivanzian, Aghasi Ivy\"],\"lat\":[40.0691],\"legendgroup\":\"1935\",\"lon\":[45.0382],\"marker\":{\"color\":\"#636efa\",\"symbol\":\"circle\"},\"mode\":\"markers\",\"name\":\"1935\",\"showlegend\":true,\"type\":\"scattergeo\"},{\"customdata\":[[\"Calcutta, India\",\"1936\"]],\"geo\":\"geo\",\"hovertemplate\":\"<b>%{hovertext}</b><br><br>Class of=%{customdata[1]}<br>Latitude=%{lat}<br>Longitude=%{lon}<br>Country=%{customdata[0]}<extra></extra>\",\"hovertext\":[\"Kaplanko, Alexander\"],\"lat\":[22.5655734],\"legendgroup\":\"1936\",\"lon\":[88.3702152],\"marker\":{\"color\":\"#EF553B\",\"symbol\":\"circle\"},\"mode\":\"markers\",\"name\":\"1936\",\"showlegend\":true,\"type\":\"scattergeo\"},{\"customdata\":[[\"Yarmouth, Nova Scotia\",\"1897\"]],\"geo\":\"geo\",\"hovertemplate\":\"<b>%{hovertext}</b><br><br>Class of=%{customdata[1]}<br>Latitude=%{lat}<br>Longitude=%{lon}<br>Country=%{customdata[0]}<extra></extra>\",\"hovertext\":[\"Killam, W. Stanley\"],\"lat\":[43.836111],\"legendgroup\":\"1897\",\"lon\":[-66.1175],\"marker\":{\"color\":\"#00cc96\",\"symbol\":\"circle\"},\"mode\":\"markers\",\"name\":\"1897\",\"showlegend\":true,\"type\":\"scattergeo\"},{\"customdata\":[[\"Dist Satara, India\",\"1939\"],[\"Dist Satara, India\",\"1939\"],[\"Balboa Heights, Canal Zone\",\"1939\"]],\"geo\":\"geo\",\"hovertemplate\":\"<b>%{hovertext}</b><br><br>Class of=%{customdata[1]}<br>Latitude=%{lat}<br>Longitude=%{lon}<br>Country=%{customdata[0]}<extra></extra>\",\"hovertext\":[\"Kirloskar, Ravindra\",\"Korolyshun, Russell Theodore\",\"Piper, Raymond Burton\"],\"lat\":[17.69139,17.69139,8.95],\"legendgroup\":\"1939\",\"lon\":[74.00092,74.00092,-79.55],\"marker\":{\"color\":\"#ab63fa\",\"symbol\":\"circle\"},\"mode\":\"markers\",\"name\":\"1939\",\"showlegend\":true,\"type\":\"scattergeo\"},{\"customdata\":[[\"Halsm\\u00fchlen, Germany\",\"1880\"]],\"geo\":\"geo\",\"hovertemplate\":\"<b>%{hovertext}</b><br><br>Class of=%{customdata[1]}<br>Latitude=%{lat}<br>Longitude=%{lon}<br>Country=%{customdata[0]}<extra></extra>\",\"hovertext\":[\"K\\u00f6pke, Ernst\"],\"lat\":[52.6367],\"legendgroup\":\"1880\",\"lon\":[9.8451],\"marker\":{\"color\":\"#FFA15A\",\"symbol\":\"circle\"},\"mode\":\"markers\",\"name\":\"1880\",\"showlegend\":true,\"type\":\"scattergeo\"},{\"customdata\":[[\"Tokio, Japan\",\"1893\"]],\"geo\":\"geo\",\"hovertemplate\":\"<b>%{hovertext}</b><br><br>Class of=%{customdata[1]}<br>Latitude=%{lat}<br>Longitude=%{lon}<br>Country=%{customdata[0]}<extra></extra>\",\"hovertext\":[\"Kuwada, Gompei\"],\"lat\":[35.6895],\"legendgroup\":\"1893\",\"lon\":[139.6917],\"marker\":{\"color\":\"#19d3f3\",\"symbol\":\"circle\"},\"mode\":\"markers\",\"name\":\"1893\",\"showlegend\":true,\"type\":\"scattergeo\"},{\"customdata\":[[\"Heong San, China\",\"1887\"],[\"Guatemala\",\"1887\"]],\"geo\":\"geo\",\"hovertemplate\":\"<b>%{hovertext}</b><br><br>Class of=%{customdata[1]}<br>Latitude=%{lat}<br>Longitude=%{lon}<br>Country=%{customdata[0]}<extra></extra>\",\"hovertext\":[\"Landsing, Jang\",\"Quevedo, Narciso F.\"],\"lat\":[22.533333,15.783471],\"legendgroup\":\"1887\",\"lon\":[113.35,-90.230759],\"marker\":{\"color\":\"#FF6692\",\"symbol\":\"circle\"},\"mode\":\"markers\",\"name\":\"1887\",\"showlegend\":true,\"type\":\"scattergeo\"},{\"customdata\":[[\"Yokohama, Japan\",\"1901\"]],\"geo\":\"geo\",\"hovertemplate\":\"<b>%{hovertext}</b><br><br>Class of=%{customdata[1]}<br>Latitude=%{lat}<br>Longitude=%{lon}<br>Country=%{customdata[0]}<extra></extra>\",\"hovertext\":[\"Loomis, Evarts J.\"],\"lat\":[35.3200263],\"legendgroup\":\"1901\",\"lon\":[139.5800484],\"marker\":{\"color\":\"#B6E880\",\"symbol\":\"circle\"},\"mode\":\"markers\",\"name\":\"1901\",\"showlegend\":true,\"type\":\"scattergeo\"},{\"customdata\":[[\"Tokie, Japan\",\"1877\"],[\"St. Stephen, New Brunswick\",\"1877\"]],\"geo\":\"geo\",\"hovertemplate\":\"<b>%{hovertext}</b><br><br>Class of=%{customdata[1]}<br>Latitude=%{lat}<br>Longitude=%{lon}<br>Country=%{customdata[0]}<extra></extra>\",\"hovertext\":[\"Matsdaira, Tada-aty M.\",\"Todd, Howard C.\"],\"lat\":[35.6895,45.194163],\"legendgroup\":\"1877\",\"lon\":[139.6917,-67.275443],\"marker\":{\"color\":\"#FF97FF\",\"symbol\":\"circle\"},\"mode\":\"markers\",\"name\":\"1877\",\"showlegend\":true,\"type\":\"scattergeo\"},{\"customdata\":[[\"St. John, New Brunswick\",\"1933\"]],\"geo\":\"geo\",\"hovertemplate\":\"<b>%{hovertext}</b><br><br>Class of=%{customdata[1]}<br>Latitude=%{lat}<br>Longitude=%{lon}<br>Country=%{customdata[0]}<extra></extra>\",\"hovertext\":[\"McFarlane, Weldon Murray\"],\"lat\":[45.2796],\"legendgroup\":\"1933\",\"lon\":[-66.0628],\"marker\":{\"color\":\"#FECB52\",\"symbol\":\"circle\"},\"mode\":\"markers\",\"name\":\"1933\",\"showlegend\":true,\"type\":\"scattergeo\"},{\"customdata\":[[\"Montreal, Quebec\",\"1929\"]],\"geo\":\"geo\",\"hovertemplate\":\"<b>%{hovertext}</b><br><br>Class of=%{customdata[1]}<br>Latitude=%{lat}<br>Longitude=%{lon}<br>Country=%{customdata[0]}<extra></extra>\",\"hovertext\":[\"Minnick, John Hamilton\"],\"lat\":[45.509062],\"legendgroup\":\"1929\",\"lon\":[-73.553363],\"marker\":{\"color\":\"#636efa\",\"symbol\":\"circle\"},\"mode\":\"markers\",\"name\":\"1929\",\"showlegend\":true,\"type\":\"scattergeo\"},{\"customdata\":[[\"Tokie, Japan\",\"1876\"],[\"Saga, Japan\",\"1876\"]],\"geo\":\"geo\",\"hovertemplate\":\"<b>%{hovertext}</b><br><br>Class of=%{customdata[1]}<br>Latitude=%{lat}<br>Longitude=%{lon}<br>Country=%{customdata[0]}<extra></extra>\",\"hovertext\":[\"Mori, Haryosh\",\"Takee, Kenechiro\"],\"lat\":[35.6895,33.2935],\"legendgroup\":\"1876\",\"lon\":[139.6917,130.0887],\"marker\":{\"color\":\"#EF553B\",\"symbol\":\"circle\"},\"mode\":\"markers\",\"name\":\"1876\",\"showlegend\":true,\"type\":\"scattergeo\"},{\"customdata\":[[\"Mexico City, Mexico\",\"1896\"],[\"Winnipeg, Manitoba\",\"1896\"],[\"Guantanamo, Cuba\",\"1896\"]],\"geo\":\"geo\",\"hovertemplate\":\"<b>%{hovertext}</b><br><br>Class of=%{customdata[1]}<br>Latitude=%{lat}<br>Longitude=%{lon}<br>Country=%{customdata[0]}<extra></extra>\",\"hovertext\":[\"Ramirez, Francisco J. \",\"Riley, R. Sanford\",\"Ros, Antonio M.\"],\"lat\":[53.4562,49.899444,20.136667],\"legendgroup\":\"1896\",\"lon\":[-7.4934,-97.139167,-75.213889],\"marker\":{\"color\":\"#00cc96\",\"symbol\":\"circle\"},\"mode\":\"markers\",\"name\":\"1896\",\"showlegend\":true,\"type\":\"scattergeo\"},{\"customdata\":[[\"Rio Janeiro, Brazil\",\"1885\"]],\"geo\":\"geo\",\"hovertemplate\":\"<b>%{hovertext}</b><br><br>Class of=%{customdata[1]}<br>Latitude=%{lat}<br>Longitude=%{lon}<br>Country=%{customdata[0]}<extra></extra>\",\"hovertext\":[\"Ramos, Ajax A.\"],\"lat\":[-22.9014475],\"legendgroup\":\"1885\",\"lon\":[-43.1789159],\"marker\":{\"color\":\"#ab63fa\",\"symbol\":\"circle\"},\"mode\":\"markers\",\"name\":\"1885\",\"showlegend\":true,\"type\":\"scattergeo\"},{\"customdata\":[[\"Winnipeg, Manitoba\",\"1891\"]],\"geo\":\"geo\",\"hovertemplate\":\"<b>%{hovertext}</b><br><br>Class of=%{customdata[1]}<br>Latitude=%{lat}<br>Longitude=%{lon}<br>Country=%{customdata[0]}<extra></extra>\",\"hovertext\":[\"Somerset, Herbert J.\"],\"lat\":[49.899444],\"legendgroup\":\"1891\",\"lon\":[-97.139167],\"marker\":{\"color\":\"#FFA15A\",\"symbol\":\"circle\"},\"mode\":\"markers\",\"name\":\"1891\",\"showlegend\":true,\"type\":\"scattergeo\"},{\"customdata\":[[\"St. John, New Brunswick\",\"1895\"]],\"geo\":\"geo\",\"hovertemplate\":\"<b>%{hovertext}</b><br><br>Class of=%{customdata[1]}<br>Latitude=%{lat}<br>Longitude=%{lon}<br>Country=%{customdata[0]}<extra></extra>\",\"hovertext\":[\"Stone, Fred L.\"],\"lat\":[45.2796],\"legendgroup\":\"1895\",\"lon\":[-66.0628],\"marker\":{\"color\":\"#19d3f3\",\"symbol\":\"circle\"},\"mode\":\"markers\",\"name\":\"1895\",\"showlegend\":true,\"type\":\"scattergeo\"},{\"customdata\":[[\"Bangkok, Thailand\",\"1940\"]],\"geo\":\"geo\",\"hovertemplate\":\"<b>%{hovertext}</b><br><br>Class of=%{customdata[1]}<br>Latitude=%{lat}<br>Longitude=%{lon}<br>Country=%{customdata[0]}<extra></extra>\",\"hovertext\":[\"Tishyanandana, Chamroon\"],\"lat\":[13.7522],\"legendgroup\":\"1940\",\"lon\":[100.4939],\"marker\":{\"color\":\"#FF6692\",\"symbol\":\"circle\"},\"mode\":\"markers\",\"name\":\"1940\",\"showlegend\":true,\"type\":\"scattergeo\"},{\"customdata\":[[\"Ponce, Puerto Rico\",\"1899\"]],\"geo\":\"geo\",\"hovertemplate\":\"<b>%{hovertext}</b><br><br>Class of=%{customdata[1]}<br>Latitude=%{lat}<br>Longitude=%{lon}<br>Country=%{customdata[0]}<extra></extra>\",\"hovertext\":[\"Valdivieso, Enrique P.\"],\"lat\":[18.0126282],\"legendgroup\":\"1899\",\"lon\":[-66.6260381],\"marker\":{\"color\":\"#B6E880\",\"symbol\":\"circle\"},\"mode\":\"markers\",\"name\":\"1899\",\"showlegend\":true,\"type\":\"scattergeo\"},{\"customdata\":[[\"Leopoldina, Brazil\",\"1903\"]],\"geo\":\"geo\",\"hovertemplate\":\"<b>%{hovertext}</b><br><br>Class of=%{customdata[1]}<br>Latitude=%{lat}<br>Longitude=%{lon}<br>Country=%{customdata[0]}<extra></extra>\",\"hovertext\":[\"Werneck, Elpidio DeL.\"],\"lat\":[-21.5201054],\"legendgroup\":\"1903\",\"lon\":[-42.6446473],\"marker\":{\"color\":\"#FF97FF\",\"symbol\":\"circle\"},\"mode\":\"markers\",\"name\":\"1903\",\"showlegend\":true,\"type\":\"scattergeo\"},{\"customdata\":[[\"Canton, China\",\"1919\"]],\"geo\":\"geo\",\"hovertemplate\":\"<b>%{hovertext}</b><br><br>Class of=%{customdata[1]}<br>Latitude=%{lat}<br>Longitude=%{lon}<br>Country=%{customdata[0]}<extra></extra>\",\"hovertext\":[\"Yen, King Lau\"],\"lat\":[23.1290798],\"legendgroup\":\"1919\",\"lon\":[113.2643585],\"marker\":{\"color\":\"#FECB52\",\"symbol\":\"circle\"},\"mode\":\"markers\",\"name\":\"1919\",\"showlegend\":true,\"type\":\"scattergeo\"},{\"customdata\":[[\"Tang Shan, Chihli, China\",\"nan\"]],\"geo\":\"geo\",\"hovertemplate\":\"<b>%{hovertext}</b><br><br>Class of=%{customdata[1]}<br>Latitude=%{lat}<br>Longitude=%{lon}<br>Country=%{customdata[0]}<extra></extra>\",\"hovertext\":[\"Yuan, Harold Hsiang-Ho\"],\"lat\":[39.6],\"legendgroup\":\"nan\",\"lon\":[118.176111],\"marker\":{\"color\":\"#636efa\",\"symbol\":\"circle\"},\"mode\":\"markers\",\"name\":\"nan\",\"showlegend\":true,\"type\":\"scattergeo\"}],                        {\"geo\":{\"center\":{},\"domain\":{\"x\":[0.0,1.0],\"y\":[0.0,1.0]},\"projection\":{\"type\":\"winkel tripel\"}},\"legend\":{\"title\":{\"text\":\"Class of\"},\"tracegroupgap\":0},\"template\":{\"data\":{\"bar\":[{\"error_x\":{\"color\":\"#2a3f5f\"},\"error_y\":{\"color\":\"#2a3f5f\"},\"marker\":{\"line\":{\"color\":\"#E5ECF6\",\"width\":0.5},\"pattern\":{\"fillmode\":\"overlay\",\"size\":10,\"solidity\":0.2}},\"type\":\"bar\"}],\"barpolar\":[{\"marker\":{\"line\":{\"color\":\"#E5ECF6\",\"width\":0.5},\"pattern\":{\"fillmode\":\"overlay\",\"size\":10,\"solidity\":0.2}},\"type\":\"barpolar\"}],\"carpet\":[{\"aaxis\":{\"endlinecolor\":\"#2a3f5f\",\"gridcolor\":\"white\",\"linecolor\":\"white\",\"minorgridcolor\":\"white\",\"startlinecolor\":\"#2a3f5f\"},\"baxis\":{\"endlinecolor\":\"#2a3f5f\",\"gridcolor\":\"white\",\"linecolor\":\"white\",\"minorgridcolor\":\"white\",\"startlinecolor\":\"#2a3f5f\"},\"type\":\"carpet\"}],\"choropleth\":[{\"colorbar\":{\"outlinewidth\":0,\"ticks\":\"\"},\"type\":\"choropleth\"}],\"contour\":[{\"colorbar\":{\"outlinewidth\":0,\"ticks\":\"\"},\"colorscale\":[[0.0,\"#0d0887\"],[0.1111111111111111,\"#46039f\"],[0.2222222222222222,\"#7201a8\"],[0.3333333333333333,\"#9c179e\"],[0.4444444444444444,\"#bd3786\"],[0.5555555555555556,\"#d8576b\"],[0.6666666666666666,\"#ed7953\"],[0.7777777777777778,\"#fb9f3a\"],[0.8888888888888888,\"#fdca26\"],[1.0,\"#f0f921\"]],\"type\":\"contour\"}],\"contourcarpet\":[{\"colorbar\":{\"outlinewidth\":0,\"ticks\":\"\"},\"type\":\"contourcarpet\"}],\"heatmap\":[{\"colorbar\":{\"outlinewidth\":0,\"ticks\":\"\"},\"colorscale\":[[0.0,\"#0d0887\"],[0.1111111111111111,\"#46039f\"],[0.2222222222222222,\"#7201a8\"],[0.3333333333333333,\"#9c179e\"],[0.4444444444444444,\"#bd3786\"],[0.5555555555555556,\"#d8576b\"],[0.6666666666666666,\"#ed7953\"],[0.7777777777777778,\"#fb9f3a\"],[0.8888888888888888,\"#fdca26\"],[1.0,\"#f0f921\"]],\"type\":\"heatmap\"}],\"heatmapgl\":[{\"colorbar\":{\"outlinewidth\":0,\"ticks\":\"\"},\"colorscale\":[[0.0,\"#0d0887\"],[0.1111111111111111,\"#46039f\"],[0.2222222222222222,\"#7201a8\"],[0.3333333333333333,\"#9c179e\"],[0.4444444444444444,\"#bd3786\"],[0.5555555555555556,\"#d8576b\"],[0.6666666666666666,\"#ed7953\"],[0.7777777777777778,\"#fb9f3a\"],[0.8888888888888888,\"#fdca26\"],[1.0,\"#f0f921\"]],\"type\":\"heatmapgl\"}],\"histogram\":[{\"marker\":{\"pattern\":{\"fillmode\":\"overlay\",\"size\":10,\"solidity\":0.2}},\"type\":\"histogram\"}],\"histogram2d\":[{\"colorbar\":{\"outlinewidth\":0,\"ticks\":\"\"},\"colorscale\":[[0.0,\"#0d0887\"],[0.1111111111111111,\"#46039f\"],[0.2222222222222222,\"#7201a8\"],[0.3333333333333333,\"#9c179e\"],[0.4444444444444444,\"#bd3786\"],[0.5555555555555556,\"#d8576b\"],[0.6666666666666666,\"#ed7953\"],[0.7777777777777778,\"#fb9f3a\"],[0.8888888888888888,\"#fdca26\"],[1.0,\"#f0f921\"]],\"type\":\"histogram2d\"}],\"histogram2dcontour\":[{\"colorbar\":{\"outlinewidth\":0,\"ticks\":\"\"},\"colorscale\":[[0.0,\"#0d0887\"],[0.1111111111111111,\"#46039f\"],[0.2222222222222222,\"#7201a8\"],[0.3333333333333333,\"#9c179e\"],[0.4444444444444444,\"#bd3786\"],[0.5555555555555556,\"#d8576b\"],[0.6666666666666666,\"#ed7953\"],[0.7777777777777778,\"#fb9f3a\"],[0.8888888888888888,\"#fdca26\"],[1.0,\"#f0f921\"]],\"type\":\"histogram2dcontour\"}],\"mesh3d\":[{\"colorbar\":{\"outlinewidth\":0,\"ticks\":\"\"},\"type\":\"mesh3d\"}],\"parcoords\":[{\"line\":{\"colorbar\":{\"outlinewidth\":0,\"ticks\":\"\"}},\"type\":\"parcoords\"}],\"pie\":[{\"automargin\":true,\"type\":\"pie\"}],\"scatter\":[{\"marker\":{\"colorbar\":{\"outlinewidth\":0,\"ticks\":\"\"}},\"type\":\"scatter\"}],\"scatter3d\":[{\"line\":{\"colorbar\":{\"outlinewidth\":0,\"ticks\":\"\"}},\"marker\":{\"colorbar\":{\"outlinewidth\":0,\"ticks\":\"\"}},\"type\":\"scatter3d\"}],\"scattercarpet\":[{\"marker\":{\"colorbar\":{\"outlinewidth\":0,\"ticks\":\"\"}},\"type\":\"scattercarpet\"}],\"scattergeo\":[{\"marker\":{\"colorbar\":{\"outlinewidth\":0,\"ticks\":\"\"}},\"type\":\"scattergeo\"}],\"scattergl\":[{\"marker\":{\"colorbar\":{\"outlinewidth\":0,\"ticks\":\"\"}},\"type\":\"scattergl\"}],\"scattermapbox\":[{\"marker\":{\"colorbar\":{\"outlinewidth\":0,\"ticks\":\"\"}},\"type\":\"scattermapbox\"}],\"scatterpolar\":[{\"marker\":{\"colorbar\":{\"outlinewidth\":0,\"ticks\":\"\"}},\"type\":\"scatterpolar\"}],\"scatterpolargl\":[{\"marker\":{\"colorbar\":{\"outlinewidth\":0,\"ticks\":\"\"}},\"type\":\"scatterpolargl\"}],\"scatterternary\":[{\"marker\":{\"colorbar\":{\"outlinewidth\":0,\"ticks\":\"\"}},\"type\":\"scatterternary\"}],\"surface\":[{\"colorbar\":{\"outlinewidth\":0,\"ticks\":\"\"},\"colorscale\":[[0.0,\"#0d0887\"],[0.1111111111111111,\"#46039f\"],[0.2222222222222222,\"#7201a8\"],[0.3333333333333333,\"#9c179e\"],[0.4444444444444444,\"#bd3786\"],[0.5555555555555556,\"#d8576b\"],[0.6666666666666666,\"#ed7953\"],[0.7777777777777778,\"#fb9f3a\"],[0.8888888888888888,\"#fdca26\"],[1.0,\"#f0f921\"]],\"type\":\"surface\"}],\"table\":[{\"cells\":{\"fill\":{\"color\":\"#EBF0F8\"},\"line\":{\"color\":\"white\"}},\"header\":{\"fill\":{\"color\":\"#C8D4E3\"},\"line\":{\"color\":\"white\"}},\"type\":\"table\"}]},\"layout\":{\"annotationdefaults\":{\"arrowcolor\":\"#2a3f5f\",\"arrowhead\":0,\"arrowwidth\":1},\"autotypenumbers\":\"strict\",\"coloraxis\":{\"colorbar\":{\"outlinewidth\":0,\"ticks\":\"\"}},\"colorscale\":{\"diverging\":[[0,\"#8e0152\"],[0.1,\"#c51b7d\"],[0.2,\"#de77ae\"],[0.3,\"#f1b6da\"],[0.4,\"#fde0ef\"],[0.5,\"#f7f7f7\"],[0.6,\"#e6f5d0\"],[0.7,\"#b8e186\"],[0.8,\"#7fbc41\"],[0.9,\"#4d9221\"],[1,\"#276419\"]],\"sequential\":[[0.0,\"#0d0887\"],[0.1111111111111111,\"#46039f\"],[0.2222222222222222,\"#7201a8\"],[0.3333333333333333,\"#9c179e\"],[0.4444444444444444,\"#bd3786\"],[0.5555555555555556,\"#d8576b\"],[0.6666666666666666,\"#ed7953\"],[0.7777777777777778,\"#fb9f3a\"],[0.8888888888888888,\"#fdca26\"],[1.0,\"#f0f921\"]],\"sequentialminus\":[[0.0,\"#0d0887\"],[0.1111111111111111,\"#46039f\"],[0.2222222222222222,\"#7201a8\"],[0.3333333333333333,\"#9c179e\"],[0.4444444444444444,\"#bd3786\"],[0.5555555555555556,\"#d8576b\"],[0.6666666666666666,\"#ed7953\"],[0.7777777777777778,\"#fb9f3a\"],[0.8888888888888888,\"#fdca26\"],[1.0,\"#f0f921\"]]},\"colorway\":[\"#636efa\",\"#EF553B\",\"#00cc96\",\"#ab63fa\",\"#FFA15A\",\"#19d3f3\",\"#FF6692\",\"#B6E880\",\"#FF97FF\",\"#FECB52\"],\"font\":{\"color\":\"#2a3f5f\"},\"geo\":{\"bgcolor\":\"white\",\"lakecolor\":\"white\",\"landcolor\":\"#E5ECF6\",\"showlakes\":true,\"showland\":true,\"subunitcolor\":\"white\"},\"hoverlabel\":{\"align\":\"left\"},\"hovermode\":\"closest\",\"mapbox\":{\"style\":\"light\"},\"paper_bgcolor\":\"white\",\"plot_bgcolor\":\"#E5ECF6\",\"polar\":{\"angularaxis\":{\"gridcolor\":\"white\",\"linecolor\":\"white\",\"ticks\":\"\"},\"bgcolor\":\"#E5ECF6\",\"radialaxis\":{\"gridcolor\":\"white\",\"linecolor\":\"white\",\"ticks\":\"\"}},\"scene\":{\"xaxis\":{\"backgroundcolor\":\"#E5ECF6\",\"gridcolor\":\"white\",\"gridwidth\":2,\"linecolor\":\"white\",\"showbackground\":true,\"ticks\":\"\",\"zerolinecolor\":\"white\"},\"yaxis\":{\"backgroundcolor\":\"#E5ECF6\",\"gridcolor\":\"white\",\"gridwidth\":2,\"linecolor\":\"white\",\"showbackground\":true,\"ticks\":\"\",\"zerolinecolor\":\"white\"},\"zaxis\":{\"backgroundcolor\":\"#E5ECF6\",\"gridcolor\":\"white\",\"gridwidth\":2,\"linecolor\":\"white\",\"showbackground\":true,\"ticks\":\"\",\"zerolinecolor\":\"white\"}},\"shapedefaults\":{\"line\":{\"color\":\"#2a3f5f\"}},\"ternary\":{\"aaxis\":{\"gridcolor\":\"white\",\"linecolor\":\"white\",\"ticks\":\"\"},\"baxis\":{\"gridcolor\":\"white\",\"linecolor\":\"white\",\"ticks\":\"\"},\"bgcolor\":\"#E5ECF6\",\"caxis\":{\"gridcolor\":\"white\",\"linecolor\":\"white\",\"ticks\":\"\"}},\"title\":{\"x\":0.05},\"xaxis\":{\"automargin\":true,\"gridcolor\":\"white\",\"linecolor\":\"white\",\"ticks\":\"\",\"title\":{\"standoff\":15},\"zerolinecolor\":\"white\",\"zerolinewidth\":2},\"yaxis\":{\"automargin\":true,\"gridcolor\":\"white\",\"linecolor\":\"white\",\"ticks\":\"\",\"title\":{\"standoff\":15},\"zerolinecolor\":\"white\",\"zerolinewidth\":2}}},\"title\":{\"text\":\"Map 1. Home City and Country of WPI International Students (1876-1943)\"}},                        {\"responsive\": true}                    ).then(function(){\n",
       "                            \n",
       "var gd = document.getElementById('9d140d43-6cab-4d6f-8aef-ca34f9671b7b');\n",
       "var x = new MutationObserver(function (mutations, observer) {{\n",
       "        var display = window.getComputedStyle(gd).display;\n",
       "        if (!display || display === 'none') {{\n",
       "            console.log([gd, 'removed!']);\n",
       "            Plotly.purge(gd);\n",
       "            observer.disconnect();\n",
       "        }}\n",
       "}});\n",
       "\n",
       "// Listen for the removal of the full notebook cells\n",
       "var notebookContainer = gd.closest('#notebook-container');\n",
       "if (notebookContainer) {{\n",
       "    x.observe(notebookContainer, {childList: true});\n",
       "}}\n",
       "\n",
       "// Listen for the clearing of the current output cell\n",
       "var outputEl = gd.closest('.output');\n",
       "if (outputEl) {{\n",
       "    x.observe(outputEl, {childList: true});\n",
       "}}\n",
       "\n",
       "                        })                };                });            </script>        </div>"
      ]
     },
     "metadata": {},
     "output_type": "display_data"
    }
   ],
   "source": [
    "#create map to display all International students home city/town or country (if no city/town was provided)\n",
    "#color based on year graduated\n",
    "\n",
    "fig = px.scatter_geo(\n",
    "    isdf,\n",
    "    lat=isdf['hlat'],\n",
    "    lon=isdf['hlong'],\n",
    "    color=isdf['classof'],\n",
    "    hover_name=isdf['sname'],\n",
    "    hover_data=[isdf['home1'], isdf['classof']],\n",
    "    labels={'classof':'Class of','hlat':'Latitude','hlong':'Longitude','home1':'Country'},\n",
    "    #projection='conic conformal',\n",
    "    projection='winkel tripel',\n",
    "    title='Map 1. Home City and Country of WPI International Students (1876-1943)'\n",
    ")\n",
    "\n",
    "fig.show()"
   ]
  },
  {
   "cell_type": "code",
   "execution_count": 4,
   "metadata": {},
   "outputs": [],
   "source": [
    "#concatenate country, latitude, and longitude as column to prepare to pivot dataframe\n",
    "\n",
    "#convert year to string, all values for concatenate must be strings\n",
    "isdf['classof'] = isdf['classof'].astype(str)\n",
    "\n",
    "#remove decimal and zero from year by taking only first 4 characters\n",
    "isdf['classof'] = isdf['classof'].str[0:4]\n",
    "\n",
    "#for map showing all international students from each country, concatenate country name, latitude, and longitude\n",
    "isdf['cll'] = isdf['country1'] + '|' + isdf['clat'] + '|' + isdf['clong']\n",
    "\n",
    "#for map of all international students from each country by year, concatenate country name, latitude, longitude, and year\n",
    "isdf['cllclass'] = isdf['country1'] + '|' + isdf['clat'] + '|' + isdf['clong'] + '|' + isdf['classof']"
   ]
  },
  {
   "cell_type": "code",
   "execution_count": 5,
   "metadata": {},
   "outputs": [],
   "source": [
    "#pivot isdf dataframe based on concatenated country+lat+long using student name as index and year as value\n",
    "pivot = isdf.pivot(index='sname', columns='cll', values='classof')\n",
    "\n",
    "#count the number of times the country is listed\n",
    "countc = pivot.count()\n",
    "\n",
    "#convert countc series to dataframe\n",
    "countdf = countc.to_frame()\n",
    "\n",
    "#make cll index to column\n",
    "countdf.reset_index(inplace=True)\n",
    "\n",
    "#rename column\n",
    "countdf = countdf.rename(columns={0:'country_count'})"
   ]
  },
  {
   "cell_type": "code",
   "execution_count": 6,
   "metadata": {},
   "outputs": [],
   "source": [
    "#split cll to 3 columns for country name, latitude, and longitude using | as delimter\n",
    "countdf[['c2','latc','lonc']] = countdf.cll.str.split(\"|\",expand=True)"
   ]
  },
  {
   "cell_type": "markdown",
   "metadata": {},
   "source": [
    "<a id=\"002\"></a>"
   ]
  },
  {
   "cell_type": "code",
   "execution_count": 7,
   "metadata": {},
   "outputs": [
    {
     "data": {
      "application/vnd.plotly.v1+json": {
       "config": {
        "plotlyServerURL": "https://plot.ly"
       },
       "data": [
        {
         "customdata": [
          [
           1
          ]
         ],
         "geo": "geo",
         "hovertemplate": "<b>%{hovertext}</b><br><br>Country=Argentina<br>Number from Country=%{customdata[0]}<br>Latitude=%{lat}<br>Longitude=%{lon}<extra></extra>",
         "hovertext": [
          "Argentina"
         ],
         "lat": [
          "-38.416097"
         ],
         "legendgroup": "Argentina",
         "lon": [
          "-63.616672"
         ],
         "marker": {
          "color": "#636efa",
          "size": [
           1
          ],
          "sizemode": "area",
          "sizeref": 0.0825,
          "symbol": "circle"
         },
         "mode": "markers",
         "name": "Argentina",
         "showlegend": true,
         "type": "scattergeo"
        },
        {
         "customdata": [
          [
           3
          ]
         ],
         "geo": "geo",
         "hovertemplate": "<b>%{hovertext}</b><br><br>Country=Armenia<br>Number from Country=%{customdata[0]}<br>Latitude=%{lat}<br>Longitude=%{lon}<extra></extra>",
         "hovertext": [
          "Armenia"
         ],
         "lat": [
          "40.069099"
         ],
         "legendgroup": "Armenia",
         "lon": [
          "45.038189"
         ],
         "marker": {
          "color": "#EF553B",
          "size": [
           3
          ],
          "sizemode": "area",
          "sizeref": 0.0825,
          "symbol": "circle"
         },
         "mode": "markers",
         "name": "Armenia",
         "showlegend": true,
         "type": "scattergeo"
        },
        {
         "customdata": [
          [
           6
          ]
         ],
         "geo": "geo",
         "hovertemplate": "<b>%{hovertext}</b><br><br>Country=Australia<br>Number from Country=%{customdata[0]}<br>Latitude=%{lat}<br>Longitude=%{lon}<extra></extra>",
         "hovertext": [
          "Australia"
         ],
         "lat": [
          "-25.274398"
         ],
         "legendgroup": "Australia",
         "lon": [
          "133.775136"
         ],
         "marker": {
          "color": "#00cc96",
          "size": [
           6
          ],
          "sizemode": "area",
          "sizeref": 0.0825,
          "symbol": "circle"
         },
         "mode": "markers",
         "name": "Australia",
         "showlegend": true,
         "type": "scattergeo"
        },
        {
         "customdata": [
          [
           1
          ]
         ],
         "geo": "geo",
         "hovertemplate": "<b>%{hovertext}</b><br><br>Country=Austria<br>Number from Country=%{customdata[0]}<br>Latitude=%{lat}<br>Longitude=%{lon}<extra></extra>",
         "hovertext": [
          "Austria"
         ],
         "lat": [
          "47.516231"
         ],
         "legendgroup": "Austria",
         "lon": [
          "14.550072"
         ],
         "marker": {
          "color": "#ab63fa",
          "size": [
           1
          ],
          "sizemode": "area",
          "sizeref": 0.0825,
          "symbol": "circle"
         },
         "mode": "markers",
         "name": "Austria",
         "showlegend": true,
         "type": "scattergeo"
        },
        {
         "customdata": [
          [
           1
          ]
         ],
         "geo": "geo",
         "hovertemplate": "<b>%{hovertext}</b><br><br>Country=Belgium<br>Number from Country=%{customdata[0]}<br>Latitude=%{lat}<br>Longitude=%{lon}<extra></extra>",
         "hovertext": [
          "Belgium"
         ],
         "lat": [
          "50.503887"
         ],
         "legendgroup": "Belgium",
         "lon": [
          "4.469936"
         ],
         "marker": {
          "color": "#FFA15A",
          "size": [
           1
          ],
          "sizemode": "area",
          "sizeref": 0.0825,
          "symbol": "circle"
         },
         "mode": "markers",
         "name": "Belgium",
         "showlegend": true,
         "type": "scattergeo"
        },
        {
         "customdata": [
          [
           13
          ]
         ],
         "geo": "geo",
         "hovertemplate": "<b>%{hovertext}</b><br><br>Country=Brazil<br>Number from Country=%{customdata[0]}<br>Latitude=%{lat}<br>Longitude=%{lon}<extra></extra>",
         "hovertext": [
          "Brazil"
         ],
         "lat": [
          "-14.235004"
         ],
         "legendgroup": "Brazil",
         "lon": [
          "-51.92528"
         ],
         "marker": {
          "color": "#19d3f3",
          "size": [
           13
          ],
          "sizemode": "area",
          "sizeref": 0.0825,
          "symbol": "circle"
         },
         "mode": "markers",
         "name": "Brazil",
         "showlegend": true,
         "type": "scattergeo"
        },
        {
         "customdata": [
          [
           1
          ]
         ],
         "geo": "geo",
         "hovertemplate": "<b>%{hovertext}</b><br><br>Country=Bulgaria<br>Number from Country=%{customdata[0]}<br>Latitude=%{lat}<br>Longitude=%{lon}<extra></extra>",
         "hovertext": [
          "Bulgaria"
         ],
         "lat": [
          "42.733883"
         ],
         "legendgroup": "Bulgaria",
         "lon": [
          "25.48583"
         ],
         "marker": {
          "color": "#FF6692",
          "size": [
           1
          ],
          "sizemode": "area",
          "sizeref": 0.0825,
          "symbol": "circle"
         },
         "mode": "markers",
         "name": "Bulgaria",
         "showlegend": true,
         "type": "scattergeo"
        },
        {
         "customdata": [
          [
           33
          ]
         ],
         "geo": "geo",
         "hovertemplate": "<b>%{hovertext}</b><br><br>Country=Canada<br>Number from Country=%{customdata[0]}<br>Latitude=%{lat}<br>Longitude=%{lon}<extra></extra>",
         "hovertext": [
          "Canada"
         ],
         "lat": [
          "56.130366"
         ],
         "legendgroup": "Canada",
         "lon": [
          "-106.346771"
         ],
         "marker": {
          "color": "#B6E880",
          "size": [
           33
          ],
          "sizemode": "area",
          "sizeref": 0.0825,
          "symbol": "circle"
         },
         "mode": "markers",
         "name": "Canada",
         "showlegend": true,
         "type": "scattergeo"
        },
        {
         "customdata": [
          [
           3
          ]
         ],
         "geo": "geo",
         "hovertemplate": "<b>%{hovertext}</b><br><br>Country=Chile<br>Number from Country=%{customdata[0]}<br>Latitude=%{lat}<br>Longitude=%{lon}<extra></extra>",
         "hovertext": [
          "Chile"
         ],
         "lat": [
          "-35.675147"
         ],
         "legendgroup": "Chile",
         "lon": [
          "-71.542969"
         ],
         "marker": {
          "color": "#FF97FF",
          "size": [
           3
          ],
          "sizemode": "area",
          "sizeref": 0.0825,
          "symbol": "circle"
         },
         "mode": "markers",
         "name": "Chile",
         "showlegend": true,
         "type": "scattergeo"
        },
        {
         "customdata": [
          [
           31
          ],
          [
           1
          ]
         ],
         "geo": "geo",
         "hovertemplate": "<b>%{hovertext}</b><br><br>Country=China<br>Number from Country=%{customdata[0]}<br>Latitude=%{lat}<br>Longitude=%{lon}<extra></extra>",
         "hovertext": [
          "China",
          "China"
         ],
         "lat": [
          "35.86166",
          "nan"
         ],
         "legendgroup": "China",
         "lon": [
          "104.195397",
          "nan"
         ],
         "marker": {
          "color": "#FECB52",
          "size": [
           31,
           1
          ],
          "sizemode": "area",
          "sizeref": 0.0825,
          "symbol": "circle"
         },
         "mode": "markers",
         "name": "China",
         "showlegend": true,
         "type": "scattergeo"
        },
        {
         "customdata": [
          [
           2
          ]
         ],
         "geo": "geo",
         "hovertemplate": "<b>%{hovertext}</b><br><br>Country=Colombia<br>Number from Country=%{customdata[0]}<br>Latitude=%{lat}<br>Longitude=%{lon}<extra></extra>",
         "hovertext": [
          "Colombia"
         ],
         "lat": [
          "4.570868"
         ],
         "legendgroup": "Colombia",
         "lon": [
          "-74.297333"
         ],
         "marker": {
          "color": "#636efa",
          "size": [
           2
          ],
          "sizemode": "area",
          "sizeref": 0.0825,
          "symbol": "circle"
         },
         "mode": "markers",
         "name": "Colombia",
         "showlegend": true,
         "type": "scattergeo"
        },
        {
         "customdata": [
          [
           1
          ]
         ],
         "geo": "geo",
         "hovertemplate": "<b>%{hovertext}</b><br><br>Country=Costa Rica<br>Number from Country=%{customdata[0]}<br>Latitude=%{lat}<br>Longitude=%{lon}<extra></extra>",
         "hovertext": [
          "Costa Rica"
         ],
         "lat": [
          "9.748917"
         ],
         "legendgroup": "Costa Rica",
         "lon": [
          "-83.753428"
         ],
         "marker": {
          "color": "#EF553B",
          "size": [
           1
          ],
          "sizemode": "area",
          "sizeref": 0.0825,
          "symbol": "circle"
         },
         "mode": "markers",
         "name": "Costa Rica",
         "showlegend": true,
         "type": "scattergeo"
        },
        {
         "customdata": [
          [
           6
          ]
         ],
         "geo": "geo",
         "hovertemplate": "<b>%{hovertext}</b><br><br>Country=Cuba<br>Number from Country=%{customdata[0]}<br>Latitude=%{lat}<br>Longitude=%{lon}<extra></extra>",
         "hovertext": [
          "Cuba"
         ],
         "lat": [
          "21.521757"
         ],
         "legendgroup": "Cuba",
         "lon": [
          "-77.781167"
         ],
         "marker": {
          "color": "#00cc96",
          "size": [
           6
          ],
          "sizemode": "area",
          "sizeref": 0.0825,
          "symbol": "circle"
         },
         "mode": "markers",
         "name": "Cuba",
         "showlegend": true,
         "type": "scattergeo"
        },
        {
         "customdata": [
          [
           1
          ]
         ],
         "geo": "geo",
         "hovertemplate": "<b>%{hovertext}</b><br><br>Country=Czech Republic<br>Number from Country=%{customdata[0]}<br>Latitude=%{lat}<br>Longitude=%{lon}<extra></extra>",
         "hovertext": [
          "Czech Republic"
         ],
         "lat": [
          "49.817492"
         ],
         "legendgroup": "Czech Republic",
         "lon": [
          "15.472962"
         ],
         "marker": {
          "color": "#ab63fa",
          "size": [
           1
          ],
          "sizemode": "area",
          "sizeref": 0.0825,
          "symbol": "circle"
         },
         "mode": "markers",
         "name": "Czech Republic",
         "showlegend": true,
         "type": "scattergeo"
        },
        {
         "customdata": [
          [
           2
          ]
         ],
         "geo": "geo",
         "hovertemplate": "<b>%{hovertext}</b><br><br>Country=France<br>Number from Country=%{customdata[0]}<br>Latitude=%{lat}<br>Longitude=%{lon}<extra></extra>",
         "hovertext": [
          "France"
         ],
         "lat": [
          "46.227638"
         ],
         "legendgroup": "France",
         "lon": [
          "2.213749"
         ],
         "marker": {
          "color": "#FFA15A",
          "size": [
           2
          ],
          "sizemode": "area",
          "sizeref": 0.0825,
          "symbol": "circle"
         },
         "mode": "markers",
         "name": "France",
         "showlegend": true,
         "type": "scattergeo"
        },
        {
         "customdata": [
          [
           2
          ]
         ],
         "geo": "geo",
         "hovertemplate": "<b>%{hovertext}</b><br><br>Country=Germany<br>Number from Country=%{customdata[0]}<br>Latitude=%{lat}<br>Longitude=%{lon}<extra></extra>",
         "hovertext": [
          "Germany"
         ],
         "lat": [
          "51.165691"
         ],
         "legendgroup": "Germany",
         "lon": [
          "10.451526"
         ],
         "marker": {
          "color": "#19d3f3",
          "size": [
           2
          ],
          "sizemode": "area",
          "sizeref": 0.0825,
          "symbol": "circle"
         },
         "mode": "markers",
         "name": "Germany",
         "showlegend": true,
         "type": "scattergeo"
        },
        {
         "customdata": [
          [
           2
          ]
         ],
         "geo": "geo",
         "hovertemplate": "<b>%{hovertext}</b><br><br>Country=Greece<br>Number from Country=%{customdata[0]}<br>Latitude=%{lat}<br>Longitude=%{lon}<extra></extra>",
         "hovertext": [
          "Greece"
         ],
         "lat": [
          "39.074208"
         ],
         "legendgroup": "Greece",
         "lon": [
          "21.824312"
         ],
         "marker": {
          "color": "#FF6692",
          "size": [
           2
          ],
          "sizemode": "area",
          "sizeref": 0.0825,
          "symbol": "circle"
         },
         "mode": "markers",
         "name": "Greece",
         "showlegend": true,
         "type": "scattergeo"
        },
        {
         "customdata": [
          [
           3
          ]
         ],
         "geo": "geo",
         "hovertemplate": "<b>%{hovertext}</b><br><br>Country=Guatemala<br>Number from Country=%{customdata[0]}<br>Latitude=%{lat}<br>Longitude=%{lon}<extra></extra>",
         "hovertext": [
          "Guatemala"
         ],
         "lat": [
          "15.783471"
         ],
         "legendgroup": "Guatemala",
         "lon": [
          "-90.230759"
         ],
         "marker": {
          "color": "#B6E880",
          "size": [
           3
          ],
          "sizemode": "area",
          "sizeref": 0.0825,
          "symbol": "circle"
         },
         "mode": "markers",
         "name": "Guatemala",
         "showlegend": true,
         "type": "scattergeo"
        },
        {
         "customdata": [
          [
           6
          ]
         ],
         "geo": "geo",
         "hovertemplate": "<b>%{hovertext}</b><br><br>Country=India<br>Number from Country=%{customdata[0]}<br>Latitude=%{lat}<br>Longitude=%{lon}<extra></extra>",
         "hovertext": [
          "India"
         ],
         "lat": [
          "20.593684"
         ],
         "legendgroup": "India",
         "lon": [
          "78.96288"
         ],
         "marker": {
          "color": "#FF97FF",
          "size": [
           6
          ],
          "sizemode": "area",
          "sizeref": 0.0825,
          "symbol": "circle"
         },
         "mode": "markers",
         "name": "India",
         "showlegend": true,
         "type": "scattergeo"
        },
        {
         "customdata": [
          [
           2
          ]
         ],
         "geo": "geo",
         "hovertemplate": "<b>%{hovertext}</b><br><br>Country=Indonesia<br>Number from Country=%{customdata[0]}<br>Latitude=%{lat}<br>Longitude=%{lon}<extra></extra>",
         "hovertext": [
          "Indonesia"
         ],
         "lat": [
          "-0.789275"
         ],
         "legendgroup": "Indonesia",
         "lon": [
          "113.921327"
         ],
         "marker": {
          "color": "#FECB52",
          "size": [
           2
          ],
          "sizemode": "area",
          "sizeref": 0.0825,
          "symbol": "circle"
         },
         "mode": "markers",
         "name": "Indonesia",
         "showlegend": true,
         "type": "scattergeo"
        },
        {
         "customdata": [
          [
           2
          ]
         ],
         "geo": "geo",
         "hovertemplate": "<b>%{hovertext}</b><br><br>Country=Ireland<br>Number from Country=%{customdata[0]}<br>Latitude=%{lat}<br>Longitude=%{lon}<extra></extra>",
         "hovertext": [
          "Ireland"
         ],
         "lat": [
          "53.41291"
         ],
         "legendgroup": "Ireland",
         "lon": [
          "-8.24389"
         ],
         "marker": {
          "color": "#636efa",
          "size": [
           2
          ],
          "sizemode": "area",
          "sizeref": 0.0825,
          "symbol": "circle"
         },
         "mode": "markers",
         "name": "Ireland",
         "showlegend": true,
         "type": "scattergeo"
        },
        {
         "customdata": [
          [
           2
          ]
         ],
         "geo": "geo",
         "hovertemplate": "<b>%{hovertext}</b><br><br>Country=Israel<br>Number from Country=%{customdata[0]}<br>Latitude=%{lat}<br>Longitude=%{lon}<extra></extra>",
         "hovertext": [
          "Israel"
         ],
         "lat": [
          "31.046051"
         ],
         "legendgroup": "Israel",
         "lon": [
          "34.851612"
         ],
         "marker": {
          "color": "#EF553B",
          "size": [
           2
          ],
          "sizemode": "area",
          "sizeref": 0.0825,
          "symbol": "circle"
         },
         "mode": "markers",
         "name": "Israel",
         "showlegend": true,
         "type": "scattergeo"
        },
        {
         "customdata": [
          [
           2
          ]
         ],
         "geo": "geo",
         "hovertemplate": "<b>%{hovertext}</b><br><br>Country=Italy<br>Number from Country=%{customdata[0]}<br>Latitude=%{lat}<br>Longitude=%{lon}<extra></extra>",
         "hovertext": [
          "Italy"
         ],
         "lat": [
          "41.87194"
         ],
         "legendgroup": "Italy",
         "lon": [
          "12.56738"
         ],
         "marker": {
          "color": "#00cc96",
          "size": [
           2
          ],
          "sizemode": "area",
          "sizeref": 0.0825,
          "symbol": "circle"
         },
         "mode": "markers",
         "name": "Italy",
         "showlegend": true,
         "type": "scattergeo"
        },
        {
         "customdata": [
          [
           9
          ]
         ],
         "geo": "geo",
         "hovertemplate": "<b>%{hovertext}</b><br><br>Country=Japan<br>Number from Country=%{customdata[0]}<br>Latitude=%{lat}<br>Longitude=%{lon}<extra></extra>",
         "hovertext": [
          "Japan"
         ],
         "lat": [
          "36.204824"
         ],
         "legendgroup": "Japan",
         "lon": [
          "138.252924"
         ],
         "marker": {
          "color": "#ab63fa",
          "size": [
           9
          ],
          "sizemode": "area",
          "sizeref": 0.0825,
          "symbol": "circle"
         },
         "mode": "markers",
         "name": "Japan",
         "showlegend": true,
         "type": "scattergeo"
        },
        {
         "customdata": [
          [
           4
          ]
         ],
         "geo": "geo",
         "hovertemplate": "<b>%{hovertext}</b><br><br>Country=Mexico<br>Number from Country=%{customdata[0]}<br>Latitude=%{lat}<br>Longitude=%{lon}<extra></extra>",
         "hovertext": [
          "Mexico"
         ],
         "lat": [
          "23.634501"
         ],
         "legendgroup": "Mexico",
         "lon": [
          "-102.552784"
         ],
         "marker": {
          "color": "#FFA15A",
          "size": [
           4
          ],
          "sizemode": "area",
          "sizeref": 0.0825,
          "symbol": "circle"
         },
         "mode": "markers",
         "name": "Mexico",
         "showlegend": true,
         "type": "scattergeo"
        },
        {
         "customdata": [
          [
           1
          ]
         ],
         "geo": "geo",
         "hovertemplate": "<b>%{hovertext}</b><br><br>Country=Myanmar<br>Number from Country=%{customdata[0]}<br>Latitude=%{lat}<br>Longitude=%{lon}<extra></extra>",
         "hovertext": [
          "Myanmar"
         ],
         "lat": [
          "21.913965"
         ],
         "legendgroup": "Myanmar",
         "lon": [
          "95.956223"
         ],
         "marker": {
          "color": "#19d3f3",
          "size": [
           1
          ],
          "sizemode": "area",
          "sizeref": 0.0825,
          "symbol": "circle"
         },
         "mode": "markers",
         "name": "Myanmar",
         "showlegend": true,
         "type": "scattergeo"
        },
        {
         "customdata": [
          [
           1
          ]
         ],
         "geo": "geo",
         "hovertemplate": "<b>%{hovertext}</b><br><br>Country=Norway<br>Number from Country=%{customdata[0]}<br>Latitude=%{lat}<br>Longitude=%{lon}<extra></extra>",
         "hovertext": [
          "Norway"
         ],
         "lat": [
          "60.472024"
         ],
         "legendgroup": "Norway",
         "lon": [
          "8.468946"
         ],
         "marker": {
          "color": "#FF6692",
          "size": [
           1
          ],
          "sizemode": "area",
          "sizeref": 0.0825,
          "symbol": "circle"
         },
         "mode": "markers",
         "name": "Norway",
         "showlegend": true,
         "type": "scattergeo"
        },
        {
         "customdata": [
          [
           4
          ]
         ],
         "geo": "geo",
         "hovertemplate": "<b>%{hovertext}</b><br><br>Country=Panama<br>Number from Country=%{customdata[0]}<br>Latitude=%{lat}<br>Longitude=%{lon}<extra></extra>",
         "hovertext": [
          "Panama"
         ],
         "lat": [
          "8.537981"
         ],
         "legendgroup": "Panama",
         "lon": [
          "-80.782127"
         ],
         "marker": {
          "color": "#B6E880",
          "size": [
           4
          ],
          "sizemode": "area",
          "sizeref": 0.0825,
          "symbol": "circle"
         },
         "mode": "markers",
         "name": "Panama",
         "showlegend": true,
         "type": "scattergeo"
        },
        {
         "customdata": [
          [
           1
          ]
         ],
         "geo": "geo",
         "hovertemplate": "<b>%{hovertext}</b><br><br>Country=Philippines<br>Number from Country=%{customdata[0]}<br>Latitude=%{lat}<br>Longitude=%{lon}<extra></extra>",
         "hovertext": [
          "Philippines"
         ],
         "lat": [
          "12.879721"
         ],
         "legendgroup": "Philippines",
         "lon": [
          "121.774017"
         ],
         "marker": {
          "color": "#FF97FF",
          "size": [
           1
          ],
          "sizemode": "area",
          "sizeref": 0.0825,
          "symbol": "circle"
         },
         "mode": "markers",
         "name": "Philippines",
         "showlegend": true,
         "type": "scattergeo"
        },
        {
         "customdata": [
          [
           11
          ]
         ],
         "geo": "geo",
         "hovertemplate": "<b>%{hovertext}</b><br><br>Country=Puerto Rico<br>Number from Country=%{customdata[0]}<br>Latitude=%{lat}<br>Longitude=%{lon}<extra></extra>",
         "hovertext": [
          "Puerto Rico"
         ],
         "lat": [
          "18.220833"
         ],
         "legendgroup": "Puerto Rico",
         "lon": [
          "-66.590149"
         ],
         "marker": {
          "color": "#FECB52",
          "size": [
           11
          ],
          "sizemode": "area",
          "sizeref": 0.0825,
          "symbol": "circle"
         },
         "mode": "markers",
         "name": "Puerto Rico",
         "showlegend": true,
         "type": "scattergeo"
        },
        {
         "customdata": [
          [
           1
          ]
         ],
         "geo": "geo",
         "hovertemplate": "<b>%{hovertext}</b><br><br>Country=Republic of North Macedonia<br>Number from Country=%{customdata[0]}<br>Latitude=%{lat}<br>Longitude=%{lon}<extra></extra>",
         "hovertext": [
          "Republic of North Macedonia"
         ],
         "lat": [
          "41.608635"
         ],
         "legendgroup": "Republic of North Macedonia",
         "lon": [
          "21.745275"
         ],
         "marker": {
          "color": "#636efa",
          "size": [
           1
          ],
          "sizemode": "area",
          "sizeref": 0.0825,
          "symbol": "circle"
         },
         "mode": "markers",
         "name": "Republic of North Macedonia",
         "showlegend": true,
         "type": "scattergeo"
        },
        {
         "customdata": [
          [
           6
          ]
         ],
         "geo": "geo",
         "hovertemplate": "<b>%{hovertext}</b><br><br>Country=Russia<br>Number from Country=%{customdata[0]}<br>Latitude=%{lat}<br>Longitude=%{lon}<extra></extra>",
         "hovertext": [
          "Russia"
         ],
         "lat": [
          "61.52401"
         ],
         "legendgroup": "Russia",
         "lon": [
          "105.318756"
         ],
         "marker": {
          "color": "#EF553B",
          "size": [
           6
          ],
          "sizemode": "area",
          "sizeref": 0.0825,
          "symbol": "circle"
         },
         "mode": "markers",
         "name": "Russia",
         "showlegend": true,
         "type": "scattergeo"
        },
        {
         "customdata": [
          [
           1
          ]
         ],
         "geo": "geo",
         "hovertemplate": "<b>%{hovertext}</b><br><br>Country=South Korea<br>Number from Country=%{customdata[0]}<br>Latitude=%{lat}<br>Longitude=%{lon}<extra></extra>",
         "hovertext": [
          "South Korea"
         ],
         "lat": [
          "35.907757"
         ],
         "legendgroup": "South Korea",
         "lon": [
          "127.766922"
         ],
         "marker": {
          "color": "#00cc96",
          "size": [
           1
          ],
          "sizemode": "area",
          "sizeref": 0.0825,
          "symbol": "circle"
         },
         "mode": "markers",
         "name": "South Korea",
         "showlegend": true,
         "type": "scattergeo"
        },
        {
         "customdata": [
          [
           1
          ]
         ],
         "geo": "geo",
         "hovertemplate": "<b>%{hovertext}</b><br><br>Country=Spain<br>Number from Country=%{customdata[0]}<br>Latitude=%{lat}<br>Longitude=%{lon}<extra></extra>",
         "hovertext": [
          "Spain"
         ],
         "lat": [
          "40.463667"
         ],
         "legendgroup": "Spain",
         "lon": [
          "-3.74922"
         ],
         "marker": {
          "color": "#ab63fa",
          "size": [
           1
          ],
          "sizemode": "area",
          "sizeref": 0.0825,
          "symbol": "circle"
         },
         "mode": "markers",
         "name": "Spain",
         "showlegend": true,
         "type": "scattergeo"
        },
        {
         "customdata": [
          [
           8
          ]
         ],
         "geo": "geo",
         "hovertemplate": "<b>%{hovertext}</b><br><br>Country=Sweden<br>Number from Country=%{customdata[0]}<br>Latitude=%{lat}<br>Longitude=%{lon}<extra></extra>",
         "hovertext": [
          "Sweden"
         ],
         "lat": [
          "60.128161"
         ],
         "legendgroup": "Sweden",
         "lon": [
          "18.643501"
         ],
         "marker": {
          "color": "#FFA15A",
          "size": [
           8
          ],
          "sizemode": "area",
          "sizeref": 0.0825,
          "symbol": "circle"
         },
         "mode": "markers",
         "name": "Sweden",
         "showlegend": true,
         "type": "scattergeo"
        },
        {
         "customdata": [
          [
           2
          ]
         ],
         "geo": "geo",
         "hovertemplate": "<b>%{hovertext}</b><br><br>Country=Syria<br>Number from Country=%{customdata[0]}<br>Latitude=%{lat}<br>Longitude=%{lon}<extra></extra>",
         "hovertext": [
          "Syria"
         ],
         "lat": [
          "34.802075"
         ],
         "legendgroup": "Syria",
         "lon": [
          "38.996815"
         ],
         "marker": {
          "color": "#19d3f3",
          "size": [
           2
          ],
          "sizemode": "area",
          "sizeref": 0.0825,
          "symbol": "circle"
         },
         "mode": "markers",
         "name": "Syria",
         "showlegend": true,
         "type": "scattergeo"
        },
        {
         "customdata": [
          [
           2
          ]
         ],
         "geo": "geo",
         "hovertemplate": "<b>%{hovertext}</b><br><br>Country=Thailand<br>Number from Country=%{customdata[0]}<br>Latitude=%{lat}<br>Longitude=%{lon}<extra></extra>",
         "hovertext": [
          "Thailand"
         ],
         "lat": [
          "15.870032"
         ],
         "legendgroup": "Thailand",
         "lon": [
          "100.992541"
         ],
         "marker": {
          "color": "#FF6692",
          "size": [
           2
          ],
          "sizemode": "area",
          "sizeref": 0.0825,
          "symbol": "circle"
         },
         "mode": "markers",
         "name": "Thailand",
         "showlegend": true,
         "type": "scattergeo"
        },
        {
         "customdata": [
          [
           3
          ]
         ],
         "geo": "geo",
         "hovertemplate": "<b>%{hovertext}</b><br><br>Country=Turkey<br>Number from Country=%{customdata[0]}<br>Latitude=%{lat}<br>Longitude=%{lon}<extra></extra>",
         "hovertext": [
          "Turkey"
         ],
         "lat": [
          "38.963745"
         ],
         "legendgroup": "Turkey",
         "lon": [
          "35.243322"
         ],
         "marker": {
          "color": "#B6E880",
          "size": [
           3
          ],
          "sizemode": "area",
          "sizeref": 0.0825,
          "symbol": "circle"
         },
         "mode": "markers",
         "name": "Turkey",
         "showlegend": true,
         "type": "scattergeo"
        },
        {
         "customdata": [
          [
           4
          ]
         ],
         "geo": "geo",
         "hovertemplate": "<b>%{hovertext}</b><br><br>Country=United Kingdom<br>Number from Country=%{customdata[0]}<br>Latitude=%{lat}<br>Longitude=%{lon}<extra></extra>",
         "hovertext": [
          "United Kingdom"
         ],
         "lat": [
          "55.378051"
         ],
         "legendgroup": "United Kingdom",
         "lon": [
          "-3.435973"
         ],
         "marker": {
          "color": "#FF97FF",
          "size": [
           4
          ],
          "sizemode": "area",
          "sizeref": 0.0825,
          "symbol": "circle"
         },
         "mode": "markers",
         "name": "United Kingdom",
         "showlegend": true,
         "type": "scattergeo"
        },
        {
         "customdata": [
          [
           2
          ]
         ],
         "geo": "geo",
         "hovertemplate": "<b>%{hovertext}</b><br><br>Country=Uruguay<br>Number from Country=%{customdata[0]}<br>Latitude=%{lat}<br>Longitude=%{lon}<extra></extra>",
         "hovertext": [
          "Uruguay"
         ],
         "lat": [
          "-32.522779"
         ],
         "legendgroup": "Uruguay",
         "lon": [
          "-55.765835"
         ],
         "marker": {
          "color": "#FECB52",
          "size": [
           2
          ],
          "sizemode": "area",
          "sizeref": 0.0825,
          "symbol": "circle"
         },
         "mode": "markers",
         "name": "Uruguay",
         "showlegend": true,
         "type": "scattergeo"
        }
       ],
       "layout": {
        "geo": {
         "center": {},
         "domain": {
          "x": [
           0,
           1
          ],
          "y": [
           0,
           1
          ]
         },
         "projection": {
          "type": "winkel tripel"
         }
        },
        "legend": {
         "itemsizing": "constant",
         "title": {
          "text": "Country"
         },
         "tracegroupgap": 0
        },
        "template": {
         "data": {
          "bar": [
           {
            "error_x": {
             "color": "#2a3f5f"
            },
            "error_y": {
             "color": "#2a3f5f"
            },
            "marker": {
             "line": {
              "color": "#E5ECF6",
              "width": 0.5
             },
             "pattern": {
              "fillmode": "overlay",
              "size": 10,
              "solidity": 0.2
             }
            },
            "type": "bar"
           }
          ],
          "barpolar": [
           {
            "marker": {
             "line": {
              "color": "#E5ECF6",
              "width": 0.5
             },
             "pattern": {
              "fillmode": "overlay",
              "size": 10,
              "solidity": 0.2
             }
            },
            "type": "barpolar"
           }
          ],
          "carpet": [
           {
            "aaxis": {
             "endlinecolor": "#2a3f5f",
             "gridcolor": "white",
             "linecolor": "white",
             "minorgridcolor": "white",
             "startlinecolor": "#2a3f5f"
            },
            "baxis": {
             "endlinecolor": "#2a3f5f",
             "gridcolor": "white",
             "linecolor": "white",
             "minorgridcolor": "white",
             "startlinecolor": "#2a3f5f"
            },
            "type": "carpet"
           }
          ],
          "choropleth": [
           {
            "colorbar": {
             "outlinewidth": 0,
             "ticks": ""
            },
            "type": "choropleth"
           }
          ],
          "contour": [
           {
            "colorbar": {
             "outlinewidth": 0,
             "ticks": ""
            },
            "colorscale": [
             [
              0,
              "#0d0887"
             ],
             [
              0.1111111111111111,
              "#46039f"
             ],
             [
              0.2222222222222222,
              "#7201a8"
             ],
             [
              0.3333333333333333,
              "#9c179e"
             ],
             [
              0.4444444444444444,
              "#bd3786"
             ],
             [
              0.5555555555555556,
              "#d8576b"
             ],
             [
              0.6666666666666666,
              "#ed7953"
             ],
             [
              0.7777777777777778,
              "#fb9f3a"
             ],
             [
              0.8888888888888888,
              "#fdca26"
             ],
             [
              1,
              "#f0f921"
             ]
            ],
            "type": "contour"
           }
          ],
          "contourcarpet": [
           {
            "colorbar": {
             "outlinewidth": 0,
             "ticks": ""
            },
            "type": "contourcarpet"
           }
          ],
          "heatmap": [
           {
            "colorbar": {
             "outlinewidth": 0,
             "ticks": ""
            },
            "colorscale": [
             [
              0,
              "#0d0887"
             ],
             [
              0.1111111111111111,
              "#46039f"
             ],
             [
              0.2222222222222222,
              "#7201a8"
             ],
             [
              0.3333333333333333,
              "#9c179e"
             ],
             [
              0.4444444444444444,
              "#bd3786"
             ],
             [
              0.5555555555555556,
              "#d8576b"
             ],
             [
              0.6666666666666666,
              "#ed7953"
             ],
             [
              0.7777777777777778,
              "#fb9f3a"
             ],
             [
              0.8888888888888888,
              "#fdca26"
             ],
             [
              1,
              "#f0f921"
             ]
            ],
            "type": "heatmap"
           }
          ],
          "heatmapgl": [
           {
            "colorbar": {
             "outlinewidth": 0,
             "ticks": ""
            },
            "colorscale": [
             [
              0,
              "#0d0887"
             ],
             [
              0.1111111111111111,
              "#46039f"
             ],
             [
              0.2222222222222222,
              "#7201a8"
             ],
             [
              0.3333333333333333,
              "#9c179e"
             ],
             [
              0.4444444444444444,
              "#bd3786"
             ],
             [
              0.5555555555555556,
              "#d8576b"
             ],
             [
              0.6666666666666666,
              "#ed7953"
             ],
             [
              0.7777777777777778,
              "#fb9f3a"
             ],
             [
              0.8888888888888888,
              "#fdca26"
             ],
             [
              1,
              "#f0f921"
             ]
            ],
            "type": "heatmapgl"
           }
          ],
          "histogram": [
           {
            "marker": {
             "pattern": {
              "fillmode": "overlay",
              "size": 10,
              "solidity": 0.2
             }
            },
            "type": "histogram"
           }
          ],
          "histogram2d": [
           {
            "colorbar": {
             "outlinewidth": 0,
             "ticks": ""
            },
            "colorscale": [
             [
              0,
              "#0d0887"
             ],
             [
              0.1111111111111111,
              "#46039f"
             ],
             [
              0.2222222222222222,
              "#7201a8"
             ],
             [
              0.3333333333333333,
              "#9c179e"
             ],
             [
              0.4444444444444444,
              "#bd3786"
             ],
             [
              0.5555555555555556,
              "#d8576b"
             ],
             [
              0.6666666666666666,
              "#ed7953"
             ],
             [
              0.7777777777777778,
              "#fb9f3a"
             ],
             [
              0.8888888888888888,
              "#fdca26"
             ],
             [
              1,
              "#f0f921"
             ]
            ],
            "type": "histogram2d"
           }
          ],
          "histogram2dcontour": [
           {
            "colorbar": {
             "outlinewidth": 0,
             "ticks": ""
            },
            "colorscale": [
             [
              0,
              "#0d0887"
             ],
             [
              0.1111111111111111,
              "#46039f"
             ],
             [
              0.2222222222222222,
              "#7201a8"
             ],
             [
              0.3333333333333333,
              "#9c179e"
             ],
             [
              0.4444444444444444,
              "#bd3786"
             ],
             [
              0.5555555555555556,
              "#d8576b"
             ],
             [
              0.6666666666666666,
              "#ed7953"
             ],
             [
              0.7777777777777778,
              "#fb9f3a"
             ],
             [
              0.8888888888888888,
              "#fdca26"
             ],
             [
              1,
              "#f0f921"
             ]
            ],
            "type": "histogram2dcontour"
           }
          ],
          "mesh3d": [
           {
            "colorbar": {
             "outlinewidth": 0,
             "ticks": ""
            },
            "type": "mesh3d"
           }
          ],
          "parcoords": [
           {
            "line": {
             "colorbar": {
              "outlinewidth": 0,
              "ticks": ""
             }
            },
            "type": "parcoords"
           }
          ],
          "pie": [
           {
            "automargin": true,
            "type": "pie"
           }
          ],
          "scatter": [
           {
            "marker": {
             "colorbar": {
              "outlinewidth": 0,
              "ticks": ""
             }
            },
            "type": "scatter"
           }
          ],
          "scatter3d": [
           {
            "line": {
             "colorbar": {
              "outlinewidth": 0,
              "ticks": ""
             }
            },
            "marker": {
             "colorbar": {
              "outlinewidth": 0,
              "ticks": ""
             }
            },
            "type": "scatter3d"
           }
          ],
          "scattercarpet": [
           {
            "marker": {
             "colorbar": {
              "outlinewidth": 0,
              "ticks": ""
             }
            },
            "type": "scattercarpet"
           }
          ],
          "scattergeo": [
           {
            "marker": {
             "colorbar": {
              "outlinewidth": 0,
              "ticks": ""
             }
            },
            "type": "scattergeo"
           }
          ],
          "scattergl": [
           {
            "marker": {
             "colorbar": {
              "outlinewidth": 0,
              "ticks": ""
             }
            },
            "type": "scattergl"
           }
          ],
          "scattermapbox": [
           {
            "marker": {
             "colorbar": {
              "outlinewidth": 0,
              "ticks": ""
             }
            },
            "type": "scattermapbox"
           }
          ],
          "scatterpolar": [
           {
            "marker": {
             "colorbar": {
              "outlinewidth": 0,
              "ticks": ""
             }
            },
            "type": "scatterpolar"
           }
          ],
          "scatterpolargl": [
           {
            "marker": {
             "colorbar": {
              "outlinewidth": 0,
              "ticks": ""
             }
            },
            "type": "scatterpolargl"
           }
          ],
          "scatterternary": [
           {
            "marker": {
             "colorbar": {
              "outlinewidth": 0,
              "ticks": ""
             }
            },
            "type": "scatterternary"
           }
          ],
          "surface": [
           {
            "colorbar": {
             "outlinewidth": 0,
             "ticks": ""
            },
            "colorscale": [
             [
              0,
              "#0d0887"
             ],
             [
              0.1111111111111111,
              "#46039f"
             ],
             [
              0.2222222222222222,
              "#7201a8"
             ],
             [
              0.3333333333333333,
              "#9c179e"
             ],
             [
              0.4444444444444444,
              "#bd3786"
             ],
             [
              0.5555555555555556,
              "#d8576b"
             ],
             [
              0.6666666666666666,
              "#ed7953"
             ],
             [
              0.7777777777777778,
              "#fb9f3a"
             ],
             [
              0.8888888888888888,
              "#fdca26"
             ],
             [
              1,
              "#f0f921"
             ]
            ],
            "type": "surface"
           }
          ],
          "table": [
           {
            "cells": {
             "fill": {
              "color": "#EBF0F8"
             },
             "line": {
              "color": "white"
             }
            },
            "header": {
             "fill": {
              "color": "#C8D4E3"
             },
             "line": {
              "color": "white"
             }
            },
            "type": "table"
           }
          ]
         },
         "layout": {
          "annotationdefaults": {
           "arrowcolor": "#2a3f5f",
           "arrowhead": 0,
           "arrowwidth": 1
          },
          "autotypenumbers": "strict",
          "coloraxis": {
           "colorbar": {
            "outlinewidth": 0,
            "ticks": ""
           }
          },
          "colorscale": {
           "diverging": [
            [
             0,
             "#8e0152"
            ],
            [
             0.1,
             "#c51b7d"
            ],
            [
             0.2,
             "#de77ae"
            ],
            [
             0.3,
             "#f1b6da"
            ],
            [
             0.4,
             "#fde0ef"
            ],
            [
             0.5,
             "#f7f7f7"
            ],
            [
             0.6,
             "#e6f5d0"
            ],
            [
             0.7,
             "#b8e186"
            ],
            [
             0.8,
             "#7fbc41"
            ],
            [
             0.9,
             "#4d9221"
            ],
            [
             1,
             "#276419"
            ]
           ],
           "sequential": [
            [
             0,
             "#0d0887"
            ],
            [
             0.1111111111111111,
             "#46039f"
            ],
            [
             0.2222222222222222,
             "#7201a8"
            ],
            [
             0.3333333333333333,
             "#9c179e"
            ],
            [
             0.4444444444444444,
             "#bd3786"
            ],
            [
             0.5555555555555556,
             "#d8576b"
            ],
            [
             0.6666666666666666,
             "#ed7953"
            ],
            [
             0.7777777777777778,
             "#fb9f3a"
            ],
            [
             0.8888888888888888,
             "#fdca26"
            ],
            [
             1,
             "#f0f921"
            ]
           ],
           "sequentialminus": [
            [
             0,
             "#0d0887"
            ],
            [
             0.1111111111111111,
             "#46039f"
            ],
            [
             0.2222222222222222,
             "#7201a8"
            ],
            [
             0.3333333333333333,
             "#9c179e"
            ],
            [
             0.4444444444444444,
             "#bd3786"
            ],
            [
             0.5555555555555556,
             "#d8576b"
            ],
            [
             0.6666666666666666,
             "#ed7953"
            ],
            [
             0.7777777777777778,
             "#fb9f3a"
            ],
            [
             0.8888888888888888,
             "#fdca26"
            ],
            [
             1,
             "#f0f921"
            ]
           ]
          },
          "colorway": [
           "#636efa",
           "#EF553B",
           "#00cc96",
           "#ab63fa",
           "#FFA15A",
           "#19d3f3",
           "#FF6692",
           "#B6E880",
           "#FF97FF",
           "#FECB52"
          ],
          "font": {
           "color": "#2a3f5f"
          },
          "geo": {
           "bgcolor": "white",
           "lakecolor": "white",
           "landcolor": "#E5ECF6",
           "showlakes": true,
           "showland": true,
           "subunitcolor": "white"
          },
          "hoverlabel": {
           "align": "left"
          },
          "hovermode": "closest",
          "mapbox": {
           "style": "light"
          },
          "paper_bgcolor": "white",
          "plot_bgcolor": "#E5ECF6",
          "polar": {
           "angularaxis": {
            "gridcolor": "white",
            "linecolor": "white",
            "ticks": ""
           },
           "bgcolor": "#E5ECF6",
           "radialaxis": {
            "gridcolor": "white",
            "linecolor": "white",
            "ticks": ""
           }
          },
          "scene": {
           "xaxis": {
            "backgroundcolor": "#E5ECF6",
            "gridcolor": "white",
            "gridwidth": 2,
            "linecolor": "white",
            "showbackground": true,
            "ticks": "",
            "zerolinecolor": "white"
           },
           "yaxis": {
            "backgroundcolor": "#E5ECF6",
            "gridcolor": "white",
            "gridwidth": 2,
            "linecolor": "white",
            "showbackground": true,
            "ticks": "",
            "zerolinecolor": "white"
           },
           "zaxis": {
            "backgroundcolor": "#E5ECF6",
            "gridcolor": "white",
            "gridwidth": 2,
            "linecolor": "white",
            "showbackground": true,
            "ticks": "",
            "zerolinecolor": "white"
           }
          },
          "shapedefaults": {
           "line": {
            "color": "#2a3f5f"
           }
          },
          "ternary": {
           "aaxis": {
            "gridcolor": "white",
            "linecolor": "white",
            "ticks": ""
           },
           "baxis": {
            "gridcolor": "white",
            "linecolor": "white",
            "ticks": ""
           },
           "bgcolor": "#E5ECF6",
           "caxis": {
            "gridcolor": "white",
            "linecolor": "white",
            "ticks": ""
           }
          },
          "title": {
           "x": 0.05
          },
          "xaxis": {
           "automargin": true,
           "gridcolor": "white",
           "linecolor": "white",
           "ticks": "",
           "title": {
            "standoff": 15
           },
           "zerolinecolor": "white",
           "zerolinewidth": 2
          },
          "yaxis": {
           "automargin": true,
           "gridcolor": "white",
           "linecolor": "white",
           "ticks": "",
           "title": {
            "standoff": 15
           },
           "zerolinecolor": "white",
           "zerolinewidth": 2
          }
         }
        },
        "title": {
         "text": "Map 2. Number of WPI International Students from Each Country (1876-1943)"
        }
       }
      },
      "text/html": [
       "<div>                            <div id=\"71a07c41-7931-413e-a1ff-30d320c84812\" class=\"plotly-graph-div\" style=\"height:525px; width:100%;\"></div>            <script type=\"text/javascript\">                require([\"plotly\"], function(Plotly) {                    window.PLOTLYENV=window.PLOTLYENV || {};                                    if (document.getElementById(\"71a07c41-7931-413e-a1ff-30d320c84812\")) {                    Plotly.newPlot(                        \"71a07c41-7931-413e-a1ff-30d320c84812\",                        [{\"customdata\":[[1]],\"geo\":\"geo\",\"hovertemplate\":\"<b>%{hovertext}</b><br><br>Country=Argentina<br>Number from Country=%{customdata[0]}<br>Latitude=%{lat}<br>Longitude=%{lon}<extra></extra>\",\"hovertext\":[\"Argentina\"],\"lat\":[\"-38.416097\"],\"legendgroup\":\"Argentina\",\"lon\":[\"-63.616672\"],\"marker\":{\"color\":\"#636efa\",\"size\":[1],\"sizemode\":\"area\",\"sizeref\":0.0825,\"symbol\":\"circle\"},\"mode\":\"markers\",\"name\":\"Argentina\",\"showlegend\":true,\"type\":\"scattergeo\"},{\"customdata\":[[3]],\"geo\":\"geo\",\"hovertemplate\":\"<b>%{hovertext}</b><br><br>Country=Armenia<br>Number from Country=%{customdata[0]}<br>Latitude=%{lat}<br>Longitude=%{lon}<extra></extra>\",\"hovertext\":[\"Armenia\"],\"lat\":[\"40.069099\"],\"legendgroup\":\"Armenia\",\"lon\":[\"45.038189\"],\"marker\":{\"color\":\"#EF553B\",\"size\":[3],\"sizemode\":\"area\",\"sizeref\":0.0825,\"symbol\":\"circle\"},\"mode\":\"markers\",\"name\":\"Armenia\",\"showlegend\":true,\"type\":\"scattergeo\"},{\"customdata\":[[6]],\"geo\":\"geo\",\"hovertemplate\":\"<b>%{hovertext}</b><br><br>Country=Australia<br>Number from Country=%{customdata[0]}<br>Latitude=%{lat}<br>Longitude=%{lon}<extra></extra>\",\"hovertext\":[\"Australia\"],\"lat\":[\"-25.274398\"],\"legendgroup\":\"Australia\",\"lon\":[\"133.775136\"],\"marker\":{\"color\":\"#00cc96\",\"size\":[6],\"sizemode\":\"area\",\"sizeref\":0.0825,\"symbol\":\"circle\"},\"mode\":\"markers\",\"name\":\"Australia\",\"showlegend\":true,\"type\":\"scattergeo\"},{\"customdata\":[[1]],\"geo\":\"geo\",\"hovertemplate\":\"<b>%{hovertext}</b><br><br>Country=Austria<br>Number from Country=%{customdata[0]}<br>Latitude=%{lat}<br>Longitude=%{lon}<extra></extra>\",\"hovertext\":[\"Austria\"],\"lat\":[\"47.516231\"],\"legendgroup\":\"Austria\",\"lon\":[\"14.550072\"],\"marker\":{\"color\":\"#ab63fa\",\"size\":[1],\"sizemode\":\"area\",\"sizeref\":0.0825,\"symbol\":\"circle\"},\"mode\":\"markers\",\"name\":\"Austria\",\"showlegend\":true,\"type\":\"scattergeo\"},{\"customdata\":[[1]],\"geo\":\"geo\",\"hovertemplate\":\"<b>%{hovertext}</b><br><br>Country=Belgium<br>Number from Country=%{customdata[0]}<br>Latitude=%{lat}<br>Longitude=%{lon}<extra></extra>\",\"hovertext\":[\"Belgium\"],\"lat\":[\"50.503887\"],\"legendgroup\":\"Belgium\",\"lon\":[\"4.469936\"],\"marker\":{\"color\":\"#FFA15A\",\"size\":[1],\"sizemode\":\"area\",\"sizeref\":0.0825,\"symbol\":\"circle\"},\"mode\":\"markers\",\"name\":\"Belgium\",\"showlegend\":true,\"type\":\"scattergeo\"},{\"customdata\":[[13]],\"geo\":\"geo\",\"hovertemplate\":\"<b>%{hovertext}</b><br><br>Country=Brazil<br>Number from Country=%{customdata[0]}<br>Latitude=%{lat}<br>Longitude=%{lon}<extra></extra>\",\"hovertext\":[\"Brazil\"],\"lat\":[\"-14.235004\"],\"legendgroup\":\"Brazil\",\"lon\":[\"-51.92528\"],\"marker\":{\"color\":\"#19d3f3\",\"size\":[13],\"sizemode\":\"area\",\"sizeref\":0.0825,\"symbol\":\"circle\"},\"mode\":\"markers\",\"name\":\"Brazil\",\"showlegend\":true,\"type\":\"scattergeo\"},{\"customdata\":[[1]],\"geo\":\"geo\",\"hovertemplate\":\"<b>%{hovertext}</b><br><br>Country=Bulgaria<br>Number from Country=%{customdata[0]}<br>Latitude=%{lat}<br>Longitude=%{lon}<extra></extra>\",\"hovertext\":[\"Bulgaria\"],\"lat\":[\"42.733883\"],\"legendgroup\":\"Bulgaria\",\"lon\":[\"25.48583\"],\"marker\":{\"color\":\"#FF6692\",\"size\":[1],\"sizemode\":\"area\",\"sizeref\":0.0825,\"symbol\":\"circle\"},\"mode\":\"markers\",\"name\":\"Bulgaria\",\"showlegend\":true,\"type\":\"scattergeo\"},{\"customdata\":[[33]],\"geo\":\"geo\",\"hovertemplate\":\"<b>%{hovertext}</b><br><br>Country=Canada<br>Number from Country=%{customdata[0]}<br>Latitude=%{lat}<br>Longitude=%{lon}<extra></extra>\",\"hovertext\":[\"Canada\"],\"lat\":[\"56.130366\"],\"legendgroup\":\"Canada\",\"lon\":[\"-106.346771\"],\"marker\":{\"color\":\"#B6E880\",\"size\":[33],\"sizemode\":\"area\",\"sizeref\":0.0825,\"symbol\":\"circle\"},\"mode\":\"markers\",\"name\":\"Canada\",\"showlegend\":true,\"type\":\"scattergeo\"},{\"customdata\":[[3]],\"geo\":\"geo\",\"hovertemplate\":\"<b>%{hovertext}</b><br><br>Country=Chile<br>Number from Country=%{customdata[0]}<br>Latitude=%{lat}<br>Longitude=%{lon}<extra></extra>\",\"hovertext\":[\"Chile\"],\"lat\":[\"-35.675147\"],\"legendgroup\":\"Chile\",\"lon\":[\"-71.542969\"],\"marker\":{\"color\":\"#FF97FF\",\"size\":[3],\"sizemode\":\"area\",\"sizeref\":0.0825,\"symbol\":\"circle\"},\"mode\":\"markers\",\"name\":\"Chile\",\"showlegend\":true,\"type\":\"scattergeo\"},{\"customdata\":[[31],[1]],\"geo\":\"geo\",\"hovertemplate\":\"<b>%{hovertext}</b><br><br>Country=China<br>Number from Country=%{customdata[0]}<br>Latitude=%{lat}<br>Longitude=%{lon}<extra></extra>\",\"hovertext\":[\"China\",\"China\"],\"lat\":[\"35.86166\",\"nan\"],\"legendgroup\":\"China\",\"lon\":[\"104.195397\",\"nan\"],\"marker\":{\"color\":\"#FECB52\",\"size\":[31,1],\"sizemode\":\"area\",\"sizeref\":0.0825,\"symbol\":\"circle\"},\"mode\":\"markers\",\"name\":\"China\",\"showlegend\":true,\"type\":\"scattergeo\"},{\"customdata\":[[2]],\"geo\":\"geo\",\"hovertemplate\":\"<b>%{hovertext}</b><br><br>Country=Colombia<br>Number from Country=%{customdata[0]}<br>Latitude=%{lat}<br>Longitude=%{lon}<extra></extra>\",\"hovertext\":[\"Colombia\"],\"lat\":[\"4.570868\"],\"legendgroup\":\"Colombia\",\"lon\":[\"-74.297333\"],\"marker\":{\"color\":\"#636efa\",\"size\":[2],\"sizemode\":\"area\",\"sizeref\":0.0825,\"symbol\":\"circle\"},\"mode\":\"markers\",\"name\":\"Colombia\",\"showlegend\":true,\"type\":\"scattergeo\"},{\"customdata\":[[1]],\"geo\":\"geo\",\"hovertemplate\":\"<b>%{hovertext}</b><br><br>Country=Costa Rica<br>Number from Country=%{customdata[0]}<br>Latitude=%{lat}<br>Longitude=%{lon}<extra></extra>\",\"hovertext\":[\"Costa Rica\"],\"lat\":[\"9.748917\"],\"legendgroup\":\"Costa Rica\",\"lon\":[\"-83.753428\"],\"marker\":{\"color\":\"#EF553B\",\"size\":[1],\"sizemode\":\"area\",\"sizeref\":0.0825,\"symbol\":\"circle\"},\"mode\":\"markers\",\"name\":\"Costa Rica\",\"showlegend\":true,\"type\":\"scattergeo\"},{\"customdata\":[[6]],\"geo\":\"geo\",\"hovertemplate\":\"<b>%{hovertext}</b><br><br>Country=Cuba<br>Number from Country=%{customdata[0]}<br>Latitude=%{lat}<br>Longitude=%{lon}<extra></extra>\",\"hovertext\":[\"Cuba\"],\"lat\":[\"21.521757\"],\"legendgroup\":\"Cuba\",\"lon\":[\"-77.781167\"],\"marker\":{\"color\":\"#00cc96\",\"size\":[6],\"sizemode\":\"area\",\"sizeref\":0.0825,\"symbol\":\"circle\"},\"mode\":\"markers\",\"name\":\"Cuba\",\"showlegend\":true,\"type\":\"scattergeo\"},{\"customdata\":[[1]],\"geo\":\"geo\",\"hovertemplate\":\"<b>%{hovertext}</b><br><br>Country=Czech Republic<br>Number from Country=%{customdata[0]}<br>Latitude=%{lat}<br>Longitude=%{lon}<extra></extra>\",\"hovertext\":[\"Czech Republic\"],\"lat\":[\"49.817492\"],\"legendgroup\":\"Czech Republic\",\"lon\":[\"15.472962\"],\"marker\":{\"color\":\"#ab63fa\",\"size\":[1],\"sizemode\":\"area\",\"sizeref\":0.0825,\"symbol\":\"circle\"},\"mode\":\"markers\",\"name\":\"Czech Republic\",\"showlegend\":true,\"type\":\"scattergeo\"},{\"customdata\":[[2]],\"geo\":\"geo\",\"hovertemplate\":\"<b>%{hovertext}</b><br><br>Country=France<br>Number from Country=%{customdata[0]}<br>Latitude=%{lat}<br>Longitude=%{lon}<extra></extra>\",\"hovertext\":[\"France\"],\"lat\":[\"46.227638\"],\"legendgroup\":\"France\",\"lon\":[\"2.213749\"],\"marker\":{\"color\":\"#FFA15A\",\"size\":[2],\"sizemode\":\"area\",\"sizeref\":0.0825,\"symbol\":\"circle\"},\"mode\":\"markers\",\"name\":\"France\",\"showlegend\":true,\"type\":\"scattergeo\"},{\"customdata\":[[2]],\"geo\":\"geo\",\"hovertemplate\":\"<b>%{hovertext}</b><br><br>Country=Germany<br>Number from Country=%{customdata[0]}<br>Latitude=%{lat}<br>Longitude=%{lon}<extra></extra>\",\"hovertext\":[\"Germany\"],\"lat\":[\"51.165691\"],\"legendgroup\":\"Germany\",\"lon\":[\"10.451526\"],\"marker\":{\"color\":\"#19d3f3\",\"size\":[2],\"sizemode\":\"area\",\"sizeref\":0.0825,\"symbol\":\"circle\"},\"mode\":\"markers\",\"name\":\"Germany\",\"showlegend\":true,\"type\":\"scattergeo\"},{\"customdata\":[[2]],\"geo\":\"geo\",\"hovertemplate\":\"<b>%{hovertext}</b><br><br>Country=Greece<br>Number from Country=%{customdata[0]}<br>Latitude=%{lat}<br>Longitude=%{lon}<extra></extra>\",\"hovertext\":[\"Greece\"],\"lat\":[\"39.074208\"],\"legendgroup\":\"Greece\",\"lon\":[\"21.824312\"],\"marker\":{\"color\":\"#FF6692\",\"size\":[2],\"sizemode\":\"area\",\"sizeref\":0.0825,\"symbol\":\"circle\"},\"mode\":\"markers\",\"name\":\"Greece\",\"showlegend\":true,\"type\":\"scattergeo\"},{\"customdata\":[[3]],\"geo\":\"geo\",\"hovertemplate\":\"<b>%{hovertext}</b><br><br>Country=Guatemala<br>Number from Country=%{customdata[0]}<br>Latitude=%{lat}<br>Longitude=%{lon}<extra></extra>\",\"hovertext\":[\"Guatemala\"],\"lat\":[\"15.783471\"],\"legendgroup\":\"Guatemala\",\"lon\":[\"-90.230759\"],\"marker\":{\"color\":\"#B6E880\",\"size\":[3],\"sizemode\":\"area\",\"sizeref\":0.0825,\"symbol\":\"circle\"},\"mode\":\"markers\",\"name\":\"Guatemala\",\"showlegend\":true,\"type\":\"scattergeo\"},{\"customdata\":[[6]],\"geo\":\"geo\",\"hovertemplate\":\"<b>%{hovertext}</b><br><br>Country=India<br>Number from Country=%{customdata[0]}<br>Latitude=%{lat}<br>Longitude=%{lon}<extra></extra>\",\"hovertext\":[\"India\"],\"lat\":[\"20.593684\"],\"legendgroup\":\"India\",\"lon\":[\"78.96288\"],\"marker\":{\"color\":\"#FF97FF\",\"size\":[6],\"sizemode\":\"area\",\"sizeref\":0.0825,\"symbol\":\"circle\"},\"mode\":\"markers\",\"name\":\"India\",\"showlegend\":true,\"type\":\"scattergeo\"},{\"customdata\":[[2]],\"geo\":\"geo\",\"hovertemplate\":\"<b>%{hovertext}</b><br><br>Country=Indonesia<br>Number from Country=%{customdata[0]}<br>Latitude=%{lat}<br>Longitude=%{lon}<extra></extra>\",\"hovertext\":[\"Indonesia\"],\"lat\":[\"-0.789275\"],\"legendgroup\":\"Indonesia\",\"lon\":[\"113.921327\"],\"marker\":{\"color\":\"#FECB52\",\"size\":[2],\"sizemode\":\"area\",\"sizeref\":0.0825,\"symbol\":\"circle\"},\"mode\":\"markers\",\"name\":\"Indonesia\",\"showlegend\":true,\"type\":\"scattergeo\"},{\"customdata\":[[2]],\"geo\":\"geo\",\"hovertemplate\":\"<b>%{hovertext}</b><br><br>Country=Ireland<br>Number from Country=%{customdata[0]}<br>Latitude=%{lat}<br>Longitude=%{lon}<extra></extra>\",\"hovertext\":[\"Ireland\"],\"lat\":[\"53.41291\"],\"legendgroup\":\"Ireland\",\"lon\":[\"-8.24389\"],\"marker\":{\"color\":\"#636efa\",\"size\":[2],\"sizemode\":\"area\",\"sizeref\":0.0825,\"symbol\":\"circle\"},\"mode\":\"markers\",\"name\":\"Ireland\",\"showlegend\":true,\"type\":\"scattergeo\"},{\"customdata\":[[2]],\"geo\":\"geo\",\"hovertemplate\":\"<b>%{hovertext}</b><br><br>Country=Israel<br>Number from Country=%{customdata[0]}<br>Latitude=%{lat}<br>Longitude=%{lon}<extra></extra>\",\"hovertext\":[\"Israel\"],\"lat\":[\"31.046051\"],\"legendgroup\":\"Israel\",\"lon\":[\"34.851612\"],\"marker\":{\"color\":\"#EF553B\",\"size\":[2],\"sizemode\":\"area\",\"sizeref\":0.0825,\"symbol\":\"circle\"},\"mode\":\"markers\",\"name\":\"Israel\",\"showlegend\":true,\"type\":\"scattergeo\"},{\"customdata\":[[2]],\"geo\":\"geo\",\"hovertemplate\":\"<b>%{hovertext}</b><br><br>Country=Italy<br>Number from Country=%{customdata[0]}<br>Latitude=%{lat}<br>Longitude=%{lon}<extra></extra>\",\"hovertext\":[\"Italy\"],\"lat\":[\"41.87194\"],\"legendgroup\":\"Italy\",\"lon\":[\"12.56738\"],\"marker\":{\"color\":\"#00cc96\",\"size\":[2],\"sizemode\":\"area\",\"sizeref\":0.0825,\"symbol\":\"circle\"},\"mode\":\"markers\",\"name\":\"Italy\",\"showlegend\":true,\"type\":\"scattergeo\"},{\"customdata\":[[9]],\"geo\":\"geo\",\"hovertemplate\":\"<b>%{hovertext}</b><br><br>Country=Japan<br>Number from Country=%{customdata[0]}<br>Latitude=%{lat}<br>Longitude=%{lon}<extra></extra>\",\"hovertext\":[\"Japan\"],\"lat\":[\"36.204824\"],\"legendgroup\":\"Japan\",\"lon\":[\"138.252924\"],\"marker\":{\"color\":\"#ab63fa\",\"size\":[9],\"sizemode\":\"area\",\"sizeref\":0.0825,\"symbol\":\"circle\"},\"mode\":\"markers\",\"name\":\"Japan\",\"showlegend\":true,\"type\":\"scattergeo\"},{\"customdata\":[[4]],\"geo\":\"geo\",\"hovertemplate\":\"<b>%{hovertext}</b><br><br>Country=Mexico<br>Number from Country=%{customdata[0]}<br>Latitude=%{lat}<br>Longitude=%{lon}<extra></extra>\",\"hovertext\":[\"Mexico\"],\"lat\":[\"23.634501\"],\"legendgroup\":\"Mexico\",\"lon\":[\"-102.552784\"],\"marker\":{\"color\":\"#FFA15A\",\"size\":[4],\"sizemode\":\"area\",\"sizeref\":0.0825,\"symbol\":\"circle\"},\"mode\":\"markers\",\"name\":\"Mexico\",\"showlegend\":true,\"type\":\"scattergeo\"},{\"customdata\":[[1]],\"geo\":\"geo\",\"hovertemplate\":\"<b>%{hovertext}</b><br><br>Country=Myanmar<br>Number from Country=%{customdata[0]}<br>Latitude=%{lat}<br>Longitude=%{lon}<extra></extra>\",\"hovertext\":[\"Myanmar\"],\"lat\":[\"21.913965\"],\"legendgroup\":\"Myanmar\",\"lon\":[\"95.956223\"],\"marker\":{\"color\":\"#19d3f3\",\"size\":[1],\"sizemode\":\"area\",\"sizeref\":0.0825,\"symbol\":\"circle\"},\"mode\":\"markers\",\"name\":\"Myanmar\",\"showlegend\":true,\"type\":\"scattergeo\"},{\"customdata\":[[1]],\"geo\":\"geo\",\"hovertemplate\":\"<b>%{hovertext}</b><br><br>Country=Norway<br>Number from Country=%{customdata[0]}<br>Latitude=%{lat}<br>Longitude=%{lon}<extra></extra>\",\"hovertext\":[\"Norway\"],\"lat\":[\"60.472024\"],\"legendgroup\":\"Norway\",\"lon\":[\"8.468946\"],\"marker\":{\"color\":\"#FF6692\",\"size\":[1],\"sizemode\":\"area\",\"sizeref\":0.0825,\"symbol\":\"circle\"},\"mode\":\"markers\",\"name\":\"Norway\",\"showlegend\":true,\"type\":\"scattergeo\"},{\"customdata\":[[4]],\"geo\":\"geo\",\"hovertemplate\":\"<b>%{hovertext}</b><br><br>Country=Panama<br>Number from Country=%{customdata[0]}<br>Latitude=%{lat}<br>Longitude=%{lon}<extra></extra>\",\"hovertext\":[\"Panama\"],\"lat\":[\"8.537981\"],\"legendgroup\":\"Panama\",\"lon\":[\"-80.782127\"],\"marker\":{\"color\":\"#B6E880\",\"size\":[4],\"sizemode\":\"area\",\"sizeref\":0.0825,\"symbol\":\"circle\"},\"mode\":\"markers\",\"name\":\"Panama\",\"showlegend\":true,\"type\":\"scattergeo\"},{\"customdata\":[[1]],\"geo\":\"geo\",\"hovertemplate\":\"<b>%{hovertext}</b><br><br>Country=Philippines<br>Number from Country=%{customdata[0]}<br>Latitude=%{lat}<br>Longitude=%{lon}<extra></extra>\",\"hovertext\":[\"Philippines\"],\"lat\":[\"12.879721\"],\"legendgroup\":\"Philippines\",\"lon\":[\"121.774017\"],\"marker\":{\"color\":\"#FF97FF\",\"size\":[1],\"sizemode\":\"area\",\"sizeref\":0.0825,\"symbol\":\"circle\"},\"mode\":\"markers\",\"name\":\"Philippines\",\"showlegend\":true,\"type\":\"scattergeo\"},{\"customdata\":[[11]],\"geo\":\"geo\",\"hovertemplate\":\"<b>%{hovertext}</b><br><br>Country=Puerto Rico<br>Number from Country=%{customdata[0]}<br>Latitude=%{lat}<br>Longitude=%{lon}<extra></extra>\",\"hovertext\":[\"Puerto Rico\"],\"lat\":[\"18.220833\"],\"legendgroup\":\"Puerto Rico\",\"lon\":[\"-66.590149\"],\"marker\":{\"color\":\"#FECB52\",\"size\":[11],\"sizemode\":\"area\",\"sizeref\":0.0825,\"symbol\":\"circle\"},\"mode\":\"markers\",\"name\":\"Puerto Rico\",\"showlegend\":true,\"type\":\"scattergeo\"},{\"customdata\":[[1]],\"geo\":\"geo\",\"hovertemplate\":\"<b>%{hovertext}</b><br><br>Country=Republic of North Macedonia<br>Number from Country=%{customdata[0]}<br>Latitude=%{lat}<br>Longitude=%{lon}<extra></extra>\",\"hovertext\":[\"Republic of North Macedonia\"],\"lat\":[\"41.608635\"],\"legendgroup\":\"Republic of North Macedonia\",\"lon\":[\"21.745275\"],\"marker\":{\"color\":\"#636efa\",\"size\":[1],\"sizemode\":\"area\",\"sizeref\":0.0825,\"symbol\":\"circle\"},\"mode\":\"markers\",\"name\":\"Republic of North Macedonia\",\"showlegend\":true,\"type\":\"scattergeo\"},{\"customdata\":[[6]],\"geo\":\"geo\",\"hovertemplate\":\"<b>%{hovertext}</b><br><br>Country=Russia<br>Number from Country=%{customdata[0]}<br>Latitude=%{lat}<br>Longitude=%{lon}<extra></extra>\",\"hovertext\":[\"Russia\"],\"lat\":[\"61.52401\"],\"legendgroup\":\"Russia\",\"lon\":[\"105.318756\"],\"marker\":{\"color\":\"#EF553B\",\"size\":[6],\"sizemode\":\"area\",\"sizeref\":0.0825,\"symbol\":\"circle\"},\"mode\":\"markers\",\"name\":\"Russia\",\"showlegend\":true,\"type\":\"scattergeo\"},{\"customdata\":[[1]],\"geo\":\"geo\",\"hovertemplate\":\"<b>%{hovertext}</b><br><br>Country=South Korea<br>Number from Country=%{customdata[0]}<br>Latitude=%{lat}<br>Longitude=%{lon}<extra></extra>\",\"hovertext\":[\"South Korea\"],\"lat\":[\"35.907757\"],\"legendgroup\":\"South Korea\",\"lon\":[\"127.766922\"],\"marker\":{\"color\":\"#00cc96\",\"size\":[1],\"sizemode\":\"area\",\"sizeref\":0.0825,\"symbol\":\"circle\"},\"mode\":\"markers\",\"name\":\"South Korea\",\"showlegend\":true,\"type\":\"scattergeo\"},{\"customdata\":[[1]],\"geo\":\"geo\",\"hovertemplate\":\"<b>%{hovertext}</b><br><br>Country=Spain<br>Number from Country=%{customdata[0]}<br>Latitude=%{lat}<br>Longitude=%{lon}<extra></extra>\",\"hovertext\":[\"Spain\"],\"lat\":[\"40.463667\"],\"legendgroup\":\"Spain\",\"lon\":[\"-3.74922\"],\"marker\":{\"color\":\"#ab63fa\",\"size\":[1],\"sizemode\":\"area\",\"sizeref\":0.0825,\"symbol\":\"circle\"},\"mode\":\"markers\",\"name\":\"Spain\",\"showlegend\":true,\"type\":\"scattergeo\"},{\"customdata\":[[8]],\"geo\":\"geo\",\"hovertemplate\":\"<b>%{hovertext}</b><br><br>Country=Sweden<br>Number from Country=%{customdata[0]}<br>Latitude=%{lat}<br>Longitude=%{lon}<extra></extra>\",\"hovertext\":[\"Sweden\"],\"lat\":[\"60.128161\"],\"legendgroup\":\"Sweden\",\"lon\":[\"18.643501\"],\"marker\":{\"color\":\"#FFA15A\",\"size\":[8],\"sizemode\":\"area\",\"sizeref\":0.0825,\"symbol\":\"circle\"},\"mode\":\"markers\",\"name\":\"Sweden\",\"showlegend\":true,\"type\":\"scattergeo\"},{\"customdata\":[[2]],\"geo\":\"geo\",\"hovertemplate\":\"<b>%{hovertext}</b><br><br>Country=Syria<br>Number from Country=%{customdata[0]}<br>Latitude=%{lat}<br>Longitude=%{lon}<extra></extra>\",\"hovertext\":[\"Syria\"],\"lat\":[\"34.802075\"],\"legendgroup\":\"Syria\",\"lon\":[\"38.996815\"],\"marker\":{\"color\":\"#19d3f3\",\"size\":[2],\"sizemode\":\"area\",\"sizeref\":0.0825,\"symbol\":\"circle\"},\"mode\":\"markers\",\"name\":\"Syria\",\"showlegend\":true,\"type\":\"scattergeo\"},{\"customdata\":[[2]],\"geo\":\"geo\",\"hovertemplate\":\"<b>%{hovertext}</b><br><br>Country=Thailand<br>Number from Country=%{customdata[0]}<br>Latitude=%{lat}<br>Longitude=%{lon}<extra></extra>\",\"hovertext\":[\"Thailand\"],\"lat\":[\"15.870032\"],\"legendgroup\":\"Thailand\",\"lon\":[\"100.992541\"],\"marker\":{\"color\":\"#FF6692\",\"size\":[2],\"sizemode\":\"area\",\"sizeref\":0.0825,\"symbol\":\"circle\"},\"mode\":\"markers\",\"name\":\"Thailand\",\"showlegend\":true,\"type\":\"scattergeo\"},{\"customdata\":[[3]],\"geo\":\"geo\",\"hovertemplate\":\"<b>%{hovertext}</b><br><br>Country=Turkey<br>Number from Country=%{customdata[0]}<br>Latitude=%{lat}<br>Longitude=%{lon}<extra></extra>\",\"hovertext\":[\"Turkey\"],\"lat\":[\"38.963745\"],\"legendgroup\":\"Turkey\",\"lon\":[\"35.243322\"],\"marker\":{\"color\":\"#B6E880\",\"size\":[3],\"sizemode\":\"area\",\"sizeref\":0.0825,\"symbol\":\"circle\"},\"mode\":\"markers\",\"name\":\"Turkey\",\"showlegend\":true,\"type\":\"scattergeo\"},{\"customdata\":[[4]],\"geo\":\"geo\",\"hovertemplate\":\"<b>%{hovertext}</b><br><br>Country=United Kingdom<br>Number from Country=%{customdata[0]}<br>Latitude=%{lat}<br>Longitude=%{lon}<extra></extra>\",\"hovertext\":[\"United Kingdom\"],\"lat\":[\"55.378051\"],\"legendgroup\":\"United Kingdom\",\"lon\":[\"-3.435973\"],\"marker\":{\"color\":\"#FF97FF\",\"size\":[4],\"sizemode\":\"area\",\"sizeref\":0.0825,\"symbol\":\"circle\"},\"mode\":\"markers\",\"name\":\"United Kingdom\",\"showlegend\":true,\"type\":\"scattergeo\"},{\"customdata\":[[2]],\"geo\":\"geo\",\"hovertemplate\":\"<b>%{hovertext}</b><br><br>Country=Uruguay<br>Number from Country=%{customdata[0]}<br>Latitude=%{lat}<br>Longitude=%{lon}<extra></extra>\",\"hovertext\":[\"Uruguay\"],\"lat\":[\"-32.522779\"],\"legendgroup\":\"Uruguay\",\"lon\":[\"-55.765835\"],\"marker\":{\"color\":\"#FECB52\",\"size\":[2],\"sizemode\":\"area\",\"sizeref\":0.0825,\"symbol\":\"circle\"},\"mode\":\"markers\",\"name\":\"Uruguay\",\"showlegend\":true,\"type\":\"scattergeo\"}],                        {\"geo\":{\"center\":{},\"domain\":{\"x\":[0.0,1.0],\"y\":[0.0,1.0]},\"projection\":{\"type\":\"winkel tripel\"}},\"legend\":{\"itemsizing\":\"constant\",\"title\":{\"text\":\"Country\"},\"tracegroupgap\":0},\"template\":{\"data\":{\"bar\":[{\"error_x\":{\"color\":\"#2a3f5f\"},\"error_y\":{\"color\":\"#2a3f5f\"},\"marker\":{\"line\":{\"color\":\"#E5ECF6\",\"width\":0.5},\"pattern\":{\"fillmode\":\"overlay\",\"size\":10,\"solidity\":0.2}},\"type\":\"bar\"}],\"barpolar\":[{\"marker\":{\"line\":{\"color\":\"#E5ECF6\",\"width\":0.5},\"pattern\":{\"fillmode\":\"overlay\",\"size\":10,\"solidity\":0.2}},\"type\":\"barpolar\"}],\"carpet\":[{\"aaxis\":{\"endlinecolor\":\"#2a3f5f\",\"gridcolor\":\"white\",\"linecolor\":\"white\",\"minorgridcolor\":\"white\",\"startlinecolor\":\"#2a3f5f\"},\"baxis\":{\"endlinecolor\":\"#2a3f5f\",\"gridcolor\":\"white\",\"linecolor\":\"white\",\"minorgridcolor\":\"white\",\"startlinecolor\":\"#2a3f5f\"},\"type\":\"carpet\"}],\"choropleth\":[{\"colorbar\":{\"outlinewidth\":0,\"ticks\":\"\"},\"type\":\"choropleth\"}],\"contour\":[{\"colorbar\":{\"outlinewidth\":0,\"ticks\":\"\"},\"colorscale\":[[0.0,\"#0d0887\"],[0.1111111111111111,\"#46039f\"],[0.2222222222222222,\"#7201a8\"],[0.3333333333333333,\"#9c179e\"],[0.4444444444444444,\"#bd3786\"],[0.5555555555555556,\"#d8576b\"],[0.6666666666666666,\"#ed7953\"],[0.7777777777777778,\"#fb9f3a\"],[0.8888888888888888,\"#fdca26\"],[1.0,\"#f0f921\"]],\"type\":\"contour\"}],\"contourcarpet\":[{\"colorbar\":{\"outlinewidth\":0,\"ticks\":\"\"},\"type\":\"contourcarpet\"}],\"heatmap\":[{\"colorbar\":{\"outlinewidth\":0,\"ticks\":\"\"},\"colorscale\":[[0.0,\"#0d0887\"],[0.1111111111111111,\"#46039f\"],[0.2222222222222222,\"#7201a8\"],[0.3333333333333333,\"#9c179e\"],[0.4444444444444444,\"#bd3786\"],[0.5555555555555556,\"#d8576b\"],[0.6666666666666666,\"#ed7953\"],[0.7777777777777778,\"#fb9f3a\"],[0.8888888888888888,\"#fdca26\"],[1.0,\"#f0f921\"]],\"type\":\"heatmap\"}],\"heatmapgl\":[{\"colorbar\":{\"outlinewidth\":0,\"ticks\":\"\"},\"colorscale\":[[0.0,\"#0d0887\"],[0.1111111111111111,\"#46039f\"],[0.2222222222222222,\"#7201a8\"],[0.3333333333333333,\"#9c179e\"],[0.4444444444444444,\"#bd3786\"],[0.5555555555555556,\"#d8576b\"],[0.6666666666666666,\"#ed7953\"],[0.7777777777777778,\"#fb9f3a\"],[0.8888888888888888,\"#fdca26\"],[1.0,\"#f0f921\"]],\"type\":\"heatmapgl\"}],\"histogram\":[{\"marker\":{\"pattern\":{\"fillmode\":\"overlay\",\"size\":10,\"solidity\":0.2}},\"type\":\"histogram\"}],\"histogram2d\":[{\"colorbar\":{\"outlinewidth\":0,\"ticks\":\"\"},\"colorscale\":[[0.0,\"#0d0887\"],[0.1111111111111111,\"#46039f\"],[0.2222222222222222,\"#7201a8\"],[0.3333333333333333,\"#9c179e\"],[0.4444444444444444,\"#bd3786\"],[0.5555555555555556,\"#d8576b\"],[0.6666666666666666,\"#ed7953\"],[0.7777777777777778,\"#fb9f3a\"],[0.8888888888888888,\"#fdca26\"],[1.0,\"#f0f921\"]],\"type\":\"histogram2d\"}],\"histogram2dcontour\":[{\"colorbar\":{\"outlinewidth\":0,\"ticks\":\"\"},\"colorscale\":[[0.0,\"#0d0887\"],[0.1111111111111111,\"#46039f\"],[0.2222222222222222,\"#7201a8\"],[0.3333333333333333,\"#9c179e\"],[0.4444444444444444,\"#bd3786\"],[0.5555555555555556,\"#d8576b\"],[0.6666666666666666,\"#ed7953\"],[0.7777777777777778,\"#fb9f3a\"],[0.8888888888888888,\"#fdca26\"],[1.0,\"#f0f921\"]],\"type\":\"histogram2dcontour\"}],\"mesh3d\":[{\"colorbar\":{\"outlinewidth\":0,\"ticks\":\"\"},\"type\":\"mesh3d\"}],\"parcoords\":[{\"line\":{\"colorbar\":{\"outlinewidth\":0,\"ticks\":\"\"}},\"type\":\"parcoords\"}],\"pie\":[{\"automargin\":true,\"type\":\"pie\"}],\"scatter\":[{\"marker\":{\"colorbar\":{\"outlinewidth\":0,\"ticks\":\"\"}},\"type\":\"scatter\"}],\"scatter3d\":[{\"line\":{\"colorbar\":{\"outlinewidth\":0,\"ticks\":\"\"}},\"marker\":{\"colorbar\":{\"outlinewidth\":0,\"ticks\":\"\"}},\"type\":\"scatter3d\"}],\"scattercarpet\":[{\"marker\":{\"colorbar\":{\"outlinewidth\":0,\"ticks\":\"\"}},\"type\":\"scattercarpet\"}],\"scattergeo\":[{\"marker\":{\"colorbar\":{\"outlinewidth\":0,\"ticks\":\"\"}},\"type\":\"scattergeo\"}],\"scattergl\":[{\"marker\":{\"colorbar\":{\"outlinewidth\":0,\"ticks\":\"\"}},\"type\":\"scattergl\"}],\"scattermapbox\":[{\"marker\":{\"colorbar\":{\"outlinewidth\":0,\"ticks\":\"\"}},\"type\":\"scattermapbox\"}],\"scatterpolar\":[{\"marker\":{\"colorbar\":{\"outlinewidth\":0,\"ticks\":\"\"}},\"type\":\"scatterpolar\"}],\"scatterpolargl\":[{\"marker\":{\"colorbar\":{\"outlinewidth\":0,\"ticks\":\"\"}},\"type\":\"scatterpolargl\"}],\"scatterternary\":[{\"marker\":{\"colorbar\":{\"outlinewidth\":0,\"ticks\":\"\"}},\"type\":\"scatterternary\"}],\"surface\":[{\"colorbar\":{\"outlinewidth\":0,\"ticks\":\"\"},\"colorscale\":[[0.0,\"#0d0887\"],[0.1111111111111111,\"#46039f\"],[0.2222222222222222,\"#7201a8\"],[0.3333333333333333,\"#9c179e\"],[0.4444444444444444,\"#bd3786\"],[0.5555555555555556,\"#d8576b\"],[0.6666666666666666,\"#ed7953\"],[0.7777777777777778,\"#fb9f3a\"],[0.8888888888888888,\"#fdca26\"],[1.0,\"#f0f921\"]],\"type\":\"surface\"}],\"table\":[{\"cells\":{\"fill\":{\"color\":\"#EBF0F8\"},\"line\":{\"color\":\"white\"}},\"header\":{\"fill\":{\"color\":\"#C8D4E3\"},\"line\":{\"color\":\"white\"}},\"type\":\"table\"}]},\"layout\":{\"annotationdefaults\":{\"arrowcolor\":\"#2a3f5f\",\"arrowhead\":0,\"arrowwidth\":1},\"autotypenumbers\":\"strict\",\"coloraxis\":{\"colorbar\":{\"outlinewidth\":0,\"ticks\":\"\"}},\"colorscale\":{\"diverging\":[[0,\"#8e0152\"],[0.1,\"#c51b7d\"],[0.2,\"#de77ae\"],[0.3,\"#f1b6da\"],[0.4,\"#fde0ef\"],[0.5,\"#f7f7f7\"],[0.6,\"#e6f5d0\"],[0.7,\"#b8e186\"],[0.8,\"#7fbc41\"],[0.9,\"#4d9221\"],[1,\"#276419\"]],\"sequential\":[[0.0,\"#0d0887\"],[0.1111111111111111,\"#46039f\"],[0.2222222222222222,\"#7201a8\"],[0.3333333333333333,\"#9c179e\"],[0.4444444444444444,\"#bd3786\"],[0.5555555555555556,\"#d8576b\"],[0.6666666666666666,\"#ed7953\"],[0.7777777777777778,\"#fb9f3a\"],[0.8888888888888888,\"#fdca26\"],[1.0,\"#f0f921\"]],\"sequentialminus\":[[0.0,\"#0d0887\"],[0.1111111111111111,\"#46039f\"],[0.2222222222222222,\"#7201a8\"],[0.3333333333333333,\"#9c179e\"],[0.4444444444444444,\"#bd3786\"],[0.5555555555555556,\"#d8576b\"],[0.6666666666666666,\"#ed7953\"],[0.7777777777777778,\"#fb9f3a\"],[0.8888888888888888,\"#fdca26\"],[1.0,\"#f0f921\"]]},\"colorway\":[\"#636efa\",\"#EF553B\",\"#00cc96\",\"#ab63fa\",\"#FFA15A\",\"#19d3f3\",\"#FF6692\",\"#B6E880\",\"#FF97FF\",\"#FECB52\"],\"font\":{\"color\":\"#2a3f5f\"},\"geo\":{\"bgcolor\":\"white\",\"lakecolor\":\"white\",\"landcolor\":\"#E5ECF6\",\"showlakes\":true,\"showland\":true,\"subunitcolor\":\"white\"},\"hoverlabel\":{\"align\":\"left\"},\"hovermode\":\"closest\",\"mapbox\":{\"style\":\"light\"},\"paper_bgcolor\":\"white\",\"plot_bgcolor\":\"#E5ECF6\",\"polar\":{\"angularaxis\":{\"gridcolor\":\"white\",\"linecolor\":\"white\",\"ticks\":\"\"},\"bgcolor\":\"#E5ECF6\",\"radialaxis\":{\"gridcolor\":\"white\",\"linecolor\":\"white\",\"ticks\":\"\"}},\"scene\":{\"xaxis\":{\"backgroundcolor\":\"#E5ECF6\",\"gridcolor\":\"white\",\"gridwidth\":2,\"linecolor\":\"white\",\"showbackground\":true,\"ticks\":\"\",\"zerolinecolor\":\"white\"},\"yaxis\":{\"backgroundcolor\":\"#E5ECF6\",\"gridcolor\":\"white\",\"gridwidth\":2,\"linecolor\":\"white\",\"showbackground\":true,\"ticks\":\"\",\"zerolinecolor\":\"white\"},\"zaxis\":{\"backgroundcolor\":\"#E5ECF6\",\"gridcolor\":\"white\",\"gridwidth\":2,\"linecolor\":\"white\",\"showbackground\":true,\"ticks\":\"\",\"zerolinecolor\":\"white\"}},\"shapedefaults\":{\"line\":{\"color\":\"#2a3f5f\"}},\"ternary\":{\"aaxis\":{\"gridcolor\":\"white\",\"linecolor\":\"white\",\"ticks\":\"\"},\"baxis\":{\"gridcolor\":\"white\",\"linecolor\":\"white\",\"ticks\":\"\"},\"bgcolor\":\"#E5ECF6\",\"caxis\":{\"gridcolor\":\"white\",\"linecolor\":\"white\",\"ticks\":\"\"}},\"title\":{\"x\":0.05},\"xaxis\":{\"automargin\":true,\"gridcolor\":\"white\",\"linecolor\":\"white\",\"ticks\":\"\",\"title\":{\"standoff\":15},\"zerolinecolor\":\"white\",\"zerolinewidth\":2},\"yaxis\":{\"automargin\":true,\"gridcolor\":\"white\",\"linecolor\":\"white\",\"ticks\":\"\",\"title\":{\"standoff\":15},\"zerolinecolor\":\"white\",\"zerolinewidth\":2}}},\"title\":{\"text\":\"Map 2. Number of WPI International Students from Each Country (1876-1943)\"}},                        {\"responsive\": true}                    ).then(function(){\n",
       "                            \n",
       "var gd = document.getElementById('71a07c41-7931-413e-a1ff-30d320c84812');\n",
       "var x = new MutationObserver(function (mutations, observer) {{\n",
       "        var display = window.getComputedStyle(gd).display;\n",
       "        if (!display || display === 'none') {{\n",
       "            console.log([gd, 'removed!']);\n",
       "            Plotly.purge(gd);\n",
       "            observer.disconnect();\n",
       "        }}\n",
       "}});\n",
       "\n",
       "// Listen for the removal of the full notebook cells\n",
       "var notebookContainer = gd.closest('#notebook-container');\n",
       "if (notebookContainer) {{\n",
       "    x.observe(notebookContainer, {childList: true});\n",
       "}}\n",
       "\n",
       "// Listen for the clearing of the current output cell\n",
       "var outputEl = gd.closest('.output');\n",
       "if (outputEl) {{\n",
       "    x.observe(outputEl, {childList: true});\n",
       "}}\n",
       "\n",
       "                        })                };                });            </script>        </div>"
      ]
     },
     "metadata": {},
     "output_type": "display_data"
    }
   ],
   "source": [
    "#create bubble map to show different sizes of circles depending on number of students from the country from before WWII\n",
    "figc = px.scatter_geo(\n",
    "    countdf,\n",
    "    lat=countdf['latc'],\n",
    "    lon=countdf['lonc'],\n",
    "    color=countdf['c2'],\n",
    "    size=countdf['country_count'],\n",
    "    labels={'c2':'Country','country_count':'Number from Country', 'latc':'Latitude','lonc':'Longitude'},\n",
    "    hover_name= countdf['c2'],\n",
    "    hover_data= [countdf['country_count']],\n",
    "    #projection = 'conic conformal',\n",
    "    title='Map 2. Number of WPI International Students from Each Country (1876-1943)',\n",
    "    projection = 'winkel tripel'\n",
    ")\n",
    "\n",
    "figc.show()"
   ]
  },
  {
   "cell_type": "code",
   "execution_count": 8,
   "metadata": {},
   "outputs": [],
   "source": [
    "#pivot isdf dataframe based on concatenated country+lat+long+class of year using student name as index and year as value\n",
    "pivot2 = isdf.pivot(index='sname', columns='cllclass', values='classof')\n",
    "\n",
    "#count the number of times the country is listed\n",
    "countclass = pivot2.count()\n",
    "\n",
    "#convert series to dataframe\n",
    "classdf = countclass.to_frame()\n",
    "\n",
    "#make cll index to column\n",
    "classdf.reset_index(inplace=True)"
   ]
  },
  {
   "cell_type": "code",
   "execution_count": 9,
   "metadata": {},
   "outputs": [],
   "source": [
    "#rename column\n",
    "classdf = classdf.rename(columns={0:'class_count'})\n",
    "\n",
    "#split cllclass to 4 columns for country name, latitude, longitude, and class of year using | as delimter\n",
    "classdf[['cc','cclat','cclon','ccyear']] = classdf.cllclass.str.split(\"|\",expand=True)"
   ]
  },
  {
   "cell_type": "code",
   "execution_count": 10,
   "metadata": {},
   "outputs": [],
   "source": [
    "#remove records where year is blank\n",
    "classdf = classdf[classdf['ccyear'] != 'nan']\n",
    "#change year to datetime so that it can be sorted in ascending order, this will default to YYYY-MM-DD, \n",
    "classdf['ccyear2'] = pd.to_datetime(classdf['ccyear'])\n",
    "#change ccyear to just the YEAR without month and day\n",
    "classdf['ccyear3'] = classdf['ccyear2'].dt.year\n",
    "#sort records by year\n",
    "classdf.sort_values(by=['ccyear3'], inplace = True)"
   ]
  },
  {
   "cell_type": "markdown",
   "metadata": {},
   "source": [
    "<a id=\"003\"></a>"
   ]
  },
  {
   "cell_type": "code",
   "execution_count": 11,
   "metadata": {},
   "outputs": [
    {
     "data": {
      "application/vnd.plotly.v1+json": {
       "config": {
        "plotlyServerURL": "https://plot.ly"
       },
       "data": [
        {
         "customdata": [
          [
           2,
           "1876"
          ]
         ],
         "geo": "geo",
         "hovertemplate": "<b>%{hovertext}</b><br><br>Class of=%{customdata[1]}<br>Number from Country=%{customdata[0]}<br>Latitude=%{lat}<br>Longitude=%{lon}<extra></extra>",
         "hovertext": [
          "Japan"
         ],
         "lat": [
          "36.204824"
         ],
         "legendgroup": "1876",
         "lon": [
          "138.252924"
         ],
         "marker": {
          "color": "#636efa",
          "size": [
           2
          ],
          "sizemode": "area",
          "sizeref": 0.0125,
          "symbol": "circle"
         },
         "mode": "markers",
         "name": "1876",
         "showlegend": true,
         "type": "scattergeo"
        }
       ],
       "frames": [
        {
         "data": [
          {
           "customdata": [
            [
             2,
             "1876"
            ]
           ],
           "geo": "geo",
           "hovertemplate": "<b>%{hovertext}</b><br><br>Class of=%{customdata[1]}<br>Number from Country=%{customdata[0]}<br>Latitude=%{lat}<br>Longitude=%{lon}<extra></extra>",
           "hovertext": [
            "Japan"
           ],
           "lat": [
            "36.204824"
           ],
           "legendgroup": "1876",
           "lon": [
            "138.252924"
           ],
           "marker": {
            "color": "#636efa",
            "size": [
             2
            ],
            "sizemode": "area",
            "sizeref": 0.0125,
            "symbol": "circle"
           },
           "mode": "markers",
           "name": "1876",
           "showlegend": true,
           "type": "scattergeo"
          }
         ],
         "name": "1876"
        },
        {
         "data": [
          {
           "customdata": [
            [
             1,
             "1877"
            ],
            [
             1,
             "1877"
            ]
           ],
           "geo": "geo",
           "hovertemplate": "<b>%{hovertext}</b><br><br>Class of=%{customdata[1]}<br>Number from Country=%{customdata[0]}<br>Latitude=%{lat}<br>Longitude=%{lon}<extra></extra>",
           "hovertext": [
            "Canada",
            "Japan"
           ],
           "lat": [
            "56.130366",
            "36.204824"
           ],
           "legendgroup": "1877",
           "lon": [
            "-106.346771",
            "138.252924"
           ],
           "marker": {
            "color": "#EF553B",
            "size": [
             1,
             1
            ],
            "sizemode": "area",
            "sizeref": 0.0125,
            "symbol": "circle"
           },
           "mode": "markers",
           "name": "1877",
           "showlegend": true,
           "type": "scattergeo"
          }
         ],
         "name": "1877"
        },
        {
         "data": [
          {
           "customdata": [
            [
             1,
             "1878"
            ],
            [
             2,
             "1878"
            ]
           ],
           "geo": "geo",
           "hovertemplate": "<b>%{hovertext}</b><br><br>Class of=%{customdata[1]}<br>Number from Country=%{customdata[0]}<br>Latitude=%{lat}<br>Longitude=%{lon}<extra></extra>",
           "hovertext": [
            "Canada",
            "Brazil"
           ],
           "lat": [
            "56.130366",
            "-14.235004"
           ],
           "legendgroup": "1878",
           "lon": [
            "-106.346771",
            "-51.92528"
           ],
           "marker": {
            "color": "#00cc96",
            "size": [
             1,
             2
            ],
            "sizemode": "area",
            "sizeref": 0.0125,
            "symbol": "circle"
           },
           "mode": "markers",
           "name": "1878",
           "showlegend": true,
           "type": "scattergeo"
          }
         ],
         "name": "1878"
        },
        {
         "data": [
          {
           "customdata": [
            [
             2,
             "1879"
            ]
           ],
           "geo": "geo",
           "hovertemplate": "<b>%{hovertext}</b><br><br>Class of=%{customdata[1]}<br>Number from Country=%{customdata[0]}<br>Latitude=%{lat}<br>Longitude=%{lon}<extra></extra>",
           "hovertext": [
            "Brazil"
           ],
           "lat": [
            "-14.235004"
           ],
           "legendgroup": "1879",
           "lon": [
            "-51.92528"
           ],
           "marker": {
            "color": "#ab63fa",
            "size": [
             2
            ],
            "sizemode": "area",
            "sizeref": 0.0125,
            "symbol": "circle"
           },
           "mode": "markers",
           "name": "1879",
           "showlegend": true,
           "type": "scattergeo"
          }
         ],
         "name": "1879"
        },
        {
         "data": [
          {
           "customdata": [
            [
             1,
             "1880"
            ]
           ],
           "geo": "geo",
           "hovertemplate": "<b>%{hovertext}</b><br><br>Class of=%{customdata[1]}<br>Number from Country=%{customdata[0]}<br>Latitude=%{lat}<br>Longitude=%{lon}<extra></extra>",
           "hovertext": [
            "Germany"
           ],
           "lat": [
            "51.165691"
           ],
           "legendgroup": "1880",
           "lon": [
            "10.451526"
           ],
           "marker": {
            "color": "#FFA15A",
            "size": [
             1
            ],
            "sizemode": "area",
            "sizeref": 0.0125,
            "symbol": "circle"
           },
           "mode": "markers",
           "name": "1880",
           "showlegend": true,
           "type": "scattergeo"
          }
         ],
         "name": "1880"
        },
        {
         "data": [
          {
           "customdata": [
            [
             1,
             "1882"
            ]
           ],
           "geo": "geo",
           "hovertemplate": "<b>%{hovertext}</b><br><br>Class of=%{customdata[1]}<br>Number from Country=%{customdata[0]}<br>Latitude=%{lat}<br>Longitude=%{lon}<extra></extra>",
           "hovertext": [
            "Brazil"
           ],
           "lat": [
            "-14.235004"
           ],
           "legendgroup": "1882",
           "lon": [
            "-51.92528"
           ],
           "marker": {
            "color": "#19d3f3",
            "size": [
             1
            ],
            "sizemode": "area",
            "sizeref": 0.0125,
            "symbol": "circle"
           },
           "mode": "markers",
           "name": "1882",
           "showlegend": true,
           "type": "scattergeo"
          }
         ],
         "name": "1882"
        },
        {
         "data": [
          {
           "customdata": [
            [
             1,
             "1883"
            ]
           ],
           "geo": "geo",
           "hovertemplate": "<b>%{hovertext}</b><br><br>Class of=%{customdata[1]}<br>Number from Country=%{customdata[0]}<br>Latitude=%{lat}<br>Longitude=%{lon}<extra></extra>",
           "hovertext": [
            "Chile"
           ],
           "lat": [
            "-35.675147"
           ],
           "legendgroup": "1883",
           "lon": [
            "-71.542969"
           ],
           "marker": {
            "color": "#FF6692",
            "size": [
             1
            ],
            "sizemode": "area",
            "sizeref": 0.0125,
            "symbol": "circle"
           },
           "mode": "markers",
           "name": "1883",
           "showlegend": true,
           "type": "scattergeo"
          }
         ],
         "name": "1883"
        },
        {
         "data": [
          {
           "customdata": [
            [
             1,
             "1884"
            ],
            [
             1,
             "1884"
            ]
           ],
           "geo": "geo",
           "hovertemplate": "<b>%{hovertext}</b><br><br>Class of=%{customdata[1]}<br>Number from Country=%{customdata[0]}<br>Latitude=%{lat}<br>Longitude=%{lon}<extra></extra>",
           "hovertext": [
            "Canada",
            "China"
           ],
           "lat": [
            "56.130366",
            "35.86166"
           ],
           "legendgroup": "1884",
           "lon": [
            "-106.346771",
            "104.195397"
           ],
           "marker": {
            "color": "#B6E880",
            "size": [
             1,
             1
            ],
            "sizemode": "area",
            "sizeref": 0.0125,
            "symbol": "circle"
           },
           "mode": "markers",
           "name": "1884",
           "showlegend": true,
           "type": "scattergeo"
          }
         ],
         "name": "1884"
        },
        {
         "data": [
          {
           "customdata": [
            [
             1,
             "1885"
            ]
           ],
           "geo": "geo",
           "hovertemplate": "<b>%{hovertext}</b><br><br>Class of=%{customdata[1]}<br>Number from Country=%{customdata[0]}<br>Latitude=%{lat}<br>Longitude=%{lon}<extra></extra>",
           "hovertext": [
            "Brazil"
           ],
           "lat": [
            "-14.235004"
           ],
           "legendgroup": "1885",
           "lon": [
            "-51.92528"
           ],
           "marker": {
            "color": "#FF97FF",
            "size": [
             1
            ],
            "sizemode": "area",
            "sizeref": 0.0125,
            "symbol": "circle"
           },
           "mode": "markers",
           "name": "1885",
           "showlegend": true,
           "type": "scattergeo"
          }
         ],
         "name": "1885"
        },
        {
         "data": [
          {
           "customdata": [
            [
             1,
             "1887"
            ],
            [
             1,
             "1887"
            ]
           ],
           "geo": "geo",
           "hovertemplate": "<b>%{hovertext}</b><br><br>Class of=%{customdata[1]}<br>Number from Country=%{customdata[0]}<br>Latitude=%{lat}<br>Longitude=%{lon}<extra></extra>",
           "hovertext": [
            "China",
            "Guatemala"
           ],
           "lat": [
            "35.86166",
            "15.783471"
           ],
           "legendgroup": "1887",
           "lon": [
            "104.195397",
            "-90.230759"
           ],
           "marker": {
            "color": "#FECB52",
            "size": [
             1,
             1
            ],
            "sizemode": "area",
            "sizeref": 0.0125,
            "symbol": "circle"
           },
           "mode": "markers",
           "name": "1887",
           "showlegend": true,
           "type": "scattergeo"
          }
         ],
         "name": "1887"
        },
        {
         "data": [
          {
           "customdata": [
            [
             1,
             "1888"
            ],
            [
             1,
             "1888"
            ],
            [
             1,
             "1888"
            ],
            [
             2,
             "1888"
            ]
           ],
           "geo": "geo",
           "hovertemplate": "<b>%{hovertext}</b><br><br>Class of=%{customdata[1]}<br>Number from Country=%{customdata[0]}<br>Latitude=%{lat}<br>Longitude=%{lon}<extra></extra>",
           "hovertext": [
            "Japan",
            "Brazil",
            "Belgium",
            "Canada"
           ],
           "lat": [
            "36.204824",
            "-14.235004",
            "50.503887",
            "56.130366"
           ],
           "legendgroup": "1888",
           "lon": [
            "138.252924",
            "-51.92528",
            "4.469936",
            "-106.346771"
           ],
           "marker": {
            "color": "#636efa",
            "size": [
             1,
             1,
             1,
             2
            ],
            "sizemode": "area",
            "sizeref": 0.0125,
            "symbol": "circle"
           },
           "mode": "markers",
           "name": "1888",
           "showlegend": true,
           "type": "scattergeo"
          }
         ],
         "name": "1888"
        },
        {
         "data": [
          {
           "customdata": [
            [
             1,
             "1889"
            ]
           ],
           "geo": "geo",
           "hovertemplate": "<b>%{hovertext}</b><br><br>Class of=%{customdata[1]}<br>Number from Country=%{customdata[0]}<br>Latitude=%{lat}<br>Longitude=%{lon}<extra></extra>",
           "hovertext": [
            "Brazil"
           ],
           "lat": [
            "-14.235004"
           ],
           "legendgroup": "1889",
           "lon": [
            "-51.92528"
           ],
           "marker": {
            "color": "#EF553B",
            "size": [
             1
            ],
            "sizemode": "area",
            "sizeref": 0.0125,
            "symbol": "circle"
           },
           "mode": "markers",
           "name": "1889",
           "showlegend": true,
           "type": "scattergeo"
          }
         ],
         "name": "1889"
        },
        {
         "data": [
          {
           "customdata": [
            [
             1,
             "1891"
            ]
           ],
           "geo": "geo",
           "hovertemplate": "<b>%{hovertext}</b><br><br>Class of=%{customdata[1]}<br>Number from Country=%{customdata[0]}<br>Latitude=%{lat}<br>Longitude=%{lon}<extra></extra>",
           "hovertext": [
            "Canada"
           ],
           "lat": [
            "56.130366"
           ],
           "legendgroup": "1891",
           "lon": [
            "-106.346771"
           ],
           "marker": {
            "color": "#00cc96",
            "size": [
             1
            ],
            "sizemode": "area",
            "sizeref": 0.0125,
            "symbol": "circle"
           },
           "mode": "markers",
           "name": "1891",
           "showlegend": true,
           "type": "scattergeo"
          }
         ],
         "name": "1891"
        },
        {
         "data": [
          {
           "customdata": [
            [
             1,
             "1893"
            ]
           ],
           "geo": "geo",
           "hovertemplate": "<b>%{hovertext}</b><br><br>Class of=%{customdata[1]}<br>Number from Country=%{customdata[0]}<br>Latitude=%{lat}<br>Longitude=%{lon}<extra></extra>",
           "hovertext": [
            "Japan"
           ],
           "lat": [
            "36.204824"
           ],
           "legendgroup": "1893",
           "lon": [
            "138.252924"
           ],
           "marker": {
            "color": "#ab63fa",
            "size": [
             1
            ],
            "sizemode": "area",
            "sizeref": 0.0125,
            "symbol": "circle"
           },
           "mode": "markers",
           "name": "1893",
           "showlegend": true,
           "type": "scattergeo"
          }
         ],
         "name": "1893"
        },
        {
         "data": [
          {
           "customdata": [
            [
             1,
             "1894"
            ],
            [
             4,
             "1894"
            ]
           ],
           "geo": "geo",
           "hovertemplate": "<b>%{hovertext}</b><br><br>Class of=%{customdata[1]}<br>Number from Country=%{customdata[0]}<br>Latitude=%{lat}<br>Longitude=%{lon}<extra></extra>",
           "hovertext": [
            "Brazil",
            "Canada"
           ],
           "lat": [
            "-14.235004",
            "56.130366"
           ],
           "legendgroup": "1894",
           "lon": [
            "-51.92528",
            "-106.346771"
           ],
           "marker": {
            "color": "#FFA15A",
            "size": [
             1,
             4
            ],
            "sizemode": "area",
            "sizeref": 0.0125,
            "symbol": "circle"
           },
           "mode": "markers",
           "name": "1894",
           "showlegend": true,
           "type": "scattergeo"
          }
         ],
         "name": "1894"
        },
        {
         "data": [
          {
           "customdata": [
            [
             1,
             "1895"
            ]
           ],
           "geo": "geo",
           "hovertemplate": "<b>%{hovertext}</b><br><br>Class of=%{customdata[1]}<br>Number from Country=%{customdata[0]}<br>Latitude=%{lat}<br>Longitude=%{lon}<extra></extra>",
           "hovertext": [
            "Canada"
           ],
           "lat": [
            "56.130366"
           ],
           "legendgroup": "1895",
           "lon": [
            "-106.346771"
           ],
           "marker": {
            "color": "#19d3f3",
            "size": [
             1
            ],
            "sizemode": "area",
            "sizeref": 0.0125,
            "symbol": "circle"
           },
           "mode": "markers",
           "name": "1895",
           "showlegend": true,
           "type": "scattergeo"
          }
         ],
         "name": "1895"
        },
        {
         "data": [
          {
           "customdata": [
            [
             1,
             "1896"
            ],
            [
             1,
             "1896"
            ],
            [
             1,
             "1896"
            ]
           ],
           "geo": "geo",
           "hovertemplate": "<b>%{hovertext}</b><br><br>Class of=%{customdata[1]}<br>Number from Country=%{customdata[0]}<br>Latitude=%{lat}<br>Longitude=%{lon}<extra></extra>",
           "hovertext": [
            "Canada",
            "Mexico",
            "Cuba"
           ],
           "lat": [
            "56.130366",
            "23.634501",
            "21.521757"
           ],
           "legendgroup": "1896",
           "lon": [
            "-106.346771",
            "-102.552784",
            "-77.781167"
           ],
           "marker": {
            "color": "#FF6692",
            "size": [
             1,
             1,
             1
            ],
            "sizemode": "area",
            "sizeref": 0.0125,
            "symbol": "circle"
           },
           "mode": "markers",
           "name": "1896",
           "showlegend": true,
           "type": "scattergeo"
          }
         ],
         "name": "1896"
        },
        {
         "data": [
          {
           "customdata": [
            [
             1,
             "1897"
            ]
           ],
           "geo": "geo",
           "hovertemplate": "<b>%{hovertext}</b><br><br>Class of=%{customdata[1]}<br>Number from Country=%{customdata[0]}<br>Latitude=%{lat}<br>Longitude=%{lon}<extra></extra>",
           "hovertext": [
            "Canada"
           ],
           "lat": [
            "56.130366"
           ],
           "legendgroup": "1897",
           "lon": [
            "-106.346771"
           ],
           "marker": {
            "color": "#B6E880",
            "size": [
             1
            ],
            "sizemode": "area",
            "sizeref": 0.0125,
            "symbol": "circle"
           },
           "mode": "markers",
           "name": "1897",
           "showlegend": true,
           "type": "scattergeo"
          }
         ],
         "name": "1897"
        },
        {
         "data": [
          {
           "customdata": [
            [
             1,
             "1899"
            ]
           ],
           "geo": "geo",
           "hovertemplate": "<b>%{hovertext}</b><br><br>Class of=%{customdata[1]}<br>Number from Country=%{customdata[0]}<br>Latitude=%{lat}<br>Longitude=%{lon}<extra></extra>",
           "hovertext": [
            "Puerto Rico"
           ],
           "lat": [
            "18.220833"
           ],
           "legendgroup": "1899",
           "lon": [
            "-66.590149"
           ],
           "marker": {
            "color": "#FF97FF",
            "size": [
             1
            ],
            "sizemode": "area",
            "sizeref": 0.0125,
            "symbol": "circle"
           },
           "mode": "markers",
           "name": "1899",
           "showlegend": true,
           "type": "scattergeo"
          }
         ],
         "name": "1899"
        },
        {
         "data": [
          {
           "customdata": [
            [
             1,
             "1900"
            ],
            [
             1,
             "1900"
            ],
            [
             1,
             "1900"
            ],
            [
             1,
             "1900"
            ]
           ],
           "geo": "geo",
           "hovertemplate": "<b>%{hovertext}</b><br><br>Class of=%{customdata[1]}<br>Number from Country=%{customdata[0]}<br>Latitude=%{lat}<br>Longitude=%{lon}<extra></extra>",
           "hovertext": [
            "United Kingdom",
            "Armenia",
            "Canada",
            "Guatemala"
           ],
           "lat": [
            "55.378051",
            "40.069099",
            "56.130366",
            "15.783471"
           ],
           "legendgroup": "1900",
           "lon": [
            "-3.435973",
            "45.038189",
            "-106.346771",
            "-90.230759"
           ],
           "marker": {
            "color": "#FECB52",
            "size": [
             1,
             1,
             1,
             1
            ],
            "sizemode": "area",
            "sizeref": 0.0125,
            "symbol": "circle"
           },
           "mode": "markers",
           "name": "1900",
           "showlegend": true,
           "type": "scattergeo"
          }
         ],
         "name": "1900"
        },
        {
         "data": [
          {
           "customdata": [
            [
             1,
             "1901"
            ]
           ],
           "geo": "geo",
           "hovertemplate": "<b>%{hovertext}</b><br><br>Class of=%{customdata[1]}<br>Number from Country=%{customdata[0]}<br>Latitude=%{lat}<br>Longitude=%{lon}<extra></extra>",
           "hovertext": [
            "Japan"
           ],
           "lat": [
            "36.204824"
           ],
           "legendgroup": "1901",
           "lon": [
            "138.252924"
           ],
           "marker": {
            "color": "#636efa",
            "size": [
             1
            ],
            "sizemode": "area",
            "sizeref": 0.0125,
            "symbol": "circle"
           },
           "mode": "markers",
           "name": "1901",
           "showlegend": true,
           "type": "scattergeo"
          }
         ],
         "name": "1901"
        },
        {
         "data": [
          {
           "customdata": [
            [
             1,
             "1903"
            ]
           ],
           "geo": "geo",
           "hovertemplate": "<b>%{hovertext}</b><br><br>Class of=%{customdata[1]}<br>Number from Country=%{customdata[0]}<br>Latitude=%{lat}<br>Longitude=%{lon}<extra></extra>",
           "hovertext": [
            "Brazil"
           ],
           "lat": [
            "-14.235004"
           ],
           "legendgroup": "1903",
           "lon": [
            "-51.92528"
           ],
           "marker": {
            "color": "#EF553B",
            "size": [
             1
            ],
            "sizemode": "area",
            "sizeref": 0.0125,
            "symbol": "circle"
           },
           "mode": "markers",
           "name": "1903",
           "showlegend": true,
           "type": "scattergeo"
          }
         ],
         "name": "1903"
        },
        {
         "data": [
          {
           "customdata": [
            [
             1,
             "1904"
            ]
           ],
           "geo": "geo",
           "hovertemplate": "<b>%{hovertext}</b><br><br>Class of=%{customdata[1]}<br>Number from Country=%{customdata[0]}<br>Latitude=%{lat}<br>Longitude=%{lon}<extra></extra>",
           "hovertext": [
            "Canada"
           ],
           "lat": [
            "56.130366"
           ],
           "legendgroup": "1904",
           "lon": [
            "-106.346771"
           ],
           "marker": {
            "color": "#00cc96",
            "size": [
             1
            ],
            "sizemode": "area",
            "sizeref": 0.0125,
            "symbol": "circle"
           },
           "mode": "markers",
           "name": "1904",
           "showlegend": true,
           "type": "scattergeo"
          }
         ],
         "name": "1904"
        },
        {
         "data": [
          {
           "customdata": [
            [
             1,
             "1905"
            ],
            [
             1,
             "1905"
            ],
            [
             1,
             "1905"
            ]
           ],
           "geo": "geo",
           "hovertemplate": "<b>%{hovertext}</b><br><br>Class of=%{customdata[1]}<br>Number from Country=%{customdata[0]}<br>Latitude=%{lat}<br>Longitude=%{lon}<extra></extra>",
           "hovertext": [
            "Mexico",
            "Australia",
            "Canada"
           ],
           "lat": [
            "23.634501",
            "-25.274398",
            "56.130366"
           ],
           "legendgroup": "1905",
           "lon": [
            "-102.552784",
            "133.775136",
            "-106.346771"
           ],
           "marker": {
            "color": "#ab63fa",
            "size": [
             1,
             1,
             1
            ],
            "sizemode": "area",
            "sizeref": 0.0125,
            "symbol": "circle"
           },
           "mode": "markers",
           "name": "1905",
           "showlegend": true,
           "type": "scattergeo"
          }
         ],
         "name": "1905"
        },
        {
         "data": [
          {
           "customdata": [
            [
             1,
             "1906"
            ],
            [
             1,
             "1906"
            ],
            [
             2,
             "1906"
            ],
            [
             1,
             "1906"
            ],
            [
             1,
             "1906"
            ]
           ],
           "geo": "geo",
           "hovertemplate": "<b>%{hovertext}</b><br><br>Class of=%{customdata[1]}<br>Number from Country=%{customdata[0]}<br>Latitude=%{lat}<br>Longitude=%{lon}<extra></extra>",
           "hovertext": [
            "Cuba",
            "Sweden",
            "Australia",
            "Puerto Rico",
            "Ireland"
           ],
           "lat": [
            "21.521757",
            "60.128161",
            "-25.274398",
            "18.220833",
            "53.41291"
           ],
           "legendgroup": "1906",
           "lon": [
            "-77.781167",
            "18.643501",
            "133.775136",
            "-66.590149",
            "-8.24389"
           ],
           "marker": {
            "color": "#FFA15A",
            "size": [
             1,
             1,
             2,
             1,
             1
            ],
            "sizemode": "area",
            "sizeref": 0.0125,
            "symbol": "circle"
           },
           "mode": "markers",
           "name": "1906",
           "showlegend": true,
           "type": "scattergeo"
          }
         ],
         "name": "1906"
        },
        {
         "data": [
          {
           "customdata": [
            [
             2,
             "1907"
            ],
            [
             1,
             "1907"
            ],
            [
             1,
             "1907"
            ]
           ],
           "geo": "geo",
           "hovertemplate": "<b>%{hovertext}</b><br><br>Class of=%{customdata[1]}<br>Number from Country=%{customdata[0]}<br>Latitude=%{lat}<br>Longitude=%{lon}<extra></extra>",
           "hovertext": [
            "Australia",
            "Cuba",
            "Mexico"
           ],
           "lat": [
            "-25.274398",
            "21.521757",
            "23.634501"
           ],
           "legendgroup": "1907",
           "lon": [
            "133.775136",
            "-77.781167",
            "-102.552784"
           ],
           "marker": {
            "color": "#19d3f3",
            "size": [
             2,
             1,
             1
            ],
            "sizemode": "area",
            "sizeref": 0.0125,
            "symbol": "circle"
           },
           "mode": "markers",
           "name": "1907",
           "showlegend": true,
           "type": "scattergeo"
          }
         ],
         "name": "1907"
        },
        {
         "data": [
          {
           "customdata": [
            [
             1,
             "1908"
            ]
           ],
           "geo": "geo",
           "hovertemplate": "<b>%{hovertext}</b><br><br>Class of=%{customdata[1]}<br>Number from Country=%{customdata[0]}<br>Latitude=%{lat}<br>Longitude=%{lon}<extra></extra>",
           "hovertext": [
            "Australia"
           ],
           "lat": [
            "-25.274398"
           ],
           "legendgroup": "1908",
           "lon": [
            "133.775136"
           ],
           "marker": {
            "color": "#FF6692",
            "size": [
             1
            ],
            "sizemode": "area",
            "sizeref": 0.0125,
            "symbol": "circle"
           },
           "mode": "markers",
           "name": "1908",
           "showlegend": true,
           "type": "scattergeo"
          }
         ],
         "name": "1908"
        },
        {
         "data": [
          {
           "customdata": [
            [
             1,
             "1909"
            ],
            [
             1,
             "1909"
            ],
            [
             2,
             "1909"
            ],
            [
             1,
             "1909"
            ],
            [
             1,
             "1909"
            ]
           ],
           "geo": "geo",
           "hovertemplate": "<b>%{hovertext}</b><br><br>Class of=%{customdata[1]}<br>Number from Country=%{customdata[0]}<br>Latitude=%{lat}<br>Longitude=%{lon}<extra></extra>",
           "hovertext": [
            "Ireland",
            "Cuba",
            "Canada",
            "Mexico",
            "Japan"
           ],
           "lat": [
            "53.41291",
            "21.521757",
            "56.130366",
            "23.634501",
            "36.204824"
           ],
           "legendgroup": "1909",
           "lon": [
            "-8.24389",
            "-77.781167",
            "-106.346771",
            "-102.552784",
            "138.252924"
           ],
           "marker": {
            "color": "#B6E880",
            "size": [
             1,
             1,
             2,
             1,
             1
            ],
            "sizemode": "area",
            "sizeref": 0.0125,
            "symbol": "circle"
           },
           "mode": "markers",
           "name": "1909",
           "showlegend": true,
           "type": "scattergeo"
          }
         ],
         "name": "1909"
        },
        {
         "data": [
          {
           "customdata": [
            [
             1,
             "1910"
            ],
            [
             1,
             "1910"
            ],
            [
             1,
             "1910"
            ]
           ],
           "geo": "geo",
           "hovertemplate": "<b>%{hovertext}</b><br><br>Class of=%{customdata[1]}<br>Number from Country=%{customdata[0]}<br>Latitude=%{lat}<br>Longitude=%{lon}<extra></extra>",
           "hovertext": [
            "United Kingdom",
            "Brazil",
            "China"
           ],
           "lat": [
            "55.378051",
            "-14.235004",
            "nan"
           ],
           "legendgroup": "1910",
           "lon": [
            "-3.435973",
            "-51.92528",
            "nan"
           ],
           "marker": {
            "color": "#FF97FF",
            "size": [
             1,
             1,
             1
            ],
            "sizemode": "area",
            "sizeref": 0.0125,
            "symbol": "circle"
           },
           "mode": "markers",
           "name": "1910",
           "showlegend": true,
           "type": "scattergeo"
          }
         ],
         "name": "1910"
        },
        {
         "data": [
          {
           "customdata": [
            [
             1,
             "1911"
            ],
            [
             2,
             "1911"
            ],
            [
             1,
             "1911"
            ],
            [
             1,
             "1911"
            ]
           ],
           "geo": "geo",
           "hovertemplate": "<b>%{hovertext}</b><br><br>Class of=%{customdata[1]}<br>Number from Country=%{customdata[0]}<br>Latitude=%{lat}<br>Longitude=%{lon}<extra></extra>",
           "hovertext": [
            "China",
            "Puerto Rico",
            "Turkey",
            "Canada"
           ],
           "lat": [
            "35.86166",
            "18.220833",
            "38.963745",
            "56.130366"
           ],
           "legendgroup": "1911",
           "lon": [
            "104.195397",
            "-66.590149",
            "35.243322",
            "-106.346771"
           ],
           "marker": {
            "color": "#FECB52",
            "size": [
             1,
             2,
             1,
             1
            ],
            "sizemode": "area",
            "sizeref": 0.0125,
            "symbol": "circle"
           },
           "mode": "markers",
           "name": "1911",
           "showlegend": true,
           "type": "scattergeo"
          }
         ],
         "name": "1911"
        },
        {
         "data": [
          {
           "customdata": [
            [
             1,
             "1912"
            ],
            [
             1,
             "1912"
            ]
           ],
           "geo": "geo",
           "hovertemplate": "<b>%{hovertext}</b><br><br>Class of=%{customdata[1]}<br>Number from Country=%{customdata[0]}<br>Latitude=%{lat}<br>Longitude=%{lon}<extra></extra>",
           "hovertext": [
            "Argentina",
            "Puerto Rico"
           ],
           "lat": [
            "-38.416097",
            "18.220833"
           ],
           "legendgroup": "1912",
           "lon": [
            "-63.616672",
            "-66.590149"
           ],
           "marker": {
            "color": "#636efa",
            "size": [
             1,
             1
            ],
            "sizemode": "area",
            "sizeref": 0.0125,
            "symbol": "circle"
           },
           "mode": "markers",
           "name": "1912",
           "showlegend": true,
           "type": "scattergeo"
          }
         ],
         "name": "1912"
        },
        {
         "data": [
          {
           "customdata": [
            [
             1,
             "1913"
            ],
            [
             1,
             "1913"
            ]
           ],
           "geo": "geo",
           "hovertemplate": "<b>%{hovertext}</b><br><br>Class of=%{customdata[1]}<br>Number from Country=%{customdata[0]}<br>Latitude=%{lat}<br>Longitude=%{lon}<extra></extra>",
           "hovertext": [
            "Italy",
            "Canada"
           ],
           "lat": [
            "41.87194",
            "56.130366"
           ],
           "legendgroup": "1913",
           "lon": [
            "12.56738",
            "-106.346771"
           ],
           "marker": {
            "color": "#EF553B",
            "size": [
             1,
             1
            ],
            "sizemode": "area",
            "sizeref": 0.0125,
            "symbol": "circle"
           },
           "mode": "markers",
           "name": "1913",
           "showlegend": true,
           "type": "scattergeo"
          }
         ],
         "name": "1913"
        },
        {
         "data": [
          {
           "customdata": [
            [
             1,
             "1914"
            ],
            [
             1,
             "1914"
            ],
            [
             4,
             "1914"
            ]
           ],
           "geo": "geo",
           "hovertemplate": "<b>%{hovertext}</b><br><br>Class of=%{customdata[1]}<br>Number from Country=%{customdata[0]}<br>Latitude=%{lat}<br>Longitude=%{lon}<extra></extra>",
           "hovertext": [
            "Syria",
            "Puerto Rico",
            "China"
           ],
           "lat": [
            "34.802075",
            "18.220833",
            "35.86166"
           ],
           "legendgroup": "1914",
           "lon": [
            "38.996815",
            "-66.590149",
            "104.195397"
           ],
           "marker": {
            "color": "#00cc96",
            "size": [
             1,
             1,
             4
            ],
            "sizemode": "area",
            "sizeref": 0.0125,
            "symbol": "circle"
           },
           "mode": "markers",
           "name": "1914",
           "showlegend": true,
           "type": "scattergeo"
          }
         ],
         "name": "1914"
        },
        {
         "data": [
          {
           "customdata": [
            [
             1,
             "1915"
            ],
            [
             1,
             "1915"
            ]
           ],
           "geo": "geo",
           "hovertemplate": "<b>%{hovertext}</b><br><br>Class of=%{customdata[1]}<br>Number from Country=%{customdata[0]}<br>Latitude=%{lat}<br>Longitude=%{lon}<extra></extra>",
           "hovertext": [
            "Canada",
            "Puerto Rico"
           ],
           "lat": [
            "56.130366",
            "18.220833"
           ],
           "legendgroup": "1915",
           "lon": [
            "-106.346771",
            "-66.590149"
           ],
           "marker": {
            "color": "#ab63fa",
            "size": [
             1,
             1
            ],
            "sizemode": "area",
            "sizeref": 0.0125,
            "symbol": "circle"
           },
           "mode": "markers",
           "name": "1915",
           "showlegend": true,
           "type": "scattergeo"
          }
         ],
         "name": "1915"
        },
        {
         "data": [
          {
           "customdata": [
            [
             1,
             "1916"
            ],
            [
             1,
             "1916"
            ],
            [
             2,
             "1916"
            ]
           ],
           "geo": "geo",
           "hovertemplate": "<b>%{hovertext}</b><br><br>Class of=%{customdata[1]}<br>Number from Country=%{customdata[0]}<br>Latitude=%{lat}<br>Longitude=%{lon}<extra></extra>",
           "hovertext": [
            "Cuba",
            "Brazil",
            "China"
           ],
           "lat": [
            "21.521757",
            "-14.235004",
            "35.86166"
           ],
           "legendgroup": "1916",
           "lon": [
            "-77.781167",
            "-51.92528",
            "104.195397"
           ],
           "marker": {
            "color": "#FFA15A",
            "size": [
             1,
             1,
             2
            ],
            "sizemode": "area",
            "sizeref": 0.0125,
            "symbol": "circle"
           },
           "mode": "markers",
           "name": "1916",
           "showlegend": true,
           "type": "scattergeo"
          }
         ],
         "name": "1916"
        },
        {
         "data": [
          {
           "customdata": [
            [
             1,
             "1917"
            ],
            [
             1,
             "1917"
            ],
            [
             1,
             "1917"
            ],
            [
             2,
             "1917"
            ],
            [
             1,
             "1917"
            ]
           ],
           "geo": "geo",
           "hovertemplate": "<b>%{hovertext}</b><br><br>Class of=%{customdata[1]}<br>Number from Country=%{customdata[0]}<br>Latitude=%{lat}<br>Longitude=%{lon}<extra></extra>",
           "hovertext": [
            "Costa Rica",
            "Armenia",
            "Turkey",
            "China",
            "Myanmar"
           ],
           "lat": [
            "9.748917",
            "40.069099",
            "38.963745",
            "35.86166",
            "21.913965"
           ],
           "legendgroup": "1917",
           "lon": [
            "-83.753428",
            "45.038189",
            "35.243322",
            "104.195397",
            "95.956223"
           ],
           "marker": {
            "color": "#19d3f3",
            "size": [
             1,
             1,
             1,
             2,
             1
            ],
            "sizemode": "area",
            "sizeref": 0.0125,
            "symbol": "circle"
           },
           "mode": "markers",
           "name": "1917",
           "showlegend": true,
           "type": "scattergeo"
          }
         ],
         "name": "1917"
        },
        {
         "data": [
          {
           "customdata": [
            [
             3,
             "1918"
            ],
            [
             1,
             "1918"
            ],
            [
             1,
             "1918"
            ],
            [
             1,
             "1918"
            ]
           ],
           "geo": "geo",
           "hovertemplate": "<b>%{hovertext}</b><br><br>Class of=%{customdata[1]}<br>Number from Country=%{customdata[0]}<br>Latitude=%{lat}<br>Longitude=%{lon}<extra></extra>",
           "hovertext": [
            "China",
            "Cuba",
            "Panama",
            "Greece"
           ],
           "lat": [
            "35.86166",
            "21.521757",
            "8.537981",
            "39.074208"
           ],
           "legendgroup": "1918",
           "lon": [
            "104.195397",
            "-77.781167",
            "-80.782127",
            "21.824312"
           ],
           "marker": {
            "color": "#FF6692",
            "size": [
             3,
             1,
             1,
             1
            ],
            "sizemode": "area",
            "sizeref": 0.0125,
            "symbol": "circle"
           },
           "mode": "markers",
           "name": "1918",
           "showlegend": true,
           "type": "scattergeo"
          }
         ],
         "name": "1918"
        },
        {
         "data": [
          {
           "customdata": [
            [
             1,
             "1919"
            ]
           ],
           "geo": "geo",
           "hovertemplate": "<b>%{hovertext}</b><br><br>Class of=%{customdata[1]}<br>Number from Country=%{customdata[0]}<br>Latitude=%{lat}<br>Longitude=%{lon}<extra></extra>",
           "hovertext": [
            "China"
           ],
           "lat": [
            "35.86166"
           ],
           "legendgroup": "1919",
           "lon": [
            "104.195397"
           ],
           "marker": {
            "color": "#B6E880",
            "size": [
             1
            ],
            "sizemode": "area",
            "sizeref": 0.0125,
            "symbol": "circle"
           },
           "mode": "markers",
           "name": "1919",
           "showlegend": true,
           "type": "scattergeo"
          }
         ],
         "name": "1919"
        },
        {
         "data": [
          {
           "customdata": [
            [
             5,
             "1920"
            ],
            [
             1,
             "1920"
            ]
           ],
           "geo": "geo",
           "hovertemplate": "<b>%{hovertext}</b><br><br>Class of=%{customdata[1]}<br>Number from Country=%{customdata[0]}<br>Latitude=%{lat}<br>Longitude=%{lon}<extra></extra>",
           "hovertext": [
            "China",
            "Syria"
           ],
           "lat": [
            "35.86166",
            "34.802075"
           ],
           "legendgroup": "1920",
           "lon": [
            "104.195397",
            "38.996815"
           ],
           "marker": {
            "color": "#FF97FF",
            "size": [
             5,
             1
            ],
            "sizemode": "area",
            "sizeref": 0.0125,
            "symbol": "circle"
           },
           "mode": "markers",
           "name": "1920",
           "showlegend": true,
           "type": "scattergeo"
          }
         ],
         "name": "1920"
        },
        {
         "data": [
          {
           "customdata": [
            [
             1,
             "1921"
            ],
            [
             1,
             "1921"
            ],
            [
             1,
             "1921"
            ],
            [
             1,
             "1921"
            ],
            [
             2,
             "1921"
            ],
            [
             1,
             "1921"
            ],
            [
             1,
             "1921"
            ]
           ],
           "geo": "geo",
           "hovertemplate": "<b>%{hovertext}</b><br><br>Class of=%{customdata[1]}<br>Number from Country=%{customdata[0]}<br>Latitude=%{lat}<br>Longitude=%{lon}<extra></extra>",
           "hovertext": [
            "Brazil",
            "China",
            "Germany",
            "France",
            "Chile",
            "Canada",
            "Sweden"
           ],
           "lat": [
            "-14.235004",
            "35.86166",
            "51.165691",
            "46.227638",
            "-35.675147",
            "56.130366",
            "60.128161"
           ],
           "legendgroup": "1921",
           "lon": [
            "-51.92528",
            "104.195397",
            "10.451526",
            "2.213749",
            "-71.542969",
            "-106.346771",
            "18.643501"
           ],
           "marker": {
            "color": "#FECB52",
            "size": [
             1,
             1,
             1,
             1,
             2,
             1,
             1
            ],
            "sizemode": "area",
            "sizeref": 0.0125,
            "symbol": "circle"
           },
           "mode": "markers",
           "name": "1921",
           "showlegend": true,
           "type": "scattergeo"
          }
         ],
         "name": "1921"
        },
        {
         "data": [
          {
           "customdata": [
            [
             1,
             "1922"
            ],
            [
             1,
             "1922"
            ],
            [
             1,
             "1922"
            ],
            [
             1,
             "1922"
            ]
           ],
           "geo": "geo",
           "hovertemplate": "<b>%{hovertext}</b><br><br>Class of=%{customdata[1]}<br>Number from Country=%{customdata[0]}<br>Latitude=%{lat}<br>Longitude=%{lon}<extra></extra>",
           "hovertext": [
            "Canada",
            "China",
            "Colombia",
            "South Korea"
           ],
           "lat": [
            "56.130366",
            "35.86166",
            "4.570868",
            "35.907757"
           ],
           "legendgroup": "1922",
           "lon": [
            "-106.346771",
            "104.195397",
            "-74.297333",
            "127.766922"
           ],
           "marker": {
            "color": "#636efa",
            "size": [
             1,
             1,
             1,
             1
            ],
            "sizemode": "area",
            "sizeref": 0.0125,
            "symbol": "circle"
           },
           "mode": "markers",
           "name": "1922",
           "showlegend": true,
           "type": "scattergeo"
          }
         ],
         "name": "1922"
        },
        {
         "data": [
          {
           "customdata": [
            [
             1,
             "1923"
            ],
            [
             2,
             "1923"
            ],
            [
             1,
             "1923"
            ],
            [
             1,
             "1923"
            ]
           ],
           "geo": "geo",
           "hovertemplate": "<b>%{hovertext}</b><br><br>Class of=%{customdata[1]}<br>Number from Country=%{customdata[0]}<br>Latitude=%{lat}<br>Longitude=%{lon}<extra></extra>",
           "hovertext": [
            "Indonesia",
            "China",
            "Italy",
            "Russia"
           ],
           "lat": [
            "-0.789275",
            "35.86166",
            "41.87194",
            "61.52401"
           ],
           "legendgroup": "1923",
           "lon": [
            "113.921327",
            "104.195397",
            "12.56738",
            "105.318756"
           ],
           "marker": {
            "color": "#EF553B",
            "size": [
             1,
             2,
             1,
             1
            ],
            "sizemode": "area",
            "sizeref": 0.0125,
            "symbol": "circle"
           },
           "mode": "markers",
           "name": "1923",
           "showlegend": true,
           "type": "scattergeo"
          }
         ],
         "name": "1923"
        },
        {
         "data": [
          {
           "customdata": [
            [
             1,
             "1924"
            ],
            [
             2,
             "1924"
            ],
            [
             1,
             "1924"
            ],
            [
             2,
             "1924"
            ]
           ],
           "geo": "geo",
           "hovertemplate": "<b>%{hovertext}</b><br><br>Class of=%{customdata[1]}<br>Number from Country=%{customdata[0]}<br>Latitude=%{lat}<br>Longitude=%{lon}<extra></extra>",
           "hovertext": [
            "Sweden",
            "Uruguay",
            "Indonesia",
            "China"
           ],
           "lat": [
            "60.128161",
            "-32.522779",
            "-0.789275",
            "35.86166"
           ],
           "legendgroup": "1924",
           "lon": [
            "18.643501",
            "-55.765835",
            "113.921327",
            "104.195397"
           ],
           "marker": {
            "color": "#00cc96",
            "size": [
             1,
             2,
             1,
             2
            ],
            "sizemode": "area",
            "sizeref": 0.0125,
            "symbol": "circle"
           },
           "mode": "markers",
           "name": "1924",
           "showlegend": true,
           "type": "scattergeo"
          }
         ],
         "name": "1924"
        },
        {
         "data": [
          {
           "customdata": [
            [
             1,
             "1925"
            ],
            [
             2,
             "1925"
            ],
            [
             1,
             "1925"
            ],
            [
             3,
             "1925"
            ],
            [
             1,
             "1925"
            ],
            [
             2,
             "1925"
            ],
            [
             1,
             "1925"
            ]
           ],
           "geo": "geo",
           "hovertemplate": "<b>%{hovertext}</b><br><br>Class of=%{customdata[1]}<br>Number from Country=%{customdata[0]}<br>Latitude=%{lat}<br>Longitude=%{lon}<extra></extra>",
           "hovertext": [
            "Austria",
            "Canada",
            "Japan",
            "Sweden",
            "China",
            "Russia",
            "Norway"
           ],
           "lat": [
            "47.516231",
            "56.130366",
            "36.204824",
            "60.128161",
            "35.86166",
            "61.52401",
            "60.472024"
           ],
           "legendgroup": "1925",
           "lon": [
            "14.550072",
            "-106.346771",
            "138.252924",
            "18.643501",
            "104.195397",
            "105.318756",
            "8.468946"
           ],
           "marker": {
            "color": "#ab63fa",
            "size": [
             1,
             2,
             1,
             3,
             1,
             2,
             1
            ],
            "sizemode": "area",
            "sizeref": 0.0125,
            "symbol": "circle"
           },
           "mode": "markers",
           "name": "1925",
           "showlegend": true,
           "type": "scattergeo"
          }
         ],
         "name": "1925"
        },
        {
         "data": [
          {
           "customdata": [
            [
             1,
             "1926"
            ],
            [
             1,
             "1926"
            ],
            [
             1,
             "1926"
            ]
           ],
           "geo": "geo",
           "hovertemplate": "<b>%{hovertext}</b><br><br>Class of=%{customdata[1]}<br>Number from Country=%{customdata[0]}<br>Latitude=%{lat}<br>Longitude=%{lon}<extra></extra>",
           "hovertext": [
            "Israel",
            "Spain",
            "France"
           ],
           "lat": [
            "31.046051",
            "40.463667",
            "46.227638"
           ],
           "legendgroup": "1926",
           "lon": [
            "34.851612",
            "-3.74922",
            "2.213749"
           ],
           "marker": {
            "color": "#FFA15A",
            "size": [
             1,
             1,
             1
            ],
            "sizemode": "area",
            "sizeref": 0.0125,
            "symbol": "circle"
           },
           "mode": "markers",
           "name": "1926",
           "showlegend": true,
           "type": "scattergeo"
          }
         ],
         "name": "1926"
        },
        {
         "data": [
          {
           "customdata": [
            [
             1,
             "1927"
            ],
            [
             1,
             "1927"
            ],
            [
             1,
             "1927"
            ]
           ],
           "geo": "geo",
           "hovertemplate": "<b>%{hovertext}</b><br><br>Class of=%{customdata[1]}<br>Number from Country=%{customdata[0]}<br>Latitude=%{lat}<br>Longitude=%{lon}<extra></extra>",
           "hovertext": [
            "Canada",
            "China",
            "Russia"
           ],
           "lat": [
            "56.130366",
            "35.86166",
            "61.52401"
           ],
           "legendgroup": "1927",
           "lon": [
            "-106.346771",
            "104.195397",
            "105.318756"
           ],
           "marker": {
            "color": "#19d3f3",
            "size": [
             1,
             1,
             1
            ],
            "sizemode": "area",
            "sizeref": 0.0125,
            "symbol": "circle"
           },
           "mode": "markers",
           "name": "1927",
           "showlegend": true,
           "type": "scattergeo"
          }
         ],
         "name": "1927"
        },
        {
         "data": [
          {
           "customdata": [
            [
             1,
             "1928"
            ],
            [
             1,
             "1928"
            ],
            [
             1,
             "1928"
            ]
           ],
           "geo": "geo",
           "hovertemplate": "<b>%{hovertext}</b><br><br>Class of=%{customdata[1]}<br>Number from Country=%{customdata[0]}<br>Latitude=%{lat}<br>Longitude=%{lon}<extra></extra>",
           "hovertext": [
            "Russia",
            "Bulgaria",
            "Canada"
           ],
           "lat": [
            "61.52401",
            "42.733883",
            "56.130366"
           ],
           "legendgroup": "1928",
           "lon": [
            "105.318756",
            "25.48583",
            "-106.346771"
           ],
           "marker": {
            "color": "#FF6692",
            "size": [
             1,
             1,
             1
            ],
            "sizemode": "area",
            "sizeref": 0.0125,
            "symbol": "circle"
           },
           "mode": "markers",
           "name": "1928",
           "showlegend": true,
           "type": "scattergeo"
          }
         ],
         "name": "1928"
        },
        {
         "data": [
          {
           "customdata": [
            [
             1,
             "1929"
            ]
           ],
           "geo": "geo",
           "hovertemplate": "<b>%{hovertext}</b><br><br>Class of=%{customdata[1]}<br>Number from Country=%{customdata[0]}<br>Latitude=%{lat}<br>Longitude=%{lon}<extra></extra>",
           "hovertext": [
            "Canada"
           ],
           "lat": [
            "56.130366"
           ],
           "legendgroup": "1929",
           "lon": [
            "-106.346771"
           ],
           "marker": {
            "color": "#B6E880",
            "size": [
             1
            ],
            "sizemode": "area",
            "sizeref": 0.0125,
            "symbol": "circle"
           },
           "mode": "markers",
           "name": "1929",
           "showlegend": true,
           "type": "scattergeo"
          }
         ],
         "name": "1929"
        },
        {
         "data": [
          {
           "customdata": [
            [
             2,
             "1930"
            ],
            [
             1,
             "1930"
            ],
            [
             2,
             "1930"
            ],
            [
             1,
             "1930"
            ]
           ],
           "geo": "geo",
           "hovertemplate": "<b>%{hovertext}</b><br><br>Class of=%{customdata[1]}<br>Number from Country=%{customdata[0]}<br>Latitude=%{lat}<br>Longitude=%{lon}<extra></extra>",
           "hovertext": [
            "Sweden",
            "Japan",
            "Puerto Rico",
            "United Kingdom"
           ],
           "lat": [
            "60.128161",
            "36.204824",
            "18.220833",
            "55.378051"
           ],
           "legendgroup": "1930",
           "lon": [
            "18.643501",
            "138.252924",
            "-66.590149",
            "-3.435973"
           ],
           "marker": {
            "color": "#FF97FF",
            "size": [
             2,
             1,
             2,
             1
            ],
            "sizemode": "area",
            "sizeref": 0.0125,
            "symbol": "circle"
           },
           "mode": "markers",
           "name": "1930",
           "showlegend": true,
           "type": "scattergeo"
          }
         ],
         "name": "1930"
        },
        {
         "data": [
          {
           "customdata": [
            [
             1,
             "1931"
            ],
            [
             2,
             "1931"
            ],
            [
             1,
             "1931"
            ]
           ],
           "geo": "geo",
           "hovertemplate": "<b>%{hovertext}</b><br><br>Class of=%{customdata[1]}<br>Number from Country=%{customdata[0]}<br>Latitude=%{lat}<br>Longitude=%{lon}<extra></extra>",
           "hovertext": [
            "Thailand",
            "India",
            "Canada"
           ],
           "lat": [
            "15.870032",
            "20.593684",
            "56.130366"
           ],
           "legendgroup": "1931",
           "lon": [
            "100.992541",
            "78.96288",
            "-106.346771"
           ],
           "marker": {
            "color": "#FECB52",
            "size": [
             1,
             2,
             1
            ],
            "sizemode": "area",
            "sizeref": 0.0125,
            "symbol": "circle"
           },
           "mode": "markers",
           "name": "1931",
           "showlegend": true,
           "type": "scattergeo"
          }
         ],
         "name": "1931"
        },
        {
         "data": [
          {
           "customdata": [
            [
             1,
             "1932"
            ],
            [
             1,
             "1932"
            ],
            [
             1,
             "1932"
            ],
            [
             2,
             "1932"
            ],
            [
             1,
             "1932"
            ],
            [
             1,
             "1932"
            ],
            [
             1,
             "1932"
            ],
            [
             1,
             "1932"
            ]
           ],
           "geo": "geo",
           "hovertemplate": "<b>%{hovertext}</b><br><br>Class of=%{customdata[1]}<br>Number from Country=%{customdata[0]}<br>Latitude=%{lat}<br>Longitude=%{lon}<extra></extra>",
           "hovertext": [
            "China",
            "Greece",
            "Russia",
            "Canada",
            "Republic of North Macedonia",
            "Israel",
            "Guatemala",
            "United Kingdom"
           ],
           "lat": [
            "35.86166",
            "39.074208",
            "61.52401",
            "56.130366",
            "41.608635",
            "31.046051",
            "15.783471",
            "55.378051"
           ],
           "legendgroup": "1932",
           "lon": [
            "104.195397",
            "21.824312",
            "105.318756",
            "-106.346771",
            "21.745275",
            "34.851612",
            "-90.230759",
            "-3.435973"
           ],
           "marker": {
            "color": "#636efa",
            "size": [
             1,
             1,
             1,
             2,
             1,
             1,
             1,
             1
            ],
            "sizemode": "area",
            "sizeref": 0.0125,
            "symbol": "circle"
           },
           "mode": "markers",
           "name": "1932",
           "showlegend": true,
           "type": "scattergeo"
          }
         ],
         "name": "1932"
        },
        {
         "data": [
          {
           "customdata": [
            [
             1,
             "1933"
            ]
           ],
           "geo": "geo",
           "hovertemplate": "<b>%{hovertext}</b><br><br>Class of=%{customdata[1]}<br>Number from Country=%{customdata[0]}<br>Latitude=%{lat}<br>Longitude=%{lon}<extra></extra>",
           "hovertext": [
            "Canada"
           ],
           "lat": [
            "56.130366"
           ],
           "legendgroup": "1933",
           "lon": [
            "-106.346771"
           ],
           "marker": {
            "color": "#EF553B",
            "size": [
             1
            ],
            "sizemode": "area",
            "sizeref": 0.0125,
            "symbol": "circle"
           },
           "mode": "markers",
           "name": "1933",
           "showlegend": true,
           "type": "scattergeo"
          }
         ],
         "name": "1933"
        },
        {
         "data": [
          {
           "customdata": [
            [
             1,
             "1935"
            ]
           ],
           "geo": "geo",
           "hovertemplate": "<b>%{hovertext}</b><br><br>Class of=%{customdata[1]}<br>Number from Country=%{customdata[0]}<br>Latitude=%{lat}<br>Longitude=%{lon}<extra></extra>",
           "hovertext": [
            "Armenia"
           ],
           "lat": [
            "40.069099"
           ],
           "legendgroup": "1935",
           "lon": [
            "45.038189"
           ],
           "marker": {
            "color": "#00cc96",
            "size": [
             1
            ],
            "sizemode": "area",
            "sizeref": 0.0125,
            "symbol": "circle"
           },
           "mode": "markers",
           "name": "1935",
           "showlegend": true,
           "type": "scattergeo"
          }
         ],
         "name": "1935"
        },
        {
         "data": [
          {
           "customdata": [
            [
             1,
             "1936"
            ]
           ],
           "geo": "geo",
           "hovertemplate": "<b>%{hovertext}</b><br><br>Class of=%{customdata[1]}<br>Number from Country=%{customdata[0]}<br>Latitude=%{lat}<br>Longitude=%{lon}<extra></extra>",
           "hovertext": [
            "India"
           ],
           "lat": [
            "20.593684"
           ],
           "legendgroup": "1936",
           "lon": [
            "78.96288"
           ],
           "marker": {
            "color": "#ab63fa",
            "size": [
             1
            ],
            "sizemode": "area",
            "sizeref": 0.0125,
            "symbol": "circle"
           },
           "mode": "markers",
           "name": "1936",
           "showlegend": true,
           "type": "scattergeo"
          }
         ],
         "name": "1936"
        },
        {
         "data": [
          {
           "customdata": [
            [
             1,
             "1938"
            ]
           ],
           "geo": "geo",
           "hovertemplate": "<b>%{hovertext}</b><br><br>Class of=%{customdata[1]}<br>Number from Country=%{customdata[0]}<br>Latitude=%{lat}<br>Longitude=%{lon}<extra></extra>",
           "hovertext": [
            "Panama"
           ],
           "lat": [
            "8.537981"
           ],
           "legendgroup": "1938",
           "lon": [
            "-80.782127"
           ],
           "marker": {
            "color": "#FFA15A",
            "size": [
             1
            ],
            "sizemode": "area",
            "sizeref": 0.0125,
            "symbol": "circle"
           },
           "mode": "markers",
           "name": "1938",
           "showlegend": true,
           "type": "scattergeo"
          }
         ],
         "name": "1938"
        },
        {
         "data": [
          {
           "customdata": [
            [
             1,
             "1939"
            ],
            [
             2,
             "1939"
            ]
           ],
           "geo": "geo",
           "hovertemplate": "<b>%{hovertext}</b><br><br>Class of=%{customdata[1]}<br>Number from Country=%{customdata[0]}<br>Latitude=%{lat}<br>Longitude=%{lon}<extra></extra>",
           "hovertext": [
            "Panama",
            "India"
           ],
           "lat": [
            "8.537981",
            "20.593684"
           ],
           "legendgroup": "1939",
           "lon": [
            "-80.782127",
            "78.96288"
           ],
           "marker": {
            "color": "#19d3f3",
            "size": [
             1,
             2
            ],
            "sizemode": "area",
            "sizeref": 0.0125,
            "symbol": "circle"
           },
           "mode": "markers",
           "name": "1939",
           "showlegend": true,
           "type": "scattergeo"
          }
         ],
         "name": "1939"
        },
        {
         "data": [
          {
           "customdata": [
            [
             1,
             "1940"
            ]
           ],
           "geo": "geo",
           "hovertemplate": "<b>%{hovertext}</b><br><br>Class of=%{customdata[1]}<br>Number from Country=%{customdata[0]}<br>Latitude=%{lat}<br>Longitude=%{lon}<extra></extra>",
           "hovertext": [
            "Thailand"
           ],
           "lat": [
            "15.870032"
           ],
           "legendgroup": "1940",
           "lon": [
            "100.992541"
           ],
           "marker": {
            "color": "#FF6692",
            "size": [
             1
            ],
            "sizemode": "area",
            "sizeref": 0.0125,
            "symbol": "circle"
           },
           "mode": "markers",
           "name": "1940",
           "showlegend": true,
           "type": "scattergeo"
          }
         ],
         "name": "1940"
        },
        {
         "data": [
          {
           "customdata": [
            [
             1,
             "1941"
            ],
            [
             1,
             "1941"
            ],
            [
             1,
             "1941"
            ],
            [
             1,
             "1941"
            ]
           ],
           "geo": "geo",
           "hovertemplate": "<b>%{hovertext}</b><br><br>Class of=%{customdata[1]}<br>Number from Country=%{customdata[0]}<br>Latitude=%{lat}<br>Longitude=%{lon}<extra></extra>",
           "hovertext": [
            "Panama",
            "Czech Republic",
            "Colombia",
            "Puerto Rico"
           ],
           "lat": [
            "8.537981",
            "49.817492",
            "4.570868",
            "18.220833"
           ],
           "legendgroup": "1941",
           "lon": [
            "-80.782127",
            "15.472962",
            "-74.297333",
            "-66.590149"
           ],
           "marker": {
            "color": "#B6E880",
            "size": [
             1,
             1,
             1,
             1
            ],
            "sizemode": "area",
            "sizeref": 0.0125,
            "symbol": "circle"
           },
           "mode": "markers",
           "name": "1941",
           "showlegend": true,
           "type": "scattergeo"
          }
         ],
         "name": "1941"
        },
        {
         "data": [
          {
           "customdata": [
            [
             1,
             "1942"
            ],
            [
             1,
             "1942"
            ]
           ],
           "geo": "geo",
           "hovertemplate": "<b>%{hovertext}</b><br><br>Class of=%{customdata[1]}<br>Number from Country=%{customdata[0]}<br>Latitude=%{lat}<br>Longitude=%{lon}<extra></extra>",
           "hovertext": [
            "China",
            "Puerto Rico"
           ],
           "lat": [
            "35.86166",
            "18.220833"
           ],
           "legendgroup": "1942",
           "lon": [
            "104.195397",
            "-66.590149"
           ],
           "marker": {
            "color": "#FF97FF",
            "size": [
             1,
             1
            ],
            "sizemode": "area",
            "sizeref": 0.0125,
            "symbol": "circle"
           },
           "mode": "markers",
           "name": "1942",
           "showlegend": true,
           "type": "scattergeo"
          }
         ],
         "name": "1942"
        },
        {
         "data": [
          {
           "customdata": [
            [
             1,
             "1943"
            ],
            [
             1,
             "1943"
            ],
            [
             1,
             "1943"
            ],
            [
             1,
             "1943"
            ]
           ],
           "geo": "geo",
           "hovertemplate": "<b>%{hovertext}</b><br><br>Class of=%{customdata[1]}<br>Number from Country=%{customdata[0]}<br>Latitude=%{lat}<br>Longitude=%{lon}<extra></extra>",
           "hovertext": [
            "India",
            "Philippines",
            "Turkey",
            "Canada"
           ],
           "lat": [
            "20.593684",
            "12.879721",
            "38.963745",
            "56.130366"
           ],
           "legendgroup": "1943",
           "lon": [
            "78.96288",
            "121.774017",
            "35.243322",
            "-106.346771"
           ],
           "marker": {
            "color": "#FECB52",
            "size": [
             1,
             1,
             1,
             1
            ],
            "sizemode": "area",
            "sizeref": 0.0125,
            "symbol": "circle"
           },
           "mode": "markers",
           "name": "1943",
           "showlegend": true,
           "type": "scattergeo"
          }
         ],
         "name": "1943"
        }
       ],
       "layout": {
        "geo": {
         "center": {},
         "domain": {
          "x": [
           0,
           1
          ],
          "y": [
           0,
           1
          ]
         },
         "projection": {
          "type": "natural earth"
         }
        },
        "legend": {
         "itemsizing": "constant",
         "title": {
          "text": "Class of"
         },
         "tracegroupgap": 0
        },
        "sliders": [
         {
          "active": 0,
          "currentvalue": {
           "prefix": "Class of="
          },
          "len": 0.9,
          "pad": {
           "b": 10,
           "t": 60
          },
          "steps": [
           {
            "args": [
             [
              "1876"
             ],
             {
              "frame": {
               "duration": 0,
               "redraw": true
              },
              "fromcurrent": true,
              "mode": "immediate",
              "transition": {
               "duration": 0,
               "easing": "linear"
              }
             }
            ],
            "label": "1876",
            "method": "animate"
           },
           {
            "args": [
             [
              "1877"
             ],
             {
              "frame": {
               "duration": 0,
               "redraw": true
              },
              "fromcurrent": true,
              "mode": "immediate",
              "transition": {
               "duration": 0,
               "easing": "linear"
              }
             }
            ],
            "label": "1877",
            "method": "animate"
           },
           {
            "args": [
             [
              "1878"
             ],
             {
              "frame": {
               "duration": 0,
               "redraw": true
              },
              "fromcurrent": true,
              "mode": "immediate",
              "transition": {
               "duration": 0,
               "easing": "linear"
              }
             }
            ],
            "label": "1878",
            "method": "animate"
           },
           {
            "args": [
             [
              "1879"
             ],
             {
              "frame": {
               "duration": 0,
               "redraw": true
              },
              "fromcurrent": true,
              "mode": "immediate",
              "transition": {
               "duration": 0,
               "easing": "linear"
              }
             }
            ],
            "label": "1879",
            "method": "animate"
           },
           {
            "args": [
             [
              "1880"
             ],
             {
              "frame": {
               "duration": 0,
               "redraw": true
              },
              "fromcurrent": true,
              "mode": "immediate",
              "transition": {
               "duration": 0,
               "easing": "linear"
              }
             }
            ],
            "label": "1880",
            "method": "animate"
           },
           {
            "args": [
             [
              "1882"
             ],
             {
              "frame": {
               "duration": 0,
               "redraw": true
              },
              "fromcurrent": true,
              "mode": "immediate",
              "transition": {
               "duration": 0,
               "easing": "linear"
              }
             }
            ],
            "label": "1882",
            "method": "animate"
           },
           {
            "args": [
             [
              "1883"
             ],
             {
              "frame": {
               "duration": 0,
               "redraw": true
              },
              "fromcurrent": true,
              "mode": "immediate",
              "transition": {
               "duration": 0,
               "easing": "linear"
              }
             }
            ],
            "label": "1883",
            "method": "animate"
           },
           {
            "args": [
             [
              "1884"
             ],
             {
              "frame": {
               "duration": 0,
               "redraw": true
              },
              "fromcurrent": true,
              "mode": "immediate",
              "transition": {
               "duration": 0,
               "easing": "linear"
              }
             }
            ],
            "label": "1884",
            "method": "animate"
           },
           {
            "args": [
             [
              "1885"
             ],
             {
              "frame": {
               "duration": 0,
               "redraw": true
              },
              "fromcurrent": true,
              "mode": "immediate",
              "transition": {
               "duration": 0,
               "easing": "linear"
              }
             }
            ],
            "label": "1885",
            "method": "animate"
           },
           {
            "args": [
             [
              "1887"
             ],
             {
              "frame": {
               "duration": 0,
               "redraw": true
              },
              "fromcurrent": true,
              "mode": "immediate",
              "transition": {
               "duration": 0,
               "easing": "linear"
              }
             }
            ],
            "label": "1887",
            "method": "animate"
           },
           {
            "args": [
             [
              "1888"
             ],
             {
              "frame": {
               "duration": 0,
               "redraw": true
              },
              "fromcurrent": true,
              "mode": "immediate",
              "transition": {
               "duration": 0,
               "easing": "linear"
              }
             }
            ],
            "label": "1888",
            "method": "animate"
           },
           {
            "args": [
             [
              "1889"
             ],
             {
              "frame": {
               "duration": 0,
               "redraw": true
              },
              "fromcurrent": true,
              "mode": "immediate",
              "transition": {
               "duration": 0,
               "easing": "linear"
              }
             }
            ],
            "label": "1889",
            "method": "animate"
           },
           {
            "args": [
             [
              "1891"
             ],
             {
              "frame": {
               "duration": 0,
               "redraw": true
              },
              "fromcurrent": true,
              "mode": "immediate",
              "transition": {
               "duration": 0,
               "easing": "linear"
              }
             }
            ],
            "label": "1891",
            "method": "animate"
           },
           {
            "args": [
             [
              "1893"
             ],
             {
              "frame": {
               "duration": 0,
               "redraw": true
              },
              "fromcurrent": true,
              "mode": "immediate",
              "transition": {
               "duration": 0,
               "easing": "linear"
              }
             }
            ],
            "label": "1893",
            "method": "animate"
           },
           {
            "args": [
             [
              "1894"
             ],
             {
              "frame": {
               "duration": 0,
               "redraw": true
              },
              "fromcurrent": true,
              "mode": "immediate",
              "transition": {
               "duration": 0,
               "easing": "linear"
              }
             }
            ],
            "label": "1894",
            "method": "animate"
           },
           {
            "args": [
             [
              "1895"
             ],
             {
              "frame": {
               "duration": 0,
               "redraw": true
              },
              "fromcurrent": true,
              "mode": "immediate",
              "transition": {
               "duration": 0,
               "easing": "linear"
              }
             }
            ],
            "label": "1895",
            "method": "animate"
           },
           {
            "args": [
             [
              "1896"
             ],
             {
              "frame": {
               "duration": 0,
               "redraw": true
              },
              "fromcurrent": true,
              "mode": "immediate",
              "transition": {
               "duration": 0,
               "easing": "linear"
              }
             }
            ],
            "label": "1896",
            "method": "animate"
           },
           {
            "args": [
             [
              "1897"
             ],
             {
              "frame": {
               "duration": 0,
               "redraw": true
              },
              "fromcurrent": true,
              "mode": "immediate",
              "transition": {
               "duration": 0,
               "easing": "linear"
              }
             }
            ],
            "label": "1897",
            "method": "animate"
           },
           {
            "args": [
             [
              "1899"
             ],
             {
              "frame": {
               "duration": 0,
               "redraw": true
              },
              "fromcurrent": true,
              "mode": "immediate",
              "transition": {
               "duration": 0,
               "easing": "linear"
              }
             }
            ],
            "label": "1899",
            "method": "animate"
           },
           {
            "args": [
             [
              "1900"
             ],
             {
              "frame": {
               "duration": 0,
               "redraw": true
              },
              "fromcurrent": true,
              "mode": "immediate",
              "transition": {
               "duration": 0,
               "easing": "linear"
              }
             }
            ],
            "label": "1900",
            "method": "animate"
           },
           {
            "args": [
             [
              "1901"
             ],
             {
              "frame": {
               "duration": 0,
               "redraw": true
              },
              "fromcurrent": true,
              "mode": "immediate",
              "transition": {
               "duration": 0,
               "easing": "linear"
              }
             }
            ],
            "label": "1901",
            "method": "animate"
           },
           {
            "args": [
             [
              "1903"
             ],
             {
              "frame": {
               "duration": 0,
               "redraw": true
              },
              "fromcurrent": true,
              "mode": "immediate",
              "transition": {
               "duration": 0,
               "easing": "linear"
              }
             }
            ],
            "label": "1903",
            "method": "animate"
           },
           {
            "args": [
             [
              "1904"
             ],
             {
              "frame": {
               "duration": 0,
               "redraw": true
              },
              "fromcurrent": true,
              "mode": "immediate",
              "transition": {
               "duration": 0,
               "easing": "linear"
              }
             }
            ],
            "label": "1904",
            "method": "animate"
           },
           {
            "args": [
             [
              "1905"
             ],
             {
              "frame": {
               "duration": 0,
               "redraw": true
              },
              "fromcurrent": true,
              "mode": "immediate",
              "transition": {
               "duration": 0,
               "easing": "linear"
              }
             }
            ],
            "label": "1905",
            "method": "animate"
           },
           {
            "args": [
             [
              "1906"
             ],
             {
              "frame": {
               "duration": 0,
               "redraw": true
              },
              "fromcurrent": true,
              "mode": "immediate",
              "transition": {
               "duration": 0,
               "easing": "linear"
              }
             }
            ],
            "label": "1906",
            "method": "animate"
           },
           {
            "args": [
             [
              "1907"
             ],
             {
              "frame": {
               "duration": 0,
               "redraw": true
              },
              "fromcurrent": true,
              "mode": "immediate",
              "transition": {
               "duration": 0,
               "easing": "linear"
              }
             }
            ],
            "label": "1907",
            "method": "animate"
           },
           {
            "args": [
             [
              "1908"
             ],
             {
              "frame": {
               "duration": 0,
               "redraw": true
              },
              "fromcurrent": true,
              "mode": "immediate",
              "transition": {
               "duration": 0,
               "easing": "linear"
              }
             }
            ],
            "label": "1908",
            "method": "animate"
           },
           {
            "args": [
             [
              "1909"
             ],
             {
              "frame": {
               "duration": 0,
               "redraw": true
              },
              "fromcurrent": true,
              "mode": "immediate",
              "transition": {
               "duration": 0,
               "easing": "linear"
              }
             }
            ],
            "label": "1909",
            "method": "animate"
           },
           {
            "args": [
             [
              "1910"
             ],
             {
              "frame": {
               "duration": 0,
               "redraw": true
              },
              "fromcurrent": true,
              "mode": "immediate",
              "transition": {
               "duration": 0,
               "easing": "linear"
              }
             }
            ],
            "label": "1910",
            "method": "animate"
           },
           {
            "args": [
             [
              "1911"
             ],
             {
              "frame": {
               "duration": 0,
               "redraw": true
              },
              "fromcurrent": true,
              "mode": "immediate",
              "transition": {
               "duration": 0,
               "easing": "linear"
              }
             }
            ],
            "label": "1911",
            "method": "animate"
           },
           {
            "args": [
             [
              "1912"
             ],
             {
              "frame": {
               "duration": 0,
               "redraw": true
              },
              "fromcurrent": true,
              "mode": "immediate",
              "transition": {
               "duration": 0,
               "easing": "linear"
              }
             }
            ],
            "label": "1912",
            "method": "animate"
           },
           {
            "args": [
             [
              "1913"
             ],
             {
              "frame": {
               "duration": 0,
               "redraw": true
              },
              "fromcurrent": true,
              "mode": "immediate",
              "transition": {
               "duration": 0,
               "easing": "linear"
              }
             }
            ],
            "label": "1913",
            "method": "animate"
           },
           {
            "args": [
             [
              "1914"
             ],
             {
              "frame": {
               "duration": 0,
               "redraw": true
              },
              "fromcurrent": true,
              "mode": "immediate",
              "transition": {
               "duration": 0,
               "easing": "linear"
              }
             }
            ],
            "label": "1914",
            "method": "animate"
           },
           {
            "args": [
             [
              "1915"
             ],
             {
              "frame": {
               "duration": 0,
               "redraw": true
              },
              "fromcurrent": true,
              "mode": "immediate",
              "transition": {
               "duration": 0,
               "easing": "linear"
              }
             }
            ],
            "label": "1915",
            "method": "animate"
           },
           {
            "args": [
             [
              "1916"
             ],
             {
              "frame": {
               "duration": 0,
               "redraw": true
              },
              "fromcurrent": true,
              "mode": "immediate",
              "transition": {
               "duration": 0,
               "easing": "linear"
              }
             }
            ],
            "label": "1916",
            "method": "animate"
           },
           {
            "args": [
             [
              "1917"
             ],
             {
              "frame": {
               "duration": 0,
               "redraw": true
              },
              "fromcurrent": true,
              "mode": "immediate",
              "transition": {
               "duration": 0,
               "easing": "linear"
              }
             }
            ],
            "label": "1917",
            "method": "animate"
           },
           {
            "args": [
             [
              "1918"
             ],
             {
              "frame": {
               "duration": 0,
               "redraw": true
              },
              "fromcurrent": true,
              "mode": "immediate",
              "transition": {
               "duration": 0,
               "easing": "linear"
              }
             }
            ],
            "label": "1918",
            "method": "animate"
           },
           {
            "args": [
             [
              "1919"
             ],
             {
              "frame": {
               "duration": 0,
               "redraw": true
              },
              "fromcurrent": true,
              "mode": "immediate",
              "transition": {
               "duration": 0,
               "easing": "linear"
              }
             }
            ],
            "label": "1919",
            "method": "animate"
           },
           {
            "args": [
             [
              "1920"
             ],
             {
              "frame": {
               "duration": 0,
               "redraw": true
              },
              "fromcurrent": true,
              "mode": "immediate",
              "transition": {
               "duration": 0,
               "easing": "linear"
              }
             }
            ],
            "label": "1920",
            "method": "animate"
           },
           {
            "args": [
             [
              "1921"
             ],
             {
              "frame": {
               "duration": 0,
               "redraw": true
              },
              "fromcurrent": true,
              "mode": "immediate",
              "transition": {
               "duration": 0,
               "easing": "linear"
              }
             }
            ],
            "label": "1921",
            "method": "animate"
           },
           {
            "args": [
             [
              "1922"
             ],
             {
              "frame": {
               "duration": 0,
               "redraw": true
              },
              "fromcurrent": true,
              "mode": "immediate",
              "transition": {
               "duration": 0,
               "easing": "linear"
              }
             }
            ],
            "label": "1922",
            "method": "animate"
           },
           {
            "args": [
             [
              "1923"
             ],
             {
              "frame": {
               "duration": 0,
               "redraw": true
              },
              "fromcurrent": true,
              "mode": "immediate",
              "transition": {
               "duration": 0,
               "easing": "linear"
              }
             }
            ],
            "label": "1923",
            "method": "animate"
           },
           {
            "args": [
             [
              "1924"
             ],
             {
              "frame": {
               "duration": 0,
               "redraw": true
              },
              "fromcurrent": true,
              "mode": "immediate",
              "transition": {
               "duration": 0,
               "easing": "linear"
              }
             }
            ],
            "label": "1924",
            "method": "animate"
           },
           {
            "args": [
             [
              "1925"
             ],
             {
              "frame": {
               "duration": 0,
               "redraw": true
              },
              "fromcurrent": true,
              "mode": "immediate",
              "transition": {
               "duration": 0,
               "easing": "linear"
              }
             }
            ],
            "label": "1925",
            "method": "animate"
           },
           {
            "args": [
             [
              "1926"
             ],
             {
              "frame": {
               "duration": 0,
               "redraw": true
              },
              "fromcurrent": true,
              "mode": "immediate",
              "transition": {
               "duration": 0,
               "easing": "linear"
              }
             }
            ],
            "label": "1926",
            "method": "animate"
           },
           {
            "args": [
             [
              "1927"
             ],
             {
              "frame": {
               "duration": 0,
               "redraw": true
              },
              "fromcurrent": true,
              "mode": "immediate",
              "transition": {
               "duration": 0,
               "easing": "linear"
              }
             }
            ],
            "label": "1927",
            "method": "animate"
           },
           {
            "args": [
             [
              "1928"
             ],
             {
              "frame": {
               "duration": 0,
               "redraw": true
              },
              "fromcurrent": true,
              "mode": "immediate",
              "transition": {
               "duration": 0,
               "easing": "linear"
              }
             }
            ],
            "label": "1928",
            "method": "animate"
           },
           {
            "args": [
             [
              "1929"
             ],
             {
              "frame": {
               "duration": 0,
               "redraw": true
              },
              "fromcurrent": true,
              "mode": "immediate",
              "transition": {
               "duration": 0,
               "easing": "linear"
              }
             }
            ],
            "label": "1929",
            "method": "animate"
           },
           {
            "args": [
             [
              "1930"
             ],
             {
              "frame": {
               "duration": 0,
               "redraw": true
              },
              "fromcurrent": true,
              "mode": "immediate",
              "transition": {
               "duration": 0,
               "easing": "linear"
              }
             }
            ],
            "label": "1930",
            "method": "animate"
           },
           {
            "args": [
             [
              "1931"
             ],
             {
              "frame": {
               "duration": 0,
               "redraw": true
              },
              "fromcurrent": true,
              "mode": "immediate",
              "transition": {
               "duration": 0,
               "easing": "linear"
              }
             }
            ],
            "label": "1931",
            "method": "animate"
           },
           {
            "args": [
             [
              "1932"
             ],
             {
              "frame": {
               "duration": 0,
               "redraw": true
              },
              "fromcurrent": true,
              "mode": "immediate",
              "transition": {
               "duration": 0,
               "easing": "linear"
              }
             }
            ],
            "label": "1932",
            "method": "animate"
           },
           {
            "args": [
             [
              "1933"
             ],
             {
              "frame": {
               "duration": 0,
               "redraw": true
              },
              "fromcurrent": true,
              "mode": "immediate",
              "transition": {
               "duration": 0,
               "easing": "linear"
              }
             }
            ],
            "label": "1933",
            "method": "animate"
           },
           {
            "args": [
             [
              "1935"
             ],
             {
              "frame": {
               "duration": 0,
               "redraw": true
              },
              "fromcurrent": true,
              "mode": "immediate",
              "transition": {
               "duration": 0,
               "easing": "linear"
              }
             }
            ],
            "label": "1935",
            "method": "animate"
           },
           {
            "args": [
             [
              "1936"
             ],
             {
              "frame": {
               "duration": 0,
               "redraw": true
              },
              "fromcurrent": true,
              "mode": "immediate",
              "transition": {
               "duration": 0,
               "easing": "linear"
              }
             }
            ],
            "label": "1936",
            "method": "animate"
           },
           {
            "args": [
             [
              "1938"
             ],
             {
              "frame": {
               "duration": 0,
               "redraw": true
              },
              "fromcurrent": true,
              "mode": "immediate",
              "transition": {
               "duration": 0,
               "easing": "linear"
              }
             }
            ],
            "label": "1938",
            "method": "animate"
           },
           {
            "args": [
             [
              "1939"
             ],
             {
              "frame": {
               "duration": 0,
               "redraw": true
              },
              "fromcurrent": true,
              "mode": "immediate",
              "transition": {
               "duration": 0,
               "easing": "linear"
              }
             }
            ],
            "label": "1939",
            "method": "animate"
           },
           {
            "args": [
             [
              "1940"
             ],
             {
              "frame": {
               "duration": 0,
               "redraw": true
              },
              "fromcurrent": true,
              "mode": "immediate",
              "transition": {
               "duration": 0,
               "easing": "linear"
              }
             }
            ],
            "label": "1940",
            "method": "animate"
           },
           {
            "args": [
             [
              "1941"
             ],
             {
              "frame": {
               "duration": 0,
               "redraw": true
              },
              "fromcurrent": true,
              "mode": "immediate",
              "transition": {
               "duration": 0,
               "easing": "linear"
              }
             }
            ],
            "label": "1941",
            "method": "animate"
           },
           {
            "args": [
             [
              "1942"
             ],
             {
              "frame": {
               "duration": 0,
               "redraw": true
              },
              "fromcurrent": true,
              "mode": "immediate",
              "transition": {
               "duration": 0,
               "easing": "linear"
              }
             }
            ],
            "label": "1942",
            "method": "animate"
           },
           {
            "args": [
             [
              "1943"
             ],
             {
              "frame": {
               "duration": 0,
               "redraw": true
              },
              "fromcurrent": true,
              "mode": "immediate",
              "transition": {
               "duration": 0,
               "easing": "linear"
              }
             }
            ],
            "label": "1943",
            "method": "animate"
           }
          ],
          "x": 0.1,
          "xanchor": "left",
          "y": 0,
          "yanchor": "top"
         }
        ],
        "template": {
         "data": {
          "bar": [
           {
            "error_x": {
             "color": "#2a3f5f"
            },
            "error_y": {
             "color": "#2a3f5f"
            },
            "marker": {
             "line": {
              "color": "#E5ECF6",
              "width": 0.5
             },
             "pattern": {
              "fillmode": "overlay",
              "size": 10,
              "solidity": 0.2
             }
            },
            "type": "bar"
           }
          ],
          "barpolar": [
           {
            "marker": {
             "line": {
              "color": "#E5ECF6",
              "width": 0.5
             },
             "pattern": {
              "fillmode": "overlay",
              "size": 10,
              "solidity": 0.2
             }
            },
            "type": "barpolar"
           }
          ],
          "carpet": [
           {
            "aaxis": {
             "endlinecolor": "#2a3f5f",
             "gridcolor": "white",
             "linecolor": "white",
             "minorgridcolor": "white",
             "startlinecolor": "#2a3f5f"
            },
            "baxis": {
             "endlinecolor": "#2a3f5f",
             "gridcolor": "white",
             "linecolor": "white",
             "minorgridcolor": "white",
             "startlinecolor": "#2a3f5f"
            },
            "type": "carpet"
           }
          ],
          "choropleth": [
           {
            "colorbar": {
             "outlinewidth": 0,
             "ticks": ""
            },
            "type": "choropleth"
           }
          ],
          "contour": [
           {
            "colorbar": {
             "outlinewidth": 0,
             "ticks": ""
            },
            "colorscale": [
             [
              0,
              "#0d0887"
             ],
             [
              0.1111111111111111,
              "#46039f"
             ],
             [
              0.2222222222222222,
              "#7201a8"
             ],
             [
              0.3333333333333333,
              "#9c179e"
             ],
             [
              0.4444444444444444,
              "#bd3786"
             ],
             [
              0.5555555555555556,
              "#d8576b"
             ],
             [
              0.6666666666666666,
              "#ed7953"
             ],
             [
              0.7777777777777778,
              "#fb9f3a"
             ],
             [
              0.8888888888888888,
              "#fdca26"
             ],
             [
              1,
              "#f0f921"
             ]
            ],
            "type": "contour"
           }
          ],
          "contourcarpet": [
           {
            "colorbar": {
             "outlinewidth": 0,
             "ticks": ""
            },
            "type": "contourcarpet"
           }
          ],
          "heatmap": [
           {
            "colorbar": {
             "outlinewidth": 0,
             "ticks": ""
            },
            "colorscale": [
             [
              0,
              "#0d0887"
             ],
             [
              0.1111111111111111,
              "#46039f"
             ],
             [
              0.2222222222222222,
              "#7201a8"
             ],
             [
              0.3333333333333333,
              "#9c179e"
             ],
             [
              0.4444444444444444,
              "#bd3786"
             ],
             [
              0.5555555555555556,
              "#d8576b"
             ],
             [
              0.6666666666666666,
              "#ed7953"
             ],
             [
              0.7777777777777778,
              "#fb9f3a"
             ],
             [
              0.8888888888888888,
              "#fdca26"
             ],
             [
              1,
              "#f0f921"
             ]
            ],
            "type": "heatmap"
           }
          ],
          "heatmapgl": [
           {
            "colorbar": {
             "outlinewidth": 0,
             "ticks": ""
            },
            "colorscale": [
             [
              0,
              "#0d0887"
             ],
             [
              0.1111111111111111,
              "#46039f"
             ],
             [
              0.2222222222222222,
              "#7201a8"
             ],
             [
              0.3333333333333333,
              "#9c179e"
             ],
             [
              0.4444444444444444,
              "#bd3786"
             ],
             [
              0.5555555555555556,
              "#d8576b"
             ],
             [
              0.6666666666666666,
              "#ed7953"
             ],
             [
              0.7777777777777778,
              "#fb9f3a"
             ],
             [
              0.8888888888888888,
              "#fdca26"
             ],
             [
              1,
              "#f0f921"
             ]
            ],
            "type": "heatmapgl"
           }
          ],
          "histogram": [
           {
            "marker": {
             "pattern": {
              "fillmode": "overlay",
              "size": 10,
              "solidity": 0.2
             }
            },
            "type": "histogram"
           }
          ],
          "histogram2d": [
           {
            "colorbar": {
             "outlinewidth": 0,
             "ticks": ""
            },
            "colorscale": [
             [
              0,
              "#0d0887"
             ],
             [
              0.1111111111111111,
              "#46039f"
             ],
             [
              0.2222222222222222,
              "#7201a8"
             ],
             [
              0.3333333333333333,
              "#9c179e"
             ],
             [
              0.4444444444444444,
              "#bd3786"
             ],
             [
              0.5555555555555556,
              "#d8576b"
             ],
             [
              0.6666666666666666,
              "#ed7953"
             ],
             [
              0.7777777777777778,
              "#fb9f3a"
             ],
             [
              0.8888888888888888,
              "#fdca26"
             ],
             [
              1,
              "#f0f921"
             ]
            ],
            "type": "histogram2d"
           }
          ],
          "histogram2dcontour": [
           {
            "colorbar": {
             "outlinewidth": 0,
             "ticks": ""
            },
            "colorscale": [
             [
              0,
              "#0d0887"
             ],
             [
              0.1111111111111111,
              "#46039f"
             ],
             [
              0.2222222222222222,
              "#7201a8"
             ],
             [
              0.3333333333333333,
              "#9c179e"
             ],
             [
              0.4444444444444444,
              "#bd3786"
             ],
             [
              0.5555555555555556,
              "#d8576b"
             ],
             [
              0.6666666666666666,
              "#ed7953"
             ],
             [
              0.7777777777777778,
              "#fb9f3a"
             ],
             [
              0.8888888888888888,
              "#fdca26"
             ],
             [
              1,
              "#f0f921"
             ]
            ],
            "type": "histogram2dcontour"
           }
          ],
          "mesh3d": [
           {
            "colorbar": {
             "outlinewidth": 0,
             "ticks": ""
            },
            "type": "mesh3d"
           }
          ],
          "parcoords": [
           {
            "line": {
             "colorbar": {
              "outlinewidth": 0,
              "ticks": ""
             }
            },
            "type": "parcoords"
           }
          ],
          "pie": [
           {
            "automargin": true,
            "type": "pie"
           }
          ],
          "scatter": [
           {
            "marker": {
             "colorbar": {
              "outlinewidth": 0,
              "ticks": ""
             }
            },
            "type": "scatter"
           }
          ],
          "scatter3d": [
           {
            "line": {
             "colorbar": {
              "outlinewidth": 0,
              "ticks": ""
             }
            },
            "marker": {
             "colorbar": {
              "outlinewidth": 0,
              "ticks": ""
             }
            },
            "type": "scatter3d"
           }
          ],
          "scattercarpet": [
           {
            "marker": {
             "colorbar": {
              "outlinewidth": 0,
              "ticks": ""
             }
            },
            "type": "scattercarpet"
           }
          ],
          "scattergeo": [
           {
            "marker": {
             "colorbar": {
              "outlinewidth": 0,
              "ticks": ""
             }
            },
            "type": "scattergeo"
           }
          ],
          "scattergl": [
           {
            "marker": {
             "colorbar": {
              "outlinewidth": 0,
              "ticks": ""
             }
            },
            "type": "scattergl"
           }
          ],
          "scattermapbox": [
           {
            "marker": {
             "colorbar": {
              "outlinewidth": 0,
              "ticks": ""
             }
            },
            "type": "scattermapbox"
           }
          ],
          "scatterpolar": [
           {
            "marker": {
             "colorbar": {
              "outlinewidth": 0,
              "ticks": ""
             }
            },
            "type": "scatterpolar"
           }
          ],
          "scatterpolargl": [
           {
            "marker": {
             "colorbar": {
              "outlinewidth": 0,
              "ticks": ""
             }
            },
            "type": "scatterpolargl"
           }
          ],
          "scatterternary": [
           {
            "marker": {
             "colorbar": {
              "outlinewidth": 0,
              "ticks": ""
             }
            },
            "type": "scatterternary"
           }
          ],
          "surface": [
           {
            "colorbar": {
             "outlinewidth": 0,
             "ticks": ""
            },
            "colorscale": [
             [
              0,
              "#0d0887"
             ],
             [
              0.1111111111111111,
              "#46039f"
             ],
             [
              0.2222222222222222,
              "#7201a8"
             ],
             [
              0.3333333333333333,
              "#9c179e"
             ],
             [
              0.4444444444444444,
              "#bd3786"
             ],
             [
              0.5555555555555556,
              "#d8576b"
             ],
             [
              0.6666666666666666,
              "#ed7953"
             ],
             [
              0.7777777777777778,
              "#fb9f3a"
             ],
             [
              0.8888888888888888,
              "#fdca26"
             ],
             [
              1,
              "#f0f921"
             ]
            ],
            "type": "surface"
           }
          ],
          "table": [
           {
            "cells": {
             "fill": {
              "color": "#EBF0F8"
             },
             "line": {
              "color": "white"
             }
            },
            "header": {
             "fill": {
              "color": "#C8D4E3"
             },
             "line": {
              "color": "white"
             }
            },
            "type": "table"
           }
          ]
         },
         "layout": {
          "annotationdefaults": {
           "arrowcolor": "#2a3f5f",
           "arrowhead": 0,
           "arrowwidth": 1
          },
          "autotypenumbers": "strict",
          "coloraxis": {
           "colorbar": {
            "outlinewidth": 0,
            "ticks": ""
           }
          },
          "colorscale": {
           "diverging": [
            [
             0,
             "#8e0152"
            ],
            [
             0.1,
             "#c51b7d"
            ],
            [
             0.2,
             "#de77ae"
            ],
            [
             0.3,
             "#f1b6da"
            ],
            [
             0.4,
             "#fde0ef"
            ],
            [
             0.5,
             "#f7f7f7"
            ],
            [
             0.6,
             "#e6f5d0"
            ],
            [
             0.7,
             "#b8e186"
            ],
            [
             0.8,
             "#7fbc41"
            ],
            [
             0.9,
             "#4d9221"
            ],
            [
             1,
             "#276419"
            ]
           ],
           "sequential": [
            [
             0,
             "#0d0887"
            ],
            [
             0.1111111111111111,
             "#46039f"
            ],
            [
             0.2222222222222222,
             "#7201a8"
            ],
            [
             0.3333333333333333,
             "#9c179e"
            ],
            [
             0.4444444444444444,
             "#bd3786"
            ],
            [
             0.5555555555555556,
             "#d8576b"
            ],
            [
             0.6666666666666666,
             "#ed7953"
            ],
            [
             0.7777777777777778,
             "#fb9f3a"
            ],
            [
             0.8888888888888888,
             "#fdca26"
            ],
            [
             1,
             "#f0f921"
            ]
           ],
           "sequentialminus": [
            [
             0,
             "#0d0887"
            ],
            [
             0.1111111111111111,
             "#46039f"
            ],
            [
             0.2222222222222222,
             "#7201a8"
            ],
            [
             0.3333333333333333,
             "#9c179e"
            ],
            [
             0.4444444444444444,
             "#bd3786"
            ],
            [
             0.5555555555555556,
             "#d8576b"
            ],
            [
             0.6666666666666666,
             "#ed7953"
            ],
            [
             0.7777777777777778,
             "#fb9f3a"
            ],
            [
             0.8888888888888888,
             "#fdca26"
            ],
            [
             1,
             "#f0f921"
            ]
           ]
          },
          "colorway": [
           "#636efa",
           "#EF553B",
           "#00cc96",
           "#ab63fa",
           "#FFA15A",
           "#19d3f3",
           "#FF6692",
           "#B6E880",
           "#FF97FF",
           "#FECB52"
          ],
          "font": {
           "color": "#2a3f5f"
          },
          "geo": {
           "bgcolor": "white",
           "lakecolor": "white",
           "landcolor": "#E5ECF6",
           "showlakes": true,
           "showland": true,
           "subunitcolor": "white"
          },
          "hoverlabel": {
           "align": "left"
          },
          "hovermode": "closest",
          "mapbox": {
           "style": "light"
          },
          "paper_bgcolor": "white",
          "plot_bgcolor": "#E5ECF6",
          "polar": {
           "angularaxis": {
            "gridcolor": "white",
            "linecolor": "white",
            "ticks": ""
           },
           "bgcolor": "#E5ECF6",
           "radialaxis": {
            "gridcolor": "white",
            "linecolor": "white",
            "ticks": ""
           }
          },
          "scene": {
           "xaxis": {
            "backgroundcolor": "#E5ECF6",
            "gridcolor": "white",
            "gridwidth": 2,
            "linecolor": "white",
            "showbackground": true,
            "ticks": "",
            "zerolinecolor": "white"
           },
           "yaxis": {
            "backgroundcolor": "#E5ECF6",
            "gridcolor": "white",
            "gridwidth": 2,
            "linecolor": "white",
            "showbackground": true,
            "ticks": "",
            "zerolinecolor": "white"
           },
           "zaxis": {
            "backgroundcolor": "#E5ECF6",
            "gridcolor": "white",
            "gridwidth": 2,
            "linecolor": "white",
            "showbackground": true,
            "ticks": "",
            "zerolinecolor": "white"
           }
          },
          "shapedefaults": {
           "line": {
            "color": "#2a3f5f"
           }
          },
          "ternary": {
           "aaxis": {
            "gridcolor": "white",
            "linecolor": "white",
            "ticks": ""
           },
           "baxis": {
            "gridcolor": "white",
            "linecolor": "white",
            "ticks": ""
           },
           "bgcolor": "#E5ECF6",
           "caxis": {
            "gridcolor": "white",
            "linecolor": "white",
            "ticks": ""
           }
          },
          "title": {
           "x": 0.05
          },
          "xaxis": {
           "automargin": true,
           "gridcolor": "white",
           "linecolor": "white",
           "ticks": "",
           "title": {
            "standoff": 15
           },
           "zerolinecolor": "white",
           "zerolinewidth": 2
          },
          "yaxis": {
           "automargin": true,
           "gridcolor": "white",
           "linecolor": "white",
           "ticks": "",
           "title": {
            "standoff": 15
           },
           "zerolinecolor": "white",
           "zerolinewidth": 2
          }
         }
        },
        "title": {
         "text": "Map 3. Number of WPI International Students from Each Country by Year (1876-1943)"
        },
        "updatemenus": [
         {
          "buttons": [
           {
            "args": [
             null,
             {
              "frame": {
               "duration": 1500,
               "redraw": true
              },
              "fromcurrent": true,
              "mode": "immediate",
              "transition": {
               "duration": 1500,
               "easing": "linear"
              }
             }
            ],
            "label": "&#9654;",
            "method": "animate"
           },
           {
            "args": [
             [
              null
             ],
             {
              "frame": {
               "duration": 0,
               "redraw": true
              },
              "fromcurrent": true,
              "mode": "immediate",
              "transition": {
               "duration": 0,
               "easing": "linear"
              }
             }
            ],
            "label": "&#9724;",
            "method": "animate"
           }
          ],
          "direction": "left",
          "pad": {
           "r": 10,
           "t": 70
          },
          "showactive": false,
          "type": "buttons",
          "x": 0.1,
          "xanchor": "right",
          "y": 0,
          "yanchor": "top"
         }
        ]
       }
      },
      "text/html": [
       "<div>                            <div id=\"d1311243-9550-4304-868e-46482e0dfa31\" class=\"plotly-graph-div\" style=\"height:525px; width:100%;\"></div>            <script type=\"text/javascript\">                require([\"plotly\"], function(Plotly) {                    window.PLOTLYENV=window.PLOTLYENV || {};                                    if (document.getElementById(\"d1311243-9550-4304-868e-46482e0dfa31\")) {                    Plotly.newPlot(                        \"d1311243-9550-4304-868e-46482e0dfa31\",                        [{\"customdata\":[[2,\"1876\"]],\"geo\":\"geo\",\"hovertemplate\":\"<b>%{hovertext}</b><br><br>Class of=%{customdata[1]}<br>Number from Country=%{customdata[0]}<br>Latitude=%{lat}<br>Longitude=%{lon}<extra></extra>\",\"hovertext\":[\"Japan\"],\"lat\":[\"36.204824\"],\"legendgroup\":\"1876\",\"lon\":[\"138.252924\"],\"marker\":{\"color\":\"#636efa\",\"size\":[2],\"sizemode\":\"area\",\"sizeref\":0.0125,\"symbol\":\"circle\"},\"mode\":\"markers\",\"name\":\"1876\",\"showlegend\":true,\"type\":\"scattergeo\"}],                        {\"geo\":{\"center\":{},\"domain\":{\"x\":[0.0,1.0],\"y\":[0.0,1.0]},\"projection\":{\"type\":\"natural earth\"}},\"legend\":{\"itemsizing\":\"constant\",\"title\":{\"text\":\"Class of\"},\"tracegroupgap\":0},\"sliders\":[{\"active\":0,\"currentvalue\":{\"prefix\":\"Class of=\"},\"len\":0.9,\"pad\":{\"b\":10,\"t\":60},\"steps\":[{\"args\":[[\"1876\"],{\"frame\":{\"duration\":0,\"redraw\":true},\"fromcurrent\":true,\"mode\":\"immediate\",\"transition\":{\"duration\":0,\"easing\":\"linear\"}}],\"label\":\"1876\",\"method\":\"animate\"},{\"args\":[[\"1877\"],{\"frame\":{\"duration\":0,\"redraw\":true},\"fromcurrent\":true,\"mode\":\"immediate\",\"transition\":{\"duration\":0,\"easing\":\"linear\"}}],\"label\":\"1877\",\"method\":\"animate\"},{\"args\":[[\"1878\"],{\"frame\":{\"duration\":0,\"redraw\":true},\"fromcurrent\":true,\"mode\":\"immediate\",\"transition\":{\"duration\":0,\"easing\":\"linear\"}}],\"label\":\"1878\",\"method\":\"animate\"},{\"args\":[[\"1879\"],{\"frame\":{\"duration\":0,\"redraw\":true},\"fromcurrent\":true,\"mode\":\"immediate\",\"transition\":{\"duration\":0,\"easing\":\"linear\"}}],\"label\":\"1879\",\"method\":\"animate\"},{\"args\":[[\"1880\"],{\"frame\":{\"duration\":0,\"redraw\":true},\"fromcurrent\":true,\"mode\":\"immediate\",\"transition\":{\"duration\":0,\"easing\":\"linear\"}}],\"label\":\"1880\",\"method\":\"animate\"},{\"args\":[[\"1882\"],{\"frame\":{\"duration\":0,\"redraw\":true},\"fromcurrent\":true,\"mode\":\"immediate\",\"transition\":{\"duration\":0,\"easing\":\"linear\"}}],\"label\":\"1882\",\"method\":\"animate\"},{\"args\":[[\"1883\"],{\"frame\":{\"duration\":0,\"redraw\":true},\"fromcurrent\":true,\"mode\":\"immediate\",\"transition\":{\"duration\":0,\"easing\":\"linear\"}}],\"label\":\"1883\",\"method\":\"animate\"},{\"args\":[[\"1884\"],{\"frame\":{\"duration\":0,\"redraw\":true},\"fromcurrent\":true,\"mode\":\"immediate\",\"transition\":{\"duration\":0,\"easing\":\"linear\"}}],\"label\":\"1884\",\"method\":\"animate\"},{\"args\":[[\"1885\"],{\"frame\":{\"duration\":0,\"redraw\":true},\"fromcurrent\":true,\"mode\":\"immediate\",\"transition\":{\"duration\":0,\"easing\":\"linear\"}}],\"label\":\"1885\",\"method\":\"animate\"},{\"args\":[[\"1887\"],{\"frame\":{\"duration\":0,\"redraw\":true},\"fromcurrent\":true,\"mode\":\"immediate\",\"transition\":{\"duration\":0,\"easing\":\"linear\"}}],\"label\":\"1887\",\"method\":\"animate\"},{\"args\":[[\"1888\"],{\"frame\":{\"duration\":0,\"redraw\":true},\"fromcurrent\":true,\"mode\":\"immediate\",\"transition\":{\"duration\":0,\"easing\":\"linear\"}}],\"label\":\"1888\",\"method\":\"animate\"},{\"args\":[[\"1889\"],{\"frame\":{\"duration\":0,\"redraw\":true},\"fromcurrent\":true,\"mode\":\"immediate\",\"transition\":{\"duration\":0,\"easing\":\"linear\"}}],\"label\":\"1889\",\"method\":\"animate\"},{\"args\":[[\"1891\"],{\"frame\":{\"duration\":0,\"redraw\":true},\"fromcurrent\":true,\"mode\":\"immediate\",\"transition\":{\"duration\":0,\"easing\":\"linear\"}}],\"label\":\"1891\",\"method\":\"animate\"},{\"args\":[[\"1893\"],{\"frame\":{\"duration\":0,\"redraw\":true},\"fromcurrent\":true,\"mode\":\"immediate\",\"transition\":{\"duration\":0,\"easing\":\"linear\"}}],\"label\":\"1893\",\"method\":\"animate\"},{\"args\":[[\"1894\"],{\"frame\":{\"duration\":0,\"redraw\":true},\"fromcurrent\":true,\"mode\":\"immediate\",\"transition\":{\"duration\":0,\"easing\":\"linear\"}}],\"label\":\"1894\",\"method\":\"animate\"},{\"args\":[[\"1895\"],{\"frame\":{\"duration\":0,\"redraw\":true},\"fromcurrent\":true,\"mode\":\"immediate\",\"transition\":{\"duration\":0,\"easing\":\"linear\"}}],\"label\":\"1895\",\"method\":\"animate\"},{\"args\":[[\"1896\"],{\"frame\":{\"duration\":0,\"redraw\":true},\"fromcurrent\":true,\"mode\":\"immediate\",\"transition\":{\"duration\":0,\"easing\":\"linear\"}}],\"label\":\"1896\",\"method\":\"animate\"},{\"args\":[[\"1897\"],{\"frame\":{\"duration\":0,\"redraw\":true},\"fromcurrent\":true,\"mode\":\"immediate\",\"transition\":{\"duration\":0,\"easing\":\"linear\"}}],\"label\":\"1897\",\"method\":\"animate\"},{\"args\":[[\"1899\"],{\"frame\":{\"duration\":0,\"redraw\":true},\"fromcurrent\":true,\"mode\":\"immediate\",\"transition\":{\"duration\":0,\"easing\":\"linear\"}}],\"label\":\"1899\",\"method\":\"animate\"},{\"args\":[[\"1900\"],{\"frame\":{\"duration\":0,\"redraw\":true},\"fromcurrent\":true,\"mode\":\"immediate\",\"transition\":{\"duration\":0,\"easing\":\"linear\"}}],\"label\":\"1900\",\"method\":\"animate\"},{\"args\":[[\"1901\"],{\"frame\":{\"duration\":0,\"redraw\":true},\"fromcurrent\":true,\"mode\":\"immediate\",\"transition\":{\"duration\":0,\"easing\":\"linear\"}}],\"label\":\"1901\",\"method\":\"animate\"},{\"args\":[[\"1903\"],{\"frame\":{\"duration\":0,\"redraw\":true},\"fromcurrent\":true,\"mode\":\"immediate\",\"transition\":{\"duration\":0,\"easing\":\"linear\"}}],\"label\":\"1903\",\"method\":\"animate\"},{\"args\":[[\"1904\"],{\"frame\":{\"duration\":0,\"redraw\":true},\"fromcurrent\":true,\"mode\":\"immediate\",\"transition\":{\"duration\":0,\"easing\":\"linear\"}}],\"label\":\"1904\",\"method\":\"animate\"},{\"args\":[[\"1905\"],{\"frame\":{\"duration\":0,\"redraw\":true},\"fromcurrent\":true,\"mode\":\"immediate\",\"transition\":{\"duration\":0,\"easing\":\"linear\"}}],\"label\":\"1905\",\"method\":\"animate\"},{\"args\":[[\"1906\"],{\"frame\":{\"duration\":0,\"redraw\":true},\"fromcurrent\":true,\"mode\":\"immediate\",\"transition\":{\"duration\":0,\"easing\":\"linear\"}}],\"label\":\"1906\",\"method\":\"animate\"},{\"args\":[[\"1907\"],{\"frame\":{\"duration\":0,\"redraw\":true},\"fromcurrent\":true,\"mode\":\"immediate\",\"transition\":{\"duration\":0,\"easing\":\"linear\"}}],\"label\":\"1907\",\"method\":\"animate\"},{\"args\":[[\"1908\"],{\"frame\":{\"duration\":0,\"redraw\":true},\"fromcurrent\":true,\"mode\":\"immediate\",\"transition\":{\"duration\":0,\"easing\":\"linear\"}}],\"label\":\"1908\",\"method\":\"animate\"},{\"args\":[[\"1909\"],{\"frame\":{\"duration\":0,\"redraw\":true},\"fromcurrent\":true,\"mode\":\"immediate\",\"transition\":{\"duration\":0,\"easing\":\"linear\"}}],\"label\":\"1909\",\"method\":\"animate\"},{\"args\":[[\"1910\"],{\"frame\":{\"duration\":0,\"redraw\":true},\"fromcurrent\":true,\"mode\":\"immediate\",\"transition\":{\"duration\":0,\"easing\":\"linear\"}}],\"label\":\"1910\",\"method\":\"animate\"},{\"args\":[[\"1911\"],{\"frame\":{\"duration\":0,\"redraw\":true},\"fromcurrent\":true,\"mode\":\"immediate\",\"transition\":{\"duration\":0,\"easing\":\"linear\"}}],\"label\":\"1911\",\"method\":\"animate\"},{\"args\":[[\"1912\"],{\"frame\":{\"duration\":0,\"redraw\":true},\"fromcurrent\":true,\"mode\":\"immediate\",\"transition\":{\"duration\":0,\"easing\":\"linear\"}}],\"label\":\"1912\",\"method\":\"animate\"},{\"args\":[[\"1913\"],{\"frame\":{\"duration\":0,\"redraw\":true},\"fromcurrent\":true,\"mode\":\"immediate\",\"transition\":{\"duration\":0,\"easing\":\"linear\"}}],\"label\":\"1913\",\"method\":\"animate\"},{\"args\":[[\"1914\"],{\"frame\":{\"duration\":0,\"redraw\":true},\"fromcurrent\":true,\"mode\":\"immediate\",\"transition\":{\"duration\":0,\"easing\":\"linear\"}}],\"label\":\"1914\",\"method\":\"animate\"},{\"args\":[[\"1915\"],{\"frame\":{\"duration\":0,\"redraw\":true},\"fromcurrent\":true,\"mode\":\"immediate\",\"transition\":{\"duration\":0,\"easing\":\"linear\"}}],\"label\":\"1915\",\"method\":\"animate\"},{\"args\":[[\"1916\"],{\"frame\":{\"duration\":0,\"redraw\":true},\"fromcurrent\":true,\"mode\":\"immediate\",\"transition\":{\"duration\":0,\"easing\":\"linear\"}}],\"label\":\"1916\",\"method\":\"animate\"},{\"args\":[[\"1917\"],{\"frame\":{\"duration\":0,\"redraw\":true},\"fromcurrent\":true,\"mode\":\"immediate\",\"transition\":{\"duration\":0,\"easing\":\"linear\"}}],\"label\":\"1917\",\"method\":\"animate\"},{\"args\":[[\"1918\"],{\"frame\":{\"duration\":0,\"redraw\":true},\"fromcurrent\":true,\"mode\":\"immediate\",\"transition\":{\"duration\":0,\"easing\":\"linear\"}}],\"label\":\"1918\",\"method\":\"animate\"},{\"args\":[[\"1919\"],{\"frame\":{\"duration\":0,\"redraw\":true},\"fromcurrent\":true,\"mode\":\"immediate\",\"transition\":{\"duration\":0,\"easing\":\"linear\"}}],\"label\":\"1919\",\"method\":\"animate\"},{\"args\":[[\"1920\"],{\"frame\":{\"duration\":0,\"redraw\":true},\"fromcurrent\":true,\"mode\":\"immediate\",\"transition\":{\"duration\":0,\"easing\":\"linear\"}}],\"label\":\"1920\",\"method\":\"animate\"},{\"args\":[[\"1921\"],{\"frame\":{\"duration\":0,\"redraw\":true},\"fromcurrent\":true,\"mode\":\"immediate\",\"transition\":{\"duration\":0,\"easing\":\"linear\"}}],\"label\":\"1921\",\"method\":\"animate\"},{\"args\":[[\"1922\"],{\"frame\":{\"duration\":0,\"redraw\":true},\"fromcurrent\":true,\"mode\":\"immediate\",\"transition\":{\"duration\":0,\"easing\":\"linear\"}}],\"label\":\"1922\",\"method\":\"animate\"},{\"args\":[[\"1923\"],{\"frame\":{\"duration\":0,\"redraw\":true},\"fromcurrent\":true,\"mode\":\"immediate\",\"transition\":{\"duration\":0,\"easing\":\"linear\"}}],\"label\":\"1923\",\"method\":\"animate\"},{\"args\":[[\"1924\"],{\"frame\":{\"duration\":0,\"redraw\":true},\"fromcurrent\":true,\"mode\":\"immediate\",\"transition\":{\"duration\":0,\"easing\":\"linear\"}}],\"label\":\"1924\",\"method\":\"animate\"},{\"args\":[[\"1925\"],{\"frame\":{\"duration\":0,\"redraw\":true},\"fromcurrent\":true,\"mode\":\"immediate\",\"transition\":{\"duration\":0,\"easing\":\"linear\"}}],\"label\":\"1925\",\"method\":\"animate\"},{\"args\":[[\"1926\"],{\"frame\":{\"duration\":0,\"redraw\":true},\"fromcurrent\":true,\"mode\":\"immediate\",\"transition\":{\"duration\":0,\"easing\":\"linear\"}}],\"label\":\"1926\",\"method\":\"animate\"},{\"args\":[[\"1927\"],{\"frame\":{\"duration\":0,\"redraw\":true},\"fromcurrent\":true,\"mode\":\"immediate\",\"transition\":{\"duration\":0,\"easing\":\"linear\"}}],\"label\":\"1927\",\"method\":\"animate\"},{\"args\":[[\"1928\"],{\"frame\":{\"duration\":0,\"redraw\":true},\"fromcurrent\":true,\"mode\":\"immediate\",\"transition\":{\"duration\":0,\"easing\":\"linear\"}}],\"label\":\"1928\",\"method\":\"animate\"},{\"args\":[[\"1929\"],{\"frame\":{\"duration\":0,\"redraw\":true},\"fromcurrent\":true,\"mode\":\"immediate\",\"transition\":{\"duration\":0,\"easing\":\"linear\"}}],\"label\":\"1929\",\"method\":\"animate\"},{\"args\":[[\"1930\"],{\"frame\":{\"duration\":0,\"redraw\":true},\"fromcurrent\":true,\"mode\":\"immediate\",\"transition\":{\"duration\":0,\"easing\":\"linear\"}}],\"label\":\"1930\",\"method\":\"animate\"},{\"args\":[[\"1931\"],{\"frame\":{\"duration\":0,\"redraw\":true},\"fromcurrent\":true,\"mode\":\"immediate\",\"transition\":{\"duration\":0,\"easing\":\"linear\"}}],\"label\":\"1931\",\"method\":\"animate\"},{\"args\":[[\"1932\"],{\"frame\":{\"duration\":0,\"redraw\":true},\"fromcurrent\":true,\"mode\":\"immediate\",\"transition\":{\"duration\":0,\"easing\":\"linear\"}}],\"label\":\"1932\",\"method\":\"animate\"},{\"args\":[[\"1933\"],{\"frame\":{\"duration\":0,\"redraw\":true},\"fromcurrent\":true,\"mode\":\"immediate\",\"transition\":{\"duration\":0,\"easing\":\"linear\"}}],\"label\":\"1933\",\"method\":\"animate\"},{\"args\":[[\"1935\"],{\"frame\":{\"duration\":0,\"redraw\":true},\"fromcurrent\":true,\"mode\":\"immediate\",\"transition\":{\"duration\":0,\"easing\":\"linear\"}}],\"label\":\"1935\",\"method\":\"animate\"},{\"args\":[[\"1936\"],{\"frame\":{\"duration\":0,\"redraw\":true},\"fromcurrent\":true,\"mode\":\"immediate\",\"transition\":{\"duration\":0,\"easing\":\"linear\"}}],\"label\":\"1936\",\"method\":\"animate\"},{\"args\":[[\"1938\"],{\"frame\":{\"duration\":0,\"redraw\":true},\"fromcurrent\":true,\"mode\":\"immediate\",\"transition\":{\"duration\":0,\"easing\":\"linear\"}}],\"label\":\"1938\",\"method\":\"animate\"},{\"args\":[[\"1939\"],{\"frame\":{\"duration\":0,\"redraw\":true},\"fromcurrent\":true,\"mode\":\"immediate\",\"transition\":{\"duration\":0,\"easing\":\"linear\"}}],\"label\":\"1939\",\"method\":\"animate\"},{\"args\":[[\"1940\"],{\"frame\":{\"duration\":0,\"redraw\":true},\"fromcurrent\":true,\"mode\":\"immediate\",\"transition\":{\"duration\":0,\"easing\":\"linear\"}}],\"label\":\"1940\",\"method\":\"animate\"},{\"args\":[[\"1941\"],{\"frame\":{\"duration\":0,\"redraw\":true},\"fromcurrent\":true,\"mode\":\"immediate\",\"transition\":{\"duration\":0,\"easing\":\"linear\"}}],\"label\":\"1941\",\"method\":\"animate\"},{\"args\":[[\"1942\"],{\"frame\":{\"duration\":0,\"redraw\":true},\"fromcurrent\":true,\"mode\":\"immediate\",\"transition\":{\"duration\":0,\"easing\":\"linear\"}}],\"label\":\"1942\",\"method\":\"animate\"},{\"args\":[[\"1943\"],{\"frame\":{\"duration\":0,\"redraw\":true},\"fromcurrent\":true,\"mode\":\"immediate\",\"transition\":{\"duration\":0,\"easing\":\"linear\"}}],\"label\":\"1943\",\"method\":\"animate\"}],\"x\":0.1,\"xanchor\":\"left\",\"y\":0,\"yanchor\":\"top\"}],\"template\":{\"data\":{\"bar\":[{\"error_x\":{\"color\":\"#2a3f5f\"},\"error_y\":{\"color\":\"#2a3f5f\"},\"marker\":{\"line\":{\"color\":\"#E5ECF6\",\"width\":0.5},\"pattern\":{\"fillmode\":\"overlay\",\"size\":10,\"solidity\":0.2}},\"type\":\"bar\"}],\"barpolar\":[{\"marker\":{\"line\":{\"color\":\"#E5ECF6\",\"width\":0.5},\"pattern\":{\"fillmode\":\"overlay\",\"size\":10,\"solidity\":0.2}},\"type\":\"barpolar\"}],\"carpet\":[{\"aaxis\":{\"endlinecolor\":\"#2a3f5f\",\"gridcolor\":\"white\",\"linecolor\":\"white\",\"minorgridcolor\":\"white\",\"startlinecolor\":\"#2a3f5f\"},\"baxis\":{\"endlinecolor\":\"#2a3f5f\",\"gridcolor\":\"white\",\"linecolor\":\"white\",\"minorgridcolor\":\"white\",\"startlinecolor\":\"#2a3f5f\"},\"type\":\"carpet\"}],\"choropleth\":[{\"colorbar\":{\"outlinewidth\":0,\"ticks\":\"\"},\"type\":\"choropleth\"}],\"contour\":[{\"colorbar\":{\"outlinewidth\":0,\"ticks\":\"\"},\"colorscale\":[[0.0,\"#0d0887\"],[0.1111111111111111,\"#46039f\"],[0.2222222222222222,\"#7201a8\"],[0.3333333333333333,\"#9c179e\"],[0.4444444444444444,\"#bd3786\"],[0.5555555555555556,\"#d8576b\"],[0.6666666666666666,\"#ed7953\"],[0.7777777777777778,\"#fb9f3a\"],[0.8888888888888888,\"#fdca26\"],[1.0,\"#f0f921\"]],\"type\":\"contour\"}],\"contourcarpet\":[{\"colorbar\":{\"outlinewidth\":0,\"ticks\":\"\"},\"type\":\"contourcarpet\"}],\"heatmap\":[{\"colorbar\":{\"outlinewidth\":0,\"ticks\":\"\"},\"colorscale\":[[0.0,\"#0d0887\"],[0.1111111111111111,\"#46039f\"],[0.2222222222222222,\"#7201a8\"],[0.3333333333333333,\"#9c179e\"],[0.4444444444444444,\"#bd3786\"],[0.5555555555555556,\"#d8576b\"],[0.6666666666666666,\"#ed7953\"],[0.7777777777777778,\"#fb9f3a\"],[0.8888888888888888,\"#fdca26\"],[1.0,\"#f0f921\"]],\"type\":\"heatmap\"}],\"heatmapgl\":[{\"colorbar\":{\"outlinewidth\":0,\"ticks\":\"\"},\"colorscale\":[[0.0,\"#0d0887\"],[0.1111111111111111,\"#46039f\"],[0.2222222222222222,\"#7201a8\"],[0.3333333333333333,\"#9c179e\"],[0.4444444444444444,\"#bd3786\"],[0.5555555555555556,\"#d8576b\"],[0.6666666666666666,\"#ed7953\"],[0.7777777777777778,\"#fb9f3a\"],[0.8888888888888888,\"#fdca26\"],[1.0,\"#f0f921\"]],\"type\":\"heatmapgl\"}],\"histogram\":[{\"marker\":{\"pattern\":{\"fillmode\":\"overlay\",\"size\":10,\"solidity\":0.2}},\"type\":\"histogram\"}],\"histogram2d\":[{\"colorbar\":{\"outlinewidth\":0,\"ticks\":\"\"},\"colorscale\":[[0.0,\"#0d0887\"],[0.1111111111111111,\"#46039f\"],[0.2222222222222222,\"#7201a8\"],[0.3333333333333333,\"#9c179e\"],[0.4444444444444444,\"#bd3786\"],[0.5555555555555556,\"#d8576b\"],[0.6666666666666666,\"#ed7953\"],[0.7777777777777778,\"#fb9f3a\"],[0.8888888888888888,\"#fdca26\"],[1.0,\"#f0f921\"]],\"type\":\"histogram2d\"}],\"histogram2dcontour\":[{\"colorbar\":{\"outlinewidth\":0,\"ticks\":\"\"},\"colorscale\":[[0.0,\"#0d0887\"],[0.1111111111111111,\"#46039f\"],[0.2222222222222222,\"#7201a8\"],[0.3333333333333333,\"#9c179e\"],[0.4444444444444444,\"#bd3786\"],[0.5555555555555556,\"#d8576b\"],[0.6666666666666666,\"#ed7953\"],[0.7777777777777778,\"#fb9f3a\"],[0.8888888888888888,\"#fdca26\"],[1.0,\"#f0f921\"]],\"type\":\"histogram2dcontour\"}],\"mesh3d\":[{\"colorbar\":{\"outlinewidth\":0,\"ticks\":\"\"},\"type\":\"mesh3d\"}],\"parcoords\":[{\"line\":{\"colorbar\":{\"outlinewidth\":0,\"ticks\":\"\"}},\"type\":\"parcoords\"}],\"pie\":[{\"automargin\":true,\"type\":\"pie\"}],\"scatter\":[{\"marker\":{\"colorbar\":{\"outlinewidth\":0,\"ticks\":\"\"}},\"type\":\"scatter\"}],\"scatter3d\":[{\"line\":{\"colorbar\":{\"outlinewidth\":0,\"ticks\":\"\"}},\"marker\":{\"colorbar\":{\"outlinewidth\":0,\"ticks\":\"\"}},\"type\":\"scatter3d\"}],\"scattercarpet\":[{\"marker\":{\"colorbar\":{\"outlinewidth\":0,\"ticks\":\"\"}},\"type\":\"scattercarpet\"}],\"scattergeo\":[{\"marker\":{\"colorbar\":{\"outlinewidth\":0,\"ticks\":\"\"}},\"type\":\"scattergeo\"}],\"scattergl\":[{\"marker\":{\"colorbar\":{\"outlinewidth\":0,\"ticks\":\"\"}},\"type\":\"scattergl\"}],\"scattermapbox\":[{\"marker\":{\"colorbar\":{\"outlinewidth\":0,\"ticks\":\"\"}},\"type\":\"scattermapbox\"}],\"scatterpolar\":[{\"marker\":{\"colorbar\":{\"outlinewidth\":0,\"ticks\":\"\"}},\"type\":\"scatterpolar\"}],\"scatterpolargl\":[{\"marker\":{\"colorbar\":{\"outlinewidth\":0,\"ticks\":\"\"}},\"type\":\"scatterpolargl\"}],\"scatterternary\":[{\"marker\":{\"colorbar\":{\"outlinewidth\":0,\"ticks\":\"\"}},\"type\":\"scatterternary\"}],\"surface\":[{\"colorbar\":{\"outlinewidth\":0,\"ticks\":\"\"},\"colorscale\":[[0.0,\"#0d0887\"],[0.1111111111111111,\"#46039f\"],[0.2222222222222222,\"#7201a8\"],[0.3333333333333333,\"#9c179e\"],[0.4444444444444444,\"#bd3786\"],[0.5555555555555556,\"#d8576b\"],[0.6666666666666666,\"#ed7953\"],[0.7777777777777778,\"#fb9f3a\"],[0.8888888888888888,\"#fdca26\"],[1.0,\"#f0f921\"]],\"type\":\"surface\"}],\"table\":[{\"cells\":{\"fill\":{\"color\":\"#EBF0F8\"},\"line\":{\"color\":\"white\"}},\"header\":{\"fill\":{\"color\":\"#C8D4E3\"},\"line\":{\"color\":\"white\"}},\"type\":\"table\"}]},\"layout\":{\"annotationdefaults\":{\"arrowcolor\":\"#2a3f5f\",\"arrowhead\":0,\"arrowwidth\":1},\"autotypenumbers\":\"strict\",\"coloraxis\":{\"colorbar\":{\"outlinewidth\":0,\"ticks\":\"\"}},\"colorscale\":{\"diverging\":[[0,\"#8e0152\"],[0.1,\"#c51b7d\"],[0.2,\"#de77ae\"],[0.3,\"#f1b6da\"],[0.4,\"#fde0ef\"],[0.5,\"#f7f7f7\"],[0.6,\"#e6f5d0\"],[0.7,\"#b8e186\"],[0.8,\"#7fbc41\"],[0.9,\"#4d9221\"],[1,\"#276419\"]],\"sequential\":[[0.0,\"#0d0887\"],[0.1111111111111111,\"#46039f\"],[0.2222222222222222,\"#7201a8\"],[0.3333333333333333,\"#9c179e\"],[0.4444444444444444,\"#bd3786\"],[0.5555555555555556,\"#d8576b\"],[0.6666666666666666,\"#ed7953\"],[0.7777777777777778,\"#fb9f3a\"],[0.8888888888888888,\"#fdca26\"],[1.0,\"#f0f921\"]],\"sequentialminus\":[[0.0,\"#0d0887\"],[0.1111111111111111,\"#46039f\"],[0.2222222222222222,\"#7201a8\"],[0.3333333333333333,\"#9c179e\"],[0.4444444444444444,\"#bd3786\"],[0.5555555555555556,\"#d8576b\"],[0.6666666666666666,\"#ed7953\"],[0.7777777777777778,\"#fb9f3a\"],[0.8888888888888888,\"#fdca26\"],[1.0,\"#f0f921\"]]},\"colorway\":[\"#636efa\",\"#EF553B\",\"#00cc96\",\"#ab63fa\",\"#FFA15A\",\"#19d3f3\",\"#FF6692\",\"#B6E880\",\"#FF97FF\",\"#FECB52\"],\"font\":{\"color\":\"#2a3f5f\"},\"geo\":{\"bgcolor\":\"white\",\"lakecolor\":\"white\",\"landcolor\":\"#E5ECF6\",\"showlakes\":true,\"showland\":true,\"subunitcolor\":\"white\"},\"hoverlabel\":{\"align\":\"left\"},\"hovermode\":\"closest\",\"mapbox\":{\"style\":\"light\"},\"paper_bgcolor\":\"white\",\"plot_bgcolor\":\"#E5ECF6\",\"polar\":{\"angularaxis\":{\"gridcolor\":\"white\",\"linecolor\":\"white\",\"ticks\":\"\"},\"bgcolor\":\"#E5ECF6\",\"radialaxis\":{\"gridcolor\":\"white\",\"linecolor\":\"white\",\"ticks\":\"\"}},\"scene\":{\"xaxis\":{\"backgroundcolor\":\"#E5ECF6\",\"gridcolor\":\"white\",\"gridwidth\":2,\"linecolor\":\"white\",\"showbackground\":true,\"ticks\":\"\",\"zerolinecolor\":\"white\"},\"yaxis\":{\"backgroundcolor\":\"#E5ECF6\",\"gridcolor\":\"white\",\"gridwidth\":2,\"linecolor\":\"white\",\"showbackground\":true,\"ticks\":\"\",\"zerolinecolor\":\"white\"},\"zaxis\":{\"backgroundcolor\":\"#E5ECF6\",\"gridcolor\":\"white\",\"gridwidth\":2,\"linecolor\":\"white\",\"showbackground\":true,\"ticks\":\"\",\"zerolinecolor\":\"white\"}},\"shapedefaults\":{\"line\":{\"color\":\"#2a3f5f\"}},\"ternary\":{\"aaxis\":{\"gridcolor\":\"white\",\"linecolor\":\"white\",\"ticks\":\"\"},\"baxis\":{\"gridcolor\":\"white\",\"linecolor\":\"white\",\"ticks\":\"\"},\"bgcolor\":\"#E5ECF6\",\"caxis\":{\"gridcolor\":\"white\",\"linecolor\":\"white\",\"ticks\":\"\"}},\"title\":{\"x\":0.05},\"xaxis\":{\"automargin\":true,\"gridcolor\":\"white\",\"linecolor\":\"white\",\"ticks\":\"\",\"title\":{\"standoff\":15},\"zerolinecolor\":\"white\",\"zerolinewidth\":2},\"yaxis\":{\"automargin\":true,\"gridcolor\":\"white\",\"linecolor\":\"white\",\"ticks\":\"\",\"title\":{\"standoff\":15},\"zerolinecolor\":\"white\",\"zerolinewidth\":2}}},\"title\":{\"text\":\"Map 3. Number of WPI International Students from Each Country by Year (1876-1943)\"},\"updatemenus\":[{\"buttons\":[{\"args\":[null,{\"frame\":{\"duration\":1500,\"redraw\":true},\"fromcurrent\":true,\"mode\":\"immediate\",\"transition\":{\"duration\":1500,\"easing\":\"linear\"}}],\"label\":\"&#9654;\",\"method\":\"animate\"},{\"args\":[[null],{\"frame\":{\"duration\":0,\"redraw\":true},\"fromcurrent\":true,\"mode\":\"immediate\",\"transition\":{\"duration\":0,\"easing\":\"linear\"}}],\"label\":\"&#9724;\",\"method\":\"animate\"}],\"direction\":\"left\",\"pad\":{\"r\":10,\"t\":70},\"showactive\":false,\"type\":\"buttons\",\"x\":0.1,\"xanchor\":\"right\",\"y\":0,\"yanchor\":\"top\"}]},                        {\"responsive\": true}                    ).then(function(){\n",
       "                            Plotly.addFrames('d1311243-9550-4304-868e-46482e0dfa31', [{\"data\":[{\"customdata\":[[2,\"1876\"]],\"geo\":\"geo\",\"hovertemplate\":\"<b>%{hovertext}</b><br><br>Class of=%{customdata[1]}<br>Number from Country=%{customdata[0]}<br>Latitude=%{lat}<br>Longitude=%{lon}<extra></extra>\",\"hovertext\":[\"Japan\"],\"lat\":[\"36.204824\"],\"legendgroup\":\"1876\",\"lon\":[\"138.252924\"],\"marker\":{\"color\":\"#636efa\",\"size\":[2],\"sizemode\":\"area\",\"sizeref\":0.0125,\"symbol\":\"circle\"},\"mode\":\"markers\",\"name\":\"1876\",\"showlegend\":true,\"type\":\"scattergeo\"}],\"name\":\"1876\"},{\"data\":[{\"customdata\":[[1,\"1877\"],[1,\"1877\"]],\"geo\":\"geo\",\"hovertemplate\":\"<b>%{hovertext}</b><br><br>Class of=%{customdata[1]}<br>Number from Country=%{customdata[0]}<br>Latitude=%{lat}<br>Longitude=%{lon}<extra></extra>\",\"hovertext\":[\"Canada\",\"Japan\"],\"lat\":[\"56.130366\",\"36.204824\"],\"legendgroup\":\"1877\",\"lon\":[\"-106.346771\",\"138.252924\"],\"marker\":{\"color\":\"#EF553B\",\"size\":[1,1],\"sizemode\":\"area\",\"sizeref\":0.0125,\"symbol\":\"circle\"},\"mode\":\"markers\",\"name\":\"1877\",\"showlegend\":true,\"type\":\"scattergeo\"}],\"name\":\"1877\"},{\"data\":[{\"customdata\":[[1,\"1878\"],[2,\"1878\"]],\"geo\":\"geo\",\"hovertemplate\":\"<b>%{hovertext}</b><br><br>Class of=%{customdata[1]}<br>Number from Country=%{customdata[0]}<br>Latitude=%{lat}<br>Longitude=%{lon}<extra></extra>\",\"hovertext\":[\"Canada\",\"Brazil\"],\"lat\":[\"56.130366\",\"-14.235004\"],\"legendgroup\":\"1878\",\"lon\":[\"-106.346771\",\"-51.92528\"],\"marker\":{\"color\":\"#00cc96\",\"size\":[1,2],\"sizemode\":\"area\",\"sizeref\":0.0125,\"symbol\":\"circle\"},\"mode\":\"markers\",\"name\":\"1878\",\"showlegend\":true,\"type\":\"scattergeo\"}],\"name\":\"1878\"},{\"data\":[{\"customdata\":[[2,\"1879\"]],\"geo\":\"geo\",\"hovertemplate\":\"<b>%{hovertext}</b><br><br>Class of=%{customdata[1]}<br>Number from Country=%{customdata[0]}<br>Latitude=%{lat}<br>Longitude=%{lon}<extra></extra>\",\"hovertext\":[\"Brazil\"],\"lat\":[\"-14.235004\"],\"legendgroup\":\"1879\",\"lon\":[\"-51.92528\"],\"marker\":{\"color\":\"#ab63fa\",\"size\":[2],\"sizemode\":\"area\",\"sizeref\":0.0125,\"symbol\":\"circle\"},\"mode\":\"markers\",\"name\":\"1879\",\"showlegend\":true,\"type\":\"scattergeo\"}],\"name\":\"1879\"},{\"data\":[{\"customdata\":[[1,\"1880\"]],\"geo\":\"geo\",\"hovertemplate\":\"<b>%{hovertext}</b><br><br>Class of=%{customdata[1]}<br>Number from Country=%{customdata[0]}<br>Latitude=%{lat}<br>Longitude=%{lon}<extra></extra>\",\"hovertext\":[\"Germany\"],\"lat\":[\"51.165691\"],\"legendgroup\":\"1880\",\"lon\":[\"10.451526\"],\"marker\":{\"color\":\"#FFA15A\",\"size\":[1],\"sizemode\":\"area\",\"sizeref\":0.0125,\"symbol\":\"circle\"},\"mode\":\"markers\",\"name\":\"1880\",\"showlegend\":true,\"type\":\"scattergeo\"}],\"name\":\"1880\"},{\"data\":[{\"customdata\":[[1,\"1882\"]],\"geo\":\"geo\",\"hovertemplate\":\"<b>%{hovertext}</b><br><br>Class of=%{customdata[1]}<br>Number from Country=%{customdata[0]}<br>Latitude=%{lat}<br>Longitude=%{lon}<extra></extra>\",\"hovertext\":[\"Brazil\"],\"lat\":[\"-14.235004\"],\"legendgroup\":\"1882\",\"lon\":[\"-51.92528\"],\"marker\":{\"color\":\"#19d3f3\",\"size\":[1],\"sizemode\":\"area\",\"sizeref\":0.0125,\"symbol\":\"circle\"},\"mode\":\"markers\",\"name\":\"1882\",\"showlegend\":true,\"type\":\"scattergeo\"}],\"name\":\"1882\"},{\"data\":[{\"customdata\":[[1,\"1883\"]],\"geo\":\"geo\",\"hovertemplate\":\"<b>%{hovertext}</b><br><br>Class of=%{customdata[1]}<br>Number from Country=%{customdata[0]}<br>Latitude=%{lat}<br>Longitude=%{lon}<extra></extra>\",\"hovertext\":[\"Chile\"],\"lat\":[\"-35.675147\"],\"legendgroup\":\"1883\",\"lon\":[\"-71.542969\"],\"marker\":{\"color\":\"#FF6692\",\"size\":[1],\"sizemode\":\"area\",\"sizeref\":0.0125,\"symbol\":\"circle\"},\"mode\":\"markers\",\"name\":\"1883\",\"showlegend\":true,\"type\":\"scattergeo\"}],\"name\":\"1883\"},{\"data\":[{\"customdata\":[[1,\"1884\"],[1,\"1884\"]],\"geo\":\"geo\",\"hovertemplate\":\"<b>%{hovertext}</b><br><br>Class of=%{customdata[1]}<br>Number from Country=%{customdata[0]}<br>Latitude=%{lat}<br>Longitude=%{lon}<extra></extra>\",\"hovertext\":[\"Canada\",\"China\"],\"lat\":[\"56.130366\",\"35.86166\"],\"legendgroup\":\"1884\",\"lon\":[\"-106.346771\",\"104.195397\"],\"marker\":{\"color\":\"#B6E880\",\"size\":[1,1],\"sizemode\":\"area\",\"sizeref\":0.0125,\"symbol\":\"circle\"},\"mode\":\"markers\",\"name\":\"1884\",\"showlegend\":true,\"type\":\"scattergeo\"}],\"name\":\"1884\"},{\"data\":[{\"customdata\":[[1,\"1885\"]],\"geo\":\"geo\",\"hovertemplate\":\"<b>%{hovertext}</b><br><br>Class of=%{customdata[1]}<br>Number from Country=%{customdata[0]}<br>Latitude=%{lat}<br>Longitude=%{lon}<extra></extra>\",\"hovertext\":[\"Brazil\"],\"lat\":[\"-14.235004\"],\"legendgroup\":\"1885\",\"lon\":[\"-51.92528\"],\"marker\":{\"color\":\"#FF97FF\",\"size\":[1],\"sizemode\":\"area\",\"sizeref\":0.0125,\"symbol\":\"circle\"},\"mode\":\"markers\",\"name\":\"1885\",\"showlegend\":true,\"type\":\"scattergeo\"}],\"name\":\"1885\"},{\"data\":[{\"customdata\":[[1,\"1887\"],[1,\"1887\"]],\"geo\":\"geo\",\"hovertemplate\":\"<b>%{hovertext}</b><br><br>Class of=%{customdata[1]}<br>Number from Country=%{customdata[0]}<br>Latitude=%{lat}<br>Longitude=%{lon}<extra></extra>\",\"hovertext\":[\"China\",\"Guatemala\"],\"lat\":[\"35.86166\",\"15.783471\"],\"legendgroup\":\"1887\",\"lon\":[\"104.195397\",\"-90.230759\"],\"marker\":{\"color\":\"#FECB52\",\"size\":[1,1],\"sizemode\":\"area\",\"sizeref\":0.0125,\"symbol\":\"circle\"},\"mode\":\"markers\",\"name\":\"1887\",\"showlegend\":true,\"type\":\"scattergeo\"}],\"name\":\"1887\"},{\"data\":[{\"customdata\":[[1,\"1888\"],[1,\"1888\"],[1,\"1888\"],[2,\"1888\"]],\"geo\":\"geo\",\"hovertemplate\":\"<b>%{hovertext}</b><br><br>Class of=%{customdata[1]}<br>Number from Country=%{customdata[0]}<br>Latitude=%{lat}<br>Longitude=%{lon}<extra></extra>\",\"hovertext\":[\"Japan\",\"Brazil\",\"Belgium\",\"Canada\"],\"lat\":[\"36.204824\",\"-14.235004\",\"50.503887\",\"56.130366\"],\"legendgroup\":\"1888\",\"lon\":[\"138.252924\",\"-51.92528\",\"4.469936\",\"-106.346771\"],\"marker\":{\"color\":\"#636efa\",\"size\":[1,1,1,2],\"sizemode\":\"area\",\"sizeref\":0.0125,\"symbol\":\"circle\"},\"mode\":\"markers\",\"name\":\"1888\",\"showlegend\":true,\"type\":\"scattergeo\"}],\"name\":\"1888\"},{\"data\":[{\"customdata\":[[1,\"1889\"]],\"geo\":\"geo\",\"hovertemplate\":\"<b>%{hovertext}</b><br><br>Class of=%{customdata[1]}<br>Number from Country=%{customdata[0]}<br>Latitude=%{lat}<br>Longitude=%{lon}<extra></extra>\",\"hovertext\":[\"Brazil\"],\"lat\":[\"-14.235004\"],\"legendgroup\":\"1889\",\"lon\":[\"-51.92528\"],\"marker\":{\"color\":\"#EF553B\",\"size\":[1],\"sizemode\":\"area\",\"sizeref\":0.0125,\"symbol\":\"circle\"},\"mode\":\"markers\",\"name\":\"1889\",\"showlegend\":true,\"type\":\"scattergeo\"}],\"name\":\"1889\"},{\"data\":[{\"customdata\":[[1,\"1891\"]],\"geo\":\"geo\",\"hovertemplate\":\"<b>%{hovertext}</b><br><br>Class of=%{customdata[1]}<br>Number from Country=%{customdata[0]}<br>Latitude=%{lat}<br>Longitude=%{lon}<extra></extra>\",\"hovertext\":[\"Canada\"],\"lat\":[\"56.130366\"],\"legendgroup\":\"1891\",\"lon\":[\"-106.346771\"],\"marker\":{\"color\":\"#00cc96\",\"size\":[1],\"sizemode\":\"area\",\"sizeref\":0.0125,\"symbol\":\"circle\"},\"mode\":\"markers\",\"name\":\"1891\",\"showlegend\":true,\"type\":\"scattergeo\"}],\"name\":\"1891\"},{\"data\":[{\"customdata\":[[1,\"1893\"]],\"geo\":\"geo\",\"hovertemplate\":\"<b>%{hovertext}</b><br><br>Class of=%{customdata[1]}<br>Number from Country=%{customdata[0]}<br>Latitude=%{lat}<br>Longitude=%{lon}<extra></extra>\",\"hovertext\":[\"Japan\"],\"lat\":[\"36.204824\"],\"legendgroup\":\"1893\",\"lon\":[\"138.252924\"],\"marker\":{\"color\":\"#ab63fa\",\"size\":[1],\"sizemode\":\"area\",\"sizeref\":0.0125,\"symbol\":\"circle\"},\"mode\":\"markers\",\"name\":\"1893\",\"showlegend\":true,\"type\":\"scattergeo\"}],\"name\":\"1893\"},{\"data\":[{\"customdata\":[[1,\"1894\"],[4,\"1894\"]],\"geo\":\"geo\",\"hovertemplate\":\"<b>%{hovertext}</b><br><br>Class of=%{customdata[1]}<br>Number from Country=%{customdata[0]}<br>Latitude=%{lat}<br>Longitude=%{lon}<extra></extra>\",\"hovertext\":[\"Brazil\",\"Canada\"],\"lat\":[\"-14.235004\",\"56.130366\"],\"legendgroup\":\"1894\",\"lon\":[\"-51.92528\",\"-106.346771\"],\"marker\":{\"color\":\"#FFA15A\",\"size\":[1,4],\"sizemode\":\"area\",\"sizeref\":0.0125,\"symbol\":\"circle\"},\"mode\":\"markers\",\"name\":\"1894\",\"showlegend\":true,\"type\":\"scattergeo\"}],\"name\":\"1894\"},{\"data\":[{\"customdata\":[[1,\"1895\"]],\"geo\":\"geo\",\"hovertemplate\":\"<b>%{hovertext}</b><br><br>Class of=%{customdata[1]}<br>Number from Country=%{customdata[0]}<br>Latitude=%{lat}<br>Longitude=%{lon}<extra></extra>\",\"hovertext\":[\"Canada\"],\"lat\":[\"56.130366\"],\"legendgroup\":\"1895\",\"lon\":[\"-106.346771\"],\"marker\":{\"color\":\"#19d3f3\",\"size\":[1],\"sizemode\":\"area\",\"sizeref\":0.0125,\"symbol\":\"circle\"},\"mode\":\"markers\",\"name\":\"1895\",\"showlegend\":true,\"type\":\"scattergeo\"}],\"name\":\"1895\"},{\"data\":[{\"customdata\":[[1,\"1896\"],[1,\"1896\"],[1,\"1896\"]],\"geo\":\"geo\",\"hovertemplate\":\"<b>%{hovertext}</b><br><br>Class of=%{customdata[1]}<br>Number from Country=%{customdata[0]}<br>Latitude=%{lat}<br>Longitude=%{lon}<extra></extra>\",\"hovertext\":[\"Canada\",\"Mexico\",\"Cuba\"],\"lat\":[\"56.130366\",\"23.634501\",\"21.521757\"],\"legendgroup\":\"1896\",\"lon\":[\"-106.346771\",\"-102.552784\",\"-77.781167\"],\"marker\":{\"color\":\"#FF6692\",\"size\":[1,1,1],\"sizemode\":\"area\",\"sizeref\":0.0125,\"symbol\":\"circle\"},\"mode\":\"markers\",\"name\":\"1896\",\"showlegend\":true,\"type\":\"scattergeo\"}],\"name\":\"1896\"},{\"data\":[{\"customdata\":[[1,\"1897\"]],\"geo\":\"geo\",\"hovertemplate\":\"<b>%{hovertext}</b><br><br>Class of=%{customdata[1]}<br>Number from Country=%{customdata[0]}<br>Latitude=%{lat}<br>Longitude=%{lon}<extra></extra>\",\"hovertext\":[\"Canada\"],\"lat\":[\"56.130366\"],\"legendgroup\":\"1897\",\"lon\":[\"-106.346771\"],\"marker\":{\"color\":\"#B6E880\",\"size\":[1],\"sizemode\":\"area\",\"sizeref\":0.0125,\"symbol\":\"circle\"},\"mode\":\"markers\",\"name\":\"1897\",\"showlegend\":true,\"type\":\"scattergeo\"}],\"name\":\"1897\"},{\"data\":[{\"customdata\":[[1,\"1899\"]],\"geo\":\"geo\",\"hovertemplate\":\"<b>%{hovertext}</b><br><br>Class of=%{customdata[1]}<br>Number from Country=%{customdata[0]}<br>Latitude=%{lat}<br>Longitude=%{lon}<extra></extra>\",\"hovertext\":[\"Puerto Rico\"],\"lat\":[\"18.220833\"],\"legendgroup\":\"1899\",\"lon\":[\"-66.590149\"],\"marker\":{\"color\":\"#FF97FF\",\"size\":[1],\"sizemode\":\"area\",\"sizeref\":0.0125,\"symbol\":\"circle\"},\"mode\":\"markers\",\"name\":\"1899\",\"showlegend\":true,\"type\":\"scattergeo\"}],\"name\":\"1899\"},{\"data\":[{\"customdata\":[[1,\"1900\"],[1,\"1900\"],[1,\"1900\"],[1,\"1900\"]],\"geo\":\"geo\",\"hovertemplate\":\"<b>%{hovertext}</b><br><br>Class of=%{customdata[1]}<br>Number from Country=%{customdata[0]}<br>Latitude=%{lat}<br>Longitude=%{lon}<extra></extra>\",\"hovertext\":[\"United Kingdom\",\"Armenia\",\"Canada\",\"Guatemala\"],\"lat\":[\"55.378051\",\"40.069099\",\"56.130366\",\"15.783471\"],\"legendgroup\":\"1900\",\"lon\":[\"-3.435973\",\"45.038189\",\"-106.346771\",\"-90.230759\"],\"marker\":{\"color\":\"#FECB52\",\"size\":[1,1,1,1],\"sizemode\":\"area\",\"sizeref\":0.0125,\"symbol\":\"circle\"},\"mode\":\"markers\",\"name\":\"1900\",\"showlegend\":true,\"type\":\"scattergeo\"}],\"name\":\"1900\"},{\"data\":[{\"customdata\":[[1,\"1901\"]],\"geo\":\"geo\",\"hovertemplate\":\"<b>%{hovertext}</b><br><br>Class of=%{customdata[1]}<br>Number from Country=%{customdata[0]}<br>Latitude=%{lat}<br>Longitude=%{lon}<extra></extra>\",\"hovertext\":[\"Japan\"],\"lat\":[\"36.204824\"],\"legendgroup\":\"1901\",\"lon\":[\"138.252924\"],\"marker\":{\"color\":\"#636efa\",\"size\":[1],\"sizemode\":\"area\",\"sizeref\":0.0125,\"symbol\":\"circle\"},\"mode\":\"markers\",\"name\":\"1901\",\"showlegend\":true,\"type\":\"scattergeo\"}],\"name\":\"1901\"},{\"data\":[{\"customdata\":[[1,\"1903\"]],\"geo\":\"geo\",\"hovertemplate\":\"<b>%{hovertext}</b><br><br>Class of=%{customdata[1]}<br>Number from Country=%{customdata[0]}<br>Latitude=%{lat}<br>Longitude=%{lon}<extra></extra>\",\"hovertext\":[\"Brazil\"],\"lat\":[\"-14.235004\"],\"legendgroup\":\"1903\",\"lon\":[\"-51.92528\"],\"marker\":{\"color\":\"#EF553B\",\"size\":[1],\"sizemode\":\"area\",\"sizeref\":0.0125,\"symbol\":\"circle\"},\"mode\":\"markers\",\"name\":\"1903\",\"showlegend\":true,\"type\":\"scattergeo\"}],\"name\":\"1903\"},{\"data\":[{\"customdata\":[[1,\"1904\"]],\"geo\":\"geo\",\"hovertemplate\":\"<b>%{hovertext}</b><br><br>Class of=%{customdata[1]}<br>Number from Country=%{customdata[0]}<br>Latitude=%{lat}<br>Longitude=%{lon}<extra></extra>\",\"hovertext\":[\"Canada\"],\"lat\":[\"56.130366\"],\"legendgroup\":\"1904\",\"lon\":[\"-106.346771\"],\"marker\":{\"color\":\"#00cc96\",\"size\":[1],\"sizemode\":\"area\",\"sizeref\":0.0125,\"symbol\":\"circle\"},\"mode\":\"markers\",\"name\":\"1904\",\"showlegend\":true,\"type\":\"scattergeo\"}],\"name\":\"1904\"},{\"data\":[{\"customdata\":[[1,\"1905\"],[1,\"1905\"],[1,\"1905\"]],\"geo\":\"geo\",\"hovertemplate\":\"<b>%{hovertext}</b><br><br>Class of=%{customdata[1]}<br>Number from Country=%{customdata[0]}<br>Latitude=%{lat}<br>Longitude=%{lon}<extra></extra>\",\"hovertext\":[\"Mexico\",\"Australia\",\"Canada\"],\"lat\":[\"23.634501\",\"-25.274398\",\"56.130366\"],\"legendgroup\":\"1905\",\"lon\":[\"-102.552784\",\"133.775136\",\"-106.346771\"],\"marker\":{\"color\":\"#ab63fa\",\"size\":[1,1,1],\"sizemode\":\"area\",\"sizeref\":0.0125,\"symbol\":\"circle\"},\"mode\":\"markers\",\"name\":\"1905\",\"showlegend\":true,\"type\":\"scattergeo\"}],\"name\":\"1905\"},{\"data\":[{\"customdata\":[[1,\"1906\"],[1,\"1906\"],[2,\"1906\"],[1,\"1906\"],[1,\"1906\"]],\"geo\":\"geo\",\"hovertemplate\":\"<b>%{hovertext}</b><br><br>Class of=%{customdata[1]}<br>Number from Country=%{customdata[0]}<br>Latitude=%{lat}<br>Longitude=%{lon}<extra></extra>\",\"hovertext\":[\"Cuba\",\"Sweden\",\"Australia\",\"Puerto Rico\",\"Ireland\"],\"lat\":[\"21.521757\",\"60.128161\",\"-25.274398\",\"18.220833\",\"53.41291\"],\"legendgroup\":\"1906\",\"lon\":[\"-77.781167\",\"18.643501\",\"133.775136\",\"-66.590149\",\"-8.24389\"],\"marker\":{\"color\":\"#FFA15A\",\"size\":[1,1,2,1,1],\"sizemode\":\"area\",\"sizeref\":0.0125,\"symbol\":\"circle\"},\"mode\":\"markers\",\"name\":\"1906\",\"showlegend\":true,\"type\":\"scattergeo\"}],\"name\":\"1906\"},{\"data\":[{\"customdata\":[[2,\"1907\"],[1,\"1907\"],[1,\"1907\"]],\"geo\":\"geo\",\"hovertemplate\":\"<b>%{hovertext}</b><br><br>Class of=%{customdata[1]}<br>Number from Country=%{customdata[0]}<br>Latitude=%{lat}<br>Longitude=%{lon}<extra></extra>\",\"hovertext\":[\"Australia\",\"Cuba\",\"Mexico\"],\"lat\":[\"-25.274398\",\"21.521757\",\"23.634501\"],\"legendgroup\":\"1907\",\"lon\":[\"133.775136\",\"-77.781167\",\"-102.552784\"],\"marker\":{\"color\":\"#19d3f3\",\"size\":[2,1,1],\"sizemode\":\"area\",\"sizeref\":0.0125,\"symbol\":\"circle\"},\"mode\":\"markers\",\"name\":\"1907\",\"showlegend\":true,\"type\":\"scattergeo\"}],\"name\":\"1907\"},{\"data\":[{\"customdata\":[[1,\"1908\"]],\"geo\":\"geo\",\"hovertemplate\":\"<b>%{hovertext}</b><br><br>Class of=%{customdata[1]}<br>Number from Country=%{customdata[0]}<br>Latitude=%{lat}<br>Longitude=%{lon}<extra></extra>\",\"hovertext\":[\"Australia\"],\"lat\":[\"-25.274398\"],\"legendgroup\":\"1908\",\"lon\":[\"133.775136\"],\"marker\":{\"color\":\"#FF6692\",\"size\":[1],\"sizemode\":\"area\",\"sizeref\":0.0125,\"symbol\":\"circle\"},\"mode\":\"markers\",\"name\":\"1908\",\"showlegend\":true,\"type\":\"scattergeo\"}],\"name\":\"1908\"},{\"data\":[{\"customdata\":[[1,\"1909\"],[1,\"1909\"],[2,\"1909\"],[1,\"1909\"],[1,\"1909\"]],\"geo\":\"geo\",\"hovertemplate\":\"<b>%{hovertext}</b><br><br>Class of=%{customdata[1]}<br>Number from Country=%{customdata[0]}<br>Latitude=%{lat}<br>Longitude=%{lon}<extra></extra>\",\"hovertext\":[\"Ireland\",\"Cuba\",\"Canada\",\"Mexico\",\"Japan\"],\"lat\":[\"53.41291\",\"21.521757\",\"56.130366\",\"23.634501\",\"36.204824\"],\"legendgroup\":\"1909\",\"lon\":[\"-8.24389\",\"-77.781167\",\"-106.346771\",\"-102.552784\",\"138.252924\"],\"marker\":{\"color\":\"#B6E880\",\"size\":[1,1,2,1,1],\"sizemode\":\"area\",\"sizeref\":0.0125,\"symbol\":\"circle\"},\"mode\":\"markers\",\"name\":\"1909\",\"showlegend\":true,\"type\":\"scattergeo\"}],\"name\":\"1909\"},{\"data\":[{\"customdata\":[[1,\"1910\"],[1,\"1910\"],[1,\"1910\"]],\"geo\":\"geo\",\"hovertemplate\":\"<b>%{hovertext}</b><br><br>Class of=%{customdata[1]}<br>Number from Country=%{customdata[0]}<br>Latitude=%{lat}<br>Longitude=%{lon}<extra></extra>\",\"hovertext\":[\"United Kingdom\",\"Brazil\",\"China\"],\"lat\":[\"55.378051\",\"-14.235004\",\"nan\"],\"legendgroup\":\"1910\",\"lon\":[\"-3.435973\",\"-51.92528\",\"nan\"],\"marker\":{\"color\":\"#FF97FF\",\"size\":[1,1,1],\"sizemode\":\"area\",\"sizeref\":0.0125,\"symbol\":\"circle\"},\"mode\":\"markers\",\"name\":\"1910\",\"showlegend\":true,\"type\":\"scattergeo\"}],\"name\":\"1910\"},{\"data\":[{\"customdata\":[[1,\"1911\"],[2,\"1911\"],[1,\"1911\"],[1,\"1911\"]],\"geo\":\"geo\",\"hovertemplate\":\"<b>%{hovertext}</b><br><br>Class of=%{customdata[1]}<br>Number from Country=%{customdata[0]}<br>Latitude=%{lat}<br>Longitude=%{lon}<extra></extra>\",\"hovertext\":[\"China\",\"Puerto Rico\",\"Turkey\",\"Canada\"],\"lat\":[\"35.86166\",\"18.220833\",\"38.963745\",\"56.130366\"],\"legendgroup\":\"1911\",\"lon\":[\"104.195397\",\"-66.590149\",\"35.243322\",\"-106.346771\"],\"marker\":{\"color\":\"#FECB52\",\"size\":[1,2,1,1],\"sizemode\":\"area\",\"sizeref\":0.0125,\"symbol\":\"circle\"},\"mode\":\"markers\",\"name\":\"1911\",\"showlegend\":true,\"type\":\"scattergeo\"}],\"name\":\"1911\"},{\"data\":[{\"customdata\":[[1,\"1912\"],[1,\"1912\"]],\"geo\":\"geo\",\"hovertemplate\":\"<b>%{hovertext}</b><br><br>Class of=%{customdata[1]}<br>Number from Country=%{customdata[0]}<br>Latitude=%{lat}<br>Longitude=%{lon}<extra></extra>\",\"hovertext\":[\"Argentina\",\"Puerto Rico\"],\"lat\":[\"-38.416097\",\"18.220833\"],\"legendgroup\":\"1912\",\"lon\":[\"-63.616672\",\"-66.590149\"],\"marker\":{\"color\":\"#636efa\",\"size\":[1,1],\"sizemode\":\"area\",\"sizeref\":0.0125,\"symbol\":\"circle\"},\"mode\":\"markers\",\"name\":\"1912\",\"showlegend\":true,\"type\":\"scattergeo\"}],\"name\":\"1912\"},{\"data\":[{\"customdata\":[[1,\"1913\"],[1,\"1913\"]],\"geo\":\"geo\",\"hovertemplate\":\"<b>%{hovertext}</b><br><br>Class of=%{customdata[1]}<br>Number from Country=%{customdata[0]}<br>Latitude=%{lat}<br>Longitude=%{lon}<extra></extra>\",\"hovertext\":[\"Italy\",\"Canada\"],\"lat\":[\"41.87194\",\"56.130366\"],\"legendgroup\":\"1913\",\"lon\":[\"12.56738\",\"-106.346771\"],\"marker\":{\"color\":\"#EF553B\",\"size\":[1,1],\"sizemode\":\"area\",\"sizeref\":0.0125,\"symbol\":\"circle\"},\"mode\":\"markers\",\"name\":\"1913\",\"showlegend\":true,\"type\":\"scattergeo\"}],\"name\":\"1913\"},{\"data\":[{\"customdata\":[[1,\"1914\"],[1,\"1914\"],[4,\"1914\"]],\"geo\":\"geo\",\"hovertemplate\":\"<b>%{hovertext}</b><br><br>Class of=%{customdata[1]}<br>Number from Country=%{customdata[0]}<br>Latitude=%{lat}<br>Longitude=%{lon}<extra></extra>\",\"hovertext\":[\"Syria\",\"Puerto Rico\",\"China\"],\"lat\":[\"34.802075\",\"18.220833\",\"35.86166\"],\"legendgroup\":\"1914\",\"lon\":[\"38.996815\",\"-66.590149\",\"104.195397\"],\"marker\":{\"color\":\"#00cc96\",\"size\":[1,1,4],\"sizemode\":\"area\",\"sizeref\":0.0125,\"symbol\":\"circle\"},\"mode\":\"markers\",\"name\":\"1914\",\"showlegend\":true,\"type\":\"scattergeo\"}],\"name\":\"1914\"},{\"data\":[{\"customdata\":[[1,\"1915\"],[1,\"1915\"]],\"geo\":\"geo\",\"hovertemplate\":\"<b>%{hovertext}</b><br><br>Class of=%{customdata[1]}<br>Number from Country=%{customdata[0]}<br>Latitude=%{lat}<br>Longitude=%{lon}<extra></extra>\",\"hovertext\":[\"Canada\",\"Puerto Rico\"],\"lat\":[\"56.130366\",\"18.220833\"],\"legendgroup\":\"1915\",\"lon\":[\"-106.346771\",\"-66.590149\"],\"marker\":{\"color\":\"#ab63fa\",\"size\":[1,1],\"sizemode\":\"area\",\"sizeref\":0.0125,\"symbol\":\"circle\"},\"mode\":\"markers\",\"name\":\"1915\",\"showlegend\":true,\"type\":\"scattergeo\"}],\"name\":\"1915\"},{\"data\":[{\"customdata\":[[1,\"1916\"],[1,\"1916\"],[2,\"1916\"]],\"geo\":\"geo\",\"hovertemplate\":\"<b>%{hovertext}</b><br><br>Class of=%{customdata[1]}<br>Number from Country=%{customdata[0]}<br>Latitude=%{lat}<br>Longitude=%{lon}<extra></extra>\",\"hovertext\":[\"Cuba\",\"Brazil\",\"China\"],\"lat\":[\"21.521757\",\"-14.235004\",\"35.86166\"],\"legendgroup\":\"1916\",\"lon\":[\"-77.781167\",\"-51.92528\",\"104.195397\"],\"marker\":{\"color\":\"#FFA15A\",\"size\":[1,1,2],\"sizemode\":\"area\",\"sizeref\":0.0125,\"symbol\":\"circle\"},\"mode\":\"markers\",\"name\":\"1916\",\"showlegend\":true,\"type\":\"scattergeo\"}],\"name\":\"1916\"},{\"data\":[{\"customdata\":[[1,\"1917\"],[1,\"1917\"],[1,\"1917\"],[2,\"1917\"],[1,\"1917\"]],\"geo\":\"geo\",\"hovertemplate\":\"<b>%{hovertext}</b><br><br>Class of=%{customdata[1]}<br>Number from Country=%{customdata[0]}<br>Latitude=%{lat}<br>Longitude=%{lon}<extra></extra>\",\"hovertext\":[\"Costa Rica\",\"Armenia\",\"Turkey\",\"China\",\"Myanmar\"],\"lat\":[\"9.748917\",\"40.069099\",\"38.963745\",\"35.86166\",\"21.913965\"],\"legendgroup\":\"1917\",\"lon\":[\"-83.753428\",\"45.038189\",\"35.243322\",\"104.195397\",\"95.956223\"],\"marker\":{\"color\":\"#19d3f3\",\"size\":[1,1,1,2,1],\"sizemode\":\"area\",\"sizeref\":0.0125,\"symbol\":\"circle\"},\"mode\":\"markers\",\"name\":\"1917\",\"showlegend\":true,\"type\":\"scattergeo\"}],\"name\":\"1917\"},{\"data\":[{\"customdata\":[[3,\"1918\"],[1,\"1918\"],[1,\"1918\"],[1,\"1918\"]],\"geo\":\"geo\",\"hovertemplate\":\"<b>%{hovertext}</b><br><br>Class of=%{customdata[1]}<br>Number from Country=%{customdata[0]}<br>Latitude=%{lat}<br>Longitude=%{lon}<extra></extra>\",\"hovertext\":[\"China\",\"Cuba\",\"Panama\",\"Greece\"],\"lat\":[\"35.86166\",\"21.521757\",\"8.537981\",\"39.074208\"],\"legendgroup\":\"1918\",\"lon\":[\"104.195397\",\"-77.781167\",\"-80.782127\",\"21.824312\"],\"marker\":{\"color\":\"#FF6692\",\"size\":[3,1,1,1],\"sizemode\":\"area\",\"sizeref\":0.0125,\"symbol\":\"circle\"},\"mode\":\"markers\",\"name\":\"1918\",\"showlegend\":true,\"type\":\"scattergeo\"}],\"name\":\"1918\"},{\"data\":[{\"customdata\":[[1,\"1919\"]],\"geo\":\"geo\",\"hovertemplate\":\"<b>%{hovertext}</b><br><br>Class of=%{customdata[1]}<br>Number from Country=%{customdata[0]}<br>Latitude=%{lat}<br>Longitude=%{lon}<extra></extra>\",\"hovertext\":[\"China\"],\"lat\":[\"35.86166\"],\"legendgroup\":\"1919\",\"lon\":[\"104.195397\"],\"marker\":{\"color\":\"#B6E880\",\"size\":[1],\"sizemode\":\"area\",\"sizeref\":0.0125,\"symbol\":\"circle\"},\"mode\":\"markers\",\"name\":\"1919\",\"showlegend\":true,\"type\":\"scattergeo\"}],\"name\":\"1919\"},{\"data\":[{\"customdata\":[[5,\"1920\"],[1,\"1920\"]],\"geo\":\"geo\",\"hovertemplate\":\"<b>%{hovertext}</b><br><br>Class of=%{customdata[1]}<br>Number from Country=%{customdata[0]}<br>Latitude=%{lat}<br>Longitude=%{lon}<extra></extra>\",\"hovertext\":[\"China\",\"Syria\"],\"lat\":[\"35.86166\",\"34.802075\"],\"legendgroup\":\"1920\",\"lon\":[\"104.195397\",\"38.996815\"],\"marker\":{\"color\":\"#FF97FF\",\"size\":[5,1],\"sizemode\":\"area\",\"sizeref\":0.0125,\"symbol\":\"circle\"},\"mode\":\"markers\",\"name\":\"1920\",\"showlegend\":true,\"type\":\"scattergeo\"}],\"name\":\"1920\"},{\"data\":[{\"customdata\":[[1,\"1921\"],[1,\"1921\"],[1,\"1921\"],[1,\"1921\"],[2,\"1921\"],[1,\"1921\"],[1,\"1921\"]],\"geo\":\"geo\",\"hovertemplate\":\"<b>%{hovertext}</b><br><br>Class of=%{customdata[1]}<br>Number from Country=%{customdata[0]}<br>Latitude=%{lat}<br>Longitude=%{lon}<extra></extra>\",\"hovertext\":[\"Brazil\",\"China\",\"Germany\",\"France\",\"Chile\",\"Canada\",\"Sweden\"],\"lat\":[\"-14.235004\",\"35.86166\",\"51.165691\",\"46.227638\",\"-35.675147\",\"56.130366\",\"60.128161\"],\"legendgroup\":\"1921\",\"lon\":[\"-51.92528\",\"104.195397\",\"10.451526\",\"2.213749\",\"-71.542969\",\"-106.346771\",\"18.643501\"],\"marker\":{\"color\":\"#FECB52\",\"size\":[1,1,1,1,2,1,1],\"sizemode\":\"area\",\"sizeref\":0.0125,\"symbol\":\"circle\"},\"mode\":\"markers\",\"name\":\"1921\",\"showlegend\":true,\"type\":\"scattergeo\"}],\"name\":\"1921\"},{\"data\":[{\"customdata\":[[1,\"1922\"],[1,\"1922\"],[1,\"1922\"],[1,\"1922\"]],\"geo\":\"geo\",\"hovertemplate\":\"<b>%{hovertext}</b><br><br>Class of=%{customdata[1]}<br>Number from Country=%{customdata[0]}<br>Latitude=%{lat}<br>Longitude=%{lon}<extra></extra>\",\"hovertext\":[\"Canada\",\"China\",\"Colombia\",\"South Korea\"],\"lat\":[\"56.130366\",\"35.86166\",\"4.570868\",\"35.907757\"],\"legendgroup\":\"1922\",\"lon\":[\"-106.346771\",\"104.195397\",\"-74.297333\",\"127.766922\"],\"marker\":{\"color\":\"#636efa\",\"size\":[1,1,1,1],\"sizemode\":\"area\",\"sizeref\":0.0125,\"symbol\":\"circle\"},\"mode\":\"markers\",\"name\":\"1922\",\"showlegend\":true,\"type\":\"scattergeo\"}],\"name\":\"1922\"},{\"data\":[{\"customdata\":[[1,\"1923\"],[2,\"1923\"],[1,\"1923\"],[1,\"1923\"]],\"geo\":\"geo\",\"hovertemplate\":\"<b>%{hovertext}</b><br><br>Class of=%{customdata[1]}<br>Number from Country=%{customdata[0]}<br>Latitude=%{lat}<br>Longitude=%{lon}<extra></extra>\",\"hovertext\":[\"Indonesia\",\"China\",\"Italy\",\"Russia\"],\"lat\":[\"-0.789275\",\"35.86166\",\"41.87194\",\"61.52401\"],\"legendgroup\":\"1923\",\"lon\":[\"113.921327\",\"104.195397\",\"12.56738\",\"105.318756\"],\"marker\":{\"color\":\"#EF553B\",\"size\":[1,2,1,1],\"sizemode\":\"area\",\"sizeref\":0.0125,\"symbol\":\"circle\"},\"mode\":\"markers\",\"name\":\"1923\",\"showlegend\":true,\"type\":\"scattergeo\"}],\"name\":\"1923\"},{\"data\":[{\"customdata\":[[1,\"1924\"],[2,\"1924\"],[1,\"1924\"],[2,\"1924\"]],\"geo\":\"geo\",\"hovertemplate\":\"<b>%{hovertext}</b><br><br>Class of=%{customdata[1]}<br>Number from Country=%{customdata[0]}<br>Latitude=%{lat}<br>Longitude=%{lon}<extra></extra>\",\"hovertext\":[\"Sweden\",\"Uruguay\",\"Indonesia\",\"China\"],\"lat\":[\"60.128161\",\"-32.522779\",\"-0.789275\",\"35.86166\"],\"legendgroup\":\"1924\",\"lon\":[\"18.643501\",\"-55.765835\",\"113.921327\",\"104.195397\"],\"marker\":{\"color\":\"#00cc96\",\"size\":[1,2,1,2],\"sizemode\":\"area\",\"sizeref\":0.0125,\"symbol\":\"circle\"},\"mode\":\"markers\",\"name\":\"1924\",\"showlegend\":true,\"type\":\"scattergeo\"}],\"name\":\"1924\"},{\"data\":[{\"customdata\":[[1,\"1925\"],[2,\"1925\"],[1,\"1925\"],[3,\"1925\"],[1,\"1925\"],[2,\"1925\"],[1,\"1925\"]],\"geo\":\"geo\",\"hovertemplate\":\"<b>%{hovertext}</b><br><br>Class of=%{customdata[1]}<br>Number from Country=%{customdata[0]}<br>Latitude=%{lat}<br>Longitude=%{lon}<extra></extra>\",\"hovertext\":[\"Austria\",\"Canada\",\"Japan\",\"Sweden\",\"China\",\"Russia\",\"Norway\"],\"lat\":[\"47.516231\",\"56.130366\",\"36.204824\",\"60.128161\",\"35.86166\",\"61.52401\",\"60.472024\"],\"legendgroup\":\"1925\",\"lon\":[\"14.550072\",\"-106.346771\",\"138.252924\",\"18.643501\",\"104.195397\",\"105.318756\",\"8.468946\"],\"marker\":{\"color\":\"#ab63fa\",\"size\":[1,2,1,3,1,2,1],\"sizemode\":\"area\",\"sizeref\":0.0125,\"symbol\":\"circle\"},\"mode\":\"markers\",\"name\":\"1925\",\"showlegend\":true,\"type\":\"scattergeo\"}],\"name\":\"1925\"},{\"data\":[{\"customdata\":[[1,\"1926\"],[1,\"1926\"],[1,\"1926\"]],\"geo\":\"geo\",\"hovertemplate\":\"<b>%{hovertext}</b><br><br>Class of=%{customdata[1]}<br>Number from Country=%{customdata[0]}<br>Latitude=%{lat}<br>Longitude=%{lon}<extra></extra>\",\"hovertext\":[\"Israel\",\"Spain\",\"France\"],\"lat\":[\"31.046051\",\"40.463667\",\"46.227638\"],\"legendgroup\":\"1926\",\"lon\":[\"34.851612\",\"-3.74922\",\"2.213749\"],\"marker\":{\"color\":\"#FFA15A\",\"size\":[1,1,1],\"sizemode\":\"area\",\"sizeref\":0.0125,\"symbol\":\"circle\"},\"mode\":\"markers\",\"name\":\"1926\",\"showlegend\":true,\"type\":\"scattergeo\"}],\"name\":\"1926\"},{\"data\":[{\"customdata\":[[1,\"1927\"],[1,\"1927\"],[1,\"1927\"]],\"geo\":\"geo\",\"hovertemplate\":\"<b>%{hovertext}</b><br><br>Class of=%{customdata[1]}<br>Number from Country=%{customdata[0]}<br>Latitude=%{lat}<br>Longitude=%{lon}<extra></extra>\",\"hovertext\":[\"Canada\",\"China\",\"Russia\"],\"lat\":[\"56.130366\",\"35.86166\",\"61.52401\"],\"legendgroup\":\"1927\",\"lon\":[\"-106.346771\",\"104.195397\",\"105.318756\"],\"marker\":{\"color\":\"#19d3f3\",\"size\":[1,1,1],\"sizemode\":\"area\",\"sizeref\":0.0125,\"symbol\":\"circle\"},\"mode\":\"markers\",\"name\":\"1927\",\"showlegend\":true,\"type\":\"scattergeo\"}],\"name\":\"1927\"},{\"data\":[{\"customdata\":[[1,\"1928\"],[1,\"1928\"],[1,\"1928\"]],\"geo\":\"geo\",\"hovertemplate\":\"<b>%{hovertext}</b><br><br>Class of=%{customdata[1]}<br>Number from Country=%{customdata[0]}<br>Latitude=%{lat}<br>Longitude=%{lon}<extra></extra>\",\"hovertext\":[\"Russia\",\"Bulgaria\",\"Canada\"],\"lat\":[\"61.52401\",\"42.733883\",\"56.130366\"],\"legendgroup\":\"1928\",\"lon\":[\"105.318756\",\"25.48583\",\"-106.346771\"],\"marker\":{\"color\":\"#FF6692\",\"size\":[1,1,1],\"sizemode\":\"area\",\"sizeref\":0.0125,\"symbol\":\"circle\"},\"mode\":\"markers\",\"name\":\"1928\",\"showlegend\":true,\"type\":\"scattergeo\"}],\"name\":\"1928\"},{\"data\":[{\"customdata\":[[1,\"1929\"]],\"geo\":\"geo\",\"hovertemplate\":\"<b>%{hovertext}</b><br><br>Class of=%{customdata[1]}<br>Number from Country=%{customdata[0]}<br>Latitude=%{lat}<br>Longitude=%{lon}<extra></extra>\",\"hovertext\":[\"Canada\"],\"lat\":[\"56.130366\"],\"legendgroup\":\"1929\",\"lon\":[\"-106.346771\"],\"marker\":{\"color\":\"#B6E880\",\"size\":[1],\"sizemode\":\"area\",\"sizeref\":0.0125,\"symbol\":\"circle\"},\"mode\":\"markers\",\"name\":\"1929\",\"showlegend\":true,\"type\":\"scattergeo\"}],\"name\":\"1929\"},{\"data\":[{\"customdata\":[[2,\"1930\"],[1,\"1930\"],[2,\"1930\"],[1,\"1930\"]],\"geo\":\"geo\",\"hovertemplate\":\"<b>%{hovertext}</b><br><br>Class of=%{customdata[1]}<br>Number from Country=%{customdata[0]}<br>Latitude=%{lat}<br>Longitude=%{lon}<extra></extra>\",\"hovertext\":[\"Sweden\",\"Japan\",\"Puerto Rico\",\"United Kingdom\"],\"lat\":[\"60.128161\",\"36.204824\",\"18.220833\",\"55.378051\"],\"legendgroup\":\"1930\",\"lon\":[\"18.643501\",\"138.252924\",\"-66.590149\",\"-3.435973\"],\"marker\":{\"color\":\"#FF97FF\",\"size\":[2,1,2,1],\"sizemode\":\"area\",\"sizeref\":0.0125,\"symbol\":\"circle\"},\"mode\":\"markers\",\"name\":\"1930\",\"showlegend\":true,\"type\":\"scattergeo\"}],\"name\":\"1930\"},{\"data\":[{\"customdata\":[[1,\"1931\"],[2,\"1931\"],[1,\"1931\"]],\"geo\":\"geo\",\"hovertemplate\":\"<b>%{hovertext}</b><br><br>Class of=%{customdata[1]}<br>Number from Country=%{customdata[0]}<br>Latitude=%{lat}<br>Longitude=%{lon}<extra></extra>\",\"hovertext\":[\"Thailand\",\"India\",\"Canada\"],\"lat\":[\"15.870032\",\"20.593684\",\"56.130366\"],\"legendgroup\":\"1931\",\"lon\":[\"100.992541\",\"78.96288\",\"-106.346771\"],\"marker\":{\"color\":\"#FECB52\",\"size\":[1,2,1],\"sizemode\":\"area\",\"sizeref\":0.0125,\"symbol\":\"circle\"},\"mode\":\"markers\",\"name\":\"1931\",\"showlegend\":true,\"type\":\"scattergeo\"}],\"name\":\"1931\"},{\"data\":[{\"customdata\":[[1,\"1932\"],[1,\"1932\"],[1,\"1932\"],[2,\"1932\"],[1,\"1932\"],[1,\"1932\"],[1,\"1932\"],[1,\"1932\"]],\"geo\":\"geo\",\"hovertemplate\":\"<b>%{hovertext}</b><br><br>Class of=%{customdata[1]}<br>Number from Country=%{customdata[0]}<br>Latitude=%{lat}<br>Longitude=%{lon}<extra></extra>\",\"hovertext\":[\"China\",\"Greece\",\"Russia\",\"Canada\",\"Republic of North Macedonia\",\"Israel\",\"Guatemala\",\"United Kingdom\"],\"lat\":[\"35.86166\",\"39.074208\",\"61.52401\",\"56.130366\",\"41.608635\",\"31.046051\",\"15.783471\",\"55.378051\"],\"legendgroup\":\"1932\",\"lon\":[\"104.195397\",\"21.824312\",\"105.318756\",\"-106.346771\",\"21.745275\",\"34.851612\",\"-90.230759\",\"-3.435973\"],\"marker\":{\"color\":\"#636efa\",\"size\":[1,1,1,2,1,1,1,1],\"sizemode\":\"area\",\"sizeref\":0.0125,\"symbol\":\"circle\"},\"mode\":\"markers\",\"name\":\"1932\",\"showlegend\":true,\"type\":\"scattergeo\"}],\"name\":\"1932\"},{\"data\":[{\"customdata\":[[1,\"1933\"]],\"geo\":\"geo\",\"hovertemplate\":\"<b>%{hovertext}</b><br><br>Class of=%{customdata[1]}<br>Number from Country=%{customdata[0]}<br>Latitude=%{lat}<br>Longitude=%{lon}<extra></extra>\",\"hovertext\":[\"Canada\"],\"lat\":[\"56.130366\"],\"legendgroup\":\"1933\",\"lon\":[\"-106.346771\"],\"marker\":{\"color\":\"#EF553B\",\"size\":[1],\"sizemode\":\"area\",\"sizeref\":0.0125,\"symbol\":\"circle\"},\"mode\":\"markers\",\"name\":\"1933\",\"showlegend\":true,\"type\":\"scattergeo\"}],\"name\":\"1933\"},{\"data\":[{\"customdata\":[[1,\"1935\"]],\"geo\":\"geo\",\"hovertemplate\":\"<b>%{hovertext}</b><br><br>Class of=%{customdata[1]}<br>Number from Country=%{customdata[0]}<br>Latitude=%{lat}<br>Longitude=%{lon}<extra></extra>\",\"hovertext\":[\"Armenia\"],\"lat\":[\"40.069099\"],\"legendgroup\":\"1935\",\"lon\":[\"45.038189\"],\"marker\":{\"color\":\"#00cc96\",\"size\":[1],\"sizemode\":\"area\",\"sizeref\":0.0125,\"symbol\":\"circle\"},\"mode\":\"markers\",\"name\":\"1935\",\"showlegend\":true,\"type\":\"scattergeo\"}],\"name\":\"1935\"},{\"data\":[{\"customdata\":[[1,\"1936\"]],\"geo\":\"geo\",\"hovertemplate\":\"<b>%{hovertext}</b><br><br>Class of=%{customdata[1]}<br>Number from Country=%{customdata[0]}<br>Latitude=%{lat}<br>Longitude=%{lon}<extra></extra>\",\"hovertext\":[\"India\"],\"lat\":[\"20.593684\"],\"legendgroup\":\"1936\",\"lon\":[\"78.96288\"],\"marker\":{\"color\":\"#ab63fa\",\"size\":[1],\"sizemode\":\"area\",\"sizeref\":0.0125,\"symbol\":\"circle\"},\"mode\":\"markers\",\"name\":\"1936\",\"showlegend\":true,\"type\":\"scattergeo\"}],\"name\":\"1936\"},{\"data\":[{\"customdata\":[[1,\"1938\"]],\"geo\":\"geo\",\"hovertemplate\":\"<b>%{hovertext}</b><br><br>Class of=%{customdata[1]}<br>Number from Country=%{customdata[0]}<br>Latitude=%{lat}<br>Longitude=%{lon}<extra></extra>\",\"hovertext\":[\"Panama\"],\"lat\":[\"8.537981\"],\"legendgroup\":\"1938\",\"lon\":[\"-80.782127\"],\"marker\":{\"color\":\"#FFA15A\",\"size\":[1],\"sizemode\":\"area\",\"sizeref\":0.0125,\"symbol\":\"circle\"},\"mode\":\"markers\",\"name\":\"1938\",\"showlegend\":true,\"type\":\"scattergeo\"}],\"name\":\"1938\"},{\"data\":[{\"customdata\":[[1,\"1939\"],[2,\"1939\"]],\"geo\":\"geo\",\"hovertemplate\":\"<b>%{hovertext}</b><br><br>Class of=%{customdata[1]}<br>Number from Country=%{customdata[0]}<br>Latitude=%{lat}<br>Longitude=%{lon}<extra></extra>\",\"hovertext\":[\"Panama\",\"India\"],\"lat\":[\"8.537981\",\"20.593684\"],\"legendgroup\":\"1939\",\"lon\":[\"-80.782127\",\"78.96288\"],\"marker\":{\"color\":\"#19d3f3\",\"size\":[1,2],\"sizemode\":\"area\",\"sizeref\":0.0125,\"symbol\":\"circle\"},\"mode\":\"markers\",\"name\":\"1939\",\"showlegend\":true,\"type\":\"scattergeo\"}],\"name\":\"1939\"},{\"data\":[{\"customdata\":[[1,\"1940\"]],\"geo\":\"geo\",\"hovertemplate\":\"<b>%{hovertext}</b><br><br>Class of=%{customdata[1]}<br>Number from Country=%{customdata[0]}<br>Latitude=%{lat}<br>Longitude=%{lon}<extra></extra>\",\"hovertext\":[\"Thailand\"],\"lat\":[\"15.870032\"],\"legendgroup\":\"1940\",\"lon\":[\"100.992541\"],\"marker\":{\"color\":\"#FF6692\",\"size\":[1],\"sizemode\":\"area\",\"sizeref\":0.0125,\"symbol\":\"circle\"},\"mode\":\"markers\",\"name\":\"1940\",\"showlegend\":true,\"type\":\"scattergeo\"}],\"name\":\"1940\"},{\"data\":[{\"customdata\":[[1,\"1941\"],[1,\"1941\"],[1,\"1941\"],[1,\"1941\"]],\"geo\":\"geo\",\"hovertemplate\":\"<b>%{hovertext}</b><br><br>Class of=%{customdata[1]}<br>Number from Country=%{customdata[0]}<br>Latitude=%{lat}<br>Longitude=%{lon}<extra></extra>\",\"hovertext\":[\"Panama\",\"Czech Republic\",\"Colombia\",\"Puerto Rico\"],\"lat\":[\"8.537981\",\"49.817492\",\"4.570868\",\"18.220833\"],\"legendgroup\":\"1941\",\"lon\":[\"-80.782127\",\"15.472962\",\"-74.297333\",\"-66.590149\"],\"marker\":{\"color\":\"#B6E880\",\"size\":[1,1,1,1],\"sizemode\":\"area\",\"sizeref\":0.0125,\"symbol\":\"circle\"},\"mode\":\"markers\",\"name\":\"1941\",\"showlegend\":true,\"type\":\"scattergeo\"}],\"name\":\"1941\"},{\"data\":[{\"customdata\":[[1,\"1942\"],[1,\"1942\"]],\"geo\":\"geo\",\"hovertemplate\":\"<b>%{hovertext}</b><br><br>Class of=%{customdata[1]}<br>Number from Country=%{customdata[0]}<br>Latitude=%{lat}<br>Longitude=%{lon}<extra></extra>\",\"hovertext\":[\"China\",\"Puerto Rico\"],\"lat\":[\"35.86166\",\"18.220833\"],\"legendgroup\":\"1942\",\"lon\":[\"104.195397\",\"-66.590149\"],\"marker\":{\"color\":\"#FF97FF\",\"size\":[1,1],\"sizemode\":\"area\",\"sizeref\":0.0125,\"symbol\":\"circle\"},\"mode\":\"markers\",\"name\":\"1942\",\"showlegend\":true,\"type\":\"scattergeo\"}],\"name\":\"1942\"},{\"data\":[{\"customdata\":[[1,\"1943\"],[1,\"1943\"],[1,\"1943\"],[1,\"1943\"]],\"geo\":\"geo\",\"hovertemplate\":\"<b>%{hovertext}</b><br><br>Class of=%{customdata[1]}<br>Number from Country=%{customdata[0]}<br>Latitude=%{lat}<br>Longitude=%{lon}<extra></extra>\",\"hovertext\":[\"India\",\"Philippines\",\"Turkey\",\"Canada\"],\"lat\":[\"20.593684\",\"12.879721\",\"38.963745\",\"56.130366\"],\"legendgroup\":\"1943\",\"lon\":[\"78.96288\",\"121.774017\",\"35.243322\",\"-106.346771\"],\"marker\":{\"color\":\"#FECB52\",\"size\":[1,1,1,1],\"sizemode\":\"area\",\"sizeref\":0.0125,\"symbol\":\"circle\"},\"mode\":\"markers\",\"name\":\"1943\",\"showlegend\":true,\"type\":\"scattergeo\"}],\"name\":\"1943\"}]);\n",
       "                        }).then(function(){\n",
       "                            \n",
       "var gd = document.getElementById('d1311243-9550-4304-868e-46482e0dfa31');\n",
       "var x = new MutationObserver(function (mutations, observer) {{\n",
       "        var display = window.getComputedStyle(gd).display;\n",
       "        if (!display || display === 'none') {{\n",
       "            console.log([gd, 'removed!']);\n",
       "            Plotly.purge(gd);\n",
       "            observer.disconnect();\n",
       "        }}\n",
       "}});\n",
       "\n",
       "// Listen for the removal of the full notebook cells\n",
       "var notebookContainer = gd.closest('#notebook-container');\n",
       "if (notebookContainer) {{\n",
       "    x.observe(notebookContainer, {childList: true});\n",
       "}}\n",
       "\n",
       "// Listen for the clearing of the current output cell\n",
       "var outputEl = gd.closest('.output');\n",
       "if (outputEl) {{\n",
       "    x.observe(outputEl, {childList: true});\n",
       "}}\n",
       "\n",
       "                        })                };                });            </script>        </div>"
      ]
     },
     "metadata": {},
     "output_type": "display_data"
    }
   ],
   "source": [
    "#animated map for student countries by each 'Class of' year\n",
    "figclass = px.scatter_geo(\n",
    "    classdf,\n",
    "    lat=classdf['cclat'],\n",
    "    lon=classdf['cclon'],\n",
    "    color=classdf['ccyear'],\n",
    "    size=classdf['class_count'],\n",
    "    animation_frame = classdf['ccyear'],\n",
    "    labels={'class_count':'Number from Country','ccyear':'Class of', 'cclat':'Latitude','cclon':'Longitude'},\n",
    "    hover_name= classdf['cc'],\n",
    "    hover_data= [classdf['class_count'], classdf['ccyear']],\n",
    "    title='Map 3. Number of WPI International Students from Each Country by Year (1876-1943)',\n",
    "    projection = 'natural earth',\n",
    "    #projection = 'winkel tripel',\n",
    ")\n",
    "\n",
    "#Slow down animation speed in frame and transition\n",
    "figclass.layout.updatemenus[0].buttons[0].args[1]['frame']['duration'] = 1500\n",
    "figclass.layout.updatemenus[0].buttons[0].args[1]['transition']['duration'] = 1500\n",
    "\n",
    "figclass.show()"
   ]
  },
  {
   "cell_type": "code",
   "execution_count": null,
   "metadata": {},
   "outputs": [],
   "source": []
  }
 ],
 "metadata": {
  "kernelspec": {
   "display_name": "Python 3",
   "language": "python",
   "name": "python3"
  },
  "language_info": {
   "codemirror_mode": {
    "name": "ipython",
    "version": 3
   },
   "file_extension": ".py",
   "mimetype": "text/x-python",
   "name": "python",
   "nbconvert_exporter": "python",
   "pygments_lexer": "ipython3",
   "version": "3.8.5"
  }
 },
 "nbformat": 4,
 "nbformat_minor": 4
}
