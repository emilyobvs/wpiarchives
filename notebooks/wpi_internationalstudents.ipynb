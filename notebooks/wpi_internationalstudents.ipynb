{
 "cells": [
  {
   "cell_type": "code",
   "execution_count": 3,
   "metadata": {},
   "outputs": [
    {
     "data": {
      "text/html": [
       "        <script type=\"text/javascript\">\n",
       "        window.PlotlyConfig = {MathJaxConfig: 'local'};\n",
       "        if (window.MathJax) {MathJax.Hub.Config({SVG: {font: \"STIX-Web\"}});}\n",
       "        if (typeof require !== 'undefined') {\n",
       "        require.undef(\"plotly\");\n",
       "        requirejs.config({\n",
       "            paths: {\n",
       "                'plotly': ['https://cdn.plot.ly/plotly-2.4.2.min']\n",
       "            }\n",
       "        });\n",
       "        require(['plotly'], function(Plotly) {\n",
       "            window._Plotly = Plotly;\n",
       "        });\n",
       "        }\n",
       "        </script>\n",
       "        "
      ]
     },
     "metadata": {},
     "output_type": "display_data"
    }
   ],
   "source": [
    "import plotly\n",
    "import plotly.express as px\n",
    "import pandas as pd\n",
    "from plotly.offline import init_notebook_mode\n",
    "import folium\n",
    "\n",
    "init_notebook_mode(connected = True)\n"
   ]
  },
  {
   "cell_type": "code",
   "execution_count": 4,
   "metadata": {},
   "outputs": [
    {
     "name": "stdout",
     "output_type": "stream",
     "text": [
      "                      sname                      home1     country1  \\\n",
      "0    Abadjieff, Ivan Varban     T. Pazordjik, Bulgaria     Bulgaria   \n",
      "1         Aguirre, Frank M.           Cienfuegos, Cuba         Cuba   \n",
      "2        Ajemian, Shahin A.                    Armenia      Armenia   \n",
      "3         Alfonso, Fernando                   Colombia     Colombia   \n",
      "4            Allen, Kenneth      Yarmouth, Nova Scotia       Canada   \n",
      "..                      ...                        ...          ...   \n",
      "184      Yrigoyen, Juan I.   Guatemala City, Guatemala    Guatemala   \n",
      "185  Yuan, Harold Hsiang-Ho   Tang Shan, Chihli, China        China   \n",
      "186       Yuan, Tsong-Kyien            Hangchow, China        China   \n",
      "187              Yuan, Tung              Peking, China        China   \n",
      "188     Zaragoza, Jose Luis        Manila, Philippines  Philippines   \n",
      "\n",
      "          clat        clong           home2       hlat       hlong  classof  \n",
      "0    42.733883     25.48583      Pazardzhik  42.200000   24.333000   1928.0  \n",
      "1    21.521757   -77.781167      Cienfuegos  22.144448  -80.440294   1909.0  \n",
      "2    40.069099    45.038189         Armenia  40.069100   45.038200   1917.0  \n",
      "3     4.570868   -74.297333        Colombia   4.570900  -74.297300   1941.0  \n",
      "4    56.130366  -106.346771        Yarmouth  43.836111  -66.117500   1911.0  \n",
      "..         ...          ...             ...        ...         ...      ...  \n",
      "184  15.783471   -90.230759  Guatemala City  14.613333  -90.535278   1900.0  \n",
      "185   35.86166   104.195397        Tangshan  39.600000  118.176111      NaN  \n",
      "186   35.86166   104.195397        Hangzhou  30.250000  120.166667   1914.0  \n",
      "187   35.86166   104.195397         Beijing  53.456200   -7.493400   1924.0  \n",
      "188  12.879721   121.774017          Manila  14.582259  120.974804   1943.0  \n",
      "\n",
      "[189 rows x 9 columns]\n"
     ]
    }
   ],
   "source": [
    "#read WPI INTL Students file\n",
    "isdf = pd.read_excel('../data/wpiintlstudentsmap2.xlsx')\n",
    "\n",
    "#make values strings\n",
    "isdf['clat'] = isdf['clat'].astype(str)\n",
    "isdf['clong'] = isdf['clong'].astype(str)\n",
    "isdf['country1'] = isdf['country1'].astype(str)\n",
    "\n",
    "isdf = isdf.rename(columns={'class':'classof'})\n",
    "\n",
    "#assign dataframe values to variables\n",
    "hlat = isdf['hlat']\n",
    "hlong = isdf['hlong']\n",
    "clat = isdf['clat']\n",
    "clong = isdf['clong']\n",
    "wpiclass = isdf['classof']\n",
    "sname = isdf['sname']\n",
    "home = isdf['home1']\n",
    "c1 = isdf['country1']\n",
    "\n",
    "print(isdf)"
   ]
  },
  {
   "cell_type": "code",
   "execution_count": 5,
   "metadata": {},
   "outputs": [
    {
     "data": {
      "application/vnd.plotly.v1+json": {
       "config": {
        "plotlyServerURL": "https://plot.ly"
       },
       "data": [
        {
         "customdata": [
          [
           "T. Pazordjik, Bulgaria",
           1928
          ],
          [
           "Cienfuegos, Cuba",
           1909
          ],
          [
           "Armenia",
           1917
          ],
          [
           "Colombia",
           1941
          ],
          [
           "Yarmouth, Nova Scotia",
           1911
          ],
          [
           "Yarmouth, Nova Scotia",
           1894
          ],
          [
           "Stockholm, Sweden",
           1921
          ],
          [
           "Cavalla, Greece",
           1918
          ],
          [
           "Tel Aviv, Palestine",
           1932
          ],
          [
           "Rhodes Island, Greece",
           1932
          ],
          [
           "Largs Bay, Australia",
           1907
          ],
          [
           "Balboa Heights, Canal Zone",
           1938
          ],
          [
           "Canal Zone, Panama",
           1918
          ],
          [
           "Chili",
           1921
          ],
          [
           "Petrograd, Russia",
           1927
          ],
          [
           "Paris, France",
           1926
          ],
          [
           "Montivideo, Uruguay",
           1924
          ],
          [
           "La Rioja, Argentina",
           1912
          ],
          [
           "Christiania, Norway",
           1925
          ],
          [
           "Melbourne, Australia",
           1906
          ],
          [
           "Calcutta, India",
           1931
          ],
          [
           "Calcutta, India",
           1931
          ],
          [
           "Shanghai, China",
           1916
          ],
          [
           "Chili, China",
           1921
          ],
          [
           "Soochow, China",
           1923
          ],
          [
           "Fong Chow, China",
           1922
          ],
          [
           "Anhin, China",
           1911
          ],
          [
           "Canton, China",
           1920
          ],
          [
           "Peking, China",
           1925
          ],
          [
           "Hong Kong, China",
           1927
          ],
          [
           "Shanghai, China",
           1942
          ],
          [
           "Victoria, Australia",
           1905
          ],
          [
           "Melbourne, Australia",
           1907
          ],
          [
           "Danville, Quebec",
           1884
          ],
          [
           "Pymble, Australia",
           1908
          ],
          [
           "Woodstock, New Brunswick",
           1878
          ],
          [
           "Mahr, Ostrau, Czechoslavakia",
           1941
          ],
          [
           "Panni, Italy",
           1913
          ],
          [
           "Rio Janeiro, Brazil",
           1894
          ],
          [
           "Rio Janeiro, Brazil",
           1878
          ],
          [
           "Fajardo, Puerto Rico",
           1915
          ],
          [
           "Sherbrooke, Quebec",
           1904
          ],
          [
           "London, England",
           1910
          ],
          [
           "Granby, Quebec",
           1931
          ],
          [
           "Frost Village, Quebec",
           1925
          ],
          [
           "Sweden",
           1930
          ],
          [
           "Montreal, Quebec",
           1888
          ],
          [
           "Tatuky City, Brazil",
           1879
          ],
          [
           "Beyrouth, Syria",
           1914
          ],
          [
           "Berlin, Germany",
           1921
          ],
          [
           "Vesteras, Sweden",
           1906
          ],
          [
           "Rezende, Brazil",
           1888
          ],
          [
           "Russia",
           1925
          ],
          [
           "Canton, China",
           1917
          ],
          [
           "Damascus, Syria",
           1920
          ],
          [
           " St. Stephen, New Brunswick",
           1900
          ],
          [
           "Havana, Cuba",
           1918
          ],
          [
           "Montreal, Quebec",
           1888
          ],
          [
           "Hamilton, Ontario",
           1943
          ],
          [
           "Rio Janeiro, Brazil",
           1889
          ],
          [
           "Rio Janeiro, Brazil",
           1882
          ],
          [
           "Larino, Province of Campobasso, Italy",
           1923
          ],
          [
           "Antofagasta, Chili",
           1883
          ],
          [
           "Soerabaya, Java",
           1924
          ],
          [
           "San Jose, Costa Rica",
           1917
          ],
          [
           "Kroken, Sweden",
           1925
          ],
          [
           "Kroken, Sweden",
           1925
          ],
          [
           "Guatemala City, Guatemala",
           1932
          ],
          [
           "St. Johns, New Foundland",
           1894
          ],
          [
           null,
           1910
          ],
          [
           "Rangoon, Burma",
           1917
          ],
          [
           "Russia",
           1923
          ],
          [
           "Armenia",
           1935
          ],
          [
           "Brazil",
           1916
          ],
          [
           "Calcutta, India",
           1936
          ],
          [
           "Istanbul, Turkey",
           1943
          ],
          [
           "Yarmouth, Nova Scotia",
           1894
          ],
          [
           "Yarmouth, Nova Scotia",
           1894
          ],
          [
           "Yarmouth, Nova Scotia",
           1897
          ],
          [
           "Dist Satara, India",
           1939
          ],
          [
           "Songdo, Korea",
           1922
          ],
          [
           "Halsmühlen, Germany",
           1880
          ],
          [
           "Dist Satara, India",
           1939
          ],
          [
           "Haifa, Palestine",
           1926
          ],
          [
           "Tokio, Japan",
           1893
          ],
          [
           "Hyogoken, Japan",
           1930
          ],
          [
           "Hong Kong, China",
           1918
          ],
          [
           "Cardenas, Cuba",
           1907
          ],
          [
           "Heong San, China",
           1887
          ],
          [
           "Hoganas, Sweden",
           1930
          ],
          [
           "Canton, China",
           1932
          ],
          [
           "Bangkok, Siam",
           1931
          ],
          [
           "Yokohama, Japan",
           1901
          ],
          [
           "Fungtien, China",
           1918
          ],
          [
           "Fuchow, China",
           1920
          ],
          [
           "Shantung, China",
           1918
          ],
          [
           "River John, Nova Scotia",
           1927
          ],
          [
           "River John, Nova Scotia",
           1928
          ],
          [
           "London, England",
           1900
          ],
          [
           "Tokie, Japan",
           1877
          ],
          [
           "Tokyo, Japan",
           1925
          ],
          [
           "St. John, New Brunswick",
           1933
          ],
          [
           "Fort Clayton, Canal Zone",
           1941
          ],
          [
           "Tientsin, China",
           1914
          ],
          [
           "Montreal, Quebec",
           1929
          ],
          [
           "Hong Kong, China",
           1917
          ],
          [
           "Tokie, Japan",
           1876
          ],
          [
           "Castledown, Ireland",
           1909
          ],
          [
           "Macedonia",
           1932
          ],
          [
           "Sivas, Turkey",
           1911
          ],
          [
           "India",
           1943
          ],
          [
           "Fort William, Ontario",
           1915
          ],
          [
           "Curytiba, Parana, Brazil",
           1921
          ],
          [
           " Winnipeg, Canada",
           1932
          ],
          [
           "Balboa Heights, Canal Zone",
           1939
          ],
          [
           "England",
           1932
          ],
          [
           "Guatemala",
           1887
          ],
          [
           "Mayaguez, Puerto Rico",
           1930
          ],
          [
           "Mexico City, Mexico",
           1896
          ],
          [
           "Rio Janeiro, Brazil",
           1885
          ],
          [
           "Coruna, Spain",
           1926
          ],
          [
           "Bogata, Columbia",
           1922
          ],
          [
           "Syndey, Nova Scotia",
           1922
          ],
          [
           "Winnipeg, Manitoba",
           1909
          ],
          [
           "Winnipeg, Manitoba",
           1896
          ],
          [
           "River Hebert, Nova Scotia",
           1913
          ],
          [
           "Puerto Principe, Cuba",
           1906
          ],
          [
           "San Juan, Puerto Rico",
           1906
          ],
          [
           "Guantanamo, Cuba",
           1896
          ],
          [
           "Progreso, Mexico",
           1907
          ],
          [
           "Merida, Mexico",
           1905
          ],
          [
           "Russia",
           1925
          ],
          [
           "Comitan, Mexico",
           1909
          ],
          [
           "Truro, Nova Scotia",
           1921
          ],
          [
           "Peking, China",
           1924
          ],
          [
           "Russia",
           1928
          ],
          [
           "Oriente, Cuba",
           1916
          ],
          [
           "Indramajoe, Java",
           1923
          ],
          [
           "Vieques, Puerto Rico",
           1930
          ],
          [
           "Harpoot, Armenia",
           1900
          ],
          [
           "Killarney, Ireland",
           1906
          ],
          [
           "Osaka, Japan",
           1888
          ],
          [
           "London, England",
           1930
          ],
          [
           "Barra Mansa, Rio de Janerio",
           1879
          ],
          [
           "Krasnodar, Russia",
           1932
          ],
          [
           "Winnipeg, Manitoba",
           1891
          ],
          [
           "Victoria, Australia",
           1906
          ],
          [
           "Autofagasta, Chile",
           1921
          ],
          [
           "Vienna, Austria",
           1925
          ],
          [
           "St. John, New Brunswick",
           1895
          ],
          [
           "St. John, New Brunswick",
           1905
          ],
          [
           "Sweden",
           1924
          ],
          [
           "Saga, Japan",
           1876
          ],
          [
           "Kwangtung, China",
           1920
          ],
          [
           "Harpoot, Turkey",
           1917
          ],
          [
           "Bangkok, Thailand",
           1940
          ],
          [
           "St. Stephen, New Brunswick",
           1877
          ],
          [
           "Yauco, Puerto Rico",
           1911
          ],
          [
           "San Juan, Puerto Rico",
           1941
          ],
          [
           "Yauco, Puerto Rico",
           1911
          ],
          [
           "Ponce, Puerto Rico",
           1942
          ],
          [
           "Shanghai, China",
           1920
          ],
          [
           "Kashing, Chekiang, China",
           1920
          ],
          [
           "Peking, China",
           1923
          ],
          [
           "New Glasgow, Nova Scotia",
           1925
          ],
          [
           "Ponce, Puerto Rico",
           1899
          ],
          [
           "Mayaguez, Puerto Rico",
           1912
          ],
          [
           "Montivideo, Uruguay",
           1924
          ],
          [
           "Rio de Janeiro, Brazil",
           1910
          ],
          [
           "Mayaguez, Puerto Rico",
           1914
          ],
          [
           "Rio Janeiro, Brazil",
           1878
          ],
          [
           "Antwerp, Belgium",
           1888
          ],
          [
           "Hanstsport, Nova Scotia",
           1909
          ],
          [
           "Hong Kong, China",
           1884
          ],
          [
           "Grand Mere, Quebec",
           1932
          ],
          [
           "Leopoldina, Brazil",
           1903
          ],
          [
           "Nogent sur Marne, France",
           1921
          ],
          [
           "Landskiona, Sweden",
           1925
          ],
          [
           "Canton, China",
           1916
          ],
          [
           "Peking, China",
           1914
          ],
          [
           "Owari, Japan",
           1909
          ],
          [
           "Shanghai, China",
           1914
          ],
          [
           "Canton, China",
           1919
          ],
          [
           null,
           null
          ],
          [
           "Guatemala City, Guatemala",
           1900
          ],
          [
           "Tang Shan, Chihli, China",
           null
          ],
          [
           "Hangchow, China",
           1914
          ],
          [
           "Peking, China",
           1924
          ],
          [
           "Manila, Philippines",
           1943
          ]
         ],
         "geo": "geo",
         "hovertemplate": "<b>%{hovertext}</b><br><br>hlat=%{lat}<br>hlong=%{lon}<br>home1=%{customdata[0]}<br>classof=%{marker.color}<extra></extra>",
         "hovertext": [
          "Abadjieff, Ivan Varban",
          "Aguirre, Frank M.",
          "Ajemian, Shahin A.",
          "Alfonso, Fernando",
          "Allen, Kenneth",
          "Allen, M. Clifford",
          "Anderson, Hans Enar",
          "Apostolou, James",
          "Aronov, Eliezer",
          "Athanasiades, Emanuel Stylianos",
          "Bagot, Christopher G.S.",
          "Banan Frederick B. Jr. ",
          "Barber, Frederick Gordon",
          "Besa, Hernan",
          "Boubnoff, Nicholas A.",
          "Brown, Francis Lestrade",
          "Camps, Antonio Bernardo",
          "Capdevila, Pedro M.",
          "Carlstom, Carl Fredrik",
          "Cave, Jordayne D.",
          "Chakrabarthy, Monmatha Nath",
          "Chakravarti, Sudhir Kumar",
          "Chan, Ernest Bing",
          "Chang, Lan Ko",
          "Chen Sarcey San-Tsai",
          "Chen, Li",
          "Chin, Yu-shu",
          "Ching, Yao-Chuo",
          "Chou, Tzu-hsu",
          "Chow, Yat Wo",
          "Chu, Morris Chun-Chia",
          "Clapp, F. Boardman Jr.",
          "Clapp, Leroy P.",
          "Cleveland, Richard C.",
          "Cobb, Victor",
          "Connell, Jeremiah M.",
          "Coontz, Gustaf",
          "Croce, Michele F.",
          "Da Cruz, Henrique B.",
          "Da Silveira, J. L. M. ",
          "Diaz, Vincent",
          "Dougherty, John J.",
          "Downe, Edward",
          "Dunn, Leonard Gill",
          "Eastman, Harold Lewis",
          "Ericson, Alvan Otto",
          "Fairman, F.L. Wilson",
          "Falcao, E. A.",
          "Farah, Hanna K.",
          "Fisher, Edward John",
          "Forsstedt, Ralph S.",
          "Franklin, Alfredo A.",
          "Friedman, Hyman Julius",
          "Fung, Wai",
          "Gammal, Charles Abraham",
          "Ganong, Walter K.",
          "Garcia, Jose Manuel",
          "Gilman, Ernest",
          "Goddard, Richard Cook ",
          "Gomes, Alfredo",
          "Gray, Robert",
          "Greco, Aldo Pardo",
          "Greene, Richard W.",
          "Han, Soen Lok",
          "Hanckel, Robert C.",
          "Hansen, Harold",
          "Hansen, Odd Arnold",
          "Herrarte, Benjamin Lopez",
          "Howland, Lewis A.",
          "Huang, Chen S.",
          "Huie, Yuen K.",
          "Hurowitz, Max",
          "Ivanzian, Aghasi Ivy",
          "Junqueira, Joaquim d.k.",
          "Kaplanko, Alexander",
          "Kerven, Danyal Nahit",
          "Killam, Frank E.",
          "Killam, Leslie",
          "Killam, W. Stanley",
          "Kirloskar, Ravindra",
          "Ko, Chaong Myung",
          "Köpke, Ernst",
          "Korolyshun, Russell Theodore",
          "Kurkjian, Vahan Boghos",
          "Kuwada, Gompei",
          "Kuwada, Suenori",
          "Kwong, Eugene Faimont",
          "Labrit, Alberto",
          "Landsing, Jang",
          "Larson, Carl Gustav",
          "Lee, Chock H.",
          "Leibovitch, Abram",
          "Loomis, Evarts J.",
          "Lu, Ching Kui",
          "Lu, Wen Siang",
          "Ma, Shan-pao",
          "MacLennan, Charles",
          "MacNabb, James Austin",
          "Mathews, William J. ",
          "Matsdaira, Tada-aty M.",
          "Matsuo, Kenzo",
          "McFarlane, Weldon Murray",
          "McMurray, Clarence McCain, Jr.",
          "Mei, Yi Chi",
          "Minnick, John Hamilton",
          "Mok, Kai Yan",
          "Mori, Haryosh",
          "Murphy, Patrick J.",
          "Nizanoff, John",
          "Paelian, Garabed H.",
          "Pattani, Shashikant Batuk",
          "Pennimam, Raymond B.",
          "Pereira, Ricardo Gonsalves",
          "Perry, Edmund Alexander",
          "Piper, Raymond Burton",
          "Porteus, John Horton",
          "Quevedo, Narciso F.",
          "Ramirez, Efrain",
          "Ramirez, Francisco J. ",
          "Ramos, Ajax A.",
          "Rey, Pedro",
          "Reyes, Joaquin",
          "Rice, Milton Jerome",
          "Riley, Harold",
          "Riley, R. Sanford",
          "Rockwell, Reginald",
          "Rodriguez, Benito A.",
          "Romen, Rafael M. ",
          "Ros, Antonio M.",
          "Rosado, Felix Alonso",
          "Rosado, Manuel G.",
          "Rosenbloom, Abraham",
          "Rovelo, Jose",
          "Russell, Alan Woodworth",
          "Sah, Peter Pen Otieh",
          "Samoylenko, Gregory John",
          "Sanchez, Federico Guillermo",
          "See, Woon-how",
          "Serrano, Carlos Felipe",
          "Shaghalian, Sarkis",
          "Sheehan, Michael J.",
          "Shimomura, Kotaro M. ",
          "Shreeve, Herbert Prescott",
          "Silva, Joaquim Mariano",
          "Skuropat, Leon Deomidovitch",
          "Somerset, Herbert J.",
          "Staughton, Lance W.",
          "Stevenson, William Orick Jr.",
          "Stich, Otto Albert",
          "Stone, Fred L.",
          "Stone, J. Waldo",
          "Sundvall, Frithiof Ludvig",
          "Takee, Kenechiro",
          "Tan, Shao-fan",
          "Tenekejian, Zaven N.",
          "Tishyanandana, Chamroon",
          "Todd, Howard C.",
          "Totti, Etienne",
          "Totti, Etienne, Jr.",
          "Totti, Noel",
          "Totti, Noel, Jr. ",
          "Tsen, Yeo Kung",
          "Tsu, Feng Chang",
          "Tsui, John Hsuch Han",
          "Underwood, Louis Ivan",
          "Valdivieso, Enrique P.",
          "Velez, Raphael V. ",
          "Vera, Angel",
          "Vianna, John J.B.",
          "Vidal, Raphael",
          "Vierra, Joaquim J.",
          "Von Wrede, Guido Franz Hubert",
          "Walley, Percy B.",
          "Wan, Bing Chung",
          "Wardle, Harry Marsden",
          "Werneck, Elpidio DeL.",
          "Will, Irving Martin",
          "Winckler, Gunnar Frederick",
          "Wong, Dick",
          "Wong, John",
          "Yamada, Yoshiho",
          "Yang, Sih-zung",
          "Yen, King Lau",
          "Ynan, Z.",
          "Yrigoyen, Juan I. ",
          "Yuan, Harold Hsiang-Ho",
          "Yuan, Tsong-Kyien",
          "Yuan, Tung",
          "Zaragoza, Jose Luis"
         ],
         "lat": [
          42.2,
          22.1444481,
          40.0691,
          4.5709,
          43.836111,
          43.836111,
          59.329444,
          40.936499,
          32.136871,
          36.167,
          -34.8259784,
          8.95,
          8.538,
          35.6751,
          59.9311,
          48.856895,
          -34.883611,
          -29.4101933,
          59.9139,
          -37.813611,
          22.5655734,
          22.5655734,
          31.2304,
          38.0371,
          31.3,
          35.8617,
          35.8617,
          23.1290798,
          39.9042,
          22.3964,
          31.2304,
          -36.5588,
          -37.8136,
          45.785197,
          -33.76313,
          46.152222,
          49.840794,
          41.2231481,
          -22.9014475,
          -22.9014475,
          18.3303791,
          45.4,
          51.5001524,
          45.398468,
          52.9399,
          60.1282,
          45.509062,
          -14.235,
          33.886944,
          52.5243,
          59.6164759,
          -22.466726,
          61.524,
          23.1290798,
          33.5019799,
          45.194163,
          23.0541,
          45.509062,
          43.25,
          -22.9014475,
          -22.9014475,
          41.8071274,
          -23.6266015,
          -7.243256,
          9.909576,
          69.6869335,
          69.6869335,
          14.613333,
          47.5675,
          35.8617,
          16.8,
          61.524,
          40.0691,
          -14.235,
          22.5655734,
          41.013,
          43.836111,
          43.836111,
          43.836111,
          17.69139,
          37.388889,
          52.6367,
          17.69139,
          32.817285,
          35.6895,
          34.6913,
          22.3964,
          23.0387663,
          22.533333,
          56.2,
          23.1290798,
          13.7563,
          35.3200263,
          41.8354,
          26.076111,
          36.6686,
          45.751548,
          45.751548,
          51.5001524,
          35.6895,
          35.6895,
          45.2796,
          8.538,
          39.0851,
          45.509062,
          22.3964,
          35.6895,
          53.4562,
          41.608635,
          39.75,
          20.5937,
          51.2538,
          -25.4283563,
          49.899444,
          8.95,
          55.378051,
          15.783471,
          18.201111,
          53.4562,
          -22.9014475,
          43.365,
          4.5981,
          46.1380869,
          49.899444,
          49.899444,
          45.690284,
          21.383889,
          18.451522,
          20.136667,
          21.2820788,
          20.9677756,
          61.524,
          16.252461,
          45.364722,
          39.904,
          61.524,
          21.5218,
          -6.3776,
          18.116667,
          38.666667,
          52.0588,
          34.693889,
          51.5001524,
          -22.543889,
          45.033333,
          49.899444,
          -36.5588,
          -23.6266015,
          48.2082,
          45.2796,
          45.2796,
          60.1282,
          33.2935,
          23.1322,
          38.666667,
          13.7522,
          45.194163,
          18.036944,
          18.451522,
          18.036944,
          18.0126282,
          31.2304,
          30.766667,
          53.4562,
          45.5892169,
          18.0126282,
          18.201111,
          -34.883611,
          -22.9014475,
          18.201111,
          -22.9014475,
          51.217,
          45.066667,
          22.3964,
          46.612837,
          -21.5201054,
          48.8375,
          55.866667,
          23.1290798,
          53.4562,
          35.1802,
          31.2304,
          23.1290798,
          null,
          14.613333,
          39.6,
          30.25,
          53.4562,
          14.5822592
         ],
         "legendgroup": "",
         "lon": [
          24.333,
          -80.4402944,
          45.0382,
          -74.2973,
          -66.1175,
          -66.1175,
          18.068611,
          24.409477,
          34.796277,
          28,
          138.4878944,
          -79.55,
          -80.7821,
          -71.543,
          30.3609,
          2.3508487,
          -56.181944,
          -66.829414,
          10.7522,
          144.963056,
          88.3702152,
          88.3702152,
          121.4737,
          114.4687,
          120.6,
          104.1954,
          104.1954,
          113.2643585,
          116.4074,
          114.1095,
          121.4737,
          145.469,
          144.9631,
          -72.014245,
          151.13481,
          -67.598333,
          18.2908836,
          15.2756481,
          -43.1789159,
          -43.1789159,
          -65.6606059,
          -71.9,
          -0.1262362,
          -72.723111,
          -73.5491,
          18.6435,
          -73.553363,
          -51.9253,
          35.513056,
          13.4063,
          16.5513616,
          -44.453738,
          105.3188,
          113.2643585,
          36.29805,
          -67.275443,
          -82.3452,
          -73.553363,
          -79.866667,
          -43.1789159,
          -43.1789159,
          14.9192394,
          -70.390128,
          112.741376,
          -84.05406,
          19.076945,
          19.076945,
          -90.535278,
          -52.707222,
          104.1954,
          96.15,
          105.3188,
          45.0382,
          -51.9253,
          88.3702152,
          28.9638,
          -66.1175,
          -66.1175,
          -66.1175,
          74.00092,
          126.652222,
          9.8451,
          74.00092,
          34.988765,
          139.6917,
          135.1831,
          114.1095,
          -81.205828,
          113.35,
          12.566667,
          113.2643585,
          100.5018,
          139.5800484,
          123.4294,
          119.306389,
          117.0204,
          -63.0589655,
          -63.0589655,
          -0.1262362,
          139.6917,
          139.6917,
          -66.0628,
          -80.7821,
          117.1994,
          -73.553363,
          114.1095,
          139.6917,
          -7.4934,
          21.745275,
          37.016667,
          78.9629,
          -85.3232,
          -49.2732515,
          -97.139167,
          -79.55,
          -3.435973,
          -90.230759,
          -67.139722,
          -7.4934,
          -43.1789159,
          -8.41,
          -74.07583,
          -60.1946735,
          -97.139167,
          -97.139167,
          -64.378028,
          -77.9075,
          -66.069481,
          -75.213889,
          -89.6633118,
          -89.6242631,
          105.3188,
          -92.135835,
          -63.28,
          116.4075,
          105.3188,
          -77.7812,
          108.3865,
          -65.416667,
          39.216667,
          -9.5072,
          135.502222,
          -0.1262362,
          -44.170833,
          38.966667,
          -97.139167,
          145.469,
          -70.390128,
          16.3738,
          -66.0628,
          -66.0628,
          18.6435,
          130.0887,
          113.2665,
          39.216667,
          100.4939,
          -67.275443,
          -66.850278,
          -66.069481,
          -66.850278,
          -66.6260381,
          121.4737,
          120.75,
          -7.4934,
          -62.6437054,
          -66.6260381,
          -67.139722,
          -56.181944,
          -43.1789159,
          -67.139722,
          -43.1789159,
          4.4,
          -64.183333,
          114.1095,
          -72.694855,
          -42.6446473,
          2.4833,
          12.833333,
          113.2643585,
          -7.4934,
          136.9066,
          121.4737,
          113.2643585,
          null,
          -90.535278,
          118.176111,
          120.166667,
          -7.4934,
          120.9748038
         ],
         "marker": {
          "color": [
           1928,
           1909,
           1917,
           1941,
           1911,
           1894,
           1921,
           1918,
           1932,
           1932,
           1907,
           1938,
           1918,
           1921,
           1927,
           1926,
           1924,
           1912,
           1925,
           1906,
           1931,
           1931,
           1916,
           1921,
           1923,
           1922,
           1911,
           1920,
           1925,
           1927,
           1942,
           1905,
           1907,
           1884,
           1908,
           1878,
           1941,
           1913,
           1894,
           1878,
           1915,
           1904,
           1910,
           1931,
           1925,
           1930,
           1888,
           1879,
           1914,
           1921,
           1906,
           1888,
           1925,
           1917,
           1920,
           1900,
           1918,
           1888,
           1943,
           1889,
           1882,
           1923,
           1883,
           1924,
           1917,
           1925,
           1925,
           1932,
           1894,
           1910,
           1917,
           1923,
           1935,
           1916,
           1936,
           1943,
           1894,
           1894,
           1897,
           1939,
           1922,
           1880,
           1939,
           1926,
           1893,
           1930,
           1918,
           1907,
           1887,
           1930,
           1932,
           1931,
           1901,
           1918,
           1920,
           1918,
           1927,
           1928,
           1900,
           1877,
           1925,
           1933,
           1941,
           1914,
           1929,
           1917,
           1876,
           1909,
           1932,
           1911,
           1943,
           1915,
           1921,
           1932,
           1939,
           1932,
           1887,
           1930,
           1896,
           1885,
           1926,
           1922,
           1922,
           1909,
           1896,
           1913,
           1906,
           1906,
           1896,
           1907,
           1905,
           1925,
           1909,
           1921,
           1924,
           1928,
           1916,
           1923,
           1930,
           1900,
           1906,
           1888,
           1930,
           1879,
           1932,
           1891,
           1906,
           1921,
           1925,
           1895,
           1905,
           1924,
           1876,
           1920,
           1917,
           1940,
           1877,
           1911,
           1941,
           1911,
           1942,
           1920,
           1920,
           1923,
           1925,
           1899,
           1912,
           1924,
           1910,
           1914,
           1878,
           1888,
           1909,
           1884,
           1932,
           1903,
           1921,
           1925,
           1916,
           1914,
           1909,
           1914,
           1919,
           null,
           1900,
           null,
           1914,
           1924,
           1943
          ],
          "coloraxis": "coloraxis",
          "symbol": "circle"
         },
         "mode": "markers",
         "name": "",
         "showlegend": false,
         "type": "scattergeo"
        }
       ],
       "layout": {
        "coloraxis": {
         "colorbar": {
          "title": {
           "text": "classof"
          }
         },
         "colorscale": [
          [
           0,
           "#0d0887"
          ],
          [
           0.1111111111111111,
           "#46039f"
          ],
          [
           0.2222222222222222,
           "#7201a8"
          ],
          [
           0.3333333333333333,
           "#9c179e"
          ],
          [
           0.4444444444444444,
           "#bd3786"
          ],
          [
           0.5555555555555556,
           "#d8576b"
          ],
          [
           0.6666666666666666,
           "#ed7953"
          ],
          [
           0.7777777777777778,
           "#fb9f3a"
          ],
          [
           0.8888888888888888,
           "#fdca26"
          ],
          [
           1,
           "#f0f921"
          ]
         ]
        },
        "geo": {
         "center": {},
         "domain": {
          "x": [
           0,
           1
          ],
          "y": [
           0,
           1
          ]
         },
         "projection": {
          "type": "winkel tripel"
         }
        },
        "legend": {
         "tracegroupgap": 0
        },
        "margin": {
         "t": 60
        },
        "template": {
         "data": {
          "bar": [
           {
            "error_x": {
             "color": "#2a3f5f"
            },
            "error_y": {
             "color": "#2a3f5f"
            },
            "marker": {
             "line": {
              "color": "#E5ECF6",
              "width": 0.5
             },
             "pattern": {
              "fillmode": "overlay",
              "size": 10,
              "solidity": 0.2
             }
            },
            "type": "bar"
           }
          ],
          "barpolar": [
           {
            "marker": {
             "line": {
              "color": "#E5ECF6",
              "width": 0.5
             },
             "pattern": {
              "fillmode": "overlay",
              "size": 10,
              "solidity": 0.2
             }
            },
            "type": "barpolar"
           }
          ],
          "carpet": [
           {
            "aaxis": {
             "endlinecolor": "#2a3f5f",
             "gridcolor": "white",
             "linecolor": "white",
             "minorgridcolor": "white",
             "startlinecolor": "#2a3f5f"
            },
            "baxis": {
             "endlinecolor": "#2a3f5f",
             "gridcolor": "white",
             "linecolor": "white",
             "minorgridcolor": "white",
             "startlinecolor": "#2a3f5f"
            },
            "type": "carpet"
           }
          ],
          "choropleth": [
           {
            "colorbar": {
             "outlinewidth": 0,
             "ticks": ""
            },
            "type": "choropleth"
           }
          ],
          "contour": [
           {
            "colorbar": {
             "outlinewidth": 0,
             "ticks": ""
            },
            "colorscale": [
             [
              0,
              "#0d0887"
             ],
             [
              0.1111111111111111,
              "#46039f"
             ],
             [
              0.2222222222222222,
              "#7201a8"
             ],
             [
              0.3333333333333333,
              "#9c179e"
             ],
             [
              0.4444444444444444,
              "#bd3786"
             ],
             [
              0.5555555555555556,
              "#d8576b"
             ],
             [
              0.6666666666666666,
              "#ed7953"
             ],
             [
              0.7777777777777778,
              "#fb9f3a"
             ],
             [
              0.8888888888888888,
              "#fdca26"
             ],
             [
              1,
              "#f0f921"
             ]
            ],
            "type": "contour"
           }
          ],
          "contourcarpet": [
           {
            "colorbar": {
             "outlinewidth": 0,
             "ticks": ""
            },
            "type": "contourcarpet"
           }
          ],
          "heatmap": [
           {
            "colorbar": {
             "outlinewidth": 0,
             "ticks": ""
            },
            "colorscale": [
             [
              0,
              "#0d0887"
             ],
             [
              0.1111111111111111,
              "#46039f"
             ],
             [
              0.2222222222222222,
              "#7201a8"
             ],
             [
              0.3333333333333333,
              "#9c179e"
             ],
             [
              0.4444444444444444,
              "#bd3786"
             ],
             [
              0.5555555555555556,
              "#d8576b"
             ],
             [
              0.6666666666666666,
              "#ed7953"
             ],
             [
              0.7777777777777778,
              "#fb9f3a"
             ],
             [
              0.8888888888888888,
              "#fdca26"
             ],
             [
              1,
              "#f0f921"
             ]
            ],
            "type": "heatmap"
           }
          ],
          "heatmapgl": [
           {
            "colorbar": {
             "outlinewidth": 0,
             "ticks": ""
            },
            "colorscale": [
             [
              0,
              "#0d0887"
             ],
             [
              0.1111111111111111,
              "#46039f"
             ],
             [
              0.2222222222222222,
              "#7201a8"
             ],
             [
              0.3333333333333333,
              "#9c179e"
             ],
             [
              0.4444444444444444,
              "#bd3786"
             ],
             [
              0.5555555555555556,
              "#d8576b"
             ],
             [
              0.6666666666666666,
              "#ed7953"
             ],
             [
              0.7777777777777778,
              "#fb9f3a"
             ],
             [
              0.8888888888888888,
              "#fdca26"
             ],
             [
              1,
              "#f0f921"
             ]
            ],
            "type": "heatmapgl"
           }
          ],
          "histogram": [
           {
            "marker": {
             "pattern": {
              "fillmode": "overlay",
              "size": 10,
              "solidity": 0.2
             }
            },
            "type": "histogram"
           }
          ],
          "histogram2d": [
           {
            "colorbar": {
             "outlinewidth": 0,
             "ticks": ""
            },
            "colorscale": [
             [
              0,
              "#0d0887"
             ],
             [
              0.1111111111111111,
              "#46039f"
             ],
             [
              0.2222222222222222,
              "#7201a8"
             ],
             [
              0.3333333333333333,
              "#9c179e"
             ],
             [
              0.4444444444444444,
              "#bd3786"
             ],
             [
              0.5555555555555556,
              "#d8576b"
             ],
             [
              0.6666666666666666,
              "#ed7953"
             ],
             [
              0.7777777777777778,
              "#fb9f3a"
             ],
             [
              0.8888888888888888,
              "#fdca26"
             ],
             [
              1,
              "#f0f921"
             ]
            ],
            "type": "histogram2d"
           }
          ],
          "histogram2dcontour": [
           {
            "colorbar": {
             "outlinewidth": 0,
             "ticks": ""
            },
            "colorscale": [
             [
              0,
              "#0d0887"
             ],
             [
              0.1111111111111111,
              "#46039f"
             ],
             [
              0.2222222222222222,
              "#7201a8"
             ],
             [
              0.3333333333333333,
              "#9c179e"
             ],
             [
              0.4444444444444444,
              "#bd3786"
             ],
             [
              0.5555555555555556,
              "#d8576b"
             ],
             [
              0.6666666666666666,
              "#ed7953"
             ],
             [
              0.7777777777777778,
              "#fb9f3a"
             ],
             [
              0.8888888888888888,
              "#fdca26"
             ],
             [
              1,
              "#f0f921"
             ]
            ],
            "type": "histogram2dcontour"
           }
          ],
          "mesh3d": [
           {
            "colorbar": {
             "outlinewidth": 0,
             "ticks": ""
            },
            "type": "mesh3d"
           }
          ],
          "parcoords": [
           {
            "line": {
             "colorbar": {
              "outlinewidth": 0,
              "ticks": ""
             }
            },
            "type": "parcoords"
           }
          ],
          "pie": [
           {
            "automargin": true,
            "type": "pie"
           }
          ],
          "scatter": [
           {
            "marker": {
             "colorbar": {
              "outlinewidth": 0,
              "ticks": ""
             }
            },
            "type": "scatter"
           }
          ],
          "scatter3d": [
           {
            "line": {
             "colorbar": {
              "outlinewidth": 0,
              "ticks": ""
             }
            },
            "marker": {
             "colorbar": {
              "outlinewidth": 0,
              "ticks": ""
             }
            },
            "type": "scatter3d"
           }
          ],
          "scattercarpet": [
           {
            "marker": {
             "colorbar": {
              "outlinewidth": 0,
              "ticks": ""
             }
            },
            "type": "scattercarpet"
           }
          ],
          "scattergeo": [
           {
            "marker": {
             "colorbar": {
              "outlinewidth": 0,
              "ticks": ""
             }
            },
            "type": "scattergeo"
           }
          ],
          "scattergl": [
           {
            "marker": {
             "colorbar": {
              "outlinewidth": 0,
              "ticks": ""
             }
            },
            "type": "scattergl"
           }
          ],
          "scattermapbox": [
           {
            "marker": {
             "colorbar": {
              "outlinewidth": 0,
              "ticks": ""
             }
            },
            "type": "scattermapbox"
           }
          ],
          "scatterpolar": [
           {
            "marker": {
             "colorbar": {
              "outlinewidth": 0,
              "ticks": ""
             }
            },
            "type": "scatterpolar"
           }
          ],
          "scatterpolargl": [
           {
            "marker": {
             "colorbar": {
              "outlinewidth": 0,
              "ticks": ""
             }
            },
            "type": "scatterpolargl"
           }
          ],
          "scatterternary": [
           {
            "marker": {
             "colorbar": {
              "outlinewidth": 0,
              "ticks": ""
             }
            },
            "type": "scatterternary"
           }
          ],
          "surface": [
           {
            "colorbar": {
             "outlinewidth": 0,
             "ticks": ""
            },
            "colorscale": [
             [
              0,
              "#0d0887"
             ],
             [
              0.1111111111111111,
              "#46039f"
             ],
             [
              0.2222222222222222,
              "#7201a8"
             ],
             [
              0.3333333333333333,
              "#9c179e"
             ],
             [
              0.4444444444444444,
              "#bd3786"
             ],
             [
              0.5555555555555556,
              "#d8576b"
             ],
             [
              0.6666666666666666,
              "#ed7953"
             ],
             [
              0.7777777777777778,
              "#fb9f3a"
             ],
             [
              0.8888888888888888,
              "#fdca26"
             ],
             [
              1,
              "#f0f921"
             ]
            ],
            "type": "surface"
           }
          ],
          "table": [
           {
            "cells": {
             "fill": {
              "color": "#EBF0F8"
             },
             "line": {
              "color": "white"
             }
            },
            "header": {
             "fill": {
              "color": "#C8D4E3"
             },
             "line": {
              "color": "white"
             }
            },
            "type": "table"
           }
          ]
         },
         "layout": {
          "annotationdefaults": {
           "arrowcolor": "#2a3f5f",
           "arrowhead": 0,
           "arrowwidth": 1
          },
          "autotypenumbers": "strict",
          "coloraxis": {
           "colorbar": {
            "outlinewidth": 0,
            "ticks": ""
           }
          },
          "colorscale": {
           "diverging": [
            [
             0,
             "#8e0152"
            ],
            [
             0.1,
             "#c51b7d"
            ],
            [
             0.2,
             "#de77ae"
            ],
            [
             0.3,
             "#f1b6da"
            ],
            [
             0.4,
             "#fde0ef"
            ],
            [
             0.5,
             "#f7f7f7"
            ],
            [
             0.6,
             "#e6f5d0"
            ],
            [
             0.7,
             "#b8e186"
            ],
            [
             0.8,
             "#7fbc41"
            ],
            [
             0.9,
             "#4d9221"
            ],
            [
             1,
             "#276419"
            ]
           ],
           "sequential": [
            [
             0,
             "#0d0887"
            ],
            [
             0.1111111111111111,
             "#46039f"
            ],
            [
             0.2222222222222222,
             "#7201a8"
            ],
            [
             0.3333333333333333,
             "#9c179e"
            ],
            [
             0.4444444444444444,
             "#bd3786"
            ],
            [
             0.5555555555555556,
             "#d8576b"
            ],
            [
             0.6666666666666666,
             "#ed7953"
            ],
            [
             0.7777777777777778,
             "#fb9f3a"
            ],
            [
             0.8888888888888888,
             "#fdca26"
            ],
            [
             1,
             "#f0f921"
            ]
           ],
           "sequentialminus": [
            [
             0,
             "#0d0887"
            ],
            [
             0.1111111111111111,
             "#46039f"
            ],
            [
             0.2222222222222222,
             "#7201a8"
            ],
            [
             0.3333333333333333,
             "#9c179e"
            ],
            [
             0.4444444444444444,
             "#bd3786"
            ],
            [
             0.5555555555555556,
             "#d8576b"
            ],
            [
             0.6666666666666666,
             "#ed7953"
            ],
            [
             0.7777777777777778,
             "#fb9f3a"
            ],
            [
             0.8888888888888888,
             "#fdca26"
            ],
            [
             1,
             "#f0f921"
            ]
           ]
          },
          "colorway": [
           "#636efa",
           "#EF553B",
           "#00cc96",
           "#ab63fa",
           "#FFA15A",
           "#19d3f3",
           "#FF6692",
           "#B6E880",
           "#FF97FF",
           "#FECB52"
          ],
          "font": {
           "color": "#2a3f5f"
          },
          "geo": {
           "bgcolor": "white",
           "lakecolor": "white",
           "landcolor": "#E5ECF6",
           "showlakes": true,
           "showland": true,
           "subunitcolor": "white"
          },
          "hoverlabel": {
           "align": "left"
          },
          "hovermode": "closest",
          "mapbox": {
           "style": "light"
          },
          "paper_bgcolor": "white",
          "plot_bgcolor": "#E5ECF6",
          "polar": {
           "angularaxis": {
            "gridcolor": "white",
            "linecolor": "white",
            "ticks": ""
           },
           "bgcolor": "#E5ECF6",
           "radialaxis": {
            "gridcolor": "white",
            "linecolor": "white",
            "ticks": ""
           }
          },
          "scene": {
           "xaxis": {
            "backgroundcolor": "#E5ECF6",
            "gridcolor": "white",
            "gridwidth": 2,
            "linecolor": "white",
            "showbackground": true,
            "ticks": "",
            "zerolinecolor": "white"
           },
           "yaxis": {
            "backgroundcolor": "#E5ECF6",
            "gridcolor": "white",
            "gridwidth": 2,
            "linecolor": "white",
            "showbackground": true,
            "ticks": "",
            "zerolinecolor": "white"
           },
           "zaxis": {
            "backgroundcolor": "#E5ECF6",
            "gridcolor": "white",
            "gridwidth": 2,
            "linecolor": "white",
            "showbackground": true,
            "ticks": "",
            "zerolinecolor": "white"
           }
          },
          "shapedefaults": {
           "line": {
            "color": "#2a3f5f"
           }
          },
          "ternary": {
           "aaxis": {
            "gridcolor": "white",
            "linecolor": "white",
            "ticks": ""
           },
           "baxis": {
            "gridcolor": "white",
            "linecolor": "white",
            "ticks": ""
           },
           "bgcolor": "#E5ECF6",
           "caxis": {
            "gridcolor": "white",
            "linecolor": "white",
            "ticks": ""
           }
          },
          "title": {
           "x": 0.05
          },
          "xaxis": {
           "automargin": true,
           "gridcolor": "white",
           "linecolor": "white",
           "ticks": "",
           "title": {
            "standoff": 15
           },
           "zerolinecolor": "white",
           "zerolinewidth": 2
          },
          "yaxis": {
           "automargin": true,
           "gridcolor": "white",
           "linecolor": "white",
           "ticks": "",
           "title": {
            "standoff": 15
           },
           "zerolinecolor": "white",
           "zerolinewidth": 2
          }
         }
        }
       }
      },
      "text/html": [
       "<div>                            <div id=\"40993149-5e6d-4292-82c5-824b8214fce0\" class=\"plotly-graph-div\" style=\"height:525px; width:100%;\"></div>            <script type=\"text/javascript\">                require([\"plotly\"], function(Plotly) {                    window.PLOTLYENV=window.PLOTLYENV || {};                                    if (document.getElementById(\"40993149-5e6d-4292-82c5-824b8214fce0\")) {                    Plotly.newPlot(                        \"40993149-5e6d-4292-82c5-824b8214fce0\",                        [{\"customdata\":[[\"T. Pazordjik, Bulgaria\",1928.0],[\"Cienfuegos, Cuba\",1909.0],[\"Armenia\",1917.0],[\"Colombia\",1941.0],[\"Yarmouth, Nova Scotia\",1911.0],[\"Yarmouth, Nova Scotia\",1894.0],[\"Stockholm, Sweden\",1921.0],[\"Cavalla, Greece\",1918.0],[\"Tel Aviv, Palestine\",1932.0],[\"Rhodes Island, Greece\",1932.0],[\"Largs Bay, Australia\",1907.0],[\"Balboa Heights, Canal Zone\",1938.0],[\"Canal Zone, Panama\",1918.0],[\"Chili\",1921.0],[\"Petrograd, Russia\",1927.0],[\"Paris, France\",1926.0],[\"Montivideo, Uruguay\",1924.0],[\"La Rioja, Argentina\",1912.0],[\"Christiania, Norway\",1925.0],[\"Melbourne, Australia\",1906.0],[\"Calcutta, India\",1931.0],[\"Calcutta, India\",1931.0],[\"Shanghai, China\",1916.0],[\"Chili, China\",1921.0],[\"Soochow, China\",1923.0],[\"Fong Chow, China\",1922.0],[\"Anhin, China\",1911.0],[\"Canton, China\",1920.0],[\"Peking, China\",1925.0],[\"Hong Kong, China\",1927.0],[\"Shanghai, China\",1942.0],[\"Victoria, Australia\",1905.0],[\"Melbourne, Australia\",1907.0],[\"Danville, Quebec\",1884.0],[\"Pymble, Australia\",1908.0],[\"Woodstock, New Brunswick\",1878.0],[\"Mahr, Ostrau, Czechoslavakia\",1941.0],[\"Panni, Italy\",1913.0],[\"Rio Janeiro, Brazil\",1894.0],[\"Rio Janeiro, Brazil\",1878.0],[\"Fajardo, Puerto Rico\",1915.0],[\"Sherbrooke, Quebec\",1904.0],[\"London, England\",1910.0],[\"Granby, Quebec\",1931.0],[\"Frost Village, Quebec\",1925.0],[\"Sweden\",1930.0],[\"Montreal, Quebec\",1888.0],[\"Tatuky City, Brazil\",1879.0],[\"Beyrouth, Syria\",1914.0],[\"Berlin, Germany\",1921.0],[\"Vesteras, Sweden\",1906.0],[\"Rezende, Brazil\",1888.0],[\"Russia\",1925.0],[\"Canton, China\",1917.0],[\"Damascus, Syria\",1920.0],[\" St. Stephen, New Brunswick\",1900.0],[\"Havana, Cuba\",1918.0],[\"Montreal, Quebec\",1888.0],[\"Hamilton, Ontario\",1943.0],[\"Rio Janeiro, Brazil\",1889.0],[\"Rio Janeiro, Brazil\",1882.0],[\"Larino, Province of Campobasso, Italy\",1923.0],[\"Antofagasta, Chili\",1883.0],[\"Soerabaya, Java\",1924.0],[\"San Jose, Costa Rica\",1917.0],[\"Kroken, Sweden\",1925.0],[\"Kroken, Sweden\",1925.0],[\"Guatemala City, Guatemala\",1932.0],[\"St. Johns, New Foundland\",1894.0],[null,1910.0],[\"Rangoon, Burma\",1917.0],[\"Russia\",1923.0],[\"Armenia\",1935.0],[\"Brazil\",1916.0],[\"Calcutta, India\",1936.0],[\"Istanbul, Turkey\",1943.0],[\"Yarmouth, Nova Scotia\",1894.0],[\"Yarmouth, Nova Scotia\",1894.0],[\"Yarmouth, Nova Scotia\",1897.0],[\"Dist Satara, India\",1939.0],[\"Songdo, Korea\",1922.0],[\"Halsm\\u00fchlen, Germany\",1880.0],[\"Dist Satara, India\",1939.0],[\"Haifa, Palestine\",1926.0],[\"Tokio, Japan\",1893.0],[\"Hyogoken, Japan\",1930.0],[\"Hong Kong, China\",1918.0],[\"Cardenas, Cuba\",1907.0],[\"Heong San, China\",1887.0],[\"Hoganas, Sweden\",1930.0],[\"Canton, China\",1932.0],[\"Bangkok, Siam\",1931.0],[\"Yokohama, Japan\",1901.0],[\"Fungtien, China\",1918.0],[\"Fuchow, China\",1920.0],[\"Shantung, China\",1918.0],[\"River John, Nova Scotia\",1927.0],[\"River John, Nova Scotia\",1928.0],[\"London, England\",1900.0],[\"Tokie, Japan\",1877.0],[\"Tokyo, Japan\",1925.0],[\"St. John, New Brunswick\",1933.0],[\"Fort Clayton, Canal Zone\",1941.0],[\"Tientsin, China\",1914.0],[\"Montreal, Quebec\",1929.0],[\"Hong Kong, China\",1917.0],[\"Tokie, Japan\",1876.0],[\"Castledown, Ireland\",1909.0],[\"Macedonia\",1932.0],[\"Sivas, Turkey\",1911.0],[\"India\",1943.0],[\"Fort William, Ontario\",1915.0],[\"Curytiba, Parana, Brazil\",1921.0],[\" Winnipeg, Canada\",1932.0],[\"Balboa Heights, Canal Zone\",1939.0],[\"England\",1932.0],[\"Guatemala\",1887.0],[\"Mayaguez, Puerto Rico\",1930.0],[\"Mexico City, Mexico\",1896.0],[\"Rio Janeiro, Brazil\",1885.0],[\"Coruna, Spain\",1926.0],[\"Bogata, Columbia\",1922.0],[\"Syndey, Nova Scotia\",1922.0],[\"Winnipeg, Manitoba\",1909.0],[\"Winnipeg, Manitoba\",1896.0],[\"River Hebert, Nova Scotia\",1913.0],[\"Puerto Principe, Cuba\",1906.0],[\"San Juan, Puerto Rico\",1906.0],[\"Guantanamo, Cuba\",1896.0],[\"Progreso, Mexico\",1907.0],[\"Merida, Mexico\",1905.0],[\"Russia\",1925.0],[\"Comitan, Mexico\",1909.0],[\"Truro, Nova Scotia\",1921.0],[\"Peking, China\",1924.0],[\"Russia\",1928.0],[\"Oriente, Cuba\",1916.0],[\"Indramajoe, Java\",1923.0],[\"Vieques, Puerto Rico\",1930.0],[\"Harpoot, Armenia\",1900.0],[\"Killarney, Ireland\",1906.0],[\"Osaka, Japan\",1888.0],[\"London, England\",1930.0],[\"Barra Mansa, Rio de Janerio\",1879.0],[\"Krasnodar, Russia\",1932.0],[\"Winnipeg, Manitoba\",1891.0],[\"Victoria, Australia\",1906.0],[\"Autofagasta, Chile\",1921.0],[\"Vienna, Austria\",1925.0],[\"St. John, New Brunswick\",1895.0],[\"St. John, New Brunswick\",1905.0],[\"Sweden\",1924.0],[\"Saga, Japan\",1876.0],[\"Kwangtung, China\",1920.0],[\"Harpoot, Turkey\",1917.0],[\"Bangkok, Thailand\",1940.0],[\"St. Stephen, New Brunswick\",1877.0],[\"Yauco, Puerto Rico\",1911.0],[\"San Juan, Puerto Rico\",1941.0],[\"Yauco, Puerto Rico\",1911.0],[\"Ponce, Puerto Rico\",1942.0],[\"Shanghai, China\",1920.0],[\"Kashing, Chekiang, China\",1920.0],[\"Peking, China\",1923.0],[\"New Glasgow, Nova Scotia\",1925.0],[\"Ponce, Puerto Rico\",1899.0],[\"Mayaguez, Puerto Rico\",1912.0],[\"Montivideo, Uruguay\",1924.0],[\"Rio de Janeiro, Brazil\",1910.0],[\"Mayaguez, Puerto Rico\",1914.0],[\"Rio Janeiro, Brazil\",1878.0],[\"Antwerp, Belgium\",1888.0],[\"Hanstsport, Nova Scotia\",1909.0],[\"Hong Kong, China\",1884.0],[\"Grand Mere, Quebec\",1932.0],[\"Leopoldina, Brazil\",1903.0],[\"Nogent sur Marne, France\",1921.0],[\"Landskiona, Sweden\",1925.0],[\"Canton, China\",1916.0],[\"Peking, China\",1914.0],[\"Owari, Japan\",1909.0],[\"Shanghai, China\",1914.0],[\"Canton, China\",1919.0],[null,null],[\"Guatemala City, Guatemala\",1900.0],[\"Tang Shan, Chihli, China\",null],[\"Hangchow, China\",1914.0],[\"Peking, China\",1924.0],[\"Manila, Philippines\",1943.0]],\"geo\":\"geo\",\"hovertemplate\":\"<b>%{hovertext}</b><br><br>hlat=%{lat}<br>hlong=%{lon}<br>home1=%{customdata[0]}<br>classof=%{marker.color}<extra></extra>\",\"hovertext\":[\"Abadjieff, Ivan Varban\",\"Aguirre, Frank M.\",\"Ajemian, Shahin A.\",\"Alfonso, Fernando\",\"Allen, Kenneth\",\"Allen, M. Clifford\",\"Anderson, Hans Enar\",\"Apostolou, James\",\"Aronov, Eliezer\",\"Athanasiades, Emanuel Stylianos\",\"Bagot, Christopher G.S.\",\"Banan Frederick B. Jr. \",\"Barber, Frederick Gordon\",\"Besa, Hernan\",\"Boubnoff, Nicholas A.\",\"Brown, Francis Lestrade\",\"Camps, Antonio Bernardo\",\"Capdevila, Pedro M.\",\"Carlstom, Carl Fredrik\",\"Cave, Jordayne D.\",\"Chakrabarthy, Monmatha Nath\",\"Chakravarti, Sudhir Kumar\",\"Chan, Ernest Bing\",\"Chang, Lan Ko\",\"Chen Sarcey San-Tsai\",\"Chen, Li\",\"Chin, Yu-shu\",\"Ching, Yao-Chuo\",\"Chou, Tzu-hsu\",\"Chow, Yat Wo\",\"Chu, Morris Chun-Chia\",\"Clapp, F. Boardman Jr.\",\"Clapp, Leroy P.\",\"Cleveland, Richard C.\",\"Cobb, Victor\",\"Connell, Jeremiah M.\",\"Coontz, Gustaf\",\"Croce, Michele F.\",\"Da Cruz, Henrique B.\",\"Da Silveira, J. L. M. \",\"Diaz, Vincent\",\"Dougherty, John J.\",\"Downe, Edward\",\"Dunn, Leonard Gill\",\"Eastman, Harold Lewis\",\"Ericson, Alvan Otto\",\"Fairman, F.L. Wilson\",\"Falcao, E. A.\",\"Farah, Hanna K.\",\"Fisher, Edward John\",\"Forsstedt, Ralph S.\",\"Franklin, Alfredo A.\",\"Friedman, Hyman Julius\",\"Fung, Wai\",\"Gammal, Charles Abraham\",\"Ganong, Walter K.\",\"Garcia, Jose Manuel\",\"Gilman, Ernest\",\"Goddard, Richard Cook \",\"Gomes, Alfredo\",\"Gray, Robert\",\"Greco, Aldo Pardo\",\"Greene, Richard W.\",\"Han, Soen Lok\",\"Hanckel, Robert C.\",\"Hansen, Harold\",\"Hansen, Odd Arnold\",\"Herrarte, Benjamin Lopez\",\"Howland, Lewis A.\",\"Huang, Chen S.\",\"Huie, Yuen K.\",\"Hurowitz, Max\",\"Ivanzian, Aghasi Ivy\",\"Junqueira, Joaquim d.k.\",\"Kaplanko, Alexander\",\"Kerven, Danyal Nahit\",\"Killam, Frank E.\",\"Killam, Leslie\",\"Killam, W. Stanley\",\"Kirloskar, Ravindra\",\"Ko, Chaong Myung\",\"K\\u00f6pke, Ernst\",\"Korolyshun, Russell Theodore\",\"Kurkjian, Vahan Boghos\",\"Kuwada, Gompei\",\"Kuwada, Suenori\",\"Kwong, Eugene Faimont\",\"Labrit, Alberto\",\"Landsing, Jang\",\"Larson, Carl Gustav\",\"Lee, Chock H.\",\"Leibovitch, Abram\",\"Loomis, Evarts J.\",\"Lu, Ching Kui\",\"Lu, Wen Siang\",\"Ma, Shan-pao\",\"MacLennan, Charles\",\"MacNabb, James Austin\",\"Mathews, William J. \",\"Matsdaira, Tada-aty M.\",\"Matsuo, Kenzo\",\"McFarlane, Weldon Murray\",\"McMurray, Clarence McCain, Jr.\",\"Mei, Yi Chi\",\"Minnick, John Hamilton\",\"Mok, Kai Yan\",\"Mori, Haryosh\",\"Murphy, Patrick J.\",\"Nizanoff, John\",\"Paelian, Garabed H.\",\"Pattani, Shashikant Batuk\",\"Pennimam, Raymond B.\",\"Pereira, Ricardo Gonsalves\",\"Perry, Edmund Alexander\",\"Piper, Raymond Burton\",\"Porteus, John Horton\",\"Quevedo, Narciso F.\",\"Ramirez, Efrain\",\"Ramirez, Francisco J. \",\"Ramos, Ajax A.\",\"Rey, Pedro\",\"Reyes, Joaquin\",\"Rice, Milton Jerome\",\"Riley, Harold\",\"Riley, R. Sanford\",\"Rockwell, Reginald\",\"Rodriguez, Benito A.\",\"Romen, Rafael M. \",\"Ros, Antonio M.\",\"Rosado, Felix Alonso\",\"Rosado, Manuel G.\",\"Rosenbloom, Abraham\",\"Rovelo, Jose\",\"Russell, Alan Woodworth\",\"Sah, Peter Pen Otieh\",\"Samoylenko, Gregory John\",\"Sanchez, Federico Guillermo\",\"See, Woon-how\",\"Serrano, Carlos Felipe\",\"Shaghalian, Sarkis\",\"Sheehan, Michael J.\",\"Shimomura, Kotaro M. \",\"Shreeve, Herbert Prescott\",\"Silva, Joaquim Mariano\",\"Skuropat, Leon Deomidovitch\",\"Somerset, Herbert J.\",\"Staughton, Lance W.\",\"Stevenson, William Orick Jr.\",\"Stich, Otto Albert\",\"Stone, Fred L.\",\"Stone, J. Waldo\",\"Sundvall, Frithiof Ludvig\",\"Takee, Kenechiro\",\"Tan, Shao-fan\",\"Tenekejian, Zaven N.\",\"Tishyanandana, Chamroon\",\"Todd, Howard C.\",\"Totti, Etienne\",\"Totti, Etienne, Jr.\",\"Totti, Noel\",\"Totti, Noel, Jr. \",\"Tsen, Yeo Kung\",\"Tsu, Feng Chang\",\"Tsui, John Hsuch Han\",\"Underwood, Louis Ivan\",\"Valdivieso, Enrique P.\",\"Velez, Raphael V. \",\"Vera, Angel\",\"Vianna, John J.B.\",\"Vidal, Raphael\",\"Vierra, Joaquim J.\",\"Von Wrede, Guido Franz Hubert\",\"Walley, Percy B.\",\"Wan, Bing Chung\",\"Wardle, Harry Marsden\",\"Werneck, Elpidio DeL.\",\"Will, Irving Martin\",\"Winckler, Gunnar Frederick\",\"Wong, Dick\",\"Wong, John\",\"Yamada, Yoshiho\",\"Yang, Sih-zung\",\"Yen, King Lau\",\"Ynan, Z.\",\"Yrigoyen, Juan I. \",\"Yuan, Harold Hsiang-Ho\",\"Yuan, Tsong-Kyien\",\"Yuan, Tung\",\"Zaragoza, Jose Luis\"],\"lat\":[42.2,22.1444481,40.0691,4.5709,43.836111,43.836111,59.329444,40.936499,32.136871,36.167,-34.8259784,8.95,8.538,35.6751,59.9311,48.856895,-34.883611,-29.4101933,59.9139,-37.813611,22.5655734,22.5655734,31.2304,38.0371,31.3,35.8617,35.8617,23.1290798,39.9042,22.3964,31.2304,-36.5588,-37.8136,45.785197,-33.76313,46.152222,49.840794,41.2231481,-22.9014475,-22.9014475,18.3303791,45.4,51.5001524,45.398468,52.9399,60.1282,45.509062,-14.235,33.886944,52.5243,59.6164759,-22.466726,61.524,23.1290798,33.5019799,45.194163,23.0541,45.509062,43.25,-22.9014475,-22.9014475,41.8071274,-23.6266015,-7.243256,9.909576,69.6869335,69.6869335,14.613333,47.5675,35.8617,16.8,61.524,40.0691,-14.235,22.5655734,41.013,43.836111,43.836111,43.836111,17.69139,37.388889,52.6367,17.69139,32.817285,35.6895,34.6913,22.3964,23.0387663,22.533333,56.2,23.1290798,13.7563,35.3200263,41.8354,26.076111,36.6686,45.751548,45.751548,51.5001524,35.6895,35.6895,45.2796,8.538,39.0851,45.509062,22.3964,35.6895,53.4562,41.608635,39.75,20.5937,51.2538,-25.4283563,49.899444,8.95,55.378051,15.783471,18.201111,53.4562,-22.9014475,43.365,4.5981,46.1380869,49.899444,49.899444,45.690284,21.383889,18.451522,20.136667,21.2820788,20.9677756,61.524,16.252461,45.364722,39.904,61.524,21.5218,-6.3776,18.116667,38.666667,52.0588,34.693889,51.5001524,-22.543889,45.033333,49.899444,-36.5588,-23.6266015,48.2082,45.2796,45.2796,60.1282,33.2935,23.1322,38.666667,13.7522,45.194163,18.036944,18.451522,18.036944,18.0126282,31.2304,30.766667,53.4562,45.5892169,18.0126282,18.201111,-34.883611,-22.9014475,18.201111,-22.9014475,51.217,45.066667,22.3964,46.612837,-21.5201054,48.8375,55.866667,23.1290798,53.4562,35.1802,31.2304,23.1290798,null,14.613333,39.6,30.25,53.4562,14.5822592],\"legendgroup\":\"\",\"lon\":[24.333,-80.4402944,45.0382,-74.2973,-66.1175,-66.1175,18.068611,24.409477,34.796277,28.0,138.4878944,-79.55,-80.7821,-71.543,30.3609,2.3508487,-56.181944,-66.829414,10.7522,144.963056,88.3702152,88.3702152,121.4737,114.4687,120.6,104.1954,104.1954,113.2643585,116.4074,114.1095,121.4737,145.469,144.9631,-72.014245,151.13481,-67.598333,18.2908836,15.2756481,-43.1789159,-43.1789159,-65.6606059,-71.9,-0.1262362,-72.723111,-73.5491,18.6435,-73.553363,-51.9253,35.513056,13.4063,16.5513616,-44.453738,105.3188,113.2643585,36.29805,-67.275443,-82.3452,-73.553363,-79.866667,-43.1789159,-43.1789159,14.9192394,-70.390128,112.741376,-84.05406,19.076945,19.076945,-90.535278,-52.707222,104.1954,96.15,105.3188,45.0382,-51.9253,88.3702152,28.9638,-66.1175,-66.1175,-66.1175,74.00092,126.652222,9.8451,74.00092,34.988765,139.6917,135.1831,114.1095,-81.205828,113.35,12.566667,113.2643585,100.5018,139.5800484,123.4294,119.306389,117.0204,-63.0589655,-63.0589655,-0.1262362,139.6917,139.6917,-66.0628,-80.7821,117.1994,-73.553363,114.1095,139.6917,-7.4934,21.745275,37.016667,78.9629,-85.3232,-49.2732515,-97.139167,-79.55,-3.435973,-90.230759,-67.139722,-7.4934,-43.1789159,-8.41,-74.07583,-60.1946735,-97.139167,-97.139167,-64.378028,-77.9075,-66.069481,-75.213889,-89.6633118,-89.6242631,105.3188,-92.135835,-63.28,116.4075,105.3188,-77.7812,108.3865,-65.416667,39.216667,-9.5072,135.502222,-0.1262362,-44.170833,38.966667,-97.139167,145.469,-70.390128,16.3738,-66.0628,-66.0628,18.6435,130.0887,113.2665,39.216667,100.4939,-67.275443,-66.850278,-66.069481,-66.850278,-66.6260381,121.4737,120.75,-7.4934,-62.6437054,-66.6260381,-67.139722,-56.181944,-43.1789159,-67.139722,-43.1789159,4.4,-64.183333,114.1095,-72.694855,-42.6446473,2.4833,12.833333,113.2643585,-7.4934,136.9066,121.4737,113.2643585,null,-90.535278,118.176111,120.166667,-7.4934,120.9748038],\"marker\":{\"color\":[1928.0,1909.0,1917.0,1941.0,1911.0,1894.0,1921.0,1918.0,1932.0,1932.0,1907.0,1938.0,1918.0,1921.0,1927.0,1926.0,1924.0,1912.0,1925.0,1906.0,1931.0,1931.0,1916.0,1921.0,1923.0,1922.0,1911.0,1920.0,1925.0,1927.0,1942.0,1905.0,1907.0,1884.0,1908.0,1878.0,1941.0,1913.0,1894.0,1878.0,1915.0,1904.0,1910.0,1931.0,1925.0,1930.0,1888.0,1879.0,1914.0,1921.0,1906.0,1888.0,1925.0,1917.0,1920.0,1900.0,1918.0,1888.0,1943.0,1889.0,1882.0,1923.0,1883.0,1924.0,1917.0,1925.0,1925.0,1932.0,1894.0,1910.0,1917.0,1923.0,1935.0,1916.0,1936.0,1943.0,1894.0,1894.0,1897.0,1939.0,1922.0,1880.0,1939.0,1926.0,1893.0,1930.0,1918.0,1907.0,1887.0,1930.0,1932.0,1931.0,1901.0,1918.0,1920.0,1918.0,1927.0,1928.0,1900.0,1877.0,1925.0,1933.0,1941.0,1914.0,1929.0,1917.0,1876.0,1909.0,1932.0,1911.0,1943.0,1915.0,1921.0,1932.0,1939.0,1932.0,1887.0,1930.0,1896.0,1885.0,1926.0,1922.0,1922.0,1909.0,1896.0,1913.0,1906.0,1906.0,1896.0,1907.0,1905.0,1925.0,1909.0,1921.0,1924.0,1928.0,1916.0,1923.0,1930.0,1900.0,1906.0,1888.0,1930.0,1879.0,1932.0,1891.0,1906.0,1921.0,1925.0,1895.0,1905.0,1924.0,1876.0,1920.0,1917.0,1940.0,1877.0,1911.0,1941.0,1911.0,1942.0,1920.0,1920.0,1923.0,1925.0,1899.0,1912.0,1924.0,1910.0,1914.0,1878.0,1888.0,1909.0,1884.0,1932.0,1903.0,1921.0,1925.0,1916.0,1914.0,1909.0,1914.0,1919.0,null,1900.0,null,1914.0,1924.0,1943.0],\"coloraxis\":\"coloraxis\",\"symbol\":\"circle\"},\"mode\":\"markers\",\"name\":\"\",\"showlegend\":false,\"type\":\"scattergeo\"}],                        {\"coloraxis\":{\"colorbar\":{\"title\":{\"text\":\"classof\"}},\"colorscale\":[[0.0,\"#0d0887\"],[0.1111111111111111,\"#46039f\"],[0.2222222222222222,\"#7201a8\"],[0.3333333333333333,\"#9c179e\"],[0.4444444444444444,\"#bd3786\"],[0.5555555555555556,\"#d8576b\"],[0.6666666666666666,\"#ed7953\"],[0.7777777777777778,\"#fb9f3a\"],[0.8888888888888888,\"#fdca26\"],[1.0,\"#f0f921\"]]},\"geo\":{\"center\":{},\"domain\":{\"x\":[0.0,1.0],\"y\":[0.0,1.0]},\"projection\":{\"type\":\"winkel tripel\"}},\"legend\":{\"tracegroupgap\":0},\"margin\":{\"t\":60},\"template\":{\"data\":{\"bar\":[{\"error_x\":{\"color\":\"#2a3f5f\"},\"error_y\":{\"color\":\"#2a3f5f\"},\"marker\":{\"line\":{\"color\":\"#E5ECF6\",\"width\":0.5},\"pattern\":{\"fillmode\":\"overlay\",\"size\":10,\"solidity\":0.2}},\"type\":\"bar\"}],\"barpolar\":[{\"marker\":{\"line\":{\"color\":\"#E5ECF6\",\"width\":0.5},\"pattern\":{\"fillmode\":\"overlay\",\"size\":10,\"solidity\":0.2}},\"type\":\"barpolar\"}],\"carpet\":[{\"aaxis\":{\"endlinecolor\":\"#2a3f5f\",\"gridcolor\":\"white\",\"linecolor\":\"white\",\"minorgridcolor\":\"white\",\"startlinecolor\":\"#2a3f5f\"},\"baxis\":{\"endlinecolor\":\"#2a3f5f\",\"gridcolor\":\"white\",\"linecolor\":\"white\",\"minorgridcolor\":\"white\",\"startlinecolor\":\"#2a3f5f\"},\"type\":\"carpet\"}],\"choropleth\":[{\"colorbar\":{\"outlinewidth\":0,\"ticks\":\"\"},\"type\":\"choropleth\"}],\"contour\":[{\"colorbar\":{\"outlinewidth\":0,\"ticks\":\"\"},\"colorscale\":[[0.0,\"#0d0887\"],[0.1111111111111111,\"#46039f\"],[0.2222222222222222,\"#7201a8\"],[0.3333333333333333,\"#9c179e\"],[0.4444444444444444,\"#bd3786\"],[0.5555555555555556,\"#d8576b\"],[0.6666666666666666,\"#ed7953\"],[0.7777777777777778,\"#fb9f3a\"],[0.8888888888888888,\"#fdca26\"],[1.0,\"#f0f921\"]],\"type\":\"contour\"}],\"contourcarpet\":[{\"colorbar\":{\"outlinewidth\":0,\"ticks\":\"\"},\"type\":\"contourcarpet\"}],\"heatmap\":[{\"colorbar\":{\"outlinewidth\":0,\"ticks\":\"\"},\"colorscale\":[[0.0,\"#0d0887\"],[0.1111111111111111,\"#46039f\"],[0.2222222222222222,\"#7201a8\"],[0.3333333333333333,\"#9c179e\"],[0.4444444444444444,\"#bd3786\"],[0.5555555555555556,\"#d8576b\"],[0.6666666666666666,\"#ed7953\"],[0.7777777777777778,\"#fb9f3a\"],[0.8888888888888888,\"#fdca26\"],[1.0,\"#f0f921\"]],\"type\":\"heatmap\"}],\"heatmapgl\":[{\"colorbar\":{\"outlinewidth\":0,\"ticks\":\"\"},\"colorscale\":[[0.0,\"#0d0887\"],[0.1111111111111111,\"#46039f\"],[0.2222222222222222,\"#7201a8\"],[0.3333333333333333,\"#9c179e\"],[0.4444444444444444,\"#bd3786\"],[0.5555555555555556,\"#d8576b\"],[0.6666666666666666,\"#ed7953\"],[0.7777777777777778,\"#fb9f3a\"],[0.8888888888888888,\"#fdca26\"],[1.0,\"#f0f921\"]],\"type\":\"heatmapgl\"}],\"histogram\":[{\"marker\":{\"pattern\":{\"fillmode\":\"overlay\",\"size\":10,\"solidity\":0.2}},\"type\":\"histogram\"}],\"histogram2d\":[{\"colorbar\":{\"outlinewidth\":0,\"ticks\":\"\"},\"colorscale\":[[0.0,\"#0d0887\"],[0.1111111111111111,\"#46039f\"],[0.2222222222222222,\"#7201a8\"],[0.3333333333333333,\"#9c179e\"],[0.4444444444444444,\"#bd3786\"],[0.5555555555555556,\"#d8576b\"],[0.6666666666666666,\"#ed7953\"],[0.7777777777777778,\"#fb9f3a\"],[0.8888888888888888,\"#fdca26\"],[1.0,\"#f0f921\"]],\"type\":\"histogram2d\"}],\"histogram2dcontour\":[{\"colorbar\":{\"outlinewidth\":0,\"ticks\":\"\"},\"colorscale\":[[0.0,\"#0d0887\"],[0.1111111111111111,\"#46039f\"],[0.2222222222222222,\"#7201a8\"],[0.3333333333333333,\"#9c179e\"],[0.4444444444444444,\"#bd3786\"],[0.5555555555555556,\"#d8576b\"],[0.6666666666666666,\"#ed7953\"],[0.7777777777777778,\"#fb9f3a\"],[0.8888888888888888,\"#fdca26\"],[1.0,\"#f0f921\"]],\"type\":\"histogram2dcontour\"}],\"mesh3d\":[{\"colorbar\":{\"outlinewidth\":0,\"ticks\":\"\"},\"type\":\"mesh3d\"}],\"parcoords\":[{\"line\":{\"colorbar\":{\"outlinewidth\":0,\"ticks\":\"\"}},\"type\":\"parcoords\"}],\"pie\":[{\"automargin\":true,\"type\":\"pie\"}],\"scatter\":[{\"marker\":{\"colorbar\":{\"outlinewidth\":0,\"ticks\":\"\"}},\"type\":\"scatter\"}],\"scatter3d\":[{\"line\":{\"colorbar\":{\"outlinewidth\":0,\"ticks\":\"\"}},\"marker\":{\"colorbar\":{\"outlinewidth\":0,\"ticks\":\"\"}},\"type\":\"scatter3d\"}],\"scattercarpet\":[{\"marker\":{\"colorbar\":{\"outlinewidth\":0,\"ticks\":\"\"}},\"type\":\"scattercarpet\"}],\"scattergeo\":[{\"marker\":{\"colorbar\":{\"outlinewidth\":0,\"ticks\":\"\"}},\"type\":\"scattergeo\"}],\"scattergl\":[{\"marker\":{\"colorbar\":{\"outlinewidth\":0,\"ticks\":\"\"}},\"type\":\"scattergl\"}],\"scattermapbox\":[{\"marker\":{\"colorbar\":{\"outlinewidth\":0,\"ticks\":\"\"}},\"type\":\"scattermapbox\"}],\"scatterpolar\":[{\"marker\":{\"colorbar\":{\"outlinewidth\":0,\"ticks\":\"\"}},\"type\":\"scatterpolar\"}],\"scatterpolargl\":[{\"marker\":{\"colorbar\":{\"outlinewidth\":0,\"ticks\":\"\"}},\"type\":\"scatterpolargl\"}],\"scatterternary\":[{\"marker\":{\"colorbar\":{\"outlinewidth\":0,\"ticks\":\"\"}},\"type\":\"scatterternary\"}],\"surface\":[{\"colorbar\":{\"outlinewidth\":0,\"ticks\":\"\"},\"colorscale\":[[0.0,\"#0d0887\"],[0.1111111111111111,\"#46039f\"],[0.2222222222222222,\"#7201a8\"],[0.3333333333333333,\"#9c179e\"],[0.4444444444444444,\"#bd3786\"],[0.5555555555555556,\"#d8576b\"],[0.6666666666666666,\"#ed7953\"],[0.7777777777777778,\"#fb9f3a\"],[0.8888888888888888,\"#fdca26\"],[1.0,\"#f0f921\"]],\"type\":\"surface\"}],\"table\":[{\"cells\":{\"fill\":{\"color\":\"#EBF0F8\"},\"line\":{\"color\":\"white\"}},\"header\":{\"fill\":{\"color\":\"#C8D4E3\"},\"line\":{\"color\":\"white\"}},\"type\":\"table\"}]},\"layout\":{\"annotationdefaults\":{\"arrowcolor\":\"#2a3f5f\",\"arrowhead\":0,\"arrowwidth\":1},\"autotypenumbers\":\"strict\",\"coloraxis\":{\"colorbar\":{\"outlinewidth\":0,\"ticks\":\"\"}},\"colorscale\":{\"diverging\":[[0,\"#8e0152\"],[0.1,\"#c51b7d\"],[0.2,\"#de77ae\"],[0.3,\"#f1b6da\"],[0.4,\"#fde0ef\"],[0.5,\"#f7f7f7\"],[0.6,\"#e6f5d0\"],[0.7,\"#b8e186\"],[0.8,\"#7fbc41\"],[0.9,\"#4d9221\"],[1,\"#276419\"]],\"sequential\":[[0.0,\"#0d0887\"],[0.1111111111111111,\"#46039f\"],[0.2222222222222222,\"#7201a8\"],[0.3333333333333333,\"#9c179e\"],[0.4444444444444444,\"#bd3786\"],[0.5555555555555556,\"#d8576b\"],[0.6666666666666666,\"#ed7953\"],[0.7777777777777778,\"#fb9f3a\"],[0.8888888888888888,\"#fdca26\"],[1.0,\"#f0f921\"]],\"sequentialminus\":[[0.0,\"#0d0887\"],[0.1111111111111111,\"#46039f\"],[0.2222222222222222,\"#7201a8\"],[0.3333333333333333,\"#9c179e\"],[0.4444444444444444,\"#bd3786\"],[0.5555555555555556,\"#d8576b\"],[0.6666666666666666,\"#ed7953\"],[0.7777777777777778,\"#fb9f3a\"],[0.8888888888888888,\"#fdca26\"],[1.0,\"#f0f921\"]]},\"colorway\":[\"#636efa\",\"#EF553B\",\"#00cc96\",\"#ab63fa\",\"#FFA15A\",\"#19d3f3\",\"#FF6692\",\"#B6E880\",\"#FF97FF\",\"#FECB52\"],\"font\":{\"color\":\"#2a3f5f\"},\"geo\":{\"bgcolor\":\"white\",\"lakecolor\":\"white\",\"landcolor\":\"#E5ECF6\",\"showlakes\":true,\"showland\":true,\"subunitcolor\":\"white\"},\"hoverlabel\":{\"align\":\"left\"},\"hovermode\":\"closest\",\"mapbox\":{\"style\":\"light\"},\"paper_bgcolor\":\"white\",\"plot_bgcolor\":\"#E5ECF6\",\"polar\":{\"angularaxis\":{\"gridcolor\":\"white\",\"linecolor\":\"white\",\"ticks\":\"\"},\"bgcolor\":\"#E5ECF6\",\"radialaxis\":{\"gridcolor\":\"white\",\"linecolor\":\"white\",\"ticks\":\"\"}},\"scene\":{\"xaxis\":{\"backgroundcolor\":\"#E5ECF6\",\"gridcolor\":\"white\",\"gridwidth\":2,\"linecolor\":\"white\",\"showbackground\":true,\"ticks\":\"\",\"zerolinecolor\":\"white\"},\"yaxis\":{\"backgroundcolor\":\"#E5ECF6\",\"gridcolor\":\"white\",\"gridwidth\":2,\"linecolor\":\"white\",\"showbackground\":true,\"ticks\":\"\",\"zerolinecolor\":\"white\"},\"zaxis\":{\"backgroundcolor\":\"#E5ECF6\",\"gridcolor\":\"white\",\"gridwidth\":2,\"linecolor\":\"white\",\"showbackground\":true,\"ticks\":\"\",\"zerolinecolor\":\"white\"}},\"shapedefaults\":{\"line\":{\"color\":\"#2a3f5f\"}},\"ternary\":{\"aaxis\":{\"gridcolor\":\"white\",\"linecolor\":\"white\",\"ticks\":\"\"},\"baxis\":{\"gridcolor\":\"white\",\"linecolor\":\"white\",\"ticks\":\"\"},\"bgcolor\":\"#E5ECF6\",\"caxis\":{\"gridcolor\":\"white\",\"linecolor\":\"white\",\"ticks\":\"\"}},\"title\":{\"x\":0.05},\"xaxis\":{\"automargin\":true,\"gridcolor\":\"white\",\"linecolor\":\"white\",\"ticks\":\"\",\"title\":{\"standoff\":15},\"zerolinecolor\":\"white\",\"zerolinewidth\":2},\"yaxis\":{\"automargin\":true,\"gridcolor\":\"white\",\"linecolor\":\"white\",\"ticks\":\"\",\"title\":{\"standoff\":15},\"zerolinecolor\":\"white\",\"zerolinewidth\":2}}}},                        {\"responsive\": true}                    ).then(function(){\n",
       "                            \n",
       "var gd = document.getElementById('40993149-5e6d-4292-82c5-824b8214fce0');\n",
       "var x = new MutationObserver(function (mutations, observer) {{\n",
       "        var display = window.getComputedStyle(gd).display;\n",
       "        if (!display || display === 'none') {{\n",
       "            console.log([gd, 'removed!']);\n",
       "            Plotly.purge(gd);\n",
       "            observer.disconnect();\n",
       "        }}\n",
       "}});\n",
       "\n",
       "// Listen for the removal of the full notebook cells\n",
       "var notebookContainer = gd.closest('#notebook-container');\n",
       "if (notebookContainer) {{\n",
       "    x.observe(notebookContainer, {childList: true});\n",
       "}}\n",
       "\n",
       "// Listen for the clearing of the current output cell\n",
       "var outputEl = gd.closest('.output');\n",
       "if (outputEl) {{\n",
       "    x.observe(outputEl, {childList: true});\n",
       "}}\n",
       "\n",
       "                        })                };                });            </script>        </div>"
      ]
     },
     "metadata": {},
     "output_type": "display_data"
    }
   ],
   "source": [
    "#create map to display all student home city/town and/or country, color based on year graduated\n",
    "fig = px.scatter_geo(\n",
    "    isdf,\n",
    "    lat=hlat,\n",
    "    lon=hlong,\n",
    "    color = wpiclass,\n",
    "    hover_name= sname,\n",
    "    hover_data=[home, wpiclass],\n",
    "    #projection = 'conic conformal',\n",
    "    projection = 'winkel tripel',\n",
    ")\n",
    "\n",
    "fig.show()"
   ]
  },
  {
   "cell_type": "code",
   "execution_count": 6,
   "metadata": {},
   "outputs": [
    {
     "name": "stdout",
     "output_type": "stream",
     "text": [
      "                      sname                      home1     country1  \\\n",
      "0    Abadjieff, Ivan Varban     T. Pazordjik, Bulgaria     Bulgaria   \n",
      "1         Aguirre, Frank M.           Cienfuegos, Cuba         Cuba   \n",
      "2        Ajemian, Shahin A.                    Armenia      Armenia   \n",
      "3         Alfonso, Fernando                   Colombia     Colombia   \n",
      "4            Allen, Kenneth      Yarmouth, Nova Scotia       Canada   \n",
      "..                      ...                        ...          ...   \n",
      "184      Yrigoyen, Juan I.   Guatemala City, Guatemala    Guatemala   \n",
      "185  Yuan, Harold Hsiang-Ho   Tang Shan, Chihli, China        China   \n",
      "186       Yuan, Tsong-Kyien            Hangchow, China        China   \n",
      "187              Yuan, Tung              Peking, China        China   \n",
      "188     Zaragoza, Jose Luis        Manila, Philippines  Philippines   \n",
      "\n",
      "          clat        clong           home2       hlat       hlong classof  \\\n",
      "0    42.733883     25.48583      Pazardzhik  42.200000   24.333000    1928   \n",
      "1    21.521757   -77.781167      Cienfuegos  22.144448  -80.440294    1909   \n",
      "2    40.069099    45.038189         Armenia  40.069100   45.038200    1917   \n",
      "3     4.570868   -74.297333        Colombia   4.570900  -74.297300    1941   \n",
      "4    56.130366  -106.346771        Yarmouth  43.836111  -66.117500    1911   \n",
      "..         ...          ...             ...        ...         ...     ...   \n",
      "184  15.783471   -90.230759  Guatemala City  14.613333  -90.535278    1900   \n",
      "185   35.86166   104.195397        Tangshan  39.600000  118.176111     nan   \n",
      "186   35.86166   104.195397        Hangzhou  30.250000  120.166667    1914   \n",
      "187   35.86166   104.195397         Beijing  53.456200   -7.493400    1924   \n",
      "188  12.879721   121.774017          Manila  14.582259  120.974804    1943   \n",
      "\n",
      "                                  cll                               cllclass  \n",
      "0         Bulgaria|42.733883|25.48583       Bulgaria|42.733883|25.48583|1928  \n",
      "1           Cuba|21.521757|-77.781167         Cuba|21.521757|-77.781167|1909  \n",
      "2         Armenia|40.069099|45.038189       Armenia|40.069099|45.038189|1917  \n",
      "3        Colombia|4.570868|-74.297333      Colombia|4.570868|-74.297333|1941  \n",
      "4        Canada|56.130366|-106.346771      Canada|56.130366|-106.346771|1911  \n",
      "..                                ...                                    ...  \n",
      "184    Guatemala|15.783471|-90.230759    Guatemala|15.783471|-90.230759|1900  \n",
      "185         China|35.86166|104.195397          China|35.86166|104.195397|nan  \n",
      "186         China|35.86166|104.195397         China|35.86166|104.195397|1914  \n",
      "187         China|35.86166|104.195397         China|35.86166|104.195397|1924  \n",
      "188  Philippines|12.879721|121.774017  Philippines|12.879721|121.774017|1943  \n",
      "\n",
      "[189 rows x 11 columns]\n"
     ]
    }
   ],
   "source": [
    "#concatenate country, latitude, and longitude as column to prepare to pivot\n",
    "\n",
    "isdf['classof'] = isdf['classof'].astype(str)\n",
    "\n",
    "isdf['classof'] = isdf['classof'].str[0:4]\n",
    "\n",
    "isdf['cll'] = isdf['country1'] + '|' + isdf['clat'] + '|' + isdf['clong']\n",
    "isdf['cllclass'] = isdf['country1'] + '|' + isdf['clat'] + '|' + isdf['clong'] + '|' + isdf['classof']\n",
    "\n",
    "print(isdf)"
   ]
  },
  {
   "cell_type": "code",
   "execution_count": 7,
   "metadata": {},
   "outputs": [
    {
     "name": "stdout",
     "output_type": "stream",
     "text": [
      "                                                cll  country_count\n",
      "0                   Argentina|-38.416097|-63.616672              1\n",
      "1                       Armenia|40.069099|45.038189              3\n",
      "2                   Australia|-25.274398|133.775136              6\n",
      "3                       Austria|47.516231|14.550072              1\n",
      "4                        Belgium|50.503887|4.469936              1\n",
      "5                       Brazil|-14.235004|-51.92528             13\n",
      "6                       Bulgaria|42.733883|25.48583              1\n",
      "7                      Canada|56.130366|-106.346771             33\n",
      "8                       Chile|-35.675147|-71.542969              3\n",
      "9                         China|35.86166|104.195397             31\n",
      "10                     Colombia|4.570868|-74.297333              2\n",
      "11                   Costa Rica|9.748917|-83.753428              1\n",
      "12                        Cuba|21.521757|-77.781167              6\n",
      "13               Czech Republic|49.817492|15.472962              1\n",
      "14                        France|46.227638|2.213749              2\n",
      "15                      Germany|51.165691|10.451526              2\n",
      "16                       Greece|39.074208|21.824312              2\n",
      "17                   Guatemala|15.783471|-90.230759              3\n",
      "18                         India|20.593684|78.96288              6\n",
      "19                   Indonesia|-0.789275|113.921327              2\n",
      "20                        Ireland|53.41291|-8.24389              2\n",
      "21                       Israel|31.046051|34.851612              2\n",
      "22                          Italy|41.87194|12.56738              2\n",
      "23                       Japan|36.204824|138.252924              9\n",
      "24                     Mexico|23.634501|-102.552784              4\n",
      "25                      Myanmar|21.913965|95.956223              1\n",
      "26                        Norway|60.472024|8.468946              1\n",
      "27                       Panama|8.537981|-80.782127              4\n",
      "28                 Philippines|12.879721|121.774017              1\n",
      "29                 Puerto Rico|18.220833|-66.590149             11\n",
      "30  Republic of North Macedonia|41.608635|21.745275              1\n",
      "31                       Russia|61.52401|105.318756              6\n",
      "32                 South Korea|35.907757|127.766922              1\n",
      "33                         Spain|40.463667|-3.74922              1\n",
      "34                       Sweden|60.128161|18.643501              8\n",
      "35                        Syria|34.802075|38.996815              2\n",
      "36                    Thailand|15.870032|100.992541              2\n",
      "37                       Turkey|38.963745|35.243322              3\n",
      "38               United Kingdom|55.378051|-3.435973              4\n",
      "39                    Uruguay|-32.522779|-55.765835              2\n",
      "40                                      nan|nan|nan              2\n"
     ]
    }
   ],
   "source": [
    "#pivot data based on country using student name as index and Class Of year as value\n",
    "pivot = isdf.pivot(index='sname', columns='cll', values='classof')\n",
    "\n",
    "#count the number of times the country is listed\n",
    "countc = pivot.count()\n",
    "#convert series to dataframe\n",
    "countdf = countc.to_frame()\n",
    "\n",
    "#make cll index to column\n",
    "countdf.reset_index(inplace=True)\n",
    "\n",
    "#rename column\n",
    "countdf = countdf.rename(columns={0:'country_count'})\n",
    "countdf.columns\n",
    "\n",
    "print(countdf)"
   ]
  },
  {
   "cell_type": "code",
   "execution_count": 8,
   "metadata": {},
   "outputs": [
    {
     "name": "stdout",
     "output_type": "stream",
     "text": [
      "                                                cll  country_count  \\\n",
      "0                   Argentina|-38.416097|-63.616672              1   \n",
      "1                       Armenia|40.069099|45.038189              3   \n",
      "2                   Australia|-25.274398|133.775136              6   \n",
      "3                       Austria|47.516231|14.550072              1   \n",
      "4                        Belgium|50.503887|4.469936              1   \n",
      "5                       Brazil|-14.235004|-51.92528             13   \n",
      "6                       Bulgaria|42.733883|25.48583              1   \n",
      "7                      Canada|56.130366|-106.346771             33   \n",
      "8                       Chile|-35.675147|-71.542969              3   \n",
      "9                         China|35.86166|104.195397             31   \n",
      "10                     Colombia|4.570868|-74.297333              2   \n",
      "11                   Costa Rica|9.748917|-83.753428              1   \n",
      "12                        Cuba|21.521757|-77.781167              6   \n",
      "13               Czech Republic|49.817492|15.472962              1   \n",
      "14                        France|46.227638|2.213749              2   \n",
      "15                      Germany|51.165691|10.451526              2   \n",
      "16                       Greece|39.074208|21.824312              2   \n",
      "17                   Guatemala|15.783471|-90.230759              3   \n",
      "18                         India|20.593684|78.96288              6   \n",
      "19                   Indonesia|-0.789275|113.921327              2   \n",
      "20                        Ireland|53.41291|-8.24389              2   \n",
      "21                       Israel|31.046051|34.851612              2   \n",
      "22                          Italy|41.87194|12.56738              2   \n",
      "23                       Japan|36.204824|138.252924              9   \n",
      "24                     Mexico|23.634501|-102.552784              4   \n",
      "25                      Myanmar|21.913965|95.956223              1   \n",
      "26                        Norway|60.472024|8.468946              1   \n",
      "27                       Panama|8.537981|-80.782127              4   \n",
      "28                 Philippines|12.879721|121.774017              1   \n",
      "29                 Puerto Rico|18.220833|-66.590149             11   \n",
      "30  Republic of North Macedonia|41.608635|21.745275              1   \n",
      "31                       Russia|61.52401|105.318756              6   \n",
      "32                 South Korea|35.907757|127.766922              1   \n",
      "33                         Spain|40.463667|-3.74922              1   \n",
      "34                       Sweden|60.128161|18.643501              8   \n",
      "35                        Syria|34.802075|38.996815              2   \n",
      "36                    Thailand|15.870032|100.992541              2   \n",
      "37                       Turkey|38.963745|35.243322              3   \n",
      "38               United Kingdom|55.378051|-3.435973              4   \n",
      "39                    Uruguay|-32.522779|-55.765835              2   \n",
      "40                                      nan|nan|nan              2   \n",
      "\n",
      "                             c2        latc         lonc  \n",
      "0                     Argentina  -38.416097   -63.616672  \n",
      "1                       Armenia   40.069099    45.038189  \n",
      "2                     Australia  -25.274398   133.775136  \n",
      "3                       Austria   47.516231    14.550072  \n",
      "4                       Belgium   50.503887     4.469936  \n",
      "5                        Brazil  -14.235004    -51.92528  \n",
      "6                      Bulgaria   42.733883     25.48583  \n",
      "7                        Canada   56.130366  -106.346771  \n",
      "8                         Chile  -35.675147   -71.542969  \n",
      "9                         China    35.86166   104.195397  \n",
      "10                     Colombia    4.570868   -74.297333  \n",
      "11                   Costa Rica    9.748917   -83.753428  \n",
      "12                         Cuba   21.521757   -77.781167  \n",
      "13               Czech Republic   49.817492    15.472962  \n",
      "14                       France   46.227638     2.213749  \n",
      "15                      Germany   51.165691    10.451526  \n",
      "16                       Greece   39.074208    21.824312  \n",
      "17                    Guatemala   15.783471   -90.230759  \n",
      "18                        India   20.593684     78.96288  \n",
      "19                    Indonesia   -0.789275   113.921327  \n",
      "20                      Ireland    53.41291     -8.24389  \n",
      "21                       Israel   31.046051    34.851612  \n",
      "22                        Italy    41.87194     12.56738  \n",
      "23                        Japan   36.204824   138.252924  \n",
      "24                       Mexico   23.634501  -102.552784  \n",
      "25                      Myanmar   21.913965    95.956223  \n",
      "26                       Norway   60.472024     8.468946  \n",
      "27                       Panama    8.537981   -80.782127  \n",
      "28                  Philippines   12.879721   121.774017  \n",
      "29                  Puerto Rico   18.220833   -66.590149  \n",
      "30  Republic of North Macedonia   41.608635    21.745275  \n",
      "31                       Russia    61.52401   105.318756  \n",
      "32                  South Korea   35.907757   127.766922  \n",
      "33                        Spain   40.463667     -3.74922  \n",
      "34                       Sweden   60.128161    18.643501  \n",
      "35                        Syria   34.802075    38.996815  \n",
      "36                     Thailand   15.870032   100.992541  \n",
      "37                       Turkey   38.963745    35.243322  \n",
      "38               United Kingdom   55.378051    -3.435973  \n",
      "39                      Uruguay  -32.522779   -55.765835  \n",
      "40                          nan         nan          nan  \n"
     ]
    }
   ],
   "source": [
    "countdf[['c2','latc','lonc']] = countdf.cll.str.split(\"|\",expand=True)\n",
    "print(countdf)"
   ]
  },
  {
   "cell_type": "code",
   "execution_count": 9,
   "metadata": {},
   "outputs": [
    {
     "data": {
      "application/vnd.plotly.v1+json": {
       "config": {
        "plotlyServerURL": "https://plot.ly"
       },
       "data": [
        {
         "customdata": [
          [
           1
          ]
         ],
         "geo": "geo",
         "hovertemplate": "<b>%{hovertext}</b><br><br>c2=Argentina<br>country_count=%{customdata[0]}<br>latc=%{lat}<br>lonc=%{lon}<extra></extra>",
         "hovertext": [
          "Argentina"
         ],
         "lat": [
          "-38.416097"
         ],
         "legendgroup": "Argentina",
         "lon": [
          "-63.616672"
         ],
         "marker": {
          "color": "#636efa",
          "size": [
           1
          ],
          "sizemode": "area",
          "sizeref": 0.0825,
          "symbol": "circle"
         },
         "mode": "markers",
         "name": "Argentina",
         "showlegend": true,
         "type": "scattergeo"
        },
        {
         "customdata": [
          [
           3
          ]
         ],
         "geo": "geo",
         "hovertemplate": "<b>%{hovertext}</b><br><br>c2=Armenia<br>country_count=%{customdata[0]}<br>latc=%{lat}<br>lonc=%{lon}<extra></extra>",
         "hovertext": [
          "Armenia"
         ],
         "lat": [
          "40.069099"
         ],
         "legendgroup": "Armenia",
         "lon": [
          "45.038189"
         ],
         "marker": {
          "color": "#EF553B",
          "size": [
           3
          ],
          "sizemode": "area",
          "sizeref": 0.0825,
          "symbol": "circle"
         },
         "mode": "markers",
         "name": "Armenia",
         "showlegend": true,
         "type": "scattergeo"
        },
        {
         "customdata": [
          [
           6
          ]
         ],
         "geo": "geo",
         "hovertemplate": "<b>%{hovertext}</b><br><br>c2=Australia<br>country_count=%{customdata[0]}<br>latc=%{lat}<br>lonc=%{lon}<extra></extra>",
         "hovertext": [
          "Australia"
         ],
         "lat": [
          "-25.274398"
         ],
         "legendgroup": "Australia",
         "lon": [
          "133.775136"
         ],
         "marker": {
          "color": "#00cc96",
          "size": [
           6
          ],
          "sizemode": "area",
          "sizeref": 0.0825,
          "symbol": "circle"
         },
         "mode": "markers",
         "name": "Australia",
         "showlegend": true,
         "type": "scattergeo"
        },
        {
         "customdata": [
          [
           1
          ]
         ],
         "geo": "geo",
         "hovertemplate": "<b>%{hovertext}</b><br><br>c2=Austria<br>country_count=%{customdata[0]}<br>latc=%{lat}<br>lonc=%{lon}<extra></extra>",
         "hovertext": [
          "Austria"
         ],
         "lat": [
          "47.516231"
         ],
         "legendgroup": "Austria",
         "lon": [
          "14.550072"
         ],
         "marker": {
          "color": "#ab63fa",
          "size": [
           1
          ],
          "sizemode": "area",
          "sizeref": 0.0825,
          "symbol": "circle"
         },
         "mode": "markers",
         "name": "Austria",
         "showlegend": true,
         "type": "scattergeo"
        },
        {
         "customdata": [
          [
           1
          ]
         ],
         "geo": "geo",
         "hovertemplate": "<b>%{hovertext}</b><br><br>c2=Belgium<br>country_count=%{customdata[0]}<br>latc=%{lat}<br>lonc=%{lon}<extra></extra>",
         "hovertext": [
          "Belgium"
         ],
         "lat": [
          "50.503887"
         ],
         "legendgroup": "Belgium",
         "lon": [
          "4.469936"
         ],
         "marker": {
          "color": "#FFA15A",
          "size": [
           1
          ],
          "sizemode": "area",
          "sizeref": 0.0825,
          "symbol": "circle"
         },
         "mode": "markers",
         "name": "Belgium",
         "showlegend": true,
         "type": "scattergeo"
        },
        {
         "customdata": [
          [
           13
          ]
         ],
         "geo": "geo",
         "hovertemplate": "<b>%{hovertext}</b><br><br>c2=Brazil<br>country_count=%{customdata[0]}<br>latc=%{lat}<br>lonc=%{lon}<extra></extra>",
         "hovertext": [
          "Brazil"
         ],
         "lat": [
          "-14.235004"
         ],
         "legendgroup": "Brazil",
         "lon": [
          "-51.92528"
         ],
         "marker": {
          "color": "#19d3f3",
          "size": [
           13
          ],
          "sizemode": "area",
          "sizeref": 0.0825,
          "symbol": "circle"
         },
         "mode": "markers",
         "name": "Brazil",
         "showlegend": true,
         "type": "scattergeo"
        },
        {
         "customdata": [
          [
           1
          ]
         ],
         "geo": "geo",
         "hovertemplate": "<b>%{hovertext}</b><br><br>c2=Bulgaria<br>country_count=%{customdata[0]}<br>latc=%{lat}<br>lonc=%{lon}<extra></extra>",
         "hovertext": [
          "Bulgaria"
         ],
         "lat": [
          "42.733883"
         ],
         "legendgroup": "Bulgaria",
         "lon": [
          "25.48583"
         ],
         "marker": {
          "color": "#FF6692",
          "size": [
           1
          ],
          "sizemode": "area",
          "sizeref": 0.0825,
          "symbol": "circle"
         },
         "mode": "markers",
         "name": "Bulgaria",
         "showlegend": true,
         "type": "scattergeo"
        },
        {
         "customdata": [
          [
           33
          ]
         ],
         "geo": "geo",
         "hovertemplate": "<b>%{hovertext}</b><br><br>c2=Canada<br>country_count=%{customdata[0]}<br>latc=%{lat}<br>lonc=%{lon}<extra></extra>",
         "hovertext": [
          "Canada"
         ],
         "lat": [
          "56.130366"
         ],
         "legendgroup": "Canada",
         "lon": [
          "-106.346771"
         ],
         "marker": {
          "color": "#B6E880",
          "size": [
           33
          ],
          "sizemode": "area",
          "sizeref": 0.0825,
          "symbol": "circle"
         },
         "mode": "markers",
         "name": "Canada",
         "showlegend": true,
         "type": "scattergeo"
        },
        {
         "customdata": [
          [
           3
          ]
         ],
         "geo": "geo",
         "hovertemplate": "<b>%{hovertext}</b><br><br>c2=Chile<br>country_count=%{customdata[0]}<br>latc=%{lat}<br>lonc=%{lon}<extra></extra>",
         "hovertext": [
          "Chile"
         ],
         "lat": [
          "-35.675147"
         ],
         "legendgroup": "Chile",
         "lon": [
          "-71.542969"
         ],
         "marker": {
          "color": "#FF97FF",
          "size": [
           3
          ],
          "sizemode": "area",
          "sizeref": 0.0825,
          "symbol": "circle"
         },
         "mode": "markers",
         "name": "Chile",
         "showlegend": true,
         "type": "scattergeo"
        },
        {
         "customdata": [
          [
           31
          ]
         ],
         "geo": "geo",
         "hovertemplate": "<b>%{hovertext}</b><br><br>c2=China<br>country_count=%{customdata[0]}<br>latc=%{lat}<br>lonc=%{lon}<extra></extra>",
         "hovertext": [
          "China"
         ],
         "lat": [
          "35.86166"
         ],
         "legendgroup": "China",
         "lon": [
          "104.195397"
         ],
         "marker": {
          "color": "#FECB52",
          "size": [
           31
          ],
          "sizemode": "area",
          "sizeref": 0.0825,
          "symbol": "circle"
         },
         "mode": "markers",
         "name": "China",
         "showlegend": true,
         "type": "scattergeo"
        },
        {
         "customdata": [
          [
           2
          ]
         ],
         "geo": "geo",
         "hovertemplate": "<b>%{hovertext}</b><br><br>c2=Colombia<br>country_count=%{customdata[0]}<br>latc=%{lat}<br>lonc=%{lon}<extra></extra>",
         "hovertext": [
          "Colombia"
         ],
         "lat": [
          "4.570868"
         ],
         "legendgroup": "Colombia",
         "lon": [
          "-74.297333"
         ],
         "marker": {
          "color": "#636efa",
          "size": [
           2
          ],
          "sizemode": "area",
          "sizeref": 0.0825,
          "symbol": "circle"
         },
         "mode": "markers",
         "name": "Colombia",
         "showlegend": true,
         "type": "scattergeo"
        },
        {
         "customdata": [
          [
           1
          ]
         ],
         "geo": "geo",
         "hovertemplate": "<b>%{hovertext}</b><br><br>c2=Costa Rica<br>country_count=%{customdata[0]}<br>latc=%{lat}<br>lonc=%{lon}<extra></extra>",
         "hovertext": [
          "Costa Rica"
         ],
         "lat": [
          "9.748917"
         ],
         "legendgroup": "Costa Rica",
         "lon": [
          "-83.753428"
         ],
         "marker": {
          "color": "#EF553B",
          "size": [
           1
          ],
          "sizemode": "area",
          "sizeref": 0.0825,
          "symbol": "circle"
         },
         "mode": "markers",
         "name": "Costa Rica",
         "showlegend": true,
         "type": "scattergeo"
        },
        {
         "customdata": [
          [
           6
          ]
         ],
         "geo": "geo",
         "hovertemplate": "<b>%{hovertext}</b><br><br>c2=Cuba<br>country_count=%{customdata[0]}<br>latc=%{lat}<br>lonc=%{lon}<extra></extra>",
         "hovertext": [
          "Cuba"
         ],
         "lat": [
          "21.521757"
         ],
         "legendgroup": "Cuba",
         "lon": [
          "-77.781167"
         ],
         "marker": {
          "color": "#00cc96",
          "size": [
           6
          ],
          "sizemode": "area",
          "sizeref": 0.0825,
          "symbol": "circle"
         },
         "mode": "markers",
         "name": "Cuba",
         "showlegend": true,
         "type": "scattergeo"
        },
        {
         "customdata": [
          [
           1
          ]
         ],
         "geo": "geo",
         "hovertemplate": "<b>%{hovertext}</b><br><br>c2=Czech Republic<br>country_count=%{customdata[0]}<br>latc=%{lat}<br>lonc=%{lon}<extra></extra>",
         "hovertext": [
          "Czech Republic"
         ],
         "lat": [
          "49.817492"
         ],
         "legendgroup": "Czech Republic",
         "lon": [
          "15.472962"
         ],
         "marker": {
          "color": "#ab63fa",
          "size": [
           1
          ],
          "sizemode": "area",
          "sizeref": 0.0825,
          "symbol": "circle"
         },
         "mode": "markers",
         "name": "Czech Republic",
         "showlegend": true,
         "type": "scattergeo"
        },
        {
         "customdata": [
          [
           2
          ]
         ],
         "geo": "geo",
         "hovertemplate": "<b>%{hovertext}</b><br><br>c2=France<br>country_count=%{customdata[0]}<br>latc=%{lat}<br>lonc=%{lon}<extra></extra>",
         "hovertext": [
          "France"
         ],
         "lat": [
          "46.227638"
         ],
         "legendgroup": "France",
         "lon": [
          "2.213749"
         ],
         "marker": {
          "color": "#FFA15A",
          "size": [
           2
          ],
          "sizemode": "area",
          "sizeref": 0.0825,
          "symbol": "circle"
         },
         "mode": "markers",
         "name": "France",
         "showlegend": true,
         "type": "scattergeo"
        },
        {
         "customdata": [
          [
           2
          ]
         ],
         "geo": "geo",
         "hovertemplate": "<b>%{hovertext}</b><br><br>c2=Germany<br>country_count=%{customdata[0]}<br>latc=%{lat}<br>lonc=%{lon}<extra></extra>",
         "hovertext": [
          "Germany"
         ],
         "lat": [
          "51.165691"
         ],
         "legendgroup": "Germany",
         "lon": [
          "10.451526"
         ],
         "marker": {
          "color": "#19d3f3",
          "size": [
           2
          ],
          "sizemode": "area",
          "sizeref": 0.0825,
          "symbol": "circle"
         },
         "mode": "markers",
         "name": "Germany",
         "showlegend": true,
         "type": "scattergeo"
        },
        {
         "customdata": [
          [
           2
          ]
         ],
         "geo": "geo",
         "hovertemplate": "<b>%{hovertext}</b><br><br>c2=Greece<br>country_count=%{customdata[0]}<br>latc=%{lat}<br>lonc=%{lon}<extra></extra>",
         "hovertext": [
          "Greece"
         ],
         "lat": [
          "39.074208"
         ],
         "legendgroup": "Greece",
         "lon": [
          "21.824312"
         ],
         "marker": {
          "color": "#FF6692",
          "size": [
           2
          ],
          "sizemode": "area",
          "sizeref": 0.0825,
          "symbol": "circle"
         },
         "mode": "markers",
         "name": "Greece",
         "showlegend": true,
         "type": "scattergeo"
        },
        {
         "customdata": [
          [
           3
          ]
         ],
         "geo": "geo",
         "hovertemplate": "<b>%{hovertext}</b><br><br>c2=Guatemala<br>country_count=%{customdata[0]}<br>latc=%{lat}<br>lonc=%{lon}<extra></extra>",
         "hovertext": [
          "Guatemala"
         ],
         "lat": [
          "15.783471"
         ],
         "legendgroup": "Guatemala",
         "lon": [
          "-90.230759"
         ],
         "marker": {
          "color": "#B6E880",
          "size": [
           3
          ],
          "sizemode": "area",
          "sizeref": 0.0825,
          "symbol": "circle"
         },
         "mode": "markers",
         "name": "Guatemala",
         "showlegend": true,
         "type": "scattergeo"
        },
        {
         "customdata": [
          [
           6
          ]
         ],
         "geo": "geo",
         "hovertemplate": "<b>%{hovertext}</b><br><br>c2=India<br>country_count=%{customdata[0]}<br>latc=%{lat}<br>lonc=%{lon}<extra></extra>",
         "hovertext": [
          "India"
         ],
         "lat": [
          "20.593684"
         ],
         "legendgroup": "India",
         "lon": [
          "78.96288"
         ],
         "marker": {
          "color": "#FF97FF",
          "size": [
           6
          ],
          "sizemode": "area",
          "sizeref": 0.0825,
          "symbol": "circle"
         },
         "mode": "markers",
         "name": "India",
         "showlegend": true,
         "type": "scattergeo"
        },
        {
         "customdata": [
          [
           2
          ]
         ],
         "geo": "geo",
         "hovertemplate": "<b>%{hovertext}</b><br><br>c2=Indonesia<br>country_count=%{customdata[0]}<br>latc=%{lat}<br>lonc=%{lon}<extra></extra>",
         "hovertext": [
          "Indonesia"
         ],
         "lat": [
          "-0.789275"
         ],
         "legendgroup": "Indonesia",
         "lon": [
          "113.921327"
         ],
         "marker": {
          "color": "#FECB52",
          "size": [
           2
          ],
          "sizemode": "area",
          "sizeref": 0.0825,
          "symbol": "circle"
         },
         "mode": "markers",
         "name": "Indonesia",
         "showlegend": true,
         "type": "scattergeo"
        },
        {
         "customdata": [
          [
           2
          ]
         ],
         "geo": "geo",
         "hovertemplate": "<b>%{hovertext}</b><br><br>c2=Ireland<br>country_count=%{customdata[0]}<br>latc=%{lat}<br>lonc=%{lon}<extra></extra>",
         "hovertext": [
          "Ireland"
         ],
         "lat": [
          "53.41291"
         ],
         "legendgroup": "Ireland",
         "lon": [
          "-8.24389"
         ],
         "marker": {
          "color": "#636efa",
          "size": [
           2
          ],
          "sizemode": "area",
          "sizeref": 0.0825,
          "symbol": "circle"
         },
         "mode": "markers",
         "name": "Ireland",
         "showlegend": true,
         "type": "scattergeo"
        },
        {
         "customdata": [
          [
           2
          ]
         ],
         "geo": "geo",
         "hovertemplate": "<b>%{hovertext}</b><br><br>c2=Israel<br>country_count=%{customdata[0]}<br>latc=%{lat}<br>lonc=%{lon}<extra></extra>",
         "hovertext": [
          "Israel"
         ],
         "lat": [
          "31.046051"
         ],
         "legendgroup": "Israel",
         "lon": [
          "34.851612"
         ],
         "marker": {
          "color": "#EF553B",
          "size": [
           2
          ],
          "sizemode": "area",
          "sizeref": 0.0825,
          "symbol": "circle"
         },
         "mode": "markers",
         "name": "Israel",
         "showlegend": true,
         "type": "scattergeo"
        },
        {
         "customdata": [
          [
           2
          ]
         ],
         "geo": "geo",
         "hovertemplate": "<b>%{hovertext}</b><br><br>c2=Italy<br>country_count=%{customdata[0]}<br>latc=%{lat}<br>lonc=%{lon}<extra></extra>",
         "hovertext": [
          "Italy"
         ],
         "lat": [
          "41.87194"
         ],
         "legendgroup": "Italy",
         "lon": [
          "12.56738"
         ],
         "marker": {
          "color": "#00cc96",
          "size": [
           2
          ],
          "sizemode": "area",
          "sizeref": 0.0825,
          "symbol": "circle"
         },
         "mode": "markers",
         "name": "Italy",
         "showlegend": true,
         "type": "scattergeo"
        },
        {
         "customdata": [
          [
           9
          ]
         ],
         "geo": "geo",
         "hovertemplate": "<b>%{hovertext}</b><br><br>c2=Japan<br>country_count=%{customdata[0]}<br>latc=%{lat}<br>lonc=%{lon}<extra></extra>",
         "hovertext": [
          "Japan"
         ],
         "lat": [
          "36.204824"
         ],
         "legendgroup": "Japan",
         "lon": [
          "138.252924"
         ],
         "marker": {
          "color": "#ab63fa",
          "size": [
           9
          ],
          "sizemode": "area",
          "sizeref": 0.0825,
          "symbol": "circle"
         },
         "mode": "markers",
         "name": "Japan",
         "showlegend": true,
         "type": "scattergeo"
        },
        {
         "customdata": [
          [
           4
          ]
         ],
         "geo": "geo",
         "hovertemplate": "<b>%{hovertext}</b><br><br>c2=Mexico<br>country_count=%{customdata[0]}<br>latc=%{lat}<br>lonc=%{lon}<extra></extra>",
         "hovertext": [
          "Mexico"
         ],
         "lat": [
          "23.634501"
         ],
         "legendgroup": "Mexico",
         "lon": [
          "-102.552784"
         ],
         "marker": {
          "color": "#FFA15A",
          "size": [
           4
          ],
          "sizemode": "area",
          "sizeref": 0.0825,
          "symbol": "circle"
         },
         "mode": "markers",
         "name": "Mexico",
         "showlegend": true,
         "type": "scattergeo"
        },
        {
         "customdata": [
          [
           1
          ]
         ],
         "geo": "geo",
         "hovertemplate": "<b>%{hovertext}</b><br><br>c2=Myanmar<br>country_count=%{customdata[0]}<br>latc=%{lat}<br>lonc=%{lon}<extra></extra>",
         "hovertext": [
          "Myanmar"
         ],
         "lat": [
          "21.913965"
         ],
         "legendgroup": "Myanmar",
         "lon": [
          "95.956223"
         ],
         "marker": {
          "color": "#19d3f3",
          "size": [
           1
          ],
          "sizemode": "area",
          "sizeref": 0.0825,
          "symbol": "circle"
         },
         "mode": "markers",
         "name": "Myanmar",
         "showlegend": true,
         "type": "scattergeo"
        },
        {
         "customdata": [
          [
           1
          ]
         ],
         "geo": "geo",
         "hovertemplate": "<b>%{hovertext}</b><br><br>c2=Norway<br>country_count=%{customdata[0]}<br>latc=%{lat}<br>lonc=%{lon}<extra></extra>",
         "hovertext": [
          "Norway"
         ],
         "lat": [
          "60.472024"
         ],
         "legendgroup": "Norway",
         "lon": [
          "8.468946"
         ],
         "marker": {
          "color": "#FF6692",
          "size": [
           1
          ],
          "sizemode": "area",
          "sizeref": 0.0825,
          "symbol": "circle"
         },
         "mode": "markers",
         "name": "Norway",
         "showlegend": true,
         "type": "scattergeo"
        },
        {
         "customdata": [
          [
           4
          ]
         ],
         "geo": "geo",
         "hovertemplate": "<b>%{hovertext}</b><br><br>c2=Panama<br>country_count=%{customdata[0]}<br>latc=%{lat}<br>lonc=%{lon}<extra></extra>",
         "hovertext": [
          "Panama"
         ],
         "lat": [
          "8.537981"
         ],
         "legendgroup": "Panama",
         "lon": [
          "-80.782127"
         ],
         "marker": {
          "color": "#B6E880",
          "size": [
           4
          ],
          "sizemode": "area",
          "sizeref": 0.0825,
          "symbol": "circle"
         },
         "mode": "markers",
         "name": "Panama",
         "showlegend": true,
         "type": "scattergeo"
        },
        {
         "customdata": [
          [
           1
          ]
         ],
         "geo": "geo",
         "hovertemplate": "<b>%{hovertext}</b><br><br>c2=Philippines<br>country_count=%{customdata[0]}<br>latc=%{lat}<br>lonc=%{lon}<extra></extra>",
         "hovertext": [
          "Philippines"
         ],
         "lat": [
          "12.879721"
         ],
         "legendgroup": "Philippines",
         "lon": [
          "121.774017"
         ],
         "marker": {
          "color": "#FF97FF",
          "size": [
           1
          ],
          "sizemode": "area",
          "sizeref": 0.0825,
          "symbol": "circle"
         },
         "mode": "markers",
         "name": "Philippines",
         "showlegend": true,
         "type": "scattergeo"
        },
        {
         "customdata": [
          [
           11
          ]
         ],
         "geo": "geo",
         "hovertemplate": "<b>%{hovertext}</b><br><br>c2=Puerto Rico<br>country_count=%{customdata[0]}<br>latc=%{lat}<br>lonc=%{lon}<extra></extra>",
         "hovertext": [
          "Puerto Rico"
         ],
         "lat": [
          "18.220833"
         ],
         "legendgroup": "Puerto Rico",
         "lon": [
          "-66.590149"
         ],
         "marker": {
          "color": "#FECB52",
          "size": [
           11
          ],
          "sizemode": "area",
          "sizeref": 0.0825,
          "symbol": "circle"
         },
         "mode": "markers",
         "name": "Puerto Rico",
         "showlegend": true,
         "type": "scattergeo"
        },
        {
         "customdata": [
          [
           1
          ]
         ],
         "geo": "geo",
         "hovertemplate": "<b>%{hovertext}</b><br><br>c2=Republic of North Macedonia<br>country_count=%{customdata[0]}<br>latc=%{lat}<br>lonc=%{lon}<extra></extra>",
         "hovertext": [
          "Republic of North Macedonia"
         ],
         "lat": [
          "41.608635"
         ],
         "legendgroup": "Republic of North Macedonia",
         "lon": [
          "21.745275"
         ],
         "marker": {
          "color": "#636efa",
          "size": [
           1
          ],
          "sizemode": "area",
          "sizeref": 0.0825,
          "symbol": "circle"
         },
         "mode": "markers",
         "name": "Republic of North Macedonia",
         "showlegend": true,
         "type": "scattergeo"
        },
        {
         "customdata": [
          [
           6
          ]
         ],
         "geo": "geo",
         "hovertemplate": "<b>%{hovertext}</b><br><br>c2=Russia<br>country_count=%{customdata[0]}<br>latc=%{lat}<br>lonc=%{lon}<extra></extra>",
         "hovertext": [
          "Russia"
         ],
         "lat": [
          "61.52401"
         ],
         "legendgroup": "Russia",
         "lon": [
          "105.318756"
         ],
         "marker": {
          "color": "#EF553B",
          "size": [
           6
          ],
          "sizemode": "area",
          "sizeref": 0.0825,
          "symbol": "circle"
         },
         "mode": "markers",
         "name": "Russia",
         "showlegend": true,
         "type": "scattergeo"
        },
        {
         "customdata": [
          [
           1
          ]
         ],
         "geo": "geo",
         "hovertemplate": "<b>%{hovertext}</b><br><br>c2=South Korea<br>country_count=%{customdata[0]}<br>latc=%{lat}<br>lonc=%{lon}<extra></extra>",
         "hovertext": [
          "South Korea"
         ],
         "lat": [
          "35.907757"
         ],
         "legendgroup": "South Korea",
         "lon": [
          "127.766922"
         ],
         "marker": {
          "color": "#00cc96",
          "size": [
           1
          ],
          "sizemode": "area",
          "sizeref": 0.0825,
          "symbol": "circle"
         },
         "mode": "markers",
         "name": "South Korea",
         "showlegend": true,
         "type": "scattergeo"
        },
        {
         "customdata": [
          [
           1
          ]
         ],
         "geo": "geo",
         "hovertemplate": "<b>%{hovertext}</b><br><br>c2=Spain<br>country_count=%{customdata[0]}<br>latc=%{lat}<br>lonc=%{lon}<extra></extra>",
         "hovertext": [
          "Spain"
         ],
         "lat": [
          "40.463667"
         ],
         "legendgroup": "Spain",
         "lon": [
          "-3.74922"
         ],
         "marker": {
          "color": "#ab63fa",
          "size": [
           1
          ],
          "sizemode": "area",
          "sizeref": 0.0825,
          "symbol": "circle"
         },
         "mode": "markers",
         "name": "Spain",
         "showlegend": true,
         "type": "scattergeo"
        },
        {
         "customdata": [
          [
           8
          ]
         ],
         "geo": "geo",
         "hovertemplate": "<b>%{hovertext}</b><br><br>c2=Sweden<br>country_count=%{customdata[0]}<br>latc=%{lat}<br>lonc=%{lon}<extra></extra>",
         "hovertext": [
          "Sweden"
         ],
         "lat": [
          "60.128161"
         ],
         "legendgroup": "Sweden",
         "lon": [
          "18.643501"
         ],
         "marker": {
          "color": "#FFA15A",
          "size": [
           8
          ],
          "sizemode": "area",
          "sizeref": 0.0825,
          "symbol": "circle"
         },
         "mode": "markers",
         "name": "Sweden",
         "showlegend": true,
         "type": "scattergeo"
        },
        {
         "customdata": [
          [
           2
          ]
         ],
         "geo": "geo",
         "hovertemplate": "<b>%{hovertext}</b><br><br>c2=Syria<br>country_count=%{customdata[0]}<br>latc=%{lat}<br>lonc=%{lon}<extra></extra>",
         "hovertext": [
          "Syria"
         ],
         "lat": [
          "34.802075"
         ],
         "legendgroup": "Syria",
         "lon": [
          "38.996815"
         ],
         "marker": {
          "color": "#19d3f3",
          "size": [
           2
          ],
          "sizemode": "area",
          "sizeref": 0.0825,
          "symbol": "circle"
         },
         "mode": "markers",
         "name": "Syria",
         "showlegend": true,
         "type": "scattergeo"
        },
        {
         "customdata": [
          [
           2
          ]
         ],
         "geo": "geo",
         "hovertemplate": "<b>%{hovertext}</b><br><br>c2=Thailand<br>country_count=%{customdata[0]}<br>latc=%{lat}<br>lonc=%{lon}<extra></extra>",
         "hovertext": [
          "Thailand"
         ],
         "lat": [
          "15.870032"
         ],
         "legendgroup": "Thailand",
         "lon": [
          "100.992541"
         ],
         "marker": {
          "color": "#FF6692",
          "size": [
           2
          ],
          "sizemode": "area",
          "sizeref": 0.0825,
          "symbol": "circle"
         },
         "mode": "markers",
         "name": "Thailand",
         "showlegend": true,
         "type": "scattergeo"
        },
        {
         "customdata": [
          [
           3
          ]
         ],
         "geo": "geo",
         "hovertemplate": "<b>%{hovertext}</b><br><br>c2=Turkey<br>country_count=%{customdata[0]}<br>latc=%{lat}<br>lonc=%{lon}<extra></extra>",
         "hovertext": [
          "Turkey"
         ],
         "lat": [
          "38.963745"
         ],
         "legendgroup": "Turkey",
         "lon": [
          "35.243322"
         ],
         "marker": {
          "color": "#B6E880",
          "size": [
           3
          ],
          "sizemode": "area",
          "sizeref": 0.0825,
          "symbol": "circle"
         },
         "mode": "markers",
         "name": "Turkey",
         "showlegend": true,
         "type": "scattergeo"
        },
        {
         "customdata": [
          [
           4
          ]
         ],
         "geo": "geo",
         "hovertemplate": "<b>%{hovertext}</b><br><br>c2=United Kingdom<br>country_count=%{customdata[0]}<br>latc=%{lat}<br>lonc=%{lon}<extra></extra>",
         "hovertext": [
          "United Kingdom"
         ],
         "lat": [
          "55.378051"
         ],
         "legendgroup": "United Kingdom",
         "lon": [
          "-3.435973"
         ],
         "marker": {
          "color": "#FF97FF",
          "size": [
           4
          ],
          "sizemode": "area",
          "sizeref": 0.0825,
          "symbol": "circle"
         },
         "mode": "markers",
         "name": "United Kingdom",
         "showlegend": true,
         "type": "scattergeo"
        },
        {
         "customdata": [
          [
           2
          ]
         ],
         "geo": "geo",
         "hovertemplate": "<b>%{hovertext}</b><br><br>c2=Uruguay<br>country_count=%{customdata[0]}<br>latc=%{lat}<br>lonc=%{lon}<extra></extra>",
         "hovertext": [
          "Uruguay"
         ],
         "lat": [
          "-32.522779"
         ],
         "legendgroup": "Uruguay",
         "lon": [
          "-55.765835"
         ],
         "marker": {
          "color": "#FECB52",
          "size": [
           2
          ],
          "sizemode": "area",
          "sizeref": 0.0825,
          "symbol": "circle"
         },
         "mode": "markers",
         "name": "Uruguay",
         "showlegend": true,
         "type": "scattergeo"
        },
        {
         "customdata": [
          [
           2
          ]
         ],
         "geo": "geo",
         "hovertemplate": "<b>%{hovertext}</b><br><br>c2=nan<br>country_count=%{customdata[0]}<br>latc=%{lat}<br>lonc=%{lon}<extra></extra>",
         "hovertext": [
          "nan"
         ],
         "lat": [
          "nan"
         ],
         "legendgroup": "nan",
         "lon": [
          "nan"
         ],
         "marker": {
          "color": "#636efa",
          "size": [
           2
          ],
          "sizemode": "area",
          "sizeref": 0.0825,
          "symbol": "circle"
         },
         "mode": "markers",
         "name": "nan",
         "showlegend": true,
         "type": "scattergeo"
        }
       ],
       "layout": {
        "geo": {
         "center": {},
         "domain": {
          "x": [
           0,
           1
          ],
          "y": [
           0,
           1
          ]
         },
         "projection": {
          "type": "winkel tripel"
         }
        },
        "legend": {
         "itemsizing": "constant",
         "title": {
          "text": "c2"
         },
         "tracegroupgap": 0
        },
        "margin": {
         "t": 60
        },
        "template": {
         "data": {
          "bar": [
           {
            "error_x": {
             "color": "#2a3f5f"
            },
            "error_y": {
             "color": "#2a3f5f"
            },
            "marker": {
             "line": {
              "color": "#E5ECF6",
              "width": 0.5
             },
             "pattern": {
              "fillmode": "overlay",
              "size": 10,
              "solidity": 0.2
             }
            },
            "type": "bar"
           }
          ],
          "barpolar": [
           {
            "marker": {
             "line": {
              "color": "#E5ECF6",
              "width": 0.5
             },
             "pattern": {
              "fillmode": "overlay",
              "size": 10,
              "solidity": 0.2
             }
            },
            "type": "barpolar"
           }
          ],
          "carpet": [
           {
            "aaxis": {
             "endlinecolor": "#2a3f5f",
             "gridcolor": "white",
             "linecolor": "white",
             "minorgridcolor": "white",
             "startlinecolor": "#2a3f5f"
            },
            "baxis": {
             "endlinecolor": "#2a3f5f",
             "gridcolor": "white",
             "linecolor": "white",
             "minorgridcolor": "white",
             "startlinecolor": "#2a3f5f"
            },
            "type": "carpet"
           }
          ],
          "choropleth": [
           {
            "colorbar": {
             "outlinewidth": 0,
             "ticks": ""
            },
            "type": "choropleth"
           }
          ],
          "contour": [
           {
            "colorbar": {
             "outlinewidth": 0,
             "ticks": ""
            },
            "colorscale": [
             [
              0,
              "#0d0887"
             ],
             [
              0.1111111111111111,
              "#46039f"
             ],
             [
              0.2222222222222222,
              "#7201a8"
             ],
             [
              0.3333333333333333,
              "#9c179e"
             ],
             [
              0.4444444444444444,
              "#bd3786"
             ],
             [
              0.5555555555555556,
              "#d8576b"
             ],
             [
              0.6666666666666666,
              "#ed7953"
             ],
             [
              0.7777777777777778,
              "#fb9f3a"
             ],
             [
              0.8888888888888888,
              "#fdca26"
             ],
             [
              1,
              "#f0f921"
             ]
            ],
            "type": "contour"
           }
          ],
          "contourcarpet": [
           {
            "colorbar": {
             "outlinewidth": 0,
             "ticks": ""
            },
            "type": "contourcarpet"
           }
          ],
          "heatmap": [
           {
            "colorbar": {
             "outlinewidth": 0,
             "ticks": ""
            },
            "colorscale": [
             [
              0,
              "#0d0887"
             ],
             [
              0.1111111111111111,
              "#46039f"
             ],
             [
              0.2222222222222222,
              "#7201a8"
             ],
             [
              0.3333333333333333,
              "#9c179e"
             ],
             [
              0.4444444444444444,
              "#bd3786"
             ],
             [
              0.5555555555555556,
              "#d8576b"
             ],
             [
              0.6666666666666666,
              "#ed7953"
             ],
             [
              0.7777777777777778,
              "#fb9f3a"
             ],
             [
              0.8888888888888888,
              "#fdca26"
             ],
             [
              1,
              "#f0f921"
             ]
            ],
            "type": "heatmap"
           }
          ],
          "heatmapgl": [
           {
            "colorbar": {
             "outlinewidth": 0,
             "ticks": ""
            },
            "colorscale": [
             [
              0,
              "#0d0887"
             ],
             [
              0.1111111111111111,
              "#46039f"
             ],
             [
              0.2222222222222222,
              "#7201a8"
             ],
             [
              0.3333333333333333,
              "#9c179e"
             ],
             [
              0.4444444444444444,
              "#bd3786"
             ],
             [
              0.5555555555555556,
              "#d8576b"
             ],
             [
              0.6666666666666666,
              "#ed7953"
             ],
             [
              0.7777777777777778,
              "#fb9f3a"
             ],
             [
              0.8888888888888888,
              "#fdca26"
             ],
             [
              1,
              "#f0f921"
             ]
            ],
            "type": "heatmapgl"
           }
          ],
          "histogram": [
           {
            "marker": {
             "pattern": {
              "fillmode": "overlay",
              "size": 10,
              "solidity": 0.2
             }
            },
            "type": "histogram"
           }
          ],
          "histogram2d": [
           {
            "colorbar": {
             "outlinewidth": 0,
             "ticks": ""
            },
            "colorscale": [
             [
              0,
              "#0d0887"
             ],
             [
              0.1111111111111111,
              "#46039f"
             ],
             [
              0.2222222222222222,
              "#7201a8"
             ],
             [
              0.3333333333333333,
              "#9c179e"
             ],
             [
              0.4444444444444444,
              "#bd3786"
             ],
             [
              0.5555555555555556,
              "#d8576b"
             ],
             [
              0.6666666666666666,
              "#ed7953"
             ],
             [
              0.7777777777777778,
              "#fb9f3a"
             ],
             [
              0.8888888888888888,
              "#fdca26"
             ],
             [
              1,
              "#f0f921"
             ]
            ],
            "type": "histogram2d"
           }
          ],
          "histogram2dcontour": [
           {
            "colorbar": {
             "outlinewidth": 0,
             "ticks": ""
            },
            "colorscale": [
             [
              0,
              "#0d0887"
             ],
             [
              0.1111111111111111,
              "#46039f"
             ],
             [
              0.2222222222222222,
              "#7201a8"
             ],
             [
              0.3333333333333333,
              "#9c179e"
             ],
             [
              0.4444444444444444,
              "#bd3786"
             ],
             [
              0.5555555555555556,
              "#d8576b"
             ],
             [
              0.6666666666666666,
              "#ed7953"
             ],
             [
              0.7777777777777778,
              "#fb9f3a"
             ],
             [
              0.8888888888888888,
              "#fdca26"
             ],
             [
              1,
              "#f0f921"
             ]
            ],
            "type": "histogram2dcontour"
           }
          ],
          "mesh3d": [
           {
            "colorbar": {
             "outlinewidth": 0,
             "ticks": ""
            },
            "type": "mesh3d"
           }
          ],
          "parcoords": [
           {
            "line": {
             "colorbar": {
              "outlinewidth": 0,
              "ticks": ""
             }
            },
            "type": "parcoords"
           }
          ],
          "pie": [
           {
            "automargin": true,
            "type": "pie"
           }
          ],
          "scatter": [
           {
            "marker": {
             "colorbar": {
              "outlinewidth": 0,
              "ticks": ""
             }
            },
            "type": "scatter"
           }
          ],
          "scatter3d": [
           {
            "line": {
             "colorbar": {
              "outlinewidth": 0,
              "ticks": ""
             }
            },
            "marker": {
             "colorbar": {
              "outlinewidth": 0,
              "ticks": ""
             }
            },
            "type": "scatter3d"
           }
          ],
          "scattercarpet": [
           {
            "marker": {
             "colorbar": {
              "outlinewidth": 0,
              "ticks": ""
             }
            },
            "type": "scattercarpet"
           }
          ],
          "scattergeo": [
           {
            "marker": {
             "colorbar": {
              "outlinewidth": 0,
              "ticks": ""
             }
            },
            "type": "scattergeo"
           }
          ],
          "scattergl": [
           {
            "marker": {
             "colorbar": {
              "outlinewidth": 0,
              "ticks": ""
             }
            },
            "type": "scattergl"
           }
          ],
          "scattermapbox": [
           {
            "marker": {
             "colorbar": {
              "outlinewidth": 0,
              "ticks": ""
             }
            },
            "type": "scattermapbox"
           }
          ],
          "scatterpolar": [
           {
            "marker": {
             "colorbar": {
              "outlinewidth": 0,
              "ticks": ""
             }
            },
            "type": "scatterpolar"
           }
          ],
          "scatterpolargl": [
           {
            "marker": {
             "colorbar": {
              "outlinewidth": 0,
              "ticks": ""
             }
            },
            "type": "scatterpolargl"
           }
          ],
          "scatterternary": [
           {
            "marker": {
             "colorbar": {
              "outlinewidth": 0,
              "ticks": ""
             }
            },
            "type": "scatterternary"
           }
          ],
          "surface": [
           {
            "colorbar": {
             "outlinewidth": 0,
             "ticks": ""
            },
            "colorscale": [
             [
              0,
              "#0d0887"
             ],
             [
              0.1111111111111111,
              "#46039f"
             ],
             [
              0.2222222222222222,
              "#7201a8"
             ],
             [
              0.3333333333333333,
              "#9c179e"
             ],
             [
              0.4444444444444444,
              "#bd3786"
             ],
             [
              0.5555555555555556,
              "#d8576b"
             ],
             [
              0.6666666666666666,
              "#ed7953"
             ],
             [
              0.7777777777777778,
              "#fb9f3a"
             ],
             [
              0.8888888888888888,
              "#fdca26"
             ],
             [
              1,
              "#f0f921"
             ]
            ],
            "type": "surface"
           }
          ],
          "table": [
           {
            "cells": {
             "fill": {
              "color": "#EBF0F8"
             },
             "line": {
              "color": "white"
             }
            },
            "header": {
             "fill": {
              "color": "#C8D4E3"
             },
             "line": {
              "color": "white"
             }
            },
            "type": "table"
           }
          ]
         },
         "layout": {
          "annotationdefaults": {
           "arrowcolor": "#2a3f5f",
           "arrowhead": 0,
           "arrowwidth": 1
          },
          "autotypenumbers": "strict",
          "coloraxis": {
           "colorbar": {
            "outlinewidth": 0,
            "ticks": ""
           }
          },
          "colorscale": {
           "diverging": [
            [
             0,
             "#8e0152"
            ],
            [
             0.1,
             "#c51b7d"
            ],
            [
             0.2,
             "#de77ae"
            ],
            [
             0.3,
             "#f1b6da"
            ],
            [
             0.4,
             "#fde0ef"
            ],
            [
             0.5,
             "#f7f7f7"
            ],
            [
             0.6,
             "#e6f5d0"
            ],
            [
             0.7,
             "#b8e186"
            ],
            [
             0.8,
             "#7fbc41"
            ],
            [
             0.9,
             "#4d9221"
            ],
            [
             1,
             "#276419"
            ]
           ],
           "sequential": [
            [
             0,
             "#0d0887"
            ],
            [
             0.1111111111111111,
             "#46039f"
            ],
            [
             0.2222222222222222,
             "#7201a8"
            ],
            [
             0.3333333333333333,
             "#9c179e"
            ],
            [
             0.4444444444444444,
             "#bd3786"
            ],
            [
             0.5555555555555556,
             "#d8576b"
            ],
            [
             0.6666666666666666,
             "#ed7953"
            ],
            [
             0.7777777777777778,
             "#fb9f3a"
            ],
            [
             0.8888888888888888,
             "#fdca26"
            ],
            [
             1,
             "#f0f921"
            ]
           ],
           "sequentialminus": [
            [
             0,
             "#0d0887"
            ],
            [
             0.1111111111111111,
             "#46039f"
            ],
            [
             0.2222222222222222,
             "#7201a8"
            ],
            [
             0.3333333333333333,
             "#9c179e"
            ],
            [
             0.4444444444444444,
             "#bd3786"
            ],
            [
             0.5555555555555556,
             "#d8576b"
            ],
            [
             0.6666666666666666,
             "#ed7953"
            ],
            [
             0.7777777777777778,
             "#fb9f3a"
            ],
            [
             0.8888888888888888,
             "#fdca26"
            ],
            [
             1,
             "#f0f921"
            ]
           ]
          },
          "colorway": [
           "#636efa",
           "#EF553B",
           "#00cc96",
           "#ab63fa",
           "#FFA15A",
           "#19d3f3",
           "#FF6692",
           "#B6E880",
           "#FF97FF",
           "#FECB52"
          ],
          "font": {
           "color": "#2a3f5f"
          },
          "geo": {
           "bgcolor": "white",
           "lakecolor": "white",
           "landcolor": "#E5ECF6",
           "showlakes": true,
           "showland": true,
           "subunitcolor": "white"
          },
          "hoverlabel": {
           "align": "left"
          },
          "hovermode": "closest",
          "mapbox": {
           "style": "light"
          },
          "paper_bgcolor": "white",
          "plot_bgcolor": "#E5ECF6",
          "polar": {
           "angularaxis": {
            "gridcolor": "white",
            "linecolor": "white",
            "ticks": ""
           },
           "bgcolor": "#E5ECF6",
           "radialaxis": {
            "gridcolor": "white",
            "linecolor": "white",
            "ticks": ""
           }
          },
          "scene": {
           "xaxis": {
            "backgroundcolor": "#E5ECF6",
            "gridcolor": "white",
            "gridwidth": 2,
            "linecolor": "white",
            "showbackground": true,
            "ticks": "",
            "zerolinecolor": "white"
           },
           "yaxis": {
            "backgroundcolor": "#E5ECF6",
            "gridcolor": "white",
            "gridwidth": 2,
            "linecolor": "white",
            "showbackground": true,
            "ticks": "",
            "zerolinecolor": "white"
           },
           "zaxis": {
            "backgroundcolor": "#E5ECF6",
            "gridcolor": "white",
            "gridwidth": 2,
            "linecolor": "white",
            "showbackground": true,
            "ticks": "",
            "zerolinecolor": "white"
           }
          },
          "shapedefaults": {
           "line": {
            "color": "#2a3f5f"
           }
          },
          "ternary": {
           "aaxis": {
            "gridcolor": "white",
            "linecolor": "white",
            "ticks": ""
           },
           "baxis": {
            "gridcolor": "white",
            "linecolor": "white",
            "ticks": ""
           },
           "bgcolor": "#E5ECF6",
           "caxis": {
            "gridcolor": "white",
            "linecolor": "white",
            "ticks": ""
           }
          },
          "title": {
           "x": 0.05
          },
          "xaxis": {
           "automargin": true,
           "gridcolor": "white",
           "linecolor": "white",
           "ticks": "",
           "title": {
            "standoff": 15
           },
           "zerolinecolor": "white",
           "zerolinewidth": 2
          },
          "yaxis": {
           "automargin": true,
           "gridcolor": "white",
           "linecolor": "white",
           "ticks": "",
           "title": {
            "standoff": 15
           },
           "zerolinecolor": "white",
           "zerolinewidth": 2
          }
         }
        }
       }
      },
      "text/html": [
       "<div>                            <div id=\"6f038d6f-5ff2-4851-840f-25cae016effe\" class=\"plotly-graph-div\" style=\"height:525px; width:100%;\"></div>            <script type=\"text/javascript\">                require([\"plotly\"], function(Plotly) {                    window.PLOTLYENV=window.PLOTLYENV || {};                                    if (document.getElementById(\"6f038d6f-5ff2-4851-840f-25cae016effe\")) {                    Plotly.newPlot(                        \"6f038d6f-5ff2-4851-840f-25cae016effe\",                        [{\"customdata\":[[1]],\"geo\":\"geo\",\"hovertemplate\":\"<b>%{hovertext}</b><br><br>c2=Argentina<br>country_count=%{customdata[0]}<br>latc=%{lat}<br>lonc=%{lon}<extra></extra>\",\"hovertext\":[\"Argentina\"],\"lat\":[\"-38.416097\"],\"legendgroup\":\"Argentina\",\"lon\":[\"-63.616672\"],\"marker\":{\"color\":\"#636efa\",\"size\":[1],\"sizemode\":\"area\",\"sizeref\":0.0825,\"symbol\":\"circle\"},\"mode\":\"markers\",\"name\":\"Argentina\",\"showlegend\":true,\"type\":\"scattergeo\"},{\"customdata\":[[3]],\"geo\":\"geo\",\"hovertemplate\":\"<b>%{hovertext}</b><br><br>c2=Armenia<br>country_count=%{customdata[0]}<br>latc=%{lat}<br>lonc=%{lon}<extra></extra>\",\"hovertext\":[\"Armenia\"],\"lat\":[\"40.069099\"],\"legendgroup\":\"Armenia\",\"lon\":[\"45.038189\"],\"marker\":{\"color\":\"#EF553B\",\"size\":[3],\"sizemode\":\"area\",\"sizeref\":0.0825,\"symbol\":\"circle\"},\"mode\":\"markers\",\"name\":\"Armenia\",\"showlegend\":true,\"type\":\"scattergeo\"},{\"customdata\":[[6]],\"geo\":\"geo\",\"hovertemplate\":\"<b>%{hovertext}</b><br><br>c2=Australia<br>country_count=%{customdata[0]}<br>latc=%{lat}<br>lonc=%{lon}<extra></extra>\",\"hovertext\":[\"Australia\"],\"lat\":[\"-25.274398\"],\"legendgroup\":\"Australia\",\"lon\":[\"133.775136\"],\"marker\":{\"color\":\"#00cc96\",\"size\":[6],\"sizemode\":\"area\",\"sizeref\":0.0825,\"symbol\":\"circle\"},\"mode\":\"markers\",\"name\":\"Australia\",\"showlegend\":true,\"type\":\"scattergeo\"},{\"customdata\":[[1]],\"geo\":\"geo\",\"hovertemplate\":\"<b>%{hovertext}</b><br><br>c2=Austria<br>country_count=%{customdata[0]}<br>latc=%{lat}<br>lonc=%{lon}<extra></extra>\",\"hovertext\":[\"Austria\"],\"lat\":[\"47.516231\"],\"legendgroup\":\"Austria\",\"lon\":[\"14.550072\"],\"marker\":{\"color\":\"#ab63fa\",\"size\":[1],\"sizemode\":\"area\",\"sizeref\":0.0825,\"symbol\":\"circle\"},\"mode\":\"markers\",\"name\":\"Austria\",\"showlegend\":true,\"type\":\"scattergeo\"},{\"customdata\":[[1]],\"geo\":\"geo\",\"hovertemplate\":\"<b>%{hovertext}</b><br><br>c2=Belgium<br>country_count=%{customdata[0]}<br>latc=%{lat}<br>lonc=%{lon}<extra></extra>\",\"hovertext\":[\"Belgium\"],\"lat\":[\"50.503887\"],\"legendgroup\":\"Belgium\",\"lon\":[\"4.469936\"],\"marker\":{\"color\":\"#FFA15A\",\"size\":[1],\"sizemode\":\"area\",\"sizeref\":0.0825,\"symbol\":\"circle\"},\"mode\":\"markers\",\"name\":\"Belgium\",\"showlegend\":true,\"type\":\"scattergeo\"},{\"customdata\":[[13]],\"geo\":\"geo\",\"hovertemplate\":\"<b>%{hovertext}</b><br><br>c2=Brazil<br>country_count=%{customdata[0]}<br>latc=%{lat}<br>lonc=%{lon}<extra></extra>\",\"hovertext\":[\"Brazil\"],\"lat\":[\"-14.235004\"],\"legendgroup\":\"Brazil\",\"lon\":[\"-51.92528\"],\"marker\":{\"color\":\"#19d3f3\",\"size\":[13],\"sizemode\":\"area\",\"sizeref\":0.0825,\"symbol\":\"circle\"},\"mode\":\"markers\",\"name\":\"Brazil\",\"showlegend\":true,\"type\":\"scattergeo\"},{\"customdata\":[[1]],\"geo\":\"geo\",\"hovertemplate\":\"<b>%{hovertext}</b><br><br>c2=Bulgaria<br>country_count=%{customdata[0]}<br>latc=%{lat}<br>lonc=%{lon}<extra></extra>\",\"hovertext\":[\"Bulgaria\"],\"lat\":[\"42.733883\"],\"legendgroup\":\"Bulgaria\",\"lon\":[\"25.48583\"],\"marker\":{\"color\":\"#FF6692\",\"size\":[1],\"sizemode\":\"area\",\"sizeref\":0.0825,\"symbol\":\"circle\"},\"mode\":\"markers\",\"name\":\"Bulgaria\",\"showlegend\":true,\"type\":\"scattergeo\"},{\"customdata\":[[33]],\"geo\":\"geo\",\"hovertemplate\":\"<b>%{hovertext}</b><br><br>c2=Canada<br>country_count=%{customdata[0]}<br>latc=%{lat}<br>lonc=%{lon}<extra></extra>\",\"hovertext\":[\"Canada\"],\"lat\":[\"56.130366\"],\"legendgroup\":\"Canada\",\"lon\":[\"-106.346771\"],\"marker\":{\"color\":\"#B6E880\",\"size\":[33],\"sizemode\":\"area\",\"sizeref\":0.0825,\"symbol\":\"circle\"},\"mode\":\"markers\",\"name\":\"Canada\",\"showlegend\":true,\"type\":\"scattergeo\"},{\"customdata\":[[3]],\"geo\":\"geo\",\"hovertemplate\":\"<b>%{hovertext}</b><br><br>c2=Chile<br>country_count=%{customdata[0]}<br>latc=%{lat}<br>lonc=%{lon}<extra></extra>\",\"hovertext\":[\"Chile\"],\"lat\":[\"-35.675147\"],\"legendgroup\":\"Chile\",\"lon\":[\"-71.542969\"],\"marker\":{\"color\":\"#FF97FF\",\"size\":[3],\"sizemode\":\"area\",\"sizeref\":0.0825,\"symbol\":\"circle\"},\"mode\":\"markers\",\"name\":\"Chile\",\"showlegend\":true,\"type\":\"scattergeo\"},{\"customdata\":[[31]],\"geo\":\"geo\",\"hovertemplate\":\"<b>%{hovertext}</b><br><br>c2=China<br>country_count=%{customdata[0]}<br>latc=%{lat}<br>lonc=%{lon}<extra></extra>\",\"hovertext\":[\"China\"],\"lat\":[\"35.86166\"],\"legendgroup\":\"China\",\"lon\":[\"104.195397\"],\"marker\":{\"color\":\"#FECB52\",\"size\":[31],\"sizemode\":\"area\",\"sizeref\":0.0825,\"symbol\":\"circle\"},\"mode\":\"markers\",\"name\":\"China\",\"showlegend\":true,\"type\":\"scattergeo\"},{\"customdata\":[[2]],\"geo\":\"geo\",\"hovertemplate\":\"<b>%{hovertext}</b><br><br>c2=Colombia<br>country_count=%{customdata[0]}<br>latc=%{lat}<br>lonc=%{lon}<extra></extra>\",\"hovertext\":[\"Colombia\"],\"lat\":[\"4.570868\"],\"legendgroup\":\"Colombia\",\"lon\":[\"-74.297333\"],\"marker\":{\"color\":\"#636efa\",\"size\":[2],\"sizemode\":\"area\",\"sizeref\":0.0825,\"symbol\":\"circle\"},\"mode\":\"markers\",\"name\":\"Colombia\",\"showlegend\":true,\"type\":\"scattergeo\"},{\"customdata\":[[1]],\"geo\":\"geo\",\"hovertemplate\":\"<b>%{hovertext}</b><br><br>c2=Costa Rica<br>country_count=%{customdata[0]}<br>latc=%{lat}<br>lonc=%{lon}<extra></extra>\",\"hovertext\":[\"Costa Rica\"],\"lat\":[\"9.748917\"],\"legendgroup\":\"Costa Rica\",\"lon\":[\"-83.753428\"],\"marker\":{\"color\":\"#EF553B\",\"size\":[1],\"sizemode\":\"area\",\"sizeref\":0.0825,\"symbol\":\"circle\"},\"mode\":\"markers\",\"name\":\"Costa Rica\",\"showlegend\":true,\"type\":\"scattergeo\"},{\"customdata\":[[6]],\"geo\":\"geo\",\"hovertemplate\":\"<b>%{hovertext}</b><br><br>c2=Cuba<br>country_count=%{customdata[0]}<br>latc=%{lat}<br>lonc=%{lon}<extra></extra>\",\"hovertext\":[\"Cuba\"],\"lat\":[\"21.521757\"],\"legendgroup\":\"Cuba\",\"lon\":[\"-77.781167\"],\"marker\":{\"color\":\"#00cc96\",\"size\":[6],\"sizemode\":\"area\",\"sizeref\":0.0825,\"symbol\":\"circle\"},\"mode\":\"markers\",\"name\":\"Cuba\",\"showlegend\":true,\"type\":\"scattergeo\"},{\"customdata\":[[1]],\"geo\":\"geo\",\"hovertemplate\":\"<b>%{hovertext}</b><br><br>c2=Czech Republic<br>country_count=%{customdata[0]}<br>latc=%{lat}<br>lonc=%{lon}<extra></extra>\",\"hovertext\":[\"Czech Republic\"],\"lat\":[\"49.817492\"],\"legendgroup\":\"Czech Republic\",\"lon\":[\"15.472962\"],\"marker\":{\"color\":\"#ab63fa\",\"size\":[1],\"sizemode\":\"area\",\"sizeref\":0.0825,\"symbol\":\"circle\"},\"mode\":\"markers\",\"name\":\"Czech Republic\",\"showlegend\":true,\"type\":\"scattergeo\"},{\"customdata\":[[2]],\"geo\":\"geo\",\"hovertemplate\":\"<b>%{hovertext}</b><br><br>c2=France<br>country_count=%{customdata[0]}<br>latc=%{lat}<br>lonc=%{lon}<extra></extra>\",\"hovertext\":[\"France\"],\"lat\":[\"46.227638\"],\"legendgroup\":\"France\",\"lon\":[\"2.213749\"],\"marker\":{\"color\":\"#FFA15A\",\"size\":[2],\"sizemode\":\"area\",\"sizeref\":0.0825,\"symbol\":\"circle\"},\"mode\":\"markers\",\"name\":\"France\",\"showlegend\":true,\"type\":\"scattergeo\"},{\"customdata\":[[2]],\"geo\":\"geo\",\"hovertemplate\":\"<b>%{hovertext}</b><br><br>c2=Germany<br>country_count=%{customdata[0]}<br>latc=%{lat}<br>lonc=%{lon}<extra></extra>\",\"hovertext\":[\"Germany\"],\"lat\":[\"51.165691\"],\"legendgroup\":\"Germany\",\"lon\":[\"10.451526\"],\"marker\":{\"color\":\"#19d3f3\",\"size\":[2],\"sizemode\":\"area\",\"sizeref\":0.0825,\"symbol\":\"circle\"},\"mode\":\"markers\",\"name\":\"Germany\",\"showlegend\":true,\"type\":\"scattergeo\"},{\"customdata\":[[2]],\"geo\":\"geo\",\"hovertemplate\":\"<b>%{hovertext}</b><br><br>c2=Greece<br>country_count=%{customdata[0]}<br>latc=%{lat}<br>lonc=%{lon}<extra></extra>\",\"hovertext\":[\"Greece\"],\"lat\":[\"39.074208\"],\"legendgroup\":\"Greece\",\"lon\":[\"21.824312\"],\"marker\":{\"color\":\"#FF6692\",\"size\":[2],\"sizemode\":\"area\",\"sizeref\":0.0825,\"symbol\":\"circle\"},\"mode\":\"markers\",\"name\":\"Greece\",\"showlegend\":true,\"type\":\"scattergeo\"},{\"customdata\":[[3]],\"geo\":\"geo\",\"hovertemplate\":\"<b>%{hovertext}</b><br><br>c2=Guatemala<br>country_count=%{customdata[0]}<br>latc=%{lat}<br>lonc=%{lon}<extra></extra>\",\"hovertext\":[\"Guatemala\"],\"lat\":[\"15.783471\"],\"legendgroup\":\"Guatemala\",\"lon\":[\"-90.230759\"],\"marker\":{\"color\":\"#B6E880\",\"size\":[3],\"sizemode\":\"area\",\"sizeref\":0.0825,\"symbol\":\"circle\"},\"mode\":\"markers\",\"name\":\"Guatemala\",\"showlegend\":true,\"type\":\"scattergeo\"},{\"customdata\":[[6]],\"geo\":\"geo\",\"hovertemplate\":\"<b>%{hovertext}</b><br><br>c2=India<br>country_count=%{customdata[0]}<br>latc=%{lat}<br>lonc=%{lon}<extra></extra>\",\"hovertext\":[\"India\"],\"lat\":[\"20.593684\"],\"legendgroup\":\"India\",\"lon\":[\"78.96288\"],\"marker\":{\"color\":\"#FF97FF\",\"size\":[6],\"sizemode\":\"area\",\"sizeref\":0.0825,\"symbol\":\"circle\"},\"mode\":\"markers\",\"name\":\"India\",\"showlegend\":true,\"type\":\"scattergeo\"},{\"customdata\":[[2]],\"geo\":\"geo\",\"hovertemplate\":\"<b>%{hovertext}</b><br><br>c2=Indonesia<br>country_count=%{customdata[0]}<br>latc=%{lat}<br>lonc=%{lon}<extra></extra>\",\"hovertext\":[\"Indonesia\"],\"lat\":[\"-0.789275\"],\"legendgroup\":\"Indonesia\",\"lon\":[\"113.921327\"],\"marker\":{\"color\":\"#FECB52\",\"size\":[2],\"sizemode\":\"area\",\"sizeref\":0.0825,\"symbol\":\"circle\"},\"mode\":\"markers\",\"name\":\"Indonesia\",\"showlegend\":true,\"type\":\"scattergeo\"},{\"customdata\":[[2]],\"geo\":\"geo\",\"hovertemplate\":\"<b>%{hovertext}</b><br><br>c2=Ireland<br>country_count=%{customdata[0]}<br>latc=%{lat}<br>lonc=%{lon}<extra></extra>\",\"hovertext\":[\"Ireland\"],\"lat\":[\"53.41291\"],\"legendgroup\":\"Ireland\",\"lon\":[\"-8.24389\"],\"marker\":{\"color\":\"#636efa\",\"size\":[2],\"sizemode\":\"area\",\"sizeref\":0.0825,\"symbol\":\"circle\"},\"mode\":\"markers\",\"name\":\"Ireland\",\"showlegend\":true,\"type\":\"scattergeo\"},{\"customdata\":[[2]],\"geo\":\"geo\",\"hovertemplate\":\"<b>%{hovertext}</b><br><br>c2=Israel<br>country_count=%{customdata[0]}<br>latc=%{lat}<br>lonc=%{lon}<extra></extra>\",\"hovertext\":[\"Israel\"],\"lat\":[\"31.046051\"],\"legendgroup\":\"Israel\",\"lon\":[\"34.851612\"],\"marker\":{\"color\":\"#EF553B\",\"size\":[2],\"sizemode\":\"area\",\"sizeref\":0.0825,\"symbol\":\"circle\"},\"mode\":\"markers\",\"name\":\"Israel\",\"showlegend\":true,\"type\":\"scattergeo\"},{\"customdata\":[[2]],\"geo\":\"geo\",\"hovertemplate\":\"<b>%{hovertext}</b><br><br>c2=Italy<br>country_count=%{customdata[0]}<br>latc=%{lat}<br>lonc=%{lon}<extra></extra>\",\"hovertext\":[\"Italy\"],\"lat\":[\"41.87194\"],\"legendgroup\":\"Italy\",\"lon\":[\"12.56738\"],\"marker\":{\"color\":\"#00cc96\",\"size\":[2],\"sizemode\":\"area\",\"sizeref\":0.0825,\"symbol\":\"circle\"},\"mode\":\"markers\",\"name\":\"Italy\",\"showlegend\":true,\"type\":\"scattergeo\"},{\"customdata\":[[9]],\"geo\":\"geo\",\"hovertemplate\":\"<b>%{hovertext}</b><br><br>c2=Japan<br>country_count=%{customdata[0]}<br>latc=%{lat}<br>lonc=%{lon}<extra></extra>\",\"hovertext\":[\"Japan\"],\"lat\":[\"36.204824\"],\"legendgroup\":\"Japan\",\"lon\":[\"138.252924\"],\"marker\":{\"color\":\"#ab63fa\",\"size\":[9],\"sizemode\":\"area\",\"sizeref\":0.0825,\"symbol\":\"circle\"},\"mode\":\"markers\",\"name\":\"Japan\",\"showlegend\":true,\"type\":\"scattergeo\"},{\"customdata\":[[4]],\"geo\":\"geo\",\"hovertemplate\":\"<b>%{hovertext}</b><br><br>c2=Mexico<br>country_count=%{customdata[0]}<br>latc=%{lat}<br>lonc=%{lon}<extra></extra>\",\"hovertext\":[\"Mexico\"],\"lat\":[\"23.634501\"],\"legendgroup\":\"Mexico\",\"lon\":[\"-102.552784\"],\"marker\":{\"color\":\"#FFA15A\",\"size\":[4],\"sizemode\":\"area\",\"sizeref\":0.0825,\"symbol\":\"circle\"},\"mode\":\"markers\",\"name\":\"Mexico\",\"showlegend\":true,\"type\":\"scattergeo\"},{\"customdata\":[[1]],\"geo\":\"geo\",\"hovertemplate\":\"<b>%{hovertext}</b><br><br>c2=Myanmar<br>country_count=%{customdata[0]}<br>latc=%{lat}<br>lonc=%{lon}<extra></extra>\",\"hovertext\":[\"Myanmar\"],\"lat\":[\"21.913965\"],\"legendgroup\":\"Myanmar\",\"lon\":[\"95.956223\"],\"marker\":{\"color\":\"#19d3f3\",\"size\":[1],\"sizemode\":\"area\",\"sizeref\":0.0825,\"symbol\":\"circle\"},\"mode\":\"markers\",\"name\":\"Myanmar\",\"showlegend\":true,\"type\":\"scattergeo\"},{\"customdata\":[[1]],\"geo\":\"geo\",\"hovertemplate\":\"<b>%{hovertext}</b><br><br>c2=Norway<br>country_count=%{customdata[0]}<br>latc=%{lat}<br>lonc=%{lon}<extra></extra>\",\"hovertext\":[\"Norway\"],\"lat\":[\"60.472024\"],\"legendgroup\":\"Norway\",\"lon\":[\"8.468946\"],\"marker\":{\"color\":\"#FF6692\",\"size\":[1],\"sizemode\":\"area\",\"sizeref\":0.0825,\"symbol\":\"circle\"},\"mode\":\"markers\",\"name\":\"Norway\",\"showlegend\":true,\"type\":\"scattergeo\"},{\"customdata\":[[4]],\"geo\":\"geo\",\"hovertemplate\":\"<b>%{hovertext}</b><br><br>c2=Panama<br>country_count=%{customdata[0]}<br>latc=%{lat}<br>lonc=%{lon}<extra></extra>\",\"hovertext\":[\"Panama\"],\"lat\":[\"8.537981\"],\"legendgroup\":\"Panama\",\"lon\":[\"-80.782127\"],\"marker\":{\"color\":\"#B6E880\",\"size\":[4],\"sizemode\":\"area\",\"sizeref\":0.0825,\"symbol\":\"circle\"},\"mode\":\"markers\",\"name\":\"Panama\",\"showlegend\":true,\"type\":\"scattergeo\"},{\"customdata\":[[1]],\"geo\":\"geo\",\"hovertemplate\":\"<b>%{hovertext}</b><br><br>c2=Philippines<br>country_count=%{customdata[0]}<br>latc=%{lat}<br>lonc=%{lon}<extra></extra>\",\"hovertext\":[\"Philippines\"],\"lat\":[\"12.879721\"],\"legendgroup\":\"Philippines\",\"lon\":[\"121.774017\"],\"marker\":{\"color\":\"#FF97FF\",\"size\":[1],\"sizemode\":\"area\",\"sizeref\":0.0825,\"symbol\":\"circle\"},\"mode\":\"markers\",\"name\":\"Philippines\",\"showlegend\":true,\"type\":\"scattergeo\"},{\"customdata\":[[11]],\"geo\":\"geo\",\"hovertemplate\":\"<b>%{hovertext}</b><br><br>c2=Puerto Rico<br>country_count=%{customdata[0]}<br>latc=%{lat}<br>lonc=%{lon}<extra></extra>\",\"hovertext\":[\"Puerto Rico\"],\"lat\":[\"18.220833\"],\"legendgroup\":\"Puerto Rico\",\"lon\":[\"-66.590149\"],\"marker\":{\"color\":\"#FECB52\",\"size\":[11],\"sizemode\":\"area\",\"sizeref\":0.0825,\"symbol\":\"circle\"},\"mode\":\"markers\",\"name\":\"Puerto Rico\",\"showlegend\":true,\"type\":\"scattergeo\"},{\"customdata\":[[1]],\"geo\":\"geo\",\"hovertemplate\":\"<b>%{hovertext}</b><br><br>c2=Republic of North Macedonia<br>country_count=%{customdata[0]}<br>latc=%{lat}<br>lonc=%{lon}<extra></extra>\",\"hovertext\":[\"Republic of North Macedonia\"],\"lat\":[\"41.608635\"],\"legendgroup\":\"Republic of North Macedonia\",\"lon\":[\"21.745275\"],\"marker\":{\"color\":\"#636efa\",\"size\":[1],\"sizemode\":\"area\",\"sizeref\":0.0825,\"symbol\":\"circle\"},\"mode\":\"markers\",\"name\":\"Republic of North Macedonia\",\"showlegend\":true,\"type\":\"scattergeo\"},{\"customdata\":[[6]],\"geo\":\"geo\",\"hovertemplate\":\"<b>%{hovertext}</b><br><br>c2=Russia<br>country_count=%{customdata[0]}<br>latc=%{lat}<br>lonc=%{lon}<extra></extra>\",\"hovertext\":[\"Russia\"],\"lat\":[\"61.52401\"],\"legendgroup\":\"Russia\",\"lon\":[\"105.318756\"],\"marker\":{\"color\":\"#EF553B\",\"size\":[6],\"sizemode\":\"area\",\"sizeref\":0.0825,\"symbol\":\"circle\"},\"mode\":\"markers\",\"name\":\"Russia\",\"showlegend\":true,\"type\":\"scattergeo\"},{\"customdata\":[[1]],\"geo\":\"geo\",\"hovertemplate\":\"<b>%{hovertext}</b><br><br>c2=South Korea<br>country_count=%{customdata[0]}<br>latc=%{lat}<br>lonc=%{lon}<extra></extra>\",\"hovertext\":[\"South Korea\"],\"lat\":[\"35.907757\"],\"legendgroup\":\"South Korea\",\"lon\":[\"127.766922\"],\"marker\":{\"color\":\"#00cc96\",\"size\":[1],\"sizemode\":\"area\",\"sizeref\":0.0825,\"symbol\":\"circle\"},\"mode\":\"markers\",\"name\":\"South Korea\",\"showlegend\":true,\"type\":\"scattergeo\"},{\"customdata\":[[1]],\"geo\":\"geo\",\"hovertemplate\":\"<b>%{hovertext}</b><br><br>c2=Spain<br>country_count=%{customdata[0]}<br>latc=%{lat}<br>lonc=%{lon}<extra></extra>\",\"hovertext\":[\"Spain\"],\"lat\":[\"40.463667\"],\"legendgroup\":\"Spain\",\"lon\":[\"-3.74922\"],\"marker\":{\"color\":\"#ab63fa\",\"size\":[1],\"sizemode\":\"area\",\"sizeref\":0.0825,\"symbol\":\"circle\"},\"mode\":\"markers\",\"name\":\"Spain\",\"showlegend\":true,\"type\":\"scattergeo\"},{\"customdata\":[[8]],\"geo\":\"geo\",\"hovertemplate\":\"<b>%{hovertext}</b><br><br>c2=Sweden<br>country_count=%{customdata[0]}<br>latc=%{lat}<br>lonc=%{lon}<extra></extra>\",\"hovertext\":[\"Sweden\"],\"lat\":[\"60.128161\"],\"legendgroup\":\"Sweden\",\"lon\":[\"18.643501\"],\"marker\":{\"color\":\"#FFA15A\",\"size\":[8],\"sizemode\":\"area\",\"sizeref\":0.0825,\"symbol\":\"circle\"},\"mode\":\"markers\",\"name\":\"Sweden\",\"showlegend\":true,\"type\":\"scattergeo\"},{\"customdata\":[[2]],\"geo\":\"geo\",\"hovertemplate\":\"<b>%{hovertext}</b><br><br>c2=Syria<br>country_count=%{customdata[0]}<br>latc=%{lat}<br>lonc=%{lon}<extra></extra>\",\"hovertext\":[\"Syria\"],\"lat\":[\"34.802075\"],\"legendgroup\":\"Syria\",\"lon\":[\"38.996815\"],\"marker\":{\"color\":\"#19d3f3\",\"size\":[2],\"sizemode\":\"area\",\"sizeref\":0.0825,\"symbol\":\"circle\"},\"mode\":\"markers\",\"name\":\"Syria\",\"showlegend\":true,\"type\":\"scattergeo\"},{\"customdata\":[[2]],\"geo\":\"geo\",\"hovertemplate\":\"<b>%{hovertext}</b><br><br>c2=Thailand<br>country_count=%{customdata[0]}<br>latc=%{lat}<br>lonc=%{lon}<extra></extra>\",\"hovertext\":[\"Thailand\"],\"lat\":[\"15.870032\"],\"legendgroup\":\"Thailand\",\"lon\":[\"100.992541\"],\"marker\":{\"color\":\"#FF6692\",\"size\":[2],\"sizemode\":\"area\",\"sizeref\":0.0825,\"symbol\":\"circle\"},\"mode\":\"markers\",\"name\":\"Thailand\",\"showlegend\":true,\"type\":\"scattergeo\"},{\"customdata\":[[3]],\"geo\":\"geo\",\"hovertemplate\":\"<b>%{hovertext}</b><br><br>c2=Turkey<br>country_count=%{customdata[0]}<br>latc=%{lat}<br>lonc=%{lon}<extra></extra>\",\"hovertext\":[\"Turkey\"],\"lat\":[\"38.963745\"],\"legendgroup\":\"Turkey\",\"lon\":[\"35.243322\"],\"marker\":{\"color\":\"#B6E880\",\"size\":[3],\"sizemode\":\"area\",\"sizeref\":0.0825,\"symbol\":\"circle\"},\"mode\":\"markers\",\"name\":\"Turkey\",\"showlegend\":true,\"type\":\"scattergeo\"},{\"customdata\":[[4]],\"geo\":\"geo\",\"hovertemplate\":\"<b>%{hovertext}</b><br><br>c2=United Kingdom<br>country_count=%{customdata[0]}<br>latc=%{lat}<br>lonc=%{lon}<extra></extra>\",\"hovertext\":[\"United Kingdom\"],\"lat\":[\"55.378051\"],\"legendgroup\":\"United Kingdom\",\"lon\":[\"-3.435973\"],\"marker\":{\"color\":\"#FF97FF\",\"size\":[4],\"sizemode\":\"area\",\"sizeref\":0.0825,\"symbol\":\"circle\"},\"mode\":\"markers\",\"name\":\"United Kingdom\",\"showlegend\":true,\"type\":\"scattergeo\"},{\"customdata\":[[2]],\"geo\":\"geo\",\"hovertemplate\":\"<b>%{hovertext}</b><br><br>c2=Uruguay<br>country_count=%{customdata[0]}<br>latc=%{lat}<br>lonc=%{lon}<extra></extra>\",\"hovertext\":[\"Uruguay\"],\"lat\":[\"-32.522779\"],\"legendgroup\":\"Uruguay\",\"lon\":[\"-55.765835\"],\"marker\":{\"color\":\"#FECB52\",\"size\":[2],\"sizemode\":\"area\",\"sizeref\":0.0825,\"symbol\":\"circle\"},\"mode\":\"markers\",\"name\":\"Uruguay\",\"showlegend\":true,\"type\":\"scattergeo\"},{\"customdata\":[[2]],\"geo\":\"geo\",\"hovertemplate\":\"<b>%{hovertext}</b><br><br>c2=nan<br>country_count=%{customdata[0]}<br>latc=%{lat}<br>lonc=%{lon}<extra></extra>\",\"hovertext\":[\"nan\"],\"lat\":[\"nan\"],\"legendgroup\":\"nan\",\"lon\":[\"nan\"],\"marker\":{\"color\":\"#636efa\",\"size\":[2],\"sizemode\":\"area\",\"sizeref\":0.0825,\"symbol\":\"circle\"},\"mode\":\"markers\",\"name\":\"nan\",\"showlegend\":true,\"type\":\"scattergeo\"}],                        {\"geo\":{\"center\":{},\"domain\":{\"x\":[0.0,1.0],\"y\":[0.0,1.0]},\"projection\":{\"type\":\"winkel tripel\"}},\"legend\":{\"itemsizing\":\"constant\",\"title\":{\"text\":\"c2\"},\"tracegroupgap\":0},\"margin\":{\"t\":60},\"template\":{\"data\":{\"bar\":[{\"error_x\":{\"color\":\"#2a3f5f\"},\"error_y\":{\"color\":\"#2a3f5f\"},\"marker\":{\"line\":{\"color\":\"#E5ECF6\",\"width\":0.5},\"pattern\":{\"fillmode\":\"overlay\",\"size\":10,\"solidity\":0.2}},\"type\":\"bar\"}],\"barpolar\":[{\"marker\":{\"line\":{\"color\":\"#E5ECF6\",\"width\":0.5},\"pattern\":{\"fillmode\":\"overlay\",\"size\":10,\"solidity\":0.2}},\"type\":\"barpolar\"}],\"carpet\":[{\"aaxis\":{\"endlinecolor\":\"#2a3f5f\",\"gridcolor\":\"white\",\"linecolor\":\"white\",\"minorgridcolor\":\"white\",\"startlinecolor\":\"#2a3f5f\"},\"baxis\":{\"endlinecolor\":\"#2a3f5f\",\"gridcolor\":\"white\",\"linecolor\":\"white\",\"minorgridcolor\":\"white\",\"startlinecolor\":\"#2a3f5f\"},\"type\":\"carpet\"}],\"choropleth\":[{\"colorbar\":{\"outlinewidth\":0,\"ticks\":\"\"},\"type\":\"choropleth\"}],\"contour\":[{\"colorbar\":{\"outlinewidth\":0,\"ticks\":\"\"},\"colorscale\":[[0.0,\"#0d0887\"],[0.1111111111111111,\"#46039f\"],[0.2222222222222222,\"#7201a8\"],[0.3333333333333333,\"#9c179e\"],[0.4444444444444444,\"#bd3786\"],[0.5555555555555556,\"#d8576b\"],[0.6666666666666666,\"#ed7953\"],[0.7777777777777778,\"#fb9f3a\"],[0.8888888888888888,\"#fdca26\"],[1.0,\"#f0f921\"]],\"type\":\"contour\"}],\"contourcarpet\":[{\"colorbar\":{\"outlinewidth\":0,\"ticks\":\"\"},\"type\":\"contourcarpet\"}],\"heatmap\":[{\"colorbar\":{\"outlinewidth\":0,\"ticks\":\"\"},\"colorscale\":[[0.0,\"#0d0887\"],[0.1111111111111111,\"#46039f\"],[0.2222222222222222,\"#7201a8\"],[0.3333333333333333,\"#9c179e\"],[0.4444444444444444,\"#bd3786\"],[0.5555555555555556,\"#d8576b\"],[0.6666666666666666,\"#ed7953\"],[0.7777777777777778,\"#fb9f3a\"],[0.8888888888888888,\"#fdca26\"],[1.0,\"#f0f921\"]],\"type\":\"heatmap\"}],\"heatmapgl\":[{\"colorbar\":{\"outlinewidth\":0,\"ticks\":\"\"},\"colorscale\":[[0.0,\"#0d0887\"],[0.1111111111111111,\"#46039f\"],[0.2222222222222222,\"#7201a8\"],[0.3333333333333333,\"#9c179e\"],[0.4444444444444444,\"#bd3786\"],[0.5555555555555556,\"#d8576b\"],[0.6666666666666666,\"#ed7953\"],[0.7777777777777778,\"#fb9f3a\"],[0.8888888888888888,\"#fdca26\"],[1.0,\"#f0f921\"]],\"type\":\"heatmapgl\"}],\"histogram\":[{\"marker\":{\"pattern\":{\"fillmode\":\"overlay\",\"size\":10,\"solidity\":0.2}},\"type\":\"histogram\"}],\"histogram2d\":[{\"colorbar\":{\"outlinewidth\":0,\"ticks\":\"\"},\"colorscale\":[[0.0,\"#0d0887\"],[0.1111111111111111,\"#46039f\"],[0.2222222222222222,\"#7201a8\"],[0.3333333333333333,\"#9c179e\"],[0.4444444444444444,\"#bd3786\"],[0.5555555555555556,\"#d8576b\"],[0.6666666666666666,\"#ed7953\"],[0.7777777777777778,\"#fb9f3a\"],[0.8888888888888888,\"#fdca26\"],[1.0,\"#f0f921\"]],\"type\":\"histogram2d\"}],\"histogram2dcontour\":[{\"colorbar\":{\"outlinewidth\":0,\"ticks\":\"\"},\"colorscale\":[[0.0,\"#0d0887\"],[0.1111111111111111,\"#46039f\"],[0.2222222222222222,\"#7201a8\"],[0.3333333333333333,\"#9c179e\"],[0.4444444444444444,\"#bd3786\"],[0.5555555555555556,\"#d8576b\"],[0.6666666666666666,\"#ed7953\"],[0.7777777777777778,\"#fb9f3a\"],[0.8888888888888888,\"#fdca26\"],[1.0,\"#f0f921\"]],\"type\":\"histogram2dcontour\"}],\"mesh3d\":[{\"colorbar\":{\"outlinewidth\":0,\"ticks\":\"\"},\"type\":\"mesh3d\"}],\"parcoords\":[{\"line\":{\"colorbar\":{\"outlinewidth\":0,\"ticks\":\"\"}},\"type\":\"parcoords\"}],\"pie\":[{\"automargin\":true,\"type\":\"pie\"}],\"scatter\":[{\"marker\":{\"colorbar\":{\"outlinewidth\":0,\"ticks\":\"\"}},\"type\":\"scatter\"}],\"scatter3d\":[{\"line\":{\"colorbar\":{\"outlinewidth\":0,\"ticks\":\"\"}},\"marker\":{\"colorbar\":{\"outlinewidth\":0,\"ticks\":\"\"}},\"type\":\"scatter3d\"}],\"scattercarpet\":[{\"marker\":{\"colorbar\":{\"outlinewidth\":0,\"ticks\":\"\"}},\"type\":\"scattercarpet\"}],\"scattergeo\":[{\"marker\":{\"colorbar\":{\"outlinewidth\":0,\"ticks\":\"\"}},\"type\":\"scattergeo\"}],\"scattergl\":[{\"marker\":{\"colorbar\":{\"outlinewidth\":0,\"ticks\":\"\"}},\"type\":\"scattergl\"}],\"scattermapbox\":[{\"marker\":{\"colorbar\":{\"outlinewidth\":0,\"ticks\":\"\"}},\"type\":\"scattermapbox\"}],\"scatterpolar\":[{\"marker\":{\"colorbar\":{\"outlinewidth\":0,\"ticks\":\"\"}},\"type\":\"scatterpolar\"}],\"scatterpolargl\":[{\"marker\":{\"colorbar\":{\"outlinewidth\":0,\"ticks\":\"\"}},\"type\":\"scatterpolargl\"}],\"scatterternary\":[{\"marker\":{\"colorbar\":{\"outlinewidth\":0,\"ticks\":\"\"}},\"type\":\"scatterternary\"}],\"surface\":[{\"colorbar\":{\"outlinewidth\":0,\"ticks\":\"\"},\"colorscale\":[[0.0,\"#0d0887\"],[0.1111111111111111,\"#46039f\"],[0.2222222222222222,\"#7201a8\"],[0.3333333333333333,\"#9c179e\"],[0.4444444444444444,\"#bd3786\"],[0.5555555555555556,\"#d8576b\"],[0.6666666666666666,\"#ed7953\"],[0.7777777777777778,\"#fb9f3a\"],[0.8888888888888888,\"#fdca26\"],[1.0,\"#f0f921\"]],\"type\":\"surface\"}],\"table\":[{\"cells\":{\"fill\":{\"color\":\"#EBF0F8\"},\"line\":{\"color\":\"white\"}},\"header\":{\"fill\":{\"color\":\"#C8D4E3\"},\"line\":{\"color\":\"white\"}},\"type\":\"table\"}]},\"layout\":{\"annotationdefaults\":{\"arrowcolor\":\"#2a3f5f\",\"arrowhead\":0,\"arrowwidth\":1},\"autotypenumbers\":\"strict\",\"coloraxis\":{\"colorbar\":{\"outlinewidth\":0,\"ticks\":\"\"}},\"colorscale\":{\"diverging\":[[0,\"#8e0152\"],[0.1,\"#c51b7d\"],[0.2,\"#de77ae\"],[0.3,\"#f1b6da\"],[0.4,\"#fde0ef\"],[0.5,\"#f7f7f7\"],[0.6,\"#e6f5d0\"],[0.7,\"#b8e186\"],[0.8,\"#7fbc41\"],[0.9,\"#4d9221\"],[1,\"#276419\"]],\"sequential\":[[0.0,\"#0d0887\"],[0.1111111111111111,\"#46039f\"],[0.2222222222222222,\"#7201a8\"],[0.3333333333333333,\"#9c179e\"],[0.4444444444444444,\"#bd3786\"],[0.5555555555555556,\"#d8576b\"],[0.6666666666666666,\"#ed7953\"],[0.7777777777777778,\"#fb9f3a\"],[0.8888888888888888,\"#fdca26\"],[1.0,\"#f0f921\"]],\"sequentialminus\":[[0.0,\"#0d0887\"],[0.1111111111111111,\"#46039f\"],[0.2222222222222222,\"#7201a8\"],[0.3333333333333333,\"#9c179e\"],[0.4444444444444444,\"#bd3786\"],[0.5555555555555556,\"#d8576b\"],[0.6666666666666666,\"#ed7953\"],[0.7777777777777778,\"#fb9f3a\"],[0.8888888888888888,\"#fdca26\"],[1.0,\"#f0f921\"]]},\"colorway\":[\"#636efa\",\"#EF553B\",\"#00cc96\",\"#ab63fa\",\"#FFA15A\",\"#19d3f3\",\"#FF6692\",\"#B6E880\",\"#FF97FF\",\"#FECB52\"],\"font\":{\"color\":\"#2a3f5f\"},\"geo\":{\"bgcolor\":\"white\",\"lakecolor\":\"white\",\"landcolor\":\"#E5ECF6\",\"showlakes\":true,\"showland\":true,\"subunitcolor\":\"white\"},\"hoverlabel\":{\"align\":\"left\"},\"hovermode\":\"closest\",\"mapbox\":{\"style\":\"light\"},\"paper_bgcolor\":\"white\",\"plot_bgcolor\":\"#E5ECF6\",\"polar\":{\"angularaxis\":{\"gridcolor\":\"white\",\"linecolor\":\"white\",\"ticks\":\"\"},\"bgcolor\":\"#E5ECF6\",\"radialaxis\":{\"gridcolor\":\"white\",\"linecolor\":\"white\",\"ticks\":\"\"}},\"scene\":{\"xaxis\":{\"backgroundcolor\":\"#E5ECF6\",\"gridcolor\":\"white\",\"gridwidth\":2,\"linecolor\":\"white\",\"showbackground\":true,\"ticks\":\"\",\"zerolinecolor\":\"white\"},\"yaxis\":{\"backgroundcolor\":\"#E5ECF6\",\"gridcolor\":\"white\",\"gridwidth\":2,\"linecolor\":\"white\",\"showbackground\":true,\"ticks\":\"\",\"zerolinecolor\":\"white\"},\"zaxis\":{\"backgroundcolor\":\"#E5ECF6\",\"gridcolor\":\"white\",\"gridwidth\":2,\"linecolor\":\"white\",\"showbackground\":true,\"ticks\":\"\",\"zerolinecolor\":\"white\"}},\"shapedefaults\":{\"line\":{\"color\":\"#2a3f5f\"}},\"ternary\":{\"aaxis\":{\"gridcolor\":\"white\",\"linecolor\":\"white\",\"ticks\":\"\"},\"baxis\":{\"gridcolor\":\"white\",\"linecolor\":\"white\",\"ticks\":\"\"},\"bgcolor\":\"#E5ECF6\",\"caxis\":{\"gridcolor\":\"white\",\"linecolor\":\"white\",\"ticks\":\"\"}},\"title\":{\"x\":0.05},\"xaxis\":{\"automargin\":true,\"gridcolor\":\"white\",\"linecolor\":\"white\",\"ticks\":\"\",\"title\":{\"standoff\":15},\"zerolinecolor\":\"white\",\"zerolinewidth\":2},\"yaxis\":{\"automargin\":true,\"gridcolor\":\"white\",\"linecolor\":\"white\",\"ticks\":\"\",\"title\":{\"standoff\":15},\"zerolinecolor\":\"white\",\"zerolinewidth\":2}}}},                        {\"responsive\": true}                    ).then(function(){\n",
       "                            \n",
       "var gd = document.getElementById('6f038d6f-5ff2-4851-840f-25cae016effe');\n",
       "var x = new MutationObserver(function (mutations, observer) {{\n",
       "        var display = window.getComputedStyle(gd).display;\n",
       "        if (!display || display === 'none') {{\n",
       "            console.log([gd, 'removed!']);\n",
       "            Plotly.purge(gd);\n",
       "            observer.disconnect();\n",
       "        }}\n",
       "}});\n",
       "\n",
       "// Listen for the removal of the full notebook cells\n",
       "var notebookContainer = gd.closest('#notebook-container');\n",
       "if (notebookContainer) {{\n",
       "    x.observe(notebookContainer, {childList: true});\n",
       "}}\n",
       "\n",
       "// Listen for the clearing of the current output cell\n",
       "var outputEl = gd.closest('.output');\n",
       "if (outputEl) {{\n",
       "    x.observe(outputEl, {childList: true});\n",
       "}}\n",
       "\n",
       "                        })                };                });            </script>        </div>"
      ]
     },
     "metadata": {},
     "output_type": "display_data"
    }
   ],
   "source": [
    "#create bubble map to show different sizes of circles depending on number of students from the country from before WWII\n",
    "figc = px.scatter_geo(\n",
    "    countdf,\n",
    "    lat=countdf['latc'],\n",
    "    lon=countdf['lonc'],\n",
    "    color=countdf['c2'],\n",
    "    size=countdf['country_count'],\n",
    "    hover_name= countdf['c2'],\n",
    "    hover_data= [countdf['country_count']],\n",
    "    #projection = 'conic conformal',\n",
    "    projection = 'winkel tripel',\n",
    ")\n",
    "\n",
    "figc.show()"
   ]
  },
  {
   "cell_type": "code",
   "execution_count": 10,
   "metadata": {},
   "outputs": [
    {
     "name": "stdout",
     "output_type": "stream",
     "text": [
      "                                                 cllclass  0\n",
      "0                    Argentina|-38.416097|-63.616672|1912  1\n",
      "1                        Armenia|40.069099|45.038189|1900  1\n",
      "2                        Armenia|40.069099|45.038189|1917  1\n",
      "3                        Armenia|40.069099|45.038189|1935  1\n",
      "4                    Australia|-25.274398|133.775136|1905  1\n",
      "5                    Australia|-25.274398|133.775136|1906  2\n",
      "6                    Australia|-25.274398|133.775136|1907  2\n",
      "7                    Australia|-25.274398|133.775136|1908  1\n",
      "8                        Austria|47.516231|14.550072|1925  1\n",
      "9                         Belgium|50.503887|4.469936|1888  1\n",
      "10                       Brazil|-14.235004|-51.92528|1878  2\n",
      "11                       Brazil|-14.235004|-51.92528|1879  2\n",
      "12                       Brazil|-14.235004|-51.92528|1882  1\n",
      "13                       Brazil|-14.235004|-51.92528|1885  1\n",
      "14                       Brazil|-14.235004|-51.92528|1888  1\n",
      "15                       Brazil|-14.235004|-51.92528|1889  1\n",
      "16                       Brazil|-14.235004|-51.92528|1894  1\n",
      "17                       Brazil|-14.235004|-51.92528|1903  1\n",
      "18                       Brazil|-14.235004|-51.92528|1910  1\n",
      "19                       Brazil|-14.235004|-51.92528|1916  1\n",
      "20                       Brazil|-14.235004|-51.92528|1921  1\n",
      "21                       Bulgaria|42.733883|25.48583|1928  1\n",
      "22                      Canada|56.130366|-106.346771|1877  1\n",
      "23                      Canada|56.130366|-106.346771|1878  1\n",
      "24                      Canada|56.130366|-106.346771|1884  1\n",
      "25                      Canada|56.130366|-106.346771|1888  2\n",
      "26                      Canada|56.130366|-106.346771|1891  1\n",
      "27                      Canada|56.130366|-106.346771|1894  4\n",
      "28                      Canada|56.130366|-106.346771|1895  1\n",
      "29                      Canada|56.130366|-106.346771|1896  1\n",
      "30                      Canada|56.130366|-106.346771|1897  1\n",
      "31                      Canada|56.130366|-106.346771|1900  1\n",
      "32                      Canada|56.130366|-106.346771|1904  1\n",
      "33                      Canada|56.130366|-106.346771|1905  1\n",
      "34                      Canada|56.130366|-106.346771|1909  2\n",
      "35                      Canada|56.130366|-106.346771|1911  1\n",
      "36                      Canada|56.130366|-106.346771|1913  1\n",
      "37                      Canada|56.130366|-106.346771|1915  1\n",
      "38                      Canada|56.130366|-106.346771|1921  1\n",
      "39                      Canada|56.130366|-106.346771|1922  1\n",
      "40                      Canada|56.130366|-106.346771|1925  2\n",
      "41                      Canada|56.130366|-106.346771|1927  1\n",
      "42                      Canada|56.130366|-106.346771|1928  1\n",
      "43                      Canada|56.130366|-106.346771|1929  1\n",
      "44                      Canada|56.130366|-106.346771|1931  1\n",
      "45                      Canada|56.130366|-106.346771|1932  2\n",
      "46                      Canada|56.130366|-106.346771|1933  1\n",
      "47                      Canada|56.130366|-106.346771|1943  1\n",
      "48                       Chile|-35.675147|-71.542969|1883  1\n",
      "49                       Chile|-35.675147|-71.542969|1921  2\n",
      "50                         China|35.86166|104.195397|1884  1\n",
      "51                         China|35.86166|104.195397|1887  1\n",
      "52                         China|35.86166|104.195397|1911  1\n",
      "53                         China|35.86166|104.195397|1914  4\n",
      "54                         China|35.86166|104.195397|1916  2\n",
      "55                         China|35.86166|104.195397|1917  2\n",
      "56                         China|35.86166|104.195397|1918  3\n",
      "57                         China|35.86166|104.195397|1919  1\n",
      "58                         China|35.86166|104.195397|1920  5\n",
      "59                         China|35.86166|104.195397|1921  1\n",
      "60                         China|35.86166|104.195397|1922  1\n",
      "61                         China|35.86166|104.195397|1923  2\n",
      "62                         China|35.86166|104.195397|1924  2\n",
      "63                         China|35.86166|104.195397|1925  1\n",
      "64                         China|35.86166|104.195397|1927  1\n",
      "65                         China|35.86166|104.195397|1932  1\n",
      "66                         China|35.86166|104.195397|1942  1\n",
      "67                          China|35.86166|104.195397|nan  1\n",
      "68                      Colombia|4.570868|-74.297333|1922  1\n",
      "69                      Colombia|4.570868|-74.297333|1941  1\n",
      "70                    Costa Rica|9.748917|-83.753428|1917  1\n",
      "71                         Cuba|21.521757|-77.781167|1896  1\n",
      "72                         Cuba|21.521757|-77.781167|1906  1\n",
      "73                         Cuba|21.521757|-77.781167|1907  1\n",
      "74                         Cuba|21.521757|-77.781167|1909  1\n",
      "75                         Cuba|21.521757|-77.781167|1916  1\n",
      "76                         Cuba|21.521757|-77.781167|1918  1\n",
      "77                Czech Republic|49.817492|15.472962|1941  1\n",
      "78                         France|46.227638|2.213749|1921  1\n",
      "79                         France|46.227638|2.213749|1926  1\n",
      "80                       Germany|51.165691|10.451526|1880  1\n",
      "81                       Germany|51.165691|10.451526|1921  1\n",
      "82                        Greece|39.074208|21.824312|1918  1\n",
      "83                        Greece|39.074208|21.824312|1932  1\n",
      "84                    Guatemala|15.783471|-90.230759|1887  1\n",
      "85                    Guatemala|15.783471|-90.230759|1900  1\n",
      "86                    Guatemala|15.783471|-90.230759|1932  1\n",
      "87                          India|20.593684|78.96288|1931  2\n",
      "88                          India|20.593684|78.96288|1936  1\n",
      "89                          India|20.593684|78.96288|1939  2\n",
      "90                          India|20.593684|78.96288|1943  1\n",
      "91                    Indonesia|-0.789275|113.921327|1923  1\n",
      "92                    Indonesia|-0.789275|113.921327|1924  1\n",
      "93                         Ireland|53.41291|-8.24389|1906  1\n",
      "94                         Ireland|53.41291|-8.24389|1909  1\n",
      "95                        Israel|31.046051|34.851612|1926  1\n",
      "96                        Israel|31.046051|34.851612|1932  1\n",
      "97                           Italy|41.87194|12.56738|1913  1\n",
      "98                           Italy|41.87194|12.56738|1923  1\n",
      "99                        Japan|36.204824|138.252924|1876  2\n",
      "100                       Japan|36.204824|138.252924|1877  1\n",
      "101                       Japan|36.204824|138.252924|1888  1\n",
      "102                       Japan|36.204824|138.252924|1893  1\n",
      "103                       Japan|36.204824|138.252924|1901  1\n",
      "104                       Japan|36.204824|138.252924|1909  1\n",
      "105                       Japan|36.204824|138.252924|1925  1\n",
      "106                       Japan|36.204824|138.252924|1930  1\n",
      "107                     Mexico|23.634501|-102.552784|1896  1\n",
      "108                     Mexico|23.634501|-102.552784|1905  1\n",
      "109                     Mexico|23.634501|-102.552784|1907  1\n",
      "110                     Mexico|23.634501|-102.552784|1909  1\n",
      "111                      Myanmar|21.913965|95.956223|1917  1\n",
      "112                        Norway|60.472024|8.468946|1925  1\n",
      "113                       Panama|8.537981|-80.782127|1918  1\n",
      "114                       Panama|8.537981|-80.782127|1938  1\n",
      "115                       Panama|8.537981|-80.782127|1939  1\n",
      "116                       Panama|8.537981|-80.782127|1941  1\n",
      "117                 Philippines|12.879721|121.774017|1943  1\n",
      "118                 Puerto Rico|18.220833|-66.590149|1899  1\n",
      "119                 Puerto Rico|18.220833|-66.590149|1906  1\n",
      "120                 Puerto Rico|18.220833|-66.590149|1911  2\n",
      "121                 Puerto Rico|18.220833|-66.590149|1912  1\n",
      "122                 Puerto Rico|18.220833|-66.590149|1914  1\n",
      "123                 Puerto Rico|18.220833|-66.590149|1915  1\n",
      "124                 Puerto Rico|18.220833|-66.590149|1930  2\n",
      "125                 Puerto Rico|18.220833|-66.590149|1941  1\n",
      "126                 Puerto Rico|18.220833|-66.590149|1942  1\n",
      "127  Republic of North Macedonia|41.608635|21.745275|1932  1\n",
      "128                       Russia|61.52401|105.318756|1923  1\n",
      "129                       Russia|61.52401|105.318756|1925  2\n",
      "130                       Russia|61.52401|105.318756|1927  1\n",
      "131                       Russia|61.52401|105.318756|1928  1\n",
      "132                       Russia|61.52401|105.318756|1932  1\n",
      "133                 South Korea|35.907757|127.766922|1922  1\n",
      "134                         Spain|40.463667|-3.74922|1926  1\n",
      "135                       Sweden|60.128161|18.643501|1906  1\n",
      "136                       Sweden|60.128161|18.643501|1921  1\n",
      "137                       Sweden|60.128161|18.643501|1924  1\n",
      "138                       Sweden|60.128161|18.643501|1925  3\n",
      "139                       Sweden|60.128161|18.643501|1930  2\n",
      "140                        Syria|34.802075|38.996815|1914  1\n",
      "141                        Syria|34.802075|38.996815|1920  1\n",
      "142                    Thailand|15.870032|100.992541|1931  1\n",
      "143                    Thailand|15.870032|100.992541|1940  1\n",
      "144                       Turkey|38.963745|35.243322|1911  1\n",
      "145                       Turkey|38.963745|35.243322|1917  1\n",
      "146                       Turkey|38.963745|35.243322|1943  1\n",
      "147               United Kingdom|55.378051|-3.435973|1900  1\n",
      "148               United Kingdom|55.378051|-3.435973|1910  1\n",
      "149               United Kingdom|55.378051|-3.435973|1930  1\n",
      "150               United Kingdom|55.378051|-3.435973|1932  1\n",
      "151                    Uruguay|-32.522779|-55.765835|1924  2\n",
      "152                                      nan|nan|nan|1910  1\n",
      "153                                       nan|nan|nan|nan  1\n"
     ]
    }
   ],
   "source": [
    "#pivot data based on country using student name as index and Class Of year as value\n",
    "pivot2 = isdf.pivot(index='sname', columns='cllclass', values='classof')\n",
    "\n",
    "#count the number of times the country is listed\n",
    "countclass = pivot2.count()\n",
    "#convert series to dataframe\n",
    "classdf = countclass.to_frame()\n",
    "\n",
    "#make cll index to column\n",
    "classdf.reset_index(inplace=True)\n",
    "\n",
    "print(classdf.to_string())"
   ]
  },
  {
   "cell_type": "code",
   "execution_count": 11,
   "metadata": {},
   "outputs": [
    {
     "name": "stdout",
     "output_type": "stream",
     "text": [
      "                                    cllclass  class_count              cc  \\\n",
      "0       Argentina|-38.416097|-63.616672|1912            1       Argentina   \n",
      "1           Armenia|40.069099|45.038189|1900            1         Armenia   \n",
      "2           Armenia|40.069099|45.038189|1917            1         Armenia   \n",
      "3           Armenia|40.069099|45.038189|1935            1         Armenia   \n",
      "4       Australia|-25.274398|133.775136|1905            1       Australia   \n",
      "..                                       ...          ...             ...   \n",
      "149  United Kingdom|55.378051|-3.435973|1930            1  United Kingdom   \n",
      "150  United Kingdom|55.378051|-3.435973|1932            1  United Kingdom   \n",
      "151       Uruguay|-32.522779|-55.765835|1924            2         Uruguay   \n",
      "152                         nan|nan|nan|1910            1             nan   \n",
      "153                          nan|nan|nan|nan            1             nan   \n",
      "\n",
      "          cclat       cclon ccyear  \n",
      "0    -38.416097  -63.616672   1912  \n",
      "1     40.069099   45.038189   1900  \n",
      "2     40.069099   45.038189   1917  \n",
      "3     40.069099   45.038189   1935  \n",
      "4    -25.274398  133.775136   1905  \n",
      "..          ...         ...    ...  \n",
      "149   55.378051   -3.435973   1930  \n",
      "150   55.378051   -3.435973   1932  \n",
      "151  -32.522779  -55.765835   1924  \n",
      "152         nan         nan   1910  \n",
      "153         nan         nan    nan  \n",
      "\n",
      "[154 rows x 6 columns]\n"
     ]
    }
   ],
   "source": [
    "#rename column\n",
    "classdf = classdf.rename(columns={0:'class_count'})\n",
    "#split columns by delimeter\n",
    "classdf[['cc','cclat','cclon','ccyear']] = classdf.cllclass.str.split(\"|\",expand=True)\n",
    "\n",
    "print(classdf)"
   ]
  },
  {
   "cell_type": "code",
   "execution_count": 12,
   "metadata": {},
   "outputs": [
    {
     "name": "stdout",
     "output_type": "stream",
     "text": [
      "                                  cllclass  class_count           cc  \\\n",
      "99         Japan|36.204824|138.252924|1876            2        Japan   \n",
      "22       Canada|56.130366|-106.346771|1877            1       Canada   \n",
      "100        Japan|36.204824|138.252924|1877            1        Japan   \n",
      "23       Canada|56.130366|-106.346771|1878            1       Canada   \n",
      "10        Brazil|-14.235004|-51.92528|1878            2       Brazil   \n",
      "..                                     ...          ...          ...   \n",
      "66          China|35.86166|104.195397|1942            1        China   \n",
      "117  Philippines|12.879721|121.774017|1943            1  Philippines   \n",
      "146        Turkey|38.963745|35.243322|1943            1       Turkey   \n",
      "90           India|20.593684|78.96288|1943            1        India   \n",
      "47       Canada|56.130366|-106.346771|1943            1       Canada   \n",
      "\n",
      "          cclat        cclon ccyear    ccyear2  ccyear3  \n",
      "99    36.204824   138.252924   1876 1876-01-01     1876  \n",
      "22    56.130366  -106.346771   1877 1877-01-01     1877  \n",
      "100   36.204824   138.252924   1877 1877-01-01     1877  \n",
      "23    56.130366  -106.346771   1878 1878-01-01     1878  \n",
      "10   -14.235004    -51.92528   1878 1878-01-01     1878  \n",
      "..          ...          ...    ...        ...      ...  \n",
      "66     35.86166   104.195397   1942 1942-01-01     1942  \n",
      "117   12.879721   121.774017   1943 1943-01-01     1943  \n",
      "146   38.963745    35.243322   1943 1943-01-01     1943  \n",
      "90    20.593684     78.96288   1943 1943-01-01     1943  \n",
      "47    56.130366  -106.346771   1943 1943-01-01     1943  \n",
      "\n",
      "[152 rows x 8 columns]\n"
     ]
    }
   ],
   "source": [
    "#remove records where 'Class of' year is blank\n",
    "classdf = classdf[classdf['ccyear'] != 'nan']\n",
    "#change year to datetime so that it can be sorted in ascending order, this will default to YYYY-MM-DD, \n",
    "classdf['ccyear2'] = pd.to_datetime(classdf['ccyear'])\n",
    "#change ccyear to just the YEAR without month and day\n",
    "classdf['ccyear3'] = classdf['ccyear2'].dt.year\n",
    "#sort records by year\n",
    "classdf.sort_values(by=['ccyear3'], inplace = True)\n",
    "\n",
    "print(classdf)"
   ]
  },
  {
   "cell_type": "code",
   "execution_count": 23,
   "metadata": {},
   "outputs": [
    {
     "data": {
      "application/vnd.plotly.v1+json": {
       "config": {
        "plotlyServerURL": "https://plot.ly"
       },
       "data": [
        {
         "customdata": [
          [
           2,
           "1876"
          ]
         ],
         "geo": "geo",
         "hovertemplate": "<b>%{hovertext}</b><br><br>ccyear=%{customdata[1]}<br>class_count=%{customdata[0]}<br>cclat=%{lat}<br>cclon=%{lon}<extra></extra>",
         "hovertext": [
          "Japan"
         ],
         "lat": [
          "36.204824"
         ],
         "legendgroup": "1876",
         "lon": [
          "138.252924"
         ],
         "marker": {
          "color": "#636efa",
          "size": [
           2
          ],
          "sizemode": "area",
          "sizeref": 0.0125,
          "symbol": "circle"
         },
         "mode": "markers",
         "name": "1876",
         "showlegend": true,
         "type": "scattergeo"
        }
       ],
       "frames": [
        {
         "data": [
          {
           "customdata": [
            [
             2,
             "1876"
            ]
           ],
           "geo": "geo",
           "hovertemplate": "<b>%{hovertext}</b><br><br>ccyear=%{customdata[1]}<br>class_count=%{customdata[0]}<br>cclat=%{lat}<br>cclon=%{lon}<extra></extra>",
           "hovertext": [
            "Japan"
           ],
           "lat": [
            "36.204824"
           ],
           "legendgroup": "1876",
           "lon": [
            "138.252924"
           ],
           "marker": {
            "color": "#636efa",
            "size": [
             2
            ],
            "sizemode": "area",
            "sizeref": 0.0125,
            "symbol": "circle"
           },
           "mode": "markers",
           "name": "1876",
           "showlegend": true,
           "type": "scattergeo"
          }
         ],
         "name": "1876"
        },
        {
         "data": [
          {
           "customdata": [
            [
             1,
             "1877"
            ],
            [
             1,
             "1877"
            ]
           ],
           "geo": "geo",
           "hovertemplate": "<b>%{hovertext}</b><br><br>ccyear=%{customdata[1]}<br>class_count=%{customdata[0]}<br>cclat=%{lat}<br>cclon=%{lon}<extra></extra>",
           "hovertext": [
            "Canada",
            "Japan"
           ],
           "lat": [
            "56.130366",
            "36.204824"
           ],
           "legendgroup": "1877",
           "lon": [
            "-106.346771",
            "138.252924"
           ],
           "marker": {
            "color": "#EF553B",
            "size": [
             1,
             1
            ],
            "sizemode": "area",
            "sizeref": 0.0125,
            "symbol": "circle"
           },
           "mode": "markers",
           "name": "1877",
           "showlegend": true,
           "type": "scattergeo"
          }
         ],
         "name": "1877"
        },
        {
         "data": [
          {
           "customdata": [
            [
             1,
             "1878"
            ],
            [
             2,
             "1878"
            ]
           ],
           "geo": "geo",
           "hovertemplate": "<b>%{hovertext}</b><br><br>ccyear=%{customdata[1]}<br>class_count=%{customdata[0]}<br>cclat=%{lat}<br>cclon=%{lon}<extra></extra>",
           "hovertext": [
            "Canada",
            "Brazil"
           ],
           "lat": [
            "56.130366",
            "-14.235004"
           ],
           "legendgroup": "1878",
           "lon": [
            "-106.346771",
            "-51.92528"
           ],
           "marker": {
            "color": "#00cc96",
            "size": [
             1,
             2
            ],
            "sizemode": "area",
            "sizeref": 0.0125,
            "symbol": "circle"
           },
           "mode": "markers",
           "name": "1878",
           "showlegend": true,
           "type": "scattergeo"
          }
         ],
         "name": "1878"
        },
        {
         "data": [
          {
           "customdata": [
            [
             2,
             "1879"
            ]
           ],
           "geo": "geo",
           "hovertemplate": "<b>%{hovertext}</b><br><br>ccyear=%{customdata[1]}<br>class_count=%{customdata[0]}<br>cclat=%{lat}<br>cclon=%{lon}<extra></extra>",
           "hovertext": [
            "Brazil"
           ],
           "lat": [
            "-14.235004"
           ],
           "legendgroup": "1879",
           "lon": [
            "-51.92528"
           ],
           "marker": {
            "color": "#ab63fa",
            "size": [
             2
            ],
            "sizemode": "area",
            "sizeref": 0.0125,
            "symbol": "circle"
           },
           "mode": "markers",
           "name": "1879",
           "showlegend": true,
           "type": "scattergeo"
          }
         ],
         "name": "1879"
        },
        {
         "data": [
          {
           "customdata": [
            [
             1,
             "1880"
            ]
           ],
           "geo": "geo",
           "hovertemplate": "<b>%{hovertext}</b><br><br>ccyear=%{customdata[1]}<br>class_count=%{customdata[0]}<br>cclat=%{lat}<br>cclon=%{lon}<extra></extra>",
           "hovertext": [
            "Germany"
           ],
           "lat": [
            "51.165691"
           ],
           "legendgroup": "1880",
           "lon": [
            "10.451526"
           ],
           "marker": {
            "color": "#FFA15A",
            "size": [
             1
            ],
            "sizemode": "area",
            "sizeref": 0.0125,
            "symbol": "circle"
           },
           "mode": "markers",
           "name": "1880",
           "showlegend": true,
           "type": "scattergeo"
          }
         ],
         "name": "1880"
        },
        {
         "data": [
          {
           "customdata": [
            [
             1,
             "1882"
            ]
           ],
           "geo": "geo",
           "hovertemplate": "<b>%{hovertext}</b><br><br>ccyear=%{customdata[1]}<br>class_count=%{customdata[0]}<br>cclat=%{lat}<br>cclon=%{lon}<extra></extra>",
           "hovertext": [
            "Brazil"
           ],
           "lat": [
            "-14.235004"
           ],
           "legendgroup": "1882",
           "lon": [
            "-51.92528"
           ],
           "marker": {
            "color": "#19d3f3",
            "size": [
             1
            ],
            "sizemode": "area",
            "sizeref": 0.0125,
            "symbol": "circle"
           },
           "mode": "markers",
           "name": "1882",
           "showlegend": true,
           "type": "scattergeo"
          }
         ],
         "name": "1882"
        },
        {
         "data": [
          {
           "customdata": [
            [
             1,
             "1883"
            ]
           ],
           "geo": "geo",
           "hovertemplate": "<b>%{hovertext}</b><br><br>ccyear=%{customdata[1]}<br>class_count=%{customdata[0]}<br>cclat=%{lat}<br>cclon=%{lon}<extra></extra>",
           "hovertext": [
            "Chile"
           ],
           "lat": [
            "-35.675147"
           ],
           "legendgroup": "1883",
           "lon": [
            "-71.542969"
           ],
           "marker": {
            "color": "#FF6692",
            "size": [
             1
            ],
            "sizemode": "area",
            "sizeref": 0.0125,
            "symbol": "circle"
           },
           "mode": "markers",
           "name": "1883",
           "showlegend": true,
           "type": "scattergeo"
          }
         ],
         "name": "1883"
        },
        {
         "data": [
          {
           "customdata": [
            [
             1,
             "1884"
            ],
            [
             1,
             "1884"
            ]
           ],
           "geo": "geo",
           "hovertemplate": "<b>%{hovertext}</b><br><br>ccyear=%{customdata[1]}<br>class_count=%{customdata[0]}<br>cclat=%{lat}<br>cclon=%{lon}<extra></extra>",
           "hovertext": [
            "Canada",
            "China"
           ],
           "lat": [
            "56.130366",
            "35.86166"
           ],
           "legendgroup": "1884",
           "lon": [
            "-106.346771",
            "104.195397"
           ],
           "marker": {
            "color": "#B6E880",
            "size": [
             1,
             1
            ],
            "sizemode": "area",
            "sizeref": 0.0125,
            "symbol": "circle"
           },
           "mode": "markers",
           "name": "1884",
           "showlegend": true,
           "type": "scattergeo"
          }
         ],
         "name": "1884"
        },
        {
         "data": [
          {
           "customdata": [
            [
             1,
             "1885"
            ]
           ],
           "geo": "geo",
           "hovertemplate": "<b>%{hovertext}</b><br><br>ccyear=%{customdata[1]}<br>class_count=%{customdata[0]}<br>cclat=%{lat}<br>cclon=%{lon}<extra></extra>",
           "hovertext": [
            "Brazil"
           ],
           "lat": [
            "-14.235004"
           ],
           "legendgroup": "1885",
           "lon": [
            "-51.92528"
           ],
           "marker": {
            "color": "#FF97FF",
            "size": [
             1
            ],
            "sizemode": "area",
            "sizeref": 0.0125,
            "symbol": "circle"
           },
           "mode": "markers",
           "name": "1885",
           "showlegend": true,
           "type": "scattergeo"
          }
         ],
         "name": "1885"
        },
        {
         "data": [
          {
           "customdata": [
            [
             1,
             "1887"
            ],
            [
             1,
             "1887"
            ]
           ],
           "geo": "geo",
           "hovertemplate": "<b>%{hovertext}</b><br><br>ccyear=%{customdata[1]}<br>class_count=%{customdata[0]}<br>cclat=%{lat}<br>cclon=%{lon}<extra></extra>",
           "hovertext": [
            "China",
            "Guatemala"
           ],
           "lat": [
            "35.86166",
            "15.783471"
           ],
           "legendgroup": "1887",
           "lon": [
            "104.195397",
            "-90.230759"
           ],
           "marker": {
            "color": "#FECB52",
            "size": [
             1,
             1
            ],
            "sizemode": "area",
            "sizeref": 0.0125,
            "symbol": "circle"
           },
           "mode": "markers",
           "name": "1887",
           "showlegend": true,
           "type": "scattergeo"
          }
         ],
         "name": "1887"
        },
        {
         "data": [
          {
           "customdata": [
            [
             2,
             "1888"
            ],
            [
             1,
             "1888"
            ],
            [
             1,
             "1888"
            ],
            [
             1,
             "1888"
            ]
           ],
           "geo": "geo",
           "hovertemplate": "<b>%{hovertext}</b><br><br>ccyear=%{customdata[1]}<br>class_count=%{customdata[0]}<br>cclat=%{lat}<br>cclon=%{lon}<extra></extra>",
           "hovertext": [
            "Canada",
            "Brazil",
            "Japan",
            "Belgium"
           ],
           "lat": [
            "56.130366",
            "-14.235004",
            "36.204824",
            "50.503887"
           ],
           "legendgroup": "1888",
           "lon": [
            "-106.346771",
            "-51.92528",
            "138.252924",
            "4.469936"
           ],
           "marker": {
            "color": "#636efa",
            "size": [
             2,
             1,
             1,
             1
            ],
            "sizemode": "area",
            "sizeref": 0.0125,
            "symbol": "circle"
           },
           "mode": "markers",
           "name": "1888",
           "showlegend": true,
           "type": "scattergeo"
          }
         ],
         "name": "1888"
        },
        {
         "data": [
          {
           "customdata": [
            [
             1,
             "1889"
            ]
           ],
           "geo": "geo",
           "hovertemplate": "<b>%{hovertext}</b><br><br>ccyear=%{customdata[1]}<br>class_count=%{customdata[0]}<br>cclat=%{lat}<br>cclon=%{lon}<extra></extra>",
           "hovertext": [
            "Brazil"
           ],
           "lat": [
            "-14.235004"
           ],
           "legendgroup": "1889",
           "lon": [
            "-51.92528"
           ],
           "marker": {
            "color": "#EF553B",
            "size": [
             1
            ],
            "sizemode": "area",
            "sizeref": 0.0125,
            "symbol": "circle"
           },
           "mode": "markers",
           "name": "1889",
           "showlegend": true,
           "type": "scattergeo"
          }
         ],
         "name": "1889"
        },
        {
         "data": [
          {
           "customdata": [
            [
             1,
             "1891"
            ]
           ],
           "geo": "geo",
           "hovertemplate": "<b>%{hovertext}</b><br><br>ccyear=%{customdata[1]}<br>class_count=%{customdata[0]}<br>cclat=%{lat}<br>cclon=%{lon}<extra></extra>",
           "hovertext": [
            "Canada"
           ],
           "lat": [
            "56.130366"
           ],
           "legendgroup": "1891",
           "lon": [
            "-106.346771"
           ],
           "marker": {
            "color": "#00cc96",
            "size": [
             1
            ],
            "sizemode": "area",
            "sizeref": 0.0125,
            "symbol": "circle"
           },
           "mode": "markers",
           "name": "1891",
           "showlegend": true,
           "type": "scattergeo"
          }
         ],
         "name": "1891"
        },
        {
         "data": [
          {
           "customdata": [
            [
             1,
             "1893"
            ]
           ],
           "geo": "geo",
           "hovertemplate": "<b>%{hovertext}</b><br><br>ccyear=%{customdata[1]}<br>class_count=%{customdata[0]}<br>cclat=%{lat}<br>cclon=%{lon}<extra></extra>",
           "hovertext": [
            "Japan"
           ],
           "lat": [
            "36.204824"
           ],
           "legendgroup": "1893",
           "lon": [
            "138.252924"
           ],
           "marker": {
            "color": "#ab63fa",
            "size": [
             1
            ],
            "sizemode": "area",
            "sizeref": 0.0125,
            "symbol": "circle"
           },
           "mode": "markers",
           "name": "1893",
           "showlegend": true,
           "type": "scattergeo"
          }
         ],
         "name": "1893"
        },
        {
         "data": [
          {
           "customdata": [
            [
             4,
             "1894"
            ],
            [
             1,
             "1894"
            ]
           ],
           "geo": "geo",
           "hovertemplate": "<b>%{hovertext}</b><br><br>ccyear=%{customdata[1]}<br>class_count=%{customdata[0]}<br>cclat=%{lat}<br>cclon=%{lon}<extra></extra>",
           "hovertext": [
            "Canada",
            "Brazil"
           ],
           "lat": [
            "56.130366",
            "-14.235004"
           ],
           "legendgroup": "1894",
           "lon": [
            "-106.346771",
            "-51.92528"
           ],
           "marker": {
            "color": "#FFA15A",
            "size": [
             4,
             1
            ],
            "sizemode": "area",
            "sizeref": 0.0125,
            "symbol": "circle"
           },
           "mode": "markers",
           "name": "1894",
           "showlegend": true,
           "type": "scattergeo"
          }
         ],
         "name": "1894"
        },
        {
         "data": [
          {
           "customdata": [
            [
             1,
             "1895"
            ]
           ],
           "geo": "geo",
           "hovertemplate": "<b>%{hovertext}</b><br><br>ccyear=%{customdata[1]}<br>class_count=%{customdata[0]}<br>cclat=%{lat}<br>cclon=%{lon}<extra></extra>",
           "hovertext": [
            "Canada"
           ],
           "lat": [
            "56.130366"
           ],
           "legendgroup": "1895",
           "lon": [
            "-106.346771"
           ],
           "marker": {
            "color": "#19d3f3",
            "size": [
             1
            ],
            "sizemode": "area",
            "sizeref": 0.0125,
            "symbol": "circle"
           },
           "mode": "markers",
           "name": "1895",
           "showlegend": true,
           "type": "scattergeo"
          }
         ],
         "name": "1895"
        },
        {
         "data": [
          {
           "customdata": [
            [
             1,
             "1896"
            ],
            [
             1,
             "1896"
            ],
            [
             1,
             "1896"
            ]
           ],
           "geo": "geo",
           "hovertemplate": "<b>%{hovertext}</b><br><br>ccyear=%{customdata[1]}<br>class_count=%{customdata[0]}<br>cclat=%{lat}<br>cclon=%{lon}<extra></extra>",
           "hovertext": [
            "Mexico",
            "Canada",
            "Cuba"
           ],
           "lat": [
            "23.634501",
            "56.130366",
            "21.521757"
           ],
           "legendgroup": "1896",
           "lon": [
            "-102.552784",
            "-106.346771",
            "-77.781167"
           ],
           "marker": {
            "color": "#FF6692",
            "size": [
             1,
             1,
             1
            ],
            "sizemode": "area",
            "sizeref": 0.0125,
            "symbol": "circle"
           },
           "mode": "markers",
           "name": "1896",
           "showlegend": true,
           "type": "scattergeo"
          }
         ],
         "name": "1896"
        },
        {
         "data": [
          {
           "customdata": [
            [
             1,
             "1897"
            ]
           ],
           "geo": "geo",
           "hovertemplate": "<b>%{hovertext}</b><br><br>ccyear=%{customdata[1]}<br>class_count=%{customdata[0]}<br>cclat=%{lat}<br>cclon=%{lon}<extra></extra>",
           "hovertext": [
            "Canada"
           ],
           "lat": [
            "56.130366"
           ],
           "legendgroup": "1897",
           "lon": [
            "-106.346771"
           ],
           "marker": {
            "color": "#B6E880",
            "size": [
             1
            ],
            "sizemode": "area",
            "sizeref": 0.0125,
            "symbol": "circle"
           },
           "mode": "markers",
           "name": "1897",
           "showlegend": true,
           "type": "scattergeo"
          }
         ],
         "name": "1897"
        },
        {
         "data": [
          {
           "customdata": [
            [
             1,
             "1899"
            ]
           ],
           "geo": "geo",
           "hovertemplate": "<b>%{hovertext}</b><br><br>ccyear=%{customdata[1]}<br>class_count=%{customdata[0]}<br>cclat=%{lat}<br>cclon=%{lon}<extra></extra>",
           "hovertext": [
            "Puerto Rico"
           ],
           "lat": [
            "18.220833"
           ],
           "legendgroup": "1899",
           "lon": [
            "-66.590149"
           ],
           "marker": {
            "color": "#FF97FF",
            "size": [
             1
            ],
            "sizemode": "area",
            "sizeref": 0.0125,
            "symbol": "circle"
           },
           "mode": "markers",
           "name": "1899",
           "showlegend": true,
           "type": "scattergeo"
          }
         ],
         "name": "1899"
        },
        {
         "data": [
          {
           "customdata": [
            [
             1,
             "1900"
            ],
            [
             1,
             "1900"
            ],
            [
             1,
             "1900"
            ],
            [
             1,
             "1900"
            ]
           ],
           "geo": "geo",
           "hovertemplate": "<b>%{hovertext}</b><br><br>ccyear=%{customdata[1]}<br>class_count=%{customdata[0]}<br>cclat=%{lat}<br>cclon=%{lon}<extra></extra>",
           "hovertext": [
            "United Kingdom",
            "Canada",
            "Armenia",
            "Guatemala"
           ],
           "lat": [
            "55.378051",
            "56.130366",
            "40.069099",
            "15.783471"
           ],
           "legendgroup": "1900",
           "lon": [
            "-3.435973",
            "-106.346771",
            "45.038189",
            "-90.230759"
           ],
           "marker": {
            "color": "#FECB52",
            "size": [
             1,
             1,
             1,
             1
            ],
            "sizemode": "area",
            "sizeref": 0.0125,
            "symbol": "circle"
           },
           "mode": "markers",
           "name": "1900",
           "showlegend": true,
           "type": "scattergeo"
          }
         ],
         "name": "1900"
        },
        {
         "data": [
          {
           "customdata": [
            [
             1,
             "1901"
            ]
           ],
           "geo": "geo",
           "hovertemplate": "<b>%{hovertext}</b><br><br>ccyear=%{customdata[1]}<br>class_count=%{customdata[0]}<br>cclat=%{lat}<br>cclon=%{lon}<extra></extra>",
           "hovertext": [
            "Japan"
           ],
           "lat": [
            "36.204824"
           ],
           "legendgroup": "1901",
           "lon": [
            "138.252924"
           ],
           "marker": {
            "color": "#636efa",
            "size": [
             1
            ],
            "sizemode": "area",
            "sizeref": 0.0125,
            "symbol": "circle"
           },
           "mode": "markers",
           "name": "1901",
           "showlegend": true,
           "type": "scattergeo"
          }
         ],
         "name": "1901"
        },
        {
         "data": [
          {
           "customdata": [
            [
             1,
             "1903"
            ]
           ],
           "geo": "geo",
           "hovertemplate": "<b>%{hovertext}</b><br><br>ccyear=%{customdata[1]}<br>class_count=%{customdata[0]}<br>cclat=%{lat}<br>cclon=%{lon}<extra></extra>",
           "hovertext": [
            "Brazil"
           ],
           "lat": [
            "-14.235004"
           ],
           "legendgroup": "1903",
           "lon": [
            "-51.92528"
           ],
           "marker": {
            "color": "#EF553B",
            "size": [
             1
            ],
            "sizemode": "area",
            "sizeref": 0.0125,
            "symbol": "circle"
           },
           "mode": "markers",
           "name": "1903",
           "showlegend": true,
           "type": "scattergeo"
          }
         ],
         "name": "1903"
        },
        {
         "data": [
          {
           "customdata": [
            [
             1,
             "1904"
            ]
           ],
           "geo": "geo",
           "hovertemplate": "<b>%{hovertext}</b><br><br>ccyear=%{customdata[1]}<br>class_count=%{customdata[0]}<br>cclat=%{lat}<br>cclon=%{lon}<extra></extra>",
           "hovertext": [
            "Canada"
           ],
           "lat": [
            "56.130366"
           ],
           "legendgroup": "1904",
           "lon": [
            "-106.346771"
           ],
           "marker": {
            "color": "#00cc96",
            "size": [
             1
            ],
            "sizemode": "area",
            "sizeref": 0.0125,
            "symbol": "circle"
           },
           "mode": "markers",
           "name": "1904",
           "showlegend": true,
           "type": "scattergeo"
          }
         ],
         "name": "1904"
        },
        {
         "data": [
          {
           "customdata": [
            [
             1,
             "1905"
            ],
            [
             1,
             "1905"
            ],
            [
             1,
             "1905"
            ]
           ],
           "geo": "geo",
           "hovertemplate": "<b>%{hovertext}</b><br><br>ccyear=%{customdata[1]}<br>class_count=%{customdata[0]}<br>cclat=%{lat}<br>cclon=%{lon}<extra></extra>",
           "hovertext": [
            "Australia",
            "Mexico",
            "Canada"
           ],
           "lat": [
            "-25.274398",
            "23.634501",
            "56.130366"
           ],
           "legendgroup": "1905",
           "lon": [
            "133.775136",
            "-102.552784",
            "-106.346771"
           ],
           "marker": {
            "color": "#ab63fa",
            "size": [
             1,
             1,
             1
            ],
            "sizemode": "area",
            "sizeref": 0.0125,
            "symbol": "circle"
           },
           "mode": "markers",
           "name": "1905",
           "showlegend": true,
           "type": "scattergeo"
          }
         ],
         "name": "1905"
        },
        {
         "data": [
          {
           "customdata": [
            [
             2,
             "1906"
            ],
            [
             1,
             "1906"
            ],
            [
             1,
             "1906"
            ],
            [
             1,
             "1906"
            ],
            [
             1,
             "1906"
            ]
           ],
           "geo": "geo",
           "hovertemplate": "<b>%{hovertext}</b><br><br>ccyear=%{customdata[1]}<br>class_count=%{customdata[0]}<br>cclat=%{lat}<br>cclon=%{lon}<extra></extra>",
           "hovertext": [
            "Australia",
            "Cuba",
            "Sweden",
            "Puerto Rico",
            "Ireland"
           ],
           "lat": [
            "-25.274398",
            "21.521757",
            "60.128161",
            "18.220833",
            "53.41291"
           ],
           "legendgroup": "1906",
           "lon": [
            "133.775136",
            "-77.781167",
            "18.643501",
            "-66.590149",
            "-8.24389"
           ],
           "marker": {
            "color": "#FFA15A",
            "size": [
             2,
             1,
             1,
             1,
             1
            ],
            "sizemode": "area",
            "sizeref": 0.0125,
            "symbol": "circle"
           },
           "mode": "markers",
           "name": "1906",
           "showlegend": true,
           "type": "scattergeo"
          }
         ],
         "name": "1906"
        },
        {
         "data": [
          {
           "customdata": [
            [
             1,
             "1907"
            ],
            [
             1,
             "1907"
            ],
            [
             2,
             "1907"
            ]
           ],
           "geo": "geo",
           "hovertemplate": "<b>%{hovertext}</b><br><br>ccyear=%{customdata[1]}<br>class_count=%{customdata[0]}<br>cclat=%{lat}<br>cclon=%{lon}<extra></extra>",
           "hovertext": [
            "Mexico",
            "Cuba",
            "Australia"
           ],
           "lat": [
            "23.634501",
            "21.521757",
            "-25.274398"
           ],
           "legendgroup": "1907",
           "lon": [
            "-102.552784",
            "-77.781167",
            "133.775136"
           ],
           "marker": {
            "color": "#19d3f3",
            "size": [
             1,
             1,
             2
            ],
            "sizemode": "area",
            "sizeref": 0.0125,
            "symbol": "circle"
           },
           "mode": "markers",
           "name": "1907",
           "showlegend": true,
           "type": "scattergeo"
          }
         ],
         "name": "1907"
        },
        {
         "data": [
          {
           "customdata": [
            [
             1,
             "1908"
            ]
           ],
           "geo": "geo",
           "hovertemplate": "<b>%{hovertext}</b><br><br>ccyear=%{customdata[1]}<br>class_count=%{customdata[0]}<br>cclat=%{lat}<br>cclon=%{lon}<extra></extra>",
           "hovertext": [
            "Australia"
           ],
           "lat": [
            "-25.274398"
           ],
           "legendgroup": "1908",
           "lon": [
            "133.775136"
           ],
           "marker": {
            "color": "#FF6692",
            "size": [
             1
            ],
            "sizemode": "area",
            "sizeref": 0.0125,
            "symbol": "circle"
           },
           "mode": "markers",
           "name": "1908",
           "showlegend": true,
           "type": "scattergeo"
          }
         ],
         "name": "1908"
        },
        {
         "data": [
          {
           "customdata": [
            [
             1,
             "1909"
            ],
            [
             1,
             "1909"
            ],
            [
             1,
             "1909"
            ],
            [
             2,
             "1909"
            ],
            [
             1,
             "1909"
            ]
           ],
           "geo": "geo",
           "hovertemplate": "<b>%{hovertext}</b><br><br>ccyear=%{customdata[1]}<br>class_count=%{customdata[0]}<br>cclat=%{lat}<br>cclon=%{lon}<extra></extra>",
           "hovertext": [
            "Mexico",
            "Cuba",
            "Japan",
            "Canada",
            "Ireland"
           ],
           "lat": [
            "23.634501",
            "21.521757",
            "36.204824",
            "56.130366",
            "53.41291"
           ],
           "legendgroup": "1909",
           "lon": [
            "-102.552784",
            "-77.781167",
            "138.252924",
            "-106.346771",
            "-8.24389"
           ],
           "marker": {
            "color": "#B6E880",
            "size": [
             1,
             1,
             1,
             2,
             1
            ],
            "sizemode": "area",
            "sizeref": 0.0125,
            "symbol": "circle"
           },
           "mode": "markers",
           "name": "1909",
           "showlegend": true,
           "type": "scattergeo"
          }
         ],
         "name": "1909"
        },
        {
         "data": [
          {
           "customdata": [
            [
             1,
             "1910"
            ],
            [
             1,
             "1910"
            ],
            [
             1,
             "1910"
            ]
           ],
           "geo": "geo",
           "hovertemplate": "<b>%{hovertext}</b><br><br>ccyear=%{customdata[1]}<br>class_count=%{customdata[0]}<br>cclat=%{lat}<br>cclon=%{lon}<extra></extra>",
           "hovertext": [
            "United Kingdom",
            "nan",
            "Brazil"
           ],
           "lat": [
            "55.378051",
            "nan",
            "-14.235004"
           ],
           "legendgroup": "1910",
           "lon": [
            "-3.435973",
            "nan",
            "-51.92528"
           ],
           "marker": {
            "color": "#FF97FF",
            "size": [
             1,
             1,
             1
            ],
            "sizemode": "area",
            "sizeref": 0.0125,
            "symbol": "circle"
           },
           "mode": "markers",
           "name": "1910",
           "showlegend": true,
           "type": "scattergeo"
          }
         ],
         "name": "1910"
        },
        {
         "data": [
          {
           "customdata": [
            [
             1,
             "1911"
            ],
            [
             2,
             "1911"
            ],
            [
             1,
             "1911"
            ],
            [
             1,
             "1911"
            ]
           ],
           "geo": "geo",
           "hovertemplate": "<b>%{hovertext}</b><br><br>ccyear=%{customdata[1]}<br>class_count=%{customdata[0]}<br>cclat=%{lat}<br>cclon=%{lon}<extra></extra>",
           "hovertext": [
            "Turkey",
            "Puerto Rico",
            "Canada",
            "China"
           ],
           "lat": [
            "38.963745",
            "18.220833",
            "56.130366",
            "35.86166"
           ],
           "legendgroup": "1911",
           "lon": [
            "35.243322",
            "-66.590149",
            "-106.346771",
            "104.195397"
           ],
           "marker": {
            "color": "#FECB52",
            "size": [
             1,
             2,
             1,
             1
            ],
            "sizemode": "area",
            "sizeref": 0.0125,
            "symbol": "circle"
           },
           "mode": "markers",
           "name": "1911",
           "showlegend": true,
           "type": "scattergeo"
          }
         ],
         "name": "1911"
        },
        {
         "data": [
          {
           "customdata": [
            [
             1,
             "1912"
            ],
            [
             1,
             "1912"
            ]
           ],
           "geo": "geo",
           "hovertemplate": "<b>%{hovertext}</b><br><br>ccyear=%{customdata[1]}<br>class_count=%{customdata[0]}<br>cclat=%{lat}<br>cclon=%{lon}<extra></extra>",
           "hovertext": [
            "Puerto Rico",
            "Argentina"
           ],
           "lat": [
            "18.220833",
            "-38.416097"
           ],
           "legendgroup": "1912",
           "lon": [
            "-66.590149",
            "-63.616672"
           ],
           "marker": {
            "color": "#636efa",
            "size": [
             1,
             1
            ],
            "sizemode": "area",
            "sizeref": 0.0125,
            "symbol": "circle"
           },
           "mode": "markers",
           "name": "1912",
           "showlegend": true,
           "type": "scattergeo"
          }
         ],
         "name": "1912"
        },
        {
         "data": [
          {
           "customdata": [
            [
             1,
             "1913"
            ],
            [
             1,
             "1913"
            ]
           ],
           "geo": "geo",
           "hovertemplate": "<b>%{hovertext}</b><br><br>ccyear=%{customdata[1]}<br>class_count=%{customdata[0]}<br>cclat=%{lat}<br>cclon=%{lon}<extra></extra>",
           "hovertext": [
            "Canada",
            "Italy"
           ],
           "lat": [
            "56.130366",
            "41.87194"
           ],
           "legendgroup": "1913",
           "lon": [
            "-106.346771",
            "12.56738"
           ],
           "marker": {
            "color": "#EF553B",
            "size": [
             1,
             1
            ],
            "sizemode": "area",
            "sizeref": 0.0125,
            "symbol": "circle"
           },
           "mode": "markers",
           "name": "1913",
           "showlegend": true,
           "type": "scattergeo"
          }
         ],
         "name": "1913"
        },
        {
         "data": [
          {
           "customdata": [
            [
             1,
             "1914"
            ],
            [
             1,
             "1914"
            ],
            [
             4,
             "1914"
            ]
           ],
           "geo": "geo",
           "hovertemplate": "<b>%{hovertext}</b><br><br>ccyear=%{customdata[1]}<br>class_count=%{customdata[0]}<br>cclat=%{lat}<br>cclon=%{lon}<extra></extra>",
           "hovertext": [
            "Puerto Rico",
            "Syria",
            "China"
           ],
           "lat": [
            "18.220833",
            "34.802075",
            "35.86166"
           ],
           "legendgroup": "1914",
           "lon": [
            "-66.590149",
            "38.996815",
            "104.195397"
           ],
           "marker": {
            "color": "#00cc96",
            "size": [
             1,
             1,
             4
            ],
            "sizemode": "area",
            "sizeref": 0.0125,
            "symbol": "circle"
           },
           "mode": "markers",
           "name": "1914",
           "showlegend": true,
           "type": "scattergeo"
          }
         ],
         "name": "1914"
        },
        {
         "data": [
          {
           "customdata": [
            [
             1,
             "1915"
            ],
            [
             1,
             "1915"
            ]
           ],
           "geo": "geo",
           "hovertemplate": "<b>%{hovertext}</b><br><br>ccyear=%{customdata[1]}<br>class_count=%{customdata[0]}<br>cclat=%{lat}<br>cclon=%{lon}<extra></extra>",
           "hovertext": [
            "Canada",
            "Puerto Rico"
           ],
           "lat": [
            "56.130366",
            "18.220833"
           ],
           "legendgroup": "1915",
           "lon": [
            "-106.346771",
            "-66.590149"
           ],
           "marker": {
            "color": "#ab63fa",
            "size": [
             1,
             1
            ],
            "sizemode": "area",
            "sizeref": 0.0125,
            "symbol": "circle"
           },
           "mode": "markers",
           "name": "1915",
           "showlegend": true,
           "type": "scattergeo"
          }
         ],
         "name": "1915"
        },
        {
         "data": [
          {
           "customdata": [
            [
             2,
             "1916"
            ],
            [
             1,
             "1916"
            ],
            [
             1,
             "1916"
            ]
           ],
           "geo": "geo",
           "hovertemplate": "<b>%{hovertext}</b><br><br>ccyear=%{customdata[1]}<br>class_count=%{customdata[0]}<br>cclat=%{lat}<br>cclon=%{lon}<extra></extra>",
           "hovertext": [
            "China",
            "Brazil",
            "Cuba"
           ],
           "lat": [
            "35.86166",
            "-14.235004",
            "21.521757"
           ],
           "legendgroup": "1916",
           "lon": [
            "104.195397",
            "-51.92528",
            "-77.781167"
           ],
           "marker": {
            "color": "#FFA15A",
            "size": [
             2,
             1,
             1
            ],
            "sizemode": "area",
            "sizeref": 0.0125,
            "symbol": "circle"
           },
           "mode": "markers",
           "name": "1916",
           "showlegend": true,
           "type": "scattergeo"
          }
         ],
         "name": "1916"
        },
        {
         "data": [
          {
           "customdata": [
            [
             1,
             "1917"
            ],
            [
             1,
             "1917"
            ],
            [
             1,
             "1917"
            ],
            [
             2,
             "1917"
            ],
            [
             1,
             "1917"
            ]
           ],
           "geo": "geo",
           "hovertemplate": "<b>%{hovertext}</b><br><br>ccyear=%{customdata[1]}<br>class_count=%{customdata[0]}<br>cclat=%{lat}<br>cclon=%{lon}<extra></extra>",
           "hovertext": [
            "Myanmar",
            "Costa Rica",
            "Turkey",
            "China",
            "Armenia"
           ],
           "lat": [
            "21.913965",
            "9.748917",
            "38.963745",
            "35.86166",
            "40.069099"
           ],
           "legendgroup": "1917",
           "lon": [
            "95.956223",
            "-83.753428",
            "35.243322",
            "104.195397",
            "45.038189"
           ],
           "marker": {
            "color": "#19d3f3",
            "size": [
             1,
             1,
             1,
             2,
             1
            ],
            "sizemode": "area",
            "sizeref": 0.0125,
            "symbol": "circle"
           },
           "mode": "markers",
           "name": "1917",
           "showlegend": true,
           "type": "scattergeo"
          }
         ],
         "name": "1917"
        },
        {
         "data": [
          {
           "customdata": [
            [
             1,
             "1918"
            ],
            [
             3,
             "1918"
            ],
            [
             1,
             "1918"
            ],
            [
             1,
             "1918"
            ]
           ],
           "geo": "geo",
           "hovertemplate": "<b>%{hovertext}</b><br><br>ccyear=%{customdata[1]}<br>class_count=%{customdata[0]}<br>cclat=%{lat}<br>cclon=%{lon}<extra></extra>",
           "hovertext": [
            "Panama",
            "China",
            "Greece",
            "Cuba"
           ],
           "lat": [
            "8.537981",
            "35.86166",
            "39.074208",
            "21.521757"
           ],
           "legendgroup": "1918",
           "lon": [
            "-80.782127",
            "104.195397",
            "21.824312",
            "-77.781167"
           ],
           "marker": {
            "color": "#FF6692",
            "size": [
             1,
             3,
             1,
             1
            ],
            "sizemode": "area",
            "sizeref": 0.0125,
            "symbol": "circle"
           },
           "mode": "markers",
           "name": "1918",
           "showlegend": true,
           "type": "scattergeo"
          }
         ],
         "name": "1918"
        },
        {
         "data": [
          {
           "customdata": [
            [
             1,
             "1919"
            ]
           ],
           "geo": "geo",
           "hovertemplate": "<b>%{hovertext}</b><br><br>ccyear=%{customdata[1]}<br>class_count=%{customdata[0]}<br>cclat=%{lat}<br>cclon=%{lon}<extra></extra>",
           "hovertext": [
            "China"
           ],
           "lat": [
            "35.86166"
           ],
           "legendgroup": "1919",
           "lon": [
            "104.195397"
           ],
           "marker": {
            "color": "#B6E880",
            "size": [
             1
            ],
            "sizemode": "area",
            "sizeref": 0.0125,
            "symbol": "circle"
           },
           "mode": "markers",
           "name": "1919",
           "showlegend": true,
           "type": "scattergeo"
          }
         ],
         "name": "1919"
        },
        {
         "data": [
          {
           "customdata": [
            [
             5,
             "1920"
            ],
            [
             1,
             "1920"
            ]
           ],
           "geo": "geo",
           "hovertemplate": "<b>%{hovertext}</b><br><br>ccyear=%{customdata[1]}<br>class_count=%{customdata[0]}<br>cclat=%{lat}<br>cclon=%{lon}<extra></extra>",
           "hovertext": [
            "China",
            "Syria"
           ],
           "lat": [
            "35.86166",
            "34.802075"
           ],
           "legendgroup": "1920",
           "lon": [
            "104.195397",
            "38.996815"
           ],
           "marker": {
            "color": "#FF97FF",
            "size": [
             5,
             1
            ],
            "sizemode": "area",
            "sizeref": 0.0125,
            "symbol": "circle"
           },
           "mode": "markers",
           "name": "1920",
           "showlegend": true,
           "type": "scattergeo"
          }
         ],
         "name": "1920"
        },
        {
         "data": [
          {
           "customdata": [
            [
             1,
             "1921"
            ],
            [
             1,
             "1921"
            ],
            [
             2,
             "1921"
            ],
            [
             1,
             "1921"
            ],
            [
             1,
             "1921"
            ],
            [
             1,
             "1921"
            ],
            [
             1,
             "1921"
            ]
           ],
           "geo": "geo",
           "hovertemplate": "<b>%{hovertext}</b><br><br>ccyear=%{customdata[1]}<br>class_count=%{customdata[0]}<br>cclat=%{lat}<br>cclon=%{lon}<extra></extra>",
           "hovertext": [
            "Canada",
            "Brazil",
            "Chile",
            "Germany",
            "France",
            "Sweden",
            "China"
           ],
           "lat": [
            "56.130366",
            "-14.235004",
            "-35.675147",
            "51.165691",
            "46.227638",
            "60.128161",
            "35.86166"
           ],
           "legendgroup": "1921",
           "lon": [
            "-106.346771",
            "-51.92528",
            "-71.542969",
            "10.451526",
            "2.213749",
            "18.643501",
            "104.195397"
           ],
           "marker": {
            "color": "#FECB52",
            "size": [
             1,
             1,
             2,
             1,
             1,
             1,
             1
            ],
            "sizemode": "area",
            "sizeref": 0.0125,
            "symbol": "circle"
           },
           "mode": "markers",
           "name": "1921",
           "showlegend": true,
           "type": "scattergeo"
          }
         ],
         "name": "1921"
        },
        {
         "data": [
          {
           "customdata": [
            [
             1,
             "1922"
            ],
            [
             1,
             "1922"
            ],
            [
             1,
             "1922"
            ],
            [
             1,
             "1922"
            ]
           ],
           "geo": "geo",
           "hovertemplate": "<b>%{hovertext}</b><br><br>ccyear=%{customdata[1]}<br>class_count=%{customdata[0]}<br>cclat=%{lat}<br>cclon=%{lon}<extra></extra>",
           "hovertext": [
            "Canada",
            "South Korea",
            "China",
            "Colombia"
           ],
           "lat": [
            "56.130366",
            "35.907757",
            "35.86166",
            "4.570868"
           ],
           "legendgroup": "1922",
           "lon": [
            "-106.346771",
            "127.766922",
            "104.195397",
            "-74.297333"
           ],
           "marker": {
            "color": "#636efa",
            "size": [
             1,
             1,
             1,
             1
            ],
            "sizemode": "area",
            "sizeref": 0.0125,
            "symbol": "circle"
           },
           "mode": "markers",
           "name": "1922",
           "showlegend": true,
           "type": "scattergeo"
          }
         ],
         "name": "1922"
        },
        {
         "data": [
          {
           "customdata": [
            [
             1,
             "1923"
            ],
            [
             1,
             "1923"
            ],
            [
             1,
             "1923"
            ],
            [
             2,
             "1923"
            ]
           ],
           "geo": "geo",
           "hovertemplate": "<b>%{hovertext}</b><br><br>ccyear=%{customdata[1]}<br>class_count=%{customdata[0]}<br>cclat=%{lat}<br>cclon=%{lon}<extra></extra>",
           "hovertext": [
            "Indonesia",
            "Italy",
            "Russia",
            "China"
           ],
           "lat": [
            "-0.789275",
            "41.87194",
            "61.52401",
            "35.86166"
           ],
           "legendgroup": "1923",
           "lon": [
            "113.921327",
            "12.56738",
            "105.318756",
            "104.195397"
           ],
           "marker": {
            "color": "#EF553B",
            "size": [
             1,
             1,
             1,
             2
            ],
            "sizemode": "area",
            "sizeref": 0.0125,
            "symbol": "circle"
           },
           "mode": "markers",
           "name": "1923",
           "showlegend": true,
           "type": "scattergeo"
          }
         ],
         "name": "1923"
        },
        {
         "data": [
          {
           "customdata": [
            [
             1,
             "1924"
            ],
            [
             2,
             "1924"
            ],
            [
             1,
             "1924"
            ],
            [
             2,
             "1924"
            ]
           ],
           "geo": "geo",
           "hovertemplate": "<b>%{hovertext}</b><br><br>ccyear=%{customdata[1]}<br>class_count=%{customdata[0]}<br>cclat=%{lat}<br>cclon=%{lon}<extra></extra>",
           "hovertext": [
            "Sweden",
            "China",
            "Indonesia",
            "Uruguay"
           ],
           "lat": [
            "60.128161",
            "35.86166",
            "-0.789275",
            "-32.522779"
           ],
           "legendgroup": "1924",
           "lon": [
            "18.643501",
            "104.195397",
            "113.921327",
            "-55.765835"
           ],
           "marker": {
            "color": "#00cc96",
            "size": [
             1,
             2,
             1,
             2
            ],
            "sizemode": "area",
            "sizeref": 0.0125,
            "symbol": "circle"
           },
           "mode": "markers",
           "name": "1924",
           "showlegend": true,
           "type": "scattergeo"
          }
         ],
         "name": "1924"
        },
        {
         "data": [
          {
           "customdata": [
            [
             3,
             "1925"
            ],
            [
             1,
             "1925"
            ],
            [
             1,
             "1925"
            ],
            [
             1,
             "1925"
            ],
            [
             2,
             "1925"
            ],
            [
             1,
             "1925"
            ],
            [
             2,
             "1925"
            ]
           ],
           "geo": "geo",
           "hovertemplate": "<b>%{hovertext}</b><br><br>ccyear=%{customdata[1]}<br>class_count=%{customdata[0]}<br>cclat=%{lat}<br>cclon=%{lon}<extra></extra>",
           "hovertext": [
            "Sweden",
            "Austria",
            "Norway",
            "China",
            "Russia",
            "Japan",
            "Canada"
           ],
           "lat": [
            "60.128161",
            "47.516231",
            "60.472024",
            "35.86166",
            "61.52401",
            "36.204824",
            "56.130366"
           ],
           "legendgroup": "1925",
           "lon": [
            "18.643501",
            "14.550072",
            "8.468946",
            "104.195397",
            "105.318756",
            "138.252924",
            "-106.346771"
           ],
           "marker": {
            "color": "#ab63fa",
            "size": [
             3,
             1,
             1,
             1,
             2,
             1,
             2
            ],
            "sizemode": "area",
            "sizeref": 0.0125,
            "symbol": "circle"
           },
           "mode": "markers",
           "name": "1925",
           "showlegend": true,
           "type": "scattergeo"
          }
         ],
         "name": "1925"
        },
        {
         "data": [
          {
           "customdata": [
            [
             1,
             "1926"
            ],
            [
             1,
             "1926"
            ],
            [
             1,
             "1926"
            ]
           ],
           "geo": "geo",
           "hovertemplate": "<b>%{hovertext}</b><br><br>ccyear=%{customdata[1]}<br>class_count=%{customdata[0]}<br>cclat=%{lat}<br>cclon=%{lon}<extra></extra>",
           "hovertext": [
            "Israel",
            "France",
            "Spain"
           ],
           "lat": [
            "31.046051",
            "46.227638",
            "40.463667"
           ],
           "legendgroup": "1926",
           "lon": [
            "34.851612",
            "2.213749",
            "-3.74922"
           ],
           "marker": {
            "color": "#FFA15A",
            "size": [
             1,
             1,
             1
            ],
            "sizemode": "area",
            "sizeref": 0.0125,
            "symbol": "circle"
           },
           "mode": "markers",
           "name": "1926",
           "showlegend": true,
           "type": "scattergeo"
          }
         ],
         "name": "1926"
        },
        {
         "data": [
          {
           "customdata": [
            [
             1,
             "1927"
            ],
            [
             1,
             "1927"
            ],
            [
             1,
             "1927"
            ]
           ],
           "geo": "geo",
           "hovertemplate": "<b>%{hovertext}</b><br><br>ccyear=%{customdata[1]}<br>class_count=%{customdata[0]}<br>cclat=%{lat}<br>cclon=%{lon}<extra></extra>",
           "hovertext": [
            "Canada",
            "China",
            "Russia"
           ],
           "lat": [
            "56.130366",
            "35.86166",
            "61.52401"
           ],
           "legendgroup": "1927",
           "lon": [
            "-106.346771",
            "104.195397",
            "105.318756"
           ],
           "marker": {
            "color": "#19d3f3",
            "size": [
             1,
             1,
             1
            ],
            "sizemode": "area",
            "sizeref": 0.0125,
            "symbol": "circle"
           },
           "mode": "markers",
           "name": "1927",
           "showlegend": true,
           "type": "scattergeo"
          }
         ],
         "name": "1927"
        },
        {
         "data": [
          {
           "customdata": [
            [
             1,
             "1928"
            ],
            [
             1,
             "1928"
            ],
            [
             1,
             "1928"
            ]
           ],
           "geo": "geo",
           "hovertemplate": "<b>%{hovertext}</b><br><br>ccyear=%{customdata[1]}<br>class_count=%{customdata[0]}<br>cclat=%{lat}<br>cclon=%{lon}<extra></extra>",
           "hovertext": [
            "Russia",
            "Bulgaria",
            "Canada"
           ],
           "lat": [
            "61.52401",
            "42.733883",
            "56.130366"
           ],
           "legendgroup": "1928",
           "lon": [
            "105.318756",
            "25.48583",
            "-106.346771"
           ],
           "marker": {
            "color": "#FF6692",
            "size": [
             1,
             1,
             1
            ],
            "sizemode": "area",
            "sizeref": 0.0125,
            "symbol": "circle"
           },
           "mode": "markers",
           "name": "1928",
           "showlegend": true,
           "type": "scattergeo"
          }
         ],
         "name": "1928"
        },
        {
         "data": [
          {
           "customdata": [
            [
             1,
             "1929"
            ]
           ],
           "geo": "geo",
           "hovertemplate": "<b>%{hovertext}</b><br><br>ccyear=%{customdata[1]}<br>class_count=%{customdata[0]}<br>cclat=%{lat}<br>cclon=%{lon}<extra></extra>",
           "hovertext": [
            "Canada"
           ],
           "lat": [
            "56.130366"
           ],
           "legendgroup": "1929",
           "lon": [
            "-106.346771"
           ],
           "marker": {
            "color": "#B6E880",
            "size": [
             1
            ],
            "sizemode": "area",
            "sizeref": 0.0125,
            "symbol": "circle"
           },
           "mode": "markers",
           "name": "1929",
           "showlegend": true,
           "type": "scattergeo"
          }
         ],
         "name": "1929"
        },
        {
         "data": [
          {
           "customdata": [
            [
             2,
             "1930"
            ],
            [
             2,
             "1930"
            ],
            [
             1,
             "1930"
            ],
            [
             1,
             "1930"
            ]
           ],
           "geo": "geo",
           "hovertemplate": "<b>%{hovertext}</b><br><br>ccyear=%{customdata[1]}<br>class_count=%{customdata[0]}<br>cclat=%{lat}<br>cclon=%{lon}<extra></extra>",
           "hovertext": [
            "Sweden",
            "Puerto Rico",
            "Japan",
            "United Kingdom"
           ],
           "lat": [
            "60.128161",
            "18.220833",
            "36.204824",
            "55.378051"
           ],
           "legendgroup": "1930",
           "lon": [
            "18.643501",
            "-66.590149",
            "138.252924",
            "-3.435973"
           ],
           "marker": {
            "color": "#FF97FF",
            "size": [
             2,
             2,
             1,
             1
            ],
            "sizemode": "area",
            "sizeref": 0.0125,
            "symbol": "circle"
           },
           "mode": "markers",
           "name": "1930",
           "showlegend": true,
           "type": "scattergeo"
          }
         ],
         "name": "1930"
        },
        {
         "data": [
          {
           "customdata": [
            [
             1,
             "1931"
            ],
            [
             1,
             "1931"
            ],
            [
             2,
             "1931"
            ]
           ],
           "geo": "geo",
           "hovertemplate": "<b>%{hovertext}</b><br><br>ccyear=%{customdata[1]}<br>class_count=%{customdata[0]}<br>cclat=%{lat}<br>cclon=%{lon}<extra></extra>",
           "hovertext": [
            "Thailand",
            "Canada",
            "India"
           ],
           "lat": [
            "15.870032",
            "56.130366",
            "20.593684"
           ],
           "legendgroup": "1931",
           "lon": [
            "100.992541",
            "-106.346771",
            "78.96288"
           ],
           "marker": {
            "color": "#FECB52",
            "size": [
             1,
             1,
             2
            ],
            "sizemode": "area",
            "sizeref": 0.0125,
            "symbol": "circle"
           },
           "mode": "markers",
           "name": "1931",
           "showlegend": true,
           "type": "scattergeo"
          }
         ],
         "name": "1931"
        },
        {
         "data": [
          {
           "customdata": [
            [
             2,
             "1932"
            ],
            [
             1,
             "1932"
            ],
            [
             1,
             "1932"
            ],
            [
             1,
             "1932"
            ],
            [
             1,
             "1932"
            ],
            [
             1,
             "1932"
            ],
            [
             1,
             "1932"
            ],
            [
             1,
             "1932"
            ]
           ],
           "geo": "geo",
           "hovertemplate": "<b>%{hovertext}</b><br><br>ccyear=%{customdata[1]}<br>class_count=%{customdata[0]}<br>cclat=%{lat}<br>cclon=%{lon}<extra></extra>",
           "hovertext": [
            "Canada",
            "United Kingdom",
            "Israel",
            "China",
            "Republic of North Macedonia",
            "Greece",
            "Russia",
            "Guatemala"
           ],
           "lat": [
            "56.130366",
            "55.378051",
            "31.046051",
            "35.86166",
            "41.608635",
            "39.074208",
            "61.52401",
            "15.783471"
           ],
           "legendgroup": "1932",
           "lon": [
            "-106.346771",
            "-3.435973",
            "34.851612",
            "104.195397",
            "21.745275",
            "21.824312",
            "105.318756",
            "-90.230759"
           ],
           "marker": {
            "color": "#636efa",
            "size": [
             2,
             1,
             1,
             1,
             1,
             1,
             1,
             1
            ],
            "sizemode": "area",
            "sizeref": 0.0125,
            "symbol": "circle"
           },
           "mode": "markers",
           "name": "1932",
           "showlegend": true,
           "type": "scattergeo"
          }
         ],
         "name": "1932"
        },
        {
         "data": [
          {
           "customdata": [
            [
             1,
             "1933"
            ]
           ],
           "geo": "geo",
           "hovertemplate": "<b>%{hovertext}</b><br><br>ccyear=%{customdata[1]}<br>class_count=%{customdata[0]}<br>cclat=%{lat}<br>cclon=%{lon}<extra></extra>",
           "hovertext": [
            "Canada"
           ],
           "lat": [
            "56.130366"
           ],
           "legendgroup": "1933",
           "lon": [
            "-106.346771"
           ],
           "marker": {
            "color": "#EF553B",
            "size": [
             1
            ],
            "sizemode": "area",
            "sizeref": 0.0125,
            "symbol": "circle"
           },
           "mode": "markers",
           "name": "1933",
           "showlegend": true,
           "type": "scattergeo"
          }
         ],
         "name": "1933"
        },
        {
         "data": [
          {
           "customdata": [
            [
             1,
             "1935"
            ]
           ],
           "geo": "geo",
           "hovertemplate": "<b>%{hovertext}</b><br><br>ccyear=%{customdata[1]}<br>class_count=%{customdata[0]}<br>cclat=%{lat}<br>cclon=%{lon}<extra></extra>",
           "hovertext": [
            "Armenia"
           ],
           "lat": [
            "40.069099"
           ],
           "legendgroup": "1935",
           "lon": [
            "45.038189"
           ],
           "marker": {
            "color": "#00cc96",
            "size": [
             1
            ],
            "sizemode": "area",
            "sizeref": 0.0125,
            "symbol": "circle"
           },
           "mode": "markers",
           "name": "1935",
           "showlegend": true,
           "type": "scattergeo"
          }
         ],
         "name": "1935"
        },
        {
         "data": [
          {
           "customdata": [
            [
             1,
             "1936"
            ]
           ],
           "geo": "geo",
           "hovertemplate": "<b>%{hovertext}</b><br><br>ccyear=%{customdata[1]}<br>class_count=%{customdata[0]}<br>cclat=%{lat}<br>cclon=%{lon}<extra></extra>",
           "hovertext": [
            "India"
           ],
           "lat": [
            "20.593684"
           ],
           "legendgroup": "1936",
           "lon": [
            "78.96288"
           ],
           "marker": {
            "color": "#ab63fa",
            "size": [
             1
            ],
            "sizemode": "area",
            "sizeref": 0.0125,
            "symbol": "circle"
           },
           "mode": "markers",
           "name": "1936",
           "showlegend": true,
           "type": "scattergeo"
          }
         ],
         "name": "1936"
        },
        {
         "data": [
          {
           "customdata": [
            [
             1,
             "1938"
            ]
           ],
           "geo": "geo",
           "hovertemplate": "<b>%{hovertext}</b><br><br>ccyear=%{customdata[1]}<br>class_count=%{customdata[0]}<br>cclat=%{lat}<br>cclon=%{lon}<extra></extra>",
           "hovertext": [
            "Panama"
           ],
           "lat": [
            "8.537981"
           ],
           "legendgroup": "1938",
           "lon": [
            "-80.782127"
           ],
           "marker": {
            "color": "#FFA15A",
            "size": [
             1
            ],
            "sizemode": "area",
            "sizeref": 0.0125,
            "symbol": "circle"
           },
           "mode": "markers",
           "name": "1938",
           "showlegend": true,
           "type": "scattergeo"
          }
         ],
         "name": "1938"
        },
        {
         "data": [
          {
           "customdata": [
            [
             1,
             "1939"
            ],
            [
             2,
             "1939"
            ]
           ],
           "geo": "geo",
           "hovertemplate": "<b>%{hovertext}</b><br><br>ccyear=%{customdata[1]}<br>class_count=%{customdata[0]}<br>cclat=%{lat}<br>cclon=%{lon}<extra></extra>",
           "hovertext": [
            "Panama",
            "India"
           ],
           "lat": [
            "8.537981",
            "20.593684"
           ],
           "legendgroup": "1939",
           "lon": [
            "-80.782127",
            "78.96288"
           ],
           "marker": {
            "color": "#19d3f3",
            "size": [
             1,
             2
            ],
            "sizemode": "area",
            "sizeref": 0.0125,
            "symbol": "circle"
           },
           "mode": "markers",
           "name": "1939",
           "showlegend": true,
           "type": "scattergeo"
          }
         ],
         "name": "1939"
        },
        {
         "data": [
          {
           "customdata": [
            [
             1,
             "1940"
            ]
           ],
           "geo": "geo",
           "hovertemplate": "<b>%{hovertext}</b><br><br>ccyear=%{customdata[1]}<br>class_count=%{customdata[0]}<br>cclat=%{lat}<br>cclon=%{lon}<extra></extra>",
           "hovertext": [
            "Thailand"
           ],
           "lat": [
            "15.870032"
           ],
           "legendgroup": "1940",
           "lon": [
            "100.992541"
           ],
           "marker": {
            "color": "#FF6692",
            "size": [
             1
            ],
            "sizemode": "area",
            "sizeref": 0.0125,
            "symbol": "circle"
           },
           "mode": "markers",
           "name": "1940",
           "showlegend": true,
           "type": "scattergeo"
          }
         ],
         "name": "1940"
        },
        {
         "data": [
          {
           "customdata": [
            [
             1,
             "1941"
            ],
            [
             1,
             "1941"
            ],
            [
             1,
             "1941"
            ],
            [
             1,
             "1941"
            ]
           ],
           "geo": "geo",
           "hovertemplate": "<b>%{hovertext}</b><br><br>ccyear=%{customdata[1]}<br>class_count=%{customdata[0]}<br>cclat=%{lat}<br>cclon=%{lon}<extra></extra>",
           "hovertext": [
            "Colombia",
            "Puerto Rico",
            "Czech Republic",
            "Panama"
           ],
           "lat": [
            "4.570868",
            "18.220833",
            "49.817492",
            "8.537981"
           ],
           "legendgroup": "1941",
           "lon": [
            "-74.297333",
            "-66.590149",
            "15.472962",
            "-80.782127"
           ],
           "marker": {
            "color": "#B6E880",
            "size": [
             1,
             1,
             1,
             1
            ],
            "sizemode": "area",
            "sizeref": 0.0125,
            "symbol": "circle"
           },
           "mode": "markers",
           "name": "1941",
           "showlegend": true,
           "type": "scattergeo"
          }
         ],
         "name": "1941"
        },
        {
         "data": [
          {
           "customdata": [
            [
             1,
             "1942"
            ],
            [
             1,
             "1942"
            ]
           ],
           "geo": "geo",
           "hovertemplate": "<b>%{hovertext}</b><br><br>ccyear=%{customdata[1]}<br>class_count=%{customdata[0]}<br>cclat=%{lat}<br>cclon=%{lon}<extra></extra>",
           "hovertext": [
            "Puerto Rico",
            "China"
           ],
           "lat": [
            "18.220833",
            "35.86166"
           ],
           "legendgroup": "1942",
           "lon": [
            "-66.590149",
            "104.195397"
           ],
           "marker": {
            "color": "#FF97FF",
            "size": [
             1,
             1
            ],
            "sizemode": "area",
            "sizeref": 0.0125,
            "symbol": "circle"
           },
           "mode": "markers",
           "name": "1942",
           "showlegend": true,
           "type": "scattergeo"
          }
         ],
         "name": "1942"
        },
        {
         "data": [
          {
           "customdata": [
            [
             1,
             "1943"
            ],
            [
             1,
             "1943"
            ],
            [
             1,
             "1943"
            ],
            [
             1,
             "1943"
            ]
           ],
           "geo": "geo",
           "hovertemplate": "<b>%{hovertext}</b><br><br>ccyear=%{customdata[1]}<br>class_count=%{customdata[0]}<br>cclat=%{lat}<br>cclon=%{lon}<extra></extra>",
           "hovertext": [
            "Philippines",
            "Turkey",
            "India",
            "Canada"
           ],
           "lat": [
            "12.879721",
            "38.963745",
            "20.593684",
            "56.130366"
           ],
           "legendgroup": "1943",
           "lon": [
            "121.774017",
            "35.243322",
            "78.96288",
            "-106.346771"
           ],
           "marker": {
            "color": "#FECB52",
            "size": [
             1,
             1,
             1,
             1
            ],
            "sizemode": "area",
            "sizeref": 0.0125,
            "symbol": "circle"
           },
           "mode": "markers",
           "name": "1943",
           "showlegend": true,
           "type": "scattergeo"
          }
         ],
         "name": "1943"
        }
       ],
       "layout": {
        "geo": {
         "center": {},
         "domain": {
          "x": [
           0,
           1
          ],
          "y": [
           0,
           1
          ]
         },
         "projection": {
          "type": "natural earth"
         }
        },
        "legend": {
         "itemsizing": "constant",
         "title": {
          "text": "ccyear"
         },
         "tracegroupgap": 0
        },
        "margin": {
         "t": 60
        },
        "sliders": [
         {
          "active": 0,
          "currentvalue": {
           "prefix": "ccyear="
          },
          "len": 0.9,
          "pad": {
           "b": 10,
           "t": 60
          },
          "steps": [
           {
            "args": [
             [
              "1876"
             ],
             {
              "frame": {
               "duration": 0,
               "redraw": true
              },
              "fromcurrent": true,
              "mode": "immediate",
              "transition": {
               "duration": 0,
               "easing": "linear"
              }
             }
            ],
            "label": "1876",
            "method": "animate"
           },
           {
            "args": [
             [
              "1877"
             ],
             {
              "frame": {
               "duration": 0,
               "redraw": true
              },
              "fromcurrent": true,
              "mode": "immediate",
              "transition": {
               "duration": 0,
               "easing": "linear"
              }
             }
            ],
            "label": "1877",
            "method": "animate"
           },
           {
            "args": [
             [
              "1878"
             ],
             {
              "frame": {
               "duration": 0,
               "redraw": true
              },
              "fromcurrent": true,
              "mode": "immediate",
              "transition": {
               "duration": 0,
               "easing": "linear"
              }
             }
            ],
            "label": "1878",
            "method": "animate"
           },
           {
            "args": [
             [
              "1879"
             ],
             {
              "frame": {
               "duration": 0,
               "redraw": true
              },
              "fromcurrent": true,
              "mode": "immediate",
              "transition": {
               "duration": 0,
               "easing": "linear"
              }
             }
            ],
            "label": "1879",
            "method": "animate"
           },
           {
            "args": [
             [
              "1880"
             ],
             {
              "frame": {
               "duration": 0,
               "redraw": true
              },
              "fromcurrent": true,
              "mode": "immediate",
              "transition": {
               "duration": 0,
               "easing": "linear"
              }
             }
            ],
            "label": "1880",
            "method": "animate"
           },
           {
            "args": [
             [
              "1882"
             ],
             {
              "frame": {
               "duration": 0,
               "redraw": true
              },
              "fromcurrent": true,
              "mode": "immediate",
              "transition": {
               "duration": 0,
               "easing": "linear"
              }
             }
            ],
            "label": "1882",
            "method": "animate"
           },
           {
            "args": [
             [
              "1883"
             ],
             {
              "frame": {
               "duration": 0,
               "redraw": true
              },
              "fromcurrent": true,
              "mode": "immediate",
              "transition": {
               "duration": 0,
               "easing": "linear"
              }
             }
            ],
            "label": "1883",
            "method": "animate"
           },
           {
            "args": [
             [
              "1884"
             ],
             {
              "frame": {
               "duration": 0,
               "redraw": true
              },
              "fromcurrent": true,
              "mode": "immediate",
              "transition": {
               "duration": 0,
               "easing": "linear"
              }
             }
            ],
            "label": "1884",
            "method": "animate"
           },
           {
            "args": [
             [
              "1885"
             ],
             {
              "frame": {
               "duration": 0,
               "redraw": true
              },
              "fromcurrent": true,
              "mode": "immediate",
              "transition": {
               "duration": 0,
               "easing": "linear"
              }
             }
            ],
            "label": "1885",
            "method": "animate"
           },
           {
            "args": [
             [
              "1887"
             ],
             {
              "frame": {
               "duration": 0,
               "redraw": true
              },
              "fromcurrent": true,
              "mode": "immediate",
              "transition": {
               "duration": 0,
               "easing": "linear"
              }
             }
            ],
            "label": "1887",
            "method": "animate"
           },
           {
            "args": [
             [
              "1888"
             ],
             {
              "frame": {
               "duration": 0,
               "redraw": true
              },
              "fromcurrent": true,
              "mode": "immediate",
              "transition": {
               "duration": 0,
               "easing": "linear"
              }
             }
            ],
            "label": "1888",
            "method": "animate"
           },
           {
            "args": [
             [
              "1889"
             ],
             {
              "frame": {
               "duration": 0,
               "redraw": true
              },
              "fromcurrent": true,
              "mode": "immediate",
              "transition": {
               "duration": 0,
               "easing": "linear"
              }
             }
            ],
            "label": "1889",
            "method": "animate"
           },
           {
            "args": [
             [
              "1891"
             ],
             {
              "frame": {
               "duration": 0,
               "redraw": true
              },
              "fromcurrent": true,
              "mode": "immediate",
              "transition": {
               "duration": 0,
               "easing": "linear"
              }
             }
            ],
            "label": "1891",
            "method": "animate"
           },
           {
            "args": [
             [
              "1893"
             ],
             {
              "frame": {
               "duration": 0,
               "redraw": true
              },
              "fromcurrent": true,
              "mode": "immediate",
              "transition": {
               "duration": 0,
               "easing": "linear"
              }
             }
            ],
            "label": "1893",
            "method": "animate"
           },
           {
            "args": [
             [
              "1894"
             ],
             {
              "frame": {
               "duration": 0,
               "redraw": true
              },
              "fromcurrent": true,
              "mode": "immediate",
              "transition": {
               "duration": 0,
               "easing": "linear"
              }
             }
            ],
            "label": "1894",
            "method": "animate"
           },
           {
            "args": [
             [
              "1895"
             ],
             {
              "frame": {
               "duration": 0,
               "redraw": true
              },
              "fromcurrent": true,
              "mode": "immediate",
              "transition": {
               "duration": 0,
               "easing": "linear"
              }
             }
            ],
            "label": "1895",
            "method": "animate"
           },
           {
            "args": [
             [
              "1896"
             ],
             {
              "frame": {
               "duration": 0,
               "redraw": true
              },
              "fromcurrent": true,
              "mode": "immediate",
              "transition": {
               "duration": 0,
               "easing": "linear"
              }
             }
            ],
            "label": "1896",
            "method": "animate"
           },
           {
            "args": [
             [
              "1897"
             ],
             {
              "frame": {
               "duration": 0,
               "redraw": true
              },
              "fromcurrent": true,
              "mode": "immediate",
              "transition": {
               "duration": 0,
               "easing": "linear"
              }
             }
            ],
            "label": "1897",
            "method": "animate"
           },
           {
            "args": [
             [
              "1899"
             ],
             {
              "frame": {
               "duration": 0,
               "redraw": true
              },
              "fromcurrent": true,
              "mode": "immediate",
              "transition": {
               "duration": 0,
               "easing": "linear"
              }
             }
            ],
            "label": "1899",
            "method": "animate"
           },
           {
            "args": [
             [
              "1900"
             ],
             {
              "frame": {
               "duration": 0,
               "redraw": true
              },
              "fromcurrent": true,
              "mode": "immediate",
              "transition": {
               "duration": 0,
               "easing": "linear"
              }
             }
            ],
            "label": "1900",
            "method": "animate"
           },
           {
            "args": [
             [
              "1901"
             ],
             {
              "frame": {
               "duration": 0,
               "redraw": true
              },
              "fromcurrent": true,
              "mode": "immediate",
              "transition": {
               "duration": 0,
               "easing": "linear"
              }
             }
            ],
            "label": "1901",
            "method": "animate"
           },
           {
            "args": [
             [
              "1903"
             ],
             {
              "frame": {
               "duration": 0,
               "redraw": true
              },
              "fromcurrent": true,
              "mode": "immediate",
              "transition": {
               "duration": 0,
               "easing": "linear"
              }
             }
            ],
            "label": "1903",
            "method": "animate"
           },
           {
            "args": [
             [
              "1904"
             ],
             {
              "frame": {
               "duration": 0,
               "redraw": true
              },
              "fromcurrent": true,
              "mode": "immediate",
              "transition": {
               "duration": 0,
               "easing": "linear"
              }
             }
            ],
            "label": "1904",
            "method": "animate"
           },
           {
            "args": [
             [
              "1905"
             ],
             {
              "frame": {
               "duration": 0,
               "redraw": true
              },
              "fromcurrent": true,
              "mode": "immediate",
              "transition": {
               "duration": 0,
               "easing": "linear"
              }
             }
            ],
            "label": "1905",
            "method": "animate"
           },
           {
            "args": [
             [
              "1906"
             ],
             {
              "frame": {
               "duration": 0,
               "redraw": true
              },
              "fromcurrent": true,
              "mode": "immediate",
              "transition": {
               "duration": 0,
               "easing": "linear"
              }
             }
            ],
            "label": "1906",
            "method": "animate"
           },
           {
            "args": [
             [
              "1907"
             ],
             {
              "frame": {
               "duration": 0,
               "redraw": true
              },
              "fromcurrent": true,
              "mode": "immediate",
              "transition": {
               "duration": 0,
               "easing": "linear"
              }
             }
            ],
            "label": "1907",
            "method": "animate"
           },
           {
            "args": [
             [
              "1908"
             ],
             {
              "frame": {
               "duration": 0,
               "redraw": true
              },
              "fromcurrent": true,
              "mode": "immediate",
              "transition": {
               "duration": 0,
               "easing": "linear"
              }
             }
            ],
            "label": "1908",
            "method": "animate"
           },
           {
            "args": [
             [
              "1909"
             ],
             {
              "frame": {
               "duration": 0,
               "redraw": true
              },
              "fromcurrent": true,
              "mode": "immediate",
              "transition": {
               "duration": 0,
               "easing": "linear"
              }
             }
            ],
            "label": "1909",
            "method": "animate"
           },
           {
            "args": [
             [
              "1910"
             ],
             {
              "frame": {
               "duration": 0,
               "redraw": true
              },
              "fromcurrent": true,
              "mode": "immediate",
              "transition": {
               "duration": 0,
               "easing": "linear"
              }
             }
            ],
            "label": "1910",
            "method": "animate"
           },
           {
            "args": [
             [
              "1911"
             ],
             {
              "frame": {
               "duration": 0,
               "redraw": true
              },
              "fromcurrent": true,
              "mode": "immediate",
              "transition": {
               "duration": 0,
               "easing": "linear"
              }
             }
            ],
            "label": "1911",
            "method": "animate"
           },
           {
            "args": [
             [
              "1912"
             ],
             {
              "frame": {
               "duration": 0,
               "redraw": true
              },
              "fromcurrent": true,
              "mode": "immediate",
              "transition": {
               "duration": 0,
               "easing": "linear"
              }
             }
            ],
            "label": "1912",
            "method": "animate"
           },
           {
            "args": [
             [
              "1913"
             ],
             {
              "frame": {
               "duration": 0,
               "redraw": true
              },
              "fromcurrent": true,
              "mode": "immediate",
              "transition": {
               "duration": 0,
               "easing": "linear"
              }
             }
            ],
            "label": "1913",
            "method": "animate"
           },
           {
            "args": [
             [
              "1914"
             ],
             {
              "frame": {
               "duration": 0,
               "redraw": true
              },
              "fromcurrent": true,
              "mode": "immediate",
              "transition": {
               "duration": 0,
               "easing": "linear"
              }
             }
            ],
            "label": "1914",
            "method": "animate"
           },
           {
            "args": [
             [
              "1915"
             ],
             {
              "frame": {
               "duration": 0,
               "redraw": true
              },
              "fromcurrent": true,
              "mode": "immediate",
              "transition": {
               "duration": 0,
               "easing": "linear"
              }
             }
            ],
            "label": "1915",
            "method": "animate"
           },
           {
            "args": [
             [
              "1916"
             ],
             {
              "frame": {
               "duration": 0,
               "redraw": true
              },
              "fromcurrent": true,
              "mode": "immediate",
              "transition": {
               "duration": 0,
               "easing": "linear"
              }
             }
            ],
            "label": "1916",
            "method": "animate"
           },
           {
            "args": [
             [
              "1917"
             ],
             {
              "frame": {
               "duration": 0,
               "redraw": true
              },
              "fromcurrent": true,
              "mode": "immediate",
              "transition": {
               "duration": 0,
               "easing": "linear"
              }
             }
            ],
            "label": "1917",
            "method": "animate"
           },
           {
            "args": [
             [
              "1918"
             ],
             {
              "frame": {
               "duration": 0,
               "redraw": true
              },
              "fromcurrent": true,
              "mode": "immediate",
              "transition": {
               "duration": 0,
               "easing": "linear"
              }
             }
            ],
            "label": "1918",
            "method": "animate"
           },
           {
            "args": [
             [
              "1919"
             ],
             {
              "frame": {
               "duration": 0,
               "redraw": true
              },
              "fromcurrent": true,
              "mode": "immediate",
              "transition": {
               "duration": 0,
               "easing": "linear"
              }
             }
            ],
            "label": "1919",
            "method": "animate"
           },
           {
            "args": [
             [
              "1920"
             ],
             {
              "frame": {
               "duration": 0,
               "redraw": true
              },
              "fromcurrent": true,
              "mode": "immediate",
              "transition": {
               "duration": 0,
               "easing": "linear"
              }
             }
            ],
            "label": "1920",
            "method": "animate"
           },
           {
            "args": [
             [
              "1921"
             ],
             {
              "frame": {
               "duration": 0,
               "redraw": true
              },
              "fromcurrent": true,
              "mode": "immediate",
              "transition": {
               "duration": 0,
               "easing": "linear"
              }
             }
            ],
            "label": "1921",
            "method": "animate"
           },
           {
            "args": [
             [
              "1922"
             ],
             {
              "frame": {
               "duration": 0,
               "redraw": true
              },
              "fromcurrent": true,
              "mode": "immediate",
              "transition": {
               "duration": 0,
               "easing": "linear"
              }
             }
            ],
            "label": "1922",
            "method": "animate"
           },
           {
            "args": [
             [
              "1923"
             ],
             {
              "frame": {
               "duration": 0,
               "redraw": true
              },
              "fromcurrent": true,
              "mode": "immediate",
              "transition": {
               "duration": 0,
               "easing": "linear"
              }
             }
            ],
            "label": "1923",
            "method": "animate"
           },
           {
            "args": [
             [
              "1924"
             ],
             {
              "frame": {
               "duration": 0,
               "redraw": true
              },
              "fromcurrent": true,
              "mode": "immediate",
              "transition": {
               "duration": 0,
               "easing": "linear"
              }
             }
            ],
            "label": "1924",
            "method": "animate"
           },
           {
            "args": [
             [
              "1925"
             ],
             {
              "frame": {
               "duration": 0,
               "redraw": true
              },
              "fromcurrent": true,
              "mode": "immediate",
              "transition": {
               "duration": 0,
               "easing": "linear"
              }
             }
            ],
            "label": "1925",
            "method": "animate"
           },
           {
            "args": [
             [
              "1926"
             ],
             {
              "frame": {
               "duration": 0,
               "redraw": true
              },
              "fromcurrent": true,
              "mode": "immediate",
              "transition": {
               "duration": 0,
               "easing": "linear"
              }
             }
            ],
            "label": "1926",
            "method": "animate"
           },
           {
            "args": [
             [
              "1927"
             ],
             {
              "frame": {
               "duration": 0,
               "redraw": true
              },
              "fromcurrent": true,
              "mode": "immediate",
              "transition": {
               "duration": 0,
               "easing": "linear"
              }
             }
            ],
            "label": "1927",
            "method": "animate"
           },
           {
            "args": [
             [
              "1928"
             ],
             {
              "frame": {
               "duration": 0,
               "redraw": true
              },
              "fromcurrent": true,
              "mode": "immediate",
              "transition": {
               "duration": 0,
               "easing": "linear"
              }
             }
            ],
            "label": "1928",
            "method": "animate"
           },
           {
            "args": [
             [
              "1929"
             ],
             {
              "frame": {
               "duration": 0,
               "redraw": true
              },
              "fromcurrent": true,
              "mode": "immediate",
              "transition": {
               "duration": 0,
               "easing": "linear"
              }
             }
            ],
            "label": "1929",
            "method": "animate"
           },
           {
            "args": [
             [
              "1930"
             ],
             {
              "frame": {
               "duration": 0,
               "redraw": true
              },
              "fromcurrent": true,
              "mode": "immediate",
              "transition": {
               "duration": 0,
               "easing": "linear"
              }
             }
            ],
            "label": "1930",
            "method": "animate"
           },
           {
            "args": [
             [
              "1931"
             ],
             {
              "frame": {
               "duration": 0,
               "redraw": true
              },
              "fromcurrent": true,
              "mode": "immediate",
              "transition": {
               "duration": 0,
               "easing": "linear"
              }
             }
            ],
            "label": "1931",
            "method": "animate"
           },
           {
            "args": [
             [
              "1932"
             ],
             {
              "frame": {
               "duration": 0,
               "redraw": true
              },
              "fromcurrent": true,
              "mode": "immediate",
              "transition": {
               "duration": 0,
               "easing": "linear"
              }
             }
            ],
            "label": "1932",
            "method": "animate"
           },
           {
            "args": [
             [
              "1933"
             ],
             {
              "frame": {
               "duration": 0,
               "redraw": true
              },
              "fromcurrent": true,
              "mode": "immediate",
              "transition": {
               "duration": 0,
               "easing": "linear"
              }
             }
            ],
            "label": "1933",
            "method": "animate"
           },
           {
            "args": [
             [
              "1935"
             ],
             {
              "frame": {
               "duration": 0,
               "redraw": true
              },
              "fromcurrent": true,
              "mode": "immediate",
              "transition": {
               "duration": 0,
               "easing": "linear"
              }
             }
            ],
            "label": "1935",
            "method": "animate"
           },
           {
            "args": [
             [
              "1936"
             ],
             {
              "frame": {
               "duration": 0,
               "redraw": true
              },
              "fromcurrent": true,
              "mode": "immediate",
              "transition": {
               "duration": 0,
               "easing": "linear"
              }
             }
            ],
            "label": "1936",
            "method": "animate"
           },
           {
            "args": [
             [
              "1938"
             ],
             {
              "frame": {
               "duration": 0,
               "redraw": true
              },
              "fromcurrent": true,
              "mode": "immediate",
              "transition": {
               "duration": 0,
               "easing": "linear"
              }
             }
            ],
            "label": "1938",
            "method": "animate"
           },
           {
            "args": [
             [
              "1939"
             ],
             {
              "frame": {
               "duration": 0,
               "redraw": true
              },
              "fromcurrent": true,
              "mode": "immediate",
              "transition": {
               "duration": 0,
               "easing": "linear"
              }
             }
            ],
            "label": "1939",
            "method": "animate"
           },
           {
            "args": [
             [
              "1940"
             ],
             {
              "frame": {
               "duration": 0,
               "redraw": true
              },
              "fromcurrent": true,
              "mode": "immediate",
              "transition": {
               "duration": 0,
               "easing": "linear"
              }
             }
            ],
            "label": "1940",
            "method": "animate"
           },
           {
            "args": [
             [
              "1941"
             ],
             {
              "frame": {
               "duration": 0,
               "redraw": true
              },
              "fromcurrent": true,
              "mode": "immediate",
              "transition": {
               "duration": 0,
               "easing": "linear"
              }
             }
            ],
            "label": "1941",
            "method": "animate"
           },
           {
            "args": [
             [
              "1942"
             ],
             {
              "frame": {
               "duration": 0,
               "redraw": true
              },
              "fromcurrent": true,
              "mode": "immediate",
              "transition": {
               "duration": 0,
               "easing": "linear"
              }
             }
            ],
            "label": "1942",
            "method": "animate"
           },
           {
            "args": [
             [
              "1943"
             ],
             {
              "frame": {
               "duration": 0,
               "redraw": true
              },
              "fromcurrent": true,
              "mode": "immediate",
              "transition": {
               "duration": 0,
               "easing": "linear"
              }
             }
            ],
            "label": "1943",
            "method": "animate"
           }
          ],
          "x": 0.1,
          "xanchor": "left",
          "y": 0,
          "yanchor": "top"
         }
        ],
        "template": {
         "data": {
          "bar": [
           {
            "error_x": {
             "color": "#2a3f5f"
            },
            "error_y": {
             "color": "#2a3f5f"
            },
            "marker": {
             "line": {
              "color": "#E5ECF6",
              "width": 0.5
             },
             "pattern": {
              "fillmode": "overlay",
              "size": 10,
              "solidity": 0.2
             }
            },
            "type": "bar"
           }
          ],
          "barpolar": [
           {
            "marker": {
             "line": {
              "color": "#E5ECF6",
              "width": 0.5
             },
             "pattern": {
              "fillmode": "overlay",
              "size": 10,
              "solidity": 0.2
             }
            },
            "type": "barpolar"
           }
          ],
          "carpet": [
           {
            "aaxis": {
             "endlinecolor": "#2a3f5f",
             "gridcolor": "white",
             "linecolor": "white",
             "minorgridcolor": "white",
             "startlinecolor": "#2a3f5f"
            },
            "baxis": {
             "endlinecolor": "#2a3f5f",
             "gridcolor": "white",
             "linecolor": "white",
             "minorgridcolor": "white",
             "startlinecolor": "#2a3f5f"
            },
            "type": "carpet"
           }
          ],
          "choropleth": [
           {
            "colorbar": {
             "outlinewidth": 0,
             "ticks": ""
            },
            "type": "choropleth"
           }
          ],
          "contour": [
           {
            "colorbar": {
             "outlinewidth": 0,
             "ticks": ""
            },
            "colorscale": [
             [
              0,
              "#0d0887"
             ],
             [
              0.1111111111111111,
              "#46039f"
             ],
             [
              0.2222222222222222,
              "#7201a8"
             ],
             [
              0.3333333333333333,
              "#9c179e"
             ],
             [
              0.4444444444444444,
              "#bd3786"
             ],
             [
              0.5555555555555556,
              "#d8576b"
             ],
             [
              0.6666666666666666,
              "#ed7953"
             ],
             [
              0.7777777777777778,
              "#fb9f3a"
             ],
             [
              0.8888888888888888,
              "#fdca26"
             ],
             [
              1,
              "#f0f921"
             ]
            ],
            "type": "contour"
           }
          ],
          "contourcarpet": [
           {
            "colorbar": {
             "outlinewidth": 0,
             "ticks": ""
            },
            "type": "contourcarpet"
           }
          ],
          "heatmap": [
           {
            "colorbar": {
             "outlinewidth": 0,
             "ticks": ""
            },
            "colorscale": [
             [
              0,
              "#0d0887"
             ],
             [
              0.1111111111111111,
              "#46039f"
             ],
             [
              0.2222222222222222,
              "#7201a8"
             ],
             [
              0.3333333333333333,
              "#9c179e"
             ],
             [
              0.4444444444444444,
              "#bd3786"
             ],
             [
              0.5555555555555556,
              "#d8576b"
             ],
             [
              0.6666666666666666,
              "#ed7953"
             ],
             [
              0.7777777777777778,
              "#fb9f3a"
             ],
             [
              0.8888888888888888,
              "#fdca26"
             ],
             [
              1,
              "#f0f921"
             ]
            ],
            "type": "heatmap"
           }
          ],
          "heatmapgl": [
           {
            "colorbar": {
             "outlinewidth": 0,
             "ticks": ""
            },
            "colorscale": [
             [
              0,
              "#0d0887"
             ],
             [
              0.1111111111111111,
              "#46039f"
             ],
             [
              0.2222222222222222,
              "#7201a8"
             ],
             [
              0.3333333333333333,
              "#9c179e"
             ],
             [
              0.4444444444444444,
              "#bd3786"
             ],
             [
              0.5555555555555556,
              "#d8576b"
             ],
             [
              0.6666666666666666,
              "#ed7953"
             ],
             [
              0.7777777777777778,
              "#fb9f3a"
             ],
             [
              0.8888888888888888,
              "#fdca26"
             ],
             [
              1,
              "#f0f921"
             ]
            ],
            "type": "heatmapgl"
           }
          ],
          "histogram": [
           {
            "marker": {
             "pattern": {
              "fillmode": "overlay",
              "size": 10,
              "solidity": 0.2
             }
            },
            "type": "histogram"
           }
          ],
          "histogram2d": [
           {
            "colorbar": {
             "outlinewidth": 0,
             "ticks": ""
            },
            "colorscale": [
             [
              0,
              "#0d0887"
             ],
             [
              0.1111111111111111,
              "#46039f"
             ],
             [
              0.2222222222222222,
              "#7201a8"
             ],
             [
              0.3333333333333333,
              "#9c179e"
             ],
             [
              0.4444444444444444,
              "#bd3786"
             ],
             [
              0.5555555555555556,
              "#d8576b"
             ],
             [
              0.6666666666666666,
              "#ed7953"
             ],
             [
              0.7777777777777778,
              "#fb9f3a"
             ],
             [
              0.8888888888888888,
              "#fdca26"
             ],
             [
              1,
              "#f0f921"
             ]
            ],
            "type": "histogram2d"
           }
          ],
          "histogram2dcontour": [
           {
            "colorbar": {
             "outlinewidth": 0,
             "ticks": ""
            },
            "colorscale": [
             [
              0,
              "#0d0887"
             ],
             [
              0.1111111111111111,
              "#46039f"
             ],
             [
              0.2222222222222222,
              "#7201a8"
             ],
             [
              0.3333333333333333,
              "#9c179e"
             ],
             [
              0.4444444444444444,
              "#bd3786"
             ],
             [
              0.5555555555555556,
              "#d8576b"
             ],
             [
              0.6666666666666666,
              "#ed7953"
             ],
             [
              0.7777777777777778,
              "#fb9f3a"
             ],
             [
              0.8888888888888888,
              "#fdca26"
             ],
             [
              1,
              "#f0f921"
             ]
            ],
            "type": "histogram2dcontour"
           }
          ],
          "mesh3d": [
           {
            "colorbar": {
             "outlinewidth": 0,
             "ticks": ""
            },
            "type": "mesh3d"
           }
          ],
          "parcoords": [
           {
            "line": {
             "colorbar": {
              "outlinewidth": 0,
              "ticks": ""
             }
            },
            "type": "parcoords"
           }
          ],
          "pie": [
           {
            "automargin": true,
            "type": "pie"
           }
          ],
          "scatter": [
           {
            "marker": {
             "colorbar": {
              "outlinewidth": 0,
              "ticks": ""
             }
            },
            "type": "scatter"
           }
          ],
          "scatter3d": [
           {
            "line": {
             "colorbar": {
              "outlinewidth": 0,
              "ticks": ""
             }
            },
            "marker": {
             "colorbar": {
              "outlinewidth": 0,
              "ticks": ""
             }
            },
            "type": "scatter3d"
           }
          ],
          "scattercarpet": [
           {
            "marker": {
             "colorbar": {
              "outlinewidth": 0,
              "ticks": ""
             }
            },
            "type": "scattercarpet"
           }
          ],
          "scattergeo": [
           {
            "marker": {
             "colorbar": {
              "outlinewidth": 0,
              "ticks": ""
             }
            },
            "type": "scattergeo"
           }
          ],
          "scattergl": [
           {
            "marker": {
             "colorbar": {
              "outlinewidth": 0,
              "ticks": ""
             }
            },
            "type": "scattergl"
           }
          ],
          "scattermapbox": [
           {
            "marker": {
             "colorbar": {
              "outlinewidth": 0,
              "ticks": ""
             }
            },
            "type": "scattermapbox"
           }
          ],
          "scatterpolar": [
           {
            "marker": {
             "colorbar": {
              "outlinewidth": 0,
              "ticks": ""
             }
            },
            "type": "scatterpolar"
           }
          ],
          "scatterpolargl": [
           {
            "marker": {
             "colorbar": {
              "outlinewidth": 0,
              "ticks": ""
             }
            },
            "type": "scatterpolargl"
           }
          ],
          "scatterternary": [
           {
            "marker": {
             "colorbar": {
              "outlinewidth": 0,
              "ticks": ""
             }
            },
            "type": "scatterternary"
           }
          ],
          "surface": [
           {
            "colorbar": {
             "outlinewidth": 0,
             "ticks": ""
            },
            "colorscale": [
             [
              0,
              "#0d0887"
             ],
             [
              0.1111111111111111,
              "#46039f"
             ],
             [
              0.2222222222222222,
              "#7201a8"
             ],
             [
              0.3333333333333333,
              "#9c179e"
             ],
             [
              0.4444444444444444,
              "#bd3786"
             ],
             [
              0.5555555555555556,
              "#d8576b"
             ],
             [
              0.6666666666666666,
              "#ed7953"
             ],
             [
              0.7777777777777778,
              "#fb9f3a"
             ],
             [
              0.8888888888888888,
              "#fdca26"
             ],
             [
              1,
              "#f0f921"
             ]
            ],
            "type": "surface"
           }
          ],
          "table": [
           {
            "cells": {
             "fill": {
              "color": "#EBF0F8"
             },
             "line": {
              "color": "white"
             }
            },
            "header": {
             "fill": {
              "color": "#C8D4E3"
             },
             "line": {
              "color": "white"
             }
            },
            "type": "table"
           }
          ]
         },
         "layout": {
          "annotationdefaults": {
           "arrowcolor": "#2a3f5f",
           "arrowhead": 0,
           "arrowwidth": 1
          },
          "autotypenumbers": "strict",
          "coloraxis": {
           "colorbar": {
            "outlinewidth": 0,
            "ticks": ""
           }
          },
          "colorscale": {
           "diverging": [
            [
             0,
             "#8e0152"
            ],
            [
             0.1,
             "#c51b7d"
            ],
            [
             0.2,
             "#de77ae"
            ],
            [
             0.3,
             "#f1b6da"
            ],
            [
             0.4,
             "#fde0ef"
            ],
            [
             0.5,
             "#f7f7f7"
            ],
            [
             0.6,
             "#e6f5d0"
            ],
            [
             0.7,
             "#b8e186"
            ],
            [
             0.8,
             "#7fbc41"
            ],
            [
             0.9,
             "#4d9221"
            ],
            [
             1,
             "#276419"
            ]
           ],
           "sequential": [
            [
             0,
             "#0d0887"
            ],
            [
             0.1111111111111111,
             "#46039f"
            ],
            [
             0.2222222222222222,
             "#7201a8"
            ],
            [
             0.3333333333333333,
             "#9c179e"
            ],
            [
             0.4444444444444444,
             "#bd3786"
            ],
            [
             0.5555555555555556,
             "#d8576b"
            ],
            [
             0.6666666666666666,
             "#ed7953"
            ],
            [
             0.7777777777777778,
             "#fb9f3a"
            ],
            [
             0.8888888888888888,
             "#fdca26"
            ],
            [
             1,
             "#f0f921"
            ]
           ],
           "sequentialminus": [
            [
             0,
             "#0d0887"
            ],
            [
             0.1111111111111111,
             "#46039f"
            ],
            [
             0.2222222222222222,
             "#7201a8"
            ],
            [
             0.3333333333333333,
             "#9c179e"
            ],
            [
             0.4444444444444444,
             "#bd3786"
            ],
            [
             0.5555555555555556,
             "#d8576b"
            ],
            [
             0.6666666666666666,
             "#ed7953"
            ],
            [
             0.7777777777777778,
             "#fb9f3a"
            ],
            [
             0.8888888888888888,
             "#fdca26"
            ],
            [
             1,
             "#f0f921"
            ]
           ]
          },
          "colorway": [
           "#636efa",
           "#EF553B",
           "#00cc96",
           "#ab63fa",
           "#FFA15A",
           "#19d3f3",
           "#FF6692",
           "#B6E880",
           "#FF97FF",
           "#FECB52"
          ],
          "font": {
           "color": "#2a3f5f"
          },
          "geo": {
           "bgcolor": "white",
           "lakecolor": "white",
           "landcolor": "#E5ECF6",
           "showlakes": true,
           "showland": true,
           "subunitcolor": "white"
          },
          "hoverlabel": {
           "align": "left"
          },
          "hovermode": "closest",
          "mapbox": {
           "style": "light"
          },
          "paper_bgcolor": "white",
          "plot_bgcolor": "#E5ECF6",
          "polar": {
           "angularaxis": {
            "gridcolor": "white",
            "linecolor": "white",
            "ticks": ""
           },
           "bgcolor": "#E5ECF6",
           "radialaxis": {
            "gridcolor": "white",
            "linecolor": "white",
            "ticks": ""
           }
          },
          "scene": {
           "xaxis": {
            "backgroundcolor": "#E5ECF6",
            "gridcolor": "white",
            "gridwidth": 2,
            "linecolor": "white",
            "showbackground": true,
            "ticks": "",
            "zerolinecolor": "white"
           },
           "yaxis": {
            "backgroundcolor": "#E5ECF6",
            "gridcolor": "white",
            "gridwidth": 2,
            "linecolor": "white",
            "showbackground": true,
            "ticks": "",
            "zerolinecolor": "white"
           },
           "zaxis": {
            "backgroundcolor": "#E5ECF6",
            "gridcolor": "white",
            "gridwidth": 2,
            "linecolor": "white",
            "showbackground": true,
            "ticks": "",
            "zerolinecolor": "white"
           }
          },
          "shapedefaults": {
           "line": {
            "color": "#2a3f5f"
           }
          },
          "ternary": {
           "aaxis": {
            "gridcolor": "white",
            "linecolor": "white",
            "ticks": ""
           },
           "baxis": {
            "gridcolor": "white",
            "linecolor": "white",
            "ticks": ""
           },
           "bgcolor": "#E5ECF6",
           "caxis": {
            "gridcolor": "white",
            "linecolor": "white",
            "ticks": ""
           }
          },
          "title": {
           "x": 0.05
          },
          "xaxis": {
           "automargin": true,
           "gridcolor": "white",
           "linecolor": "white",
           "ticks": "",
           "title": {
            "standoff": 15
           },
           "zerolinecolor": "white",
           "zerolinewidth": 2
          },
          "yaxis": {
           "automargin": true,
           "gridcolor": "white",
           "linecolor": "white",
           "ticks": "",
           "title": {
            "standoff": 15
           },
           "zerolinecolor": "white",
           "zerolinewidth": 2
          }
         }
        },
        "updatemenus": [
         {
          "buttons": [
           {
            "args": [
             null,
             {
              "frame": {
               "duration": 500,
               "redraw": true
              },
              "fromcurrent": true,
              "mode": "immediate",
              "transition": {
               "duration": 500,
               "easing": "linear"
              }
             }
            ],
            "label": "&#9654;",
            "method": "animate"
           },
           {
            "args": [
             [
              null
             ],
             {
              "frame": {
               "duration": 0,
               "redraw": true
              },
              "fromcurrent": true,
              "mode": "immediate",
              "transition": {
               "duration": 0,
               "easing": "linear"
              }
             }
            ],
            "label": "&#9724;",
            "method": "animate"
           }
          ],
          "direction": "left",
          "pad": {
           "r": 10,
           "t": 70
          },
          "showactive": false,
          "type": "buttons",
          "x": 0.1,
          "xanchor": "right",
          "y": 0,
          "yanchor": "top"
         }
        ]
       }
      },
      "text/html": [
       "<div>                            <div id=\"89161736-0c6b-4b7e-bbde-634c33c81303\" class=\"plotly-graph-div\" style=\"height:525px; width:100%;\"></div>            <script type=\"text/javascript\">                require([\"plotly\"], function(Plotly) {                    window.PLOTLYENV=window.PLOTLYENV || {};                                    if (document.getElementById(\"89161736-0c6b-4b7e-bbde-634c33c81303\")) {                    Plotly.newPlot(                        \"89161736-0c6b-4b7e-bbde-634c33c81303\",                        [{\"customdata\":[[2,\"1876\"]],\"geo\":\"geo\",\"hovertemplate\":\"<b>%{hovertext}</b><br><br>ccyear=%{customdata[1]}<br>class_count=%{customdata[0]}<br>cclat=%{lat}<br>cclon=%{lon}<extra></extra>\",\"hovertext\":[\"Japan\"],\"lat\":[\"36.204824\"],\"legendgroup\":\"1876\",\"lon\":[\"138.252924\"],\"marker\":{\"color\":\"#636efa\",\"size\":[2],\"sizemode\":\"area\",\"sizeref\":0.0125,\"symbol\":\"circle\"},\"mode\":\"markers\",\"name\":\"1876\",\"showlegend\":true,\"type\":\"scattergeo\"}],                        {\"geo\":{\"center\":{},\"domain\":{\"x\":[0.0,1.0],\"y\":[0.0,1.0]},\"projection\":{\"type\":\"natural earth\"}},\"legend\":{\"itemsizing\":\"constant\",\"title\":{\"text\":\"ccyear\"},\"tracegroupgap\":0},\"margin\":{\"t\":60},\"sliders\":[{\"active\":0,\"currentvalue\":{\"prefix\":\"ccyear=\"},\"len\":0.9,\"pad\":{\"b\":10,\"t\":60},\"steps\":[{\"args\":[[\"1876\"],{\"frame\":{\"duration\":0,\"redraw\":true},\"fromcurrent\":true,\"mode\":\"immediate\",\"transition\":{\"duration\":0,\"easing\":\"linear\"}}],\"label\":\"1876\",\"method\":\"animate\"},{\"args\":[[\"1877\"],{\"frame\":{\"duration\":0,\"redraw\":true},\"fromcurrent\":true,\"mode\":\"immediate\",\"transition\":{\"duration\":0,\"easing\":\"linear\"}}],\"label\":\"1877\",\"method\":\"animate\"},{\"args\":[[\"1878\"],{\"frame\":{\"duration\":0,\"redraw\":true},\"fromcurrent\":true,\"mode\":\"immediate\",\"transition\":{\"duration\":0,\"easing\":\"linear\"}}],\"label\":\"1878\",\"method\":\"animate\"},{\"args\":[[\"1879\"],{\"frame\":{\"duration\":0,\"redraw\":true},\"fromcurrent\":true,\"mode\":\"immediate\",\"transition\":{\"duration\":0,\"easing\":\"linear\"}}],\"label\":\"1879\",\"method\":\"animate\"},{\"args\":[[\"1880\"],{\"frame\":{\"duration\":0,\"redraw\":true},\"fromcurrent\":true,\"mode\":\"immediate\",\"transition\":{\"duration\":0,\"easing\":\"linear\"}}],\"label\":\"1880\",\"method\":\"animate\"},{\"args\":[[\"1882\"],{\"frame\":{\"duration\":0,\"redraw\":true},\"fromcurrent\":true,\"mode\":\"immediate\",\"transition\":{\"duration\":0,\"easing\":\"linear\"}}],\"label\":\"1882\",\"method\":\"animate\"},{\"args\":[[\"1883\"],{\"frame\":{\"duration\":0,\"redraw\":true},\"fromcurrent\":true,\"mode\":\"immediate\",\"transition\":{\"duration\":0,\"easing\":\"linear\"}}],\"label\":\"1883\",\"method\":\"animate\"},{\"args\":[[\"1884\"],{\"frame\":{\"duration\":0,\"redraw\":true},\"fromcurrent\":true,\"mode\":\"immediate\",\"transition\":{\"duration\":0,\"easing\":\"linear\"}}],\"label\":\"1884\",\"method\":\"animate\"},{\"args\":[[\"1885\"],{\"frame\":{\"duration\":0,\"redraw\":true},\"fromcurrent\":true,\"mode\":\"immediate\",\"transition\":{\"duration\":0,\"easing\":\"linear\"}}],\"label\":\"1885\",\"method\":\"animate\"},{\"args\":[[\"1887\"],{\"frame\":{\"duration\":0,\"redraw\":true},\"fromcurrent\":true,\"mode\":\"immediate\",\"transition\":{\"duration\":0,\"easing\":\"linear\"}}],\"label\":\"1887\",\"method\":\"animate\"},{\"args\":[[\"1888\"],{\"frame\":{\"duration\":0,\"redraw\":true},\"fromcurrent\":true,\"mode\":\"immediate\",\"transition\":{\"duration\":0,\"easing\":\"linear\"}}],\"label\":\"1888\",\"method\":\"animate\"},{\"args\":[[\"1889\"],{\"frame\":{\"duration\":0,\"redraw\":true},\"fromcurrent\":true,\"mode\":\"immediate\",\"transition\":{\"duration\":0,\"easing\":\"linear\"}}],\"label\":\"1889\",\"method\":\"animate\"},{\"args\":[[\"1891\"],{\"frame\":{\"duration\":0,\"redraw\":true},\"fromcurrent\":true,\"mode\":\"immediate\",\"transition\":{\"duration\":0,\"easing\":\"linear\"}}],\"label\":\"1891\",\"method\":\"animate\"},{\"args\":[[\"1893\"],{\"frame\":{\"duration\":0,\"redraw\":true},\"fromcurrent\":true,\"mode\":\"immediate\",\"transition\":{\"duration\":0,\"easing\":\"linear\"}}],\"label\":\"1893\",\"method\":\"animate\"},{\"args\":[[\"1894\"],{\"frame\":{\"duration\":0,\"redraw\":true},\"fromcurrent\":true,\"mode\":\"immediate\",\"transition\":{\"duration\":0,\"easing\":\"linear\"}}],\"label\":\"1894\",\"method\":\"animate\"},{\"args\":[[\"1895\"],{\"frame\":{\"duration\":0,\"redraw\":true},\"fromcurrent\":true,\"mode\":\"immediate\",\"transition\":{\"duration\":0,\"easing\":\"linear\"}}],\"label\":\"1895\",\"method\":\"animate\"},{\"args\":[[\"1896\"],{\"frame\":{\"duration\":0,\"redraw\":true},\"fromcurrent\":true,\"mode\":\"immediate\",\"transition\":{\"duration\":0,\"easing\":\"linear\"}}],\"label\":\"1896\",\"method\":\"animate\"},{\"args\":[[\"1897\"],{\"frame\":{\"duration\":0,\"redraw\":true},\"fromcurrent\":true,\"mode\":\"immediate\",\"transition\":{\"duration\":0,\"easing\":\"linear\"}}],\"label\":\"1897\",\"method\":\"animate\"},{\"args\":[[\"1899\"],{\"frame\":{\"duration\":0,\"redraw\":true},\"fromcurrent\":true,\"mode\":\"immediate\",\"transition\":{\"duration\":0,\"easing\":\"linear\"}}],\"label\":\"1899\",\"method\":\"animate\"},{\"args\":[[\"1900\"],{\"frame\":{\"duration\":0,\"redraw\":true},\"fromcurrent\":true,\"mode\":\"immediate\",\"transition\":{\"duration\":0,\"easing\":\"linear\"}}],\"label\":\"1900\",\"method\":\"animate\"},{\"args\":[[\"1901\"],{\"frame\":{\"duration\":0,\"redraw\":true},\"fromcurrent\":true,\"mode\":\"immediate\",\"transition\":{\"duration\":0,\"easing\":\"linear\"}}],\"label\":\"1901\",\"method\":\"animate\"},{\"args\":[[\"1903\"],{\"frame\":{\"duration\":0,\"redraw\":true},\"fromcurrent\":true,\"mode\":\"immediate\",\"transition\":{\"duration\":0,\"easing\":\"linear\"}}],\"label\":\"1903\",\"method\":\"animate\"},{\"args\":[[\"1904\"],{\"frame\":{\"duration\":0,\"redraw\":true},\"fromcurrent\":true,\"mode\":\"immediate\",\"transition\":{\"duration\":0,\"easing\":\"linear\"}}],\"label\":\"1904\",\"method\":\"animate\"},{\"args\":[[\"1905\"],{\"frame\":{\"duration\":0,\"redraw\":true},\"fromcurrent\":true,\"mode\":\"immediate\",\"transition\":{\"duration\":0,\"easing\":\"linear\"}}],\"label\":\"1905\",\"method\":\"animate\"},{\"args\":[[\"1906\"],{\"frame\":{\"duration\":0,\"redraw\":true},\"fromcurrent\":true,\"mode\":\"immediate\",\"transition\":{\"duration\":0,\"easing\":\"linear\"}}],\"label\":\"1906\",\"method\":\"animate\"},{\"args\":[[\"1907\"],{\"frame\":{\"duration\":0,\"redraw\":true},\"fromcurrent\":true,\"mode\":\"immediate\",\"transition\":{\"duration\":0,\"easing\":\"linear\"}}],\"label\":\"1907\",\"method\":\"animate\"},{\"args\":[[\"1908\"],{\"frame\":{\"duration\":0,\"redraw\":true},\"fromcurrent\":true,\"mode\":\"immediate\",\"transition\":{\"duration\":0,\"easing\":\"linear\"}}],\"label\":\"1908\",\"method\":\"animate\"},{\"args\":[[\"1909\"],{\"frame\":{\"duration\":0,\"redraw\":true},\"fromcurrent\":true,\"mode\":\"immediate\",\"transition\":{\"duration\":0,\"easing\":\"linear\"}}],\"label\":\"1909\",\"method\":\"animate\"},{\"args\":[[\"1910\"],{\"frame\":{\"duration\":0,\"redraw\":true},\"fromcurrent\":true,\"mode\":\"immediate\",\"transition\":{\"duration\":0,\"easing\":\"linear\"}}],\"label\":\"1910\",\"method\":\"animate\"},{\"args\":[[\"1911\"],{\"frame\":{\"duration\":0,\"redraw\":true},\"fromcurrent\":true,\"mode\":\"immediate\",\"transition\":{\"duration\":0,\"easing\":\"linear\"}}],\"label\":\"1911\",\"method\":\"animate\"},{\"args\":[[\"1912\"],{\"frame\":{\"duration\":0,\"redraw\":true},\"fromcurrent\":true,\"mode\":\"immediate\",\"transition\":{\"duration\":0,\"easing\":\"linear\"}}],\"label\":\"1912\",\"method\":\"animate\"},{\"args\":[[\"1913\"],{\"frame\":{\"duration\":0,\"redraw\":true},\"fromcurrent\":true,\"mode\":\"immediate\",\"transition\":{\"duration\":0,\"easing\":\"linear\"}}],\"label\":\"1913\",\"method\":\"animate\"},{\"args\":[[\"1914\"],{\"frame\":{\"duration\":0,\"redraw\":true},\"fromcurrent\":true,\"mode\":\"immediate\",\"transition\":{\"duration\":0,\"easing\":\"linear\"}}],\"label\":\"1914\",\"method\":\"animate\"},{\"args\":[[\"1915\"],{\"frame\":{\"duration\":0,\"redraw\":true},\"fromcurrent\":true,\"mode\":\"immediate\",\"transition\":{\"duration\":0,\"easing\":\"linear\"}}],\"label\":\"1915\",\"method\":\"animate\"},{\"args\":[[\"1916\"],{\"frame\":{\"duration\":0,\"redraw\":true},\"fromcurrent\":true,\"mode\":\"immediate\",\"transition\":{\"duration\":0,\"easing\":\"linear\"}}],\"label\":\"1916\",\"method\":\"animate\"},{\"args\":[[\"1917\"],{\"frame\":{\"duration\":0,\"redraw\":true},\"fromcurrent\":true,\"mode\":\"immediate\",\"transition\":{\"duration\":0,\"easing\":\"linear\"}}],\"label\":\"1917\",\"method\":\"animate\"},{\"args\":[[\"1918\"],{\"frame\":{\"duration\":0,\"redraw\":true},\"fromcurrent\":true,\"mode\":\"immediate\",\"transition\":{\"duration\":0,\"easing\":\"linear\"}}],\"label\":\"1918\",\"method\":\"animate\"},{\"args\":[[\"1919\"],{\"frame\":{\"duration\":0,\"redraw\":true},\"fromcurrent\":true,\"mode\":\"immediate\",\"transition\":{\"duration\":0,\"easing\":\"linear\"}}],\"label\":\"1919\",\"method\":\"animate\"},{\"args\":[[\"1920\"],{\"frame\":{\"duration\":0,\"redraw\":true},\"fromcurrent\":true,\"mode\":\"immediate\",\"transition\":{\"duration\":0,\"easing\":\"linear\"}}],\"label\":\"1920\",\"method\":\"animate\"},{\"args\":[[\"1921\"],{\"frame\":{\"duration\":0,\"redraw\":true},\"fromcurrent\":true,\"mode\":\"immediate\",\"transition\":{\"duration\":0,\"easing\":\"linear\"}}],\"label\":\"1921\",\"method\":\"animate\"},{\"args\":[[\"1922\"],{\"frame\":{\"duration\":0,\"redraw\":true},\"fromcurrent\":true,\"mode\":\"immediate\",\"transition\":{\"duration\":0,\"easing\":\"linear\"}}],\"label\":\"1922\",\"method\":\"animate\"},{\"args\":[[\"1923\"],{\"frame\":{\"duration\":0,\"redraw\":true},\"fromcurrent\":true,\"mode\":\"immediate\",\"transition\":{\"duration\":0,\"easing\":\"linear\"}}],\"label\":\"1923\",\"method\":\"animate\"},{\"args\":[[\"1924\"],{\"frame\":{\"duration\":0,\"redraw\":true},\"fromcurrent\":true,\"mode\":\"immediate\",\"transition\":{\"duration\":0,\"easing\":\"linear\"}}],\"label\":\"1924\",\"method\":\"animate\"},{\"args\":[[\"1925\"],{\"frame\":{\"duration\":0,\"redraw\":true},\"fromcurrent\":true,\"mode\":\"immediate\",\"transition\":{\"duration\":0,\"easing\":\"linear\"}}],\"label\":\"1925\",\"method\":\"animate\"},{\"args\":[[\"1926\"],{\"frame\":{\"duration\":0,\"redraw\":true},\"fromcurrent\":true,\"mode\":\"immediate\",\"transition\":{\"duration\":0,\"easing\":\"linear\"}}],\"label\":\"1926\",\"method\":\"animate\"},{\"args\":[[\"1927\"],{\"frame\":{\"duration\":0,\"redraw\":true},\"fromcurrent\":true,\"mode\":\"immediate\",\"transition\":{\"duration\":0,\"easing\":\"linear\"}}],\"label\":\"1927\",\"method\":\"animate\"},{\"args\":[[\"1928\"],{\"frame\":{\"duration\":0,\"redraw\":true},\"fromcurrent\":true,\"mode\":\"immediate\",\"transition\":{\"duration\":0,\"easing\":\"linear\"}}],\"label\":\"1928\",\"method\":\"animate\"},{\"args\":[[\"1929\"],{\"frame\":{\"duration\":0,\"redraw\":true},\"fromcurrent\":true,\"mode\":\"immediate\",\"transition\":{\"duration\":0,\"easing\":\"linear\"}}],\"label\":\"1929\",\"method\":\"animate\"},{\"args\":[[\"1930\"],{\"frame\":{\"duration\":0,\"redraw\":true},\"fromcurrent\":true,\"mode\":\"immediate\",\"transition\":{\"duration\":0,\"easing\":\"linear\"}}],\"label\":\"1930\",\"method\":\"animate\"},{\"args\":[[\"1931\"],{\"frame\":{\"duration\":0,\"redraw\":true},\"fromcurrent\":true,\"mode\":\"immediate\",\"transition\":{\"duration\":0,\"easing\":\"linear\"}}],\"label\":\"1931\",\"method\":\"animate\"},{\"args\":[[\"1932\"],{\"frame\":{\"duration\":0,\"redraw\":true},\"fromcurrent\":true,\"mode\":\"immediate\",\"transition\":{\"duration\":0,\"easing\":\"linear\"}}],\"label\":\"1932\",\"method\":\"animate\"},{\"args\":[[\"1933\"],{\"frame\":{\"duration\":0,\"redraw\":true},\"fromcurrent\":true,\"mode\":\"immediate\",\"transition\":{\"duration\":0,\"easing\":\"linear\"}}],\"label\":\"1933\",\"method\":\"animate\"},{\"args\":[[\"1935\"],{\"frame\":{\"duration\":0,\"redraw\":true},\"fromcurrent\":true,\"mode\":\"immediate\",\"transition\":{\"duration\":0,\"easing\":\"linear\"}}],\"label\":\"1935\",\"method\":\"animate\"},{\"args\":[[\"1936\"],{\"frame\":{\"duration\":0,\"redraw\":true},\"fromcurrent\":true,\"mode\":\"immediate\",\"transition\":{\"duration\":0,\"easing\":\"linear\"}}],\"label\":\"1936\",\"method\":\"animate\"},{\"args\":[[\"1938\"],{\"frame\":{\"duration\":0,\"redraw\":true},\"fromcurrent\":true,\"mode\":\"immediate\",\"transition\":{\"duration\":0,\"easing\":\"linear\"}}],\"label\":\"1938\",\"method\":\"animate\"},{\"args\":[[\"1939\"],{\"frame\":{\"duration\":0,\"redraw\":true},\"fromcurrent\":true,\"mode\":\"immediate\",\"transition\":{\"duration\":0,\"easing\":\"linear\"}}],\"label\":\"1939\",\"method\":\"animate\"},{\"args\":[[\"1940\"],{\"frame\":{\"duration\":0,\"redraw\":true},\"fromcurrent\":true,\"mode\":\"immediate\",\"transition\":{\"duration\":0,\"easing\":\"linear\"}}],\"label\":\"1940\",\"method\":\"animate\"},{\"args\":[[\"1941\"],{\"frame\":{\"duration\":0,\"redraw\":true},\"fromcurrent\":true,\"mode\":\"immediate\",\"transition\":{\"duration\":0,\"easing\":\"linear\"}}],\"label\":\"1941\",\"method\":\"animate\"},{\"args\":[[\"1942\"],{\"frame\":{\"duration\":0,\"redraw\":true},\"fromcurrent\":true,\"mode\":\"immediate\",\"transition\":{\"duration\":0,\"easing\":\"linear\"}}],\"label\":\"1942\",\"method\":\"animate\"},{\"args\":[[\"1943\"],{\"frame\":{\"duration\":0,\"redraw\":true},\"fromcurrent\":true,\"mode\":\"immediate\",\"transition\":{\"duration\":0,\"easing\":\"linear\"}}],\"label\":\"1943\",\"method\":\"animate\"}],\"x\":0.1,\"xanchor\":\"left\",\"y\":0,\"yanchor\":\"top\"}],\"template\":{\"data\":{\"bar\":[{\"error_x\":{\"color\":\"#2a3f5f\"},\"error_y\":{\"color\":\"#2a3f5f\"},\"marker\":{\"line\":{\"color\":\"#E5ECF6\",\"width\":0.5},\"pattern\":{\"fillmode\":\"overlay\",\"size\":10,\"solidity\":0.2}},\"type\":\"bar\"}],\"barpolar\":[{\"marker\":{\"line\":{\"color\":\"#E5ECF6\",\"width\":0.5},\"pattern\":{\"fillmode\":\"overlay\",\"size\":10,\"solidity\":0.2}},\"type\":\"barpolar\"}],\"carpet\":[{\"aaxis\":{\"endlinecolor\":\"#2a3f5f\",\"gridcolor\":\"white\",\"linecolor\":\"white\",\"minorgridcolor\":\"white\",\"startlinecolor\":\"#2a3f5f\"},\"baxis\":{\"endlinecolor\":\"#2a3f5f\",\"gridcolor\":\"white\",\"linecolor\":\"white\",\"minorgridcolor\":\"white\",\"startlinecolor\":\"#2a3f5f\"},\"type\":\"carpet\"}],\"choropleth\":[{\"colorbar\":{\"outlinewidth\":0,\"ticks\":\"\"},\"type\":\"choropleth\"}],\"contour\":[{\"colorbar\":{\"outlinewidth\":0,\"ticks\":\"\"},\"colorscale\":[[0.0,\"#0d0887\"],[0.1111111111111111,\"#46039f\"],[0.2222222222222222,\"#7201a8\"],[0.3333333333333333,\"#9c179e\"],[0.4444444444444444,\"#bd3786\"],[0.5555555555555556,\"#d8576b\"],[0.6666666666666666,\"#ed7953\"],[0.7777777777777778,\"#fb9f3a\"],[0.8888888888888888,\"#fdca26\"],[1.0,\"#f0f921\"]],\"type\":\"contour\"}],\"contourcarpet\":[{\"colorbar\":{\"outlinewidth\":0,\"ticks\":\"\"},\"type\":\"contourcarpet\"}],\"heatmap\":[{\"colorbar\":{\"outlinewidth\":0,\"ticks\":\"\"},\"colorscale\":[[0.0,\"#0d0887\"],[0.1111111111111111,\"#46039f\"],[0.2222222222222222,\"#7201a8\"],[0.3333333333333333,\"#9c179e\"],[0.4444444444444444,\"#bd3786\"],[0.5555555555555556,\"#d8576b\"],[0.6666666666666666,\"#ed7953\"],[0.7777777777777778,\"#fb9f3a\"],[0.8888888888888888,\"#fdca26\"],[1.0,\"#f0f921\"]],\"type\":\"heatmap\"}],\"heatmapgl\":[{\"colorbar\":{\"outlinewidth\":0,\"ticks\":\"\"},\"colorscale\":[[0.0,\"#0d0887\"],[0.1111111111111111,\"#46039f\"],[0.2222222222222222,\"#7201a8\"],[0.3333333333333333,\"#9c179e\"],[0.4444444444444444,\"#bd3786\"],[0.5555555555555556,\"#d8576b\"],[0.6666666666666666,\"#ed7953\"],[0.7777777777777778,\"#fb9f3a\"],[0.8888888888888888,\"#fdca26\"],[1.0,\"#f0f921\"]],\"type\":\"heatmapgl\"}],\"histogram\":[{\"marker\":{\"pattern\":{\"fillmode\":\"overlay\",\"size\":10,\"solidity\":0.2}},\"type\":\"histogram\"}],\"histogram2d\":[{\"colorbar\":{\"outlinewidth\":0,\"ticks\":\"\"},\"colorscale\":[[0.0,\"#0d0887\"],[0.1111111111111111,\"#46039f\"],[0.2222222222222222,\"#7201a8\"],[0.3333333333333333,\"#9c179e\"],[0.4444444444444444,\"#bd3786\"],[0.5555555555555556,\"#d8576b\"],[0.6666666666666666,\"#ed7953\"],[0.7777777777777778,\"#fb9f3a\"],[0.8888888888888888,\"#fdca26\"],[1.0,\"#f0f921\"]],\"type\":\"histogram2d\"}],\"histogram2dcontour\":[{\"colorbar\":{\"outlinewidth\":0,\"ticks\":\"\"},\"colorscale\":[[0.0,\"#0d0887\"],[0.1111111111111111,\"#46039f\"],[0.2222222222222222,\"#7201a8\"],[0.3333333333333333,\"#9c179e\"],[0.4444444444444444,\"#bd3786\"],[0.5555555555555556,\"#d8576b\"],[0.6666666666666666,\"#ed7953\"],[0.7777777777777778,\"#fb9f3a\"],[0.8888888888888888,\"#fdca26\"],[1.0,\"#f0f921\"]],\"type\":\"histogram2dcontour\"}],\"mesh3d\":[{\"colorbar\":{\"outlinewidth\":0,\"ticks\":\"\"},\"type\":\"mesh3d\"}],\"parcoords\":[{\"line\":{\"colorbar\":{\"outlinewidth\":0,\"ticks\":\"\"}},\"type\":\"parcoords\"}],\"pie\":[{\"automargin\":true,\"type\":\"pie\"}],\"scatter\":[{\"marker\":{\"colorbar\":{\"outlinewidth\":0,\"ticks\":\"\"}},\"type\":\"scatter\"}],\"scatter3d\":[{\"line\":{\"colorbar\":{\"outlinewidth\":0,\"ticks\":\"\"}},\"marker\":{\"colorbar\":{\"outlinewidth\":0,\"ticks\":\"\"}},\"type\":\"scatter3d\"}],\"scattercarpet\":[{\"marker\":{\"colorbar\":{\"outlinewidth\":0,\"ticks\":\"\"}},\"type\":\"scattercarpet\"}],\"scattergeo\":[{\"marker\":{\"colorbar\":{\"outlinewidth\":0,\"ticks\":\"\"}},\"type\":\"scattergeo\"}],\"scattergl\":[{\"marker\":{\"colorbar\":{\"outlinewidth\":0,\"ticks\":\"\"}},\"type\":\"scattergl\"}],\"scattermapbox\":[{\"marker\":{\"colorbar\":{\"outlinewidth\":0,\"ticks\":\"\"}},\"type\":\"scattermapbox\"}],\"scatterpolar\":[{\"marker\":{\"colorbar\":{\"outlinewidth\":0,\"ticks\":\"\"}},\"type\":\"scatterpolar\"}],\"scatterpolargl\":[{\"marker\":{\"colorbar\":{\"outlinewidth\":0,\"ticks\":\"\"}},\"type\":\"scatterpolargl\"}],\"scatterternary\":[{\"marker\":{\"colorbar\":{\"outlinewidth\":0,\"ticks\":\"\"}},\"type\":\"scatterternary\"}],\"surface\":[{\"colorbar\":{\"outlinewidth\":0,\"ticks\":\"\"},\"colorscale\":[[0.0,\"#0d0887\"],[0.1111111111111111,\"#46039f\"],[0.2222222222222222,\"#7201a8\"],[0.3333333333333333,\"#9c179e\"],[0.4444444444444444,\"#bd3786\"],[0.5555555555555556,\"#d8576b\"],[0.6666666666666666,\"#ed7953\"],[0.7777777777777778,\"#fb9f3a\"],[0.8888888888888888,\"#fdca26\"],[1.0,\"#f0f921\"]],\"type\":\"surface\"}],\"table\":[{\"cells\":{\"fill\":{\"color\":\"#EBF0F8\"},\"line\":{\"color\":\"white\"}},\"header\":{\"fill\":{\"color\":\"#C8D4E3\"},\"line\":{\"color\":\"white\"}},\"type\":\"table\"}]},\"layout\":{\"annotationdefaults\":{\"arrowcolor\":\"#2a3f5f\",\"arrowhead\":0,\"arrowwidth\":1},\"autotypenumbers\":\"strict\",\"coloraxis\":{\"colorbar\":{\"outlinewidth\":0,\"ticks\":\"\"}},\"colorscale\":{\"diverging\":[[0,\"#8e0152\"],[0.1,\"#c51b7d\"],[0.2,\"#de77ae\"],[0.3,\"#f1b6da\"],[0.4,\"#fde0ef\"],[0.5,\"#f7f7f7\"],[0.6,\"#e6f5d0\"],[0.7,\"#b8e186\"],[0.8,\"#7fbc41\"],[0.9,\"#4d9221\"],[1,\"#276419\"]],\"sequential\":[[0.0,\"#0d0887\"],[0.1111111111111111,\"#46039f\"],[0.2222222222222222,\"#7201a8\"],[0.3333333333333333,\"#9c179e\"],[0.4444444444444444,\"#bd3786\"],[0.5555555555555556,\"#d8576b\"],[0.6666666666666666,\"#ed7953\"],[0.7777777777777778,\"#fb9f3a\"],[0.8888888888888888,\"#fdca26\"],[1.0,\"#f0f921\"]],\"sequentialminus\":[[0.0,\"#0d0887\"],[0.1111111111111111,\"#46039f\"],[0.2222222222222222,\"#7201a8\"],[0.3333333333333333,\"#9c179e\"],[0.4444444444444444,\"#bd3786\"],[0.5555555555555556,\"#d8576b\"],[0.6666666666666666,\"#ed7953\"],[0.7777777777777778,\"#fb9f3a\"],[0.8888888888888888,\"#fdca26\"],[1.0,\"#f0f921\"]]},\"colorway\":[\"#636efa\",\"#EF553B\",\"#00cc96\",\"#ab63fa\",\"#FFA15A\",\"#19d3f3\",\"#FF6692\",\"#B6E880\",\"#FF97FF\",\"#FECB52\"],\"font\":{\"color\":\"#2a3f5f\"},\"geo\":{\"bgcolor\":\"white\",\"lakecolor\":\"white\",\"landcolor\":\"#E5ECF6\",\"showlakes\":true,\"showland\":true,\"subunitcolor\":\"white\"},\"hoverlabel\":{\"align\":\"left\"},\"hovermode\":\"closest\",\"mapbox\":{\"style\":\"light\"},\"paper_bgcolor\":\"white\",\"plot_bgcolor\":\"#E5ECF6\",\"polar\":{\"angularaxis\":{\"gridcolor\":\"white\",\"linecolor\":\"white\",\"ticks\":\"\"},\"bgcolor\":\"#E5ECF6\",\"radialaxis\":{\"gridcolor\":\"white\",\"linecolor\":\"white\",\"ticks\":\"\"}},\"scene\":{\"xaxis\":{\"backgroundcolor\":\"#E5ECF6\",\"gridcolor\":\"white\",\"gridwidth\":2,\"linecolor\":\"white\",\"showbackground\":true,\"ticks\":\"\",\"zerolinecolor\":\"white\"},\"yaxis\":{\"backgroundcolor\":\"#E5ECF6\",\"gridcolor\":\"white\",\"gridwidth\":2,\"linecolor\":\"white\",\"showbackground\":true,\"ticks\":\"\",\"zerolinecolor\":\"white\"},\"zaxis\":{\"backgroundcolor\":\"#E5ECF6\",\"gridcolor\":\"white\",\"gridwidth\":2,\"linecolor\":\"white\",\"showbackground\":true,\"ticks\":\"\",\"zerolinecolor\":\"white\"}},\"shapedefaults\":{\"line\":{\"color\":\"#2a3f5f\"}},\"ternary\":{\"aaxis\":{\"gridcolor\":\"white\",\"linecolor\":\"white\",\"ticks\":\"\"},\"baxis\":{\"gridcolor\":\"white\",\"linecolor\":\"white\",\"ticks\":\"\"},\"bgcolor\":\"#E5ECF6\",\"caxis\":{\"gridcolor\":\"white\",\"linecolor\":\"white\",\"ticks\":\"\"}},\"title\":{\"x\":0.05},\"xaxis\":{\"automargin\":true,\"gridcolor\":\"white\",\"linecolor\":\"white\",\"ticks\":\"\",\"title\":{\"standoff\":15},\"zerolinecolor\":\"white\",\"zerolinewidth\":2},\"yaxis\":{\"automargin\":true,\"gridcolor\":\"white\",\"linecolor\":\"white\",\"ticks\":\"\",\"title\":{\"standoff\":15},\"zerolinecolor\":\"white\",\"zerolinewidth\":2}}},\"updatemenus\":[{\"buttons\":[{\"args\":[null,{\"frame\":{\"duration\":500,\"redraw\":true},\"fromcurrent\":true,\"mode\":\"immediate\",\"transition\":{\"duration\":500,\"easing\":\"linear\"}}],\"label\":\"&#9654;\",\"method\":\"animate\"},{\"args\":[[null],{\"frame\":{\"duration\":0,\"redraw\":true},\"fromcurrent\":true,\"mode\":\"immediate\",\"transition\":{\"duration\":0,\"easing\":\"linear\"}}],\"label\":\"&#9724;\",\"method\":\"animate\"}],\"direction\":\"left\",\"pad\":{\"r\":10,\"t\":70},\"showactive\":false,\"type\":\"buttons\",\"x\":0.1,\"xanchor\":\"right\",\"y\":0,\"yanchor\":\"top\"}]},                        {\"responsive\": true}                    ).then(function(){\n",
       "                            Plotly.addFrames('89161736-0c6b-4b7e-bbde-634c33c81303', [{\"data\":[{\"customdata\":[[2,\"1876\"]],\"geo\":\"geo\",\"hovertemplate\":\"<b>%{hovertext}</b><br><br>ccyear=%{customdata[1]}<br>class_count=%{customdata[0]}<br>cclat=%{lat}<br>cclon=%{lon}<extra></extra>\",\"hovertext\":[\"Japan\"],\"lat\":[\"36.204824\"],\"legendgroup\":\"1876\",\"lon\":[\"138.252924\"],\"marker\":{\"color\":\"#636efa\",\"size\":[2],\"sizemode\":\"area\",\"sizeref\":0.0125,\"symbol\":\"circle\"},\"mode\":\"markers\",\"name\":\"1876\",\"showlegend\":true,\"type\":\"scattergeo\"}],\"name\":\"1876\"},{\"data\":[{\"customdata\":[[1,\"1877\"],[1,\"1877\"]],\"geo\":\"geo\",\"hovertemplate\":\"<b>%{hovertext}</b><br><br>ccyear=%{customdata[1]}<br>class_count=%{customdata[0]}<br>cclat=%{lat}<br>cclon=%{lon}<extra></extra>\",\"hovertext\":[\"Canada\",\"Japan\"],\"lat\":[\"56.130366\",\"36.204824\"],\"legendgroup\":\"1877\",\"lon\":[\"-106.346771\",\"138.252924\"],\"marker\":{\"color\":\"#EF553B\",\"size\":[1,1],\"sizemode\":\"area\",\"sizeref\":0.0125,\"symbol\":\"circle\"},\"mode\":\"markers\",\"name\":\"1877\",\"showlegend\":true,\"type\":\"scattergeo\"}],\"name\":\"1877\"},{\"data\":[{\"customdata\":[[1,\"1878\"],[2,\"1878\"]],\"geo\":\"geo\",\"hovertemplate\":\"<b>%{hovertext}</b><br><br>ccyear=%{customdata[1]}<br>class_count=%{customdata[0]}<br>cclat=%{lat}<br>cclon=%{lon}<extra></extra>\",\"hovertext\":[\"Canada\",\"Brazil\"],\"lat\":[\"56.130366\",\"-14.235004\"],\"legendgroup\":\"1878\",\"lon\":[\"-106.346771\",\"-51.92528\"],\"marker\":{\"color\":\"#00cc96\",\"size\":[1,2],\"sizemode\":\"area\",\"sizeref\":0.0125,\"symbol\":\"circle\"},\"mode\":\"markers\",\"name\":\"1878\",\"showlegend\":true,\"type\":\"scattergeo\"}],\"name\":\"1878\"},{\"data\":[{\"customdata\":[[2,\"1879\"]],\"geo\":\"geo\",\"hovertemplate\":\"<b>%{hovertext}</b><br><br>ccyear=%{customdata[1]}<br>class_count=%{customdata[0]}<br>cclat=%{lat}<br>cclon=%{lon}<extra></extra>\",\"hovertext\":[\"Brazil\"],\"lat\":[\"-14.235004\"],\"legendgroup\":\"1879\",\"lon\":[\"-51.92528\"],\"marker\":{\"color\":\"#ab63fa\",\"size\":[2],\"sizemode\":\"area\",\"sizeref\":0.0125,\"symbol\":\"circle\"},\"mode\":\"markers\",\"name\":\"1879\",\"showlegend\":true,\"type\":\"scattergeo\"}],\"name\":\"1879\"},{\"data\":[{\"customdata\":[[1,\"1880\"]],\"geo\":\"geo\",\"hovertemplate\":\"<b>%{hovertext}</b><br><br>ccyear=%{customdata[1]}<br>class_count=%{customdata[0]}<br>cclat=%{lat}<br>cclon=%{lon}<extra></extra>\",\"hovertext\":[\"Germany\"],\"lat\":[\"51.165691\"],\"legendgroup\":\"1880\",\"lon\":[\"10.451526\"],\"marker\":{\"color\":\"#FFA15A\",\"size\":[1],\"sizemode\":\"area\",\"sizeref\":0.0125,\"symbol\":\"circle\"},\"mode\":\"markers\",\"name\":\"1880\",\"showlegend\":true,\"type\":\"scattergeo\"}],\"name\":\"1880\"},{\"data\":[{\"customdata\":[[1,\"1882\"]],\"geo\":\"geo\",\"hovertemplate\":\"<b>%{hovertext}</b><br><br>ccyear=%{customdata[1]}<br>class_count=%{customdata[0]}<br>cclat=%{lat}<br>cclon=%{lon}<extra></extra>\",\"hovertext\":[\"Brazil\"],\"lat\":[\"-14.235004\"],\"legendgroup\":\"1882\",\"lon\":[\"-51.92528\"],\"marker\":{\"color\":\"#19d3f3\",\"size\":[1],\"sizemode\":\"area\",\"sizeref\":0.0125,\"symbol\":\"circle\"},\"mode\":\"markers\",\"name\":\"1882\",\"showlegend\":true,\"type\":\"scattergeo\"}],\"name\":\"1882\"},{\"data\":[{\"customdata\":[[1,\"1883\"]],\"geo\":\"geo\",\"hovertemplate\":\"<b>%{hovertext}</b><br><br>ccyear=%{customdata[1]}<br>class_count=%{customdata[0]}<br>cclat=%{lat}<br>cclon=%{lon}<extra></extra>\",\"hovertext\":[\"Chile\"],\"lat\":[\"-35.675147\"],\"legendgroup\":\"1883\",\"lon\":[\"-71.542969\"],\"marker\":{\"color\":\"#FF6692\",\"size\":[1],\"sizemode\":\"area\",\"sizeref\":0.0125,\"symbol\":\"circle\"},\"mode\":\"markers\",\"name\":\"1883\",\"showlegend\":true,\"type\":\"scattergeo\"}],\"name\":\"1883\"},{\"data\":[{\"customdata\":[[1,\"1884\"],[1,\"1884\"]],\"geo\":\"geo\",\"hovertemplate\":\"<b>%{hovertext}</b><br><br>ccyear=%{customdata[1]}<br>class_count=%{customdata[0]}<br>cclat=%{lat}<br>cclon=%{lon}<extra></extra>\",\"hovertext\":[\"Canada\",\"China\"],\"lat\":[\"56.130366\",\"35.86166\"],\"legendgroup\":\"1884\",\"lon\":[\"-106.346771\",\"104.195397\"],\"marker\":{\"color\":\"#B6E880\",\"size\":[1,1],\"sizemode\":\"area\",\"sizeref\":0.0125,\"symbol\":\"circle\"},\"mode\":\"markers\",\"name\":\"1884\",\"showlegend\":true,\"type\":\"scattergeo\"}],\"name\":\"1884\"},{\"data\":[{\"customdata\":[[1,\"1885\"]],\"geo\":\"geo\",\"hovertemplate\":\"<b>%{hovertext}</b><br><br>ccyear=%{customdata[1]}<br>class_count=%{customdata[0]}<br>cclat=%{lat}<br>cclon=%{lon}<extra></extra>\",\"hovertext\":[\"Brazil\"],\"lat\":[\"-14.235004\"],\"legendgroup\":\"1885\",\"lon\":[\"-51.92528\"],\"marker\":{\"color\":\"#FF97FF\",\"size\":[1],\"sizemode\":\"area\",\"sizeref\":0.0125,\"symbol\":\"circle\"},\"mode\":\"markers\",\"name\":\"1885\",\"showlegend\":true,\"type\":\"scattergeo\"}],\"name\":\"1885\"},{\"data\":[{\"customdata\":[[1,\"1887\"],[1,\"1887\"]],\"geo\":\"geo\",\"hovertemplate\":\"<b>%{hovertext}</b><br><br>ccyear=%{customdata[1]}<br>class_count=%{customdata[0]}<br>cclat=%{lat}<br>cclon=%{lon}<extra></extra>\",\"hovertext\":[\"China\",\"Guatemala\"],\"lat\":[\"35.86166\",\"15.783471\"],\"legendgroup\":\"1887\",\"lon\":[\"104.195397\",\"-90.230759\"],\"marker\":{\"color\":\"#FECB52\",\"size\":[1,1],\"sizemode\":\"area\",\"sizeref\":0.0125,\"symbol\":\"circle\"},\"mode\":\"markers\",\"name\":\"1887\",\"showlegend\":true,\"type\":\"scattergeo\"}],\"name\":\"1887\"},{\"data\":[{\"customdata\":[[2,\"1888\"],[1,\"1888\"],[1,\"1888\"],[1,\"1888\"]],\"geo\":\"geo\",\"hovertemplate\":\"<b>%{hovertext}</b><br><br>ccyear=%{customdata[1]}<br>class_count=%{customdata[0]}<br>cclat=%{lat}<br>cclon=%{lon}<extra></extra>\",\"hovertext\":[\"Canada\",\"Brazil\",\"Japan\",\"Belgium\"],\"lat\":[\"56.130366\",\"-14.235004\",\"36.204824\",\"50.503887\"],\"legendgroup\":\"1888\",\"lon\":[\"-106.346771\",\"-51.92528\",\"138.252924\",\"4.469936\"],\"marker\":{\"color\":\"#636efa\",\"size\":[2,1,1,1],\"sizemode\":\"area\",\"sizeref\":0.0125,\"symbol\":\"circle\"},\"mode\":\"markers\",\"name\":\"1888\",\"showlegend\":true,\"type\":\"scattergeo\"}],\"name\":\"1888\"},{\"data\":[{\"customdata\":[[1,\"1889\"]],\"geo\":\"geo\",\"hovertemplate\":\"<b>%{hovertext}</b><br><br>ccyear=%{customdata[1]}<br>class_count=%{customdata[0]}<br>cclat=%{lat}<br>cclon=%{lon}<extra></extra>\",\"hovertext\":[\"Brazil\"],\"lat\":[\"-14.235004\"],\"legendgroup\":\"1889\",\"lon\":[\"-51.92528\"],\"marker\":{\"color\":\"#EF553B\",\"size\":[1],\"sizemode\":\"area\",\"sizeref\":0.0125,\"symbol\":\"circle\"},\"mode\":\"markers\",\"name\":\"1889\",\"showlegend\":true,\"type\":\"scattergeo\"}],\"name\":\"1889\"},{\"data\":[{\"customdata\":[[1,\"1891\"]],\"geo\":\"geo\",\"hovertemplate\":\"<b>%{hovertext}</b><br><br>ccyear=%{customdata[1]}<br>class_count=%{customdata[0]}<br>cclat=%{lat}<br>cclon=%{lon}<extra></extra>\",\"hovertext\":[\"Canada\"],\"lat\":[\"56.130366\"],\"legendgroup\":\"1891\",\"lon\":[\"-106.346771\"],\"marker\":{\"color\":\"#00cc96\",\"size\":[1],\"sizemode\":\"area\",\"sizeref\":0.0125,\"symbol\":\"circle\"},\"mode\":\"markers\",\"name\":\"1891\",\"showlegend\":true,\"type\":\"scattergeo\"}],\"name\":\"1891\"},{\"data\":[{\"customdata\":[[1,\"1893\"]],\"geo\":\"geo\",\"hovertemplate\":\"<b>%{hovertext}</b><br><br>ccyear=%{customdata[1]}<br>class_count=%{customdata[0]}<br>cclat=%{lat}<br>cclon=%{lon}<extra></extra>\",\"hovertext\":[\"Japan\"],\"lat\":[\"36.204824\"],\"legendgroup\":\"1893\",\"lon\":[\"138.252924\"],\"marker\":{\"color\":\"#ab63fa\",\"size\":[1],\"sizemode\":\"area\",\"sizeref\":0.0125,\"symbol\":\"circle\"},\"mode\":\"markers\",\"name\":\"1893\",\"showlegend\":true,\"type\":\"scattergeo\"}],\"name\":\"1893\"},{\"data\":[{\"customdata\":[[4,\"1894\"],[1,\"1894\"]],\"geo\":\"geo\",\"hovertemplate\":\"<b>%{hovertext}</b><br><br>ccyear=%{customdata[1]}<br>class_count=%{customdata[0]}<br>cclat=%{lat}<br>cclon=%{lon}<extra></extra>\",\"hovertext\":[\"Canada\",\"Brazil\"],\"lat\":[\"56.130366\",\"-14.235004\"],\"legendgroup\":\"1894\",\"lon\":[\"-106.346771\",\"-51.92528\"],\"marker\":{\"color\":\"#FFA15A\",\"size\":[4,1],\"sizemode\":\"area\",\"sizeref\":0.0125,\"symbol\":\"circle\"},\"mode\":\"markers\",\"name\":\"1894\",\"showlegend\":true,\"type\":\"scattergeo\"}],\"name\":\"1894\"},{\"data\":[{\"customdata\":[[1,\"1895\"]],\"geo\":\"geo\",\"hovertemplate\":\"<b>%{hovertext}</b><br><br>ccyear=%{customdata[1]}<br>class_count=%{customdata[0]}<br>cclat=%{lat}<br>cclon=%{lon}<extra></extra>\",\"hovertext\":[\"Canada\"],\"lat\":[\"56.130366\"],\"legendgroup\":\"1895\",\"lon\":[\"-106.346771\"],\"marker\":{\"color\":\"#19d3f3\",\"size\":[1],\"sizemode\":\"area\",\"sizeref\":0.0125,\"symbol\":\"circle\"},\"mode\":\"markers\",\"name\":\"1895\",\"showlegend\":true,\"type\":\"scattergeo\"}],\"name\":\"1895\"},{\"data\":[{\"customdata\":[[1,\"1896\"],[1,\"1896\"],[1,\"1896\"]],\"geo\":\"geo\",\"hovertemplate\":\"<b>%{hovertext}</b><br><br>ccyear=%{customdata[1]}<br>class_count=%{customdata[0]}<br>cclat=%{lat}<br>cclon=%{lon}<extra></extra>\",\"hovertext\":[\"Mexico\",\"Canada\",\"Cuba\"],\"lat\":[\"23.634501\",\"56.130366\",\"21.521757\"],\"legendgroup\":\"1896\",\"lon\":[\"-102.552784\",\"-106.346771\",\"-77.781167\"],\"marker\":{\"color\":\"#FF6692\",\"size\":[1,1,1],\"sizemode\":\"area\",\"sizeref\":0.0125,\"symbol\":\"circle\"},\"mode\":\"markers\",\"name\":\"1896\",\"showlegend\":true,\"type\":\"scattergeo\"}],\"name\":\"1896\"},{\"data\":[{\"customdata\":[[1,\"1897\"]],\"geo\":\"geo\",\"hovertemplate\":\"<b>%{hovertext}</b><br><br>ccyear=%{customdata[1]}<br>class_count=%{customdata[0]}<br>cclat=%{lat}<br>cclon=%{lon}<extra></extra>\",\"hovertext\":[\"Canada\"],\"lat\":[\"56.130366\"],\"legendgroup\":\"1897\",\"lon\":[\"-106.346771\"],\"marker\":{\"color\":\"#B6E880\",\"size\":[1],\"sizemode\":\"area\",\"sizeref\":0.0125,\"symbol\":\"circle\"},\"mode\":\"markers\",\"name\":\"1897\",\"showlegend\":true,\"type\":\"scattergeo\"}],\"name\":\"1897\"},{\"data\":[{\"customdata\":[[1,\"1899\"]],\"geo\":\"geo\",\"hovertemplate\":\"<b>%{hovertext}</b><br><br>ccyear=%{customdata[1]}<br>class_count=%{customdata[0]}<br>cclat=%{lat}<br>cclon=%{lon}<extra></extra>\",\"hovertext\":[\"Puerto Rico\"],\"lat\":[\"18.220833\"],\"legendgroup\":\"1899\",\"lon\":[\"-66.590149\"],\"marker\":{\"color\":\"#FF97FF\",\"size\":[1],\"sizemode\":\"area\",\"sizeref\":0.0125,\"symbol\":\"circle\"},\"mode\":\"markers\",\"name\":\"1899\",\"showlegend\":true,\"type\":\"scattergeo\"}],\"name\":\"1899\"},{\"data\":[{\"customdata\":[[1,\"1900\"],[1,\"1900\"],[1,\"1900\"],[1,\"1900\"]],\"geo\":\"geo\",\"hovertemplate\":\"<b>%{hovertext}</b><br><br>ccyear=%{customdata[1]}<br>class_count=%{customdata[0]}<br>cclat=%{lat}<br>cclon=%{lon}<extra></extra>\",\"hovertext\":[\"United Kingdom\",\"Canada\",\"Armenia\",\"Guatemala\"],\"lat\":[\"55.378051\",\"56.130366\",\"40.069099\",\"15.783471\"],\"legendgroup\":\"1900\",\"lon\":[\"-3.435973\",\"-106.346771\",\"45.038189\",\"-90.230759\"],\"marker\":{\"color\":\"#FECB52\",\"size\":[1,1,1,1],\"sizemode\":\"area\",\"sizeref\":0.0125,\"symbol\":\"circle\"},\"mode\":\"markers\",\"name\":\"1900\",\"showlegend\":true,\"type\":\"scattergeo\"}],\"name\":\"1900\"},{\"data\":[{\"customdata\":[[1,\"1901\"]],\"geo\":\"geo\",\"hovertemplate\":\"<b>%{hovertext}</b><br><br>ccyear=%{customdata[1]}<br>class_count=%{customdata[0]}<br>cclat=%{lat}<br>cclon=%{lon}<extra></extra>\",\"hovertext\":[\"Japan\"],\"lat\":[\"36.204824\"],\"legendgroup\":\"1901\",\"lon\":[\"138.252924\"],\"marker\":{\"color\":\"#636efa\",\"size\":[1],\"sizemode\":\"area\",\"sizeref\":0.0125,\"symbol\":\"circle\"},\"mode\":\"markers\",\"name\":\"1901\",\"showlegend\":true,\"type\":\"scattergeo\"}],\"name\":\"1901\"},{\"data\":[{\"customdata\":[[1,\"1903\"]],\"geo\":\"geo\",\"hovertemplate\":\"<b>%{hovertext}</b><br><br>ccyear=%{customdata[1]}<br>class_count=%{customdata[0]}<br>cclat=%{lat}<br>cclon=%{lon}<extra></extra>\",\"hovertext\":[\"Brazil\"],\"lat\":[\"-14.235004\"],\"legendgroup\":\"1903\",\"lon\":[\"-51.92528\"],\"marker\":{\"color\":\"#EF553B\",\"size\":[1],\"sizemode\":\"area\",\"sizeref\":0.0125,\"symbol\":\"circle\"},\"mode\":\"markers\",\"name\":\"1903\",\"showlegend\":true,\"type\":\"scattergeo\"}],\"name\":\"1903\"},{\"data\":[{\"customdata\":[[1,\"1904\"]],\"geo\":\"geo\",\"hovertemplate\":\"<b>%{hovertext}</b><br><br>ccyear=%{customdata[1]}<br>class_count=%{customdata[0]}<br>cclat=%{lat}<br>cclon=%{lon}<extra></extra>\",\"hovertext\":[\"Canada\"],\"lat\":[\"56.130366\"],\"legendgroup\":\"1904\",\"lon\":[\"-106.346771\"],\"marker\":{\"color\":\"#00cc96\",\"size\":[1],\"sizemode\":\"area\",\"sizeref\":0.0125,\"symbol\":\"circle\"},\"mode\":\"markers\",\"name\":\"1904\",\"showlegend\":true,\"type\":\"scattergeo\"}],\"name\":\"1904\"},{\"data\":[{\"customdata\":[[1,\"1905\"],[1,\"1905\"],[1,\"1905\"]],\"geo\":\"geo\",\"hovertemplate\":\"<b>%{hovertext}</b><br><br>ccyear=%{customdata[1]}<br>class_count=%{customdata[0]}<br>cclat=%{lat}<br>cclon=%{lon}<extra></extra>\",\"hovertext\":[\"Australia\",\"Mexico\",\"Canada\"],\"lat\":[\"-25.274398\",\"23.634501\",\"56.130366\"],\"legendgroup\":\"1905\",\"lon\":[\"133.775136\",\"-102.552784\",\"-106.346771\"],\"marker\":{\"color\":\"#ab63fa\",\"size\":[1,1,1],\"sizemode\":\"area\",\"sizeref\":0.0125,\"symbol\":\"circle\"},\"mode\":\"markers\",\"name\":\"1905\",\"showlegend\":true,\"type\":\"scattergeo\"}],\"name\":\"1905\"},{\"data\":[{\"customdata\":[[2,\"1906\"],[1,\"1906\"],[1,\"1906\"],[1,\"1906\"],[1,\"1906\"]],\"geo\":\"geo\",\"hovertemplate\":\"<b>%{hovertext}</b><br><br>ccyear=%{customdata[1]}<br>class_count=%{customdata[0]}<br>cclat=%{lat}<br>cclon=%{lon}<extra></extra>\",\"hovertext\":[\"Australia\",\"Cuba\",\"Sweden\",\"Puerto Rico\",\"Ireland\"],\"lat\":[\"-25.274398\",\"21.521757\",\"60.128161\",\"18.220833\",\"53.41291\"],\"legendgroup\":\"1906\",\"lon\":[\"133.775136\",\"-77.781167\",\"18.643501\",\"-66.590149\",\"-8.24389\"],\"marker\":{\"color\":\"#FFA15A\",\"size\":[2,1,1,1,1],\"sizemode\":\"area\",\"sizeref\":0.0125,\"symbol\":\"circle\"},\"mode\":\"markers\",\"name\":\"1906\",\"showlegend\":true,\"type\":\"scattergeo\"}],\"name\":\"1906\"},{\"data\":[{\"customdata\":[[1,\"1907\"],[1,\"1907\"],[2,\"1907\"]],\"geo\":\"geo\",\"hovertemplate\":\"<b>%{hovertext}</b><br><br>ccyear=%{customdata[1]}<br>class_count=%{customdata[0]}<br>cclat=%{lat}<br>cclon=%{lon}<extra></extra>\",\"hovertext\":[\"Mexico\",\"Cuba\",\"Australia\"],\"lat\":[\"23.634501\",\"21.521757\",\"-25.274398\"],\"legendgroup\":\"1907\",\"lon\":[\"-102.552784\",\"-77.781167\",\"133.775136\"],\"marker\":{\"color\":\"#19d3f3\",\"size\":[1,1,2],\"sizemode\":\"area\",\"sizeref\":0.0125,\"symbol\":\"circle\"},\"mode\":\"markers\",\"name\":\"1907\",\"showlegend\":true,\"type\":\"scattergeo\"}],\"name\":\"1907\"},{\"data\":[{\"customdata\":[[1,\"1908\"]],\"geo\":\"geo\",\"hovertemplate\":\"<b>%{hovertext}</b><br><br>ccyear=%{customdata[1]}<br>class_count=%{customdata[0]}<br>cclat=%{lat}<br>cclon=%{lon}<extra></extra>\",\"hovertext\":[\"Australia\"],\"lat\":[\"-25.274398\"],\"legendgroup\":\"1908\",\"lon\":[\"133.775136\"],\"marker\":{\"color\":\"#FF6692\",\"size\":[1],\"sizemode\":\"area\",\"sizeref\":0.0125,\"symbol\":\"circle\"},\"mode\":\"markers\",\"name\":\"1908\",\"showlegend\":true,\"type\":\"scattergeo\"}],\"name\":\"1908\"},{\"data\":[{\"customdata\":[[1,\"1909\"],[1,\"1909\"],[1,\"1909\"],[2,\"1909\"],[1,\"1909\"]],\"geo\":\"geo\",\"hovertemplate\":\"<b>%{hovertext}</b><br><br>ccyear=%{customdata[1]}<br>class_count=%{customdata[0]}<br>cclat=%{lat}<br>cclon=%{lon}<extra></extra>\",\"hovertext\":[\"Mexico\",\"Cuba\",\"Japan\",\"Canada\",\"Ireland\"],\"lat\":[\"23.634501\",\"21.521757\",\"36.204824\",\"56.130366\",\"53.41291\"],\"legendgroup\":\"1909\",\"lon\":[\"-102.552784\",\"-77.781167\",\"138.252924\",\"-106.346771\",\"-8.24389\"],\"marker\":{\"color\":\"#B6E880\",\"size\":[1,1,1,2,1],\"sizemode\":\"area\",\"sizeref\":0.0125,\"symbol\":\"circle\"},\"mode\":\"markers\",\"name\":\"1909\",\"showlegend\":true,\"type\":\"scattergeo\"}],\"name\":\"1909\"},{\"data\":[{\"customdata\":[[1,\"1910\"],[1,\"1910\"],[1,\"1910\"]],\"geo\":\"geo\",\"hovertemplate\":\"<b>%{hovertext}</b><br><br>ccyear=%{customdata[1]}<br>class_count=%{customdata[0]}<br>cclat=%{lat}<br>cclon=%{lon}<extra></extra>\",\"hovertext\":[\"United Kingdom\",\"nan\",\"Brazil\"],\"lat\":[\"55.378051\",\"nan\",\"-14.235004\"],\"legendgroup\":\"1910\",\"lon\":[\"-3.435973\",\"nan\",\"-51.92528\"],\"marker\":{\"color\":\"#FF97FF\",\"size\":[1,1,1],\"sizemode\":\"area\",\"sizeref\":0.0125,\"symbol\":\"circle\"},\"mode\":\"markers\",\"name\":\"1910\",\"showlegend\":true,\"type\":\"scattergeo\"}],\"name\":\"1910\"},{\"data\":[{\"customdata\":[[1,\"1911\"],[2,\"1911\"],[1,\"1911\"],[1,\"1911\"]],\"geo\":\"geo\",\"hovertemplate\":\"<b>%{hovertext}</b><br><br>ccyear=%{customdata[1]}<br>class_count=%{customdata[0]}<br>cclat=%{lat}<br>cclon=%{lon}<extra></extra>\",\"hovertext\":[\"Turkey\",\"Puerto Rico\",\"Canada\",\"China\"],\"lat\":[\"38.963745\",\"18.220833\",\"56.130366\",\"35.86166\"],\"legendgroup\":\"1911\",\"lon\":[\"35.243322\",\"-66.590149\",\"-106.346771\",\"104.195397\"],\"marker\":{\"color\":\"#FECB52\",\"size\":[1,2,1,1],\"sizemode\":\"area\",\"sizeref\":0.0125,\"symbol\":\"circle\"},\"mode\":\"markers\",\"name\":\"1911\",\"showlegend\":true,\"type\":\"scattergeo\"}],\"name\":\"1911\"},{\"data\":[{\"customdata\":[[1,\"1912\"],[1,\"1912\"]],\"geo\":\"geo\",\"hovertemplate\":\"<b>%{hovertext}</b><br><br>ccyear=%{customdata[1]}<br>class_count=%{customdata[0]}<br>cclat=%{lat}<br>cclon=%{lon}<extra></extra>\",\"hovertext\":[\"Puerto Rico\",\"Argentina\"],\"lat\":[\"18.220833\",\"-38.416097\"],\"legendgroup\":\"1912\",\"lon\":[\"-66.590149\",\"-63.616672\"],\"marker\":{\"color\":\"#636efa\",\"size\":[1,1],\"sizemode\":\"area\",\"sizeref\":0.0125,\"symbol\":\"circle\"},\"mode\":\"markers\",\"name\":\"1912\",\"showlegend\":true,\"type\":\"scattergeo\"}],\"name\":\"1912\"},{\"data\":[{\"customdata\":[[1,\"1913\"],[1,\"1913\"]],\"geo\":\"geo\",\"hovertemplate\":\"<b>%{hovertext}</b><br><br>ccyear=%{customdata[1]}<br>class_count=%{customdata[0]}<br>cclat=%{lat}<br>cclon=%{lon}<extra></extra>\",\"hovertext\":[\"Canada\",\"Italy\"],\"lat\":[\"56.130366\",\"41.87194\"],\"legendgroup\":\"1913\",\"lon\":[\"-106.346771\",\"12.56738\"],\"marker\":{\"color\":\"#EF553B\",\"size\":[1,1],\"sizemode\":\"area\",\"sizeref\":0.0125,\"symbol\":\"circle\"},\"mode\":\"markers\",\"name\":\"1913\",\"showlegend\":true,\"type\":\"scattergeo\"}],\"name\":\"1913\"},{\"data\":[{\"customdata\":[[1,\"1914\"],[1,\"1914\"],[4,\"1914\"]],\"geo\":\"geo\",\"hovertemplate\":\"<b>%{hovertext}</b><br><br>ccyear=%{customdata[1]}<br>class_count=%{customdata[0]}<br>cclat=%{lat}<br>cclon=%{lon}<extra></extra>\",\"hovertext\":[\"Puerto Rico\",\"Syria\",\"China\"],\"lat\":[\"18.220833\",\"34.802075\",\"35.86166\"],\"legendgroup\":\"1914\",\"lon\":[\"-66.590149\",\"38.996815\",\"104.195397\"],\"marker\":{\"color\":\"#00cc96\",\"size\":[1,1,4],\"sizemode\":\"area\",\"sizeref\":0.0125,\"symbol\":\"circle\"},\"mode\":\"markers\",\"name\":\"1914\",\"showlegend\":true,\"type\":\"scattergeo\"}],\"name\":\"1914\"},{\"data\":[{\"customdata\":[[1,\"1915\"],[1,\"1915\"]],\"geo\":\"geo\",\"hovertemplate\":\"<b>%{hovertext}</b><br><br>ccyear=%{customdata[1]}<br>class_count=%{customdata[0]}<br>cclat=%{lat}<br>cclon=%{lon}<extra></extra>\",\"hovertext\":[\"Canada\",\"Puerto Rico\"],\"lat\":[\"56.130366\",\"18.220833\"],\"legendgroup\":\"1915\",\"lon\":[\"-106.346771\",\"-66.590149\"],\"marker\":{\"color\":\"#ab63fa\",\"size\":[1,1],\"sizemode\":\"area\",\"sizeref\":0.0125,\"symbol\":\"circle\"},\"mode\":\"markers\",\"name\":\"1915\",\"showlegend\":true,\"type\":\"scattergeo\"}],\"name\":\"1915\"},{\"data\":[{\"customdata\":[[2,\"1916\"],[1,\"1916\"],[1,\"1916\"]],\"geo\":\"geo\",\"hovertemplate\":\"<b>%{hovertext}</b><br><br>ccyear=%{customdata[1]}<br>class_count=%{customdata[0]}<br>cclat=%{lat}<br>cclon=%{lon}<extra></extra>\",\"hovertext\":[\"China\",\"Brazil\",\"Cuba\"],\"lat\":[\"35.86166\",\"-14.235004\",\"21.521757\"],\"legendgroup\":\"1916\",\"lon\":[\"104.195397\",\"-51.92528\",\"-77.781167\"],\"marker\":{\"color\":\"#FFA15A\",\"size\":[2,1,1],\"sizemode\":\"area\",\"sizeref\":0.0125,\"symbol\":\"circle\"},\"mode\":\"markers\",\"name\":\"1916\",\"showlegend\":true,\"type\":\"scattergeo\"}],\"name\":\"1916\"},{\"data\":[{\"customdata\":[[1,\"1917\"],[1,\"1917\"],[1,\"1917\"],[2,\"1917\"],[1,\"1917\"]],\"geo\":\"geo\",\"hovertemplate\":\"<b>%{hovertext}</b><br><br>ccyear=%{customdata[1]}<br>class_count=%{customdata[0]}<br>cclat=%{lat}<br>cclon=%{lon}<extra></extra>\",\"hovertext\":[\"Myanmar\",\"Costa Rica\",\"Turkey\",\"China\",\"Armenia\"],\"lat\":[\"21.913965\",\"9.748917\",\"38.963745\",\"35.86166\",\"40.069099\"],\"legendgroup\":\"1917\",\"lon\":[\"95.956223\",\"-83.753428\",\"35.243322\",\"104.195397\",\"45.038189\"],\"marker\":{\"color\":\"#19d3f3\",\"size\":[1,1,1,2,1],\"sizemode\":\"area\",\"sizeref\":0.0125,\"symbol\":\"circle\"},\"mode\":\"markers\",\"name\":\"1917\",\"showlegend\":true,\"type\":\"scattergeo\"}],\"name\":\"1917\"},{\"data\":[{\"customdata\":[[1,\"1918\"],[3,\"1918\"],[1,\"1918\"],[1,\"1918\"]],\"geo\":\"geo\",\"hovertemplate\":\"<b>%{hovertext}</b><br><br>ccyear=%{customdata[1]}<br>class_count=%{customdata[0]}<br>cclat=%{lat}<br>cclon=%{lon}<extra></extra>\",\"hovertext\":[\"Panama\",\"China\",\"Greece\",\"Cuba\"],\"lat\":[\"8.537981\",\"35.86166\",\"39.074208\",\"21.521757\"],\"legendgroup\":\"1918\",\"lon\":[\"-80.782127\",\"104.195397\",\"21.824312\",\"-77.781167\"],\"marker\":{\"color\":\"#FF6692\",\"size\":[1,3,1,1],\"sizemode\":\"area\",\"sizeref\":0.0125,\"symbol\":\"circle\"},\"mode\":\"markers\",\"name\":\"1918\",\"showlegend\":true,\"type\":\"scattergeo\"}],\"name\":\"1918\"},{\"data\":[{\"customdata\":[[1,\"1919\"]],\"geo\":\"geo\",\"hovertemplate\":\"<b>%{hovertext}</b><br><br>ccyear=%{customdata[1]}<br>class_count=%{customdata[0]}<br>cclat=%{lat}<br>cclon=%{lon}<extra></extra>\",\"hovertext\":[\"China\"],\"lat\":[\"35.86166\"],\"legendgroup\":\"1919\",\"lon\":[\"104.195397\"],\"marker\":{\"color\":\"#B6E880\",\"size\":[1],\"sizemode\":\"area\",\"sizeref\":0.0125,\"symbol\":\"circle\"},\"mode\":\"markers\",\"name\":\"1919\",\"showlegend\":true,\"type\":\"scattergeo\"}],\"name\":\"1919\"},{\"data\":[{\"customdata\":[[5,\"1920\"],[1,\"1920\"]],\"geo\":\"geo\",\"hovertemplate\":\"<b>%{hovertext}</b><br><br>ccyear=%{customdata[1]}<br>class_count=%{customdata[0]}<br>cclat=%{lat}<br>cclon=%{lon}<extra></extra>\",\"hovertext\":[\"China\",\"Syria\"],\"lat\":[\"35.86166\",\"34.802075\"],\"legendgroup\":\"1920\",\"lon\":[\"104.195397\",\"38.996815\"],\"marker\":{\"color\":\"#FF97FF\",\"size\":[5,1],\"sizemode\":\"area\",\"sizeref\":0.0125,\"symbol\":\"circle\"},\"mode\":\"markers\",\"name\":\"1920\",\"showlegend\":true,\"type\":\"scattergeo\"}],\"name\":\"1920\"},{\"data\":[{\"customdata\":[[1,\"1921\"],[1,\"1921\"],[2,\"1921\"],[1,\"1921\"],[1,\"1921\"],[1,\"1921\"],[1,\"1921\"]],\"geo\":\"geo\",\"hovertemplate\":\"<b>%{hovertext}</b><br><br>ccyear=%{customdata[1]}<br>class_count=%{customdata[0]}<br>cclat=%{lat}<br>cclon=%{lon}<extra></extra>\",\"hovertext\":[\"Canada\",\"Brazil\",\"Chile\",\"Germany\",\"France\",\"Sweden\",\"China\"],\"lat\":[\"56.130366\",\"-14.235004\",\"-35.675147\",\"51.165691\",\"46.227638\",\"60.128161\",\"35.86166\"],\"legendgroup\":\"1921\",\"lon\":[\"-106.346771\",\"-51.92528\",\"-71.542969\",\"10.451526\",\"2.213749\",\"18.643501\",\"104.195397\"],\"marker\":{\"color\":\"#FECB52\",\"size\":[1,1,2,1,1,1,1],\"sizemode\":\"area\",\"sizeref\":0.0125,\"symbol\":\"circle\"},\"mode\":\"markers\",\"name\":\"1921\",\"showlegend\":true,\"type\":\"scattergeo\"}],\"name\":\"1921\"},{\"data\":[{\"customdata\":[[1,\"1922\"],[1,\"1922\"],[1,\"1922\"],[1,\"1922\"]],\"geo\":\"geo\",\"hovertemplate\":\"<b>%{hovertext}</b><br><br>ccyear=%{customdata[1]}<br>class_count=%{customdata[0]}<br>cclat=%{lat}<br>cclon=%{lon}<extra></extra>\",\"hovertext\":[\"Canada\",\"South Korea\",\"China\",\"Colombia\"],\"lat\":[\"56.130366\",\"35.907757\",\"35.86166\",\"4.570868\"],\"legendgroup\":\"1922\",\"lon\":[\"-106.346771\",\"127.766922\",\"104.195397\",\"-74.297333\"],\"marker\":{\"color\":\"#636efa\",\"size\":[1,1,1,1],\"sizemode\":\"area\",\"sizeref\":0.0125,\"symbol\":\"circle\"},\"mode\":\"markers\",\"name\":\"1922\",\"showlegend\":true,\"type\":\"scattergeo\"}],\"name\":\"1922\"},{\"data\":[{\"customdata\":[[1,\"1923\"],[1,\"1923\"],[1,\"1923\"],[2,\"1923\"]],\"geo\":\"geo\",\"hovertemplate\":\"<b>%{hovertext}</b><br><br>ccyear=%{customdata[1]}<br>class_count=%{customdata[0]}<br>cclat=%{lat}<br>cclon=%{lon}<extra></extra>\",\"hovertext\":[\"Indonesia\",\"Italy\",\"Russia\",\"China\"],\"lat\":[\"-0.789275\",\"41.87194\",\"61.52401\",\"35.86166\"],\"legendgroup\":\"1923\",\"lon\":[\"113.921327\",\"12.56738\",\"105.318756\",\"104.195397\"],\"marker\":{\"color\":\"#EF553B\",\"size\":[1,1,1,2],\"sizemode\":\"area\",\"sizeref\":0.0125,\"symbol\":\"circle\"},\"mode\":\"markers\",\"name\":\"1923\",\"showlegend\":true,\"type\":\"scattergeo\"}],\"name\":\"1923\"},{\"data\":[{\"customdata\":[[1,\"1924\"],[2,\"1924\"],[1,\"1924\"],[2,\"1924\"]],\"geo\":\"geo\",\"hovertemplate\":\"<b>%{hovertext}</b><br><br>ccyear=%{customdata[1]}<br>class_count=%{customdata[0]}<br>cclat=%{lat}<br>cclon=%{lon}<extra></extra>\",\"hovertext\":[\"Sweden\",\"China\",\"Indonesia\",\"Uruguay\"],\"lat\":[\"60.128161\",\"35.86166\",\"-0.789275\",\"-32.522779\"],\"legendgroup\":\"1924\",\"lon\":[\"18.643501\",\"104.195397\",\"113.921327\",\"-55.765835\"],\"marker\":{\"color\":\"#00cc96\",\"size\":[1,2,1,2],\"sizemode\":\"area\",\"sizeref\":0.0125,\"symbol\":\"circle\"},\"mode\":\"markers\",\"name\":\"1924\",\"showlegend\":true,\"type\":\"scattergeo\"}],\"name\":\"1924\"},{\"data\":[{\"customdata\":[[3,\"1925\"],[1,\"1925\"],[1,\"1925\"],[1,\"1925\"],[2,\"1925\"],[1,\"1925\"],[2,\"1925\"]],\"geo\":\"geo\",\"hovertemplate\":\"<b>%{hovertext}</b><br><br>ccyear=%{customdata[1]}<br>class_count=%{customdata[0]}<br>cclat=%{lat}<br>cclon=%{lon}<extra></extra>\",\"hovertext\":[\"Sweden\",\"Austria\",\"Norway\",\"China\",\"Russia\",\"Japan\",\"Canada\"],\"lat\":[\"60.128161\",\"47.516231\",\"60.472024\",\"35.86166\",\"61.52401\",\"36.204824\",\"56.130366\"],\"legendgroup\":\"1925\",\"lon\":[\"18.643501\",\"14.550072\",\"8.468946\",\"104.195397\",\"105.318756\",\"138.252924\",\"-106.346771\"],\"marker\":{\"color\":\"#ab63fa\",\"size\":[3,1,1,1,2,1,2],\"sizemode\":\"area\",\"sizeref\":0.0125,\"symbol\":\"circle\"},\"mode\":\"markers\",\"name\":\"1925\",\"showlegend\":true,\"type\":\"scattergeo\"}],\"name\":\"1925\"},{\"data\":[{\"customdata\":[[1,\"1926\"],[1,\"1926\"],[1,\"1926\"]],\"geo\":\"geo\",\"hovertemplate\":\"<b>%{hovertext}</b><br><br>ccyear=%{customdata[1]}<br>class_count=%{customdata[0]}<br>cclat=%{lat}<br>cclon=%{lon}<extra></extra>\",\"hovertext\":[\"Israel\",\"France\",\"Spain\"],\"lat\":[\"31.046051\",\"46.227638\",\"40.463667\"],\"legendgroup\":\"1926\",\"lon\":[\"34.851612\",\"2.213749\",\"-3.74922\"],\"marker\":{\"color\":\"#FFA15A\",\"size\":[1,1,1],\"sizemode\":\"area\",\"sizeref\":0.0125,\"symbol\":\"circle\"},\"mode\":\"markers\",\"name\":\"1926\",\"showlegend\":true,\"type\":\"scattergeo\"}],\"name\":\"1926\"},{\"data\":[{\"customdata\":[[1,\"1927\"],[1,\"1927\"],[1,\"1927\"]],\"geo\":\"geo\",\"hovertemplate\":\"<b>%{hovertext}</b><br><br>ccyear=%{customdata[1]}<br>class_count=%{customdata[0]}<br>cclat=%{lat}<br>cclon=%{lon}<extra></extra>\",\"hovertext\":[\"Canada\",\"China\",\"Russia\"],\"lat\":[\"56.130366\",\"35.86166\",\"61.52401\"],\"legendgroup\":\"1927\",\"lon\":[\"-106.346771\",\"104.195397\",\"105.318756\"],\"marker\":{\"color\":\"#19d3f3\",\"size\":[1,1,1],\"sizemode\":\"area\",\"sizeref\":0.0125,\"symbol\":\"circle\"},\"mode\":\"markers\",\"name\":\"1927\",\"showlegend\":true,\"type\":\"scattergeo\"}],\"name\":\"1927\"},{\"data\":[{\"customdata\":[[1,\"1928\"],[1,\"1928\"],[1,\"1928\"]],\"geo\":\"geo\",\"hovertemplate\":\"<b>%{hovertext}</b><br><br>ccyear=%{customdata[1]}<br>class_count=%{customdata[0]}<br>cclat=%{lat}<br>cclon=%{lon}<extra></extra>\",\"hovertext\":[\"Russia\",\"Bulgaria\",\"Canada\"],\"lat\":[\"61.52401\",\"42.733883\",\"56.130366\"],\"legendgroup\":\"1928\",\"lon\":[\"105.318756\",\"25.48583\",\"-106.346771\"],\"marker\":{\"color\":\"#FF6692\",\"size\":[1,1,1],\"sizemode\":\"area\",\"sizeref\":0.0125,\"symbol\":\"circle\"},\"mode\":\"markers\",\"name\":\"1928\",\"showlegend\":true,\"type\":\"scattergeo\"}],\"name\":\"1928\"},{\"data\":[{\"customdata\":[[1,\"1929\"]],\"geo\":\"geo\",\"hovertemplate\":\"<b>%{hovertext}</b><br><br>ccyear=%{customdata[1]}<br>class_count=%{customdata[0]}<br>cclat=%{lat}<br>cclon=%{lon}<extra></extra>\",\"hovertext\":[\"Canada\"],\"lat\":[\"56.130366\"],\"legendgroup\":\"1929\",\"lon\":[\"-106.346771\"],\"marker\":{\"color\":\"#B6E880\",\"size\":[1],\"sizemode\":\"area\",\"sizeref\":0.0125,\"symbol\":\"circle\"},\"mode\":\"markers\",\"name\":\"1929\",\"showlegend\":true,\"type\":\"scattergeo\"}],\"name\":\"1929\"},{\"data\":[{\"customdata\":[[2,\"1930\"],[2,\"1930\"],[1,\"1930\"],[1,\"1930\"]],\"geo\":\"geo\",\"hovertemplate\":\"<b>%{hovertext}</b><br><br>ccyear=%{customdata[1]}<br>class_count=%{customdata[0]}<br>cclat=%{lat}<br>cclon=%{lon}<extra></extra>\",\"hovertext\":[\"Sweden\",\"Puerto Rico\",\"Japan\",\"United Kingdom\"],\"lat\":[\"60.128161\",\"18.220833\",\"36.204824\",\"55.378051\"],\"legendgroup\":\"1930\",\"lon\":[\"18.643501\",\"-66.590149\",\"138.252924\",\"-3.435973\"],\"marker\":{\"color\":\"#FF97FF\",\"size\":[2,2,1,1],\"sizemode\":\"area\",\"sizeref\":0.0125,\"symbol\":\"circle\"},\"mode\":\"markers\",\"name\":\"1930\",\"showlegend\":true,\"type\":\"scattergeo\"}],\"name\":\"1930\"},{\"data\":[{\"customdata\":[[1,\"1931\"],[1,\"1931\"],[2,\"1931\"]],\"geo\":\"geo\",\"hovertemplate\":\"<b>%{hovertext}</b><br><br>ccyear=%{customdata[1]}<br>class_count=%{customdata[0]}<br>cclat=%{lat}<br>cclon=%{lon}<extra></extra>\",\"hovertext\":[\"Thailand\",\"Canada\",\"India\"],\"lat\":[\"15.870032\",\"56.130366\",\"20.593684\"],\"legendgroup\":\"1931\",\"lon\":[\"100.992541\",\"-106.346771\",\"78.96288\"],\"marker\":{\"color\":\"#FECB52\",\"size\":[1,1,2],\"sizemode\":\"area\",\"sizeref\":0.0125,\"symbol\":\"circle\"},\"mode\":\"markers\",\"name\":\"1931\",\"showlegend\":true,\"type\":\"scattergeo\"}],\"name\":\"1931\"},{\"data\":[{\"customdata\":[[2,\"1932\"],[1,\"1932\"],[1,\"1932\"],[1,\"1932\"],[1,\"1932\"],[1,\"1932\"],[1,\"1932\"],[1,\"1932\"]],\"geo\":\"geo\",\"hovertemplate\":\"<b>%{hovertext}</b><br><br>ccyear=%{customdata[1]}<br>class_count=%{customdata[0]}<br>cclat=%{lat}<br>cclon=%{lon}<extra></extra>\",\"hovertext\":[\"Canada\",\"United Kingdom\",\"Israel\",\"China\",\"Republic of North Macedonia\",\"Greece\",\"Russia\",\"Guatemala\"],\"lat\":[\"56.130366\",\"55.378051\",\"31.046051\",\"35.86166\",\"41.608635\",\"39.074208\",\"61.52401\",\"15.783471\"],\"legendgroup\":\"1932\",\"lon\":[\"-106.346771\",\"-3.435973\",\"34.851612\",\"104.195397\",\"21.745275\",\"21.824312\",\"105.318756\",\"-90.230759\"],\"marker\":{\"color\":\"#636efa\",\"size\":[2,1,1,1,1,1,1,1],\"sizemode\":\"area\",\"sizeref\":0.0125,\"symbol\":\"circle\"},\"mode\":\"markers\",\"name\":\"1932\",\"showlegend\":true,\"type\":\"scattergeo\"}],\"name\":\"1932\"},{\"data\":[{\"customdata\":[[1,\"1933\"]],\"geo\":\"geo\",\"hovertemplate\":\"<b>%{hovertext}</b><br><br>ccyear=%{customdata[1]}<br>class_count=%{customdata[0]}<br>cclat=%{lat}<br>cclon=%{lon}<extra></extra>\",\"hovertext\":[\"Canada\"],\"lat\":[\"56.130366\"],\"legendgroup\":\"1933\",\"lon\":[\"-106.346771\"],\"marker\":{\"color\":\"#EF553B\",\"size\":[1],\"sizemode\":\"area\",\"sizeref\":0.0125,\"symbol\":\"circle\"},\"mode\":\"markers\",\"name\":\"1933\",\"showlegend\":true,\"type\":\"scattergeo\"}],\"name\":\"1933\"},{\"data\":[{\"customdata\":[[1,\"1935\"]],\"geo\":\"geo\",\"hovertemplate\":\"<b>%{hovertext}</b><br><br>ccyear=%{customdata[1]}<br>class_count=%{customdata[0]}<br>cclat=%{lat}<br>cclon=%{lon}<extra></extra>\",\"hovertext\":[\"Armenia\"],\"lat\":[\"40.069099\"],\"legendgroup\":\"1935\",\"lon\":[\"45.038189\"],\"marker\":{\"color\":\"#00cc96\",\"size\":[1],\"sizemode\":\"area\",\"sizeref\":0.0125,\"symbol\":\"circle\"},\"mode\":\"markers\",\"name\":\"1935\",\"showlegend\":true,\"type\":\"scattergeo\"}],\"name\":\"1935\"},{\"data\":[{\"customdata\":[[1,\"1936\"]],\"geo\":\"geo\",\"hovertemplate\":\"<b>%{hovertext}</b><br><br>ccyear=%{customdata[1]}<br>class_count=%{customdata[0]}<br>cclat=%{lat}<br>cclon=%{lon}<extra></extra>\",\"hovertext\":[\"India\"],\"lat\":[\"20.593684\"],\"legendgroup\":\"1936\",\"lon\":[\"78.96288\"],\"marker\":{\"color\":\"#ab63fa\",\"size\":[1],\"sizemode\":\"area\",\"sizeref\":0.0125,\"symbol\":\"circle\"},\"mode\":\"markers\",\"name\":\"1936\",\"showlegend\":true,\"type\":\"scattergeo\"}],\"name\":\"1936\"},{\"data\":[{\"customdata\":[[1,\"1938\"]],\"geo\":\"geo\",\"hovertemplate\":\"<b>%{hovertext}</b><br><br>ccyear=%{customdata[1]}<br>class_count=%{customdata[0]}<br>cclat=%{lat}<br>cclon=%{lon}<extra></extra>\",\"hovertext\":[\"Panama\"],\"lat\":[\"8.537981\"],\"legendgroup\":\"1938\",\"lon\":[\"-80.782127\"],\"marker\":{\"color\":\"#FFA15A\",\"size\":[1],\"sizemode\":\"area\",\"sizeref\":0.0125,\"symbol\":\"circle\"},\"mode\":\"markers\",\"name\":\"1938\",\"showlegend\":true,\"type\":\"scattergeo\"}],\"name\":\"1938\"},{\"data\":[{\"customdata\":[[1,\"1939\"],[2,\"1939\"]],\"geo\":\"geo\",\"hovertemplate\":\"<b>%{hovertext}</b><br><br>ccyear=%{customdata[1]}<br>class_count=%{customdata[0]}<br>cclat=%{lat}<br>cclon=%{lon}<extra></extra>\",\"hovertext\":[\"Panama\",\"India\"],\"lat\":[\"8.537981\",\"20.593684\"],\"legendgroup\":\"1939\",\"lon\":[\"-80.782127\",\"78.96288\"],\"marker\":{\"color\":\"#19d3f3\",\"size\":[1,2],\"sizemode\":\"area\",\"sizeref\":0.0125,\"symbol\":\"circle\"},\"mode\":\"markers\",\"name\":\"1939\",\"showlegend\":true,\"type\":\"scattergeo\"}],\"name\":\"1939\"},{\"data\":[{\"customdata\":[[1,\"1940\"]],\"geo\":\"geo\",\"hovertemplate\":\"<b>%{hovertext}</b><br><br>ccyear=%{customdata[1]}<br>class_count=%{customdata[0]}<br>cclat=%{lat}<br>cclon=%{lon}<extra></extra>\",\"hovertext\":[\"Thailand\"],\"lat\":[\"15.870032\"],\"legendgroup\":\"1940\",\"lon\":[\"100.992541\"],\"marker\":{\"color\":\"#FF6692\",\"size\":[1],\"sizemode\":\"area\",\"sizeref\":0.0125,\"symbol\":\"circle\"},\"mode\":\"markers\",\"name\":\"1940\",\"showlegend\":true,\"type\":\"scattergeo\"}],\"name\":\"1940\"},{\"data\":[{\"customdata\":[[1,\"1941\"],[1,\"1941\"],[1,\"1941\"],[1,\"1941\"]],\"geo\":\"geo\",\"hovertemplate\":\"<b>%{hovertext}</b><br><br>ccyear=%{customdata[1]}<br>class_count=%{customdata[0]}<br>cclat=%{lat}<br>cclon=%{lon}<extra></extra>\",\"hovertext\":[\"Colombia\",\"Puerto Rico\",\"Czech Republic\",\"Panama\"],\"lat\":[\"4.570868\",\"18.220833\",\"49.817492\",\"8.537981\"],\"legendgroup\":\"1941\",\"lon\":[\"-74.297333\",\"-66.590149\",\"15.472962\",\"-80.782127\"],\"marker\":{\"color\":\"#B6E880\",\"size\":[1,1,1,1],\"sizemode\":\"area\",\"sizeref\":0.0125,\"symbol\":\"circle\"},\"mode\":\"markers\",\"name\":\"1941\",\"showlegend\":true,\"type\":\"scattergeo\"}],\"name\":\"1941\"},{\"data\":[{\"customdata\":[[1,\"1942\"],[1,\"1942\"]],\"geo\":\"geo\",\"hovertemplate\":\"<b>%{hovertext}</b><br><br>ccyear=%{customdata[1]}<br>class_count=%{customdata[0]}<br>cclat=%{lat}<br>cclon=%{lon}<extra></extra>\",\"hovertext\":[\"Puerto Rico\",\"China\"],\"lat\":[\"18.220833\",\"35.86166\"],\"legendgroup\":\"1942\",\"lon\":[\"-66.590149\",\"104.195397\"],\"marker\":{\"color\":\"#FF97FF\",\"size\":[1,1],\"sizemode\":\"area\",\"sizeref\":0.0125,\"symbol\":\"circle\"},\"mode\":\"markers\",\"name\":\"1942\",\"showlegend\":true,\"type\":\"scattergeo\"}],\"name\":\"1942\"},{\"data\":[{\"customdata\":[[1,\"1943\"],[1,\"1943\"],[1,\"1943\"],[1,\"1943\"]],\"geo\":\"geo\",\"hovertemplate\":\"<b>%{hovertext}</b><br><br>ccyear=%{customdata[1]}<br>class_count=%{customdata[0]}<br>cclat=%{lat}<br>cclon=%{lon}<extra></extra>\",\"hovertext\":[\"Philippines\",\"Turkey\",\"India\",\"Canada\"],\"lat\":[\"12.879721\",\"38.963745\",\"20.593684\",\"56.130366\"],\"legendgroup\":\"1943\",\"lon\":[\"121.774017\",\"35.243322\",\"78.96288\",\"-106.346771\"],\"marker\":{\"color\":\"#FECB52\",\"size\":[1,1,1,1],\"sizemode\":\"area\",\"sizeref\":0.0125,\"symbol\":\"circle\"},\"mode\":\"markers\",\"name\":\"1943\",\"showlegend\":true,\"type\":\"scattergeo\"}],\"name\":\"1943\"}]);\n",
       "                        }).then(function(){\n",
       "                            \n",
       "var gd = document.getElementById('89161736-0c6b-4b7e-bbde-634c33c81303');\n",
       "var x = new MutationObserver(function (mutations, observer) {{\n",
       "        var display = window.getComputedStyle(gd).display;\n",
       "        if (!display || display === 'none') {{\n",
       "            console.log([gd, 'removed!']);\n",
       "            Plotly.purge(gd);\n",
       "            observer.disconnect();\n",
       "        }}\n",
       "}});\n",
       "\n",
       "// Listen for the removal of the full notebook cells\n",
       "var notebookContainer = gd.closest('#notebook-container');\n",
       "if (notebookContainer) {{\n",
       "    x.observe(notebookContainer, {childList: true});\n",
       "}}\n",
       "\n",
       "// Listen for the clearing of the current output cell\n",
       "var outputEl = gd.closest('.output');\n",
       "if (outputEl) {{\n",
       "    x.observe(outputEl, {childList: true});\n",
       "}}\n",
       "\n",
       "                        })                };                });            </script>        </div>"
      ]
     },
     "metadata": {},
     "output_type": "display_data"
    }
   ],
   "source": [
    "#animated map for student countries by each 'Class of' year\n",
    "figclass = px.scatter_geo(\n",
    "    classdf,\n",
    "    lat=classdf['cclat'],\n",
    "    lon=classdf['cclon'],\n",
    "    color=classdf['ccyear'],\n",
    "    size=classdf['class_count'],\n",
    "    animation_frame = classdf['ccyear'],\n",
    "    hover_name= classdf['cc'],\n",
    "    hover_data= [classdf['class_count'], classdf['ccyear']],\n",
    "    projection = 'natural earth',\n",
    "    #projection = 'winkel tripel',\n",
    ")\n",
    "\n",
    "figclass.show()"
   ]
  },
  {
   "cell_type": "code",
   "execution_count": null,
   "metadata": {},
   "outputs": [],
   "source": []
  }
 ],
 "metadata": {
  "kernelspec": {
   "display_name": "Python 3",
   "language": "python",
   "name": "python3"
  },
  "language_info": {
   "codemirror_mode": {
    "name": "ipython",
    "version": 3
   },
   "file_extension": ".py",
   "mimetype": "text/x-python",
   "name": "python",
   "nbconvert_exporter": "python",
   "pygments_lexer": "ipython3",
   "version": "3.8.5"
  }
 },
 "nbformat": 4,
 "nbformat_minor": 4
}
